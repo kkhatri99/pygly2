{
 "cells": [
  {
   "cell_type": "code",
   "execution_count": 1,
   "metadata": {
    "collapsed": false
   },
   "outputs": [],
   "source": [
    "import logging\n",
    "logging.basicConfig(level=\"DEBUG\")\n",
    "from pygly2 import plot\n",
    "from pygly2.composition import composition_transform\n",
    "from pygly2.algorithms import database\n",
    "\n",
    "from pygly2.search.hypothesis import ms2_fragment_database_hypothesis, ms1_composition_hypothesis\n",
    "from pygly2.search import spectra, matching\n",
    "from pygly2.search.spectra import bupid_topdown_deconvoluter\n",
    "\n",
    "from IPython.display import display\n",
    "\n",
    "%matplotlib inline\n",
    "%config InlineBackend.figure_formats=['svg']\n",
    "import matplotlib\n",
    "matplotlib.rcParams['figure.figsize'] = 12, 8\n",
    "from matplotlib import pyplot as plt\n",
    "\n",
    "deutero = ms2_fragment_database_hypothesis.deuteroreduced_permethylated_mass\n",
    "indb = database.RecordDatabase(\"./test_data/human_n_glycan.db\")\n",
    "outdb = database.RecordDatabase(\"./test_data/deuteroreduced_permethylated_human_n_glycan.db\")"
   ]
  },
  {
   "cell_type": "code",
   "execution_count": 2,
   "metadata": {
    "collapsed": false
   },
   "outputs": [],
   "source": [
    "deutero = ms2_fragment_database_hypothesis.deuteroreduced_permethylated_mass\n",
    "outdb = ms2_fragment_database_hypothesis.prepare_database(indb, outdb,\n",
    "                                                          mass_transform_parameters={\"derivatize_fn\": deutero})"
   ]
  },
  {
   "cell_type": "code",
   "execution_count": 4,
   "metadata": {
    "collapsed": false
   },
   "outputs": [],
   "source": [
    "from pygly2.search import spectra, matching\n",
    "from pygly2.search.spectra import bupid_topdown_deconvoluter"
   ]
  },
  {
   "cell_type": "code",
   "execution_count": 5,
   "metadata": {
    "collapsed": false
   },
   "outputs": [],
   "source": [
    "obs = bupid_topdown_deconvoluter.BUPIDYamlParser(\"./test_data/20141128_05_AGP_deutero_reduced_permeth.yaml\")\n",
    "obs_db = obs.to_db()"
   ]
  },
  {
   "cell_type": "code",
   "execution_count": 6,
   "metadata": {
    "collapsed": false
   },
   "outputs": [],
   "source": [
    "results = []\n",
    "for theo in outdb:\n",
    "    res = matching.find_matches(theo, obs_db)\n",
    "    if len(res.matches) > 0:\n",
    "        results.append(res)"
   ]
  },
  {
   "cell_type": "code",
   "execution_count": 13,
   "metadata": {
    "collapsed": false,
    "scrolled": false
   },
   "outputs": [
    {
     "data": {
      "text/plain": [
       "0"
      ]
     },
     "metadata": {},
     "output_type": "display_data"
    },
    {
     "data": {
      "text/plain": [
       "2772.45166968723"
      ]
     },
     "metadata": {},
     "output_type": "display_data"
    },
    {
     "data": {
      "text/plain": [
       "'Fragments Observed / Expected: 0.082'"
      ]
     },
     "metadata": {},
     "output_type": "display_data"
    },
    {
     "data": {
      "text/plain": [
       "'Bd1 259.143858 1 [402.458347]'"
      ]
     },
     "metadata": {},
     "output_type": "display_data"
    },
    {
     "data": {
      "text/plain": [
       "'Bf2 463.242548 1 [2560.307163]'"
      ]
     },
     "metadata": {},
     "output_type": "display_data"
    },
    {
     "data": {
      "text/plain": [
       "'Be2 463.242548 1 [2560.307163]'"
      ]
     },
     "metadata": {},
     "output_type": "display_data"
    },
    {
     "data": {
      "text/plain": [
       "'Bc2 463.242548 1 [2560.307163]'"
      ]
     },
     "metadata": {},
     "output_type": "display_data"
    },
    {
     "data": {
      "text/plain": [
       "'0,3A4 1016.531868 1 [114.651326]'"
      ]
     },
     "metadata": {},
     "output_type": "display_data"
    },
    {
     "data": {
      "text/plain": [
       "'Ca1 1134.57766 1 [365.562689]'"
      ]
     },
     "metadata": {},
     "output_type": "display_data"
    },
    {
     "data": {
      "text/plain": [
       "'1,4Xc5 2395.216735 1 [2147.959375]'"
      ]
     },
     "metadata": {},
     "output_type": "display_data"
    },
    {
     "data": {
      "text/plain": [
       "'1,4Xe4 2395.216735 1 [2147.959375]'"
      ]
     },
     "metadata": {},
     "output_type": "display_data"
    },
    {
     "data": {
      "text/plain": [
       "'1,4Xf4 2395.216735 1 [2147.959375]'"
      ]
     },
     "metadata": {},
     "output_type": "display_data"
    },
    {
     "data": {
      "text/plain": [
       "'B5 2464.248404 1 [40002.746088]'"
      ]
     },
     "metadata": {},
     "output_type": "display_data"
    },
    {
     "data": {
      "text/plain": [
       "'Yd4 2513.350875 1 [11460.879836]'"
      ]
     },
     "metadata": {},
     "output_type": "display_data"
    },
    {
     "data": {
      "text/plain": [
       "'1,3X1 2643.408854 1 [76.196325]'"
      ]
     },
     "metadata": {},
     "output_type": "display_data"
    },
    {
     "data": {
      "text/plain": [
       "'1,3Xe4 2643.408854 1 [76.196325]'"
      ]
     },
     "metadata": {},
     "output_type": "display_data"
    },
    {
     "data": {
      "text/plain": [
       "'1,3Xf4 2643.408854 1 [76.196325]'"
      ]
     },
     "metadata": {},
     "output_type": "display_data"
    },
    {
     "data": {
      "text/plain": [
       "'1,3Xc4 2643.408854 1 [76.196325]'"
      ]
     },
     "metadata": {},
     "output_type": "display_data"
    },
    {
     "data": {
      "text/plain": [
       "'1,3Xc5 2643.408854 1 [76.196325]'"
      ]
     },
     "metadata": {},
     "output_type": "display_data"
    },
    {
     "data": {
      "image/svg+xml": [
       "<?xml version=\"1.0\" encoding=\"utf-8\" standalone=\"no\"?>\n",
       "<!DOCTYPE svg PUBLIC \"-//W3C//DTD SVG 1.1//EN\"\n",
       "  \"http://www.w3.org/Graphics/SVG/1.1/DTD/svg11.dtd\">\n",
       "<!-- Created with matplotlib (http://matplotlib.org/) -->\n",
       "<svg height=\"460pt\" version=\"1.1\" viewBox=\"0 0 683 460\" width=\"683pt\" xmlns=\"http://www.w3.org/2000/svg\" xmlns:xlink=\"http://www.w3.org/1999/xlink\">\n",
       " <defs>\n",
       "  <style type=\"text/css\">\n",
       "*{stroke-linecap:butt;stroke-linejoin:round;}\n",
       "  </style>\n",
       " </defs>\n",
       " <g id=\"figure_1\">\n",
       "  <g id=\"patch_1\">\n",
       "   <path d=\"\n",
       "M0 460.8\n",
       "L684 460.8\n",
       "L684 0\n",
       "L0 0\n",
       "L0 460.8\" style=\"fill:none;\"/>\n",
       "  </g>\n",
       "  <g id=\"axes_1\">\n",
       "   <g id=\"patch_2\">\n",
       "    <path d=\"\n",
       "M7.2 453.6\n",
       "L676.8 453.6\n",
       "L676.8 7.2\n",
       "L7.2 7.2\n",
       "L7.2 453.6\" style=\"fill:none;\"/>\n",
       "   </g>\n",
       "   <g id=\"line2d_1\">\n",
       "    <path clip-path=\"url(#p6c8687bb8d)\" d=\"\n",
       "M251.95 303.55\n",
       "L191.917 303.55\" style=\"fill:none;stroke:#000000;stroke-linecap:square;\"/>\n",
       "   </g>\n",
       "   <g id=\"line2d_2\">\n",
       "    <path clip-path=\"url(#p6c8687bb8d)\" d=\"\n",
       "M311.983 279.166\n",
       "L251.95 303.55\" style=\"fill:none;stroke:#000000;stroke-linecap:square;\"/>\n",
       "   </g>\n",
       "   <g id=\"line2d_3\">\n",
       "    <path clip-path=\"url(#p6c8687bb8d)\" d=\"\n",
       "M251.95 254.783\n",
       "L191.917 254.783\" style=\"fill:none;stroke:#000000;stroke-linecap:square;\"/>\n",
       "   </g>\n",
       "   <g id=\"line2d_4\">\n",
       "    <path clip-path=\"url(#p6c8687bb8d)\" d=\"\n",
       "M311.983 279.166\n",
       "L251.95 254.783\" style=\"fill:none;stroke:#000000;stroke-linecap:square;\"/>\n",
       "   </g>\n",
       "   <g id=\"line2d_5\">\n",
       "    <path clip-path=\"url(#p6c8687bb8d)\" d=\"\n",
       "M372.017 230.4\n",
       "L311.983 279.166\" style=\"fill:none;stroke:#000000;stroke-linecap:square;\"/>\n",
       "   </g>\n",
       "   <g id=\"line2d_6\">\n",
       "    <path clip-path=\"url(#p6c8687bb8d)\" d=\"\n",
       "M251.95 206.017\n",
       "L191.917 206.017\" style=\"fill:none;stroke:#000000;stroke-linecap:square;\"/>\n",
       "   </g>\n",
       "   <g id=\"line2d_7\">\n",
       "    <path clip-path=\"url(#p6c8687bb8d)\" d=\"\n",
       "M311.983 181.634\n",
       "L251.95 206.017\" style=\"fill:none;stroke:#000000;stroke-linecap:square;\"/>\n",
       "   </g>\n",
       "   <g id=\"line2d_8\">\n",
       "    <path clip-path=\"url(#p6c8687bb8d)\" d=\"\n",
       "M311.983 181.634\n",
       "L251.95 157.25\" style=\"fill:none;stroke:#000000;stroke-linecap:square;\"/>\n",
       "   </g>\n",
       "   <g id=\"line2d_9\">\n",
       "    <path clip-path=\"url(#p6c8687bb8d)\" d=\"\n",
       "M372.017 230.4\n",
       "L311.983 181.634\" style=\"fill:none;stroke:#000000;stroke-linecap:square;\"/>\n",
       "   </g>\n",
       "   <g id=\"line2d_10\">\n",
       "    <path clip-path=\"url(#p6c8687bb8d)\" d=\"\n",
       "M432.05 230.4\n",
       "L372.017 230.4\" style=\"fill:none;stroke:#000000;stroke-linecap:square;\"/>\n",
       "   </g>\n",
       "   <g id=\"line2d_11\">\n",
       "    <path clip-path=\"url(#p6c8687bb8d)\" d=\"\n",
       "M492.083 230.4\n",
       "L432.05 230.4\" style=\"fill:none;stroke:#000000;stroke-linecap:square;\"/>\n",
       "   </g>\n",
       "   <g id=\"RES-1b-o-dglc-HEX-0-0-1-aldi-2s-n-acetyl-LIN-1-1d-2+1-2n-1\">\n",
       "    <path clip-path=\"url(#p6c8687bb8d)\" d=\"\n",
       "M501.319 222.897\n",
       "L501.319 237.903\n",
       "L482.847 237.903\n",
       "L482.847 222.897\n",
       "L501.319 222.897\n",
       "z\n",
       "\" style=\"fill:#0000ff;stroke:#000000;stroke-linejoin:miter;\"/>\n",
       "   </g>\n",
       "   <g id=\"RES-1b-b-dglc-HEX-1-5-2s-n-acetyl-LIN-1-1d-2+1-2n-2\">\n",
       "    <path clip-path=\"url(#p6c8687bb8d)\" d=\"\n",
       "M441.286 222.897\n",
       "L441.286 237.903\n",
       "L422.814 237.903\n",
       "L422.814 222.897\n",
       "L441.286 222.897\n",
       "z\n",
       "\" style=\"fill:#0000ff;stroke:#000000;stroke-linejoin:miter;\"/>\n",
       "   </g>\n",
       "   <g id=\"RES-1b-b-dman-HEX-1-5-3\">\n",
       "    <path clip-path=\"url(#p6c8687bb8d)\" d=\"\n",
       "M372.017 237.903\n",
       "C374.466 237.903 376.815 237.112 378.547 235.705\n",
       "C380.279 234.298 381.252 232.39 381.252 230.4\n",
       "C381.252 228.41 380.279 226.502 378.547 225.095\n",
       "C376.815 223.688 374.466 222.897 372.017 222.897\n",
       "C369.567 222.897 367.218 223.688 365.486 225.095\n",
       "C363.754 226.502 362.781 228.41 362.781 230.4\n",
       "C362.781 232.39 363.754 234.298 365.486 235.705\n",
       "C367.218 237.112 369.567 237.903 372.017 237.903\n",
       "z\n",
       "\" style=\"fill:#008000;stroke:#000000;stroke-linejoin:miter;\"/>\n",
       "   </g>\n",
       "   <g id=\"RES-1b-a-dman-HEX-1-5-8\">\n",
       "    <path clip-path=\"url(#p6c8687bb8d)\" d=\"\n",
       "M311.983 286.669\n",
       "C314.433 286.669 316.782 285.878 318.514 284.471\n",
       "C320.246 283.065 321.219 281.156 321.219 279.166\n",
       "C321.219 277.177 320.246 275.268 318.514 273.861\n",
       "C316.782 272.454 314.433 271.664 311.983 271.664\n",
       "C309.534 271.664 307.185 272.454 305.453 273.861\n",
       "C303.721 275.268 302.748 277.177 302.748 279.166\n",
       "C302.748 281.156 303.721 283.065 305.453 284.471\n",
       "C307.185 285.878 309.534 286.669 311.983 286.669\n",
       "z\n",
       "\" style=\"fill:#008000;stroke:#000000;stroke-linejoin:miter;\"/>\n",
       "   </g>\n",
       "   <g id=\"RES-1b-b-dglc-HEX-1-5-2s-n-acetyl-LIN-1-1d-2+1-2n-11\">\n",
       "    <path clip-path=\"url(#p6c8687bb8d)\" d=\"\n",
       "M261.186 296.047\n",
       "L261.186 311.052\n",
       "L242.714 311.052\n",
       "L242.714 296.047\n",
       "L261.186 296.047\n",
       "z\n",
       "\" style=\"fill:#0000ff;stroke:#000000;stroke-linejoin:miter;\"/>\n",
       "   </g>\n",
       "   <g id=\"RES-1b-b-dgal-HEX-1-5-12\">\n",
       "    <path clip-path=\"url(#p6c8687bb8d)\" d=\"\n",
       "M191.917 311.052\n",
       "C194.367 311.052 196.716 310.262 198.448 308.855\n",
       "C200.18 307.448 201.153 305.539 201.153 303.55\n",
       "C201.153 301.56 200.18 299.651 198.448 298.244\n",
       "C196.716 296.838 194.367 296.047 191.917 296.047\n",
       "C189.468 296.047 187.118 296.838 185.387 298.244\n",
       "C183.655 299.651 182.681 301.56 182.681 303.55\n",
       "C182.681 305.539 183.655 307.448 185.387 308.855\n",
       "C187.118 310.262 189.468 311.052 191.917 311.052\n",
       "z\n",
       "\" style=\"fill:#ffff00;stroke:#000000;stroke-linejoin:miter;\"/>\n",
       "   </g>\n",
       "   <g id=\"RES-1b-b-dglc-HEX-1-5-2s-n-acetyl-LIN-1-1d-2+1-2n-9\">\n",
       "    <path clip-path=\"url(#p6c8687bb8d)\" d=\"\n",
       "M261.186 247.281\n",
       "L261.186 262.286\n",
       "L242.714 262.286\n",
       "L242.714 247.281\n",
       "L261.186 247.281\n",
       "z\n",
       "\" style=\"fill:#0000ff;stroke:#000000;stroke-linejoin:miter;\"/>\n",
       "   </g>\n",
       "   <g id=\"RES-1b-b-dgal-HEX-1-5-10\">\n",
       "    <path clip-path=\"url(#p6c8687bb8d)\" d=\"\n",
       "M191.917 262.286\n",
       "C194.367 262.286 196.716 261.495 198.448 260.088\n",
       "C200.18 258.681 201.153 256.773 201.153 254.783\n",
       "C201.153 252.794 200.18 250.885 198.448 249.478\n",
       "C196.716 248.071 194.367 247.281 191.917 247.281\n",
       "C189.468 247.281 187.118 248.071 185.387 249.478\n",
       "C183.655 250.885 182.681 252.794 182.681 254.783\n",
       "C182.681 256.773 183.655 258.681 185.387 260.088\n",
       "C187.118 261.495 189.468 262.286 191.917 262.286\n",
       "z\n",
       "\" style=\"fill:#ffff00;stroke:#000000;stroke-linejoin:miter;\"/>\n",
       "   </g>\n",
       "   <g id=\"RES-1b-a-dman-HEX-1-5-4\">\n",
       "    <path clip-path=\"url(#p6c8687bb8d)\" d=\"\n",
       "M311.983 189.136\n",
       "C314.433 189.136 316.782 188.346 318.514 186.939\n",
       "C320.246 185.532 321.219 183.623 321.219 181.634\n",
       "C321.219 179.644 320.246 177.735 318.514 176.329\n",
       "C316.782 174.922 314.433 174.131 311.983 174.131\n",
       "C309.534 174.131 307.185 174.922 305.453 176.329\n",
       "C303.721 177.735 302.748 179.644 302.748 181.634\n",
       "C302.748 183.623 303.721 185.532 305.453 186.939\n",
       "C307.185 188.346 309.534 189.136 311.983 189.136\n",
       "z\n",
       "\" style=\"fill:#008000;stroke:#000000;stroke-linejoin:miter;\"/>\n",
       "   </g>\n",
       "   <g id=\"RES-1b-b-dglc-HEX-1-5-2s-n-acetyl-LIN-1-1d-2+1-2n-6\">\n",
       "    <path clip-path=\"url(#p6c8687bb8d)\" d=\"\n",
       "M261.186 198.514\n",
       "L261.186 213.519\n",
       "L242.714 213.519\n",
       "L242.714 198.514\n",
       "L261.186 198.514\n",
       "z\n",
       "\" style=\"fill:#0000ff;stroke:#000000;stroke-linejoin:miter;\"/>\n",
       "   </g>\n",
       "   <g id=\"RES-1b-b-dgal-HEX-1-5-7\">\n",
       "    <path clip-path=\"url(#p6c8687bb8d)\" d=\"\n",
       "M191.917 213.519\n",
       "C194.367 213.519 196.716 212.729 198.448 211.322\n",
       "C200.18 209.915 201.153 208.006 201.153 206.017\n",
       "C201.153 204.027 200.18 202.119 198.448 200.712\n",
       "C196.716 199.305 194.367 198.514 191.917 198.514\n",
       "C189.468 198.514 187.118 199.305 185.387 200.712\n",
       "C183.655 202.119 182.681 204.027 182.681 206.017\n",
       "C182.681 208.006 183.655 209.915 185.387 211.322\n",
       "C187.118 212.729 189.468 213.519 191.917 213.519\n",
       "z\n",
       "\" style=\"fill:#ffff00;stroke:#000000;stroke-linejoin:miter;\"/>\n",
       "   </g>\n",
       "   <g id=\"RES-1b-b-dglc-HEX-1-5-2s-n-acetyl-LIN-1-1d-2+1-2n-5\">\n",
       "    <path clip-path=\"url(#p6c8687bb8d)\" d=\"\n",
       "M261.186 149.748\n",
       "L261.186 164.753\n",
       "L242.714 164.753\n",
       "L242.714 149.748\n",
       "L261.186 149.748\n",
       "z\n",
       "\" style=\"fill:#0000ff;stroke:#000000;stroke-linejoin:miter;\"/>\n",
       "   </g>\n",
       "   <g id=\"patch_3\">\n",
       "    <path d=\"\n",
       "M7.2 7.2\n",
       "L676.8 7.2\" style=\"fill:none;stroke:#000000;stroke-linecap:square;stroke-linejoin:miter;\"/>\n",
       "   </g>\n",
       "   <g id=\"patch_4\">\n",
       "    <path d=\"\n",
       "M676.8 453.6\n",
       "L676.8 7.2\" style=\"fill:none;stroke:#000000;stroke-linecap:square;stroke-linejoin:miter;\"/>\n",
       "   </g>\n",
       "   <g id=\"patch_5\">\n",
       "    <path d=\"\n",
       "M7.2 453.6\n",
       "L676.8 453.6\" style=\"fill:none;stroke:#000000;stroke-linecap:square;stroke-linejoin:miter;\"/>\n",
       "   </g>\n",
       "   <g id=\"patch_6\">\n",
       "    <path d=\"\n",
       "M7.2 453.6\n",
       "L7.2 7.2\" style=\"fill:none;stroke:#000000;stroke-linecap:square;stroke-linejoin:miter;\"/>\n",
       "   </g>\n",
       "   <g id=\"line2d_12\">\n",
       "    <path clip-path=\"url(#p6c8687bb8d)\" d=\"\n",
       "M263.495 184.447\n",
       "L300.439 154.437\" style=\"fill:none;stroke:#ff0000;stroke-linecap:square;\"/>\n",
       "   </g>\n",
       "   <g id=\"line2d_13\">\n",
       "    <path clip-path=\"url(#p6c8687bb8d)\" d=\"\n",
       "M263.495 281.98\n",
       "L300.439 251.97\" style=\"fill:none;stroke:#ff0000;stroke-linecap:square;\"/>\n",
       "   </g>\n",
       "   <g id=\"line2d_14\">\n",
       "    <path clip-path=\"url(#p6c8687bb8d)\" d=\"\n",
       "M263.495 276.353\n",
       "L300.439 306.363\" style=\"fill:none;stroke:#ff0000;stroke-linecap:square;\"/>\n",
       "   </g>\n",
       "   <g id=\"line2d_15\">\n",
       "    <path clip-path=\"url(#p6c8687bb8d)\" d=\"\n",
       "M263.495 178.82\n",
       "L300.439 208.83\" style=\"fill:none;stroke:#ff0000;stroke-linecap:square;\"/>\n",
       "   </g>\n",
       "   <g id=\"line2d_16\">\n",
       "    <path clip-path=\"url(#p6c8687bb8d)\" d=\"\n",
       "M353.545 215.395\n",
       "L390.488 245.405\" style=\"fill:none;stroke:#ff0000;stroke-linecap:square;\"/>\n",
       "   </g>\n",
       "   <g id=\"line2d_17\">\n",
       "    <path clip-path=\"url(#p6c8687bb8d)\" d=\"\n",
       "M323.528 239.778\n",
       "L360.472 269.788\" style=\"fill:none;stroke:#ff0000;stroke-linecap:square;\"/>\n",
       "   </g>\n",
       "   <g id=\"line2d_18\">\n",
       "    <path clip-path=\"url(#p6c8687bb8d)\" d=\"\n",
       "M233.479 191.012\n",
       "L270.422 221.022\" style=\"fill:none;stroke:#ff0000;stroke-linecap:square;\"/>\n",
       "   </g>\n",
       "   <g id=\"line2d_19\">\n",
       "    <path clip-path=\"url(#p6c8687bb8d)\" d=\"\n",
       "M233.479 288.545\n",
       "L270.422 318.555\" style=\"fill:none;stroke:#ff0000;stroke-linecap:square;\"/>\n",
       "   </g>\n",
       "   <g id=\"line2d_20\">\n",
       "    <path clip-path=\"url(#p6c8687bb8d)\" d=\"\n",
       "M233.479 239.778\n",
       "L270.422 269.788\" style=\"fill:none;stroke:#ff0000;stroke-linecap:square;\"/>\n",
       "   </g>\n",
       "   <g id=\"line2d_21\">\n",
       "    <path clip-path=\"url(#p6c8687bb8d)\" d=\"\n",
       "M462.066 215.395\n",
       "L462.066 245.405\" style=\"fill:none;stroke:#ff0000;stroke-linecap:square;\"/>\n",
       "   </g>\n",
       "   <g id=\"line2d_22\">\n",
       "    <path clip-path=\"url(#p6c8687bb8d)\" d=\"\n",
       "M263.495 184.447\n",
       "L300.439 154.437\" style=\"fill:none;stroke:#ff0000;stroke-linecap:square;\"/>\n",
       "   </g>\n",
       "   <g id=\"line2d_23\">\n",
       "    <path clip-path=\"url(#p6c8687bb8d)\" d=\"\n",
       "M413.578 215.395\n",
       "L450.521 245.405\" style=\"fill:none;stroke:#ff0000;stroke-linecap:square;\"/>\n",
       "   </g>\n",
       "   <g id=\"line2d_24\">\n",
       "    <path clip-path=\"url(#p6c8687bb8d)\" d=\"\n",
       "M233.479 288.545\n",
       "L270.422 318.555\" style=\"fill:none;stroke:#ff0000;stroke-linecap:square;\"/>\n",
       "   </g>\n",
       "   <g id=\"line2d_25\">\n",
       "    <path clip-path=\"url(#p6c8687bb8d)\" d=\"\n",
       "M233.479 239.778\n",
       "L270.422 269.788\" style=\"fill:none;stroke:#ff0000;stroke-linecap:square;\"/>\n",
       "   </g>\n",
       "   <g id=\"line2d_26\">\n",
       "    <path clip-path=\"url(#p6c8687bb8d)\" d=\"\n",
       "M233.479 142.245\n",
       "L270.422 172.255\" style=\"fill:none;stroke:#ff0000;stroke-linecap:square;\"/>\n",
       "   </g>\n",
       "   <g id=\"line2d_27\">\n",
       "    <path clip-path=\"url(#p6c8687bb8d)\" d=\"\n",
       "M233.479 191.012\n",
       "L270.422 221.022\" style=\"fill:none;stroke:#ff0000;stroke-linecap:square;\"/>\n",
       "   </g>\n",
       "  </g>\n",
       " </g>\n",
       " <defs>\n",
       "  <clipPath id=\"p6c8687bb8d\">\n",
       "   <rect height=\"446.4\" width=\"669.6\" x=\"7.2\" y=\"7.2\"/>\n",
       "  </clipPath>\n",
       " </defs>\n",
       "</svg>\n"
      ],
      "text/plain": [
       "<matplotlib.figure.Figure at 0x1754d908>"
      ]
     },
     "metadata": {},
     "output_type": "display_data"
    },
    {
     "data": {
      "text/plain": [
       "1"
      ]
     },
     "metadata": {},
     "output_type": "display_data"
    },
    {
     "data": {
      "text/plain": [
       "2772.45166968723"
      ]
     },
     "metadata": {},
     "output_type": "display_data"
    },
    {
     "data": {
      "text/plain": [
       "'Fragments Observed / Expected: 0.084'"
      ]
     },
     "metadata": {},
     "output_type": "display_data"
    },
    {
     "data": {
      "text/plain": [
       "'Bb1 259.143858 1 [402.458347]'"
      ]
     },
     "metadata": {},
     "output_type": "display_data"
    },
    {
     "data": {
      "text/plain": [
       "'Bd1 463.242548 1 [2560.307163]'"
      ]
     },
     "metadata": {},
     "output_type": "display_data"
    },
    {
     "data": {
      "text/plain": [
       "'Bd2 463.242548 1 [2560.307163]'"
      ]
     },
     "metadata": {},
     "output_type": "display_data"
    },
    {
     "data": {
      "text/plain": [
       "'Be1 463.242548 1 [2560.307163]'"
      ]
     },
     "metadata": {},
     "output_type": "display_data"
    },
    {
     "data": {
      "text/plain": [
       "'0,3A4 1016.531868 1 [114.651326]'"
      ]
     },
     "metadata": {},
     "output_type": "display_data"
    },
    {
     "data": {
      "text/plain": [
       "'Ca1 1134.57766 1 [365.562689]'"
      ]
     },
     "metadata": {},
     "output_type": "display_data"
    },
    {
     "data": {
      "text/plain": [
       "'1,4Xc5 2395.216735 1 [2147.959375]'"
      ]
     },
     "metadata": {},
     "output_type": "display_data"
    },
    {
     "data": {
      "text/plain": [
       "'1,4Xe4 2395.216735 1 [2147.959375]'"
      ]
     },
     "metadata": {},
     "output_type": "display_data"
    },
    {
     "data": {
      "text/plain": [
       "'1,4Xc3 2395.216735 1 [2147.959375]'"
      ]
     },
     "metadata": {},
     "output_type": "display_data"
    },
    {
     "data": {
      "text/plain": [
       "'B5 2464.248404 1 [40002.746088]'"
      ]
     },
     "metadata": {},
     "output_type": "display_data"
    },
    {
     "data": {
      "text/plain": [
       "'Yb3 2513.350875 1 [11460.879836]'"
      ]
     },
     "metadata": {},
     "output_type": "display_data"
    },
    {
     "data": {
      "text/plain": [
       "'1,3X1 2643.408854 1 [76.196325]'"
      ]
     },
     "metadata": {},
     "output_type": "display_data"
    },
    {
     "data": {
      "text/plain": [
       "'1,3Xe4 2643.408854 1 [76.196325]'"
      ]
     },
     "metadata": {},
     "output_type": "display_data"
    },
    {
     "data": {
      "text/plain": [
       "'1,3Xd4 2643.408854 1 [76.196325]'"
      ]
     },
     "metadata": {},
     "output_type": "display_data"
    },
    {
     "data": {
      "text/plain": [
       "'1,3Xc5 2643.408854 1 [76.196325]'"
      ]
     },
     "metadata": {},
     "output_type": "display_data"
    },
    {
     "data": {
      "text/plain": [
       "'1,3Xc3 2643.408854 1 [76.196325]'"
      ]
     },
     "metadata": {},
     "output_type": "display_data"
    },
    {
     "data": {
      "image/svg+xml": [
       "<?xml version=\"1.0\" encoding=\"utf-8\" standalone=\"no\"?>\n",
       "<!DOCTYPE svg PUBLIC \"-//W3C//DTD SVG 1.1//EN\"\n",
       "  \"http://www.w3.org/Graphics/SVG/1.1/DTD/svg11.dtd\">\n",
       "<!-- Created with matplotlib (http://matplotlib.org/) -->\n",
       "<svg height=\"460pt\" version=\"1.1\" viewBox=\"0 0 683 460\" width=\"683pt\" xmlns=\"http://www.w3.org/2000/svg\" xmlns:xlink=\"http://www.w3.org/1999/xlink\">\n",
       " <defs>\n",
       "  <style type=\"text/css\">\n",
       "*{stroke-linecap:butt;stroke-linejoin:round;}\n",
       "  </style>\n",
       " </defs>\n",
       " <g id=\"figure_1\">\n",
       "  <g id=\"patch_1\">\n",
       "   <path d=\"\n",
       "M0 460.8\n",
       "L684 460.8\n",
       "L684 0\n",
       "L0 0\n",
       "L0 460.8\" style=\"fill:none;\"/>\n",
       "  </g>\n",
       "  <g id=\"axes_1\">\n",
       "   <g id=\"patch_2\">\n",
       "    <path d=\"\n",
       "M7.2 453.6\n",
       "L676.8 453.6\n",
       "L676.8 7.2\n",
       "L7.2 7.2\n",
       "L7.2 453.6\" style=\"fill:none;\"/>\n",
       "   </g>\n",
       "   <g id=\"line2d_1\">\n",
       "    <path clip-path=\"url(#p6c8687bb8d)\" d=\"\n",
       "M251.95 294.88\n",
       "L191.917 294.88\" style=\"fill:none;stroke:#000000;stroke-linecap:square;\"/>\n",
       "   </g>\n",
       "   <g id=\"line2d_2\">\n",
       "    <path clip-path=\"url(#p6c8687bb8d)\" d=\"\n",
       "M311.983 269.088\n",
       "L251.95 294.88\" style=\"fill:none;stroke:#000000;stroke-linecap:square;\"/>\n",
       "   </g>\n",
       "   <g id=\"line2d_3\">\n",
       "    <path clip-path=\"url(#p6c8687bb8d)\" d=\"\n",
       "M251.95 243.296\n",
       "L191.917 243.296\" style=\"fill:none;stroke:#000000;stroke-linecap:square;\"/>\n",
       "   </g>\n",
       "   <g id=\"line2d_4\">\n",
       "    <path clip-path=\"url(#p6c8687bb8d)\" d=\"\n",
       "M311.983 269.088\n",
       "L251.95 243.296\" style=\"fill:none;stroke:#000000;stroke-linecap:square;\"/>\n",
       "   </g>\n",
       "   <g id=\"line2d_5\">\n",
       "    <path clip-path=\"url(#p6c8687bb8d)\" d=\"\n",
       "M372.017 217.504\n",
       "L311.983 269.088\" style=\"fill:none;stroke:#000000;stroke-linecap:square;\"/>\n",
       "   </g>\n",
       "   <g id=\"line2d_6\">\n",
       "    <path clip-path=\"url(#p6c8687bb8d)\" d=\"\n",
       "M372.017 217.504\n",
       "L311.983 217.504\" style=\"fill:none;stroke:#000000;stroke-linecap:square;\"/>\n",
       "   </g>\n",
       "   <g id=\"line2d_7\">\n",
       "    <path clip-path=\"url(#p6c8687bb8d)\" d=\"\n",
       "M251.95 165.92\n",
       "L191.917 165.92\" style=\"fill:none;stroke:#000000;stroke-linecap:square;\"/>\n",
       "   </g>\n",
       "   <g id=\"line2d_8\">\n",
       "    <path clip-path=\"url(#p6c8687bb8d)\" d=\"\n",
       "M311.983 165.92\n",
       "L251.95 165.92\" style=\"fill:none;stroke:#000000;stroke-linecap:square;\"/>\n",
       "   </g>\n",
       "   <g id=\"line2d_9\">\n",
       "    <path clip-path=\"url(#p6c8687bb8d)\" d=\"\n",
       "M372.017 217.504\n",
       "L311.983 165.92\" style=\"fill:none;stroke:#000000;stroke-linecap:square;\"/>\n",
       "   </g>\n",
       "   <g id=\"line2d_10\">\n",
       "    <path clip-path=\"url(#p6c8687bb8d)\" d=\"\n",
       "M432.05 217.504\n",
       "L372.017 217.504\" style=\"fill:none;stroke:#000000;stroke-linecap:square;\"/>\n",
       "   </g>\n",
       "   <g id=\"line2d_11\">\n",
       "    <path clip-path=\"url(#p6c8687bb8d)\" d=\"\n",
       "M492.083 217.504\n",
       "L432.05 217.504\" style=\"fill:none;stroke:#000000;stroke-linecap:square;\"/>\n",
       "   </g>\n",
       "   <g id=\"RES-1b-o-dglc-HEX-0-0-1-aldi-2s-n-acetyl-LIN-1-1d-2+1-2n-1\">\n",
       "    <path clip-path=\"url(#p6c8687bb8d)\" d=\"\n",
       "M501.319 209.568\n",
       "L501.319 225.44\n",
       "L482.847 225.44\n",
       "L482.847 209.568\n",
       "L501.319 209.568\n",
       "z\n",
       "\" style=\"fill:#0000ff;stroke:#000000;stroke-linejoin:miter;\"/>\n",
       "   </g>\n",
       "   <g id=\"RES-1b-b-dglc-HEX-1-5-2s-n-acetyl-LIN-1-1d-2+1-2n-2\">\n",
       "    <path clip-path=\"url(#p6c8687bb8d)\" d=\"\n",
       "M441.286 209.568\n",
       "L441.286 225.44\n",
       "L422.814 225.44\n",
       "L422.814 209.568\n",
       "L441.286 209.568\n",
       "z\n",
       "\" style=\"fill:#0000ff;stroke:#000000;stroke-linejoin:miter;\"/>\n",
       "   </g>\n",
       "   <g id=\"RES-1b-b-dman-HEX-1-5-3\">\n",
       "    <path clip-path=\"url(#p6c8687bb8d)\" d=\"\n",
       "M372.017 225.44\n",
       "C374.466 225.44 376.815 224.604 378.547 223.116\n",
       "C380.279 221.627 381.252 219.609 381.252 217.504\n",
       "C381.252 215.399 380.279 213.381 378.547 211.892\n",
       "C376.815 210.404 374.466 209.568 372.017 209.568\n",
       "C369.567 209.568 367.218 210.404 365.486 211.892\n",
       "C363.754 213.381 362.781 215.399 362.781 217.504\n",
       "C362.781 219.609 363.754 221.627 365.486 223.116\n",
       "C367.218 224.604 369.567 225.44 372.017 225.44\n",
       "z\n",
       "\" style=\"fill:#008000;stroke:#000000;stroke-linejoin:miter;\"/>\n",
       "   </g>\n",
       "   <g id=\"RES-1b-a-dman-HEX-1-5-8\">\n",
       "    <path clip-path=\"url(#p6c8687bb8d)\" d=\"\n",
       "M311.983 277.024\n",
       "C314.433 277.024 316.782 276.188 318.514 274.7\n",
       "C320.246 273.211 321.219 271.193 321.219 269.088\n",
       "C321.219 266.983 320.246 264.965 318.514 263.476\n",
       "C316.782 261.988 314.433 261.152 311.983 261.152\n",
       "C309.534 261.152 307.185 261.988 305.453 263.476\n",
       "C303.721 264.965 302.748 266.983 302.748 269.088\n",
       "C302.748 271.193 303.721 273.211 305.453 274.7\n",
       "C307.185 276.188 309.534 277.024 311.983 277.024\n",
       "z\n",
       "\" style=\"fill:#008000;stroke:#000000;stroke-linejoin:miter;\"/>\n",
       "   </g>\n",
       "   <g id=\"RES-1b-b-dglc-HEX-1-5-2s-n-acetyl-LIN-1-1d-2+1-2n-11\">\n",
       "    <path clip-path=\"url(#p6c8687bb8d)\" d=\"\n",
       "M261.186 286.944\n",
       "L261.186 302.816\n",
       "L242.714 302.816\n",
       "L242.714 286.944\n",
       "L261.186 286.944\n",
       "z\n",
       "\" style=\"fill:#0000ff;stroke:#000000;stroke-linejoin:miter;\"/>\n",
       "   </g>\n",
       "   <g id=\"RES-1b-b-dgal-HEX-1-5-12\">\n",
       "    <path clip-path=\"url(#p6c8687bb8d)\" d=\"\n",
       "M191.917 302.816\n",
       "C194.367 302.816 196.716 301.98 198.448 300.492\n",
       "C200.18 299.003 201.153 296.985 201.153 294.88\n",
       "C201.153 292.775 200.18 290.757 198.448 289.268\n",
       "C196.716 287.78 194.367 286.944 191.917 286.944\n",
       "C189.468 286.944 187.118 287.78 185.387 289.268\n",
       "C183.655 290.757 182.681 292.775 182.681 294.88\n",
       "C182.681 296.985 183.655 299.003 185.387 300.492\n",
       "C187.118 301.98 189.468 302.816 191.917 302.816\n",
       "z\n",
       "\" style=\"fill:#ffff00;stroke:#000000;stroke-linejoin:miter;\"/>\n",
       "   </g>\n",
       "   <g id=\"RES-1b-b-dglc-HEX-1-5-2s-n-acetyl-LIN-1-1d-2+1-2n-9\">\n",
       "    <path clip-path=\"url(#p6c8687bb8d)\" d=\"\n",
       "M261.186 235.36\n",
       "L261.186 251.232\n",
       "L242.714 251.232\n",
       "L242.714 235.36\n",
       "L261.186 235.36\n",
       "z\n",
       "\" style=\"fill:#0000ff;stroke:#000000;stroke-linejoin:miter;\"/>\n",
       "   </g>\n",
       "   <g id=\"RES-1b-b-dgal-HEX-1-5-10\">\n",
       "    <path clip-path=\"url(#p6c8687bb8d)\" d=\"\n",
       "M191.917 251.232\n",
       "C194.367 251.232 196.716 250.396 198.448 248.908\n",
       "C200.18 247.419 201.153 245.401 201.153 243.296\n",
       "C201.153 241.191 200.18 239.173 198.448 237.684\n",
       "C196.716 236.196 194.367 235.36 191.917 235.36\n",
       "C189.468 235.36 187.118 236.196 185.387 237.684\n",
       "C183.655 239.173 182.681 241.191 182.681 243.296\n",
       "C182.681 245.401 183.655 247.419 185.387 248.908\n",
       "C187.118 250.396 189.468 251.232 191.917 251.232\n",
       "z\n",
       "\" style=\"fill:#ffff00;stroke:#000000;stroke-linejoin:miter;\"/>\n",
       "   </g>\n",
       "   <g id=\"RES-1b-b-dglc-HEX-1-5-2s-n-acetyl-LIN-1-1d-2+1-2n-7\">\n",
       "    <path clip-path=\"url(#p6c8687bb8d)\" d=\"\n",
       "M321.219 209.568\n",
       "L321.219 225.44\n",
       "L302.748 225.44\n",
       "L302.748 209.568\n",
       "L321.219 209.568\n",
       "z\n",
       "\" style=\"fill:#0000ff;stroke:#000000;stroke-linejoin:miter;\"/>\n",
       "   </g>\n",
       "   <g id=\"RES-1b-a-dman-HEX-1-5-4\">\n",
       "    <path clip-path=\"url(#p6c8687bb8d)\" d=\"\n",
       "M311.983 173.856\n",
       "C314.433 173.856 316.782 173.02 318.514 171.532\n",
       "C320.246 170.043 321.219 168.025 321.219 165.92\n",
       "C321.219 163.815 320.246 161.797 318.514 160.308\n",
       "C316.782 158.82 314.433 157.984 311.983 157.984\n",
       "C309.534 157.984 307.185 158.82 305.453 160.308\n",
       "C303.721 161.797 302.748 163.815 302.748 165.92\n",
       "C302.748 168.025 303.721 170.043 305.453 171.532\n",
       "C307.185 173.02 309.534 173.856 311.983 173.856\n",
       "z\n",
       "\" style=\"fill:#008000;stroke:#000000;stroke-linejoin:miter;\"/>\n",
       "   </g>\n",
       "   <g id=\"RES-1b-b-dglc-HEX-1-5-2s-n-acetyl-LIN-1-1d-2+1-2n-5\">\n",
       "    <path clip-path=\"url(#p6c8687bb8d)\" d=\"\n",
       "M261.186 157.984\n",
       "L261.186 173.856\n",
       "L242.714 173.856\n",
       "L242.714 157.984\n",
       "L261.186 157.984\n",
       "z\n",
       "\" style=\"fill:#0000ff;stroke:#000000;stroke-linejoin:miter;\"/>\n",
       "   </g>\n",
       "   <g id=\"RES-1b-b-dgal-HEX-1-5-6\">\n",
       "    <path clip-path=\"url(#p6c8687bb8d)\" d=\"\n",
       "M191.917 173.856\n",
       "C194.367 173.856 196.716 173.02 198.448 171.532\n",
       "C200.18 170.043 201.153 168.025 201.153 165.92\n",
       "C201.153 163.815 200.18 161.797 198.448 160.308\n",
       "C196.716 158.82 194.367 157.984 191.917 157.984\n",
       "C189.468 157.984 187.118 158.82 185.387 160.308\n",
       "C183.655 161.797 182.681 163.815 182.681 165.92\n",
       "C182.681 168.025 183.655 170.043 185.387 171.532\n",
       "C187.118 173.02 189.468 173.856 191.917 173.856\n",
       "z\n",
       "\" style=\"fill:#ffff00;stroke:#000000;stroke-linejoin:miter;\"/>\n",
       "   </g>\n",
       "   <g id=\"patch_3\">\n",
       "    <path d=\"\n",
       "M7.2 7.2\n",
       "L676.8 7.2\" style=\"fill:none;stroke:#000000;stroke-linecap:square;stroke-linejoin:miter;\"/>\n",
       "   </g>\n",
       "   <g id=\"patch_4\">\n",
       "    <path d=\"\n",
       "M676.8 453.6\n",
       "L676.8 7.2\" style=\"fill:none;stroke:#000000;stroke-linecap:square;stroke-linejoin:miter;\"/>\n",
       "   </g>\n",
       "   <g id=\"patch_5\">\n",
       "    <path d=\"\n",
       "M7.2 453.6\n",
       "L676.8 453.6\" style=\"fill:none;stroke:#000000;stroke-linecap:square;stroke-linejoin:miter;\"/>\n",
       "   </g>\n",
       "   <g id=\"patch_6\">\n",
       "    <path d=\"\n",
       "M7.2 453.6\n",
       "L7.2 7.2\" style=\"fill:none;stroke:#000000;stroke-linecap:square;stroke-linejoin:miter;\"/>\n",
       "   </g>\n",
       "   <g id=\"line2d_12\">\n",
       "    <path clip-path=\"url(#p6c8687bb8d)\" d=\"\n",
       "M342 201.632\n",
       "L342 233.376\" style=\"fill:none;stroke:#ff0000;stroke-linecap:square;\"/>\n",
       "   </g>\n",
       "   <g id=\"line2d_13\">\n",
       "    <path clip-path=\"url(#p6c8687bb8d)\" d=\"\n",
       "M263.495 272.064\n",
       "L300.439 240.32\" style=\"fill:none;stroke:#ff0000;stroke-linecap:square;\"/>\n",
       "   </g>\n",
       "   <g id=\"line2d_14\">\n",
       "    <path clip-path=\"url(#p6c8687bb8d)\" d=\"\n",
       "M281.967 150.048\n",
       "L281.967 181.792\" style=\"fill:none;stroke:#ff0000;stroke-linecap:square;\"/>\n",
       "   </g>\n",
       "   <g id=\"line2d_15\">\n",
       "    <path clip-path=\"url(#p6c8687bb8d)\" d=\"\n",
       "M263.495 266.112\n",
       "L300.439 297.856\" style=\"fill:none;stroke:#ff0000;stroke-linecap:square;\"/>\n",
       "   </g>\n",
       "   <g id=\"line2d_16\">\n",
       "    <path clip-path=\"url(#p6c8687bb8d)\" d=\"\n",
       "M353.545 201.632\n",
       "L390.488 233.376\" style=\"fill:none;stroke:#ff0000;stroke-linecap:square;\"/>\n",
       "   </g>\n",
       "   <g id=\"line2d_17\">\n",
       "    <path clip-path=\"url(#p6c8687bb8d)\" d=\"\n",
       "M323.528 227.424\n",
       "L360.472 259.168\" style=\"fill:none;stroke:#ff0000;stroke-linecap:square;\"/>\n",
       "   </g>\n",
       "   <g id=\"line2d_18\">\n",
       "    <path clip-path=\"url(#p6c8687bb8d)\" d=\"\n",
       "M233.479 279.008\n",
       "L270.422 310.752\" style=\"fill:none;stroke:#ff0000;stroke-linecap:square;\"/>\n",
       "   </g>\n",
       "   <g id=\"line2d_19\">\n",
       "    <path clip-path=\"url(#p6c8687bb8d)\" d=\"\n",
       "M233.479 150.048\n",
       "L270.422 181.792\" style=\"fill:none;stroke:#ff0000;stroke-linecap:square;\"/>\n",
       "   </g>\n",
       "   <g id=\"line2d_20\">\n",
       "    <path clip-path=\"url(#p6c8687bb8d)\" d=\"\n",
       "M233.479 227.424\n",
       "L270.422 259.168\" style=\"fill:none;stroke:#ff0000;stroke-linecap:square;\"/>\n",
       "   </g>\n",
       "   <g id=\"line2d_21\">\n",
       "    <path clip-path=\"url(#p6c8687bb8d)\" d=\"\n",
       "M462.066 201.632\n",
       "L462.066 233.376\" style=\"fill:none;stroke:#ff0000;stroke-linecap:square;\"/>\n",
       "   </g>\n",
       "   <g id=\"line2d_22\">\n",
       "    <path clip-path=\"url(#p6c8687bb8d)\" d=\"\n",
       "M342 201.632\n",
       "L342 233.376\" style=\"fill:none;stroke:#ff0000;stroke-linecap:square;\"/>\n",
       "   </g>\n",
       "   <g id=\"line2d_23\">\n",
       "    <path clip-path=\"url(#p6c8687bb8d)\" d=\"\n",
       "M413.578 201.632\n",
       "L450.521 233.376\" style=\"fill:none;stroke:#ff0000;stroke-linecap:square;\"/>\n",
       "   </g>\n",
       "   <g id=\"line2d_24\">\n",
       "    <path clip-path=\"url(#p6c8687bb8d)\" d=\"\n",
       "M233.479 150.048\n",
       "L270.422 181.792\" style=\"fill:none;stroke:#ff0000;stroke-linecap:square;\"/>\n",
       "   </g>\n",
       "   <g id=\"line2d_25\">\n",
       "    <path clip-path=\"url(#p6c8687bb8d)\" d=\"\n",
       "M293.512 201.632\n",
       "L330.455 233.376\" style=\"fill:none;stroke:#ff0000;stroke-linecap:square;\"/>\n",
       "   </g>\n",
       "   <g id=\"line2d_26\">\n",
       "    <path clip-path=\"url(#p6c8687bb8d)\" d=\"\n",
       "M233.479 279.008\n",
       "L270.422 310.752\" style=\"fill:none;stroke:#ff0000;stroke-linecap:square;\"/>\n",
       "   </g>\n",
       "   <g id=\"line2d_27\">\n",
       "    <path clip-path=\"url(#p6c8687bb8d)\" d=\"\n",
       "M233.479 227.424\n",
       "L270.422 259.168\" style=\"fill:none;stroke:#ff0000;stroke-linecap:square;\"/>\n",
       "   </g>\n",
       "  </g>\n",
       " </g>\n",
       " <defs>\n",
       "  <clipPath id=\"p6c8687bb8d\">\n",
       "   <rect height=\"446.4\" width=\"669.6\" x=\"7.2\" y=\"7.2\"/>\n",
       "  </clipPath>\n",
       " </defs>\n",
       "</svg>\n"
      ],
      "text/plain": [
       "<matplotlib.figure.Figure at 0xf92ff98>"
      ]
     },
     "metadata": {},
     "output_type": "display_data"
    },
    {
     "data": {
      "text/plain": [
       "2"
      ]
     },
     "metadata": {},
     "output_type": "display_data"
    },
    {
     "data": {
      "text/plain": [
       "2772.4516696872297"
      ]
     },
     "metadata": {},
     "output_type": "display_data"
    },
    {
     "data": {
      "text/plain": [
       "'Fragments Observed / Expected: 0.079'"
      ]
     },
     "metadata": {},
     "output_type": "display_data"
    },
    {
     "data": {
      "text/plain": [
       "'Bb1 259.143858 1 [402.458347]'"
      ]
     },
     "metadata": {},
     "output_type": "display_data"
    },
    {
     "data": {
      "text/plain": [
       "'Bd2 463.242548 1 [2560.307163]'"
      ]
     },
     "metadata": {},
     "output_type": "display_data"
    },
    {
     "data": {
      "text/plain": [
       "'Be2 463.242548 1 [2560.307163]'"
      ]
     },
     "metadata": {},
     "output_type": "display_data"
    },
    {
     "data": {
      "text/plain": [
       "'Ba2 463.242548 1 [2560.307163]'"
      ]
     },
     "metadata": {},
     "output_type": "display_data"
    },
    {
     "data": {
      "text/plain": [
       "'Cc1 1134.57766 1 [365.562689]'"
      ]
     },
     "metadata": {},
     "output_type": "display_data"
    },
    {
     "data": {
      "text/plain": [
       "'1,4Xa4 2395.216735 1 [2147.959375]'"
      ]
     },
     "metadata": {},
     "output_type": "display_data"
    },
    {
     "data": {
      "text/plain": [
       "'1,4Xd4 2395.216735 1 [2147.959375]'"
      ]
     },
     "metadata": {},
     "output_type": "display_data"
    },
    {
     "data": {
      "text/plain": [
       "'1,4Xe4 2395.216735 1 [2147.959375]'"
      ]
     },
     "metadata": {},
     "output_type": "display_data"
    },
    {
     "data": {
      "text/plain": [
       "'B5 2464.248404 1 [40002.746088]'"
      ]
     },
     "metadata": {},
     "output_type": "display_data"
    },
    {
     "data": {
      "text/plain": [
       "'Yb3 2513.350875 1 [11460.879836]'"
      ]
     },
     "metadata": {},
     "output_type": "display_data"
    },
    {
     "data": {
      "text/plain": [
       "'1,3X1 2643.408854 1 [76.196325]'"
      ]
     },
     "metadata": {},
     "output_type": "display_data"
    },
    {
     "data": {
      "text/plain": [
       "'1,3Xe4 2643.408854 1 [76.196325]'"
      ]
     },
     "metadata": {},
     "output_type": "display_data"
    },
    {
     "data": {
      "text/plain": [
       "'1,3Xd4 2643.408854 1 [76.196325]'"
      ]
     },
     "metadata": {},
     "output_type": "display_data"
    },
    {
     "data": {
      "text/plain": [
       "'1,3Xb3 2643.408854 1 [76.196325]'"
      ]
     },
     "metadata": {},
     "output_type": "display_data"
    },
    {
     "data": {
      "text/plain": [
       "'1,3Xa4 2643.408854 1 [76.196325]'"
      ]
     },
     "metadata": {},
     "output_type": "display_data"
    },
    {
     "data": {
      "image/svg+xml": [
       "<?xml version=\"1.0\" encoding=\"utf-8\" standalone=\"no\"?>\n",
       "<!DOCTYPE svg PUBLIC \"-//W3C//DTD SVG 1.1//EN\"\n",
       "  \"http://www.w3.org/Graphics/SVG/1.1/DTD/svg11.dtd\">\n",
       "<!-- Created with matplotlib (http://matplotlib.org/) -->\n",
       "<svg height=\"460pt\" version=\"1.1\" viewBox=\"0 0 683 460\" width=\"683pt\" xmlns=\"http://www.w3.org/2000/svg\" xmlns:xlink=\"http://www.w3.org/1999/xlink\">\n",
       " <defs>\n",
       "  <style type=\"text/css\">\n",
       "*{stroke-linecap:butt;stroke-linejoin:round;}\n",
       "  </style>\n",
       " </defs>\n",
       " <g id=\"figure_1\">\n",
       "  <g id=\"patch_1\">\n",
       "   <path d=\"\n",
       "M0 460.8\n",
       "L684 460.8\n",
       "L684 0\n",
       "L0 0\n",
       "L0 460.8\" style=\"fill:none;\"/>\n",
       "  </g>\n",
       "  <g id=\"axes_1\">\n",
       "   <g id=\"patch_2\">\n",
       "    <path d=\"\n",
       "M7.2 453.6\n",
       "L676.8 453.6\n",
       "L676.8 7.2\n",
       "L7.2 7.2\n",
       "L7.2 453.6\" style=\"fill:none;\"/>\n",
       "   </g>\n",
       "   <g id=\"line2d_1\">\n",
       "    <path clip-path=\"url(#p6c8687bb8d)\" d=\"\n",
       "M251.95 294.88\n",
       "L191.917 294.88\" style=\"fill:none;stroke:#000000;stroke-linecap:square;\"/>\n",
       "   </g>\n",
       "   <g id=\"line2d_2\">\n",
       "    <path clip-path=\"url(#p6c8687bb8d)\" d=\"\n",
       "M311.983 294.88\n",
       "L251.95 294.88\" style=\"fill:none;stroke:#000000;stroke-linecap:square;\"/>\n",
       "   </g>\n",
       "   <g id=\"line2d_3\">\n",
       "    <path clip-path=\"url(#p6c8687bb8d)\" d=\"\n",
       "M372.017 243.296\n",
       "L311.983 294.88\" style=\"fill:none;stroke:#000000;stroke-linecap:square;\"/>\n",
       "   </g>\n",
       "   <g id=\"line2d_4\">\n",
       "    <path clip-path=\"url(#p6c8687bb8d)\" d=\"\n",
       "M372.017 243.296\n",
       "L311.983 243.296\" style=\"fill:none;stroke:#000000;stroke-linecap:square;\"/>\n",
       "   </g>\n",
       "   <g id=\"line2d_5\">\n",
       "    <path clip-path=\"url(#p6c8687bb8d)\" d=\"\n",
       "M251.95 217.504\n",
       "L191.917 217.504\" style=\"fill:none;stroke:#000000;stroke-linecap:square;\"/>\n",
       "   </g>\n",
       "   <g id=\"line2d_6\">\n",
       "    <path clip-path=\"url(#p6c8687bb8d)\" d=\"\n",
       "M311.983 191.712\n",
       "L251.95 217.504\" style=\"fill:none;stroke:#000000;stroke-linecap:square;\"/>\n",
       "   </g>\n",
       "   <g id=\"line2d_7\">\n",
       "    <path clip-path=\"url(#p6c8687bb8d)\" d=\"\n",
       "M251.95 165.92\n",
       "L191.917 165.92\" style=\"fill:none;stroke:#000000;stroke-linecap:square;\"/>\n",
       "   </g>\n",
       "   <g id=\"line2d_8\">\n",
       "    <path clip-path=\"url(#p6c8687bb8d)\" d=\"\n",
       "M311.983 191.712\n",
       "L251.95 165.92\" style=\"fill:none;stroke:#000000;stroke-linecap:square;\"/>\n",
       "   </g>\n",
       "   <g id=\"line2d_9\">\n",
       "    <path clip-path=\"url(#p6c8687bb8d)\" d=\"\n",
       "M372.017 243.296\n",
       "L311.983 191.712\" style=\"fill:none;stroke:#000000;stroke-linecap:square;\"/>\n",
       "   </g>\n",
       "   <g id=\"line2d_10\">\n",
       "    <path clip-path=\"url(#p6c8687bb8d)\" d=\"\n",
       "M432.05 243.296\n",
       "L372.017 243.296\" style=\"fill:none;stroke:#000000;stroke-linecap:square;\"/>\n",
       "   </g>\n",
       "   <g id=\"line2d_11\">\n",
       "    <path clip-path=\"url(#p6c8687bb8d)\" d=\"\n",
       "M492.083 243.296\n",
       "L432.05 243.296\" style=\"fill:none;stroke:#000000;stroke-linecap:square;\"/>\n",
       "   </g>\n",
       "   <g id=\"RES-1b-o-dglc-HEX-0-0-1-aldi-2s-n-acetyl-LIN-1-1d-2+1-2n-1\">\n",
       "    <path clip-path=\"url(#p6c8687bb8d)\" d=\"\n",
       "M501.319 235.36\n",
       "L501.319 251.232\n",
       "L482.847 251.232\n",
       "L482.847 235.36\n",
       "L501.319 235.36\n",
       "z\n",
       "\" style=\"fill:#0000ff;stroke:#000000;stroke-linejoin:miter;\"/>\n",
       "   </g>\n",
       "   <g id=\"RES-1b-b-dglc-HEX-1-5-2s-n-acetyl-LIN-1-1d-2+1-2n-2\">\n",
       "    <path clip-path=\"url(#p6c8687bb8d)\" d=\"\n",
       "M441.286 235.36\n",
       "L441.286 251.232\n",
       "L422.814 251.232\n",
       "L422.814 235.36\n",
       "L441.286 235.36\n",
       "z\n",
       "\" style=\"fill:#0000ff;stroke:#000000;stroke-linejoin:miter;\"/>\n",
       "   </g>\n",
       "   <g id=\"RES-1b-b-dman-HEX-1-5-3\">\n",
       "    <path clip-path=\"url(#p6c8687bb8d)\" d=\"\n",
       "M372.017 251.232\n",
       "C374.466 251.232 376.815 250.396 378.547 248.908\n",
       "C380.279 247.419 381.252 245.401 381.252 243.296\n",
       "C381.252 241.191 380.279 239.173 378.547 237.684\n",
       "C376.815 236.196 374.466 235.36 372.017 235.36\n",
       "C369.567 235.36 367.218 236.196 365.486 237.684\n",
       "C363.754 239.173 362.781 241.191 362.781 243.296\n",
       "C362.781 245.401 363.754 247.419 365.486 248.908\n",
       "C367.218 250.396 369.567 251.232 372.017 251.232\n",
       "z\n",
       "\" style=\"fill:#008000;stroke:#000000;stroke-linejoin:miter;\"/>\n",
       "   </g>\n",
       "   <g id=\"RES-1b-a-dman-HEX-1-5-10\">\n",
       "    <path clip-path=\"url(#p6c8687bb8d)\" d=\"\n",
       "M311.983 302.816\n",
       "C314.433 302.816 316.782 301.98 318.514 300.492\n",
       "C320.246 299.003 321.219 296.985 321.219 294.88\n",
       "C321.219 292.775 320.246 290.757 318.514 289.268\n",
       "C316.782 287.78 314.433 286.944 311.983 286.944\n",
       "C309.534 286.944 307.185 287.78 305.453 289.268\n",
       "C303.721 290.757 302.748 292.775 302.748 294.88\n",
       "C302.748 296.985 303.721 299.003 305.453 300.492\n",
       "C307.185 301.98 309.534 302.816 311.983 302.816\n",
       "z\n",
       "\" style=\"fill:#008000;stroke:#000000;stroke-linejoin:miter;\"/>\n",
       "   </g>\n",
       "   <g id=\"RES-1b-b-dglc-HEX-1-5-2s-n-acetyl-LIN-1-1d-2+1-2n-11\">\n",
       "    <path clip-path=\"url(#p6c8687bb8d)\" d=\"\n",
       "M261.186 286.944\n",
       "L261.186 302.816\n",
       "L242.714 302.816\n",
       "L242.714 286.944\n",
       "L261.186 286.944\n",
       "z\n",
       "\" style=\"fill:#0000ff;stroke:#000000;stroke-linejoin:miter;\"/>\n",
       "   </g>\n",
       "   <g id=\"RES-1b-b-dgal-HEX-1-5-12\">\n",
       "    <path clip-path=\"url(#p6c8687bb8d)\" d=\"\n",
       "M191.917 302.816\n",
       "C194.367 302.816 196.716 301.98 198.448 300.492\n",
       "C200.18 299.003 201.153 296.985 201.153 294.88\n",
       "C201.153 292.775 200.18 290.757 198.448 289.268\n",
       "C196.716 287.78 194.367 286.944 191.917 286.944\n",
       "C189.468 286.944 187.118 287.78 185.387 289.268\n",
       "C183.655 290.757 182.681 292.775 182.681 294.88\n",
       "C182.681 296.985 183.655 299.003 185.387 300.492\n",
       "C187.118 301.98 189.468 302.816 191.917 302.816\n",
       "z\n",
       "\" style=\"fill:#ffff00;stroke:#000000;stroke-linejoin:miter;\"/>\n",
       "   </g>\n",
       "   <g id=\"RES-1b-b-dglc-HEX-1-5-2s-n-acetyl-LIN-1-1d-2+1-2n-9\">\n",
       "    <path clip-path=\"url(#p6c8687bb8d)\" d=\"\n",
       "M321.219 235.36\n",
       "L321.219 251.232\n",
       "L302.748 251.232\n",
       "L302.748 235.36\n",
       "L321.219 235.36\n",
       "z\n",
       "\" style=\"fill:#0000ff;stroke:#000000;stroke-linejoin:miter;\"/>\n",
       "   </g>\n",
       "   <g id=\"RES-1b-a-dman-HEX-1-5-4\">\n",
       "    <path clip-path=\"url(#p6c8687bb8d)\" d=\"\n",
       "M311.983 199.648\n",
       "C314.433 199.648 316.782 198.812 318.514 197.324\n",
       "C320.246 195.835 321.219 193.817 321.219 191.712\n",
       "C321.219 189.607 320.246 187.589 318.514 186.1\n",
       "C316.782 184.612 314.433 183.776 311.983 183.776\n",
       "C309.534 183.776 307.185 184.612 305.453 186.1\n",
       "C303.721 187.589 302.748 189.607 302.748 191.712\n",
       "C302.748 193.817 303.721 195.835 305.453 197.324\n",
       "C307.185 198.812 309.534 199.648 311.983 199.648\n",
       "z\n",
       "\" style=\"fill:#008000;stroke:#000000;stroke-linejoin:miter;\"/>\n",
       "   </g>\n",
       "   <g id=\"RES-1b-b-dglc-HEX-1-5-2s-n-acetyl-LIN-1-1d-2+1-2n-7\">\n",
       "    <path clip-path=\"url(#p6c8687bb8d)\" d=\"\n",
       "M261.186 209.568\n",
       "L261.186 225.44\n",
       "L242.714 225.44\n",
       "L242.714 209.568\n",
       "L261.186 209.568\n",
       "z\n",
       "\" style=\"fill:#0000ff;stroke:#000000;stroke-linejoin:miter;\"/>\n",
       "   </g>\n",
       "   <g id=\"RES-1b-b-dgal-HEX-1-5-8\">\n",
       "    <path clip-path=\"url(#p6c8687bb8d)\" d=\"\n",
       "M191.917 225.44\n",
       "C194.367 225.44 196.716 224.604 198.448 223.116\n",
       "C200.18 221.627 201.153 219.609 201.153 217.504\n",
       "C201.153 215.399 200.18 213.381 198.448 211.892\n",
       "C196.716 210.404 194.367 209.568 191.917 209.568\n",
       "C189.468 209.568 187.118 210.404 185.387 211.892\n",
       "C183.655 213.381 182.681 215.399 182.681 217.504\n",
       "C182.681 219.609 183.655 221.627 185.387 223.116\n",
       "C187.118 224.604 189.468 225.44 191.917 225.44\n",
       "z\n",
       "\" style=\"fill:#ffff00;stroke:#000000;stroke-linejoin:miter;\"/>\n",
       "   </g>\n",
       "   <g id=\"RES-1b-b-dglc-HEX-1-5-2s-n-acetyl-LIN-1-1d-2+1-2n-5\">\n",
       "    <path clip-path=\"url(#p6c8687bb8d)\" d=\"\n",
       "M261.186 157.984\n",
       "L261.186 173.856\n",
       "L242.714 173.856\n",
       "L242.714 157.984\n",
       "L261.186 157.984\n",
       "z\n",
       "\" style=\"fill:#0000ff;stroke:#000000;stroke-linejoin:miter;\"/>\n",
       "   </g>\n",
       "   <g id=\"RES-1b-b-dgal-HEX-1-5-6\">\n",
       "    <path clip-path=\"url(#p6c8687bb8d)\" d=\"\n",
       "M191.917 173.856\n",
       "C194.367 173.856 196.716 173.02 198.448 171.532\n",
       "C200.18 170.043 201.153 168.025 201.153 165.92\n",
       "C201.153 163.815 200.18 161.797 198.448 160.308\n",
       "C196.716 158.82 194.367 157.984 191.917 157.984\n",
       "C189.468 157.984 187.118 158.82 185.387 160.308\n",
       "C183.655 161.797 182.681 163.815 182.681 165.92\n",
       "C182.681 168.025 183.655 170.043 185.387 171.532\n",
       "C187.118 173.02 189.468 173.856 191.917 173.856\n",
       "z\n",
       "\" style=\"fill:#ffff00;stroke:#000000;stroke-linejoin:miter;\"/>\n",
       "   </g>\n",
       "   <g id=\"patch_3\">\n",
       "    <path d=\"\n",
       "M7.2 7.2\n",
       "L676.8 7.2\" style=\"fill:none;stroke:#000000;stroke-linecap:square;stroke-linejoin:miter;\"/>\n",
       "   </g>\n",
       "   <g id=\"patch_4\">\n",
       "    <path d=\"\n",
       "M676.8 453.6\n",
       "L676.8 7.2\" style=\"fill:none;stroke:#000000;stroke-linecap:square;stroke-linejoin:miter;\"/>\n",
       "   </g>\n",
       "   <g id=\"patch_5\">\n",
       "    <path d=\"\n",
       "M7.2 453.6\n",
       "L676.8 453.6\" style=\"fill:none;stroke:#000000;stroke-linecap:square;stroke-linejoin:miter;\"/>\n",
       "   </g>\n",
       "   <g id=\"patch_6\">\n",
       "    <path d=\"\n",
       "M7.2 453.6\n",
       "L7.2 7.2\" style=\"fill:none;stroke:#000000;stroke-linecap:square;stroke-linejoin:miter;\"/>\n",
       "   </g>\n",
       "   <g id=\"line2d_12\">\n",
       "    <path clip-path=\"url(#p6c8687bb8d)\" d=\"\n",
       "M342 227.424\n",
       "L342 259.168\" style=\"fill:none;stroke:#ff0000;stroke-linecap:square;\"/>\n",
       "   </g>\n",
       "   <g id=\"line2d_13\">\n",
       "    <path clip-path=\"url(#p6c8687bb8d)\" d=\"\n",
       "M263.495 188.736\n",
       "L300.439 220.48\" style=\"fill:none;stroke:#ff0000;stroke-linecap:square;\"/>\n",
       "   </g>\n",
       "   <g id=\"line2d_14\">\n",
       "    <path clip-path=\"url(#p6c8687bb8d)\" d=\"\n",
       "M263.495 194.688\n",
       "L300.439 162.944\" style=\"fill:none;stroke:#ff0000;stroke-linecap:square;\"/>\n",
       "   </g>\n",
       "   <g id=\"line2d_15\">\n",
       "    <path clip-path=\"url(#p6c8687bb8d)\" d=\"\n",
       "M281.967 279.008\n",
       "L281.967 310.752\" style=\"fill:none;stroke:#ff0000;stroke-linecap:square;\"/>\n",
       "   </g>\n",
       "   <g id=\"line2d_16\">\n",
       "    <path clip-path=\"url(#p6c8687bb8d)\" d=\"\n",
       "M323.528 233.376\n",
       "L360.472 201.632\" style=\"fill:none;stroke:#ff0000;stroke-linecap:square;\"/>\n",
       "   </g>\n",
       "   <g id=\"line2d_17\">\n",
       "    <path clip-path=\"url(#p6c8687bb8d)\" d=\"\n",
       "M233.479 279.008\n",
       "L270.422 310.752\" style=\"fill:none;stroke:#ff0000;stroke-linecap:square;\"/>\n",
       "   </g>\n",
       "   <g id=\"line2d_18\">\n",
       "    <path clip-path=\"url(#p6c8687bb8d)\" d=\"\n",
       "M233.479 201.632\n",
       "L270.422 233.376\" style=\"fill:none;stroke:#ff0000;stroke-linecap:square;\"/>\n",
       "   </g>\n",
       "   <g id=\"line2d_19\">\n",
       "    <path clip-path=\"url(#p6c8687bb8d)\" d=\"\n",
       "M233.479 150.048\n",
       "L270.422 181.792\" style=\"fill:none;stroke:#ff0000;stroke-linecap:square;\"/>\n",
       "   </g>\n",
       "   <g id=\"line2d_20\">\n",
       "    <path clip-path=\"url(#p6c8687bb8d)\" d=\"\n",
       "M462.066 227.424\n",
       "L462.066 259.168\" style=\"fill:none;stroke:#ff0000;stroke-linecap:square;\"/>\n",
       "   </g>\n",
       "   <g id=\"line2d_21\">\n",
       "    <path clip-path=\"url(#p6c8687bb8d)\" d=\"\n",
       "M342 227.424\n",
       "L342 259.168\" style=\"fill:none;stroke:#ff0000;stroke-linecap:square;\"/>\n",
       "   </g>\n",
       "   <g id=\"line2d_22\">\n",
       "    <path clip-path=\"url(#p6c8687bb8d)\" d=\"\n",
       "M413.578 227.424\n",
       "L450.521 259.168\" style=\"fill:none;stroke:#ff0000;stroke-linecap:square;\"/>\n",
       "   </g>\n",
       "   <g id=\"line2d_23\">\n",
       "    <path clip-path=\"url(#p6c8687bb8d)\" d=\"\n",
       "M233.479 150.048\n",
       "L270.422 181.792\" style=\"fill:none;stroke:#ff0000;stroke-linecap:square;\"/>\n",
       "   </g>\n",
       "   <g id=\"line2d_24\">\n",
       "    <path clip-path=\"url(#p6c8687bb8d)\" d=\"\n",
       "M233.479 201.632\n",
       "L270.422 233.376\" style=\"fill:none;stroke:#ff0000;stroke-linecap:square;\"/>\n",
       "   </g>\n",
       "   <g id=\"line2d_25\">\n",
       "    <path clip-path=\"url(#p6c8687bb8d)\" d=\"\n",
       "M293.512 227.424\n",
       "L330.455 259.168\" style=\"fill:none;stroke:#ff0000;stroke-linecap:square;\"/>\n",
       "   </g>\n",
       "   <g id=\"line2d_26\">\n",
       "    <path clip-path=\"url(#p6c8687bb8d)\" d=\"\n",
       "M233.479 279.008\n",
       "L270.422 310.752\" style=\"fill:none;stroke:#ff0000;stroke-linecap:square;\"/>\n",
       "   </g>\n",
       "  </g>\n",
       " </g>\n",
       " <defs>\n",
       "  <clipPath id=\"p6c8687bb8d\">\n",
       "   <rect height=\"446.4\" width=\"669.6\" x=\"7.2\" y=\"7.2\"/>\n",
       "  </clipPath>\n",
       " </defs>\n",
       "</svg>\n"
      ],
      "text/plain": [
       "<matplotlib.figure.Figure at 0xfa9f940>"
      ]
     },
     "metadata": {},
     "output_type": "display_data"
    },
    {
     "data": {
      "text/plain": [
       "3"
      ]
     },
     "metadata": {},
     "output_type": "display_data"
    },
    {
     "data": {
      "text/plain": [
       "2425.2572674154803"
      ]
     },
     "metadata": {},
     "output_type": "display_data"
    },
    {
     "data": {
      "text/plain": [
       "'Fragments Observed / Expected: 0.066'"
      ]
     },
     "metadata": {},
     "output_type": "display_data"
    },
    {
     "data": {
      "text/plain": [
       "'Bb1 188.104681 2 [410.65598, 597.007151]'"
      ]
     },
     "metadata": {},
     "output_type": "display_data"
    },
    {
     "data": {
      "text/plain": [
       "'1,4Ad2 377.202285 1 [706.687456]'"
      ]
     },
     "metadata": {},
     "output_type": "display_data"
    },
    {
     "data": {
      "text/plain": [
       "'Bd2 463.243445 4 [25251.999386, 21450.072324, 28856.544445, 27900.636921]'"
      ]
     },
     "metadata": {},
     "output_type": "display_data"
    },
    {
     "data": {
      "text/plain": [
       "'Bc3 840.410176 1 [21312.46214]'"
      ]
     },
     "metadata": {},
     "output_type": "display_data"
    },
    {
     "data": {
      "text/plain": [
       "'Cc3 858.421198 1 [129.594591]'"
      ]
     },
     "metadata": {},
     "output_type": "display_data"
    },
    {
     "data": {
      "text/plain": [
       "'Cc4 1062.527502 1 [67.732038]'"
      ]
     },
     "metadata": {},
     "output_type": "display_data"
    },
    {
     "data": {
      "text/plain": [
       "'2,5Aa1 1625.805975 1 [136.153779]'"
      ]
     },
     "metadata": {},
     "output_type": "display_data"
    },
    {
     "data": {
      "text/plain": [
       "'1,5Aa1 1669.821275 1 [541.360664]'"
      ]
     },
     "metadata": {},
     "output_type": "display_data"
    },
    {
     "data": {
      "text/plain": [
       "'Ca2 1960.952794 1 [146.036885]'"
      ]
     },
     "metadata": {},
     "output_type": "display_data"
    },
    {
     "data": {
      "text/plain": [
       "'Yd3 1962.012233 4 [1006.977185, 951.776137, 413.304532, 2879.510787]'"
      ]
     },
     "metadata": {},
     "output_type": "display_data"
    },
    {
     "data": {
      "image/svg+xml": [
       "<?xml version=\"1.0\" encoding=\"utf-8\" standalone=\"no\"?>\n",
       "<!DOCTYPE svg PUBLIC \"-//W3C//DTD SVG 1.1//EN\"\n",
       "  \"http://www.w3.org/Graphics/SVG/1.1/DTD/svg11.dtd\">\n",
       "<!-- Created with matplotlib (http://matplotlib.org/) -->\n",
       "<svg height=\"460pt\" version=\"1.1\" viewBox=\"0 0 684 460\" width=\"684pt\" xmlns=\"http://www.w3.org/2000/svg\" xmlns:xlink=\"http://www.w3.org/1999/xlink\">\n",
       " <defs>\n",
       "  <style type=\"text/css\">\n",
       "*{stroke-linecap:butt;stroke-linejoin:round;}\n",
       "  </style>\n",
       " </defs>\n",
       " <g id=\"figure_1\">\n",
       "  <g id=\"patch_1\">\n",
       "   <path d=\"\n",
       "M0 460.8\n",
       "L684 460.8\n",
       "L684 0\n",
       "L0 0\n",
       "L0 460.8\" style=\"fill:none;\"/>\n",
       "  </g>\n",
       "  <g id=\"axes_1\">\n",
       "   <g id=\"patch_2\">\n",
       "    <path d=\"\n",
       "M7.2 453.6\n",
       "L676.8 453.6\n",
       "L676.8 7.2\n",
       "L7.2 7.2\n",
       "L7.2 453.6\" style=\"fill:none;\"/>\n",
       "   </g>\n",
       "   <g id=\"line2d_1\">\n",
       "    <path clip-path=\"url(#p20201a9eeb)\" d=\"\n",
       "M231.813 261.6\n",
       "L176.719 261.6\" style=\"fill:none;stroke:#000000;stroke-linecap:square;\"/>\n",
       "   </g>\n",
       "   <g id=\"line2d_2\">\n",
       "    <path clip-path=\"url(#p20201a9eeb)\" d=\"\n",
       "M286.906 261.6\n",
       "L231.813 261.6\" style=\"fill:none;stroke:#000000;stroke-linecap:square;\"/>\n",
       "   </g>\n",
       "   <g id=\"line2d_3\">\n",
       "    <path clip-path=\"url(#p20201a9eeb)\" d=\"\n",
       "M342 261.6\n",
       "L286.906 261.6\" style=\"fill:none;stroke:#000000;stroke-linecap:square;\"/>\n",
       "   </g>\n",
       "   <g id=\"line2d_4\">\n",
       "    <path clip-path=\"url(#p20201a9eeb)\" d=\"\n",
       "M397.094 230.4\n",
       "L342 261.6\" style=\"fill:none;stroke:#000000;stroke-linecap:square;\"/>\n",
       "   </g>\n",
       "   <g id=\"line2d_5\">\n",
       "    <path clip-path=\"url(#p20201a9eeb)\" d=\"\n",
       "M342 199.2\n",
       "L286.906 199.2\" style=\"fill:none;stroke:#000000;stroke-linecap:square;\"/>\n",
       "   </g>\n",
       "   <g id=\"line2d_6\">\n",
       "    <path clip-path=\"url(#p20201a9eeb)\" d=\"\n",
       "M397.094 230.4\n",
       "L342 199.2\" style=\"fill:none;stroke:#000000;stroke-linecap:square;\"/>\n",
       "   </g>\n",
       "   <g id=\"line2d_7\">\n",
       "    <path clip-path=\"url(#p20201a9eeb)\" d=\"\n",
       "M452.187 230.4\n",
       "L397.094 230.4\" style=\"fill:none;stroke:#000000;stroke-linecap:square;\"/>\n",
       "   </g>\n",
       "   <g id=\"line2d_8\">\n",
       "    <path clip-path=\"url(#p20201a9eeb)\" d=\"\n",
       "M507.281 230.4\n",
       "L452.187 230.4\" style=\"fill:none;stroke:#000000;stroke-linecap:square;\"/>\n",
       "   </g>\n",
       "   <g id=\"line2d_9\">\n",
       "    <path clip-path=\"url(#p20201a9eeb)\" d=\"\n",
       "M507.281 230.4\n",
       "L507.281 199.2\" style=\"fill:none;stroke:#000000;stroke-linecap:square;\"/>\n",
       "   </g>\n",
       "   <g id=\"RES-1b-o-dglc-HEX-0-0-1-aldi-2s-n-acetyl-LIN-1-1d-2+1-2n-1\">\n",
       "    <path clip-path=\"url(#p20201a9eeb)\" d=\"\n",
       "M515.757 220.8\n",
       "L515.757 240\n",
       "L498.805 240\n",
       "L498.805 220.8\n",
       "L515.757 220.8\n",
       "z\n",
       "\" style=\"fill:#0000ff;stroke:#000000;stroke-linejoin:miter;\"/>\n",
       "   </g>\n",
       "   <g id=\"RES-1b-b-dglc-HEX-1-5-2s-n-acetyl-LIN-1-1d-2+1-2n-2\">\n",
       "    <path clip-path=\"url(#p20201a9eeb)\" d=\"\n",
       "M460.663 220.8\n",
       "L460.663 240\n",
       "L443.711 240\n",
       "L443.711 220.8\n",
       "L460.663 220.8\n",
       "z\n",
       "\" style=\"fill:#0000ff;stroke:#000000;stroke-linejoin:miter;\"/>\n",
       "   </g>\n",
       "   <g id=\"RES-1b-b-dman-HEX-1-5-3\">\n",
       "    <path clip-path=\"url(#p20201a9eeb)\" d=\"\n",
       "M397.094 240\n",
       "C399.342 240 401.498 238.988 403.087 237.188\n",
       "C404.677 235.388 405.57 232.946 405.57 230.4\n",
       "C405.57 227.854 404.677 225.412 403.087 223.612\n",
       "C401.498 221.812 399.342 220.8 397.094 220.8\n",
       "C394.846 220.8 392.69 221.812 391.1 223.612\n",
       "C389.511 225.412 388.618 227.854 388.618 230.4\n",
       "C388.618 232.946 389.511 235.388 391.1 237.188\n",
       "C392.69 238.988 394.846 240 397.094 240\n",
       "z\n",
       "\" style=\"fill:#008000;stroke:#000000;stroke-linejoin:miter;\"/>\n",
       "   </g>\n",
       "   <g id=\"RES-1b-a-dman-HEX-1-5-6\">\n",
       "    <path clip-path=\"url(#p20201a9eeb)\" d=\"\n",
       "M342 271.2\n",
       "C344.248 271.2 346.404 270.188 347.993 268.388\n",
       "C349.583 266.588 350.476 264.146 350.476 261.6\n",
       "C350.476 259.054 349.583 256.612 347.993 254.812\n",
       "C346.404 253.012 344.248 252 342 252\n",
       "C339.752 252 337.596 253.012 336.007 254.812\n",
       "C334.417 256.612 333.524 259.054 333.524 261.6\n",
       "C333.524 264.146 334.417 266.588 336.007 268.388\n",
       "C337.596 270.188 339.752 271.2 342 271.2\n",
       "z\n",
       "\" style=\"fill:#008000;stroke:#000000;stroke-linejoin:miter;\"/>\n",
       "   </g>\n",
       "   <g id=\"RES-1b-b-dglc-HEX-1-5-2s-n-acetyl-LIN-1-1d-2+1-2n-7\">\n",
       "    <path clip-path=\"url(#p20201a9eeb)\" d=\"\n",
       "M295.382 252\n",
       "L295.382 271.2\n",
       "L278.43 271.2\n",
       "L278.43 252\n",
       "L295.382 252\n",
       "z\n",
       "\" style=\"fill:#0000ff;stroke:#000000;stroke-linejoin:miter;\"/>\n",
       "   </g>\n",
       "   <g id=\"RES-1b-b-dgal-HEX-1-5-8\">\n",
       "    <path clip-path=\"url(#p20201a9eeb)\" d=\"\n",
       "M231.813 271.2\n",
       "C234.061 271.2 236.217 270.188 237.806 268.388\n",
       "C239.396 266.588 240.289 264.146 240.289 261.6\n",
       "C240.289 259.054 239.396 256.612 237.806 254.812\n",
       "C236.217 253.012 234.061 252 231.813 252\n",
       "C229.565 252 227.409 253.012 225.819 254.812\n",
       "C224.23 256.612 223.337 259.054 223.337 261.6\n",
       "C223.337 264.146 224.23 266.588 225.819 268.388\n",
       "C227.409 270.188 229.565 271.2 231.813 271.2\n",
       "z\n",
       "\" style=\"fill:#ffff00;stroke:#000000;stroke-linejoin:miter;\"/>\n",
       "   </g>\n",
       "   <g id=\"RES-1b-a-dgro-dgal-NON-2-6-1-a-2-keto-3-d-2s-n-glycolyl-LIN-1-1d-5+1-2n-9\">\n",
       "    <path clip-path=\"url(#p20201a9eeb)\" d=\"\n",
       "M176.719 252\n",
       "L168.243 261.6\n",
       "L176.719 271.2\n",
       "L185.195 261.6\n",
       "z\n",
       "\" style=\"fill:#add8e6;stroke:#000000;stroke-linejoin:miter;\"/>\n",
       "   </g>\n",
       "   <g id=\"RES-1b-a-dman-HEX-1-5-4\">\n",
       "    <path clip-path=\"url(#p20201a9eeb)\" d=\"\n",
       "M342 208.8\n",
       "C344.248 208.8 346.404 207.788 347.993 205.988\n",
       "C349.583 204.188 350.476 201.746 350.476 199.2\n",
       "C350.476 196.654 349.583 194.212 347.993 192.412\n",
       "C346.404 190.612 344.248 189.6 342 189.6\n",
       "C339.752 189.6 337.596 190.612 336.007 192.412\n",
       "C334.417 194.212 333.524 196.654 333.524 199.2\n",
       "C333.524 201.746 334.417 204.188 336.007 205.988\n",
       "C337.596 207.788 339.752 208.8 342 208.8\n",
       "z\n",
       "\" style=\"fill:#008000;stroke:#000000;stroke-linejoin:miter;\"/>\n",
       "   </g>\n",
       "   <g id=\"RES-1b-b-dglc-HEX-1-5-2s-n-acetyl-LIN-1-1d-2+1-2n-5\">\n",
       "    <path clip-path=\"url(#p20201a9eeb)\" d=\"\n",
       "M295.382 189.6\n",
       "L295.382 208.8\n",
       "L278.43 208.8\n",
       "L278.43 189.6\n",
       "L295.382 189.6\n",
       "z\n",
       "\" style=\"fill:#0000ff;stroke:#000000;stroke-linejoin:miter;\"/>\n",
       "   </g>\n",
       "   <g id=\"RES-1b-a-lgal-HEX-1-5-6-d-10\">\n",
       "    <path clip-path=\"url(#p20201a9eeb)\" d=\"\n",
       "M507.281 189.6\n",
       "L499.941 204\n",
       "L514.621 204\n",
       "z\n",
       "\" style=\"fill:#ff0000;stroke:#000000;stroke-linejoin:miter;\"/>\n",
       "   </g>\n",
       "   <g id=\"patch_3\">\n",
       "    <path d=\"\n",
       "M7.2 7.2\n",
       "L676.8 7.2\" style=\"fill:none;stroke:#000000;stroke-linecap:square;stroke-linejoin:miter;\"/>\n",
       "   </g>\n",
       "   <g id=\"patch_4\">\n",
       "    <path d=\"\n",
       "M676.8 453.6\n",
       "L676.8 7.2\" style=\"fill:none;stroke:#000000;stroke-linecap:square;stroke-linejoin:miter;\"/>\n",
       "   </g>\n",
       "   <g id=\"patch_5\">\n",
       "    <path d=\"\n",
       "M7.2 453.6\n",
       "L676.8 453.6\" style=\"fill:none;stroke:#000000;stroke-linecap:square;stroke-linejoin:miter;\"/>\n",
       "   </g>\n",
       "   <g id=\"patch_6\">\n",
       "    <path d=\"\n",
       "M7.2 453.6\n",
       "L7.2 7.2\" style=\"fill:none;stroke:#000000;stroke-linecap:square;stroke-linejoin:miter;\"/>\n",
       "   </g>\n",
       "   <g id=\"line2d_10\">\n",
       "    <path clip-path=\"url(#p20201a9eeb)\" d=\"\n",
       "M524.233 214.8\n",
       "L490.329 214.8\" style=\"fill:none;stroke:#ff0000;stroke-linecap:square;\"/>\n",
       "   </g>\n",
       "   <g id=\"line2d_11\">\n",
       "    <path clip-path=\"url(#p20201a9eeb)\" d=\"\n",
       "M325.048 180\n",
       "L358.952 218.4\" style=\"fill:none;stroke:#ff0000;stroke-linecap:square;\"/>\n",
       "   </g>\n",
       "   <g id=\"line2d_12\">\n",
       "    <path clip-path=\"url(#p20201a9eeb)\" d=\"\n",
       "M352.595 234\n",
       "L386.499 195.6\" style=\"fill:none;stroke:#ff0000;stroke-linecap:square;\"/>\n",
       "   </g>\n",
       "   <g id=\"line2d_13\">\n",
       "    <path clip-path=\"url(#p20201a9eeb)\" d=\"\n",
       "M314.453 242.4\n",
       "L314.453 280.8\" style=\"fill:none;stroke:#ff0000;stroke-linecap:square;\"/>\n",
       "   </g>\n",
       "   <g id=\"line2d_14\">\n",
       "    <path clip-path=\"url(#p20201a9eeb)\" d=\"\n",
       "M314.453 242.4\n",
       "L314.453 280.8\" style=\"fill:none;stroke:#ff0000;stroke-linecap:square;\"/>\n",
       "   </g>\n",
       "   <g id=\"line2d_15\">\n",
       "    <path clip-path=\"url(#p20201a9eeb)\" d=\"\n",
       "M352.595 226.8\n",
       "L386.499 265.2\" style=\"fill:none;stroke:#ff0000;stroke-linecap:square;\"/>\n",
       "   </g>\n",
       "   <g id=\"line2d_16\">\n",
       "    <path clip-path=\"url(#p20201a9eeb)\" d=\"\n",
       "M380.142 211.2\n",
       "L414.046 249.6\" style=\"fill:none;stroke:#ff0000;stroke-linecap:square;\"/>\n",
       "   </g>\n",
       "   <g id=\"line2d_17\">\n",
       "    <path clip-path=\"url(#p20201a9eeb)\" d=\"\n",
       "M380.142 211.2\n",
       "L414.046 249.6\" style=\"fill:none;stroke:#ff0000;stroke-linecap:square;\"/>\n",
       "   </g>\n",
       "   <g id=\"line2d_18\">\n",
       "    <path clip-path=\"url(#p20201a9eeb)\" d=\"\n",
       "M479.734 211.2\n",
       "L479.734 249.6\" style=\"fill:none;stroke:#ff0000;stroke-linecap:square;\"/>\n",
       "   </g>\n",
       "   <g id=\"line2d_19\">\n",
       "    <path clip-path=\"url(#p20201a9eeb)\" d=\"\n",
       "M352.595 234\n",
       "L386.499 195.6\" style=\"fill:none;stroke:#ff0000;stroke-linecap:square;\"/>\n",
       "   </g>\n",
       "  </g>\n",
       " </g>\n",
       " <defs>\n",
       "  <clipPath id=\"p20201a9eeb\">\n",
       "   <rect height=\"446.4\" width=\"669.6\" x=\"7.2\" y=\"7.2\"/>\n",
       "  </clipPath>\n",
       " </defs>\n",
       "</svg>\n"
      ],
      "text/plain": [
       "<matplotlib.figure.Figure at 0xfc7df60>"
      ]
     },
     "metadata": {},
     "output_type": "display_data"
    },
    {
     "data": {
      "text/plain": [
       "4"
      ]
     },
     "metadata": {},
     "output_type": "display_data"
    },
    {
     "data": {
      "text/plain": [
       "3770.91990631989"
      ]
     },
     "metadata": {},
     "output_type": "display_data"
    },
    {
     "data": {
      "text/plain": [
       "'Fragments Observed / Expected: 0.262'"
      ]
     },
     "metadata": {},
     "output_type": "display_data"
    },
    {
     "data": {
      "text/plain": [
       "'Bf1 188.106387 4 [356041.808876, 570627.846248, 576356.111063, 348373.690621]'"
      ]
     },
     "metadata": {},
     "output_type": "display_data"
    },
    {
     "data": {
      "text/plain": [
       "'Bb1 188.106387 4 [356041.808876, 570627.846248, 576356.111063, 348373.690621]'"
      ]
     },
     "metadata": {},
     "output_type": "display_data"
    },
    {
     "data": {
      "text/plain": [
       "'Bd1 259.142119 2 [295.856985, 856.131504]'"
      ]
     },
     "metadata": {},
     "output_type": "display_data"
    },
    {
     "data": {
      "text/plain": [
       "'Be1 375.19241 5 [1722205.43377, 1749800.522447, 3411.334344, 1081713.827962, 1064019.763325]'"
      ]
     },
     "metadata": {},
     "output_type": "display_data"
    },
    {
     "data": {
      "text/plain": [
       "'Bg1 375.19241 5 [1722205.43377, 1749800.522447, 3411.334344, 1081713.827962, 1064019.763325]'"
      ]
     },
     "metadata": {},
     "output_type": "display_data"
    },
    {
     "data": {
      "text/plain": [
       "'Ce1 393.200884 1 [1564.944444]'"
      ]
     },
     "metadata": {},
     "output_type": "display_data"
    },
    {
     "data": {
      "text/plain": [
       "'Cg1 393.200884 1 [1564.944444]'"
      ]
     },
     "metadata": {},
     "output_type": "display_data"
    },
    {
     "data": {
      "text/plain": [
       "'2,4Ae2 449.23039 2 [352587.806492, 352587.806492]'"
      ]
     },
     "metadata": {},
     "output_type": "display_data"
    },
    {
     "data": {
      "text/plain": [
       "'1,3Ae2 449.23039 2 [352587.806492, 352587.806492]'"
      ]
     },
     "metadata": {},
     "output_type": "display_data"
    },
    {
     "data": {
      "text/plain": [
       "'Ya1 482.297335 1 [58501.963757]'"
      ]
     },
     "metadata": {},
     "output_type": "display_data"
    },
    {
     "data": {
      "text/plain": [
       "'Be2 579.292649 3 [9410.498781, 12578.287149, 14670.747712]'"
      ]
     },
     "metadata": {},
     "output_type": "display_data"
    },
    {
     "data": {
      "text/plain": [
       "'Ce2 597.306086 1 [22498.96177]'"
      ]
     },
     "metadata": {},
     "output_type": "display_data"
    },
    {
     "data": {
      "text/plain": [
       "'2,4Ae3 653.329647 2 [1707.489638, 8085.152626]'"
      ]
     },
     "metadata": {},
     "output_type": "display_data"
    },
    {
     "data": {
      "text/plain": [
       "'1,5Ag2 666.370503 1 [471.306908]'"
      ]
     },
     "metadata": {},
     "output_type": "display_data"
    },
    {
     "data": {
      "text/plain": [
       "'0,2Ag2 668.326264 3 [5309.128073, 47.658198, 157.951432]'"
      ]
     },
     "metadata": {},
     "output_type": "display_data"
    },
    {
     "data": {
      "text/plain": [
       "'Be3 824.419006 6 [8154.18089, 358900.544634, 386647.289955, 31636.046973, 403786.983701, 434654.624128]'"
      ]
     },
     "metadata": {},
     "output_type": "display_data"
    },
    {
     "data": {
      "text/plain": [
       "'Ce3 842.415988 1 [515.34158]'"
      ]
     },
     "metadata": {},
     "output_type": "display_data"
    },
    {
     "data": {
      "text/plain": [
       "'1,4Ag3 870.435277 1 [2217.214623]'"
      ]
     },
     "metadata": {},
     "output_type": "display_data"
    },
    {
     "data": {
      "text/plain": [
       "'2,5Ag3 884.443191 3 [3302.985764, 11756.401449, 12726.594056]'"
      ]
     },
     "metadata": {},
     "output_type": "display_data"
    },
    {
     "data": {
      "text/plain": [
       "'Be4 1028.515426 5 [1539.469865, 61.19463, 4424.257136, 8467.658261, 8616.553663]'"
      ]
     },
     "metadata": {},
     "output_type": "display_data"
    },
    {
     "data": {
      "text/plain": [
       "'0,4Aa1 1088.54264 2 [2827.010784, 13851.406569]'"
      ]
     },
     "metadata": {},
     "output_type": "display_data"
    },
    {
     "data": {
      "text/plain": [
       "'2,5Ac1 1262.637904 2 [4845.539645, 4712.590839]'"
      ]
     },
     "metadata": {},
     "output_type": "display_data"
    },
    {
     "data": {
      "text/plain": [
       "'0,2Ac1 1278.62929 2 [1879.065557, 7550.460348]'"
      ]
     },
     "metadata": {},
     "output_type": "display_data"
    },
    {
     "data": {
      "text/plain": [
       "'1,3Ac2 1449.71593 1 [399.994752]'"
      ]
     },
     "metadata": {},
     "output_type": "display_data"
    },
    {
     "data": {
      "text/plain": [
       "'1,4Ac2 1493.747516 1 [858.128477]'"
      ]
     },
     "metadata": {},
     "output_type": "display_data"
    },
    {
     "data": {
      "text/plain": [
       "'1,3Aa1 1653.817459 2 [8071.969882, 16442.336384]'"
      ]
     },
     "metadata": {},
     "output_type": "display_data"
    },
    {
     "data": {
      "text/plain": [
       "'1,4Xa2 1827.957972 2 [395.603793, 57.030579]'"
      ]
     },
     "metadata": {},
     "output_type": "display_data"
    },
    {
     "data": {
      "text/plain": [
       "'2,4Aa1 1898.944715 4 [10525.657639, 15941.114999, 21367.820232, 26442.104877]'"
      ]
     },
     "metadata": {},
     "output_type": "display_data"
    },
    {
     "data": {
      "text/plain": [
       "'1,4Aa1 1942.9699 3 [12751.472831, 379.884048, 968.127592]'"
      ]
     },
     "metadata": {},
     "output_type": "display_data"
    },
    {
     "data": {
      "text/plain": [
       "'Yc3 2191.125466 1 [210.579988]'"
      ]
     },
     "metadata": {},
     "output_type": "display_data"
    },
    {
     "data": {
      "text/plain": [
       "'1,5Xc3 2219.104602 2 [575.612242, 452.708374]'"
      ]
     },
     "metadata": {},
     "output_type": "display_data"
    },
    {
     "data": {
      "text/plain": [
       "'1,4Xc3 2277.14148 2 [7086.524924, 2052.92761]'"
      ]
     },
     "metadata": {},
     "output_type": "display_data"
    },
    {
     "data": {
      "text/plain": [
       "'Yc4 2395.236064 1 [32294.553236]'"
      ]
     },
     "metadata": {},
     "output_type": "display_data"
    },
    {
     "data": {
      "text/plain": [
       "'1,5Xc4 2423.256109 1 [31883.006059]'"
      ]
     },
     "metadata": {},
     "output_type": "display_data"
    },
    {
     "data": {
      "text/plain": [
       "'1,4Xc4 2481.264012 1 [942.544485]'"
      ]
     },
     "metadata": {},
     "output_type": "display_data"
    },
    {
     "data": {
      "text/plain": [
       "'3,5Xc4 2726.370432 3 [2665.291904, 10967.253518, 4046.70725]'"
      ]
     },
     "metadata": {},
     "output_type": "display_data"
    },
    {
     "data": {
      "text/plain": [
       "'Ye3 2742.421197 3 [471.77247, 9941.871567, 9296.217732]'"
      ]
     },
     "metadata": {},
     "output_type": "display_data"
    },
    {
     "data": {
      "text/plain": [
       "'Yg5 2814.448947 1 [31530.548746]'"
      ]
     },
     "metadata": {},
     "output_type": "display_data"
    },
    {
     "data": {
      "text/plain": [
       "'1,4Xg5 2900.463948 1 [32947.627138]'"
      ]
     },
     "metadata": {},
     "output_type": "display_data"
    },
    {
     "data": {
      "text/plain": [
       "'Ye4 2946.512554 6 [54371.441232, 5120.959583, 15056.753058, 115956.630501, 120810.385376, 7879.060829]'"
      ]
     },
     "metadata": {},
     "output_type": "display_data"
    },
    {
     "data": {
      "text/plain": [
       "'2,5Aa1 2971.496585 3 [2929.618659, 8301.853925, 29059.565237]'"
      ]
     },
     "metadata": {},
     "output_type": "display_data"
    },
    {
     "data": {
      "text/plain": [
       "'Yg6 3018.587271 1 [378.551079]'"
      ]
     },
     "metadata": {},
     "output_type": "display_data"
    },
    {
     "data": {
      "text/plain": [
       "'1,4Xe4 3032.500135 1 [801.097309]'"
      ]
     },
     "metadata": {},
     "output_type": "display_data"
    },
    {
     "data": {
      "text/plain": [
       "'Ba1 3043.500111 1 [942.823801]'"
      ]
     },
     "metadata": {},
     "output_type": "display_data"
    },
    {
     "data": {
      "text/plain": [
       "'0,2Xe4 3043.500111 1 [942.823801]'"
      ]
     },
     "metadata": {},
     "output_type": "display_data"
    },
    {
     "data": {
      "text/plain": [
       "'0,2Xg6 3102.562288 3 [20508.307477, 650.350302, 112847.399644]'"
      ]
     },
     "metadata": {},
     "output_type": "display_data"
    },
    {
     "data": {
      "text/plain": [
       "'3,5Xg6 3162.614148 1 [512.094001]'"
      ]
     },
     "metadata": {},
     "output_type": "display_data"
    },
    {
     "data": {
      "text/plain": [
       "'2,5Aa2 3175.551982 2 [1319.473835, 4266.227029]'"
      ]
     },
     "metadata": {},
     "output_type": "display_data"
    },
    {
     "data": {
      "text/plain": [
       "'Ye5 3191.636524 4 [3060.847162, 11384.277235, 41668.900472, 13652.036711]'"
      ]
     },
     "metadata": {},
     "output_type": "display_data"
    },
    {
     "data": {
      "text/plain": [
       "'Ba2 3288.629932 6 [1013.840331, 90268.246923, 100461.957281, 15664.826879, 1149.894172, 153807.859429]'"
      ]
     },
     "metadata": {},
     "output_type": "display_data"
    },
    {
     "data": {
      "text/plain": [
       "'Yg7 3395.735592 4 [198992.339087, 493414.16741, 184619.866789, 21889.255543]'"
      ]
     },
     "metadata": {},
     "output_type": "display_data"
    },
    {
     "data": {
      "text/plain": [
       "'Ye6 3395.735592 4 [198992.339087, 493414.16741, 184619.866789, 21889.255543]'"
      ]
     },
     "metadata": {},
     "output_type": "display_data"
    },
    {
     "data": {
      "text/plain": [
       "'0,2Xe6 3479.784727 1 [619.871485]'"
      ]
     },
     "metadata": {},
     "output_type": "display_data"
    },
    {
     "data": {
      "text/plain": [
       "'0,2Xg7 3479.784727 1 [619.871485]'"
      ]
     },
     "metadata": {},
     "output_type": "display_data"
    },
    {
     "data": {
      "text/plain": [
       "'Zf5 3564.804504 1 [677.457537]'"
      ]
     },
     "metadata": {},
     "output_type": "display_data"
    },
    {
     "data": {
      "text/plain": [
       "'Zb1 3564.804504 1 [677.457537]'"
      ]
     },
     "metadata": {},
     "output_type": "display_data"
    },
    {
     "data": {
      "text/plain": [
       "'Yb1 3582.812312 4 [108158.361327, 34163.844867, 261095.362351, 2554.638446]'"
      ]
     },
     "metadata": {},
     "output_type": "display_data"
    },
    {
     "data": {
      "text/plain": [
       "'Yf5 3582.812312 4 [108158.361327, 34163.844867, 261095.362351, 2554.638446]'"
      ]
     },
     "metadata": {},
     "output_type": "display_data"
    },
    {
     "data": {
      "text/plain": [
       "'1,4Xe6 3627.795179 1 [111.630592]'"
      ]
     },
     "metadata": {},
     "output_type": "display_data"
    },
    {
     "data": {
      "text/plain": [
       "'1,4Xg7 3627.795179 1 [111.630592]'"
      ]
     },
     "metadata": {},
     "output_type": "display_data"
    },
    {
     "data": {
      "text/plain": [
       "'3,5Xb1 3698.884024 1 [838.558885]'"
      ]
     },
     "metadata": {},
     "output_type": "display_data"
    },
    {
     "data": {
      "text/plain": [
       "'3,5Xf5 3698.884024 1 [838.558885]'"
      ]
     },
     "metadata": {},
     "output_type": "display_data"
    },
    {
     "data": {
      "image/svg+xml": [
       "<?xml version=\"1.0\" encoding=\"utf-8\" standalone=\"no\"?>\n",
       "<!DOCTYPE svg PUBLIC \"-//W3C//DTD SVG 1.1//EN\"\n",
       "  \"http://www.w3.org/Graphics/SVG/1.1/DTD/svg11.dtd\">\n",
       "<!-- Created with matplotlib (http://matplotlib.org/) -->\n",
       "<svg height=\"460pt\" version=\"1.1\" viewBox=\"0 0 683 460\" width=\"683pt\" xmlns=\"http://www.w3.org/2000/svg\" xmlns:xlink=\"http://www.w3.org/1999/xlink\">\n",
       " <defs>\n",
       "  <style type=\"text/css\">\n",
       "*{stroke-linecap:butt;stroke-linejoin:round;}\n",
       "  </style>\n",
       " </defs>\n",
       " <g id=\"figure_1\">\n",
       "  <g id=\"patch_1\">\n",
       "   <path d=\"\n",
       "M0 460.8\n",
       "L684 460.8\n",
       "L684 0\n",
       "L0 0\n",
       "L0 460.8\" style=\"fill:none;\"/>\n",
       "  </g>\n",
       "  <g id=\"axes_1\">\n",
       "   <g id=\"patch_2\">\n",
       "    <path d=\"\n",
       "M7.2 453.6\n",
       "L676.8 453.6\n",
       "L676.8 7.2\n",
       "L7.2 7.2\n",
       "L7.2 453.6\" style=\"fill:none;\"/>\n",
       "   </g>\n",
       "   <g id=\"line2d_1\">\n",
       "    <path clip-path=\"url(#p6c8687bb8d)\" d=\"\n",
       "M316.547 285.147\n",
       "L316.547 257.774\" style=\"fill:none;stroke:#000000;stroke-linecap:square;\"/>\n",
       "   </g>\n",
       "   <g id=\"line2d_2\">\n",
       "    <path clip-path=\"url(#p6c8687bb8d)\" d=\"\n",
       "M214.737 285.147\n",
       "L163.832 285.147\" style=\"fill:none;stroke:#000000;stroke-linecap:square;\"/>\n",
       "   </g>\n",
       "   <g id=\"line2d_3\">\n",
       "    <path clip-path=\"url(#p6c8687bb8d)\" d=\"\n",
       "M265.642 285.147\n",
       "L214.737 285.147\" style=\"fill:none;stroke:#000000;stroke-linecap:square;\"/>\n",
       "   </g>\n",
       "   <g id=\"line2d_4\">\n",
       "    <path clip-path=\"url(#p6c8687bb8d)\" d=\"\n",
       "M316.547 285.147\n",
       "L265.642 285.147\" style=\"fill:none;stroke:#000000;stroke-linecap:square;\"/>\n",
       "   </g>\n",
       "   <g id=\"line2d_5\">\n",
       "    <path clip-path=\"url(#p6c8687bb8d)\" d=\"\n",
       "M367.453 285.147\n",
       "L316.547 285.147\" style=\"fill:none;stroke:#000000;stroke-linecap:square;\"/>\n",
       "   </g>\n",
       "   <g id=\"line2d_6\">\n",
       "    <path clip-path=\"url(#p6c8687bb8d)\" d=\"\n",
       "M418.358 230.4\n",
       "L367.453 285.147\" style=\"fill:none;stroke:#000000;stroke-linecap:square;\"/>\n",
       "   </g>\n",
       "   <g id=\"line2d_7\">\n",
       "    <path clip-path=\"url(#p6c8687bb8d)\" d=\"\n",
       "M418.358 230.4\n",
       "L367.453 230.4\" style=\"fill:none;stroke:#000000;stroke-linecap:square;\"/>\n",
       "   </g>\n",
       "   <g id=\"line2d_8\">\n",
       "    <path clip-path=\"url(#p6c8687bb8d)\" d=\"\n",
       "M265.642 175.653\n",
       "L214.737 175.653\" style=\"fill:none;stroke:#000000;stroke-linecap:square;\"/>\n",
       "   </g>\n",
       "   <g id=\"line2d_9\">\n",
       "    <path clip-path=\"url(#p6c8687bb8d)\" d=\"\n",
       "M316.547 175.653\n",
       "L265.642 175.653\" style=\"fill:none;stroke:#000000;stroke-linecap:square;\"/>\n",
       "   </g>\n",
       "   <g id=\"line2d_10\">\n",
       "    <path clip-path=\"url(#p6c8687bb8d)\" d=\"\n",
       "M367.453 175.653\n",
       "L316.547 175.653\" style=\"fill:none;stroke:#000000;stroke-linecap:square;\"/>\n",
       "   </g>\n",
       "   <g id=\"line2d_11\">\n",
       "    <path clip-path=\"url(#p6c8687bb8d)\" d=\"\n",
       "M418.358 230.4\n",
       "L367.453 175.653\" style=\"fill:none;stroke:#000000;stroke-linecap:square;\"/>\n",
       "   </g>\n",
       "   <g id=\"line2d_12\">\n",
       "    <path clip-path=\"url(#p6c8687bb8d)\" d=\"\n",
       "M469.263 230.4\n",
       "L418.358 230.4\" style=\"fill:none;stroke:#000000;stroke-linecap:square;\"/>\n",
       "   </g>\n",
       "   <g id=\"line2d_13\">\n",
       "    <path clip-path=\"url(#p6c8687bb8d)\" d=\"\n",
       "M520.168 230.4\n",
       "L469.263 230.4\" style=\"fill:none;stroke:#000000;stroke-linecap:square;\"/>\n",
       "   </g>\n",
       "   <g id=\"line2d_14\">\n",
       "    <path clip-path=\"url(#p6c8687bb8d)\" d=\"\n",
       "M520.168 230.4\n",
       "L520.168 203.026\" style=\"fill:none;stroke:#000000;stroke-linecap:square;\"/>\n",
       "   </g>\n",
       "   <g id=\"RES-1b-o-dglc-HEX-0-0-1-aldi-2s-n-acetyl-LIN-1-1d-2+1-2n-1\">\n",
       "    <path clip-path=\"url(#p6c8687bb8d)\" d=\"\n",
       "M528 221.977\n",
       "L528 238.823\n",
       "L512.337 238.823\n",
       "L512.337 221.977\n",
       "L528 221.977\n",
       "z\n",
       "\" style=\"fill:#0000ff;stroke:#000000;stroke-linejoin:miter;\"/>\n",
       "   </g>\n",
       "   <g id=\"RES-1b-b-dglc-HEX-1-5-2s-n-acetyl-LIN-1-1d-2+1-2n-2\">\n",
       "    <path clip-path=\"url(#p6c8687bb8d)\" d=\"\n",
       "M477.095 221.977\n",
       "L477.095 238.823\n",
       "L461.432 238.823\n",
       "L461.432 221.977\n",
       "L477.095 221.977\n",
       "z\n",
       "\" style=\"fill:#0000ff;stroke:#000000;stroke-linejoin:miter;\"/>\n",
       "   </g>\n",
       "   <g id=\"RES-1b-b-dman-HEX-1-5-3\">\n",
       "    <path clip-path=\"url(#p6c8687bb8d)\" d=\"\n",
       "M418.358 238.823\n",
       "C420.435 238.823 422.427 237.935 423.896 236.356\n",
       "C425.364 234.776 426.189 232.634 426.189 230.4\n",
       "C426.189 228.166 425.364 226.024 423.896 224.444\n",
       "C422.427 222.865 420.435 221.977 418.358 221.977\n",
       "C416.281 221.977 414.289 222.865 412.82 224.444\n",
       "C411.352 226.024 410.526 228.166 410.526 230.4\n",
       "C410.526 232.634 411.352 234.776 412.82 236.356\n",
       "C414.289 237.935 416.281 238.823 418.358 238.823\n",
       "z\n",
       "\" style=\"fill:#008000;stroke:#000000;stroke-linejoin:miter;\"/>\n",
       "   </g>\n",
       "   <g id=\"RES-1b-a-dman-HEX-1-5-9\">\n",
       "    <path clip-path=\"url(#p6c8687bb8d)\" d=\"\n",
       "M367.453 293.57\n",
       "C369.53 293.57 371.522 292.682 372.99 291.103\n",
       "C374.459 289.523 375.284 287.381 375.284 285.147\n",
       "C375.284 282.913 374.459 280.771 372.99 279.191\n",
       "C371.522 277.612 369.53 276.725 367.453 276.725\n",
       "C365.376 276.725 363.384 277.612 361.915 279.191\n",
       "C360.446 280.771 359.621 282.913 359.621 285.147\n",
       "C359.621 287.381 360.446 289.523 361.915 291.103\n",
       "C363.384 292.682 365.376 293.57 367.453 293.57\n",
       "z\n",
       "\" style=\"fill:#008000;stroke:#000000;stroke-linejoin:miter;\"/>\n",
       "   </g>\n",
       "   <g id=\"RES-1b-b-dglc-HEX-1-5-2s-n-acetyl-LIN-1-1d-2+1-2n-10\">\n",
       "    <path clip-path=\"url(#p6c8687bb8d)\" d=\"\n",
       "M324.379 276.725\n",
       "L324.379 293.57\n",
       "L308.716 293.57\n",
       "L308.716 276.725\n",
       "L324.379 276.725\n",
       "z\n",
       "\" style=\"fill:#0000ff;stroke:#000000;stroke-linejoin:miter;\"/>\n",
       "   </g>\n",
       "   <g id=\"RES-1b-a-lgal-HEX-1-5-6-d-14\">\n",
       "    <path clip-path=\"url(#p6c8687bb8d)\" d=\"\n",
       "M316.547 249.351\n",
       "L309.765 261.985\n",
       "L323.33 261.985\n",
       "z\n",
       "\" style=\"fill:#ff0000;stroke:#000000;stroke-linejoin:miter;\"/>\n",
       "   </g>\n",
       "   <g id=\"RES-1b-b-dgal-HEX-1-5-11\">\n",
       "    <path clip-path=\"url(#p6c8687bb8d)\" d=\"\n",
       "M265.642 293.57\n",
       "C267.719 293.57 269.711 292.682 271.18 291.103\n",
       "C272.648 289.523 273.474 287.381 273.474 285.147\n",
       "C273.474 282.913 272.648 280.771 271.18 279.191\n",
       "C269.711 277.612 267.719 276.725 265.642 276.725\n",
       "C263.565 276.725 261.573 277.612 260.104 279.191\n",
       "C258.636 280.771 257.811 282.913 257.811 285.147\n",
       "C257.811 287.381 258.636 289.523 260.104 291.103\n",
       "C261.573 292.682 263.565 293.57 265.642 293.57\n",
       "z\n",
       "\" style=\"fill:#ffff00;stroke:#000000;stroke-linejoin:miter;\"/>\n",
       "   </g>\n",
       "   <g id=\"RES-1b-a-dgro-dgal-NON-2-6-1-a-2-keto-3-d-2s-n-glycolyl-LIN-1-1d-5+1-2n-12\">\n",
       "    <path clip-path=\"url(#p6c8687bb8d)\" d=\"\n",
       "M214.737 276.725\n",
       "L206.905 285.147\n",
       "L214.737 293.57\n",
       "L222.568 285.147\n",
       "z\n",
       "\" style=\"fill:#add8e6;stroke:#000000;stroke-linejoin:miter;\"/>\n",
       "   </g>\n",
       "   <g id=\"RES-1b-a-dgro-dgal-NON-2-6-1-a-2-keto-3-d-2s-n-acetyl-LIN-1-1d-5+1-2n-13\">\n",
       "    <path clip-path=\"url(#p6c8687bb8d)\" d=\"\n",
       "M163.832 276.725\n",
       "L156 285.147\n",
       "L163.832 293.57\n",
       "L171.663 285.147\n",
       "z\n",
       "\" style=\"fill:#800080;stroke:#000000;stroke-linejoin:miter;\"/>\n",
       "   </g>\n",
       "   <g id=\"RES-1b-b-dglc-HEX-1-5-2s-n-acetyl-LIN-1-1d-2+1-2n-8\">\n",
       "    <path clip-path=\"url(#p6c8687bb8d)\" d=\"\n",
       "M375.284 221.977\n",
       "L375.284 238.823\n",
       "L359.621 238.823\n",
       "L359.621 221.977\n",
       "L375.284 221.977\n",
       "z\n",
       "\" style=\"fill:#0000ff;stroke:#000000;stroke-linejoin:miter;\"/>\n",
       "   </g>\n",
       "   <g id=\"RES-1b-a-dman-HEX-1-5-4\">\n",
       "    <path clip-path=\"url(#p6c8687bb8d)\" d=\"\n",
       "M367.453 184.075\n",
       "C369.53 184.075 371.522 183.188 372.99 181.609\n",
       "C374.459 180.029 375.284 177.887 375.284 175.653\n",
       "C375.284 173.419 374.459 171.277 372.99 169.697\n",
       "C371.522 168.118 369.53 167.23 367.453 167.23\n",
       "C365.376 167.23 363.384 168.118 361.915 169.697\n",
       "C360.446 171.277 359.621 173.419 359.621 175.653\n",
       "C359.621 177.887 360.446 180.029 361.915 181.609\n",
       "C363.384 183.188 365.376 184.075 367.453 184.075\n",
       "z\n",
       "\" style=\"fill:#008000;stroke:#000000;stroke-linejoin:miter;\"/>\n",
       "   </g>\n",
       "   <g id=\"RES-1b-b-dglc-HEX-1-5-2s-n-acetyl-LIN-1-1d-2+1-2n-5\">\n",
       "    <path clip-path=\"url(#p6c8687bb8d)\" d=\"\n",
       "M324.379 167.23\n",
       "L324.379 184.075\n",
       "L308.716 184.075\n",
       "L308.716 167.23\n",
       "L324.379 167.23\n",
       "z\n",
       "\" style=\"fill:#0000ff;stroke:#000000;stroke-linejoin:miter;\"/>\n",
       "   </g>\n",
       "   <g id=\"RES-1b-b-dgal-HEX-1-5-6\">\n",
       "    <path clip-path=\"url(#p6c8687bb8d)\" d=\"\n",
       "M265.642 184.075\n",
       "C267.719 184.075 269.711 183.188 271.18 181.609\n",
       "C272.648 180.029 273.474 177.887 273.474 175.653\n",
       "C273.474 173.419 272.648 171.277 271.18 169.697\n",
       "C269.711 168.118 267.719 167.23 265.642 167.23\n",
       "C263.565 167.23 261.573 168.118 260.104 169.697\n",
       "C258.636 171.277 257.811 173.419 257.811 175.653\n",
       "C257.811 177.887 258.636 180.029 260.104 181.609\n",
       "C261.573 183.188 263.565 184.075 265.642 184.075\n",
       "z\n",
       "\" style=\"fill:#ffff00;stroke:#000000;stroke-linejoin:miter;\"/>\n",
       "   </g>\n",
       "   <g id=\"RES-1b-a-dgro-dgal-NON-2-6-1-a-2-keto-3-d-2s-n-acetyl-LIN-1-1d-5+1-2n-7\">\n",
       "    <path clip-path=\"url(#p6c8687bb8d)\" d=\"\n",
       "M214.737 167.23\n",
       "L206.905 175.653\n",
       "L214.737 184.075\n",
       "L222.568 175.653\n",
       "z\n",
       "\" style=\"fill:#800080;stroke:#000000;stroke-linejoin:miter;\"/>\n",
       "   </g>\n",
       "   <g id=\"RES-1b-a-lgal-HEX-1-5-6-d-15\">\n",
       "    <path clip-path=\"url(#p6c8687bb8d)\" d=\"\n",
       "M520.168 194.604\n",
       "L513.386 207.238\n",
       "L526.951 207.238\n",
       "z\n",
       "\" style=\"fill:#ff0000;stroke:#000000;stroke-linejoin:miter;\"/>\n",
       "   </g>\n",
       "   <g id=\"patch_3\">\n",
       "    <path d=\"\n",
       "M7.2 7.2\n",
       "L676.8 7.2\" style=\"fill:none;stroke:#000000;stroke-linecap:square;stroke-linejoin:miter;\"/>\n",
       "   </g>\n",
       "   <g id=\"patch_4\">\n",
       "    <path d=\"\n",
       "M676.8 453.6\n",
       "L676.8 7.2\" style=\"fill:none;stroke:#000000;stroke-linecap:square;stroke-linejoin:miter;\"/>\n",
       "   </g>\n",
       "   <g id=\"patch_5\">\n",
       "    <path d=\"\n",
       "M7.2 453.6\n",
       "L676.8 453.6\" style=\"fill:none;stroke:#000000;stroke-linecap:square;stroke-linejoin:miter;\"/>\n",
       "   </g>\n",
       "   <g id=\"patch_6\">\n",
       "    <path d=\"\n",
       "M7.2 453.6\n",
       "L7.2 7.2\" style=\"fill:none;stroke:#000000;stroke-linecap:square;stroke-linejoin:miter;\"/>\n",
       "   </g>\n",
       "   <g id=\"line2d_15\">\n",
       "    <path clip-path=\"url(#p6c8687bb8d)\" d=\"\n",
       "M332.211 271.46\n",
       "L300.884 271.46\" style=\"fill:none;stroke:#ff0000;stroke-linecap:square;\"/>\n",
       "   </g>\n",
       "   <g id=\"line2d_16\">\n",
       "    <path clip-path=\"url(#p6c8687bb8d)\" d=\"\n",
       "M535.832 216.713\n",
       "L504.505 216.713\" style=\"fill:none;stroke:#ff0000;stroke-linecap:square;\"/>\n",
       "   </g>\n",
       "   <g id=\"line2d_17\">\n",
       "    <path clip-path=\"url(#p6c8687bb8d)\" d=\"\n",
       "M392.905 213.555\n",
       "L392.905 247.245\" style=\"fill:none;stroke:#ff0000;stroke-linecap:square;\"/>\n",
       "   </g>\n",
       "   <g id=\"line2d_18\">\n",
       "    <path clip-path=\"url(#p6c8687bb8d)\" d=\"\n",
       "M240.189 158.808\n",
       "L240.189 192.498\" style=\"fill:none;stroke:#ff0000;stroke-linecap:square;\"/>\n",
       "   </g>\n",
       "   <g id=\"line2d_19\">\n",
       "    <path clip-path=\"url(#p6c8687bb8d)\" d=\"\n",
       "M189.284 268.302\n",
       "L189.284 301.992\" style=\"fill:none;stroke:#ff0000;stroke-linecap:square;\"/>\n",
       "   </g>\n",
       "   <g id=\"line2d_20\">\n",
       "    <path clip-path=\"url(#p6c8687bb8d)\" d=\"\n",
       "M240.189 158.808\n",
       "L240.189 192.498\" style=\"fill:none;stroke:#ff0000;stroke-linecap:square;\"/>\n",
       "   </g>\n",
       "   <g id=\"line2d_21\">\n",
       "    <path clip-path=\"url(#p6c8687bb8d)\" d=\"\n",
       "M189.284 268.302\n",
       "L189.284 301.992\" style=\"fill:none;stroke:#ff0000;stroke-linecap:square;\"/>\n",
       "   </g>\n",
       "   <g id=\"line2d_22\">\n",
       "    <path clip-path=\"url(#p6c8687bb8d)\" d=\"\n",
       "M249.979 158.808\n",
       "L281.305 192.498\" style=\"fill:none;stroke:#ff0000;stroke-linecap:square;\"/>\n",
       "   </g>\n",
       "   <g id=\"line2d_23\">\n",
       "    <path clip-path=\"url(#p6c8687bb8d)\" d=\"\n",
       "M249.979 158.808\n",
       "L281.305 192.498\" style=\"fill:none;stroke:#ff0000;stroke-linecap:square;\"/>\n",
       "   </g>\n",
       "   <g id=\"line2d_24\">\n",
       "    <path clip-path=\"url(#p6c8687bb8d)\" d=\"\n",
       "M494.716 213.555\n",
       "L494.716 247.245\" style=\"fill:none;stroke:#ff0000;stroke-linecap:square;\"/>\n",
       "   </g>\n",
       "   <g id=\"line2d_25\">\n",
       "    <path clip-path=\"url(#p6c8687bb8d)\" d=\"\n",
       "M291.095 158.808\n",
       "L291.095 192.498\" style=\"fill:none;stroke:#ff0000;stroke-linecap:square;\"/>\n",
       "   </g>\n",
       "   <g id=\"line2d_26\">\n",
       "    <path clip-path=\"url(#p6c8687bb8d)\" d=\"\n",
       "M291.095 158.808\n",
       "L291.095 192.498\" style=\"fill:none;stroke:#ff0000;stroke-linecap:square;\"/>\n",
       "   </g>\n",
       "   <g id=\"line2d_27\">\n",
       "    <path clip-path=\"url(#p6c8687bb8d)\" d=\"\n",
       "M300.884 158.808\n",
       "L332.211 192.498\" style=\"fill:none;stroke:#ff0000;stroke-linecap:square;\"/>\n",
       "   </g>\n",
       "   <g id=\"line2d_28\">\n",
       "    <path clip-path=\"url(#p6c8687bb8d)\" d=\"\n",
       "M199.074 268.302\n",
       "L230.4 301.992\" style=\"fill:none;stroke:#ff0000;stroke-linecap:square;\"/>\n",
       "   </g>\n",
       "   <g id=\"line2d_29\">\n",
       "    <path clip-path=\"url(#p6c8687bb8d)\" d=\"\n",
       "M199.074 268.302\n",
       "L230.4 301.992\" style=\"fill:none;stroke:#ff0000;stroke-linecap:square;\"/>\n",
       "   </g>\n",
       "   <g id=\"line2d_30\">\n",
       "    <path clip-path=\"url(#p6c8687bb8d)\" d=\"\n",
       "M342 158.808\n",
       "L342 192.498\" style=\"fill:none;stroke:#ff0000;stroke-linecap:square;\"/>\n",
       "   </g>\n",
       "   <g id=\"line2d_31\">\n",
       "    <path clip-path=\"url(#p6c8687bb8d)\" d=\"\n",
       "M342 158.808\n",
       "L342 192.498\" style=\"fill:none;stroke:#ff0000;stroke-linecap:square;\"/>\n",
       "   </g>\n",
       "   <g id=\"line2d_32\">\n",
       "    <path clip-path=\"url(#p6c8687bb8d)\" d=\"\n",
       "M249.979 268.302\n",
       "L281.305 301.992\" style=\"fill:none;stroke:#ff0000;stroke-linecap:square;\"/>\n",
       "   </g>\n",
       "   <g id=\"line2d_33\">\n",
       "    <path clip-path=\"url(#p6c8687bb8d)\" d=\"\n",
       "M249.979 268.302\n",
       "L281.305 301.992\" style=\"fill:none;stroke:#ff0000;stroke-linecap:square;\"/>\n",
       "   </g>\n",
       "   <g id=\"line2d_34\">\n",
       "    <path clip-path=\"url(#p6c8687bb8d)\" d=\"\n",
       "M377.242 219.872\n",
       "L408.568 186.181\" style=\"fill:none;stroke:#ff0000;stroke-linecap:square;\"/>\n",
       "   </g>\n",
       "   <g id=\"line2d_35\">\n",
       "    <path clip-path=\"url(#p6c8687bb8d)\" d=\"\n",
       "M402.695 213.555\n",
       "L434.021 247.245\" style=\"fill:none;stroke:#ff0000;stroke-linecap:square;\"/>\n",
       "   </g>\n",
       "   <g id=\"line2d_36\">\n",
       "    <path clip-path=\"url(#p6c8687bb8d)\" d=\"\n",
       "M300.884 268.302\n",
       "L332.211 301.992\" style=\"fill:none;stroke:#ff0000;stroke-linecap:square;\"/>\n",
       "   </g>\n",
       "   <g id=\"line2d_37\">\n",
       "    <path clip-path=\"url(#p6c8687bb8d)\" d=\"\n",
       "M300.884 268.302\n",
       "L332.211 301.992\" style=\"fill:none;stroke:#ff0000;stroke-linecap:square;\"/>\n",
       "   </g>\n",
       "   <g id=\"line2d_38\">\n",
       "    <path clip-path=\"url(#p6c8687bb8d)\" d=\"\n",
       "M351.789 268.302\n",
       "L383.116 301.992\" style=\"fill:none;stroke:#ff0000;stroke-linecap:square;\"/>\n",
       "   </g>\n",
       "   <g id=\"line2d_39\">\n",
       "    <path clip-path=\"url(#p6c8687bb8d)\" d=\"\n",
       "M351.789 268.302\n",
       "L383.116 301.992\" style=\"fill:none;stroke:#ff0000;stroke-linecap:square;\"/>\n",
       "   </g>\n",
       "   <g id=\"line2d_40\">\n",
       "    <path clip-path=\"url(#p6c8687bb8d)\" d=\"\n",
       "M402.695 213.555\n",
       "L434.021 247.245\" style=\"fill:none;stroke:#ff0000;stroke-linecap:square;\"/>\n",
       "   </g>\n",
       "   <g id=\"line2d_41\">\n",
       "    <path clip-path=\"url(#p6c8687bb8d)\" d=\"\n",
       "M402.695 213.555\n",
       "L434.021 247.245\" style=\"fill:none;stroke:#ff0000;stroke-linecap:square;\"/>\n",
       "   </g>\n",
       "   <g id=\"line2d_42\">\n",
       "    <path clip-path=\"url(#p6c8687bb8d)\" d=\"\n",
       "M402.695 213.555\n",
       "L434.021 247.245\" style=\"fill:none;stroke:#ff0000;stroke-linecap:square;\"/>\n",
       "   </g>\n",
       "   <g id=\"line2d_43\">\n",
       "    <path clip-path=\"url(#p6c8687bb8d)\" d=\"\n",
       "M402.695 213.555\n",
       "L434.021 247.245\" style=\"fill:none;stroke:#ff0000;stroke-linecap:square;\"/>\n",
       "   </g>\n",
       "   <g id=\"line2d_44\">\n",
       "    <path clip-path=\"url(#p6c8687bb8d)\" d=\"\n",
       "M377.242 240.928\n",
       "L408.568 274.619\" style=\"fill:none;stroke:#ff0000;stroke-linecap:square;\"/>\n",
       "   </g>\n",
       "   <g id=\"line2d_45\">\n",
       "    <path clip-path=\"url(#p6c8687bb8d)\" d=\"\n",
       "M351.789 268.302\n",
       "L383.116 301.992\" style=\"fill:none;stroke:#ff0000;stroke-linecap:square;\"/>\n",
       "   </g>\n",
       "   <g id=\"line2d_46\">\n",
       "    <path clip-path=\"url(#p6c8687bb8d)\" d=\"\n",
       "M351.789 268.302\n",
       "L383.116 301.992\" style=\"fill:none;stroke:#ff0000;stroke-linecap:square;\"/>\n",
       "   </g>\n",
       "   <g id=\"line2d_47\">\n",
       "    <path clip-path=\"url(#p6c8687bb8d)\" d=\"\n",
       "M342 268.302\n",
       "L342 301.992\" style=\"fill:none;stroke:#ff0000;stroke-linecap:square;\"/>\n",
       "   </g>\n",
       "   <g id=\"line2d_48\">\n",
       "    <path clip-path=\"url(#p6c8687bb8d)\" d=\"\n",
       "M300.884 268.302\n",
       "L332.211 301.992\" style=\"fill:none;stroke:#ff0000;stroke-linecap:square;\"/>\n",
       "   </g>\n",
       "   <g id=\"line2d_49\">\n",
       "    <path clip-path=\"url(#p6c8687bb8d)\" d=\"\n",
       "M300.884 268.302\n",
       "L332.211 301.992\" style=\"fill:none;stroke:#ff0000;stroke-linecap:square;\"/>\n",
       "   </g>\n",
       "   <g id=\"line2d_50\">\n",
       "    <path clip-path=\"url(#p6c8687bb8d)\" d=\"\n",
       "M300.884 268.302\n",
       "L332.211 301.992\" style=\"fill:none;stroke:#ff0000;stroke-linecap:square;\"/>\n",
       "   </g>\n",
       "   <g id=\"line2d_51\">\n",
       "    <path clip-path=\"url(#p6c8687bb8d)\" d=\"\n",
       "M377.242 219.872\n",
       "L408.568 186.181\" style=\"fill:none;stroke:#ff0000;stroke-linecap:square;\"/>\n",
       "   </g>\n",
       "   <g id=\"line2d_52\">\n",
       "    <path clip-path=\"url(#p6c8687bb8d)\" d=\"\n",
       "M291.095 268.302\n",
       "L291.095 301.992\" style=\"fill:none;stroke:#ff0000;stroke-linecap:square;\"/>\n",
       "   </g>\n",
       "   <g id=\"line2d_53\">\n",
       "    <path clip-path=\"url(#p6c8687bb8d)\" d=\"\n",
       "M249.979 268.302\n",
       "L281.305 301.992\" style=\"fill:none;stroke:#ff0000;stroke-linecap:square;\"/>\n",
       "   </g>\n",
       "   <g id=\"line2d_54\">\n",
       "    <path clip-path=\"url(#p6c8687bb8d)\" d=\"\n",
       "M342 158.808\n",
       "L342 192.498\" style=\"fill:none;stroke:#ff0000;stroke-linecap:square;\"/>\n",
       "   </g>\n",
       "   <g id=\"line2d_55\">\n",
       "    <path clip-path=\"url(#p6c8687bb8d)\" d=\"\n",
       "M402.695 213.555\n",
       "L434.021 247.245\" style=\"fill:none;stroke:#ff0000;stroke-linecap:square;\"/>\n",
       "   </g>\n",
       "   <g id=\"line2d_56\">\n",
       "    <path clip-path=\"url(#p6c8687bb8d)\" d=\"\n",
       "M240.189 268.302\n",
       "L240.189 301.992\" style=\"fill:none;stroke:#ff0000;stroke-linecap:square;\"/>\n",
       "   </g>\n",
       "   <g id=\"line2d_57\">\n",
       "    <path clip-path=\"url(#p6c8687bb8d)\" d=\"\n",
       "M300.884 158.808\n",
       "L332.211 192.498\" style=\"fill:none;stroke:#ff0000;stroke-linecap:square;\"/>\n",
       "   </g>\n",
       "   <g id=\"line2d_58\">\n",
       "    <path clip-path=\"url(#p6c8687bb8d)\" d=\"\n",
       "M443.811 213.555\n",
       "L443.811 247.245\" style=\"fill:none;stroke:#ff0000;stroke-linecap:square;\"/>\n",
       "   </g>\n",
       "   <g id=\"line2d_59\">\n",
       "    <path clip-path=\"url(#p6c8687bb8d)\" d=\"\n",
       "M300.884 158.808\n",
       "L332.211 192.498\" style=\"fill:none;stroke:#ff0000;stroke-linecap:square;\"/>\n",
       "   </g>\n",
       "   <g id=\"line2d_60\">\n",
       "    <path clip-path=\"url(#p6c8687bb8d)\" d=\"\n",
       "M199.074 268.302\n",
       "L230.4 301.992\" style=\"fill:none;stroke:#ff0000;stroke-linecap:square;\"/>\n",
       "   </g>\n",
       "   <g id=\"line2d_61\">\n",
       "    <path clip-path=\"url(#p6c8687bb8d)\" d=\"\n",
       "M199.074 268.302\n",
       "L230.4 301.992\" style=\"fill:none;stroke:#ff0000;stroke-linecap:square;\"/>\n",
       "   </g>\n",
       "   <g id=\"line2d_62\">\n",
       "    <path clip-path=\"url(#p6c8687bb8d)\" d=\"\n",
       "M453.6 213.555\n",
       "L484.926 247.245\" style=\"fill:none;stroke:#ff0000;stroke-linecap:square;\"/>\n",
       "   </g>\n",
       "   <g id=\"line2d_63\">\n",
       "    <path clip-path=\"url(#p6c8687bb8d)\" d=\"\n",
       "M291.095 158.808\n",
       "L291.095 192.498\" style=\"fill:none;stroke:#ff0000;stroke-linecap:square;\"/>\n",
       "   </g>\n",
       "   <g id=\"line2d_64\">\n",
       "    <path clip-path=\"url(#p6c8687bb8d)\" d=\"\n",
       "M494.716 213.555\n",
       "L494.716 247.245\" style=\"fill:none;stroke:#ff0000;stroke-linecap:square;\"/>\n",
       "   </g>\n",
       "   <g id=\"line2d_65\">\n",
       "    <path clip-path=\"url(#p6c8687bb8d)\" d=\"\n",
       "M189.284 268.302\n",
       "L189.284 301.992\" style=\"fill:none;stroke:#ff0000;stroke-linecap:square;\"/>\n",
       "   </g>\n",
       "   <g id=\"line2d_66\">\n",
       "    <path clip-path=\"url(#p6c8687bb8d)\" d=\"\n",
       "M240.189 158.808\n",
       "L240.189 192.498\" style=\"fill:none;stroke:#ff0000;stroke-linecap:square;\"/>\n",
       "   </g>\n",
       "   <g id=\"line2d_67\">\n",
       "    <path clip-path=\"url(#p6c8687bb8d)\" d=\"\n",
       "M199.074 158.808\n",
       "L230.4 192.498\" style=\"fill:none;stroke:#ff0000;stroke-linecap:square;\"/>\n",
       "   </g>\n",
       "   <g id=\"line2d_68\">\n",
       "    <path clip-path=\"url(#p6c8687bb8d)\" d=\"\n",
       "M148.168 268.302\n",
       "L179.495 301.992\" style=\"fill:none;stroke:#ff0000;stroke-linecap:square;\"/>\n",
       "   </g>\n",
       "   <g id=\"line2d_69\">\n",
       "    <path clip-path=\"url(#p6c8687bb8d)\" d=\"\n",
       "M332.211 271.46\n",
       "L300.884 271.46\" style=\"fill:none;stroke:#ff0000;stroke-linecap:square;\"/>\n",
       "   </g>\n",
       "   <g id=\"line2d_70\">\n",
       "    <path clip-path=\"url(#p6c8687bb8d)\" d=\"\n",
       "M535.832 216.713\n",
       "L504.505 216.713\" style=\"fill:none;stroke:#ff0000;stroke-linecap:square;\"/>\n",
       "   </g>\n",
       "   <g id=\"line2d_71\">\n",
       "    <path clip-path=\"url(#p6c8687bb8d)\" d=\"\n",
       "M535.832 216.713\n",
       "L504.505 216.713\" style=\"fill:none;stroke:#ff0000;stroke-linecap:square;\"/>\n",
       "   </g>\n",
       "   <g id=\"line2d_72\">\n",
       "    <path clip-path=\"url(#p6c8687bb8d)\" d=\"\n",
       "M332.211 271.46\n",
       "L300.884 271.46\" style=\"fill:none;stroke:#ff0000;stroke-linecap:square;\"/>\n",
       "   </g>\n",
       "   <g id=\"line2d_73\">\n",
       "    <path clip-path=\"url(#p6c8687bb8d)\" d=\"\n",
       "M199.074 158.808\n",
       "L230.4 192.498\" style=\"fill:none;stroke:#ff0000;stroke-linecap:square;\"/>\n",
       "   </g>\n",
       "   <g id=\"line2d_74\">\n",
       "    <path clip-path=\"url(#p6c8687bb8d)\" d=\"\n",
       "M148.168 268.302\n",
       "L179.495 301.992\" style=\"fill:none;stroke:#ff0000;stroke-linecap:square;\"/>\n",
       "   </g>\n",
       "   <g id=\"line2d_75\">\n",
       "    <path clip-path=\"url(#p6c8687bb8d)\" d=\"\n",
       "M504.505 186.181\n",
       "L535.832 219.872\" style=\"fill:none;stroke:#ff0000;stroke-linecap:square;\"/>\n",
       "   </g>\n",
       "   <g id=\"line2d_76\">\n",
       "    <path clip-path=\"url(#p6c8687bb8d)\" d=\"\n",
       "M300.884 240.928\n",
       "L332.211 274.619\" style=\"fill:none;stroke:#ff0000;stroke-linecap:square;\"/>\n",
       "   </g>\n",
       "  </g>\n",
       " </g>\n",
       " <defs>\n",
       "  <clipPath id=\"p6c8687bb8d\">\n",
       "   <rect height=\"446.4\" width=\"669.6\" x=\"7.2\" y=\"7.2\"/>\n",
       "  </clipPath>\n",
       " </defs>\n",
       "</svg>\n"
      ],
      "text/plain": [
       "<matplotlib.figure.Figure at 0x19f1a240>"
      ]
     },
     "metadata": {},
     "output_type": "display_data"
    },
    {
     "data": {
      "text/plain": [
       "5"
      ]
     },
     "metadata": {},
     "output_type": "display_data"
    },
    {
     "data": {
      "text/plain": [
       "3409.7462394927206"
      ]
     },
     "metadata": {},
     "output_type": "display_data"
    },
    {
     "data": {
      "text/plain": [
       "'Fragments Observed / Expected: 0.096'"
      ]
     },
     "metadata": {},
     "output_type": "display_data"
    },
    {
     "data": {
      "text/plain": [
       "'Bf1 188.106806 1 [14405.718248]'"
      ]
     },
     "metadata": {},
     "output_type": "display_data"
    },
    {
     "data": {
      "text/plain": [
       "'Bd1 188.106806 1 [14405.718248]'"
      ]
     },
     "metadata": {},
     "output_type": "display_data"
    },
    {
     "data": {
      "text/plain": [
       "'Be1 375.191956 1 [26117.229879]'"
      ]
     },
     "metadata": {},
     "output_type": "display_data"
    },
    {
     "data": {
      "text/plain": [
       "'2,4Ae2 449.22747 1 [2918.715487]'"
      ]
     },
     "metadata": {},
     "output_type": "display_data"
    },
    {
     "data": {
      "text/plain": [
       "'1,3Ae2 449.22747 1 [2918.715487]'"
      ]
     },
     "metadata": {},
     "output_type": "display_data"
    },
    {
     "data": {
      "text/plain": [
       "'Be2 579.297088 1 [433.39458]'"
      ]
     },
     "metadata": {},
     "output_type": "display_data"
    },
    {
     "data": {
      "text/plain": [
       "'3,5Ac1 667.343854 1 [257.914339]'"
      ]
     },
     "metadata": {},
     "output_type": "display_data"
    },
    {
     "data": {
      "text/plain": [
       "'Bc1 998.506083 2 [2915.031207, 17139.695137]'"
      ]
     },
     "metadata": {},
     "output_type": "display_data"
    },
    {
     "data": {
      "text/plain": [
       "'1,3Aa2 1088.54829 1 [108.760517]'"
      ]
     },
     "metadata": {},
     "output_type": "display_data"
    },
    {
     "data": {
      "text/plain": [
       "'1,3A5 1292.64847 1 [242.114588]'"
      ]
     },
     "metadata": {},
     "output_type": "display_data"
    },
    {
     "data": {
      "text/plain": [
       "'2,4A5 1537.776007 1 [650.699382]'"
      ]
     },
     "metadata": {},
     "output_type": "display_data"
    },
    {
     "data": {
      "text/plain": [
       "'1,3X2 2117.084498 1 [877.750254]'"
      ]
     },
     "metadata": {},
     "output_type": "display_data"
    },
    {
     "data": {
      "text/plain": [
       "'Yc4 2411.242648 1 [1558.836905]'"
      ]
     },
     "metadata": {},
     "output_type": "display_data"
    },
    {
     "data": {
      "text/plain": [
       "'2,4Xa4 2566.312905 1 [518.907686]'"
      ]
     },
     "metadata": {},
     "output_type": "display_data"
    },
    {
     "data": {
      "text/plain": [
       "'Ye5 2830.479794 1 [5489.501752]'"
      ]
     },
     "metadata": {},
     "output_type": "display_data"
    },
    {
     "data": {
      "text/plain": [
       "'2,4Xe5 2960.507789 1 [47.087006]'"
      ]
     },
     "metadata": {},
     "output_type": "display_data"
    },
    {
     "data": {
      "text/plain": [
       "'1,3Xe5 2960.507789 1 [47.087006]'"
      ]
     },
     "metadata": {},
     "output_type": "display_data"
    },
    {
     "data": {
      "text/plain": [
       "'0,3A6 2960.507789 1 [47.087006]'"
      ]
     },
     "metadata": {},
     "output_type": "display_data"
    },
    {
     "data": {
      "text/plain": [
       "'Ye6 3034.580094 1 [12661.136213]'"
      ]
     },
     "metadata": {},
     "output_type": "display_data"
    },
    {
     "data": {
      "text/plain": [
       "'Yd5 3221.65988 1 [8693.779513]'"
      ]
     },
     "metadata": {},
     "output_type": "display_data"
    },
    {
     "data": {
      "text/plain": [
       "'Yf5 3221.65988 1 [8693.779513]'"
      ]
     },
     "metadata": {},
     "output_type": "display_data"
    },
    {
     "data": {
      "image/svg+xml": [
       "<?xml version=\"1.0\" encoding=\"utf-8\" standalone=\"no\"?>\n",
       "<!DOCTYPE svg PUBLIC \"-//W3C//DTD SVG 1.1//EN\"\n",
       "  \"http://www.w3.org/Graphics/SVG/1.1/DTD/svg11.dtd\">\n",
       "<!-- Created with matplotlib (http://matplotlib.org/) -->\n",
       "<svg height=\"460pt\" version=\"1.1\" viewBox=\"0 0 684 460\" width=\"684pt\" xmlns=\"http://www.w3.org/2000/svg\" xmlns:xlink=\"http://www.w3.org/1999/xlink\">\n",
       " <defs>\n",
       "  <style type=\"text/css\">\n",
       "*{stroke-linecap:butt;stroke-linejoin:round;}\n",
       "  </style>\n",
       " </defs>\n",
       " <g id=\"figure_1\">\n",
       "  <g id=\"patch_1\">\n",
       "   <path d=\"\n",
       "M0 460.8\n",
       "L684 460.8\n",
       "L684 0\n",
       "L0 0\n",
       "L0 460.8\" style=\"fill:none;\"/>\n",
       "  </g>\n",
       "  <g id=\"axes_1\">\n",
       "   <g id=\"patch_2\">\n",
       "    <path d=\"\n",
       "M7.2 453.6\n",
       "L676.8 453.6\n",
       "L676.8 7.2\n",
       "L7.2 7.2\n",
       "L7.2 453.6\" style=\"fill:none;\"/>\n",
       "   </g>\n",
       "   <g id=\"line2d_1\">\n",
       "    <path clip-path=\"url(#p20201a9eeb)\" d=\"\n",
       "M286.906 294.88\n",
       "L286.906 269.088\" style=\"fill:none;stroke:#000000;stroke-linecap:square;\"/>\n",
       "   </g>\n",
       "   <g id=\"line2d_2\">\n",
       "    <path clip-path=\"url(#p20201a9eeb)\" d=\"\n",
       "M231.813 294.88\n",
       "L176.719 294.88\" style=\"fill:none;stroke:#000000;stroke-linecap:square;\"/>\n",
       "   </g>\n",
       "   <g id=\"line2d_3\">\n",
       "    <path clip-path=\"url(#p20201a9eeb)\" d=\"\n",
       "M286.906 294.88\n",
       "L231.813 294.88\" style=\"fill:none;stroke:#000000;stroke-linecap:square;\"/>\n",
       "   </g>\n",
       "   <g id=\"line2d_4\">\n",
       "    <path clip-path=\"url(#p20201a9eeb)\" d=\"\n",
       "M342 294.88\n",
       "L286.906 294.88\" style=\"fill:none;stroke:#000000;stroke-linecap:square;\"/>\n",
       "   </g>\n",
       "   <g id=\"line2d_5\">\n",
       "    <path clip-path=\"url(#p20201a9eeb)\" d=\"\n",
       "M397.094 243.296\n",
       "L342 294.88\" style=\"fill:none;stroke:#000000;stroke-linecap:square;\"/>\n",
       "   </g>\n",
       "   <g id=\"line2d_6\">\n",
       "    <path clip-path=\"url(#p20201a9eeb)\" d=\"\n",
       "M397.094 243.296\n",
       "L342 243.296\" style=\"fill:none;stroke:#000000;stroke-linecap:square;\"/>\n",
       "   </g>\n",
       "   <g id=\"line2d_7\">\n",
       "    <path clip-path=\"url(#p20201a9eeb)\" d=\"\n",
       "M286.906 191.712\n",
       "L286.906 165.92\" style=\"fill:none;stroke:#000000;stroke-linecap:square;\"/>\n",
       "   </g>\n",
       "   <g id=\"line2d_8\">\n",
       "    <path clip-path=\"url(#p20201a9eeb)\" d=\"\n",
       "M231.813 191.712\n",
       "L176.719 191.712\" style=\"fill:none;stroke:#000000;stroke-linecap:square;\"/>\n",
       "   </g>\n",
       "   <g id=\"line2d_9\">\n",
       "    <path clip-path=\"url(#p20201a9eeb)\" d=\"\n",
       "M286.906 191.712\n",
       "L231.813 191.712\" style=\"fill:none;stroke:#000000;stroke-linecap:square;\"/>\n",
       "   </g>\n",
       "   <g id=\"line2d_10\">\n",
       "    <path clip-path=\"url(#p20201a9eeb)\" d=\"\n",
       "M342 191.712\n",
       "L286.906 191.712\" style=\"fill:none;stroke:#000000;stroke-linecap:square;\"/>\n",
       "   </g>\n",
       "   <g id=\"line2d_11\">\n",
       "    <path clip-path=\"url(#p20201a9eeb)\" d=\"\n",
       "M397.094 243.296\n",
       "L342 191.712\" style=\"fill:none;stroke:#000000;stroke-linecap:square;\"/>\n",
       "   </g>\n",
       "   <g id=\"line2d_12\">\n",
       "    <path clip-path=\"url(#p20201a9eeb)\" d=\"\n",
       "M452.187 243.296\n",
       "L397.094 243.296\" style=\"fill:none;stroke:#000000;stroke-linecap:square;\"/>\n",
       "   </g>\n",
       "   <g id=\"line2d_13\">\n",
       "    <path clip-path=\"url(#p20201a9eeb)\" d=\"\n",
       "M507.281 243.296\n",
       "L452.187 243.296\" style=\"fill:none;stroke:#000000;stroke-linecap:square;\"/>\n",
       "   </g>\n",
       "   <g id=\"RES-1b-o-dglc-HEX-0-0-1-aldi-2s-n-acetyl-LIN-1-1d-2+1-2n-1\">\n",
       "    <path clip-path=\"url(#p20201a9eeb)\" d=\"\n",
       "M515.757 235.36\n",
       "L515.757 251.232\n",
       "L498.805 251.232\n",
       "L498.805 235.36\n",
       "L515.757 235.36\n",
       "z\n",
       "\" style=\"fill:#0000ff;stroke:#000000;stroke-linejoin:miter;\"/>\n",
       "   </g>\n",
       "   <g id=\"RES-1b-b-dglc-HEX-1-5-2s-n-acetyl-LIN-1-1d-2+1-2n-2\">\n",
       "    <path clip-path=\"url(#p20201a9eeb)\" d=\"\n",
       "M460.663 235.36\n",
       "L460.663 251.232\n",
       "L443.711 251.232\n",
       "L443.711 235.36\n",
       "L460.663 235.36\n",
       "z\n",
       "\" style=\"fill:#0000ff;stroke:#000000;stroke-linejoin:miter;\"/>\n",
       "   </g>\n",
       "   <g id=\"RES-1b-b-dman-HEX-1-5-3\">\n",
       "    <path clip-path=\"url(#p20201a9eeb)\" d=\"\n",
       "M397.094 251.232\n",
       "C399.342 251.232 401.498 250.396 403.087 248.908\n",
       "C404.677 247.419 405.57 245.401 405.57 243.296\n",
       "C405.57 241.191 404.677 239.173 403.087 237.684\n",
       "C401.498 236.196 399.342 235.36 397.094 235.36\n",
       "C394.846 235.36 392.69 236.196 391.1 237.684\n",
       "C389.511 239.173 388.618 241.191 388.618 243.296\n",
       "C388.618 245.401 389.511 247.419 391.1 248.908\n",
       "C392.69 250.396 394.846 251.232 397.094 251.232\n",
       "z\n",
       "\" style=\"fill:#008000;stroke:#000000;stroke-linejoin:miter;\"/>\n",
       "   </g>\n",
       "   <g id=\"RES-1b-a-dman-HEX-1-5-10\">\n",
       "    <path clip-path=\"url(#p20201a9eeb)\" d=\"\n",
       "M342 302.816\n",
       "C344.248 302.816 346.404 301.98 347.993 300.492\n",
       "C349.583 299.003 350.476 296.985 350.476 294.88\n",
       "C350.476 292.775 349.583 290.757 347.993 289.268\n",
       "C346.404 287.78 344.248 286.944 342 286.944\n",
       "C339.752 286.944 337.596 287.78 336.007 289.268\n",
       "C334.417 290.757 333.524 292.775 333.524 294.88\n",
       "C333.524 296.985 334.417 299.003 336.007 300.492\n",
       "C337.596 301.98 339.752 302.816 342 302.816\n",
       "z\n",
       "\" style=\"fill:#008000;stroke:#000000;stroke-linejoin:miter;\"/>\n",
       "   </g>\n",
       "   <g id=\"RES-1b-b-dglc-HEX-1-5-2s-n-acetyl-LIN-1-1d-2+1-2n-11\">\n",
       "    <path clip-path=\"url(#p20201a9eeb)\" d=\"\n",
       "M295.382 286.944\n",
       "L295.382 302.816\n",
       "L278.43 302.816\n",
       "L278.43 286.944\n",
       "L295.382 286.944\n",
       "z\n",
       "\" style=\"fill:#0000ff;stroke:#000000;stroke-linejoin:miter;\"/>\n",
       "   </g>\n",
       "   <g id=\"RES-1b-a-lgal-HEX-1-5-6-d-14\">\n",
       "    <path clip-path=\"url(#p20201a9eeb)\" d=\"\n",
       "M286.906 261.152\n",
       "L279.566 273.056\n",
       "L294.247 273.056\n",
       "z\n",
       "\" style=\"fill:#ff0000;stroke:#000000;stroke-linejoin:miter;\"/>\n",
       "   </g>\n",
       "   <g id=\"RES-1b-b-dgal-HEX-1-5-12\">\n",
       "    <path clip-path=\"url(#p20201a9eeb)\" d=\"\n",
       "M231.813 302.816\n",
       "C234.061 302.816 236.217 301.98 237.806 300.492\n",
       "C239.396 299.003 240.289 296.985 240.289 294.88\n",
       "C240.289 292.775 239.396 290.757 237.806 289.268\n",
       "C236.217 287.78 234.061 286.944 231.813 286.944\n",
       "C229.565 286.944 227.409 287.78 225.819 289.268\n",
       "C224.23 290.757 223.337 292.775 223.337 294.88\n",
       "C223.337 296.985 224.23 299.003 225.819 300.492\n",
       "C227.409 301.98 229.565 302.816 231.813 302.816\n",
       "z\n",
       "\" style=\"fill:#ffff00;stroke:#000000;stroke-linejoin:miter;\"/>\n",
       "   </g>\n",
       "   <g id=\"RES-1b-a-dgro-dgal-NON-2-6-1-a-2-keto-3-d-2s-n-glycolyl-LIN-1-1d-5+1-2n-13\">\n",
       "    <path clip-path=\"url(#p20201a9eeb)\" d=\"\n",
       "M176.719 286.944\n",
       "L168.243 294.88\n",
       "L176.719 302.816\n",
       "L185.195 294.88\n",
       "z\n",
       "\" style=\"fill:#add8e6;stroke:#000000;stroke-linejoin:miter;\"/>\n",
       "   </g>\n",
       "   <g id=\"RES-1b-b-dglc-HEX-1-5-2s-n-acetyl-LIN-1-1d-2+1-2n-9\">\n",
       "    <path clip-path=\"url(#p20201a9eeb)\" d=\"\n",
       "M350.476 235.36\n",
       "L350.476 251.232\n",
       "L333.524 251.232\n",
       "L333.524 235.36\n",
       "L350.476 235.36\n",
       "z\n",
       "\" style=\"fill:#0000ff;stroke:#000000;stroke-linejoin:miter;\"/>\n",
       "   </g>\n",
       "   <g id=\"RES-1b-a-dman-HEX-1-5-4\">\n",
       "    <path clip-path=\"url(#p20201a9eeb)\" d=\"\n",
       "M342 199.648\n",
       "C344.248 199.648 346.404 198.812 347.993 197.324\n",
       "C349.583 195.835 350.476 193.817 350.476 191.712\n",
       "C350.476 189.607 349.583 187.589 347.993 186.1\n",
       "C346.404 184.612 344.248 183.776 342 183.776\n",
       "C339.752 183.776 337.596 184.612 336.007 186.1\n",
       "C334.417 187.589 333.524 189.607 333.524 191.712\n",
       "C333.524 193.817 334.417 195.835 336.007 197.324\n",
       "C337.596 198.812 339.752 199.648 342 199.648\n",
       "z\n",
       "\" style=\"fill:#008000;stroke:#000000;stroke-linejoin:miter;\"/>\n",
       "   </g>\n",
       "   <g id=\"RES-1b-b-dglc-HEX-1-5-2s-n-acetyl-LIN-1-1d-2+1-2n-5\">\n",
       "    <path clip-path=\"url(#p20201a9eeb)\" d=\"\n",
       "M295.382 183.776\n",
       "L295.382 199.648\n",
       "L278.43 199.648\n",
       "L278.43 183.776\n",
       "L295.382 183.776\n",
       "z\n",
       "\" style=\"fill:#0000ff;stroke:#000000;stroke-linejoin:miter;\"/>\n",
       "   </g>\n",
       "   <g id=\"RES-1b-a-lgal-HEX-1-5-6-d-8\">\n",
       "    <path clip-path=\"url(#p20201a9eeb)\" d=\"\n",
       "M286.906 157.984\n",
       "L279.566 169.888\n",
       "L294.247 169.888\n",
       "z\n",
       "\" style=\"fill:#ff0000;stroke:#000000;stroke-linejoin:miter;\"/>\n",
       "   </g>\n",
       "   <g id=\"RES-1b-b-dgal-HEX-1-5-6\">\n",
       "    <path clip-path=\"url(#p20201a9eeb)\" d=\"\n",
       "M231.813 199.648\n",
       "C234.061 199.648 236.217 198.812 237.806 197.324\n",
       "C239.396 195.835 240.289 193.817 240.289 191.712\n",
       "C240.289 189.607 239.396 187.589 237.806 186.1\n",
       "C236.217 184.612 234.061 183.776 231.813 183.776\n",
       "C229.565 183.776 227.409 184.612 225.819 186.1\n",
       "C224.23 187.589 223.337 189.607 223.337 191.712\n",
       "C223.337 193.817 224.23 195.835 225.819 197.324\n",
       "C227.409 198.812 229.565 199.648 231.813 199.648\n",
       "z\n",
       "\" style=\"fill:#ffff00;stroke:#000000;stroke-linejoin:miter;\"/>\n",
       "   </g>\n",
       "   <g id=\"RES-1b-a-dgro-dgal-NON-2-6-1-a-2-keto-3-d-2s-n-acetyl-LIN-1-1d-5+1-2n-7\">\n",
       "    <path clip-path=\"url(#p20201a9eeb)\" d=\"\n",
       "M176.719 183.776\n",
       "L168.243 191.712\n",
       "L176.719 199.648\n",
       "L185.195 191.712\n",
       "z\n",
       "\" style=\"fill:#800080;stroke:#000000;stroke-linejoin:miter;\"/>\n",
       "   </g>\n",
       "   <g id=\"patch_3\">\n",
       "    <path d=\"\n",
       "M7.2 7.2\n",
       "L676.8 7.2\" style=\"fill:none;stroke:#000000;stroke-linecap:square;stroke-linejoin:miter;\"/>\n",
       "   </g>\n",
       "   <g id=\"patch_4\">\n",
       "    <path d=\"\n",
       "M676.8 453.6\n",
       "L676.8 7.2\" style=\"fill:none;stroke:#000000;stroke-linecap:square;stroke-linejoin:miter;\"/>\n",
       "   </g>\n",
       "   <g id=\"patch_5\">\n",
       "    <path d=\"\n",
       "M7.2 453.6\n",
       "L676.8 453.6\" style=\"fill:none;stroke:#000000;stroke-linecap:square;stroke-linejoin:miter;\"/>\n",
       "   </g>\n",
       "   <g id=\"patch_6\">\n",
       "    <path d=\"\n",
       "M7.2 453.6\n",
       "L7.2 7.2\" style=\"fill:none;stroke:#000000;stroke-linecap:square;stroke-linejoin:miter;\"/>\n",
       "   </g>\n",
       "   <g id=\"line2d_14\">\n",
       "    <path clip-path=\"url(#p20201a9eeb)\" d=\"\n",
       "M303.858 281.984\n",
       "L269.954 281.984\" style=\"fill:none;stroke:#ff0000;stroke-linecap:square;\"/>\n",
       "   </g>\n",
       "   <g id=\"line2d_15\">\n",
       "    <path clip-path=\"url(#p20201a9eeb)\" d=\"\n",
       "M303.858 178.816\n",
       "L269.954 178.816\" style=\"fill:none;stroke:#ff0000;stroke-linecap:square;\"/>\n",
       "   </g>\n",
       "   <g id=\"line2d_16\">\n",
       "    <path clip-path=\"url(#p20201a9eeb)\" d=\"\n",
       "M204.266 175.84\n",
       "L204.266 207.584\" style=\"fill:none;stroke:#ff0000;stroke-linecap:square;\"/>\n",
       "   </g>\n",
       "   <g id=\"line2d_17\">\n",
       "    <path clip-path=\"url(#p20201a9eeb)\" d=\"\n",
       "M214.861 175.84\n",
       "L248.765 207.584\" style=\"fill:none;stroke:#ff0000;stroke-linecap:square;\"/>\n",
       "   </g>\n",
       "   <g id=\"line2d_18\">\n",
       "    <path clip-path=\"url(#p20201a9eeb)\" d=\"\n",
       "M214.861 175.84\n",
       "L248.765 207.584\" style=\"fill:none;stroke:#ff0000;stroke-linecap:square;\"/>\n",
       "   </g>\n",
       "   <g id=\"line2d_19\">\n",
       "    <path clip-path=\"url(#p20201a9eeb)\" d=\"\n",
       "M259.359 175.84\n",
       "L259.359 207.584\" style=\"fill:none;stroke:#ff0000;stroke-linecap:square;\"/>\n",
       "   </g>\n",
       "   <g id=\"line2d_20\">\n",
       "    <path clip-path=\"url(#p20201a9eeb)\" d=\"\n",
       "M269.954 175.84\n",
       "L303.858 207.584\" style=\"fill:none;stroke:#ff0000;stroke-linecap:square;\"/>\n",
       "   </g>\n",
       "   <g id=\"line2d_21\">\n",
       "    <path clip-path=\"url(#p20201a9eeb)\" d=\"\n",
       "M314.453 175.84\n",
       "L314.453 207.584\" style=\"fill:none;stroke:#ff0000;stroke-linecap:square;\"/>\n",
       "   </g>\n",
       "   <g id=\"line2d_22\">\n",
       "    <path clip-path=\"url(#p20201a9eeb)\" d=\"\n",
       "M325.048 279.008\n",
       "L358.952 310.752\" style=\"fill:none;stroke:#ff0000;stroke-linecap:square;\"/>\n",
       "   </g>\n",
       "   <g id=\"line2d_23\">\n",
       "    <path clip-path=\"url(#p20201a9eeb)\" d=\"\n",
       "M380.142 227.424\n",
       "L414.046 259.168\" style=\"fill:none;stroke:#ff0000;stroke-linecap:square;\"/>\n",
       "   </g>\n",
       "   <g id=\"line2d_24\">\n",
       "    <path clip-path=\"url(#p20201a9eeb)\" d=\"\n",
       "M380.142 227.424\n",
       "L414.046 259.168\" style=\"fill:none;stroke:#ff0000;stroke-linecap:square;\"/>\n",
       "   </g>\n",
       "   <g id=\"line2d_25\">\n",
       "    <path clip-path=\"url(#p20201a9eeb)\" d=\"\n",
       "M380.142 227.424\n",
       "L414.046 259.168\" style=\"fill:none;stroke:#ff0000;stroke-linecap:square;\"/>\n",
       "   </g>\n",
       "   <g id=\"line2d_26\">\n",
       "    <path clip-path=\"url(#p20201a9eeb)\" d=\"\n",
       "M314.453 175.84\n",
       "L314.453 207.584\" style=\"fill:none;stroke:#ff0000;stroke-linecap:square;\"/>\n",
       "   </g>\n",
       "   <g id=\"line2d_27\">\n",
       "    <path clip-path=\"url(#p20201a9eeb)\" d=\"\n",
       "M269.954 279.008\n",
       "L303.858 310.752\" style=\"fill:none;stroke:#ff0000;stroke-linecap:square;\"/>\n",
       "   </g>\n",
       "   <g id=\"line2d_28\">\n",
       "    <path clip-path=\"url(#p20201a9eeb)\" d=\"\n",
       "M259.359 175.84\n",
       "L259.359 207.584\" style=\"fill:none;stroke:#ff0000;stroke-linecap:square;\"/>\n",
       "   </g>\n",
       "   <g id=\"line2d_29\">\n",
       "    <path clip-path=\"url(#p20201a9eeb)\" d=\"\n",
       "M214.861 175.84\n",
       "L248.765 207.584\" style=\"fill:none;stroke:#ff0000;stroke-linecap:square;\"/>\n",
       "   </g>\n",
       "   <g id=\"line2d_30\">\n",
       "    <path clip-path=\"url(#p20201a9eeb)\" d=\"\n",
       "M214.861 175.84\n",
       "L248.765 207.584\" style=\"fill:none;stroke:#ff0000;stroke-linecap:square;\"/>\n",
       "   </g>\n",
       "   <g id=\"line2d_31\">\n",
       "    <path clip-path=\"url(#p20201a9eeb)\" d=\"\n",
       "M435.235 227.424\n",
       "L469.139 259.168\" style=\"fill:none;stroke:#ff0000;stroke-linecap:square;\"/>\n",
       "   </g>\n",
       "   <g id=\"line2d_32\">\n",
       "    <path clip-path=\"url(#p20201a9eeb)\" d=\"\n",
       "M204.266 175.84\n",
       "L204.266 207.584\" style=\"fill:none;stroke:#ff0000;stroke-linecap:square;\"/>\n",
       "   </g>\n",
       "   <g id=\"line2d_33\">\n",
       "    <path clip-path=\"url(#p20201a9eeb)\" d=\"\n",
       "M303.858 178.816\n",
       "L269.954 178.816\" style=\"fill:none;stroke:#ff0000;stroke-linecap:square;\"/>\n",
       "   </g>\n",
       "   <g id=\"line2d_34\">\n",
       "    <path clip-path=\"url(#p20201a9eeb)\" d=\"\n",
       "M303.858 281.984\n",
       "L269.954 281.984\" style=\"fill:none;stroke:#ff0000;stroke-linecap:square;\"/>\n",
       "   </g>\n",
       "  </g>\n",
       " </g>\n",
       " <defs>\n",
       "  <clipPath id=\"p20201a9eeb\">\n",
       "   <rect height=\"446.4\" width=\"669.6\" x=\"7.2\" y=\"7.2\"/>\n",
       "  </clipPath>\n",
       " </defs>\n",
       "</svg>\n"
      ],
      "text/plain": [
       "<matplotlib.figure.Figure at 0x175587b8>"
      ]
     },
     "metadata": {},
     "output_type": "display_data"
    },
    {
     "data": {
      "text/plain": [
       "6"
      ]
     },
     "metadata": {},
     "output_type": "display_data"
    },
    {
     "data": {
      "text/plain": [
       "3757.9246573471605"
      ]
     },
     "metadata": {},
     "output_type": "display_data"
    },
    {
     "data": {
      "text/plain": [
       "'Fragments Observed / Expected: 0.105'"
      ]
     },
     "metadata": {},
     "output_type": "display_data"
    },
    {
     "data": {
      "text/plain": [
       "'Bg1 188.106253 1 [30110.036764]'"
      ]
     },
     "metadata": {},
     "output_type": "display_data"
    },
    {
     "data": {
      "text/plain": [
       "'Bh1 188.106253 1 [30110.036764]'"
      ]
     },
     "metadata": {},
     "output_type": "display_data"
    },
    {
     "data": {
      "text/plain": [
       "'Bf1 188.106253 1 [30110.036764]'"
      ]
     },
     "metadata": {},
     "output_type": "display_data"
    },
    {
     "data": {
      "text/plain": [
       "'Bb1 188.106253 1 [30110.036764]'"
      ]
     },
     "metadata": {},
     "output_type": "display_data"
    },
    {
     "data": {
      "text/plain": [
       "'Bi1 375.192962 1 [77832.395185]'"
      ]
     },
     "metadata": {},
     "output_type": "display_data"
    },
    {
     "data": {
      "text/plain": [
       "'2,5Ai3 884.442966 1 [666.012523]'"
      ]
     },
     "metadata": {},
     "output_type": "display_data"
    },
    {
     "data": {
      "text/plain": [
       "'0,2Ac1 1278.614041 1 [813.589712]'"
      ]
     },
     "metadata": {},
     "output_type": "display_data"
    },
    {
     "data": {
      "text/plain": [
       "'1,4Ac1 1289.638624 1 [322.820644]'"
      ]
     },
     "metadata": {},
     "output_type": "display_data"
    },
    {
     "data": {
      "text/plain": [
       "'1,3Ac2 1449.690275 1 [567.774635]'"
      ]
     },
     "metadata": {},
     "output_type": "display_data"
    },
    {
     "data": {
      "text/plain": [
       "'1,4Ac2 1493.719327 1 [532.538657]'"
      ]
     },
     "metadata": {},
     "output_type": "display_data"
    },
    {
     "data": {
      "text/plain": [
       "'1,4Xa2 1814.96801 2 [2709.894579, 150.126219]'"
      ]
     },
     "metadata": {},
     "output_type": "display_data"
    },
    {
     "data": {
      "text/plain": [
       "'2,4Aa1 1898.956977 1 [1064.290121]'"
      ]
     },
     "metadata": {},
     "output_type": "display_data"
    },
    {
     "data": {
      "text/plain": [
       "'1,4Aa1 1942.978664 2 [1307.508215, 5000.572104]'"
      ]
     },
     "metadata": {},
     "output_type": "display_data"
    },
    {
     "data": {
      "text/plain": [
       "'Zc3 2160.121862 1 [87.05213]'"
      ]
     },
     "metadata": {},
     "output_type": "display_data"
    },
    {
     "data": {
      "text/plain": [
       "'Yc3 2178.108621 1 [612.926527]'"
      ]
     },
     "metadata": {},
     "output_type": "display_data"
    },
    {
     "data": {
      "text/plain": [
       "'1,4Xc3 2264.15018 1 [282.259961]'"
      ]
     },
     "metadata": {},
     "output_type": "display_data"
    },
    {
     "data": {
      "text/plain": [
       "'1,5Xc4 2410.226502 1 [1094.374842]'"
      ]
     },
     "metadata": {},
     "output_type": "display_data"
    },
    {
     "data": {
      "text/plain": [
       "'1,4Xc4 2468.308397 1 [94.617067]'"
      ]
     },
     "metadata": {},
     "output_type": "display_data"
    },
    {
     "data": {
      "text/plain": [
       "'Yi5 2801.427197 1 [970.991674]'"
      ]
     },
     "metadata": {},
     "output_type": "display_data"
    },
    {
     "data": {
      "text/plain": [
       "'0,2Xi5 2857.485392 1 [22988.770556]'"
      ]
     },
     "metadata": {},
     "output_type": "display_data"
    },
    {
     "data": {
      "text/plain": [
       "'1,3Xi5 2931.47998 1 [2035.147064]'"
      ]
     },
     "metadata": {},
     "output_type": "display_data"
    },
    {
     "data": {
      "text/plain": [
       "'2,4Xi5 2931.47998 1 [2035.147064]'"
      ]
     },
     "metadata": {},
     "output_type": "display_data"
    },
    {
     "data": {
      "text/plain": [
       "'Ye4 2946.545857 1 [1506.917054]'"
      ]
     },
     "metadata": {},
     "output_type": "display_data"
    },
    {
     "data": {
      "text/plain": [
       "'Yi6 3005.543385 1 [2385.411753]'"
      ]
     },
     "metadata": {},
     "output_type": "display_data"
    },
    {
     "data": {
      "text/plain": [
       "'1,4Aa2 3189.550534 1 [6541.952031]'"
      ]
     },
     "metadata": {},
     "output_type": "display_data"
    },
    {
     "data": {
      "text/plain": [
       "'0,3Xi7 3510.81919 1 [129.317164]'"
      ]
     },
     "metadata": {},
     "output_type": "display_data"
    },
    {
     "data": {
      "image/svg+xml": [
       "<?xml version=\"1.0\" encoding=\"utf-8\" standalone=\"no\"?>\n",
       "<!DOCTYPE svg PUBLIC \"-//W3C//DTD SVG 1.1//EN\"\n",
       "  \"http://www.w3.org/Graphics/SVG/1.1/DTD/svg11.dtd\">\n",
       "<!-- Created with matplotlib (http://matplotlib.org/) -->\n",
       "<svg height=\"460pt\" version=\"1.1\" viewBox=\"0 0 683 460\" width=\"683pt\" xmlns=\"http://www.w3.org/2000/svg\" xmlns:xlink=\"http://www.w3.org/1999/xlink\">\n",
       " <defs>\n",
       "  <style type=\"text/css\">\n",
       "*{stroke-linecap:butt;stroke-linejoin:round;}\n",
       "  </style>\n",
       " </defs>\n",
       " <g id=\"figure_1\">\n",
       "  <g id=\"patch_1\">\n",
       "   <path d=\"\n",
       "M0 460.8\n",
       "L684 460.8\n",
       "L684 0\n",
       "L0 0\n",
       "L0 460.8\" style=\"fill:none;\"/>\n",
       "  </g>\n",
       "  <g id=\"axes_1\">\n",
       "   <g id=\"patch_2\">\n",
       "    <path d=\"\n",
       "M7.2 453.6\n",
       "L676.8 453.6\n",
       "L676.8 7.2\n",
       "L7.2 7.2\n",
       "L7.2 453.6\" style=\"fill:none;\"/>\n",
       "   </g>\n",
       "   <g id=\"line2d_1\">\n",
       "    <path clip-path=\"url(#p6c8687bb8d)\" d=\"\n",
       "M316.547 294.88\n",
       "L316.547 269.088\" style=\"fill:none;stroke:#000000;stroke-linecap:square;\"/>\n",
       "   </g>\n",
       "   <g id=\"line2d_2\">\n",
       "    <path clip-path=\"url(#p6c8687bb8d)\" d=\"\n",
       "M214.737 294.88\n",
       "L163.832 294.88\" style=\"fill:none;stroke:#000000;stroke-linecap:square;\"/>\n",
       "   </g>\n",
       "   <g id=\"line2d_3\">\n",
       "    <path clip-path=\"url(#p6c8687bb8d)\" d=\"\n",
       "M265.642 294.88\n",
       "L214.737 294.88\" style=\"fill:none;stroke:#000000;stroke-linecap:square;\"/>\n",
       "   </g>\n",
       "   <g id=\"line2d_4\">\n",
       "    <path clip-path=\"url(#p6c8687bb8d)\" d=\"\n",
       "M316.547 294.88\n",
       "L265.642 294.88\" style=\"fill:none;stroke:#000000;stroke-linecap:square;\"/>\n",
       "   </g>\n",
       "   <g id=\"line2d_5\">\n",
       "    <path clip-path=\"url(#p6c8687bb8d)\" d=\"\n",
       "M367.453 294.88\n",
       "L316.547 294.88\" style=\"fill:none;stroke:#000000;stroke-linecap:square;\"/>\n",
       "   </g>\n",
       "   <g id=\"line2d_6\">\n",
       "    <path clip-path=\"url(#p6c8687bb8d)\" d=\"\n",
       "M418.358 243.296\n",
       "L367.453 294.88\" style=\"fill:none;stroke:#000000;stroke-linecap:square;\"/>\n",
       "   </g>\n",
       "   <g id=\"line2d_7\">\n",
       "    <path clip-path=\"url(#p6c8687bb8d)\" d=\"\n",
       "M418.358 243.296\n",
       "L367.453 243.296\" style=\"fill:none;stroke:#000000;stroke-linecap:square;\"/>\n",
       "   </g>\n",
       "   <g id=\"line2d_8\">\n",
       "    <path clip-path=\"url(#p6c8687bb8d)\" d=\"\n",
       "M316.547 191.712\n",
       "L316.547 165.92\" style=\"fill:none;stroke:#000000;stroke-linecap:square;\"/>\n",
       "   </g>\n",
       "   <g id=\"line2d_9\">\n",
       "    <path clip-path=\"url(#p6c8687bb8d)\" d=\"\n",
       "M265.642 191.712\n",
       "L265.642 165.92\" style=\"fill:none;stroke:#000000;stroke-linecap:square;\"/>\n",
       "   </g>\n",
       "   <g id=\"line2d_10\">\n",
       "    <path clip-path=\"url(#p6c8687bb8d)\" d=\"\n",
       "M316.547 191.712\n",
       "L265.642 191.712\" style=\"fill:none;stroke:#000000;stroke-linecap:square;\"/>\n",
       "   </g>\n",
       "   <g id=\"line2d_11\">\n",
       "    <path clip-path=\"url(#p6c8687bb8d)\" d=\"\n",
       "M367.453 191.712\n",
       "L316.547 191.712\" style=\"fill:none;stroke:#000000;stroke-linecap:square;\"/>\n",
       "   </g>\n",
       "   <g id=\"line2d_12\">\n",
       "    <path clip-path=\"url(#p6c8687bb8d)\" d=\"\n",
       "M418.358 243.296\n",
       "L367.453 191.712\" style=\"fill:none;stroke:#000000;stroke-linecap:square;\"/>\n",
       "   </g>\n",
       "   <g id=\"line2d_13\">\n",
       "    <path clip-path=\"url(#p6c8687bb8d)\" d=\"\n",
       "M469.263 243.296\n",
       "L418.358 243.296\" style=\"fill:none;stroke:#000000;stroke-linecap:square;\"/>\n",
       "   </g>\n",
       "   <g id=\"line2d_14\">\n",
       "    <path clip-path=\"url(#p6c8687bb8d)\" d=\"\n",
       "M520.168 243.296\n",
       "L469.263 243.296\" style=\"fill:none;stroke:#000000;stroke-linecap:square;\"/>\n",
       "   </g>\n",
       "   <g id=\"line2d_15\">\n",
       "    <path clip-path=\"url(#p6c8687bb8d)\" d=\"\n",
       "M520.168 243.296\n",
       "L520.168 217.504\" style=\"fill:none;stroke:#000000;stroke-linecap:square;\"/>\n",
       "   </g>\n",
       "   <g id=\"RES-1b-o-dglc-HEX-0-0-1-aldi-2s-n-acetyl-LIN-1-1d-2+1-2n-1\">\n",
       "    <path clip-path=\"url(#p6c8687bb8d)\" d=\"\n",
       "M528 235.36\n",
       "L528 251.232\n",
       "L512.337 251.232\n",
       "L512.337 235.36\n",
       "L528 235.36\n",
       "z\n",
       "\" style=\"fill:#0000ff;stroke:#000000;stroke-linejoin:miter;\"/>\n",
       "   </g>\n",
       "   <g id=\"RES-1b-b-dglc-HEX-1-5-2s-n-acetyl-LIN-1-1d-2+1-2n-2\">\n",
       "    <path clip-path=\"url(#p6c8687bb8d)\" d=\"\n",
       "M477.095 235.36\n",
       "L477.095 251.232\n",
       "L461.432 251.232\n",
       "L461.432 235.36\n",
       "L477.095 235.36\n",
       "z\n",
       "\" style=\"fill:#0000ff;stroke:#000000;stroke-linejoin:miter;\"/>\n",
       "   </g>\n",
       "   <g id=\"RES-1b-b-dman-HEX-1-5-3\">\n",
       "    <path clip-path=\"url(#p6c8687bb8d)\" d=\"\n",
       "M418.358 251.232\n",
       "C420.435 251.232 422.427 250.396 423.896 248.908\n",
       "C425.364 247.419 426.189 245.401 426.189 243.296\n",
       "C426.189 241.191 425.364 239.173 423.896 237.684\n",
       "C422.427 236.196 420.435 235.36 418.358 235.36\n",
       "C416.281 235.36 414.289 236.196 412.82 237.684\n",
       "C411.352 239.173 410.526 241.191 410.526 243.296\n",
       "C410.526 245.401 411.352 247.419 412.82 248.908\n",
       "C414.289 250.396 416.281 251.232 418.358 251.232\n",
       "z\n",
       "\" style=\"fill:#008000;stroke:#000000;stroke-linejoin:miter;\"/>\n",
       "   </g>\n",
       "   <g id=\"RES-1b-a-dman-HEX-1-5-10\">\n",
       "    <path clip-path=\"url(#p6c8687bb8d)\" d=\"\n",
       "M367.453 302.816\n",
       "C369.53 302.816 371.522 301.98 372.99 300.492\n",
       "C374.459 299.003 375.284 296.985 375.284 294.88\n",
       "C375.284 292.775 374.459 290.757 372.99 289.268\n",
       "C371.522 287.78 369.53 286.944 367.453 286.944\n",
       "C365.376 286.944 363.384 287.78 361.915 289.268\n",
       "C360.446 290.757 359.621 292.775 359.621 294.88\n",
       "C359.621 296.985 360.446 299.003 361.915 300.492\n",
       "C363.384 301.98 365.376 302.816 367.453 302.816\n",
       "z\n",
       "\" style=\"fill:#008000;stroke:#000000;stroke-linejoin:miter;\"/>\n",
       "   </g>\n",
       "   <g id=\"RES-1b-b-dglc-HEX-1-5-2s-n-acetyl-LIN-1-1d-2+1-2n-11\">\n",
       "    <path clip-path=\"url(#p6c8687bb8d)\" d=\"\n",
       "M324.379 286.944\n",
       "L324.379 302.816\n",
       "L308.716 302.816\n",
       "L308.716 286.944\n",
       "L324.379 286.944\n",
       "z\n",
       "\" style=\"fill:#0000ff;stroke:#000000;stroke-linejoin:miter;\"/>\n",
       "   </g>\n",
       "   <g id=\"RES-1b-a-lgal-HEX-1-5-6-d-15\">\n",
       "    <path clip-path=\"url(#p6c8687bb8d)\" d=\"\n",
       "M316.547 261.152\n",
       "L309.765 273.056\n",
       "L323.33 273.056\n",
       "z\n",
       "\" style=\"fill:#ff0000;stroke:#000000;stroke-linejoin:miter;\"/>\n",
       "   </g>\n",
       "   <g id=\"RES-1b-b-dgal-HEX-1-5-12\">\n",
       "    <path clip-path=\"url(#p6c8687bb8d)\" d=\"\n",
       "M265.642 302.816\n",
       "C267.719 302.816 269.711 301.98 271.18 300.492\n",
       "C272.648 299.003 273.474 296.985 273.474 294.88\n",
       "C273.474 292.775 272.648 290.757 271.18 289.268\n",
       "C269.711 287.78 267.719 286.944 265.642 286.944\n",
       "C263.565 286.944 261.573 287.78 260.104 289.268\n",
       "C258.636 290.757 257.811 292.775 257.811 294.88\n",
       "C257.811 296.985 258.636 299.003 260.104 300.492\n",
       "C261.573 301.98 263.565 302.816 265.642 302.816\n",
       "z\n",
       "\" style=\"fill:#ffff00;stroke:#000000;stroke-linejoin:miter;\"/>\n",
       "   </g>\n",
       "   <g id=\"RES-1b-a-dgro-dgal-NON-2-6-1-a-2-keto-3-d-2s-n-glycolyl-LIN-1-1d-5+1-2n-13\">\n",
       "    <path clip-path=\"url(#p6c8687bb8d)\" d=\"\n",
       "M214.737 286.944\n",
       "L206.905 294.88\n",
       "L214.737 302.816\n",
       "L222.568 294.88\n",
       "z\n",
       "\" style=\"fill:#add8e6;stroke:#000000;stroke-linejoin:miter;\"/>\n",
       "   </g>\n",
       "   <g id=\"RES-1b-a-dgro-dgal-NON-2-6-1-a-2-keto-3-d-2s-n-acetyl-LIN-1-1d-5+1-2n-14\">\n",
       "    <path clip-path=\"url(#p6c8687bb8d)\" d=\"\n",
       "M163.832 286.944\n",
       "L156 294.88\n",
       "L163.832 302.816\n",
       "L171.663 294.88\n",
       "z\n",
       "\" style=\"fill:#800080;stroke:#000000;stroke-linejoin:miter;\"/>\n",
       "   </g>\n",
       "   <g id=\"RES-1b-b-dglc-HEX-1-5-2s-n-acetyl-LIN-1-1d-2+1-2n-9\">\n",
       "    <path clip-path=\"url(#p6c8687bb8d)\" d=\"\n",
       "M375.284 235.36\n",
       "L375.284 251.232\n",
       "L359.621 251.232\n",
       "L359.621 235.36\n",
       "L375.284 235.36\n",
       "z\n",
       "\" style=\"fill:#0000ff;stroke:#000000;stroke-linejoin:miter;\"/>\n",
       "   </g>\n",
       "   <g id=\"RES-1b-a-dman-HEX-1-5-4\">\n",
       "    <path clip-path=\"url(#p6c8687bb8d)\" d=\"\n",
       "M367.453 199.648\n",
       "C369.53 199.648 371.522 198.812 372.99 197.324\n",
       "C374.459 195.835 375.284 193.817 375.284 191.712\n",
       "C375.284 189.607 374.459 187.589 372.99 186.1\n",
       "C371.522 184.612 369.53 183.776 367.453 183.776\n",
       "C365.376 183.776 363.384 184.612 361.915 186.1\n",
       "C360.446 187.589 359.621 189.607 359.621 191.712\n",
       "C359.621 193.817 360.446 195.835 361.915 197.324\n",
       "C363.384 198.812 365.376 199.648 367.453 199.648\n",
       "z\n",
       "\" style=\"fill:#008000;stroke:#000000;stroke-linejoin:miter;\"/>\n",
       "   </g>\n",
       "   <g id=\"RES-1b-b-dglc-HEX-1-5-2s-n-acetyl-LIN-1-1d-2+1-2n-5\">\n",
       "    <path clip-path=\"url(#p6c8687bb8d)\" d=\"\n",
       "M324.379 183.776\n",
       "L324.379 199.648\n",
       "L308.716 199.648\n",
       "L308.716 183.776\n",
       "L324.379 183.776\n",
       "z\n",
       "\" style=\"fill:#0000ff;stroke:#000000;stroke-linejoin:miter;\"/>\n",
       "   </g>\n",
       "   <g id=\"RES-1b-a-lgal-HEX-1-5-6-d-8\">\n",
       "    <path clip-path=\"url(#p6c8687bb8d)\" d=\"\n",
       "M316.547 157.984\n",
       "L309.765 169.888\n",
       "L323.33 169.888\n",
       "z\n",
       "\" style=\"fill:#ff0000;stroke:#000000;stroke-linejoin:miter;\"/>\n",
       "   </g>\n",
       "   <g id=\"RES-1b-b-dgal-HEX-1-5-6\">\n",
       "    <path clip-path=\"url(#p6c8687bb8d)\" d=\"\n",
       "M265.642 199.648\n",
       "C267.719 199.648 269.711 198.812 271.18 197.324\n",
       "C272.648 195.835 273.474 193.817 273.474 191.712\n",
       "C273.474 189.607 272.648 187.589 271.18 186.1\n",
       "C269.711 184.612 267.719 183.776 265.642 183.776\n",
       "C263.565 183.776 261.573 184.612 260.104 186.1\n",
       "C258.636 187.589 257.811 189.607 257.811 191.712\n",
       "C257.811 193.817 258.636 195.835 260.104 197.324\n",
       "C261.573 198.812 263.565 199.648 265.642 199.648\n",
       "z\n",
       "\" style=\"fill:#ffff00;stroke:#000000;stroke-linejoin:miter;\"/>\n",
       "   </g>\n",
       "   <g id=\"RES-1b-a-lgal-HEX-1-5-6-d-7\">\n",
       "    <path clip-path=\"url(#p6c8687bb8d)\" d=\"\n",
       "M265.642 157.984\n",
       "L258.86 169.888\n",
       "L272.424 169.888\n",
       "z\n",
       "\" style=\"fill:#ff0000;stroke:#000000;stroke-linejoin:miter;\"/>\n",
       "   </g>\n",
       "   <g id=\"RES-1b-a-lgal-HEX-1-5-6-d-16\">\n",
       "    <path clip-path=\"url(#p6c8687bb8d)\" d=\"\n",
       "M520.168 209.568\n",
       "L513.386 221.472\n",
       "L526.951 221.472\n",
       "z\n",
       "\" style=\"fill:#ff0000;stroke:#000000;stroke-linejoin:miter;\"/>\n",
       "   </g>\n",
       "   <g id=\"patch_3\">\n",
       "    <path d=\"\n",
       "M7.2 7.2\n",
       "L676.8 7.2\" style=\"fill:none;stroke:#000000;stroke-linecap:square;stroke-linejoin:miter;\"/>\n",
       "   </g>\n",
       "   <g id=\"patch_4\">\n",
       "    <path d=\"\n",
       "M676.8 453.6\n",
       "L676.8 7.2\" style=\"fill:none;stroke:#000000;stroke-linecap:square;stroke-linejoin:miter;\"/>\n",
       "   </g>\n",
       "   <g id=\"patch_5\">\n",
       "    <path d=\"\n",
       "M7.2 453.6\n",
       "L676.8 453.6\" style=\"fill:none;stroke:#000000;stroke-linecap:square;stroke-linejoin:miter;\"/>\n",
       "   </g>\n",
       "   <g id=\"patch_6\">\n",
       "    <path d=\"\n",
       "M7.2 453.6\n",
       "L7.2 7.2\" style=\"fill:none;stroke:#000000;stroke-linecap:square;stroke-linejoin:miter;\"/>\n",
       "   </g>\n",
       "   <g id=\"line2d_16\">\n",
       "    <path clip-path=\"url(#p6c8687bb8d)\" d=\"\n",
       "M281.305 178.816\n",
       "L249.979 178.816\" style=\"fill:none;stroke:#ff0000;stroke-linecap:square;\"/>\n",
       "   </g>\n",
       "   <g id=\"line2d_17\">\n",
       "    <path clip-path=\"url(#p6c8687bb8d)\" d=\"\n",
       "M332.211 281.984\n",
       "L300.884 281.984\" style=\"fill:none;stroke:#ff0000;stroke-linecap:square;\"/>\n",
       "   </g>\n",
       "   <g id=\"line2d_18\">\n",
       "    <path clip-path=\"url(#p6c8687bb8d)\" d=\"\n",
       "M332.211 178.816\n",
       "L300.884 178.816\" style=\"fill:none;stroke:#ff0000;stroke-linecap:square;\"/>\n",
       "   </g>\n",
       "   <g id=\"line2d_19\">\n",
       "    <path clip-path=\"url(#p6c8687bb8d)\" d=\"\n",
       "M535.832 230.4\n",
       "L504.505 230.4\" style=\"fill:none;stroke:#ff0000;stroke-linecap:square;\"/>\n",
       "   </g>\n",
       "   <g id=\"line2d_20\">\n",
       "    <path clip-path=\"url(#p6c8687bb8d)\" d=\"\n",
       "M189.284 279.008\n",
       "L189.284 310.752\" style=\"fill:none;stroke:#ff0000;stroke-linecap:square;\"/>\n",
       "   </g>\n",
       "   <g id=\"line2d_21\">\n",
       "    <path clip-path=\"url(#p6c8687bb8d)\" d=\"\n",
       "M249.979 279.008\n",
       "L281.305 310.752\" style=\"fill:none;stroke:#ff0000;stroke-linecap:square;\"/>\n",
       "   </g>\n",
       "   <g id=\"line2d_22\">\n",
       "    <path clip-path=\"url(#p6c8687bb8d)\" d=\"\n",
       "M300.884 279.008\n",
       "L332.211 310.752\" style=\"fill:none;stroke:#ff0000;stroke-linecap:square;\"/>\n",
       "   </g>\n",
       "   <g id=\"line2d_23\">\n",
       "    <path clip-path=\"url(#p6c8687bb8d)\" d=\"\n",
       "M300.884 279.008\n",
       "L332.211 310.752\" style=\"fill:none;stroke:#ff0000;stroke-linecap:square;\"/>\n",
       "   </g>\n",
       "   <g id=\"line2d_24\">\n",
       "    <path clip-path=\"url(#p6c8687bb8d)\" d=\"\n",
       "M351.789 279.008\n",
       "L383.116 310.752\" style=\"fill:none;stroke:#ff0000;stroke-linecap:square;\"/>\n",
       "   </g>\n",
       "   <g id=\"line2d_25\">\n",
       "    <path clip-path=\"url(#p6c8687bb8d)\" d=\"\n",
       "M351.789 279.008\n",
       "L383.116 310.752\" style=\"fill:none;stroke:#ff0000;stroke-linecap:square;\"/>\n",
       "   </g>\n",
       "   <g id=\"line2d_26\">\n",
       "    <path clip-path=\"url(#p6c8687bb8d)\" d=\"\n",
       "M402.695 227.424\n",
       "L434.021 259.168\" style=\"fill:none;stroke:#ff0000;stroke-linecap:square;\"/>\n",
       "   </g>\n",
       "   <g id=\"line2d_27\">\n",
       "    <path clip-path=\"url(#p6c8687bb8d)\" d=\"\n",
       "M402.695 227.424\n",
       "L434.021 259.168\" style=\"fill:none;stroke:#ff0000;stroke-linecap:square;\"/>\n",
       "   </g>\n",
       "   <g id=\"line2d_28\">\n",
       "    <path clip-path=\"url(#p6c8687bb8d)\" d=\"\n",
       "M402.695 227.424\n",
       "L434.021 259.168\" style=\"fill:none;stroke:#ff0000;stroke-linecap:square;\"/>\n",
       "   </g>\n",
       "   <g id=\"line2d_29\">\n",
       "    <path clip-path=\"url(#p6c8687bb8d)\" d=\"\n",
       "M377.242 253.216\n",
       "L408.568 284.96\" style=\"fill:none;stroke:#ff0000;stroke-linecap:square;\"/>\n",
       "   </g>\n",
       "   <g id=\"line2d_30\">\n",
       "    <path clip-path=\"url(#p6c8687bb8d)\" d=\"\n",
       "M377.242 253.216\n",
       "L408.568 284.96\" style=\"fill:none;stroke:#ff0000;stroke-linecap:square;\"/>\n",
       "   </g>\n",
       "   <g id=\"line2d_31\">\n",
       "    <path clip-path=\"url(#p6c8687bb8d)\" d=\"\n",
       "M351.789 279.008\n",
       "L383.116 310.752\" style=\"fill:none;stroke:#ff0000;stroke-linecap:square;\"/>\n",
       "   </g>\n",
       "   <g id=\"line2d_32\">\n",
       "    <path clip-path=\"url(#p6c8687bb8d)\" d=\"\n",
       "M300.884 279.008\n",
       "L332.211 310.752\" style=\"fill:none;stroke:#ff0000;stroke-linecap:square;\"/>\n",
       "   </g>\n",
       "   <g id=\"line2d_33\">\n",
       "    <path clip-path=\"url(#p6c8687bb8d)\" d=\"\n",
       "M300.884 279.008\n",
       "L332.211 310.752\" style=\"fill:none;stroke:#ff0000;stroke-linecap:square;\"/>\n",
       "   </g>\n",
       "   <g id=\"line2d_34\">\n",
       "    <path clip-path=\"url(#p6c8687bb8d)\" d=\"\n",
       "M291.095 279.008\n",
       "L291.095 310.752\" style=\"fill:none;stroke:#ff0000;stroke-linecap:square;\"/>\n",
       "   </g>\n",
       "   <g id=\"line2d_35\">\n",
       "    <path clip-path=\"url(#p6c8687bb8d)\" d=\"\n",
       "M249.979 279.008\n",
       "L281.305 310.752\" style=\"fill:none;stroke:#ff0000;stroke-linecap:square;\"/>\n",
       "   </g>\n",
       "   <g id=\"line2d_36\">\n",
       "    <path clip-path=\"url(#p6c8687bb8d)\" d=\"\n",
       "M249.979 279.008\n",
       "L281.305 310.752\" style=\"fill:none;stroke:#ff0000;stroke-linecap:square;\"/>\n",
       "   </g>\n",
       "   <g id=\"line2d_37\">\n",
       "    <path clip-path=\"url(#p6c8687bb8d)\" d=\"\n",
       "M249.979 279.008\n",
       "L281.305 310.752\" style=\"fill:none;stroke:#ff0000;stroke-linecap:square;\"/>\n",
       "   </g>\n",
       "   <g id=\"line2d_38\">\n",
       "    <path clip-path=\"url(#p6c8687bb8d)\" d=\"\n",
       "M342 175.84\n",
       "L342 207.584\" style=\"fill:none;stroke:#ff0000;stroke-linecap:square;\"/>\n",
       "   </g>\n",
       "   <g id=\"line2d_39\">\n",
       "    <path clip-path=\"url(#p6c8687bb8d)\" d=\"\n",
       "M240.189 279.008\n",
       "L240.189 310.752\" style=\"fill:none;stroke:#ff0000;stroke-linecap:square;\"/>\n",
       "   </g>\n",
       "   <g id=\"line2d_40\">\n",
       "    <path clip-path=\"url(#p6c8687bb8d)\" d=\"\n",
       "M453.6 227.424\n",
       "L484.926 259.168\" style=\"fill:none;stroke:#ff0000;stroke-linecap:square;\"/>\n",
       "   </g>\n",
       "   <g id=\"line2d_41\">\n",
       "    <path clip-path=\"url(#p6c8687bb8d)\" d=\"\n",
       "M148.168 279.008\n",
       "L179.495 310.752\" style=\"fill:none;stroke:#ff0000;stroke-linecap:square;\"/>\n",
       "   </g>\n",
       "  </g>\n",
       " </g>\n",
       " <defs>\n",
       "  <clipPath id=\"p6c8687bb8d\">\n",
       "   <rect height=\"446.4\" width=\"669.6\" x=\"7.2\" y=\"7.2\"/>\n",
       "  </clipPath>\n",
       " </defs>\n",
       "</svg>\n"
      ],
      "text/plain": [
       "<matplotlib.figure.Figure at 0x26866828>"
      ]
     },
     "metadata": {},
     "output_type": "display_data"
    },
    {
     "data": {
      "text/plain": [
       "7"
      ]
     },
     "metadata": {},
     "output_type": "display_data"
    },
    {
     "data": {
      "text/plain": [
       "3528.7932492547907"
      ]
     },
     "metadata": {},
     "output_type": "display_data"
    },
    {
     "data": {
      "text/plain": [
       "'Fragments Observed / Expected: 0.034'"
      ]
     },
     "metadata": {},
     "output_type": "display_data"
    },
    {
     "data": {
      "text/plain": [
       "'Ch2 786.3607 1 [167.641745]'"
      ]
     },
     "metadata": {},
     "output_type": "display_data"
    },
    {
     "data": {
      "text/plain": [
       "'3,5Ac1 1060.51259 1 [443.656637]'"
      ]
     },
     "metadata": {},
     "output_type": "display_data"
    },
    {
     "data": {
      "text/plain": [
       "'1,3Ac2 1465.729784 1 [33138.507006]'"
      ]
     },
     "metadata": {},
     "output_type": "display_data"
    },
    {
     "data": {
      "text/plain": [
       "'1,4Ac2 1509.710751 1 [17374.118575]'"
      ]
     },
     "metadata": {},
     "output_type": "display_data"
    },
    {
     "data": {
      "text/plain": [
       "'1,4Aa1 1713.830826 1 [2066.757073]'"
      ]
     },
     "metadata": {},
     "output_type": "display_data"
    },
    {
     "data": {
      "text/plain": [
       "'Yc3 1932.996417 1 [65.669564]'"
      ]
     },
     "metadata": {},
     "output_type": "display_data"
    },
    {
     "data": {
      "text/plain": [
       "'Yc4 2137.146538 4 [999.149449, 1010.689068, 448.937867, 279.499911]'"
      ]
     },
     "metadata": {},
     "output_type": "display_data"
    },
    {
     "data": {
      "text/plain": [
       "'1,5Xf5 3164.540151 1 [7085.05555]'"
      ]
     },
     "metadata": {},
     "output_type": "display_data"
    },
    {
     "data": {
      "image/svg+xml": [
       "<?xml version=\"1.0\" encoding=\"utf-8\" standalone=\"no\"?>\n",
       "<!DOCTYPE svg PUBLIC \"-//W3C//DTD SVG 1.1//EN\"\n",
       "  \"http://www.w3.org/Graphics/SVG/1.1/DTD/svg11.dtd\">\n",
       "<!-- Created with matplotlib (http://matplotlib.org/) -->\n",
       "<svg height=\"460pt\" version=\"1.1\" viewBox=\"0 0 683 460\" width=\"683pt\" xmlns=\"http://www.w3.org/2000/svg\" xmlns:xlink=\"http://www.w3.org/1999/xlink\">\n",
       " <defs>\n",
       "  <style type=\"text/css\">\n",
       "*{stroke-linecap:butt;stroke-linejoin:round;}\n",
       "  </style>\n",
       " </defs>\n",
       " <g id=\"figure_1\">\n",
       "  <g id=\"patch_1\">\n",
       "   <path d=\"\n",
       "M0 460.8\n",
       "L684 460.8\n",
       "L684 0\n",
       "L0 0\n",
       "L0 460.8\" style=\"fill:none;\"/>\n",
       "  </g>\n",
       "  <g id=\"axes_1\">\n",
       "   <g id=\"patch_2\">\n",
       "    <path d=\"\n",
       "M7.2 453.6\n",
       "L676.8 453.6\n",
       "L676.8 7.2\n",
       "L7.2 7.2\n",
       "L7.2 453.6\" style=\"fill:none;\"/>\n",
       "   </g>\n",
       "   <g id=\"line2d_1\">\n",
       "    <path clip-path=\"url(#p6c8687bb8d)\" d=\"\n",
       "M316.547 274.143\n",
       "L316.547 244.981\" style=\"fill:none;stroke:#000000;stroke-linecap:square;\"/>\n",
       "   </g>\n",
       "   <g id=\"line2d_2\">\n",
       "    <path clip-path=\"url(#p6c8687bb8d)\" d=\"\n",
       "M214.737 274.143\n",
       "L163.832 274.143\" style=\"fill:none;stroke:#000000;stroke-linecap:square;\"/>\n",
       "   </g>\n",
       "   <g id=\"line2d_3\">\n",
       "    <path clip-path=\"url(#p6c8687bb8d)\" d=\"\n",
       "M265.642 274.143\n",
       "L214.737 274.143\" style=\"fill:none;stroke:#000000;stroke-linecap:square;\"/>\n",
       "   </g>\n",
       "   <g id=\"line2d_4\">\n",
       "    <path clip-path=\"url(#p6c8687bb8d)\" d=\"\n",
       "M316.547 274.143\n",
       "L265.642 274.143\" style=\"fill:none;stroke:#000000;stroke-linecap:square;\"/>\n",
       "   </g>\n",
       "   <g id=\"line2d_5\">\n",
       "    <path clip-path=\"url(#p6c8687bb8d)\" d=\"\n",
       "M367.453 274.143\n",
       "L316.547 274.143\" style=\"fill:none;stroke:#000000;stroke-linecap:square;\"/>\n",
       "   </g>\n",
       "   <g id=\"line2d_6\">\n",
       "    <path clip-path=\"url(#p6c8687bb8d)\" d=\"\n",
       "M418.358 244.981\n",
       "L367.453 274.143\" style=\"fill:none;stroke:#000000;stroke-linecap:square;\"/>\n",
       "   </g>\n",
       "   <g id=\"line2d_7\">\n",
       "    <path clip-path=\"url(#p6c8687bb8d)\" d=\"\n",
       "M316.547 215.819\n",
       "L316.547 186.657\" style=\"fill:none;stroke:#000000;stroke-linecap:square;\"/>\n",
       "   </g>\n",
       "   <g id=\"line2d_8\">\n",
       "    <path clip-path=\"url(#p6c8687bb8d)\" d=\"\n",
       "M265.642 215.819\n",
       "L265.642 186.657\" style=\"fill:none;stroke:#000000;stroke-linecap:square;\"/>\n",
       "   </g>\n",
       "   <g id=\"line2d_9\">\n",
       "    <path clip-path=\"url(#p6c8687bb8d)\" d=\"\n",
       "M316.547 215.819\n",
       "L265.642 215.819\" style=\"fill:none;stroke:#000000;stroke-linecap:square;\"/>\n",
       "   </g>\n",
       "   <g id=\"line2d_10\">\n",
       "    <path clip-path=\"url(#p6c8687bb8d)\" d=\"\n",
       "M367.453 215.819\n",
       "L316.547 215.819\" style=\"fill:none;stroke:#000000;stroke-linecap:square;\"/>\n",
       "   </g>\n",
       "   <g id=\"line2d_11\">\n",
       "    <path clip-path=\"url(#p6c8687bb8d)\" d=\"\n",
       "M418.358 244.981\n",
       "L367.453 215.819\" style=\"fill:none;stroke:#000000;stroke-linecap:square;\"/>\n",
       "   </g>\n",
       "   <g id=\"line2d_12\">\n",
       "    <path clip-path=\"url(#p6c8687bb8d)\" d=\"\n",
       "M469.263 244.981\n",
       "L418.358 244.981\" style=\"fill:none;stroke:#000000;stroke-linecap:square;\"/>\n",
       "   </g>\n",
       "   <g id=\"line2d_13\">\n",
       "    <path clip-path=\"url(#p6c8687bb8d)\" d=\"\n",
       "M520.168 244.981\n",
       "L469.263 244.981\" style=\"fill:none;stroke:#000000;stroke-linecap:square;\"/>\n",
       "   </g>\n",
       "   <g id=\"line2d_14\">\n",
       "    <path clip-path=\"url(#p6c8687bb8d)\" d=\"\n",
       "M520.168 244.981\n",
       "L520.168 215.819\" style=\"fill:none;stroke:#000000;stroke-linecap:square;\"/>\n",
       "   </g>\n",
       "   <g id=\"RES-1b-o-dglc-HEX-0-0-1-aldi-2s-n-acetyl-LIN-1-1d-2+1-2n-1\">\n",
       "    <path clip-path=\"url(#p6c8687bb8d)\" d=\"\n",
       "M528 236.008\n",
       "L528 253.954\n",
       "L512.337 253.954\n",
       "L512.337 236.008\n",
       "L528 236.008\n",
       "z\n",
       "\" style=\"fill:#0000ff;stroke:#000000;stroke-linejoin:miter;\"/>\n",
       "   </g>\n",
       "   <g id=\"RES-1b-b-dglc-HEX-1-5-2s-n-acetyl-LIN-1-1d-2+1-2n-2\">\n",
       "    <path clip-path=\"url(#p6c8687bb8d)\" d=\"\n",
       "M477.095 236.008\n",
       "L477.095 253.954\n",
       "L461.432 253.954\n",
       "L461.432 236.008\n",
       "L477.095 236.008\n",
       "z\n",
       "\" style=\"fill:#0000ff;stroke:#000000;stroke-linejoin:miter;\"/>\n",
       "   </g>\n",
       "   <g id=\"RES-1b-b-dman-HEX-1-5-3\">\n",
       "    <path clip-path=\"url(#p6c8687bb8d)\" d=\"\n",
       "M418.358 253.954\n",
       "C420.435 253.954 422.427 253.008 423.896 251.326\n",
       "C425.364 249.643 426.189 247.361 426.189 244.981\n",
       "C426.189 242.601 425.364 240.319 423.896 238.636\n",
       "C422.427 236.953 420.435 236.008 418.358 236.008\n",
       "C416.281 236.008 414.289 236.953 412.82 238.636\n",
       "C411.352 240.319 410.526 242.601 410.526 244.981\n",
       "C410.526 247.361 411.352 249.643 412.82 251.326\n",
       "C414.289 253.008 416.281 253.954 418.358 253.954\n",
       "z\n",
       "\" style=\"fill:#008000;stroke:#000000;stroke-linejoin:miter;\"/>\n",
       "   </g>\n",
       "   <g id=\"RES-1b-a-dman-HEX-1-5-9\">\n",
       "    <path clip-path=\"url(#p6c8687bb8d)\" d=\"\n",
       "M367.453 283.116\n",
       "C369.53 283.116 371.522 282.17 372.99 280.487\n",
       "C374.459 278.805 375.284 276.522 375.284 274.143\n",
       "C375.284 271.763 374.459 269.481 372.99 267.798\n",
       "C371.522 266.115 369.53 265.17 367.453 265.17\n",
       "C365.376 265.17 363.384 266.115 361.915 267.798\n",
       "C360.446 269.481 359.621 271.763 359.621 274.143\n",
       "C359.621 276.522 360.446 278.805 361.915 280.487\n",
       "C363.384 282.17 365.376 283.116 367.453 283.116\n",
       "z\n",
       "\" style=\"fill:#008000;stroke:#000000;stroke-linejoin:miter;\"/>\n",
       "   </g>\n",
       "   <g id=\"RES-1b-b-dglc-HEX-1-5-2s-n-acetyl-LIN-1-1d-2+1-2n-10\">\n",
       "    <path clip-path=\"url(#p6c8687bb8d)\" d=\"\n",
       "M324.379 265.17\n",
       "L324.379 283.116\n",
       "L308.716 283.116\n",
       "L308.716 265.17\n",
       "L324.379 265.17\n",
       "z\n",
       "\" style=\"fill:#0000ff;stroke:#000000;stroke-linejoin:miter;\"/>\n",
       "   </g>\n",
       "   <g id=\"RES-1b-a-lgal-HEX-1-5-6-d-14\">\n",
       "    <path clip-path=\"url(#p6c8687bb8d)\" d=\"\n",
       "M316.547 236.008\n",
       "L309.765 249.467\n",
       "L323.33 249.467\n",
       "z\n",
       "\" style=\"fill:#ff0000;stroke:#000000;stroke-linejoin:miter;\"/>\n",
       "   </g>\n",
       "   <g id=\"RES-1b-b-dgal-HEX-1-5-11\">\n",
       "    <path clip-path=\"url(#p6c8687bb8d)\" d=\"\n",
       "M265.642 283.116\n",
       "C267.719 283.116 269.711 282.17 271.18 280.487\n",
       "C272.648 278.805 273.474 276.522 273.474 274.143\n",
       "C273.474 271.763 272.648 269.481 271.18 267.798\n",
       "C269.711 266.115 267.719 265.17 265.642 265.17\n",
       "C263.565 265.17 261.573 266.115 260.104 267.798\n",
       "C258.636 269.481 257.811 271.763 257.811 274.143\n",
       "C257.811 276.522 258.636 278.805 260.104 280.487\n",
       "C261.573 282.17 263.565 283.116 265.642 283.116\n",
       "z\n",
       "\" style=\"fill:#ffff00;stroke:#000000;stroke-linejoin:miter;\"/>\n",
       "   </g>\n",
       "   <g id=\"RES-1b-a-dgro-dgal-NON-2-6-1-a-2-keto-3-d-2s-n-glycolyl-LIN-1-1d-5+1-2n-12\">\n",
       "    <path clip-path=\"url(#p6c8687bb8d)\" d=\"\n",
       "M214.737 265.17\n",
       "L206.905 274.143\n",
       "L214.737 283.116\n",
       "L222.568 274.143\n",
       "z\n",
       "\" style=\"fill:#add8e6;stroke:#000000;stroke-linejoin:miter;\"/>\n",
       "   </g>\n",
       "   <g id=\"RES-1b-a-dgro-dgal-NON-2-6-1-a-2-keto-3-d-2s-n-glycolyl-LIN-1-1d-5+1-2n-13\">\n",
       "    <path clip-path=\"url(#p6c8687bb8d)\" d=\"\n",
       "M163.832 265.17\n",
       "L156 274.143\n",
       "L163.832 283.116\n",
       "L171.663 274.143\n",
       "z\n",
       "\" style=\"fill:#add8e6;stroke:#000000;stroke-linejoin:miter;\"/>\n",
       "   </g>\n",
       "   <g id=\"RES-1b-a-dman-HEX-1-5-4\">\n",
       "    <path clip-path=\"url(#p6c8687bb8d)\" d=\"\n",
       "M367.453 224.792\n",
       "C369.53 224.792 371.522 223.847 372.99 222.164\n",
       "C374.459 220.481 375.284 218.199 375.284 215.819\n",
       "C375.284 213.439 374.459 211.157 372.99 209.474\n",
       "C371.522 207.792 369.53 206.846 367.453 206.846\n",
       "C365.376 206.846 363.384 207.792 361.915 209.474\n",
       "C360.446 211.157 359.621 213.439 359.621 215.819\n",
       "C359.621 218.199 360.446 220.481 361.915 222.164\n",
       "C363.384 223.847 365.376 224.792 367.453 224.792\n",
       "z\n",
       "\" style=\"fill:#008000;stroke:#000000;stroke-linejoin:miter;\"/>\n",
       "   </g>\n",
       "   <g id=\"RES-1b-b-dglc-HEX-1-5-2s-n-acetyl-LIN-1-1d-2+1-2n-5\">\n",
       "    <path clip-path=\"url(#p6c8687bb8d)\" d=\"\n",
       "M324.379 206.846\n",
       "L324.379 224.792\n",
       "L308.716 224.792\n",
       "L308.716 206.846\n",
       "L324.379 206.846\n",
       "z\n",
       "\" style=\"fill:#0000ff;stroke:#000000;stroke-linejoin:miter;\"/>\n",
       "   </g>\n",
       "   <g id=\"RES-1b-a-lgal-HEX-1-5-6-d-8\">\n",
       "    <path clip-path=\"url(#p6c8687bb8d)\" d=\"\n",
       "M316.547 177.684\n",
       "L309.765 191.144\n",
       "L323.33 191.144\n",
       "z\n",
       "\" style=\"fill:#ff0000;stroke:#000000;stroke-linejoin:miter;\"/>\n",
       "   </g>\n",
       "   <g id=\"RES-1b-b-dgal-HEX-1-5-6\">\n",
       "    <path clip-path=\"url(#p6c8687bb8d)\" d=\"\n",
       "M265.642 224.792\n",
       "C267.719 224.792 269.711 223.847 271.18 222.164\n",
       "C272.648 220.481 273.474 218.199 273.474 215.819\n",
       "C273.474 213.439 272.648 211.157 271.18 209.474\n",
       "C269.711 207.792 267.719 206.846 265.642 206.846\n",
       "C263.565 206.846 261.573 207.792 260.104 209.474\n",
       "C258.636 211.157 257.811 213.439 257.811 215.819\n",
       "C257.811 218.199 258.636 220.481 260.104 222.164\n",
       "C261.573 223.847 263.565 224.792 265.642 224.792\n",
       "z\n",
       "\" style=\"fill:#ffff00;stroke:#000000;stroke-linejoin:miter;\"/>\n",
       "   </g>\n",
       "   <g id=\"RES-1b-a-lgal-HEX-1-5-6-d-7\">\n",
       "    <path clip-path=\"url(#p6c8687bb8d)\" d=\"\n",
       "M265.642 177.684\n",
       "L258.86 191.144\n",
       "L272.424 191.144\n",
       "z\n",
       "\" style=\"fill:#ff0000;stroke:#000000;stroke-linejoin:miter;\"/>\n",
       "   </g>\n",
       "   <g id=\"RES-1b-a-lgal-HEX-1-5-6-d-15\">\n",
       "    <path clip-path=\"url(#p6c8687bb8d)\" d=\"\n",
       "M520.168 206.846\n",
       "L513.386 220.306\n",
       "L526.951 220.306\n",
       "z\n",
       "\" style=\"fill:#ff0000;stroke:#000000;stroke-linejoin:miter;\"/>\n",
       "   </g>\n",
       "   <g id=\"patch_3\">\n",
       "    <path d=\"\n",
       "M7.2 7.2\n",
       "L676.8 7.2\" style=\"fill:none;stroke:#000000;stroke-linecap:square;stroke-linejoin:miter;\"/>\n",
       "   </g>\n",
       "   <g id=\"patch_4\">\n",
       "    <path d=\"\n",
       "M676.8 453.6\n",
       "L676.8 7.2\" style=\"fill:none;stroke:#000000;stroke-linecap:square;stroke-linejoin:miter;\"/>\n",
       "   </g>\n",
       "   <g id=\"patch_5\">\n",
       "    <path d=\"\n",
       "M7.2 453.6\n",
       "L676.8 453.6\" style=\"fill:none;stroke:#000000;stroke-linecap:square;stroke-linejoin:miter;\"/>\n",
       "   </g>\n",
       "   <g id=\"patch_6\">\n",
       "    <path d=\"\n",
       "M7.2 453.6\n",
       "L7.2 7.2\" style=\"fill:none;stroke:#000000;stroke-linecap:square;stroke-linejoin:miter;\"/>\n",
       "   </g>\n",
       "   <g id=\"line2d_15\">\n",
       "    <path clip-path=\"url(#p6c8687bb8d)\" d=\"\n",
       "M240.189 256.197\n",
       "L240.189 292.088\" style=\"fill:none;stroke:#ff0000;stroke-linecap:square;\"/>\n",
       "   </g>\n",
       "   <g id=\"line2d_16\">\n",
       "    <path clip-path=\"url(#p6c8687bb8d)\" d=\"\n",
       "M300.884 256.197\n",
       "L332.211 292.088\" style=\"fill:none;stroke:#ff0000;stroke-linecap:square;\"/>\n",
       "   </g>\n",
       "   <g id=\"line2d_17\">\n",
       "    <path clip-path=\"url(#p6c8687bb8d)\" d=\"\n",
       "M351.789 256.197\n",
       "L383.116 292.088\" style=\"fill:none;stroke:#ff0000;stroke-linecap:square;\"/>\n",
       "   </g>\n",
       "   <g id=\"line2d_18\">\n",
       "    <path clip-path=\"url(#p6c8687bb8d)\" d=\"\n",
       "M351.789 256.197\n",
       "L383.116 292.088\" style=\"fill:none;stroke:#ff0000;stroke-linecap:square;\"/>\n",
       "   </g>\n",
       "   <g id=\"line2d_19\">\n",
       "    <path clip-path=\"url(#p6c8687bb8d)\" d=\"\n",
       "M402.695 227.035\n",
       "L434.021 262.927\" style=\"fill:none;stroke:#ff0000;stroke-linecap:square;\"/>\n",
       "   </g>\n",
       "   <g id=\"line2d_20\">\n",
       "    <path clip-path=\"url(#p6c8687bb8d)\" d=\"\n",
       "M377.242 241.616\n",
       "L408.568 277.508\" style=\"fill:none;stroke:#ff0000;stroke-linecap:square;\"/>\n",
       "   </g>\n",
       "   <g id=\"line2d_21\">\n",
       "    <path clip-path=\"url(#p6c8687bb8d)\" d=\"\n",
       "M342 256.197\n",
       "L342 292.088\" style=\"fill:none;stroke:#ff0000;stroke-linecap:square;\"/>\n",
       "   </g>\n",
       "   <g id=\"line2d_22\">\n",
       "    <path clip-path=\"url(#p6c8687bb8d)\" d=\"\n",
       "M249.979 197.873\n",
       "L281.305 233.765\" style=\"fill:none;stroke:#ff0000;stroke-linecap:square;\"/>\n",
       "   </g>\n",
       "  </g>\n",
       " </g>\n",
       " <defs>\n",
       "  <clipPath id=\"p6c8687bb8d\">\n",
       "   <rect height=\"446.4\" width=\"669.6\" x=\"7.2\" y=\"7.2\"/>\n",
       "  </clipPath>\n",
       " </defs>\n",
       "</svg>\n"
      ],
      "text/plain": [
       "<matplotlib.figure.Figure at 0xe6e7780>"
      ]
     },
     "metadata": {},
     "output_type": "display_data"
    },
    {
     "data": {
      "text/plain": [
       "8"
      ]
     },
     "metadata": {},
     "output_type": "display_data"
    },
    {
     "data": {
      "text/plain": [
       "3470.7877699515307"
      ]
     },
     "metadata": {},
     "output_type": "display_data"
    },
    {
     "data": {
      "text/plain": [
       "'Fragments Observed / Expected: 0.017'"
      ]
     },
     "metadata": {},
     "output_type": "display_data"
    },
    {
     "data": {
      "text/plain": [
       "'Bg1 375.191334 1 [1673.935262]'"
      ]
     },
     "metadata": {},
     "output_type": "display_data"
    },
    {
     "data": {
      "text/plain": [
       "'2,4Ag2 449.229629 1 [161.70797]'"
      ]
     },
     "metadata": {},
     "output_type": "display_data"
    },
    {
     "data": {
      "text/plain": [
       "'1,3Ag2 449.229629 1 [161.70797]'"
      ]
     },
     "metadata": {},
     "output_type": "display_data"
    },
    {
     "data": {
      "text/plain": [
       "'Yg6 3095.544055 1 [344.042093]'"
      ]
     },
     "metadata": {},
     "output_type": "display_data"
    },
    {
     "data": {
      "image/svg+xml": [
       "<?xml version=\"1.0\" encoding=\"utf-8\" standalone=\"no\"?>\n",
       "<!DOCTYPE svg PUBLIC \"-//W3C//DTD SVG 1.1//EN\"\n",
       "  \"http://www.w3.org/Graphics/SVG/1.1/DTD/svg11.dtd\">\n",
       "<!-- Created with matplotlib (http://matplotlib.org/) -->\n",
       "<svg height=\"460pt\" version=\"1.1\" viewBox=\"0 0 684 460\" width=\"684pt\" xmlns=\"http://www.w3.org/2000/svg\" xmlns:xlink=\"http://www.w3.org/1999/xlink\">\n",
       " <defs>\n",
       "  <style type=\"text/css\">\n",
       "*{stroke-linecap:butt;stroke-linejoin:round;}\n",
       "  </style>\n",
       " </defs>\n",
       " <g id=\"figure_1\">\n",
       "  <g id=\"patch_1\">\n",
       "   <path d=\"\n",
       "M0 460.8\n",
       "L684 460.8\n",
       "L684 0\n",
       "L0 0\n",
       "L0 460.8\" style=\"fill:none;\"/>\n",
       "  </g>\n",
       "  <g id=\"axes_1\">\n",
       "   <g id=\"patch_2\">\n",
       "    <path d=\"\n",
       "M7.2 453.6\n",
       "L676.8 453.6\n",
       "L676.8 7.2\n",
       "L7.2 7.2\n",
       "L7.2 453.6\" style=\"fill:none;\"/>\n",
       "   </g>\n",
       "   <g id=\"line2d_1\">\n",
       "    <path clip-path=\"url(#p20201a9eeb)\" d=\"\n",
       "M286.906 303.55\n",
       "L286.906 279.166\" style=\"fill:none;stroke:#000000;stroke-linecap:square;\"/>\n",
       "   </g>\n",
       "   <g id=\"line2d_2\">\n",
       "    <path clip-path=\"url(#p20201a9eeb)\" d=\"\n",
       "M231.813 303.55\n",
       "L176.719 303.55\" style=\"fill:none;stroke:#000000;stroke-linecap:square;\"/>\n",
       "   </g>\n",
       "   <g id=\"line2d_3\">\n",
       "    <path clip-path=\"url(#p20201a9eeb)\" d=\"\n",
       "M286.906 303.55\n",
       "L231.813 303.55\" style=\"fill:none;stroke:#000000;stroke-linecap:square;\"/>\n",
       "   </g>\n",
       "   <g id=\"line2d_4\">\n",
       "    <path clip-path=\"url(#p20201a9eeb)\" d=\"\n",
       "M342 279.166\n",
       "L286.906 303.55\" style=\"fill:none;stroke:#000000;stroke-linecap:square;\"/>\n",
       "   </g>\n",
       "   <g id=\"line2d_5\">\n",
       "    <path clip-path=\"url(#p20201a9eeb)\" d=\"\n",
       "M231.813 254.783\n",
       "L176.719 254.783\" style=\"fill:none;stroke:#000000;stroke-linecap:square;\"/>\n",
       "   </g>\n",
       "   <g id=\"line2d_6\">\n",
       "    <path clip-path=\"url(#p20201a9eeb)\" d=\"\n",
       "M286.906 254.783\n",
       "L231.813 254.783\" style=\"fill:none;stroke:#000000;stroke-linecap:square;\"/>\n",
       "   </g>\n",
       "   <g id=\"line2d_7\">\n",
       "    <path clip-path=\"url(#p20201a9eeb)\" d=\"\n",
       "M342 279.166\n",
       "L286.906 254.783\" style=\"fill:none;stroke:#000000;stroke-linecap:square;\"/>\n",
       "   </g>\n",
       "   <g id=\"line2d_8\">\n",
       "    <path clip-path=\"url(#p20201a9eeb)\" d=\"\n",
       "M397.094 230.4\n",
       "L342 279.166\" style=\"fill:none;stroke:#000000;stroke-linecap:square;\"/>\n",
       "   </g>\n",
       "   <g id=\"line2d_9\">\n",
       "    <path clip-path=\"url(#p20201a9eeb)\" d=\"\n",
       "M397.094 230.4\n",
       "L342 230.4\" style=\"fill:none;stroke:#000000;stroke-linecap:square;\"/>\n",
       "   </g>\n",
       "   <g id=\"line2d_10\">\n",
       "    <path clip-path=\"url(#p20201a9eeb)\" d=\"\n",
       "M342 181.634\n",
       "L286.906 206.017\" style=\"fill:none;stroke:#000000;stroke-linecap:square;\"/>\n",
       "   </g>\n",
       "   <g id=\"line2d_11\">\n",
       "    <path clip-path=\"url(#p20201a9eeb)\" d=\"\n",
       "M342 181.634\n",
       "L286.906 157.25\" style=\"fill:none;stroke:#000000;stroke-linecap:square;\"/>\n",
       "   </g>\n",
       "   <g id=\"line2d_12\">\n",
       "    <path clip-path=\"url(#p20201a9eeb)\" d=\"\n",
       "M397.094 230.4\n",
       "L342 181.634\" style=\"fill:none;stroke:#000000;stroke-linecap:square;\"/>\n",
       "   </g>\n",
       "   <g id=\"line2d_13\">\n",
       "    <path clip-path=\"url(#p20201a9eeb)\" d=\"\n",
       "M452.187 230.4\n",
       "L397.094 230.4\" style=\"fill:none;stroke:#000000;stroke-linecap:square;\"/>\n",
       "   </g>\n",
       "   <g id=\"line2d_14\">\n",
       "    <path clip-path=\"url(#p20201a9eeb)\" d=\"\n",
       "M507.281 230.4\n",
       "L452.187 230.4\" style=\"fill:none;stroke:#000000;stroke-linecap:square;\"/>\n",
       "   </g>\n",
       "   <g id=\"RES-1b-o-dglc-HEX-0-0-1-aldi-2s-n-acetyl-LIN-1-1d-2+1-2n-1\">\n",
       "    <path clip-path=\"url(#p20201a9eeb)\" d=\"\n",
       "M515.757 222.897\n",
       "L515.757 237.903\n",
       "L498.805 237.903\n",
       "L498.805 222.897\n",
       "L515.757 222.897\n",
       "z\n",
       "\" style=\"fill:#0000ff;stroke:#000000;stroke-linejoin:miter;\"/>\n",
       "   </g>\n",
       "   <g id=\"RES-1b-b-dglc-HEX-1-5-2s-n-acetyl-LIN-1-1d-2+1-2n-2\">\n",
       "    <path clip-path=\"url(#p20201a9eeb)\" d=\"\n",
       "M460.663 222.897\n",
       "L460.663 237.903\n",
       "L443.711 237.903\n",
       "L443.711 222.897\n",
       "L460.663 222.897\n",
       "z\n",
       "\" style=\"fill:#0000ff;stroke:#000000;stroke-linejoin:miter;\"/>\n",
       "   </g>\n",
       "   <g id=\"RES-1b-b-dman-HEX-1-5-3\">\n",
       "    <path clip-path=\"url(#p20201a9eeb)\" d=\"\n",
       "M397.094 237.903\n",
       "C399.342 237.903 401.498 237.112 403.087 235.705\n",
       "C404.677 234.298 405.57 232.39 405.57 230.4\n",
       "C405.57 228.41 404.677 226.502 403.087 225.095\n",
       "C401.498 223.688 399.342 222.897 397.094 222.897\n",
       "C394.846 222.897 392.69 223.688 391.1 225.095\n",
       "C389.511 226.502 388.618 228.41 388.618 230.4\n",
       "C388.618 232.39 389.511 234.298 391.1 235.705\n",
       "C392.69 237.112 394.846 237.903 397.094 237.903\n",
       "z\n",
       "\" style=\"fill:#008000;stroke:#000000;stroke-linejoin:miter;\"/>\n",
       "   </g>\n",
       "   <g id=\"RES-1b-a-dman-HEX-1-5-8\">\n",
       "    <path clip-path=\"url(#p20201a9eeb)\" d=\"\n",
       "M342 286.669\n",
       "C344.248 286.669 346.404 285.878 347.993 284.471\n",
       "C349.583 283.065 350.476 281.156 350.476 279.166\n",
       "C350.476 277.177 349.583 275.268 347.993 273.861\n",
       "C346.404 272.454 344.248 271.664 342 271.664\n",
       "C339.752 271.664 337.596 272.454 336.007 273.861\n",
       "C334.417 275.268 333.524 277.177 333.524 279.166\n",
       "C333.524 281.156 334.417 283.065 336.007 284.471\n",
       "C337.596 285.878 339.752 286.669 342 286.669\n",
       "z\n",
       "\" style=\"fill:#008000;stroke:#000000;stroke-linejoin:miter;\"/>\n",
       "   </g>\n",
       "   <g id=\"RES-1b-b-dglc-HEX-1-5-2s-n-acetyl-LIN-1-1d-2+1-2n-12\">\n",
       "    <path clip-path=\"url(#p20201a9eeb)\" d=\"\n",
       "M295.382 296.047\n",
       "L295.382 311.052\n",
       "L278.43 311.052\n",
       "L278.43 296.047\n",
       "L295.382 296.047\n",
       "z\n",
       "\" style=\"fill:#0000ff;stroke:#000000;stroke-linejoin:miter;\"/>\n",
       "   </g>\n",
       "   <g id=\"RES-1b-a-lgal-HEX-1-5-6-d-15\">\n",
       "    <path clip-path=\"url(#p20201a9eeb)\" d=\"\n",
       "M286.906 271.664\n",
       "L279.566 282.918\n",
       "L294.247 282.918\n",
       "z\n",
       "\" style=\"fill:#ff0000;stroke:#000000;stroke-linejoin:miter;\"/>\n",
       "   </g>\n",
       "   <g id=\"RES-1b-b-dgal-HEX-1-5-13\">\n",
       "    <path clip-path=\"url(#p20201a9eeb)\" d=\"\n",
       "M231.813 311.052\n",
       "C234.061 311.052 236.217 310.262 237.806 308.855\n",
       "C239.396 307.448 240.289 305.539 240.289 303.55\n",
       "C240.289 301.56 239.396 299.651 237.806 298.244\n",
       "C236.217 296.838 234.061 296.047 231.813 296.047\n",
       "C229.565 296.047 227.409 296.838 225.819 298.244\n",
       "C224.23 299.651 223.337 301.56 223.337 303.55\n",
       "C223.337 305.539 224.23 307.448 225.819 308.855\n",
       "C227.409 310.262 229.565 311.052 231.813 311.052\n",
       "z\n",
       "\" style=\"fill:#ffff00;stroke:#000000;stroke-linejoin:miter;\"/>\n",
       "   </g>\n",
       "   <g id=\"RES-1b-a-dgro-dgal-NON-2-6-1-a-2-keto-3-d-2s-n-acetyl-LIN-1-1d-5+1-2n-14\">\n",
       "    <path clip-path=\"url(#p20201a9eeb)\" d=\"\n",
       "M176.719 296.047\n",
       "L168.243 303.55\n",
       "L176.719 311.052\n",
       "L185.195 303.55\n",
       "z\n",
       "\" style=\"fill:#800080;stroke:#000000;stroke-linejoin:miter;\"/>\n",
       "   </g>\n",
       "   <g id=\"RES-1b-b-dglc-HEX-1-5-2s-n-acetyl-LIN-1-1d-2+1-2n-9\">\n",
       "    <path clip-path=\"url(#p20201a9eeb)\" d=\"\n",
       "M295.382 247.281\n",
       "L295.382 262.286\n",
       "L278.43 262.286\n",
       "L278.43 247.281\n",
       "L295.382 247.281\n",
       "z\n",
       "\" style=\"fill:#0000ff;stroke:#000000;stroke-linejoin:miter;\"/>\n",
       "   </g>\n",
       "   <g id=\"RES-1b-b-dgal-HEX-1-5-10\">\n",
       "    <path clip-path=\"url(#p20201a9eeb)\" d=\"\n",
       "M231.813 262.286\n",
       "C234.061 262.286 236.217 261.495 237.806 260.088\n",
       "C239.396 258.681 240.289 256.773 240.289 254.783\n",
       "C240.289 252.794 239.396 250.885 237.806 249.478\n",
       "C236.217 248.071 234.061 247.281 231.813 247.281\n",
       "C229.565 247.281 227.409 248.071 225.819 249.478\n",
       "C224.23 250.885 223.337 252.794 223.337 254.783\n",
       "C223.337 256.773 224.23 258.681 225.819 260.088\n",
       "C227.409 261.495 229.565 262.286 231.813 262.286\n",
       "z\n",
       "\" style=\"fill:#ffff00;stroke:#000000;stroke-linejoin:miter;\"/>\n",
       "   </g>\n",
       "   <g id=\"RES-1b-a-dgal-HEX-1-5-11\">\n",
       "    <path clip-path=\"url(#p20201a9eeb)\" d=\"\n",
       "M176.719 262.286\n",
       "C178.967 262.286 181.123 261.495 182.712 260.088\n",
       "C184.302 258.681 185.195 256.773 185.195 254.783\n",
       "C185.195 252.794 184.302 250.885 182.712 249.478\n",
       "C181.123 248.071 178.967 247.281 176.719 247.281\n",
       "C174.471 247.281 172.315 248.071 170.726 249.478\n",
       "C169.136 250.885 168.243 252.794 168.243 254.783\n",
       "C168.243 256.773 169.136 258.681 170.726 260.088\n",
       "C172.315 261.495 174.471 262.286 176.719 262.286\n",
       "z\n",
       "\" style=\"fill:#ffff00;stroke:#000000;stroke-linejoin:miter;\"/>\n",
       "   </g>\n",
       "   <g id=\"RES-1b-b-dglc-HEX-1-5-2s-n-acetyl-LIN-1-1d-2+1-2n-7\">\n",
       "    <path clip-path=\"url(#p20201a9eeb)\" d=\"\n",
       "M350.476 222.897\n",
       "L350.476 237.903\n",
       "L333.524 237.903\n",
       "L333.524 222.897\n",
       "L350.476 222.897\n",
       "z\n",
       "\" style=\"fill:#0000ff;stroke:#000000;stroke-linejoin:miter;\"/>\n",
       "   </g>\n",
       "   <g id=\"RES-1b-a-dman-HEX-1-5-4\">\n",
       "    <path clip-path=\"url(#p20201a9eeb)\" d=\"\n",
       "M342 189.136\n",
       "C344.248 189.136 346.404 188.346 347.993 186.939\n",
       "C349.583 185.532 350.476 183.623 350.476 181.634\n",
       "C350.476 179.644 349.583 177.735 347.993 176.329\n",
       "C346.404 174.922 344.248 174.131 342 174.131\n",
       "C339.752 174.131 337.596 174.922 336.007 176.329\n",
       "C334.417 177.735 333.524 179.644 333.524 181.634\n",
       "C333.524 183.623 334.417 185.532 336.007 186.939\n",
       "C337.596 188.346 339.752 189.136 342 189.136\n",
       "z\n",
       "\" style=\"fill:#008000;stroke:#000000;stroke-linejoin:miter;\"/>\n",
       "   </g>\n",
       "   <g id=\"RES-1b-a-dman-HEX-1-5-6\">\n",
       "    <path clip-path=\"url(#p20201a9eeb)\" d=\"\n",
       "M286.906 213.519\n",
       "C289.154 213.519 291.31 212.729 292.9 211.322\n",
       "C294.489 209.915 295.382 208.006 295.382 206.017\n",
       "C295.382 204.027 294.489 202.119 292.9 200.712\n",
       "C291.31 199.305 289.154 198.514 286.906 198.514\n",
       "C284.658 198.514 282.502 199.305 280.913 200.712\n",
       "C279.323 202.119 278.43 204.027 278.43 206.017\n",
       "C278.43 208.006 279.323 209.915 280.913 211.322\n",
       "C282.502 212.729 284.658 213.519 286.906 213.519\n",
       "z\n",
       "\" style=\"fill:#008000;stroke:#000000;stroke-linejoin:miter;\"/>\n",
       "   </g>\n",
       "   <g id=\"RES-1b-a-dman-HEX-1-5-5\">\n",
       "    <path clip-path=\"url(#p20201a9eeb)\" d=\"\n",
       "M286.906 164.753\n",
       "C289.154 164.753 291.31 163.962 292.9 162.556\n",
       "C294.489 161.149 295.382 159.24 295.382 157.25\n",
       "C295.382 155.261 294.489 153.352 292.9 151.945\n",
       "C291.31 150.538 289.154 149.748 286.906 149.748\n",
       "C284.658 149.748 282.502 150.538 280.913 151.945\n",
       "C279.323 153.352 278.43 155.261 278.43 157.25\n",
       "C278.43 159.24 279.323 161.149 280.913 162.556\n",
       "C282.502 163.962 284.658 164.753 286.906 164.753\n",
       "z\n",
       "\" style=\"fill:#008000;stroke:#000000;stroke-linejoin:miter;\"/>\n",
       "   </g>\n",
       "   <g id=\"patch_3\">\n",
       "    <path d=\"\n",
       "M7.2 7.2\n",
       "L676.8 7.2\" style=\"fill:none;stroke:#000000;stroke-linecap:square;stroke-linejoin:miter;\"/>\n",
       "   </g>\n",
       "   <g id=\"patch_4\">\n",
       "    <path d=\"\n",
       "M676.8 453.6\n",
       "L676.8 7.2\" style=\"fill:none;stroke:#000000;stroke-linecap:square;stroke-linejoin:miter;\"/>\n",
       "   </g>\n",
       "   <g id=\"patch_5\">\n",
       "    <path d=\"\n",
       "M7.2 453.6\n",
       "L676.8 453.6\" style=\"fill:none;stroke:#000000;stroke-linecap:square;stroke-linejoin:miter;\"/>\n",
       "   </g>\n",
       "   <g id=\"patch_6\">\n",
       "    <path d=\"\n",
       "M7.2 453.6\n",
       "L7.2 7.2\" style=\"fill:none;stroke:#000000;stroke-linecap:square;stroke-linejoin:miter;\"/>\n",
       "   </g>\n",
       "   <g id=\"line2d_15\">\n",
       "    <path clip-path=\"url(#p20201a9eeb)\" d=\"\n",
       "M204.266 288.545\n",
       "L204.266 318.555\" style=\"fill:none;stroke:#ff0000;stroke-linecap:square;\"/>\n",
       "   </g>\n",
       "   <g id=\"line2d_16\">\n",
       "    <path clip-path=\"url(#p20201a9eeb)\" d=\"\n",
       "M214.861 288.545\n",
       "L248.765 318.555\" style=\"fill:none;stroke:#ff0000;stroke-linecap:square;\"/>\n",
       "   </g>\n",
       "   <g id=\"line2d_17\">\n",
       "    <path clip-path=\"url(#p20201a9eeb)\" d=\"\n",
       "M214.861 288.545\n",
       "L248.765 318.555\" style=\"fill:none;stroke:#ff0000;stroke-linecap:square;\"/>\n",
       "   </g>\n",
       "   <g id=\"line2d_18\">\n",
       "    <path clip-path=\"url(#p20201a9eeb)\" d=\"\n",
       "M204.266 288.545\n",
       "L204.266 318.555\" style=\"fill:none;stroke:#ff0000;stroke-linecap:square;\"/>\n",
       "   </g>\n",
       "  </g>\n",
       " </g>\n",
       " <defs>\n",
       "  <clipPath id=\"p20201a9eeb\">\n",
       "   <rect height=\"446.4\" width=\"669.6\" x=\"7.2\" y=\"7.2\"/>\n",
       "  </clipPath>\n",
       " </defs>\n",
       "</svg>\n"
      ],
      "text/plain": [
       "<matplotlib.figure.Figure at 0xe921898>"
      ]
     },
     "metadata": {},
     "output_type": "display_data"
    },
    {
     "data": {
      "text/plain": [
       "9"
      ]
     },
     "metadata": {},
     "output_type": "display_data"
    },
    {
     "data": {
      "text/plain": [
       "3700.87804150791"
      ]
     },
     "metadata": {},
     "output_type": "display_data"
    },
    {
     "data": {
      "text/plain": [
       "'Fragments Observed / Expected: 0.073'"
      ]
     },
     "metadata": {},
     "output_type": "display_data"
    },
    {
     "data": {
      "text/plain": [
       "'Bb1 188.104588 2 [1459.464856, 15549.363361]'"
      ]
     },
     "metadata": {},
     "output_type": "display_data"
    },
    {
     "data": {
      "text/plain": [
       "'Bh1 259.146273 1 [185.171814]'"
      ]
     },
     "metadata": {},
     "output_type": "display_data"
    },
    {
     "data": {
      "text/plain": [
       "'3,5Ae2 306.17369 1 [4192.656829]'"
      ]
     },
     "metadata": {},
     "output_type": "display_data"
    },
    {
     "data": {
      "text/plain": [
       "'Be2 463.242138 2 [756.272717, 2635.158165]'"
      ]
     },
     "metadata": {},
     "output_type": "display_data"
    },
    {
     "data": {
      "text/plain": [
       "'1,4Af3 754.372773 1 [946.593823]'"
      ]
     },
     "metadata": {},
     "output_type": "display_data"
    },
    {
     "data": {
      "text/plain": [
       "'1,4Ag2 754.372773 1 [946.593823]'"
      ]
     },
     "metadata": {},
     "output_type": "display_data"
    },
    {
     "data": {
      "text/plain": [
       "'0,2Ad1 988.490724 1 [141.871194]'"
      ]
     },
     "metadata": {},
     "output_type": "display_data"
    },
    {
     "data": {
      "text/plain": [
       "'1,4Ac1 1203.595896 1 [91686.223432]'"
      ]
     },
     "metadata": {},
     "output_type": "display_data"
    },
    {
     "data": {
      "text/plain": [
       "'1,4Aa1 1407.676512 1 [281.501361]'"
      ]
     },
     "metadata": {},
     "output_type": "display_data"
    },
    {
     "data": {
      "text/plain": [
       "'1,4Xg5 2946.477872 1 [16880.151924]'"
      ]
     },
     "metadata": {},
     "output_type": "display_data"
    },
    {
     "data": {
      "text/plain": [
       "'1,4Xf4 2946.477872 1 [16880.151924]'"
      ]
     },
     "metadata": {},
     "output_type": "display_data"
    },
    {
     "data": {
      "text/plain": [
       "'2,4Xg5 3031.49713 1 [76449.299027]'"
      ]
     },
     "metadata": {},
     "output_type": "display_data"
    },
    {
     "data": {
      "text/plain": [
       "'2,4Xf4 3031.49713 1 [76449.299027]'"
      ]
     },
     "metadata": {},
     "output_type": "display_data"
    },
    {
     "data": {
      "text/plain": [
       "'0,2Aa2 3121.540085 1 [3221.867694]'"
      ]
     },
     "metadata": {},
     "output_type": "display_data"
    },
    {
     "data": {
      "text/plain": [
       "'1,5Aa2 3190.583435 1 [109.504904]'"
      ]
     },
     "metadata": {},
     "output_type": "display_data"
    },
    {
     "data": {
      "text/plain": [
       "'Ba2 3218.57249 2 [1688.313688, 1189.538296]'"
      ]
     },
     "metadata": {},
     "output_type": "display_data"
    },
    {
     "data": {
      "text/plain": [
       "'Ze4 3219.593108 1 [8390.379739]'"
      ]
     },
     "metadata": {},
     "output_type": "display_data"
    },
    {
     "data": {
      "text/plain": [
       "'Yb1 3512.767291 2 [3269.093166, 1735.048254]'"
      ]
     },
     "metadata": {},
     "output_type": "display_data"
    },
    {
     "data": {
      "image/svg+xml": [
       "<?xml version=\"1.0\" encoding=\"utf-8\" standalone=\"no\"?>\n",
       "<!DOCTYPE svg PUBLIC \"-//W3C//DTD SVG 1.1//EN\"\n",
       "  \"http://www.w3.org/Graphics/SVG/1.1/DTD/svg11.dtd\">\n",
       "<!-- Created with matplotlib (http://matplotlib.org/) -->\n",
       "<svg height=\"460pt\" version=\"1.1\" viewBox=\"0 0 684 460\" width=\"684pt\" xmlns=\"http://www.w3.org/2000/svg\" xmlns:xlink=\"http://www.w3.org/1999/xlink\">\n",
       " <defs>\n",
       "  <style type=\"text/css\">\n",
       "*{stroke-linecap:butt;stroke-linejoin:round;}\n",
       "  </style>\n",
       " </defs>\n",
       " <g id=\"figure_1\">\n",
       "  <g id=\"patch_1\">\n",
       "   <path d=\"\n",
       "M0 460.8\n",
       "L684 460.8\n",
       "L684 0\n",
       "L0 0\n",
       "L0 460.8\" style=\"fill:none;\"/>\n",
       "  </g>\n",
       "  <g id=\"axes_1\">\n",
       "   <g id=\"patch_2\">\n",
       "    <path d=\"\n",
       "M7.2 453.6\n",
       "L676.8 453.6\n",
       "L676.8 7.2\n",
       "L7.2 7.2\n",
       "L7.2 453.6\" style=\"fill:none;\"/>\n",
       "   </g>\n",
       "   <g id=\"line2d_1\">\n",
       "    <path clip-path=\"url(#p20201a9eeb)\" d=\"\n",
       "M231.813 303.55\n",
       "L176.719 303.55\" style=\"fill:none;stroke:#000000;stroke-linecap:square;\"/>\n",
       "   </g>\n",
       "   <g id=\"line2d_2\">\n",
       "    <path clip-path=\"url(#p20201a9eeb)\" d=\"\n",
       "M286.906 303.55\n",
       "L231.813 303.55\" style=\"fill:none;stroke:#000000;stroke-linecap:square;\"/>\n",
       "   </g>\n",
       "   <g id=\"line2d_3\">\n",
       "    <path clip-path=\"url(#p20201a9eeb)\" d=\"\n",
       "M342 279.166\n",
       "L286.906 303.55\" style=\"fill:none;stroke:#000000;stroke-linecap:square;\"/>\n",
       "   </g>\n",
       "   <g id=\"line2d_4\">\n",
       "    <path clip-path=\"url(#p20201a9eeb)\" d=\"\n",
       "M342 279.166\n",
       "L286.906 254.783\" style=\"fill:none;stroke:#000000;stroke-linecap:square;\"/>\n",
       "   </g>\n",
       "   <g id=\"line2d_5\">\n",
       "    <path clip-path=\"url(#p20201a9eeb)\" d=\"\n",
       "M397.094 230.4\n",
       "L342 279.166\" style=\"fill:none;stroke:#000000;stroke-linecap:square;\"/>\n",
       "   </g>\n",
       "   <g id=\"line2d_6\">\n",
       "    <path clip-path=\"url(#p20201a9eeb)\" d=\"\n",
       "M286.906 206.017\n",
       "L231.813 206.017\" style=\"fill:none;stroke:#000000;stroke-linecap:square;\"/>\n",
       "   </g>\n",
       "   <g id=\"line2d_7\">\n",
       "    <path clip-path=\"url(#p20201a9eeb)\" d=\"\n",
       "M342 181.634\n",
       "L286.906 206.017\" style=\"fill:none;stroke:#000000;stroke-linecap:square;\"/>\n",
       "   </g>\n",
       "   <g id=\"line2d_8\">\n",
       "    <path clip-path=\"url(#p20201a9eeb)\" d=\"\n",
       "M231.813 157.25\n",
       "L176.719 157.25\" style=\"fill:none;stroke:#000000;stroke-linecap:square;\"/>\n",
       "   </g>\n",
       "   <g id=\"line2d_9\">\n",
       "    <path clip-path=\"url(#p20201a9eeb)\" d=\"\n",
       "M286.906 157.25\n",
       "L231.813 157.25\" style=\"fill:none;stroke:#000000;stroke-linecap:square;\"/>\n",
       "   </g>\n",
       "   <g id=\"line2d_10\">\n",
       "    <path clip-path=\"url(#p20201a9eeb)\" d=\"\n",
       "M342 181.634\n",
       "L286.906 157.25\" style=\"fill:none;stroke:#000000;stroke-linecap:square;\"/>\n",
       "   </g>\n",
       "   <g id=\"line2d_11\">\n",
       "    <path clip-path=\"url(#p20201a9eeb)\" d=\"\n",
       "M397.094 230.4\n",
       "L342 181.634\" style=\"fill:none;stroke:#000000;stroke-linecap:square;\"/>\n",
       "   </g>\n",
       "   <g id=\"line2d_12\">\n",
       "    <path clip-path=\"url(#p20201a9eeb)\" d=\"\n",
       "M452.187 230.4\n",
       "L397.094 230.4\" style=\"fill:none;stroke:#000000;stroke-linecap:square;\"/>\n",
       "   </g>\n",
       "   <g id=\"line2d_13\">\n",
       "    <path clip-path=\"url(#p20201a9eeb)\" d=\"\n",
       "M507.281 230.4\n",
       "L452.187 230.4\" style=\"fill:none;stroke:#000000;stroke-linecap:square;\"/>\n",
       "   </g>\n",
       "   <g id=\"line2d_14\">\n",
       "    <path clip-path=\"url(#p20201a9eeb)\" d=\"\n",
       "M507.281 230.4\n",
       "L507.281 206.017\" style=\"fill:none;stroke:#000000;stroke-linecap:square;\"/>\n",
       "   </g>\n",
       "   <g id=\"RES-1b-o-dglc-HEX-0-0-1-aldi-2s-n-acetyl-LIN-1-1d-2+1-2n-1\">\n",
       "    <path clip-path=\"url(#p20201a9eeb)\" d=\"\n",
       "M515.757 222.897\n",
       "L515.757 237.903\n",
       "L498.805 237.903\n",
       "L498.805 222.897\n",
       "L515.757 222.897\n",
       "z\n",
       "\" style=\"fill:#0000ff;stroke:#000000;stroke-linejoin:miter;\"/>\n",
       "   </g>\n",
       "   <g id=\"RES-1b-b-dglc-HEX-1-5-2s-n-acetyl-LIN-1-1d-2+1-2n-2\">\n",
       "    <path clip-path=\"url(#p20201a9eeb)\" d=\"\n",
       "M460.663 222.897\n",
       "L460.663 237.903\n",
       "L443.711 237.903\n",
       "L443.711 222.897\n",
       "L460.663 222.897\n",
       "z\n",
       "\" style=\"fill:#0000ff;stroke:#000000;stroke-linejoin:miter;\"/>\n",
       "   </g>\n",
       "   <g id=\"RES-1b-b-dman-HEX-1-5-3\">\n",
       "    <path clip-path=\"url(#p20201a9eeb)\" d=\"\n",
       "M397.094 237.903\n",
       "C399.342 237.903 401.498 237.112 403.087 235.705\n",
       "C404.677 234.298 405.57 232.39 405.57 230.4\n",
       "C405.57 228.41 404.677 226.502 403.087 225.095\n",
       "C401.498 223.688 399.342 222.897 397.094 222.897\n",
       "C394.846 222.897 392.69 223.688 391.1 225.095\n",
       "C389.511 226.502 388.618 228.41 388.618 230.4\n",
       "C388.618 232.39 389.511 234.298 391.1 235.705\n",
       "C392.69 237.112 394.846 237.903 397.094 237.903\n",
       "z\n",
       "\" style=\"fill:#008000;stroke:#000000;stroke-linejoin:miter;\"/>\n",
       "   </g>\n",
       "   <g id=\"RES-1b-a-dman-HEX-1-5-10\">\n",
       "    <path clip-path=\"url(#p20201a9eeb)\" d=\"\n",
       "M342 286.669\n",
       "C344.248 286.669 346.404 285.878 347.993 284.471\n",
       "C349.583 283.065 350.476 281.156 350.476 279.166\n",
       "C350.476 277.177 349.583 275.268 347.993 273.861\n",
       "C346.404 272.454 344.248 271.664 342 271.664\n",
       "C339.752 271.664 337.596 272.454 336.007 273.861\n",
       "C334.417 275.268 333.524 277.177 333.524 279.166\n",
       "C333.524 281.156 334.417 283.065 336.007 284.471\n",
       "C337.596 285.878 339.752 286.669 342 286.669\n",
       "z\n",
       "\" style=\"fill:#008000;stroke:#000000;stroke-linejoin:miter;\"/>\n",
       "   </g>\n",
       "   <g id=\"RES-1b-b-dglc-HEX-1-5-2s-n-acetyl-LIN-1-1d-2+1-2n-12\">\n",
       "    <path clip-path=\"url(#p20201a9eeb)\" d=\"\n",
       "M295.382 296.047\n",
       "L295.382 311.052\n",
       "L278.43 311.052\n",
       "L278.43 296.047\n",
       "L295.382 296.047\n",
       "z\n",
       "\" style=\"fill:#0000ff;stroke:#000000;stroke-linejoin:miter;\"/>\n",
       "   </g>\n",
       "   <g id=\"RES-1b-b-dgal-HEX-1-5-13\">\n",
       "    <path clip-path=\"url(#p20201a9eeb)\" d=\"\n",
       "M231.813 311.052\n",
       "C234.061 311.052 236.217 310.262 237.806 308.855\n",
       "C239.396 307.448 240.289 305.539 240.289 303.55\n",
       "C240.289 301.56 239.396 299.651 237.806 298.244\n",
       "C236.217 296.838 234.061 296.047 231.813 296.047\n",
       "C229.565 296.047 227.409 296.838 225.819 298.244\n",
       "C224.23 299.651 223.337 301.56 223.337 303.55\n",
       "C223.337 305.539 224.23 307.448 225.819 308.855\n",
       "C227.409 310.262 229.565 311.052 231.813 311.052\n",
       "z\n",
       "\" style=\"fill:#ffff00;stroke:#000000;stroke-linejoin:miter;\"/>\n",
       "   </g>\n",
       "   <g id=\"RES-1b-a-dgro-dgal-NON-2-6-1-a-2-keto-3-d-2s-n-glycolyl-LIN-1-1d-5+1-2n-14\">\n",
       "    <path clip-path=\"url(#p20201a9eeb)\" d=\"\n",
       "M176.719 296.047\n",
       "L168.243 303.55\n",
       "L176.719 311.052\n",
       "L185.195 303.55\n",
       "z\n",
       "\" style=\"fill:#add8e6;stroke:#000000;stroke-linejoin:miter;\"/>\n",
       "   </g>\n",
       "   <g id=\"RES-1b-b-dglc-HEX-1-5-2s-n-acetyl-LIN-1-1d-2+1-2n-11\">\n",
       "    <path clip-path=\"url(#p20201a9eeb)\" d=\"\n",
       "M295.382 247.281\n",
       "L295.382 262.286\n",
       "L278.43 262.286\n",
       "L278.43 247.281\n",
       "L295.382 247.281\n",
       "z\n",
       "\" style=\"fill:#0000ff;stroke:#000000;stroke-linejoin:miter;\"/>\n",
       "   </g>\n",
       "   <g id=\"RES-1b-a-dman-HEX-1-5-4\">\n",
       "    <path clip-path=\"url(#p20201a9eeb)\" d=\"\n",
       "M342 189.136\n",
       "C344.248 189.136 346.404 188.346 347.993 186.939\n",
       "C349.583 185.532 350.476 183.623 350.476 181.634\n",
       "C350.476 179.644 349.583 177.735 347.993 176.329\n",
       "C346.404 174.922 344.248 174.131 342 174.131\n",
       "C339.752 174.131 337.596 174.922 336.007 176.329\n",
       "C334.417 177.735 333.524 179.644 333.524 181.634\n",
       "C333.524 183.623 334.417 185.532 336.007 186.939\n",
       "C337.596 188.346 339.752 189.136 342 189.136\n",
       "z\n",
       "\" style=\"fill:#008000;stroke:#000000;stroke-linejoin:miter;\"/>\n",
       "   </g>\n",
       "   <g id=\"RES-1b-b-dglc-HEX-1-5-2s-n-acetyl-LIN-1-1d-2+1-2n-8\">\n",
       "    <path clip-path=\"url(#p20201a9eeb)\" d=\"\n",
       "M295.382 198.514\n",
       "L295.382 213.519\n",
       "L278.43 213.519\n",
       "L278.43 198.514\n",
       "L295.382 198.514\n",
       "z\n",
       "\" style=\"fill:#0000ff;stroke:#000000;stroke-linejoin:miter;\"/>\n",
       "   </g>\n",
       "   <g id=\"RES-1b-b-dgal-HEX-1-5-9\">\n",
       "    <path clip-path=\"url(#p20201a9eeb)\" d=\"\n",
       "M231.813 213.519\n",
       "C234.061 213.519 236.217 212.729 237.806 211.322\n",
       "C239.396 209.915 240.289 208.006 240.289 206.017\n",
       "C240.289 204.027 239.396 202.119 237.806 200.712\n",
       "C236.217 199.305 234.061 198.514 231.813 198.514\n",
       "C229.565 198.514 227.409 199.305 225.819 200.712\n",
       "C224.23 202.119 223.337 204.027 223.337 206.017\n",
       "C223.337 208.006 224.23 209.915 225.819 211.322\n",
       "C227.409 212.729 229.565 213.519 231.813 213.519\n",
       "z\n",
       "\" style=\"fill:#ffff00;stroke:#000000;stroke-linejoin:miter;\"/>\n",
       "   </g>\n",
       "   <g id=\"RES-1b-b-dglc-HEX-1-5-2s-n-acetyl-LIN-1-1d-2+1-2n-5\">\n",
       "    <path clip-path=\"url(#p20201a9eeb)\" d=\"\n",
       "M295.382 149.748\n",
       "L295.382 164.753\n",
       "L278.43 164.753\n",
       "L278.43 149.748\n",
       "L295.382 149.748\n",
       "z\n",
       "\" style=\"fill:#0000ff;stroke:#000000;stroke-linejoin:miter;\"/>\n",
       "   </g>\n",
       "   <g id=\"RES-1b-b-dgal-HEX-1-5-6\">\n",
       "    <path clip-path=\"url(#p20201a9eeb)\" d=\"\n",
       "M231.813 164.753\n",
       "C234.061 164.753 236.217 163.962 237.806 162.556\n",
       "C239.396 161.149 240.289 159.24 240.289 157.25\n",
       "C240.289 155.261 239.396 153.352 237.806 151.945\n",
       "C236.217 150.538 234.061 149.748 231.813 149.748\n",
       "C229.565 149.748 227.409 150.538 225.819 151.945\n",
       "C224.23 153.352 223.337 155.261 223.337 157.25\n",
       "C223.337 159.24 224.23 161.149 225.819 162.556\n",
       "C227.409 163.962 229.565 164.753 231.813 164.753\n",
       "z\n",
       "\" style=\"fill:#ffff00;stroke:#000000;stroke-linejoin:miter;\"/>\n",
       "   </g>\n",
       "   <g id=\"RES-1b-a-dgro-dgal-NON-2-6-1-a-2-keto-3-d-2s-n-glycolyl-LIN-1-1d-5+1-2n-7\">\n",
       "    <path clip-path=\"url(#p20201a9eeb)\" d=\"\n",
       "M176.719 149.748\n",
       "L168.243 157.25\n",
       "L176.719 164.753\n",
       "L185.195 157.25\n",
       "z\n",
       "\" style=\"fill:#add8e6;stroke:#000000;stroke-linejoin:miter;\"/>\n",
       "   </g>\n",
       "   <g id=\"RES-1b-a-lgal-HEX-1-5-6-d-15\">\n",
       "    <path clip-path=\"url(#p20201a9eeb)\" d=\"\n",
       "M507.281 198.514\n",
       "L499.941 209.768\n",
       "L514.621 209.768\n",
       "z\n",
       "\" style=\"fill:#ff0000;stroke:#000000;stroke-linejoin:miter;\"/>\n",
       "   </g>\n",
       "   <g id=\"patch_3\">\n",
       "    <path d=\"\n",
       "M7.2 7.2\n",
       "L676.8 7.2\" style=\"fill:none;stroke:#000000;stroke-linecap:square;stroke-linejoin:miter;\"/>\n",
       "   </g>\n",
       "   <g id=\"patch_4\">\n",
       "    <path d=\"\n",
       "M676.8 453.6\n",
       "L676.8 7.2\" style=\"fill:none;stroke:#000000;stroke-linecap:square;stroke-linejoin:miter;\"/>\n",
       "   </g>\n",
       "   <g id=\"patch_5\">\n",
       "    <path d=\"\n",
       "M7.2 453.6\n",
       "L676.8 453.6\" style=\"fill:none;stroke:#000000;stroke-linecap:square;stroke-linejoin:miter;\"/>\n",
       "   </g>\n",
       "   <g id=\"patch_6\">\n",
       "    <path d=\"\n",
       "M7.2 453.6\n",
       "L7.2 7.2\" style=\"fill:none;stroke:#000000;stroke-linecap:square;stroke-linejoin:miter;\"/>\n",
       "   </g>\n",
       "   <g id=\"line2d_15\">\n",
       "    <path clip-path=\"url(#p20201a9eeb)\" d=\"\n",
       "M524.233 218.208\n",
       "L490.329 218.208\" style=\"fill:none;stroke:#ff0000;stroke-linecap:square;\"/>\n",
       "   </g>\n",
       "   <g id=\"line2d_16\">\n",
       "    <path clip-path=\"url(#p20201a9eeb)\" d=\"\n",
       "M297.501 281.98\n",
       "L331.405 251.97\" style=\"fill:none;stroke:#ff0000;stroke-linecap:square;\"/>\n",
       "   </g>\n",
       "   <g id=\"line2d_17\">\n",
       "    <path clip-path=\"url(#p20201a9eeb)\" d=\"\n",
       "M269.954 191.012\n",
       "L303.858 221.022\" style=\"fill:none;stroke:#ff0000;stroke-linecap:square;\"/>\n",
       "   </g>\n",
       "   <g id=\"line2d_18\">\n",
       "    <path clip-path=\"url(#p20201a9eeb)\" d=\"\n",
       "M297.501 178.82\n",
       "L331.405 208.83\" style=\"fill:none;stroke:#ff0000;stroke-linecap:square;\"/>\n",
       "   </g>\n",
       "   <g id=\"line2d_19\">\n",
       "    <path clip-path=\"url(#p20201a9eeb)\" d=\"\n",
       "M269.954 142.245\n",
       "L303.858 172.255\" style=\"fill:none;stroke:#ff0000;stroke-linecap:square;\"/>\n",
       "   </g>\n",
       "   <g id=\"line2d_20\">\n",
       "    <path clip-path=\"url(#p20201a9eeb)\" d=\"\n",
       "M269.954 288.545\n",
       "L303.858 318.555\" style=\"fill:none;stroke:#ff0000;stroke-linecap:square;\"/>\n",
       "   </g>\n",
       "   <g id=\"line2d_21\">\n",
       "    <path clip-path=\"url(#p20201a9eeb)\" d=\"\n",
       "M325.048 166.629\n",
       "L358.952 196.639\" style=\"fill:none;stroke:#ff0000;stroke-linecap:square;\"/>\n",
       "   </g>\n",
       "   <g id=\"line2d_22\">\n",
       "    <path clip-path=\"url(#p20201a9eeb)\" d=\"\n",
       "M325.048 264.161\n",
       "L358.952 294.171\" style=\"fill:none;stroke:#ff0000;stroke-linecap:square;\"/>\n",
       "   </g>\n",
       "   <g id=\"line2d_23\">\n",
       "    <path clip-path=\"url(#p20201a9eeb)\" d=\"\n",
       "M380.142 215.395\n",
       "L414.046 245.405\" style=\"fill:none;stroke:#ff0000;stroke-linecap:square;\"/>\n",
       "   </g>\n",
       "   <g id=\"line2d_24\">\n",
       "    <path clip-path=\"url(#p20201a9eeb)\" d=\"\n",
       "M269.954 288.545\n",
       "L303.858 318.555\" style=\"fill:none;stroke:#ff0000;stroke-linecap:square;\"/>\n",
       "   </g>\n",
       "   <g id=\"line2d_25\">\n",
       "    <path clip-path=\"url(#p20201a9eeb)\" d=\"\n",
       "M269.954 142.245\n",
       "L303.858 172.255\" style=\"fill:none;stroke:#ff0000;stroke-linecap:square;\"/>\n",
       "   </g>\n",
       "   <g id=\"line2d_26\">\n",
       "    <path clip-path=\"url(#p20201a9eeb)\" d=\"\n",
       "M269.954 288.545\n",
       "L303.858 318.555\" style=\"fill:none;stroke:#ff0000;stroke-linecap:square;\"/>\n",
       "   </g>\n",
       "   <g id=\"line2d_27\">\n",
       "    <path clip-path=\"url(#p20201a9eeb)\" d=\"\n",
       "M269.954 142.245\n",
       "L303.858 172.255\" style=\"fill:none;stroke:#ff0000;stroke-linecap:square;\"/>\n",
       "   </g>\n",
       "   <g id=\"line2d_28\">\n",
       "    <path clip-path=\"url(#p20201a9eeb)\" d=\"\n",
       "M435.235 215.395\n",
       "L469.139 245.405\" style=\"fill:none;stroke:#ff0000;stroke-linecap:square;\"/>\n",
       "   </g>\n",
       "   <g id=\"line2d_29\">\n",
       "    <path clip-path=\"url(#p20201a9eeb)\" d=\"\n",
       "M435.235 215.395\n",
       "L469.139 245.405\" style=\"fill:none;stroke:#ff0000;stroke-linecap:square;\"/>\n",
       "   </g>\n",
       "   <g id=\"line2d_30\">\n",
       "    <path clip-path=\"url(#p20201a9eeb)\" d=\"\n",
       "M479.734 215.395\n",
       "L479.734 245.405\" style=\"fill:none;stroke:#ff0000;stroke-linecap:square;\"/>\n",
       "   </g>\n",
       "   <g id=\"line2d_31\">\n",
       "    <path clip-path=\"url(#p20201a9eeb)\" d=\"\n",
       "M297.501 178.82\n",
       "L331.405 208.83\" style=\"fill:none;stroke:#ff0000;stroke-linecap:square;\"/>\n",
       "   </g>\n",
       "   <g id=\"line2d_32\">\n",
       "    <path clip-path=\"url(#p20201a9eeb)\" d=\"\n",
       "M524.233 218.208\n",
       "L490.329 218.208\" style=\"fill:none;stroke:#ff0000;stroke-linecap:square;\"/>\n",
       "   </g>\n",
       "  </g>\n",
       " </g>\n",
       " <defs>\n",
       "  <clipPath id=\"p20201a9eeb\">\n",
       "   <rect height=\"446.4\" width=\"669.6\" x=\"7.2\" y=\"7.2\"/>\n",
       "  </clipPath>\n",
       " </defs>\n",
       "</svg>\n"
      ],
      "text/plain": [
       "<matplotlib.figure.Figure at 0x1ba96cc0>"
      ]
     },
     "metadata": {},
     "output_type": "display_data"
    },
    {
     "data": {
      "text/plain": [
       "10"
      ]
     },
     "metadata": {},
     "output_type": "display_data"
    },
    {
     "data": {
      "text/plain": [
       "3526.78883258069"
      ]
     },
     "metadata": {},
     "output_type": "display_data"
    },
    {
     "data": {
      "text/plain": [
       "'Fragments Observed / Expected: 0.124'"
      ]
     },
     "metadata": {},
     "output_type": "display_data"
    },
    {
     "data": {
      "text/plain": [
       "'Bc2 463.23945 2 [737.411884, 15646.940501]'"
      ]
     },
     "metadata": {},
     "output_type": "display_data"
    },
    {
     "data": {
      "text/plain": [
       "'2,5Ad2 523.261037 2 [3307.966409, 270.406566]'"
      ]
     },
     "metadata": {},
     "output_type": "display_data"
    },
    {
     "data": {
      "text/plain": [
       "'2,5Ae1 523.261037 2 [3307.966409, 270.406566]'"
      ]
     },
     "metadata": {},
     "output_type": "display_data"
    },
    {
     "data": {
      "text/plain": [
       "'Be2 595.289692 1 [422.89256]'"
      ]
     },
     "metadata": {},
     "output_type": "display_data"
    },
    {
     "data": {
      "text/plain": [
       "'Bd2 595.289692 1 [422.89256]'"
      ]
     },
     "metadata": {},
     "output_type": "display_data"
    },
    {
     "data": {
      "text/plain": [
       "'1,4Ad3 754.369277 3 [534.570441, 391.541112, 720.101107]'"
      ]
     },
     "metadata": {},
     "output_type": "display_data"
    },
    {
     "data": {
      "text/plain": [
       "'1,4Ae2 754.369277 3 [534.570441, 391.541112, 720.101107]'"
      ]
     },
     "metadata": {},
     "output_type": "display_data"
    },
    {
     "data": {
      "text/plain": [
       "'3,5Ab1 928.477465 1 [334.604261]'"
      ]
     },
     "metadata": {},
     "output_type": "display_data"
    },
    {
     "data": {
      "text/plain": [
       "'2,5Ab1 972.484057 1 [380.621932]'"
      ]
     },
     "metadata": {},
     "output_type": "display_data"
    },
    {
     "data": {
      "text/plain": [
       "'1,4Aa1 1203.586862 1 [3272.381729]'"
      ]
     },
     "metadata": {},
     "output_type": "display_data"
    },
    {
     "data": {
      "text/plain": [
       "'1,4A5 1407.697322 2 [2378.413192, 568.62415]'"
      ]
     },
     "metadata": {},
     "output_type": "display_data"
    },
    {
     "data": {
      "text/plain": [
       "'0,3A5 1597.785735 3 [1993.963779, 88.628734, 370.438893]'"
      ]
     },
     "metadata": {},
     "output_type": "display_data"
    },
    {
     "data": {
      "text/plain": [
       "'Zb3 2015.036607 1 [11697.676557]'"
      ]
     },
     "metadata": {},
     "output_type": "display_data"
    },
    {
     "data": {
      "text/plain": [
       "'1,5Xb3 2061.024005 2 [45088.914776, 9630.47274]'"
      ]
     },
     "metadata": {},
     "output_type": "display_data"
    },
    {
     "data": {
      "text/plain": [
       "'Ya3 2237.117445 1 [62882.913932]'"
      ]
     },
     "metadata": {},
     "output_type": "display_data"
    },
    {
     "data": {
      "text/plain": [
       "'1,4Xd4 2772.400856 1 [541.333082]'"
      ]
     },
     "metadata": {},
     "output_type": "display_data"
    },
    {
     "data": {
      "text/plain": [
       "'1,4Xe5 2772.400856 1 [541.333082]'"
      ]
     },
     "metadata": {},
     "output_type": "display_data"
    },
    {
     "data": {
      "text/plain": [
       "'2,4Xe5 2857.449125 2 [132.324098, 48565.122826]'"
      ]
     },
     "metadata": {},
     "output_type": "display_data"
    },
    {
     "data": {
      "text/plain": [
       "'2,4Xd4 2857.449125 2 [132.324098, 48565.122826]'"
      ]
     },
     "metadata": {},
     "output_type": "display_data"
    },
    {
     "data": {
      "text/plain": [
       "'Zd5 2913.436644 1 [509.772402]'"
      ]
     },
     "metadata": {},
     "output_type": "display_data"
    },
    {
     "data": {
      "text/plain": [
       "'Ze5 2913.436644 1 [509.772402]'"
      ]
     },
     "metadata": {},
     "output_type": "display_data"
    },
    {
     "data": {
      "text/plain": [
       "'1,4Xb3 2945.459288 1 [404.227291]'"
      ]
     },
     "metadata": {},
     "output_type": "display_data"
    },
    {
     "data": {
      "text/plain": [
       "'1,5A5 2945.459288 1 [404.227291]'"
      ]
     },
     "metadata": {},
     "output_type": "display_data"
    },
    {
     "data": {
      "text/plain": [
       "'1,3Xb3 2989.491062 1 [26701.541532]'"
      ]
     },
     "metadata": {},
     "output_type": "display_data"
    },
    {
     "data": {
      "text/plain": [
       "'Zc4 3045.530755 1 [447.695769]'"
      ]
     },
     "metadata": {},
     "output_type": "display_data"
    },
    {
     "data": {
      "text/plain": [
       "'Zd6 3117.555722 1 [448.854953]'"
      ]
     },
     "metadata": {},
     "output_type": "display_data"
    },
    {
     "data": {
      "text/plain": [
       "'Ze6 3117.555722 1 [448.854953]'"
      ]
     },
     "metadata": {},
     "output_type": "display_data"
    },
    {
     "data": {
      "text/plain": [
       "'0,2Xa3 3119.59333 1 [602.989551]'"
      ]
     },
     "metadata": {},
     "output_type": "display_data"
    },
    {
     "data": {
      "text/plain": [
       "'2,4Xc4 3234.60347 1 [1318.619715]'"
      ]
     },
     "metadata": {},
     "output_type": "display_data"
    },
    {
     "data": {
      "image/svg+xml": [
       "<?xml version=\"1.0\" encoding=\"utf-8\" standalone=\"no\"?>\n",
       "<!DOCTYPE svg PUBLIC \"-//W3C//DTD SVG 1.1//EN\"\n",
       "  \"http://www.w3.org/Graphics/SVG/1.1/DTD/svg11.dtd\">\n",
       "<!-- Created with matplotlib (http://matplotlib.org/) -->\n",
       "<svg height=\"460pt\" version=\"1.1\" viewBox=\"0 0 684 460\" width=\"684pt\" xmlns=\"http://www.w3.org/2000/svg\" xmlns:xlink=\"http://www.w3.org/1999/xlink\">\n",
       " <defs>\n",
       "  <style type=\"text/css\">\n",
       "*{stroke-linecap:butt;stroke-linejoin:round;}\n",
       "  </style>\n",
       " </defs>\n",
       " <g id=\"figure_1\">\n",
       "  <g id=\"patch_1\">\n",
       "   <path d=\"\n",
       "M0 460.8\n",
       "L684 460.8\n",
       "L684 0\n",
       "L0 0\n",
       "L0 460.8\" style=\"fill:none;\"/>\n",
       "  </g>\n",
       "  <g id=\"axes_1\">\n",
       "   <g id=\"patch_2\">\n",
       "    <path d=\"\n",
       "M7.2 453.6\n",
       "L676.8 453.6\n",
       "L676.8 7.2\n",
       "L7.2 7.2\n",
       "L7.2 453.6\" style=\"fill:none;\"/>\n",
       "   </g>\n",
       "   <g id=\"line2d_1\">\n",
       "    <path clip-path=\"url(#p20201a9eeb)\" d=\"\n",
       "M231.813 303.55\n",
       "L176.719 303.55\" style=\"fill:none;stroke:#000000;stroke-linecap:square;\"/>\n",
       "   </g>\n",
       "   <g id=\"line2d_2\">\n",
       "    <path clip-path=\"url(#p20201a9eeb)\" d=\"\n",
       "M286.906 303.55\n",
       "L231.813 303.55\" style=\"fill:none;stroke:#000000;stroke-linecap:square;\"/>\n",
       "   </g>\n",
       "   <g id=\"line2d_3\">\n",
       "    <path clip-path=\"url(#p20201a9eeb)\" d=\"\n",
       "M342 279.166\n",
       "L286.906 303.55\" style=\"fill:none;stroke:#000000;stroke-linecap:square;\"/>\n",
       "   </g>\n",
       "   <g id=\"line2d_4\">\n",
       "    <path clip-path=\"url(#p20201a9eeb)\" d=\"\n",
       "M342 279.166\n",
       "L286.906 254.783\" style=\"fill:none;stroke:#000000;stroke-linecap:square;\"/>\n",
       "   </g>\n",
       "   <g id=\"line2d_5\">\n",
       "    <path clip-path=\"url(#p20201a9eeb)\" d=\"\n",
       "M397.094 230.4\n",
       "L342 279.166\" style=\"fill:none;stroke:#000000;stroke-linecap:square;\"/>\n",
       "   </g>\n",
       "   <g id=\"line2d_6\">\n",
       "    <path clip-path=\"url(#p20201a9eeb)\" d=\"\n",
       "M286.906 206.017\n",
       "L231.813 206.017\" style=\"fill:none;stroke:#000000;stroke-linecap:square;\"/>\n",
       "   </g>\n",
       "   <g id=\"line2d_7\">\n",
       "    <path clip-path=\"url(#p20201a9eeb)\" d=\"\n",
       "M342 181.634\n",
       "L286.906 206.017\" style=\"fill:none;stroke:#000000;stroke-linecap:square;\"/>\n",
       "   </g>\n",
       "   <g id=\"line2d_8\">\n",
       "    <path clip-path=\"url(#p20201a9eeb)\" d=\"\n",
       "M231.813 157.25\n",
       "L176.719 157.25\" style=\"fill:none;stroke:#000000;stroke-linecap:square;\"/>\n",
       "   </g>\n",
       "   <g id=\"line2d_9\">\n",
       "    <path clip-path=\"url(#p20201a9eeb)\" d=\"\n",
       "M286.906 157.25\n",
       "L231.813 157.25\" style=\"fill:none;stroke:#000000;stroke-linecap:square;\"/>\n",
       "   </g>\n",
       "   <g id=\"line2d_10\">\n",
       "    <path clip-path=\"url(#p20201a9eeb)\" d=\"\n",
       "M342 181.634\n",
       "L286.906 157.25\" style=\"fill:none;stroke:#000000;stroke-linecap:square;\"/>\n",
       "   </g>\n",
       "   <g id=\"line2d_11\">\n",
       "    <path clip-path=\"url(#p20201a9eeb)\" d=\"\n",
       "M397.094 230.4\n",
       "L342 181.634\" style=\"fill:none;stroke:#000000;stroke-linecap:square;\"/>\n",
       "   </g>\n",
       "   <g id=\"line2d_12\">\n",
       "    <path clip-path=\"url(#p20201a9eeb)\" d=\"\n",
       "M452.187 230.4\n",
       "L397.094 230.4\" style=\"fill:none;stroke:#000000;stroke-linecap:square;\"/>\n",
       "   </g>\n",
       "   <g id=\"line2d_13\">\n",
       "    <path clip-path=\"url(#p20201a9eeb)\" d=\"\n",
       "M507.281 230.4\n",
       "L452.187 230.4\" style=\"fill:none;stroke:#000000;stroke-linecap:square;\"/>\n",
       "   </g>\n",
       "   <g id=\"RES-1b-o-dglc-HEX-0-0-1-aldi-2s-n-acetyl-LIN-1-1d-2+1-2n-1\">\n",
       "    <path clip-path=\"url(#p20201a9eeb)\" d=\"\n",
       "M515.757 222.897\n",
       "L515.757 237.903\n",
       "L498.805 237.903\n",
       "L498.805 222.897\n",
       "L515.757 222.897\n",
       "z\n",
       "\" style=\"fill:#0000ff;stroke:#000000;stroke-linejoin:miter;\"/>\n",
       "   </g>\n",
       "   <g id=\"RES-1b-b-dglc-HEX-1-5-2s-n-acetyl-LIN-1-1d-2+1-2n-2\">\n",
       "    <path clip-path=\"url(#p20201a9eeb)\" d=\"\n",
       "M460.663 222.897\n",
       "L460.663 237.903\n",
       "L443.711 237.903\n",
       "L443.711 222.897\n",
       "L460.663 222.897\n",
       "z\n",
       "\" style=\"fill:#0000ff;stroke:#000000;stroke-linejoin:miter;\"/>\n",
       "   </g>\n",
       "   <g id=\"RES-1b-b-dman-HEX-1-5-3\">\n",
       "    <path clip-path=\"url(#p20201a9eeb)\" d=\"\n",
       "M397.094 237.903\n",
       "C399.342 237.903 401.498 237.112 403.087 235.705\n",
       "C404.677 234.298 405.57 232.39 405.57 230.4\n",
       "C405.57 228.41 404.677 226.502 403.087 225.095\n",
       "C401.498 223.688 399.342 222.897 397.094 222.897\n",
       "C394.846 222.897 392.69 223.688 391.1 225.095\n",
       "C389.511 226.502 388.618 228.41 388.618 230.4\n",
       "C388.618 232.39 389.511 234.298 391.1 235.705\n",
       "C392.69 237.112 394.846 237.903 397.094 237.903\n",
       "z\n",
       "\" style=\"fill:#008000;stroke:#000000;stroke-linejoin:miter;\"/>\n",
       "   </g>\n",
       "   <g id=\"RES-1b-a-dman-HEX-1-5-10\">\n",
       "    <path clip-path=\"url(#p20201a9eeb)\" d=\"\n",
       "M342 286.669\n",
       "C344.248 286.669 346.404 285.878 347.993 284.471\n",
       "C349.583 283.065 350.476 281.156 350.476 279.166\n",
       "C350.476 277.177 349.583 275.268 347.993 273.861\n",
       "C346.404 272.454 344.248 271.664 342 271.664\n",
       "C339.752 271.664 337.596 272.454 336.007 273.861\n",
       "C334.417 275.268 333.524 277.177 333.524 279.166\n",
       "C333.524 281.156 334.417 283.065 336.007 284.471\n",
       "C337.596 285.878 339.752 286.669 342 286.669\n",
       "z\n",
       "\" style=\"fill:#008000;stroke:#000000;stroke-linejoin:miter;\"/>\n",
       "   </g>\n",
       "   <g id=\"RES-1b-b-dglc-HEX-1-5-2s-n-acetyl-LIN-1-1d-2+1-2n-12\">\n",
       "    <path clip-path=\"url(#p20201a9eeb)\" d=\"\n",
       "M295.382 296.047\n",
       "L295.382 311.052\n",
       "L278.43 311.052\n",
       "L278.43 296.047\n",
       "L295.382 296.047\n",
       "z\n",
       "\" style=\"fill:#0000ff;stroke:#000000;stroke-linejoin:miter;\"/>\n",
       "   </g>\n",
       "   <g id=\"RES-1b-b-dgal-HEX-1-5-13\">\n",
       "    <path clip-path=\"url(#p20201a9eeb)\" d=\"\n",
       "M231.813 311.052\n",
       "C234.061 311.052 236.217 310.262 237.806 308.855\n",
       "C239.396 307.448 240.289 305.539 240.289 303.55\n",
       "C240.289 301.56 239.396 299.651 237.806 298.244\n",
       "C236.217 296.838 234.061 296.047 231.813 296.047\n",
       "C229.565 296.047 227.409 296.838 225.819 298.244\n",
       "C224.23 299.651 223.337 301.56 223.337 303.55\n",
       "C223.337 305.539 224.23 307.448 225.819 308.855\n",
       "C227.409 310.262 229.565 311.052 231.813 311.052\n",
       "z\n",
       "\" style=\"fill:#ffff00;stroke:#000000;stroke-linejoin:miter;\"/>\n",
       "   </g>\n",
       "   <g id=\"RES-1b-a-dgro-dgal-NON-2-6-1-a-2-keto-3-d-2s-n-glycolyl-LIN-1-1d-5+1-2n-14\">\n",
       "    <path clip-path=\"url(#p20201a9eeb)\" d=\"\n",
       "M176.719 296.047\n",
       "L168.243 303.55\n",
       "L176.719 311.052\n",
       "L185.195 303.55\n",
       "z\n",
       "\" style=\"fill:#add8e6;stroke:#000000;stroke-linejoin:miter;\"/>\n",
       "   </g>\n",
       "   <g id=\"RES-1b-b-dglc-HEX-1-5-2s-n-acetyl-LIN-1-1d-2+1-2n-11\">\n",
       "    <path clip-path=\"url(#p20201a9eeb)\" d=\"\n",
       "M295.382 247.281\n",
       "L295.382 262.286\n",
       "L278.43 262.286\n",
       "L278.43 247.281\n",
       "L295.382 247.281\n",
       "z\n",
       "\" style=\"fill:#0000ff;stroke:#000000;stroke-linejoin:miter;\"/>\n",
       "   </g>\n",
       "   <g id=\"RES-1b-a-dman-HEX-1-5-4\">\n",
       "    <path clip-path=\"url(#p20201a9eeb)\" d=\"\n",
       "M342 189.136\n",
       "C344.248 189.136 346.404 188.346 347.993 186.939\n",
       "C349.583 185.532 350.476 183.623 350.476 181.634\n",
       "C350.476 179.644 349.583 177.735 347.993 176.329\n",
       "C346.404 174.922 344.248 174.131 342 174.131\n",
       "C339.752 174.131 337.596 174.922 336.007 176.329\n",
       "C334.417 177.735 333.524 179.644 333.524 181.634\n",
       "C333.524 183.623 334.417 185.532 336.007 186.939\n",
       "C337.596 188.346 339.752 189.136 342 189.136\n",
       "z\n",
       "\" style=\"fill:#008000;stroke:#000000;stroke-linejoin:miter;\"/>\n",
       "   </g>\n",
       "   <g id=\"RES-1b-b-dglc-HEX-1-5-2s-n-acetyl-LIN-1-1d-2+1-2n-8\">\n",
       "    <path clip-path=\"url(#p20201a9eeb)\" d=\"\n",
       "M295.382 198.514\n",
       "L295.382 213.519\n",
       "L278.43 213.519\n",
       "L278.43 198.514\n",
       "L295.382 198.514\n",
       "z\n",
       "\" style=\"fill:#0000ff;stroke:#000000;stroke-linejoin:miter;\"/>\n",
       "   </g>\n",
       "   <g id=\"RES-1b-b-dgal-HEX-1-5-9\">\n",
       "    <path clip-path=\"url(#p20201a9eeb)\" d=\"\n",
       "M231.813 213.519\n",
       "C234.061 213.519 236.217 212.729 237.806 211.322\n",
       "C239.396 209.915 240.289 208.006 240.289 206.017\n",
       "C240.289 204.027 239.396 202.119 237.806 200.712\n",
       "C236.217 199.305 234.061 198.514 231.813 198.514\n",
       "C229.565 198.514 227.409 199.305 225.819 200.712\n",
       "C224.23 202.119 223.337 204.027 223.337 206.017\n",
       "C223.337 208.006 224.23 209.915 225.819 211.322\n",
       "C227.409 212.729 229.565 213.519 231.813 213.519\n",
       "z\n",
       "\" style=\"fill:#ffff00;stroke:#000000;stroke-linejoin:miter;\"/>\n",
       "   </g>\n",
       "   <g id=\"RES-1b-b-dglc-HEX-1-5-2s-n-acetyl-LIN-1-1d-2+1-2n-5\">\n",
       "    <path clip-path=\"url(#p20201a9eeb)\" d=\"\n",
       "M295.382 149.748\n",
       "L295.382 164.753\n",
       "L278.43 164.753\n",
       "L278.43 149.748\n",
       "L295.382 149.748\n",
       "z\n",
       "\" style=\"fill:#0000ff;stroke:#000000;stroke-linejoin:miter;\"/>\n",
       "   </g>\n",
       "   <g id=\"RES-1b-b-dgal-HEX-1-5-6\">\n",
       "    <path clip-path=\"url(#p20201a9eeb)\" d=\"\n",
       "M231.813 164.753\n",
       "C234.061 164.753 236.217 163.962 237.806 162.556\n",
       "C239.396 161.149 240.289 159.24 240.289 157.25\n",
       "C240.289 155.261 239.396 153.352 237.806 151.945\n",
       "C236.217 150.538 234.061 149.748 231.813 149.748\n",
       "C229.565 149.748 227.409 150.538 225.819 151.945\n",
       "C224.23 153.352 223.337 155.261 223.337 157.25\n",
       "C223.337 159.24 224.23 161.149 225.819 162.556\n",
       "C227.409 163.962 229.565 164.753 231.813 164.753\n",
       "z\n",
       "\" style=\"fill:#ffff00;stroke:#000000;stroke-linejoin:miter;\"/>\n",
       "   </g>\n",
       "   <g id=\"RES-1b-a-dgro-dgal-NON-2-6-1-a-2-keto-3-d-2s-n-glycolyl-LIN-1-1d-5+1-2n-7\">\n",
       "    <path clip-path=\"url(#p20201a9eeb)\" d=\"\n",
       "M176.719 149.748\n",
       "L168.243 157.25\n",
       "L176.719 164.753\n",
       "L185.195 157.25\n",
       "z\n",
       "\" style=\"fill:#add8e6;stroke:#000000;stroke-linejoin:miter;\"/>\n",
       "   </g>\n",
       "   <g id=\"patch_3\">\n",
       "    <path d=\"\n",
       "M7.2 7.2\n",
       "L676.8 7.2\" style=\"fill:none;stroke:#000000;stroke-linecap:square;stroke-linejoin:miter;\"/>\n",
       "   </g>\n",
       "   <g id=\"patch_4\">\n",
       "    <path d=\"\n",
       "M676.8 453.6\n",
       "L676.8 7.2\" style=\"fill:none;stroke:#000000;stroke-linecap:square;stroke-linejoin:miter;\"/>\n",
       "   </g>\n",
       "   <g id=\"patch_5\">\n",
       "    <path d=\"\n",
       "M7.2 453.6\n",
       "L676.8 453.6\" style=\"fill:none;stroke:#000000;stroke-linecap:square;stroke-linejoin:miter;\"/>\n",
       "   </g>\n",
       "   <g id=\"patch_6\">\n",
       "    <path d=\"\n",
       "M7.2 453.6\n",
       "L7.2 7.2\" style=\"fill:none;stroke:#000000;stroke-linecap:square;stroke-linejoin:miter;\"/>\n",
       "   </g>\n",
       "   <g id=\"line2d_14\">\n",
       "    <path clip-path=\"url(#p20201a9eeb)\" d=\"\n",
       "M297.501 178.82\n",
       "L331.405 208.83\" style=\"fill:none;stroke:#ff0000;stroke-linecap:square;\"/>\n",
       "   </g>\n",
       "   <g id=\"line2d_15\">\n",
       "    <path clip-path=\"url(#p20201a9eeb)\" d=\"\n",
       "M214.861 142.245\n",
       "L248.765 172.255\" style=\"fill:none;stroke:#ff0000;stroke-linecap:square;\"/>\n",
       "   </g>\n",
       "   <g id=\"line2d_16\">\n",
       "    <path clip-path=\"url(#p20201a9eeb)\" d=\"\n",
       "M214.861 288.545\n",
       "L248.765 318.555\" style=\"fill:none;stroke:#ff0000;stroke-linecap:square;\"/>\n",
       "   </g>\n",
       "   <g id=\"line2d_17\">\n",
       "    <path clip-path=\"url(#p20201a9eeb)\" d=\"\n",
       "M259.359 288.545\n",
       "L259.359 318.555\" style=\"fill:none;stroke:#ff0000;stroke-linecap:square;\"/>\n",
       "   </g>\n",
       "   <g id=\"line2d_18\">\n",
       "    <path clip-path=\"url(#p20201a9eeb)\" d=\"\n",
       "M259.359 142.245\n",
       "L259.359 172.255\" style=\"fill:none;stroke:#ff0000;stroke-linecap:square;\"/>\n",
       "   </g>\n",
       "   <g id=\"line2d_19\">\n",
       "    <path clip-path=\"url(#p20201a9eeb)\" d=\"\n",
       "M269.954 142.245\n",
       "L303.858 172.255\" style=\"fill:none;stroke:#ff0000;stroke-linecap:square;\"/>\n",
       "   </g>\n",
       "   <g id=\"line2d_20\">\n",
       "    <path clip-path=\"url(#p20201a9eeb)\" d=\"\n",
       "M269.954 288.545\n",
       "L303.858 318.555\" style=\"fill:none;stroke:#ff0000;stroke-linecap:square;\"/>\n",
       "   </g>\n",
       "   <g id=\"line2d_21\">\n",
       "    <path clip-path=\"url(#p20201a9eeb)\" d=\"\n",
       "M325.048 166.629\n",
       "L358.952 196.639\" style=\"fill:none;stroke:#ff0000;stroke-linecap:square;\"/>\n",
       "   </g>\n",
       "   <g id=\"line2d_22\">\n",
       "    <path clip-path=\"url(#p20201a9eeb)\" d=\"\n",
       "M325.048 166.629\n",
       "L358.952 196.639\" style=\"fill:none;stroke:#ff0000;stroke-linecap:square;\"/>\n",
       "   </g>\n",
       "   <g id=\"line2d_23\">\n",
       "    <path clip-path=\"url(#p20201a9eeb)\" d=\"\n",
       "M325.048 264.161\n",
       "L358.952 294.171\" style=\"fill:none;stroke:#ff0000;stroke-linecap:square;\"/>\n",
       "   </g>\n",
       "   <g id=\"line2d_24\">\n",
       "    <path clip-path=\"url(#p20201a9eeb)\" d=\"\n",
       "M380.142 215.395\n",
       "L414.046 245.405\" style=\"fill:none;stroke:#ff0000;stroke-linecap:square;\"/>\n",
       "   </g>\n",
       "   <g id=\"line2d_25\">\n",
       "    <path clip-path=\"url(#p20201a9eeb)\" d=\"\n",
       "M380.142 215.395\n",
       "L414.046 245.405\" style=\"fill:none;stroke:#ff0000;stroke-linecap:square;\"/>\n",
       "   </g>\n",
       "   <g id=\"line2d_26\">\n",
       "    <path clip-path=\"url(#p20201a9eeb)\" d=\"\n",
       "M352.595 221.022\n",
       "L386.499 191.012\" style=\"fill:none;stroke:#ff0000;stroke-linecap:square;\"/>\n",
       "   </g>\n",
       "   <g id=\"line2d_27\">\n",
       "    <path clip-path=\"url(#p20201a9eeb)\" d=\"\n",
       "M325.048 166.629\n",
       "L358.952 196.639\" style=\"fill:none;stroke:#ff0000;stroke-linecap:square;\"/>\n",
       "   </g>\n",
       "   <g id=\"line2d_28\">\n",
       "    <path clip-path=\"url(#p20201a9eeb)\" d=\"\n",
       "M352.595 239.778\n",
       "L386.499 269.788\" style=\"fill:none;stroke:#ff0000;stroke-linecap:square;\"/>\n",
       "   </g>\n",
       "   <g id=\"line2d_29\">\n",
       "    <path clip-path=\"url(#p20201a9eeb)\" d=\"\n",
       "M269.954 142.245\n",
       "L303.858 172.255\" style=\"fill:none;stroke:#ff0000;stroke-linecap:square;\"/>\n",
       "   </g>\n",
       "   <g id=\"line2d_30\">\n",
       "    <path clip-path=\"url(#p20201a9eeb)\" d=\"\n",
       "M269.954 288.545\n",
       "L303.858 318.555\" style=\"fill:none;stroke:#ff0000;stroke-linecap:square;\"/>\n",
       "   </g>\n",
       "   <g id=\"line2d_31\">\n",
       "    <path clip-path=\"url(#p20201a9eeb)\" d=\"\n",
       "M269.954 288.545\n",
       "L303.858 318.555\" style=\"fill:none;stroke:#ff0000;stroke-linecap:square;\"/>\n",
       "   </g>\n",
       "   <g id=\"line2d_32\">\n",
       "    <path clip-path=\"url(#p20201a9eeb)\" d=\"\n",
       "M269.954 142.245\n",
       "L303.858 172.255\" style=\"fill:none;stroke:#ff0000;stroke-linecap:square;\"/>\n",
       "   </g>\n",
       "   <g id=\"line2d_33\">\n",
       "    <path clip-path=\"url(#p20201a9eeb)\" d=\"\n",
       "M259.359 142.245\n",
       "L259.359 172.255\" style=\"fill:none;stroke:#ff0000;stroke-linecap:square;\"/>\n",
       "   </g>\n",
       "   <g id=\"line2d_34\">\n",
       "    <path clip-path=\"url(#p20201a9eeb)\" d=\"\n",
       "M259.359 288.545\n",
       "L259.359 318.555\" style=\"fill:none;stroke:#ff0000;stroke-linecap:square;\"/>\n",
       "   </g>\n",
       "   <g id=\"line2d_35\">\n",
       "    <path clip-path=\"url(#p20201a9eeb)\" d=\"\n",
       "M325.048 166.629\n",
       "L358.952 196.639\" style=\"fill:none;stroke:#ff0000;stroke-linecap:square;\"/>\n",
       "   </g>\n",
       "   <g id=\"line2d_36\">\n",
       "    <path clip-path=\"url(#p20201a9eeb)\" d=\"\n",
       "M380.142 215.395\n",
       "L414.046 245.405\" style=\"fill:none;stroke:#ff0000;stroke-linecap:square;\"/>\n",
       "   </g>\n",
       "   <g id=\"line2d_37\">\n",
       "    <path clip-path=\"url(#p20201a9eeb)\" d=\"\n",
       "M325.048 166.629\n",
       "L358.952 196.639\" style=\"fill:none;stroke:#ff0000;stroke-linecap:square;\"/>\n",
       "   </g>\n",
       "   <g id=\"line2d_38\">\n",
       "    <path clip-path=\"url(#p20201a9eeb)\" d=\"\n",
       "M297.501 178.82\n",
       "L331.405 208.83\" style=\"fill:none;stroke:#ff0000;stroke-linecap:square;\"/>\n",
       "   </g>\n",
       "   <g id=\"line2d_39\">\n",
       "    <path clip-path=\"url(#p20201a9eeb)\" d=\"\n",
       "M204.266 142.245\n",
       "L204.266 172.255\" style=\"fill:none;stroke:#ff0000;stroke-linecap:square;\"/>\n",
       "   </g>\n",
       "   <g id=\"line2d_40\">\n",
       "    <path clip-path=\"url(#p20201a9eeb)\" d=\"\n",
       "M204.266 288.545\n",
       "L204.266 318.555\" style=\"fill:none;stroke:#ff0000;stroke-linecap:square;\"/>\n",
       "   </g>\n",
       "   <g id=\"line2d_41\">\n",
       "    <path clip-path=\"url(#p20201a9eeb)\" d=\"\n",
       "M325.048 264.161\n",
       "L358.952 294.171\" style=\"fill:none;stroke:#ff0000;stroke-linecap:square;\"/>\n",
       "   </g>\n",
       "   <g id=\"line2d_42\">\n",
       "    <path clip-path=\"url(#p20201a9eeb)\" d=\"\n",
       "M269.954 191.012\n",
       "L303.858 221.022\" style=\"fill:none;stroke:#ff0000;stroke-linecap:square;\"/>\n",
       "   </g>\n",
       "  </g>\n",
       " </g>\n",
       " <defs>\n",
       "  <clipPath id=\"p20201a9eeb\">\n",
       "   <rect height=\"446.4\" width=\"669.6\" x=\"7.2\" y=\"7.2\"/>\n",
       "  </clipPath>\n",
       " </defs>\n",
       "</svg>\n"
      ],
      "text/plain": [
       "<matplotlib.figure.Figure at 0x1bd42da0>"
      ]
     },
     "metadata": {},
     "output_type": "display_data"
    },
    {
     "data": {
      "text/plain": [
       "11"
      ]
     },
     "metadata": {},
     "output_type": "display_data"
    },
    {
     "data": {
      "text/plain": [
       "4046.05679371552"
      ]
     },
     "metadata": {},
     "output_type": "display_data"
    },
    {
     "data": {
      "text/plain": [
       "'Fragments Observed / Expected: 0.180'"
      ]
     },
     "metadata": {},
     "output_type": "display_data"
    },
    {
     "data": {
      "text/plain": [
       "'Bh1 259.143671 1 [368.059024]'"
      ]
     },
     "metadata": {},
     "output_type": "display_data"
    },
    {
     "data": {
      "text/plain": [
       "'Be1 375.191004 4 [1743968.412214, 1743968.412214, 436708.659851, 436708.659851]'"
      ]
     },
     "metadata": {},
     "output_type": "display_data"
    },
    {
     "data": {
      "text/plain": [
       "'Bf1 375.191004 4 [1743968.412214, 1743968.412214, 436708.659851, 436708.659851]'"
      ]
     },
     "metadata": {},
     "output_type": "display_data"
    },
    {
     "data": {
      "text/plain": [
       "'Cf1 393.200343 2 [2012.399756, 615.834276]'"
      ]
     },
     "metadata": {},
     "output_type": "display_data"
    },
    {
     "data": {
      "text/plain": [
       "'Ce1 393.200343 2 [2012.399756, 615.834276]'"
      ]
     },
     "metadata": {},
     "output_type": "display_data"
    },
    {
     "data": {
      "text/plain": [
       "'0,2Ac1 407.212986 2 [807.732436, 544.608148]'"
      ]
     },
     "metadata": {},
     "output_type": "display_data"
    },
    {
     "data": {
      "text/plain": [
       "'2,4Ae2 449.228639 4 [100352.295169, 1203518.394215, 1245519.469343, 100397.982496]'"
      ]
     },
     "metadata": {},
     "output_type": "display_data"
    },
    {
     "data": {
      "text/plain": [
       "'1,3Ae2 449.228639 4 [100352.295169, 1203518.394215, 1245519.469343, 100397.982496]'"
      ]
     },
     "metadata": {},
     "output_type": "display_data"
    },
    {
     "data": {
      "text/plain": [
       "'1,3Af2 449.228639 4 [100352.295169, 1203518.394215, 1245519.469343, 100397.982496]'"
      ]
     },
     "metadata": {},
     "output_type": "display_data"
    },
    {
     "data": {
      "text/plain": [
       "'2,4Af2 449.228639 4 [100352.295169, 1203518.394215, 1245519.469343, 100397.982496]'"
      ]
     },
     "metadata": {},
     "output_type": "display_data"
    },
    {
     "data": {
      "text/plain": [
       "'1,4Ae2 493.248584 1 [149.505568]'"
      ]
     },
     "metadata": {},
     "output_type": "display_data"
    },
    {
     "data": {
      "text/plain": [
       "'1,4Af2 493.248584 1 [149.505568]'"
      ]
     },
     "metadata": {},
     "output_type": "display_data"
    },
    {
     "data": {
      "text/plain": [
       "'Be2 579.291235 2 [15378.388187, 7405.60113]'"
      ]
     },
     "metadata": {},
     "output_type": "display_data"
    },
    {
     "data": {
      "text/plain": [
       "'Bf2 579.291235 2 [15378.388187, 7405.60113]'"
      ]
     },
     "metadata": {},
     "output_type": "display_data"
    },
    {
     "data": {
      "text/plain": [
       "'Bg2 595.286815 1 [262.271842]'"
      ]
     },
     "metadata": {},
     "output_type": "display_data"
    },
    {
     "data": {
      "text/plain": [
       "'Cf2 597.301798 1 [360.405266]'"
      ]
     },
     "metadata": {},
     "output_type": "display_data"
    },
    {
     "data": {
      "text/plain": [
       "'Ce2 597.301798 1 [360.405266]'"
      ]
     },
     "metadata": {},
     "output_type": "display_data"
    },
    {
     "data": {
      "text/plain": [
       "'2,4Ae3 653.324989 2 [696.217637, 4156.726426]'"
      ]
     },
     "metadata": {},
     "output_type": "display_data"
    },
    {
     "data": {
      "text/plain": [
       "'2,4Af3 653.324989 2 [696.217637, 4156.726426]'"
      ]
     },
     "metadata": {},
     "output_type": "display_data"
    },
    {
     "data": {
      "text/plain": [
       "'3,5Af3 667.341635 2 [3423.281413, 374.982939]'"
      ]
     },
     "metadata": {},
     "output_type": "display_data"
    },
    {
     "data": {
      "text/plain": [
       "'3,5Ae3 667.341635 2 [3423.281413, 374.982939]'"
      ]
     },
     "metadata": {},
     "output_type": "display_data"
    },
    {
     "data": {
      "text/plain": [
       "'2,5Ae3 711.366102 1 [105.975848]'"
      ]
     },
     "metadata": {},
     "output_type": "display_data"
    },
    {
     "data": {
      "text/plain": [
       "'2,5Af3 711.366102 1 [105.975848]'"
      ]
     },
     "metadata": {},
     "output_type": "display_data"
    },
    {
     "data": {
      "text/plain": [
       "'Be3 824.419327 5 [245188.729421, 1188519.447359, 251112.419177, 797124.889646, 850417.771114]'"
      ]
     },
     "metadata": {},
     "output_type": "display_data"
    },
    {
     "data": {
      "text/plain": [
       "'Bf3 824.419327 5 [245188.729421, 1188519.447359, 251112.419177, 797124.889646, 850417.771114]'"
      ]
     },
     "metadata": {},
     "output_type": "display_data"
    },
    {
     "data": {
      "text/plain": [
       "'Cf3 842.424778 2 [1230.809402, 35135.946041]'"
      ]
     },
     "metadata": {},
     "output_type": "display_data"
    },
    {
     "data": {
      "text/plain": [
       "'Ce3 842.424778 2 [1230.809402, 35135.946041]'"
      ]
     },
     "metadata": {},
     "output_type": "display_data"
    },
    {
     "data": {
      "text/plain": [
       "'0,4Ad1 884.438926 2 [3084.677951, 247.203433]'"
      ]
     },
     "metadata": {},
     "output_type": "display_data"
    },
    {
     "data": {
      "text/plain": [
       "'1,3Ad1 898.451248 2 [1117.768714, 5664.45529]'"
      ]
     },
     "metadata": {},
     "output_type": "display_data"
    },
    {
     "data": {
      "text/plain": [
       "'1,4Aa1 1407.716318 1 [22420.910574]'"
      ]
     },
     "metadata": {},
     "output_type": "display_data"
    },
    {
     "data": {
      "text/plain": [
       "'Bd1 1838.917562 2 [1351.81706, 2758.183531]'"
      ]
     },
     "metadata": {},
     "output_type": "display_data"
    },
    {
     "data": {
      "text/plain": [
       "'0,4Aa1 1898.940784 3 [99.676326, 1763.82966, 1569.644108]'"
      ]
     },
     "metadata": {},
     "output_type": "display_data"
    },
    {
     "data": {
      "text/plain": [
       "'0,3Aa1 1942.950425 1 [23.448368]'"
      ]
     },
     "metadata": {},
     "output_type": "display_data"
    },
    {
     "data": {
      "text/plain": [
       "'3,5Xa2 2119.073404 1 [77.313382]'"
      ]
     },
     "metadata": {},
     "output_type": "display_data"
    },
    {
     "data": {
      "text/plain": [
       "'Yd3 2207.141185 4 [539.729085, 7842.774847, 1847.515163, 1295.011753]'"
      ]
     },
     "metadata": {},
     "output_type": "display_data"
    },
    {
     "data": {
      "text/plain": [
       "'1,5Xd3 2235.133431 1 [9482.717707]'"
      ]
     },
     "metadata": {},
     "output_type": "display_data"
    },
    {
     "data": {
      "text/plain": [
       "'Yc3 2756.384927 1 [3249.066324]'"
      ]
     },
     "metadata": {},
     "output_type": "display_data"
    },
    {
     "data": {
      "text/plain": [
       "'1,3Xc3 3131.588789 1 [119606.061238]'"
      ]
     },
     "metadata": {},
     "output_type": "display_data"
    },
    {
     "data": {
      "text/plain": [
       "'0,4Xd3 3161.570027 1 [4669.237319]'"
      ]
     },
     "metadata": {},
     "output_type": "display_data"
    },
    {
     "data": {
      "text/plain": [
       "'Ye4 3221.642357 3 [158268.747585, 24550.45991, 132249.271786]'"
      ]
     },
     "metadata": {},
     "output_type": "display_data"
    },
    {
     "data": {
      "text/plain": [
       "'Yf4 3221.642357 3 [158268.747585, 24550.45991, 132249.271786]'"
      ]
     },
     "metadata": {},
     "output_type": "display_data"
    },
    {
     "data": {
      "text/plain": [
       "'2,4Xg5 3376.689229 4 [136825.655724, 2776.072314, 79928.139828, 111137.877566]'"
      ]
     },
     "metadata": {},
     "output_type": "display_data"
    },
    {
     "data": {
      "text/plain": [
       "'0,2Aa2 3466.761659 2 [1990.401393, 119389.301709]'"
      ]
     },
     "metadata": {},
     "output_type": "display_data"
    },
    {
     "data": {
      "text/plain": [
       "'Ye5 3466.773716 4 [1990.401393, 119389.301709, 62408.180518, 7163.164687]'"
      ]
     },
     "metadata": {},
     "output_type": "display_data"
    },
    {
     "data": {
      "text/plain": [
       "'Yf5 3466.773716 4 [1990.401393, 119389.301709, 62408.180518, 7163.164687]'"
      ]
     },
     "metadata": {},
     "output_type": "display_data"
    },
    {
     "data": {
      "text/plain": [
       "'0,2Xc3 3638.868203 1 [10919.043189]'"
      ]
     },
     "metadata": {},
     "output_type": "display_data"
    },
    {
     "data": {
      "text/plain": [
       "'Yf6 3670.871599 3 [146143.804319, 19519.299421, 369295.793304]'"
      ]
     },
     "metadata": {},
     "output_type": "display_data"
    },
    {
     "data": {
      "text/plain": [
       "'Ye6 3670.871599 3 [146143.804319, 19519.299421, 369295.793304]'"
      ]
     },
     "metadata": {},
     "output_type": "display_data"
    },
    {
     "data": {
      "image/svg+xml": [
       "<?xml version=\"1.0\" encoding=\"utf-8\" standalone=\"no\"?>\n",
       "<!DOCTYPE svg PUBLIC \"-//W3C//DTD SVG 1.1//EN\"\n",
       "  \"http://www.w3.org/Graphics/SVG/1.1/DTD/svg11.dtd\">\n",
       "<!-- Created with matplotlib (http://matplotlib.org/) -->\n",
       "<svg height=\"460pt\" version=\"1.1\" viewBox=\"0 0 684 460\" width=\"684pt\" xmlns=\"http://www.w3.org/2000/svg\" xmlns:xlink=\"http://www.w3.org/1999/xlink\">\n",
       " <defs>\n",
       "  <style type=\"text/css\">\n",
       "*{stroke-linecap:butt;stroke-linejoin:round;}\n",
       "  </style>\n",
       " </defs>\n",
       " <g id=\"figure_1\">\n",
       "  <g id=\"patch_1\">\n",
       "   <path d=\"\n",
       "M0 460.8\n",
       "L684 460.8\n",
       "L684 0\n",
       "L0 0\n",
       "L0 460.8\" style=\"fill:none;\"/>\n",
       "  </g>\n",
       "  <g id=\"axes_1\">\n",
       "   <g id=\"patch_2\">\n",
       "    <path d=\"\n",
       "M7.2 453.6\n",
       "L676.8 453.6\n",
       "L676.8 7.2\n",
       "L7.2 7.2\n",
       "L7.2 453.6\" style=\"fill:none;\"/>\n",
       "   </g>\n",
       "   <g id=\"line2d_1\">\n",
       "    <path clip-path=\"url(#p20201a9eeb)\" d=\"\n",
       "M231.813 303.55\n",
       "L176.719 303.55\" style=\"fill:none;stroke:#000000;stroke-linecap:square;\"/>\n",
       "   </g>\n",
       "   <g id=\"line2d_2\">\n",
       "    <path clip-path=\"url(#p20201a9eeb)\" d=\"\n",
       "M286.906 303.55\n",
       "L231.813 303.55\" style=\"fill:none;stroke:#000000;stroke-linecap:square;\"/>\n",
       "   </g>\n",
       "   <g id=\"line2d_3\">\n",
       "    <path clip-path=\"url(#p20201a9eeb)\" d=\"\n",
       "M342 279.166\n",
       "L286.906 303.55\" style=\"fill:none;stroke:#000000;stroke-linecap:square;\"/>\n",
       "   </g>\n",
       "   <g id=\"line2d_4\">\n",
       "    <path clip-path=\"url(#p20201a9eeb)\" d=\"\n",
       "M342 279.166\n",
       "L286.906 254.783\" style=\"fill:none;stroke:#000000;stroke-linecap:square;\"/>\n",
       "   </g>\n",
       "   <g id=\"line2d_5\">\n",
       "    <path clip-path=\"url(#p20201a9eeb)\" d=\"\n",
       "M397.094 230.4\n",
       "L342 279.166\" style=\"fill:none;stroke:#000000;stroke-linecap:square;\"/>\n",
       "   </g>\n",
       "   <g id=\"line2d_6\">\n",
       "    <path clip-path=\"url(#p20201a9eeb)\" d=\"\n",
       "M231.813 206.017\n",
       "L176.719 206.017\" style=\"fill:none;stroke:#000000;stroke-linecap:square;\"/>\n",
       "   </g>\n",
       "   <g id=\"line2d_7\">\n",
       "    <path clip-path=\"url(#p20201a9eeb)\" d=\"\n",
       "M286.906 206.017\n",
       "L231.813 206.017\" style=\"fill:none;stroke:#000000;stroke-linecap:square;\"/>\n",
       "   </g>\n",
       "   <g id=\"line2d_8\">\n",
       "    <path clip-path=\"url(#p20201a9eeb)\" d=\"\n",
       "M342 181.634\n",
       "L286.906 206.017\" style=\"fill:none;stroke:#000000;stroke-linecap:square;\"/>\n",
       "   </g>\n",
       "   <g id=\"line2d_9\">\n",
       "    <path clip-path=\"url(#p20201a9eeb)\" d=\"\n",
       "M231.813 157.25\n",
       "L176.719 157.25\" style=\"fill:none;stroke:#000000;stroke-linecap:square;\"/>\n",
       "   </g>\n",
       "   <g id=\"line2d_10\">\n",
       "    <path clip-path=\"url(#p20201a9eeb)\" d=\"\n",
       "M286.906 157.25\n",
       "L231.813 157.25\" style=\"fill:none;stroke:#000000;stroke-linecap:square;\"/>\n",
       "   </g>\n",
       "   <g id=\"line2d_11\">\n",
       "    <path clip-path=\"url(#p20201a9eeb)\" d=\"\n",
       "M342 181.634\n",
       "L286.906 157.25\" style=\"fill:none;stroke:#000000;stroke-linecap:square;\"/>\n",
       "   </g>\n",
       "   <g id=\"line2d_12\">\n",
       "    <path clip-path=\"url(#p20201a9eeb)\" d=\"\n",
       "M397.094 230.4\n",
       "L342 181.634\" style=\"fill:none;stroke:#000000;stroke-linecap:square;\"/>\n",
       "   </g>\n",
       "   <g id=\"line2d_13\">\n",
       "    <path clip-path=\"url(#p20201a9eeb)\" d=\"\n",
       "M452.187 230.4\n",
       "L397.094 230.4\" style=\"fill:none;stroke:#000000;stroke-linecap:square;\"/>\n",
       "   </g>\n",
       "   <g id=\"line2d_14\">\n",
       "    <path clip-path=\"url(#p20201a9eeb)\" d=\"\n",
       "M507.281 230.4\n",
       "L452.187 230.4\" style=\"fill:none;stroke:#000000;stroke-linecap:square;\"/>\n",
       "   </g>\n",
       "   <g id=\"line2d_15\">\n",
       "    <path clip-path=\"url(#p20201a9eeb)\" d=\"\n",
       "M507.281 230.4\n",
       "L507.281 206.017\" style=\"fill:none;stroke:#000000;stroke-linecap:square;\"/>\n",
       "   </g>\n",
       "   <g id=\"RES-1b-o-dglc-HEX-0-0-1-aldi-2s-n-acetyl-LIN-1-1d-2+1-2n-1\">\n",
       "    <path clip-path=\"url(#p20201a9eeb)\" d=\"\n",
       "M515.757 222.897\n",
       "L515.757 237.903\n",
       "L498.805 237.903\n",
       "L498.805 222.897\n",
       "L515.757 222.897\n",
       "z\n",
       "\" style=\"fill:#0000ff;stroke:#000000;stroke-linejoin:miter;\"/>\n",
       "   </g>\n",
       "   <g id=\"RES-1b-b-dglc-HEX-1-5-2s-n-acetyl-LIN-1-1d-2+1-2n-2\">\n",
       "    <path clip-path=\"url(#p20201a9eeb)\" d=\"\n",
       "M460.663 222.897\n",
       "L460.663 237.903\n",
       "L443.711 237.903\n",
       "L443.711 222.897\n",
       "L460.663 222.897\n",
       "z\n",
       "\" style=\"fill:#0000ff;stroke:#000000;stroke-linejoin:miter;\"/>\n",
       "   </g>\n",
       "   <g id=\"RES-1b-b-dman-HEX-1-5-3\">\n",
       "    <path clip-path=\"url(#p20201a9eeb)\" d=\"\n",
       "M397.094 237.903\n",
       "C399.342 237.903 401.498 237.112 403.087 235.705\n",
       "C404.677 234.298 405.57 232.39 405.57 230.4\n",
       "C405.57 228.41 404.677 226.502 403.087 225.095\n",
       "C401.498 223.688 399.342 222.897 397.094 222.897\n",
       "C394.846 222.897 392.69 223.688 391.1 225.095\n",
       "C389.511 226.502 388.618 228.41 388.618 230.4\n",
       "C388.618 232.39 389.511 234.298 391.1 235.705\n",
       "C392.69 237.112 394.846 237.903 397.094 237.903\n",
       "z\n",
       "\" style=\"fill:#008000;stroke:#000000;stroke-linejoin:miter;\"/>\n",
       "   </g>\n",
       "   <g id=\"RES-1b-a-dman-HEX-1-5-11\">\n",
       "    <path clip-path=\"url(#p20201a9eeb)\" d=\"\n",
       "M342 286.669\n",
       "C344.248 286.669 346.404 285.878 347.993 284.471\n",
       "C349.583 283.065 350.476 281.156 350.476 279.166\n",
       "C350.476 277.177 349.583 275.268 347.993 273.861\n",
       "C346.404 272.454 344.248 271.664 342 271.664\n",
       "C339.752 271.664 337.596 272.454 336.007 273.861\n",
       "C334.417 275.268 333.524 277.177 333.524 279.166\n",
       "C333.524 281.156 334.417 283.065 336.007 284.471\n",
       "C337.596 285.878 339.752 286.669 342 286.669\n",
       "z\n",
       "\" style=\"fill:#008000;stroke:#000000;stroke-linejoin:miter;\"/>\n",
       "   </g>\n",
       "   <g id=\"RES-1b-b-dglc-HEX-1-5-2s-n-acetyl-LIN-1-1d-2+1-2n-13\">\n",
       "    <path clip-path=\"url(#p20201a9eeb)\" d=\"\n",
       "M295.382 296.047\n",
       "L295.382 311.052\n",
       "L278.43 311.052\n",
       "L278.43 296.047\n",
       "L295.382 296.047\n",
       "z\n",
       "\" style=\"fill:#0000ff;stroke:#000000;stroke-linejoin:miter;\"/>\n",
       "   </g>\n",
       "   <g id=\"RES-1b-b-dgal-HEX-1-5-14\">\n",
       "    <path clip-path=\"url(#p20201a9eeb)\" d=\"\n",
       "M231.813 311.052\n",
       "C234.061 311.052 236.217 310.262 237.806 308.855\n",
       "C239.396 307.448 240.289 305.539 240.289 303.55\n",
       "C240.289 301.56 239.396 299.651 237.806 298.244\n",
       "C236.217 296.838 234.061 296.047 231.813 296.047\n",
       "C229.565 296.047 227.409 296.838 225.819 298.244\n",
       "C224.23 299.651 223.337 301.56 223.337 303.55\n",
       "C223.337 305.539 224.23 307.448 225.819 308.855\n",
       "C227.409 310.262 229.565 311.052 231.813 311.052\n",
       "z\n",
       "\" style=\"fill:#ffff00;stroke:#000000;stroke-linejoin:miter;\"/>\n",
       "   </g>\n",
       "   <g id=\"RES-1b-a-dgro-dgal-NON-2-6-1-a-2-keto-3-d-2s-n-glycolyl-LIN-1-1d-5+1-2n-15\">\n",
       "    <path clip-path=\"url(#p20201a9eeb)\" d=\"\n",
       "M176.719 296.047\n",
       "L168.243 303.55\n",
       "L176.719 311.052\n",
       "L185.195 303.55\n",
       "z\n",
       "\" style=\"fill:#add8e6;stroke:#000000;stroke-linejoin:miter;\"/>\n",
       "   </g>\n",
       "   <g id=\"RES-1b-b-dglc-HEX-1-5-2s-n-acetyl-LIN-1-1d-2+1-2n-12\">\n",
       "    <path clip-path=\"url(#p20201a9eeb)\" d=\"\n",
       "M295.382 247.281\n",
       "L295.382 262.286\n",
       "L278.43 262.286\n",
       "L278.43 247.281\n",
       "L295.382 247.281\n",
       "z\n",
       "\" style=\"fill:#0000ff;stroke:#000000;stroke-linejoin:miter;\"/>\n",
       "   </g>\n",
       "   <g id=\"RES-1b-a-dman-HEX-1-5-4\">\n",
       "    <path clip-path=\"url(#p20201a9eeb)\" d=\"\n",
       "M342 189.136\n",
       "C344.248 189.136 346.404 188.346 347.993 186.939\n",
       "C349.583 185.532 350.476 183.623 350.476 181.634\n",
       "C350.476 179.644 349.583 177.735 347.993 176.329\n",
       "C346.404 174.922 344.248 174.131 342 174.131\n",
       "C339.752 174.131 337.596 174.922 336.007 176.329\n",
       "C334.417 177.735 333.524 179.644 333.524 181.634\n",
       "C333.524 183.623 334.417 185.532 336.007 186.939\n",
       "C337.596 188.346 339.752 189.136 342 189.136\n",
       "z\n",
       "\" style=\"fill:#008000;stroke:#000000;stroke-linejoin:miter;\"/>\n",
       "   </g>\n",
       "   <g id=\"RES-1b-b-dglc-HEX-1-5-2s-n-acetyl-LIN-1-1d-2+1-2n-8\">\n",
       "    <path clip-path=\"url(#p20201a9eeb)\" d=\"\n",
       "M295.382 198.514\n",
       "L295.382 213.519\n",
       "L278.43 213.519\n",
       "L278.43 198.514\n",
       "L295.382 198.514\n",
       "z\n",
       "\" style=\"fill:#0000ff;stroke:#000000;stroke-linejoin:miter;\"/>\n",
       "   </g>\n",
       "   <g id=\"RES-1b-b-dgal-HEX-1-5-9\">\n",
       "    <path clip-path=\"url(#p20201a9eeb)\" d=\"\n",
       "M231.813 213.519\n",
       "C234.061 213.519 236.217 212.729 237.806 211.322\n",
       "C239.396 209.915 240.289 208.006 240.289 206.017\n",
       "C240.289 204.027 239.396 202.119 237.806 200.712\n",
       "C236.217 199.305 234.061 198.514 231.813 198.514\n",
       "C229.565 198.514 227.409 199.305 225.819 200.712\n",
       "C224.23 202.119 223.337 204.027 223.337 206.017\n",
       "C223.337 208.006 224.23 209.915 225.819 211.322\n",
       "C227.409 212.729 229.565 213.519 231.813 213.519\n",
       "z\n",
       "\" style=\"fill:#ffff00;stroke:#000000;stroke-linejoin:miter;\"/>\n",
       "   </g>\n",
       "   <g id=\"RES-1b-a-dgro-dgal-NON-2-6-1-a-2-keto-3-d-2s-n-acetyl-LIN-1-1d-5+1-2n-10\">\n",
       "    <path clip-path=\"url(#p20201a9eeb)\" d=\"\n",
       "M176.719 198.514\n",
       "L168.243 206.017\n",
       "L176.719 213.519\n",
       "L185.195 206.017\n",
       "z\n",
       "\" style=\"fill:#800080;stroke:#000000;stroke-linejoin:miter;\"/>\n",
       "   </g>\n",
       "   <g id=\"RES-1b-b-dglc-HEX-1-5-2s-n-acetyl-LIN-1-1d-2+1-2n-5\">\n",
       "    <path clip-path=\"url(#p20201a9eeb)\" d=\"\n",
       "M295.382 149.748\n",
       "L295.382 164.753\n",
       "L278.43 164.753\n",
       "L278.43 149.748\n",
       "L295.382 149.748\n",
       "z\n",
       "\" style=\"fill:#0000ff;stroke:#000000;stroke-linejoin:miter;\"/>\n",
       "   </g>\n",
       "   <g id=\"RES-1b-b-dgal-HEX-1-5-6\">\n",
       "    <path clip-path=\"url(#p20201a9eeb)\" d=\"\n",
       "M231.813 164.753\n",
       "C234.061 164.753 236.217 163.962 237.806 162.556\n",
       "C239.396 161.149 240.289 159.24 240.289 157.25\n",
       "C240.289 155.261 239.396 153.352 237.806 151.945\n",
       "C236.217 150.538 234.061 149.748 231.813 149.748\n",
       "C229.565 149.748 227.409 150.538 225.819 151.945\n",
       "C224.23 153.352 223.337 155.261 223.337 157.25\n",
       "C223.337 159.24 224.23 161.149 225.819 162.556\n",
       "C227.409 163.962 229.565 164.753 231.813 164.753\n",
       "z\n",
       "\" style=\"fill:#ffff00;stroke:#000000;stroke-linejoin:miter;\"/>\n",
       "   </g>\n",
       "   <g id=\"RES-1b-a-dgro-dgal-NON-2-6-1-a-2-keto-3-d-2s-n-acetyl-LIN-1-1d-5+1-2n-7\">\n",
       "    <path clip-path=\"url(#p20201a9eeb)\" d=\"\n",
       "M176.719 149.748\n",
       "L168.243 157.25\n",
       "L176.719 164.753\n",
       "L185.195 157.25\n",
       "z\n",
       "\" style=\"fill:#800080;stroke:#000000;stroke-linejoin:miter;\"/>\n",
       "   </g>\n",
       "   <g id=\"RES-1b-a-lgal-HEX-1-5-6-d-16\">\n",
       "    <path clip-path=\"url(#p20201a9eeb)\" d=\"\n",
       "M507.281 198.514\n",
       "L499.941 209.768\n",
       "L514.621 209.768\n",
       "z\n",
       "\" style=\"fill:#ff0000;stroke:#000000;stroke-linejoin:miter;\"/>\n",
       "   </g>\n",
       "   <g id=\"patch_3\">\n",
       "    <path d=\"\n",
       "M7.2 7.2\n",
       "L676.8 7.2\" style=\"fill:none;stroke:#000000;stroke-linecap:square;stroke-linejoin:miter;\"/>\n",
       "   </g>\n",
       "   <g id=\"patch_4\">\n",
       "    <path d=\"\n",
       "M676.8 453.6\n",
       "L676.8 7.2\" style=\"fill:none;stroke:#000000;stroke-linecap:square;stroke-linejoin:miter;\"/>\n",
       "   </g>\n",
       "   <g id=\"patch_5\">\n",
       "    <path d=\"\n",
       "M7.2 453.6\n",
       "L676.8 453.6\" style=\"fill:none;stroke:#000000;stroke-linecap:square;stroke-linejoin:miter;\"/>\n",
       "   </g>\n",
       "   <g id=\"patch_6\">\n",
       "    <path d=\"\n",
       "M7.2 453.6\n",
       "L7.2 7.2\" style=\"fill:none;stroke:#000000;stroke-linecap:square;stroke-linejoin:miter;\"/>\n",
       "   </g>\n",
       "   <g id=\"line2d_16\">\n",
       "    <path clip-path=\"url(#p20201a9eeb)\" d=\"\n",
       "M297.501 281.98\n",
       "L331.405 251.97\" style=\"fill:none;stroke:#ff0000;stroke-linecap:square;\"/>\n",
       "   </g>\n",
       "   <g id=\"line2d_17\">\n",
       "    <path clip-path=\"url(#p20201a9eeb)\" d=\"\n",
       "M204.266 191.012\n",
       "L204.266 221.022\" style=\"fill:none;stroke:#ff0000;stroke-linecap:square;\"/>\n",
       "   </g>\n",
       "   <g id=\"line2d_18\">\n",
       "    <path clip-path=\"url(#p20201a9eeb)\" d=\"\n",
       "M204.266 142.245\n",
       "L204.266 172.255\" style=\"fill:none;stroke:#ff0000;stroke-linecap:square;\"/>\n",
       "   </g>\n",
       "   <g id=\"line2d_19\">\n",
       "    <path clip-path=\"url(#p20201a9eeb)\" d=\"\n",
       "M204.266 142.245\n",
       "L204.266 172.255\" style=\"fill:none;stroke:#ff0000;stroke-linecap:square;\"/>\n",
       "   </g>\n",
       "   <g id=\"line2d_20\">\n",
       "    <path clip-path=\"url(#p20201a9eeb)\" d=\"\n",
       "M204.266 191.012\n",
       "L204.266 221.022\" style=\"fill:none;stroke:#ff0000;stroke-linecap:square;\"/>\n",
       "   </g>\n",
       "   <g id=\"line2d_21\">\n",
       "    <path clip-path=\"url(#p20201a9eeb)\" d=\"\n",
       "M325.048 264.161\n",
       "L358.952 294.171\" style=\"fill:none;stroke:#ff0000;stroke-linecap:square;\"/>\n",
       "   </g>\n",
       "   <g id=\"line2d_22\">\n",
       "    <path clip-path=\"url(#p20201a9eeb)\" d=\"\n",
       "M214.861 191.012\n",
       "L248.765 221.022\" style=\"fill:none;stroke:#ff0000;stroke-linecap:square;\"/>\n",
       "   </g>\n",
       "   <g id=\"line2d_23\">\n",
       "    <path clip-path=\"url(#p20201a9eeb)\" d=\"\n",
       "M214.861 191.012\n",
       "L248.765 221.022\" style=\"fill:none;stroke:#ff0000;stroke-linecap:square;\"/>\n",
       "   </g>\n",
       "   <g id=\"line2d_24\">\n",
       "    <path clip-path=\"url(#p20201a9eeb)\" d=\"\n",
       "M214.861 142.245\n",
       "L248.765 172.255\" style=\"fill:none;stroke:#ff0000;stroke-linecap:square;\"/>\n",
       "   </g>\n",
       "   <g id=\"line2d_25\">\n",
       "    <path clip-path=\"url(#p20201a9eeb)\" d=\"\n",
       "M214.861 142.245\n",
       "L248.765 172.255\" style=\"fill:none;stroke:#ff0000;stroke-linecap:square;\"/>\n",
       "   </g>\n",
       "   <g id=\"line2d_26\">\n",
       "    <path clip-path=\"url(#p20201a9eeb)\" d=\"\n",
       "M214.861 191.012\n",
       "L248.765 221.022\" style=\"fill:none;stroke:#ff0000;stroke-linecap:square;\"/>\n",
       "   </g>\n",
       "   <g id=\"line2d_27\">\n",
       "    <path clip-path=\"url(#p20201a9eeb)\" d=\"\n",
       "M214.861 142.245\n",
       "L248.765 172.255\" style=\"fill:none;stroke:#ff0000;stroke-linecap:square;\"/>\n",
       "   </g>\n",
       "   <g id=\"line2d_28\">\n",
       "    <path clip-path=\"url(#p20201a9eeb)\" d=\"\n",
       "M259.359 191.012\n",
       "L259.359 221.022\" style=\"fill:none;stroke:#ff0000;stroke-linecap:square;\"/>\n",
       "   </g>\n",
       "   <g id=\"line2d_29\">\n",
       "    <path clip-path=\"url(#p20201a9eeb)\" d=\"\n",
       "M259.359 142.245\n",
       "L259.359 172.255\" style=\"fill:none;stroke:#ff0000;stroke-linecap:square;\"/>\n",
       "   </g>\n",
       "   <g id=\"line2d_30\">\n",
       "    <path clip-path=\"url(#p20201a9eeb)\" d=\"\n",
       "M259.359 288.545\n",
       "L259.359 318.555\" style=\"fill:none;stroke:#ff0000;stroke-linecap:square;\"/>\n",
       "   </g>\n",
       "   <g id=\"line2d_31\">\n",
       "    <path clip-path=\"url(#p20201a9eeb)\" d=\"\n",
       "M259.359 142.245\n",
       "L259.359 172.255\" style=\"fill:none;stroke:#ff0000;stroke-linecap:square;\"/>\n",
       "   </g>\n",
       "   <g id=\"line2d_32\">\n",
       "    <path clip-path=\"url(#p20201a9eeb)\" d=\"\n",
       "M259.359 191.012\n",
       "L259.359 221.022\" style=\"fill:none;stroke:#ff0000;stroke-linecap:square;\"/>\n",
       "   </g>\n",
       "   <g id=\"line2d_33\">\n",
       "    <path clip-path=\"url(#p20201a9eeb)\" d=\"\n",
       "M269.954 191.012\n",
       "L303.858 221.022\" style=\"fill:none;stroke:#ff0000;stroke-linecap:square;\"/>\n",
       "   </g>\n",
       "   <g id=\"line2d_34\">\n",
       "    <path clip-path=\"url(#p20201a9eeb)\" d=\"\n",
       "M269.954 142.245\n",
       "L303.858 172.255\" style=\"fill:none;stroke:#ff0000;stroke-linecap:square;\"/>\n",
       "   </g>\n",
       "   <g id=\"line2d_35\">\n",
       "    <path clip-path=\"url(#p20201a9eeb)\" d=\"\n",
       "M269.954 142.245\n",
       "L303.858 172.255\" style=\"fill:none;stroke:#ff0000;stroke-linecap:square;\"/>\n",
       "   </g>\n",
       "   <g id=\"line2d_36\">\n",
       "    <path clip-path=\"url(#p20201a9eeb)\" d=\"\n",
       "M269.954 191.012\n",
       "L303.858 221.022\" style=\"fill:none;stroke:#ff0000;stroke-linecap:square;\"/>\n",
       "   </g>\n",
       "   <g id=\"line2d_37\">\n",
       "    <path clip-path=\"url(#p20201a9eeb)\" d=\"\n",
       "M269.954 191.012\n",
       "L303.858 221.022\" style=\"fill:none;stroke:#ff0000;stroke-linecap:square;\"/>\n",
       "   </g>\n",
       "   <g id=\"line2d_38\">\n",
       "    <path clip-path=\"url(#p20201a9eeb)\" d=\"\n",
       "M269.954 142.245\n",
       "L303.858 172.255\" style=\"fill:none;stroke:#ff0000;stroke-linecap:square;\"/>\n",
       "   </g>\n",
       "   <g id=\"line2d_39\">\n",
       "    <path clip-path=\"url(#p20201a9eeb)\" d=\"\n",
       "M297.501 178.82\n",
       "L331.405 208.83\" style=\"fill:none;stroke:#ff0000;stroke-linecap:square;\"/>\n",
       "   </g>\n",
       "   <g id=\"line2d_40\">\n",
       "    <path clip-path=\"url(#p20201a9eeb)\" d=\"\n",
       "M297.501 184.447\n",
       "L331.405 154.437\" style=\"fill:none;stroke:#ff0000;stroke-linecap:square;\"/>\n",
       "   </g>\n",
       "   <g id=\"line2d_41\">\n",
       "    <path clip-path=\"url(#p20201a9eeb)\" d=\"\n",
       "M297.501 184.447\n",
       "L331.405 154.437\" style=\"fill:none;stroke:#ff0000;stroke-linecap:square;\"/>\n",
       "   </g>\n",
       "   <g id=\"line2d_42\">\n",
       "    <path clip-path=\"url(#p20201a9eeb)\" d=\"\n",
       "M297.501 178.82\n",
       "L331.405 208.83\" style=\"fill:none;stroke:#ff0000;stroke-linecap:square;\"/>\n",
       "   </g>\n",
       "   <g id=\"line2d_43\">\n",
       "    <path clip-path=\"url(#p20201a9eeb)\" d=\"\n",
       "M325.048 166.629\n",
       "L358.952 196.639\" style=\"fill:none;stroke:#ff0000;stroke-linecap:square;\"/>\n",
       "   </g>\n",
       "   <g id=\"line2d_44\">\n",
       "    <path clip-path=\"url(#p20201a9eeb)\" d=\"\n",
       "M325.048 166.629\n",
       "L358.952 196.639\" style=\"fill:none;stroke:#ff0000;stroke-linecap:square;\"/>\n",
       "   </g>\n",
       "   <g id=\"line2d_45\">\n",
       "    <path clip-path=\"url(#p20201a9eeb)\" d=\"\n",
       "M380.142 215.395\n",
       "L414.046 245.405\" style=\"fill:none;stroke:#ff0000;stroke-linecap:square;\"/>\n",
       "   </g>\n",
       "   <g id=\"line2d_46\">\n",
       "    <path clip-path=\"url(#p20201a9eeb)\" d=\"\n",
       "M352.595 221.022\n",
       "L386.499 191.012\" style=\"fill:none;stroke:#ff0000;stroke-linecap:square;\"/>\n",
       "   </g>\n",
       "   <g id=\"line2d_47\">\n",
       "    <path clip-path=\"url(#p20201a9eeb)\" d=\"\n",
       "M380.142 215.395\n",
       "L414.046 245.405\" style=\"fill:none;stroke:#ff0000;stroke-linecap:square;\"/>\n",
       "   </g>\n",
       "   <g id=\"line2d_48\">\n",
       "    <path clip-path=\"url(#p20201a9eeb)\" d=\"\n",
       "M380.142 215.395\n",
       "L414.046 245.405\" style=\"fill:none;stroke:#ff0000;stroke-linecap:square;\"/>\n",
       "   </g>\n",
       "   <g id=\"line2d_49\">\n",
       "    <path clip-path=\"url(#p20201a9eeb)\" d=\"\n",
       "M380.142 215.395\n",
       "L414.046 245.405\" style=\"fill:none;stroke:#ff0000;stroke-linecap:square;\"/>\n",
       "   </g>\n",
       "   <g id=\"line2d_50\">\n",
       "    <path clip-path=\"url(#p20201a9eeb)\" d=\"\n",
       "M352.595 221.022\n",
       "L386.499 191.012\" style=\"fill:none;stroke:#ff0000;stroke-linecap:square;\"/>\n",
       "   </g>\n",
       "   <g id=\"line2d_51\">\n",
       "    <path clip-path=\"url(#p20201a9eeb)\" d=\"\n",
       "M325.048 166.629\n",
       "L358.952 196.639\" style=\"fill:none;stroke:#ff0000;stroke-linecap:square;\"/>\n",
       "   </g>\n",
       "   <g id=\"line2d_52\">\n",
       "    <path clip-path=\"url(#p20201a9eeb)\" d=\"\n",
       "M352.595 239.778\n",
       "L386.499 269.788\" style=\"fill:none;stroke:#ff0000;stroke-linecap:square;\"/>\n",
       "   </g>\n",
       "   <g id=\"line2d_53\">\n",
       "    <path clip-path=\"url(#p20201a9eeb)\" d=\"\n",
       "M325.048 264.161\n",
       "L358.952 294.171\" style=\"fill:none;stroke:#ff0000;stroke-linecap:square;\"/>\n",
       "   </g>\n",
       "   <g id=\"line2d_54\">\n",
       "    <path clip-path=\"url(#p20201a9eeb)\" d=\"\n",
       "M325.048 166.629\n",
       "L358.952 196.639\" style=\"fill:none;stroke:#ff0000;stroke-linecap:square;\"/>\n",
       "   </g>\n",
       "   <g id=\"line2d_55\">\n",
       "    <path clip-path=\"url(#p20201a9eeb)\" d=\"\n",
       "M297.501 178.82\n",
       "L331.405 208.83\" style=\"fill:none;stroke:#ff0000;stroke-linecap:square;\"/>\n",
       "   </g>\n",
       "   <g id=\"line2d_56\">\n",
       "    <path clip-path=\"url(#p20201a9eeb)\" d=\"\n",
       "M297.501 184.447\n",
       "L331.405 154.437\" style=\"fill:none;stroke:#ff0000;stroke-linecap:square;\"/>\n",
       "   </g>\n",
       "   <g id=\"line2d_57\">\n",
       "    <path clip-path=\"url(#p20201a9eeb)\" d=\"\n",
       "M269.954 288.545\n",
       "L303.858 318.555\" style=\"fill:none;stroke:#ff0000;stroke-linecap:square;\"/>\n",
       "   </g>\n",
       "   <g id=\"line2d_58\">\n",
       "    <path clip-path=\"url(#p20201a9eeb)\" d=\"\n",
       "M435.235 215.395\n",
       "L469.139 245.405\" style=\"fill:none;stroke:#ff0000;stroke-linecap:square;\"/>\n",
       "   </g>\n",
       "   <g id=\"line2d_59\">\n",
       "    <path clip-path=\"url(#p20201a9eeb)\" d=\"\n",
       "M259.359 191.012\n",
       "L259.359 221.022\" style=\"fill:none;stroke:#ff0000;stroke-linecap:square;\"/>\n",
       "   </g>\n",
       "   <g id=\"line2d_60\">\n",
       "    <path clip-path=\"url(#p20201a9eeb)\" d=\"\n",
       "M259.359 142.245\n",
       "L259.359 172.255\" style=\"fill:none;stroke:#ff0000;stroke-linecap:square;\"/>\n",
       "   </g>\n",
       "   <g id=\"line2d_61\">\n",
       "    <path clip-path=\"url(#p20201a9eeb)\" d=\"\n",
       "M325.048 264.161\n",
       "L358.952 294.171\" style=\"fill:none;stroke:#ff0000;stroke-linecap:square;\"/>\n",
       "   </g>\n",
       "   <g id=\"line2d_62\">\n",
       "    <path clip-path=\"url(#p20201a9eeb)\" d=\"\n",
       "M204.266 142.245\n",
       "L204.266 172.255\" style=\"fill:none;stroke:#ff0000;stroke-linecap:square;\"/>\n",
       "   </g>\n",
       "   <g id=\"line2d_63\">\n",
       "    <path clip-path=\"url(#p20201a9eeb)\" d=\"\n",
       "M204.266 191.012\n",
       "L204.266 221.022\" style=\"fill:none;stroke:#ff0000;stroke-linecap:square;\"/>\n",
       "   </g>\n",
       "  </g>\n",
       " </g>\n",
       " <defs>\n",
       "  <clipPath id=\"p20201a9eeb\">\n",
       "   <rect height=\"446.4\" width=\"669.6\" x=\"7.2\" y=\"7.2\"/>\n",
       "  </clipPath>\n",
       " </defs>\n",
       "</svg>\n"
      ],
      "text/plain": [
       "<matplotlib.figure.Figure at 0x21083fd0>"
      ]
     },
     "metadata": {},
     "output_type": "display_data"
    },
    {
     "data": {
      "text/plain": [
       "12"
      ]
     },
     "metadata": {},
     "output_type": "display_data"
    },
    {
     "data": {
      "text/plain": [
       "4220.146002642739"
      ]
     },
     "metadata": {},
     "output_type": "display_data"
    },
    {
     "data": {
      "text/plain": [
       "'Fragments Observed / Expected: 0.199'"
      ]
     },
     "metadata": {},
     "output_type": "display_data"
    },
    {
     "data": {
      "text/plain": [
       "'Be1 188.105644 2 [61658.109971, 207023.742646]'"
      ]
     },
     "metadata": {},
     "output_type": "display_data"
    },
    {
     "data": {
      "text/plain": [
       "'Bi1 188.105644 2 [61658.109971, 207023.742646]'"
      ]
     },
     "metadata": {},
     "output_type": "display_data"
    },
    {
     "data": {
      "text/plain": [
       "'Bc1 375.191276 4 [79063.844976, 94555.749093, 523905.585238, 541974.634498]'"
      ]
     },
     "metadata": {},
     "output_type": "display_data"
    },
    {
     "data": {
      "text/plain": [
       "'Bf1 375.191276 4 [79063.844976, 94555.749093, 523905.585238, 541974.634498]'"
      ]
     },
     "metadata": {},
     "output_type": "display_data"
    },
    {
     "data": {
      "text/plain": [
       "'Cc1 393.202173 1 [11667.791763]'"
      ]
     },
     "metadata": {},
     "output_type": "display_data"
    },
    {
     "data": {
      "text/plain": [
       "'Cf1 393.202173 1 [11667.791763]'"
      ]
     },
     "metadata": {},
     "output_type": "display_data"
    },
    {
     "data": {
      "text/plain": [
       "'1,3Ac2 449.228388 4 [13428.830427, 17150.565069, 417644.022421, 400121.402758]'"
      ]
     },
     "metadata": {},
     "output_type": "display_data"
    },
    {
     "data": {
      "text/plain": [
       "'2,4Ac2 449.228388 4 [13428.830427, 17150.565069, 417644.022421, 400121.402758]'"
      ]
     },
     "metadata": {},
     "output_type": "display_data"
    },
    {
     "data": {
      "text/plain": [
       "'1,3Af2 449.228388 4 [13428.830427, 17150.565069, 417644.022421, 400121.402758]'"
      ]
     },
     "metadata": {},
     "output_type": "display_data"
    },
    {
     "data": {
      "text/plain": [
       "'2,4Af2 449.228388 4 [13428.830427, 17150.565069, 417644.022421, 400121.402758]'"
      ]
     },
     "metadata": {},
     "output_type": "display_data"
    },
    {
     "data": {
      "text/plain": [
       "'2,5Ac2 507.270492 1 [422.481765]'"
      ]
     },
     "metadata": {},
     "output_type": "display_data"
    },
    {
     "data": {
      "text/plain": [
       "'2,5Af2 507.270492 1 [422.481765]'"
      ]
     },
     "metadata": {},
     "output_type": "display_data"
    },
    {
     "data": {
      "text/plain": [
       "'Bc2 579.292072 3 [3232.756817, 4033.817357, 1756.763981]'"
      ]
     },
     "metadata": {},
     "output_type": "display_data"
    },
    {
     "data": {
      "text/plain": [
       "'Bf2 579.292072 3 [3232.756817, 4033.817357, 1756.763981]'"
      ]
     },
     "metadata": {},
     "output_type": "display_data"
    },
    {
     "data": {
      "text/plain": [
       "'Cc2 597.295716 1 [275.012141]'"
      ]
     },
     "metadata": {},
     "output_type": "display_data"
    },
    {
     "data": {
      "text/plain": [
       "'Cf2 597.295716 1 [275.012141]'"
      ]
     },
     "metadata": {},
     "output_type": "display_data"
    },
    {
     "data": {
      "text/plain": [
       "'2,4Ac3 653.328023 2 [55.636524, 1009.59333]'"
      ]
     },
     "metadata": {},
     "output_type": "display_data"
    },
    {
     "data": {
      "text/plain": [
       "'3,5Ac3 667.344384 1 [1250.646993]'"
      ]
     },
     "metadata": {},
     "output_type": "display_data"
    },
    {
     "data": {
      "text/plain": [
       "'3,5Ad1 667.344384 1 [1250.646993]'"
      ]
     },
     "metadata": {},
     "output_type": "display_data"
    },
    {
     "data": {
      "text/plain": [
       "'Bc3 824.418873 3 [202953.558368, 188087.838756, 280630.102197]'"
      ]
     },
     "metadata": {},
     "output_type": "display_data"
    },
    {
     "data": {
      "text/plain": [
       "'2,4Ad1 827.42609 3 [5101.638887, 2121.339484, 3306.177642]'"
      ]
     },
     "metadata": {},
     "output_type": "display_data"
    },
    {
     "data": {
      "text/plain": [
       "'Cc3 842.441145 1 [205.633051]'"
      ]
     },
     "metadata": {},
     "output_type": "display_data"
    },
    {
     "data": {
      "text/plain": [
       "'2,4Aj2 843.426624 1 [113.040153]'"
      ]
     },
     "metadata": {},
     "output_type": "display_data"
    },
    {
     "data": {
      "text/plain": [
       "'1,3Ab1 898.452512 2 [704.611504, 975.211314]'"
      ]
     },
     "metadata": {},
     "output_type": "display_data"
    },
    {
     "data": {
      "text/plain": [
       "'Bd1 998.506987 4 [24348.109769, 44681.73097, 9647.035649, 22057.631706]'"
      ]
     },
     "metadata": {},
     "output_type": "display_data"
    },
    {
     "data": {
      "text/plain": [
       "'Bg1 1014.50183 2 [1552.460581, 455.758264]'"
      ]
     },
     "metadata": {},
     "output_type": "display_data"
    },
    {
     "data": {
      "text/plain": [
       "'1,3Aa1 1088.538249 1 [1856.739307]'"
      ]
     },
     "metadata": {},
     "output_type": "display_data"
    },
    {
     "data": {
      "text/plain": [
       "'0,3Ab1 1102.553974 1 [27295.133846]'"
      ]
     },
     "metadata": {},
     "output_type": "display_data"
    },
    {
     "data": {
      "text/plain": [
       "'1,5Aa1 1435.7229 1 [282.212122]'"
      ]
     },
     "metadata": {},
     "output_type": "display_data"
    },
    {
     "data": {
      "text/plain": [
       "'0,4A5 2073.031849 1 [156.52171]'"
      ]
     },
     "metadata": {},
     "output_type": "display_data"
    },
    {
     "data": {
      "text/plain": [
       "'0,3X2 2103.068605 1 [571.717241]'"
      ]
     },
     "metadata": {},
     "output_type": "display_data"
    },
    {
     "data": {
      "text/plain": [
       "'0,4X2 2147.120841 1 [147.539222]'"
      ]
     },
     "metadata": {},
     "output_type": "display_data"
    },
    {
     "data": {
      "text/plain": [
       "'Zb3 2189.122352 1 [86.077555]'"
      ]
     },
     "metadata": {},
     "output_type": "display_data"
    },
    {
     "data": {
      "text/plain": [
       "'Yb3 2207.136786 3 [716.298259, 519.122779, 1628.404809]'"
      ]
     },
     "metadata": {},
     "output_type": "display_data"
    },
    {
     "data": {
      "text/plain": [
       "'1,4X2 2638.34541 3 [1064.821247, 2866.991427, 13032.363547]'"
      ]
     },
     "metadata": {},
     "output_type": "display_data"
    },
    {
     "data": {
      "text/plain": [
       "'1,5Xa3 2784.378797 1 [1000.881252]'"
      ]
     },
     "metadata": {},
     "output_type": "display_data"
    },
    {
     "data": {
      "text/plain": [
       "'0,2Xb3 3073.568798 1 [192.287093]'"
      ]
     },
     "metadata": {},
     "output_type": "display_data"
    },
    {
     "data": {
      "text/plain": [
       "'Yd4 3221.634114 2 [8562.488595, 7377.506677]'"
      ]
     },
     "metadata": {},
     "output_type": "display_data"
    },
    {
     "data": {
      "text/plain": [
       "'1,5Xj5 3233.663121 1 [3374.845743]'"
      ]
     },
     "metadata": {},
     "output_type": "display_data"
    },
    {
     "data": {
      "text/plain": [
       "'2,4Xj5 3376.680861 1 [1201.088665]'"
      ]
     },
     "metadata": {},
     "output_type": "display_data"
    },
    {
     "data": {
      "text/plain": [
       "'Zc4 3377.68717 1 [1741.1059]'"
      ]
     },
     "metadata": {},
     "output_type": "display_data"
    },
    {
     "data": {
      "text/plain": [
       "'Yc4 3395.732164 3 [42604.908482, 54430.531537, 4378.466439]'"
      ]
     },
     "metadata": {},
     "output_type": "display_data"
    },
    {
     "data": {
      "text/plain": [
       "'0,2Xc4 3492.727191 1 [234.849081]'"
      ]
     },
     "metadata": {},
     "output_type": "display_data"
    },
    {
     "data": {
      "text/plain": [
       "'Yc5 3640.854602 3 [1958.527862, 33231.859518, 7503.362809]'"
      ]
     },
     "metadata": {},
     "output_type": "display_data"
    },
    {
     "data": {
      "text/plain": [
       "'Yf5 3640.854602 3 [1958.527862, 33231.859518, 7503.362809]'"
      ]
     },
     "metadata": {},
     "output_type": "display_data"
    },
    {
     "data": {
      "text/plain": [
       "'1,4Xj6 3710.869323 1 [488.872915]'"
      ]
     },
     "metadata": {},
     "output_type": "display_data"
    },
    {
     "data": {
      "text/plain": [
       "'0,2Xa3 3812.930433 1 [4262.281523]'"
      ]
     },
     "metadata": {},
     "output_type": "display_data"
    },
    {
     "data": {
      "text/plain": [
       "'Yc6 3844.962498 3 [170133.417002, 31967.20407, 5442.269861]'"
      ]
     },
     "metadata": {},
     "output_type": "display_data"
    },
    {
     "data": {
      "text/plain": [
       "'Yf6 3844.962498 3 [170133.417002, 31967.20407, 5442.269861]'"
      ]
     },
     "metadata": {},
     "output_type": "display_data"
    },
    {
     "data": {
      "text/plain": [
       "'1,5Xc6 3930.966182 2 [883.380135, 1006.532852]'"
      ]
     },
     "metadata": {},
     "output_type": "display_data"
    },
    {
     "data": {
      "text/plain": [
       "'1,5Xf6 3930.966182 2 [883.380135, 1006.532852]'"
      ]
     },
     "metadata": {},
     "output_type": "display_data"
    },
    {
     "data": {
      "text/plain": [
       "'1,5Xg4 3989.029186 1 [45.845057]'"
      ]
     },
     "metadata": {},
     "output_type": "display_data"
    },
    {
     "data": {
      "text/plain": [
       "'3,5Xf6 3989.029186 1 [45.845057]'"
      ]
     },
     "metadata": {},
     "output_type": "display_data"
    },
    {
     "data": {
      "text/plain": [
       "'3,5Xc6 3989.029186 1 [45.845057]'"
      ]
     },
     "metadata": {},
     "output_type": "display_data"
    },
    {
     "data": {
      "text/plain": [
       "'Ye5 4032.044028 3 [23080.979178, 31779.787517, 61922.925566]'"
      ]
     },
     "metadata": {},
     "output_type": "display_data"
    },
    {
     "data": {
      "text/plain": [
       "'Yi5 4032.044028 3 [23080.979178, 31779.787517, 61922.925566]'"
      ]
     },
     "metadata": {},
     "output_type": "display_data"
    },
    {
     "data": {
      "image/svg+xml": [
       "<?xml version=\"1.0\" encoding=\"utf-8\" standalone=\"no\"?>\n",
       "<!DOCTYPE svg PUBLIC \"-//W3C//DTD SVG 1.1//EN\"\n",
       "  \"http://www.w3.org/Graphics/SVG/1.1/DTD/svg11.dtd\">\n",
       "<!-- Created with matplotlib (http://matplotlib.org/) -->\n",
       "<svg height=\"460pt\" version=\"1.1\" viewBox=\"0 0 684 460\" width=\"684pt\" xmlns=\"http://www.w3.org/2000/svg\" xmlns:xlink=\"http://www.w3.org/1999/xlink\">\n",
       " <defs>\n",
       "  <style type=\"text/css\">\n",
       "*{stroke-linecap:butt;stroke-linejoin:round;}\n",
       "  </style>\n",
       " </defs>\n",
       " <g id=\"figure_1\">\n",
       "  <g id=\"patch_1\">\n",
       "   <path d=\"\n",
       "M0 460.8\n",
       "L684 460.8\n",
       "L684 0\n",
       "L0 0\n",
       "L0 460.8\" style=\"fill:none;\"/>\n",
       "  </g>\n",
       "  <g id=\"axes_1\">\n",
       "   <g id=\"patch_2\">\n",
       "    <path d=\"\n",
       "M7.2 453.6\n",
       "L676.8 453.6\n",
       "L676.8 7.2\n",
       "L7.2 7.2\n",
       "L7.2 453.6\" style=\"fill:none;\"/>\n",
       "   </g>\n",
       "   <g id=\"line2d_1\">\n",
       "    <path clip-path=\"url(#p20201a9eeb)\" d=\"\n",
       "M286.906 311.321\n",
       "L286.906 288.201\" style=\"fill:none;stroke:#000000;stroke-linecap:square;\"/>\n",
       "   </g>\n",
       "   <g id=\"line2d_2\">\n",
       "    <path clip-path=\"url(#p20201a9eeb)\" d=\"\n",
       "M231.813 311.321\n",
       "L176.719 311.321\" style=\"fill:none;stroke:#000000;stroke-linecap:square;\"/>\n",
       "   </g>\n",
       "   <g id=\"line2d_3\">\n",
       "    <path clip-path=\"url(#p20201a9eeb)\" d=\"\n",
       "M286.906 311.321\n",
       "L231.813 311.321\" style=\"fill:none;stroke:#000000;stroke-linecap:square;\"/>\n",
       "   </g>\n",
       "   <g id=\"line2d_4\">\n",
       "    <path clip-path=\"url(#p20201a9eeb)\" d=\"\n",
       "M342 288.201\n",
       "L286.906 311.321\" style=\"fill:none;stroke:#000000;stroke-linecap:square;\"/>\n",
       "   </g>\n",
       "   <g id=\"line2d_5\">\n",
       "    <path clip-path=\"url(#p20201a9eeb)\" d=\"\n",
       "M342 288.201\n",
       "L286.906 265.08\" style=\"fill:none;stroke:#000000;stroke-linecap:square;\"/>\n",
       "   </g>\n",
       "   <g id=\"line2d_6\">\n",
       "    <path clip-path=\"url(#p20201a9eeb)\" d=\"\n",
       "M397.094 241.96\n",
       "L342 288.201\" style=\"fill:none;stroke:#000000;stroke-linecap:square;\"/>\n",
       "   </g>\n",
       "   <g id=\"line2d_7\">\n",
       "    <path clip-path=\"url(#p20201a9eeb)\" d=\"\n",
       "M231.813 218.84\n",
       "L176.719 218.84\" style=\"fill:none;stroke:#000000;stroke-linecap:square;\"/>\n",
       "   </g>\n",
       "   <g id=\"line2d_8\">\n",
       "    <path clip-path=\"url(#p20201a9eeb)\" d=\"\n",
       "M286.906 218.84\n",
       "L231.813 218.84\" style=\"fill:none;stroke:#000000;stroke-linecap:square;\"/>\n",
       "   </g>\n",
       "   <g id=\"line2d_9\">\n",
       "    <path clip-path=\"url(#p20201a9eeb)\" d=\"\n",
       "M342 195.72\n",
       "L286.906 218.84\" style=\"fill:none;stroke:#000000;stroke-linecap:square;\"/>\n",
       "   </g>\n",
       "   <g id=\"line2d_10\">\n",
       "    <path clip-path=\"url(#p20201a9eeb)\" d=\"\n",
       "M286.906 172.599\n",
       "L286.906 149.479\" style=\"fill:none;stroke:#000000;stroke-linecap:square;\"/>\n",
       "   </g>\n",
       "   <g id=\"line2d_11\">\n",
       "    <path clip-path=\"url(#p20201a9eeb)\" d=\"\n",
       "M231.813 172.599\n",
       "L176.719 172.599\" style=\"fill:none;stroke:#000000;stroke-linecap:square;\"/>\n",
       "   </g>\n",
       "   <g id=\"line2d_12\">\n",
       "    <path clip-path=\"url(#p20201a9eeb)\" d=\"\n",
       "M286.906 172.599\n",
       "L231.813 172.599\" style=\"fill:none;stroke:#000000;stroke-linecap:square;\"/>\n",
       "   </g>\n",
       "   <g id=\"line2d_13\">\n",
       "    <path clip-path=\"url(#p20201a9eeb)\" d=\"\n",
       "M342 195.72\n",
       "L286.906 172.599\" style=\"fill:none;stroke:#000000;stroke-linecap:square;\"/>\n",
       "   </g>\n",
       "   <g id=\"line2d_14\">\n",
       "    <path clip-path=\"url(#p20201a9eeb)\" d=\"\n",
       "M397.094 241.96\n",
       "L342 195.72\" style=\"fill:none;stroke:#000000;stroke-linecap:square;\"/>\n",
       "   </g>\n",
       "   <g id=\"line2d_15\">\n",
       "    <path clip-path=\"url(#p20201a9eeb)\" d=\"\n",
       "M452.187 241.96\n",
       "L397.094 241.96\" style=\"fill:none;stroke:#000000;stroke-linecap:square;\"/>\n",
       "   </g>\n",
       "   <g id=\"line2d_16\">\n",
       "    <path clip-path=\"url(#p20201a9eeb)\" d=\"\n",
       "M507.281 241.96\n",
       "L452.187 241.96\" style=\"fill:none;stroke:#000000;stroke-linecap:square;\"/>\n",
       "   </g>\n",
       "   <g id=\"RES-1b-o-dglc-HEX-0-0-1-aldi-2s-n-acetyl-LIN-1-1d-2+1-2n-1\">\n",
       "    <path clip-path=\"url(#p20201a9eeb)\" d=\"\n",
       "M515.757 234.846\n",
       "L515.757 249.074\n",
       "L498.805 249.074\n",
       "L498.805 234.846\n",
       "L515.757 234.846\n",
       "z\n",
       "\" style=\"fill:#0000ff;stroke:#000000;stroke-linejoin:miter;\"/>\n",
       "   </g>\n",
       "   <g id=\"RES-1b-b-dglc-HEX-1-5-2s-n-acetyl-LIN-1-1d-2+1-2n-2\">\n",
       "    <path clip-path=\"url(#p20201a9eeb)\" d=\"\n",
       "M460.663 234.846\n",
       "L460.663 249.074\n",
       "L443.711 249.074\n",
       "L443.711 234.846\n",
       "L460.663 234.846\n",
       "z\n",
       "\" style=\"fill:#0000ff;stroke:#000000;stroke-linejoin:miter;\"/>\n",
       "   </g>\n",
       "   <g id=\"RES-1b-b-dman-HEX-1-5-3\">\n",
       "    <path clip-path=\"url(#p20201a9eeb)\" d=\"\n",
       "M397.094 249.074\n",
       "C399.342 249.074 401.498 248.325 403.087 246.99\n",
       "C404.677 245.656 405.57 243.847 405.57 241.96\n",
       "C405.57 240.074 404.677 238.264 403.087 236.93\n",
       "C401.498 235.596 399.342 234.846 397.094 234.846\n",
       "C394.846 234.846 392.69 235.596 391.1 236.93\n",
       "C389.511 238.264 388.618 240.074 388.618 241.96\n",
       "C388.618 243.847 389.511 245.656 391.1 246.99\n",
       "C392.69 248.325 394.846 249.074 397.094 249.074\n",
       "z\n",
       "\" style=\"fill:#008000;stroke:#000000;stroke-linejoin:miter;\"/>\n",
       "   </g>\n",
       "   <g id=\"RES-1b-a-dman-HEX-1-5-12\">\n",
       "    <path clip-path=\"url(#p20201a9eeb)\" d=\"\n",
       "M342 295.315\n",
       "C344.248 295.315 346.404 294.565 347.993 293.231\n",
       "C349.583 291.897 350.476 290.087 350.476 288.201\n",
       "C350.476 286.314 349.583 284.505 347.993 283.17\n",
       "C346.404 281.836 344.248 281.087 342 281.087\n",
       "C339.752 281.087 337.596 281.836 336.007 283.17\n",
       "C334.417 284.505 333.524 286.314 333.524 288.201\n",
       "C333.524 290.087 334.417 291.897 336.007 293.231\n",
       "C337.596 294.565 339.752 295.315 342 295.315\n",
       "z\n",
       "\" style=\"fill:#008000;stroke:#000000;stroke-linejoin:miter;\"/>\n",
       "   </g>\n",
       "   <g id=\"RES-1b-b-dglc-HEX-1-5-2s-n-acetyl-LIN-1-1d-2+1-2n-14\">\n",
       "    <path clip-path=\"url(#p20201a9eeb)\" d=\"\n",
       "M295.382 304.207\n",
       "L295.382 318.435\n",
       "L278.43 318.435\n",
       "L278.43 304.207\n",
       "L295.382 304.207\n",
       "z\n",
       "\" style=\"fill:#0000ff;stroke:#000000;stroke-linejoin:miter;\"/>\n",
       "   </g>\n",
       "   <g id=\"RES-1b-a-lgal-HEX-1-5-6-d-17\">\n",
       "    <path clip-path=\"url(#p20201a9eeb)\" d=\"\n",
       "M286.906 281.087\n",
       "L279.566 291.758\n",
       "L294.247 291.758\n",
       "z\n",
       "\" style=\"fill:#ff0000;stroke:#000000;stroke-linejoin:miter;\"/>\n",
       "   </g>\n",
       "   <g id=\"RES-1b-b-dgal-HEX-1-5-15\">\n",
       "    <path clip-path=\"url(#p20201a9eeb)\" d=\"\n",
       "M231.813 318.435\n",
       "C234.061 318.435 236.217 317.685 237.806 316.351\n",
       "C239.396 315.017 240.289 313.208 240.289 311.321\n",
       "C240.289 309.434 239.396 307.625 237.806 306.291\n",
       "C236.217 304.957 234.061 304.207 231.813 304.207\n",
       "C229.565 304.207 227.409 304.957 225.819 306.291\n",
       "C224.23 307.625 223.337 309.434 223.337 311.321\n",
       "C223.337 313.208 224.23 315.017 225.819 316.351\n",
       "C227.409 317.685 229.565 318.435 231.813 318.435\n",
       "z\n",
       "\" style=\"fill:#ffff00;stroke:#000000;stroke-linejoin:miter;\"/>\n",
       "   </g>\n",
       "   <g id=\"RES-1b-a-dgro-dgal-NON-2-6-1-a-2-keto-3-d-2s-n-glycolyl-LIN-1-1d-5+1-2n-16\">\n",
       "    <path clip-path=\"url(#p20201a9eeb)\" d=\"\n",
       "M176.719 304.207\n",
       "L168.243 311.321\n",
       "L176.719 318.435\n",
       "L185.195 311.321\n",
       "z\n",
       "\" style=\"fill:#add8e6;stroke:#000000;stroke-linejoin:miter;\"/>\n",
       "   </g>\n",
       "   <g id=\"RES-1b-b-dglc-HEX-1-5-2s-n-acetyl-LIN-1-1d-2+1-2n-13\">\n",
       "    <path clip-path=\"url(#p20201a9eeb)\" d=\"\n",
       "M295.382 257.967\n",
       "L295.382 272.194\n",
       "L278.43 272.194\n",
       "L278.43 257.967\n",
       "L295.382 257.967\n",
       "z\n",
       "\" style=\"fill:#0000ff;stroke:#000000;stroke-linejoin:miter;\"/>\n",
       "   </g>\n",
       "   <g id=\"RES-1b-a-dman-HEX-1-5-4\">\n",
       "    <path clip-path=\"url(#p20201a9eeb)\" d=\"\n",
       "M342 202.833\n",
       "C344.248 202.833 346.404 202.084 347.993 200.75\n",
       "C349.583 199.416 350.476 197.606 350.476 195.72\n",
       "C350.476 193.833 349.583 192.023 347.993 190.689\n",
       "C346.404 189.355 344.248 188.606 342 188.606\n",
       "C339.752 188.606 337.596 189.355 336.007 190.689\n",
       "C334.417 192.023 333.524 193.833 333.524 195.72\n",
       "C333.524 197.606 334.417 199.416 336.007 200.75\n",
       "C337.596 202.084 339.752 202.833 342 202.833\n",
       "z\n",
       "\" style=\"fill:#008000;stroke:#000000;stroke-linejoin:miter;\"/>\n",
       "   </g>\n",
       "   <g id=\"RES-1b-b-dglc-HEX-1-5-2s-n-acetyl-LIN-1-1d-2+1-2n-9\">\n",
       "    <path clip-path=\"url(#p20201a9eeb)\" d=\"\n",
       "M295.382 211.726\n",
       "L295.382 225.954\n",
       "L278.43 225.954\n",
       "L278.43 211.726\n",
       "L295.382 211.726\n",
       "z\n",
       "\" style=\"fill:#0000ff;stroke:#000000;stroke-linejoin:miter;\"/>\n",
       "   </g>\n",
       "   <g id=\"RES-1b-b-dgal-HEX-1-5-10\">\n",
       "    <path clip-path=\"url(#p20201a9eeb)\" d=\"\n",
       "M231.813 225.954\n",
       "C234.061 225.954 236.217 225.204 237.806 223.87\n",
       "C239.396 222.536 240.289 220.726 240.289 218.84\n",
       "C240.289 216.953 239.396 215.144 237.806 213.81\n",
       "C236.217 212.475 234.061 211.726 231.813 211.726\n",
       "C229.565 211.726 227.409 212.475 225.819 213.81\n",
       "C224.23 215.144 223.337 216.953 223.337 218.84\n",
       "C223.337 220.726 224.23 222.536 225.819 223.87\n",
       "C227.409 225.204 229.565 225.954 231.813 225.954\n",
       "z\n",
       "\" style=\"fill:#ffff00;stroke:#000000;stroke-linejoin:miter;\"/>\n",
       "   </g>\n",
       "   <g id=\"RES-1b-a-dgro-dgal-NON-2-6-1-a-2-keto-3-d-2s-n-acetyl-LIN-1-1d-5+1-2n-11\">\n",
       "    <path clip-path=\"url(#p20201a9eeb)\" d=\"\n",
       "M176.719 211.726\n",
       "L168.243 218.84\n",
       "L176.719 225.954\n",
       "L185.195 218.84\n",
       "z\n",
       "\" style=\"fill:#800080;stroke:#000000;stroke-linejoin:miter;\"/>\n",
       "   </g>\n",
       "   <g id=\"RES-1b-b-dglc-HEX-1-5-2s-n-acetyl-LIN-1-1d-2+1-2n-5\">\n",
       "    <path clip-path=\"url(#p20201a9eeb)\" d=\"\n",
       "M295.382 165.485\n",
       "L295.382 179.713\n",
       "L278.43 179.713\n",
       "L278.43 165.485\n",
       "L295.382 165.485\n",
       "z\n",
       "\" style=\"fill:#0000ff;stroke:#000000;stroke-linejoin:miter;\"/>\n",
       "   </g>\n",
       "   <g id=\"RES-1b-a-lgal-HEX-1-5-6-d-8\">\n",
       "    <path clip-path=\"url(#p20201a9eeb)\" d=\"\n",
       "M286.906 142.365\n",
       "L279.566 153.036\n",
       "L294.247 153.036\n",
       "z\n",
       "\" style=\"fill:#ff0000;stroke:#000000;stroke-linejoin:miter;\"/>\n",
       "   </g>\n",
       "   <g id=\"RES-1b-b-dgal-HEX-1-5-6\">\n",
       "    <path clip-path=\"url(#p20201a9eeb)\" d=\"\n",
       "M231.813 179.713\n",
       "C234.061 179.713 236.217 178.964 237.806 177.63\n",
       "C239.396 176.295 240.289 174.486 240.289 172.599\n",
       "C240.289 170.713 239.396 168.903 237.806 167.569\n",
       "C236.217 166.235 234.061 165.485 231.813 165.485\n",
       "C229.565 165.485 227.409 166.235 225.819 167.569\n",
       "C224.23 168.903 223.337 170.713 223.337 172.599\n",
       "C223.337 174.486 224.23 176.295 225.819 177.63\n",
       "C227.409 178.964 229.565 179.713 231.813 179.713\n",
       "z\n",
       "\" style=\"fill:#ffff00;stroke:#000000;stroke-linejoin:miter;\"/>\n",
       "   </g>\n",
       "   <g id=\"RES-1b-a-dgro-dgal-NON-2-6-1-a-2-keto-3-d-2s-n-acetyl-LIN-1-1d-5+1-2n-7\">\n",
       "    <path clip-path=\"url(#p20201a9eeb)\" d=\"\n",
       "M176.719 165.485\n",
       "L168.243 172.599\n",
       "L176.719 179.713\n",
       "L185.195 172.599\n",
       "z\n",
       "\" style=\"fill:#800080;stroke:#000000;stroke-linejoin:miter;\"/>\n",
       "   </g>\n",
       "   <g id=\"patch_3\">\n",
       "    <path d=\"\n",
       "M7.2 7.2\n",
       "L676.8 7.2\" style=\"fill:none;stroke:#000000;stroke-linecap:square;stroke-linejoin:miter;\"/>\n",
       "   </g>\n",
       "   <g id=\"patch_4\">\n",
       "    <path d=\"\n",
       "M676.8 453.6\n",
       "L676.8 7.2\" style=\"fill:none;stroke:#000000;stroke-linecap:square;stroke-linejoin:miter;\"/>\n",
       "   </g>\n",
       "   <g id=\"patch_5\">\n",
       "    <path d=\"\n",
       "M7.2 453.6\n",
       "L676.8 453.6\" style=\"fill:none;stroke:#000000;stroke-linecap:square;stroke-linejoin:miter;\"/>\n",
       "   </g>\n",
       "   <g id=\"patch_6\">\n",
       "    <path d=\"\n",
       "M7.2 453.6\n",
       "L7.2 7.2\" style=\"fill:none;stroke:#000000;stroke-linecap:square;stroke-linejoin:miter;\"/>\n",
       "   </g>\n",
       "   <g id=\"line2d_17\">\n",
       "    <path clip-path=\"url(#p20201a9eeb)\" d=\"\n",
       "M303.858 161.039\n",
       "L269.954 161.039\" style=\"fill:none;stroke:#ff0000;stroke-linecap:square;\"/>\n",
       "   </g>\n",
       "   <g id=\"line2d_18\">\n",
       "    <path clip-path=\"url(#p20201a9eeb)\" d=\"\n",
       "M303.858 299.761\n",
       "L269.954 299.761\" style=\"fill:none;stroke:#ff0000;stroke-linecap:square;\"/>\n",
       "   </g>\n",
       "   <g id=\"line2d_19\">\n",
       "    <path clip-path=\"url(#p20201a9eeb)\" d=\"\n",
       "M204.266 204.612\n",
       "L204.266 233.068\" style=\"fill:none;stroke:#ff0000;stroke-linecap:square;\"/>\n",
       "   </g>\n",
       "   <g id=\"line2d_20\">\n",
       "    <path clip-path=\"url(#p20201a9eeb)\" d=\"\n",
       "M204.266 158.371\n",
       "L204.266 186.827\" style=\"fill:none;stroke:#ff0000;stroke-linecap:square;\"/>\n",
       "   </g>\n",
       "   <g id=\"line2d_21\">\n",
       "    <path clip-path=\"url(#p20201a9eeb)\" d=\"\n",
       "M204.266 204.612\n",
       "L204.266 233.068\" style=\"fill:none;stroke:#ff0000;stroke-linecap:square;\"/>\n",
       "   </g>\n",
       "   <g id=\"line2d_22\">\n",
       "    <path clip-path=\"url(#p20201a9eeb)\" d=\"\n",
       "M204.266 158.371\n",
       "L204.266 186.827\" style=\"fill:none;stroke:#ff0000;stroke-linecap:square;\"/>\n",
       "   </g>\n",
       "   <g id=\"line2d_23\">\n",
       "    <path clip-path=\"url(#p20201a9eeb)\" d=\"\n",
       "M214.861 204.612\n",
       "L248.765 233.068\" style=\"fill:none;stroke:#ff0000;stroke-linecap:square;\"/>\n",
       "   </g>\n",
       "   <g id=\"line2d_24\">\n",
       "    <path clip-path=\"url(#p20201a9eeb)\" d=\"\n",
       "M214.861 204.612\n",
       "L248.765 233.068\" style=\"fill:none;stroke:#ff0000;stroke-linecap:square;\"/>\n",
       "   </g>\n",
       "   <g id=\"line2d_25\">\n",
       "    <path clip-path=\"url(#p20201a9eeb)\" d=\"\n",
       "M214.861 158.371\n",
       "L248.765 186.827\" style=\"fill:none;stroke:#ff0000;stroke-linecap:square;\"/>\n",
       "   </g>\n",
       "   <g id=\"line2d_26\">\n",
       "    <path clip-path=\"url(#p20201a9eeb)\" d=\"\n",
       "M214.861 158.371\n",
       "L248.765 186.827\" style=\"fill:none;stroke:#ff0000;stroke-linecap:square;\"/>\n",
       "   </g>\n",
       "   <g id=\"line2d_27\">\n",
       "    <path clip-path=\"url(#p20201a9eeb)\" d=\"\n",
       "M214.861 204.612\n",
       "L248.765 233.068\" style=\"fill:none;stroke:#ff0000;stroke-linecap:square;\"/>\n",
       "   </g>\n",
       "   <g id=\"line2d_28\">\n",
       "    <path clip-path=\"url(#p20201a9eeb)\" d=\"\n",
       "M214.861 158.371\n",
       "L248.765 186.827\" style=\"fill:none;stroke:#ff0000;stroke-linecap:square;\"/>\n",
       "   </g>\n",
       "   <g id=\"line2d_29\">\n",
       "    <path clip-path=\"url(#p20201a9eeb)\" d=\"\n",
       "M259.359 204.612\n",
       "L259.359 233.068\" style=\"fill:none;stroke:#ff0000;stroke-linecap:square;\"/>\n",
       "   </g>\n",
       "   <g id=\"line2d_30\">\n",
       "    <path clip-path=\"url(#p20201a9eeb)\" d=\"\n",
       "M259.359 158.371\n",
       "L259.359 186.827\" style=\"fill:none;stroke:#ff0000;stroke-linecap:square;\"/>\n",
       "   </g>\n",
       "   <g id=\"line2d_31\">\n",
       "    <path clip-path=\"url(#p20201a9eeb)\" d=\"\n",
       "M259.359 204.612\n",
       "L259.359 233.068\" style=\"fill:none;stroke:#ff0000;stroke-linecap:square;\"/>\n",
       "   </g>\n",
       "   <g id=\"line2d_32\">\n",
       "    <path clip-path=\"url(#p20201a9eeb)\" d=\"\n",
       "M259.359 158.371\n",
       "L259.359 186.827\" style=\"fill:none;stroke:#ff0000;stroke-linecap:square;\"/>\n",
       "   </g>\n",
       "   <g id=\"line2d_33\">\n",
       "    <path clip-path=\"url(#p20201a9eeb)\" d=\"\n",
       "M269.954 204.612\n",
       "L303.858 233.068\" style=\"fill:none;stroke:#ff0000;stroke-linecap:square;\"/>\n",
       "   </g>\n",
       "   <g id=\"line2d_34\">\n",
       "    <path clip-path=\"url(#p20201a9eeb)\" d=\"\n",
       "M269.954 204.612\n",
       "L303.858 233.068\" style=\"fill:none;stroke:#ff0000;stroke-linecap:square;\"/>\n",
       "   </g>\n",
       "   <g id=\"line2d_35\">\n",
       "    <path clip-path=\"url(#p20201a9eeb)\" d=\"\n",
       "M269.954 158.371\n",
       "L303.858 186.827\" style=\"fill:none;stroke:#ff0000;stroke-linecap:square;\"/>\n",
       "   </g>\n",
       "   <g id=\"line2d_36\">\n",
       "    <path clip-path=\"url(#p20201a9eeb)\" d=\"\n",
       "M297.501 193.052\n",
       "L331.405 221.508\" style=\"fill:none;stroke:#ff0000;stroke-linecap:square;\"/>\n",
       "   </g>\n",
       "   <g id=\"line2d_37\">\n",
       "    <path clip-path=\"url(#p20201a9eeb)\" d=\"\n",
       "M269.954 158.371\n",
       "L303.858 186.827\" style=\"fill:none;stroke:#ff0000;stroke-linecap:square;\"/>\n",
       "   </g>\n",
       "   <g id=\"line2d_38\">\n",
       "    <path clip-path=\"url(#p20201a9eeb)\" d=\"\n",
       "M297.501 193.052\n",
       "L331.405 221.508\" style=\"fill:none;stroke:#ff0000;stroke-linecap:square;\"/>\n",
       "   </g>\n",
       "   <g id=\"line2d_39\">\n",
       "    <path clip-path=\"url(#p20201a9eeb)\" d=\"\n",
       "M269.954 297.093\n",
       "L303.858 325.549\" style=\"fill:none;stroke:#ff0000;stroke-linecap:square;\"/>\n",
       "   </g>\n",
       "   <g id=\"line2d_40\">\n",
       "    <path clip-path=\"url(#p20201a9eeb)\" d=\"\n",
       "M325.048 181.492\n",
       "L358.952 209.947\" style=\"fill:none;stroke:#ff0000;stroke-linecap:square;\"/>\n",
       "   </g>\n",
       "   <g id=\"line2d_41\">\n",
       "    <path clip-path=\"url(#p20201a9eeb)\" d=\"\n",
       "M297.501 198.387\n",
       "L331.405 169.931\" style=\"fill:none;stroke:#ff0000;stroke-linecap:square;\"/>\n",
       "   </g>\n",
       "   <g id=\"line2d_42\">\n",
       "    <path clip-path=\"url(#p20201a9eeb)\" d=\"\n",
       "M297.501 285.533\n",
       "L331.405 313.989\" style=\"fill:none;stroke:#ff0000;stroke-linecap:square;\"/>\n",
       "   </g>\n",
       "   <g id=\"line2d_43\">\n",
       "    <path clip-path=\"url(#p20201a9eeb)\" d=\"\n",
       "M325.048 273.973\n",
       "L358.952 302.429\" style=\"fill:none;stroke:#ff0000;stroke-linecap:square;\"/>\n",
       "   </g>\n",
       "   <g id=\"line2d_44\">\n",
       "    <path clip-path=\"url(#p20201a9eeb)\" d=\"\n",
       "M325.048 181.492\n",
       "L358.952 209.947\" style=\"fill:none;stroke:#ff0000;stroke-linecap:square;\"/>\n",
       "   </g>\n",
       "   <g id=\"line2d_45\">\n",
       "    <path clip-path=\"url(#p20201a9eeb)\" d=\"\n",
       "M325.048 273.973\n",
       "L358.952 302.429\" style=\"fill:none;stroke:#ff0000;stroke-linecap:square;\"/>\n",
       "   </g>\n",
       "   <g id=\"line2d_46\">\n",
       "    <path clip-path=\"url(#p20201a9eeb)\" d=\"\n",
       "M380.142 227.732\n",
       "L414.046 256.188\" style=\"fill:none;stroke:#ff0000;stroke-linecap:square;\"/>\n",
       "   </g>\n",
       "   <g id=\"line2d_47\">\n",
       "    <path clip-path=\"url(#p20201a9eeb)\" d=\"\n",
       "M380.142 227.732\n",
       "L414.046 256.188\" style=\"fill:none;stroke:#ff0000;stroke-linecap:square;\"/>\n",
       "   </g>\n",
       "   <g id=\"line2d_48\">\n",
       "    <path clip-path=\"url(#p20201a9eeb)\" d=\"\n",
       "M380.142 227.732\n",
       "L414.046 256.188\" style=\"fill:none;stroke:#ff0000;stroke-linecap:square;\"/>\n",
       "   </g>\n",
       "   <g id=\"line2d_49\">\n",
       "    <path clip-path=\"url(#p20201a9eeb)\" d=\"\n",
       "M352.595 233.068\n",
       "L386.499 204.612\" style=\"fill:none;stroke:#ff0000;stroke-linecap:square;\"/>\n",
       "   </g>\n",
       "   <g id=\"line2d_50\">\n",
       "    <path clip-path=\"url(#p20201a9eeb)\" d=\"\n",
       "M352.595 233.068\n",
       "L386.499 204.612\" style=\"fill:none;stroke:#ff0000;stroke-linecap:square;\"/>\n",
       "   </g>\n",
       "   <g id=\"line2d_51\">\n",
       "    <path clip-path=\"url(#p20201a9eeb)\" d=\"\n",
       "M380.142 227.732\n",
       "L414.046 256.188\" style=\"fill:none;stroke:#ff0000;stroke-linecap:square;\"/>\n",
       "   </g>\n",
       "   <g id=\"line2d_52\">\n",
       "    <path clip-path=\"url(#p20201a9eeb)\" d=\"\n",
       "M325.048 273.973\n",
       "L358.952 302.429\" style=\"fill:none;stroke:#ff0000;stroke-linecap:square;\"/>\n",
       "   </g>\n",
       "   <g id=\"line2d_53\">\n",
       "    <path clip-path=\"url(#p20201a9eeb)\" d=\"\n",
       "M325.048 181.492\n",
       "L358.952 209.947\" style=\"fill:none;stroke:#ff0000;stroke-linecap:square;\"/>\n",
       "   </g>\n",
       "   <g id=\"line2d_54\">\n",
       "    <path clip-path=\"url(#p20201a9eeb)\" d=\"\n",
       "M297.501 198.387\n",
       "L331.405 169.931\" style=\"fill:none;stroke:#ff0000;stroke-linecap:square;\"/>\n",
       "   </g>\n",
       "   <g id=\"line2d_55\">\n",
       "    <path clip-path=\"url(#p20201a9eeb)\" d=\"\n",
       "M269.954 297.093\n",
       "L303.858 325.549\" style=\"fill:none;stroke:#ff0000;stroke-linecap:square;\"/>\n",
       "   </g>\n",
       "   <g id=\"line2d_56\">\n",
       "    <path clip-path=\"url(#p20201a9eeb)\" d=\"\n",
       "M269.954 297.093\n",
       "L303.858 325.549\" style=\"fill:none;stroke:#ff0000;stroke-linecap:square;\"/>\n",
       "   </g>\n",
       "   <g id=\"line2d_57\">\n",
       "    <path clip-path=\"url(#p20201a9eeb)\" d=\"\n",
       "M297.501 193.052\n",
       "L331.405 221.508\" style=\"fill:none;stroke:#ff0000;stroke-linecap:square;\"/>\n",
       "   </g>\n",
       "   <g id=\"line2d_58\">\n",
       "    <path clip-path=\"url(#p20201a9eeb)\" d=\"\n",
       "M297.501 193.052\n",
       "L331.405 221.508\" style=\"fill:none;stroke:#ff0000;stroke-linecap:square;\"/>\n",
       "   </g>\n",
       "   <g id=\"line2d_59\">\n",
       "    <path clip-path=\"url(#p20201a9eeb)\" d=\"\n",
       "M269.954 204.612\n",
       "L303.858 233.068\" style=\"fill:none;stroke:#ff0000;stroke-linecap:square;\"/>\n",
       "   </g>\n",
       "   <g id=\"line2d_60\">\n",
       "    <path clip-path=\"url(#p20201a9eeb)\" d=\"\n",
       "M259.359 204.612\n",
       "L259.359 233.068\" style=\"fill:none;stroke:#ff0000;stroke-linecap:square;\"/>\n",
       "   </g>\n",
       "   <g id=\"line2d_61\">\n",
       "    <path clip-path=\"url(#p20201a9eeb)\" d=\"\n",
       "M259.359 158.371\n",
       "L259.359 186.827\" style=\"fill:none;stroke:#ff0000;stroke-linecap:square;\"/>\n",
       "   </g>\n",
       "   <g id=\"line2d_62\">\n",
       "    <path clip-path=\"url(#p20201a9eeb)\" d=\"\n",
       "M214.861 297.093\n",
       "L248.765 325.549\" style=\"fill:none;stroke:#ff0000;stroke-linecap:square;\"/>\n",
       "   </g>\n",
       "   <g id=\"line2d_63\">\n",
       "    <path clip-path=\"url(#p20201a9eeb)\" d=\"\n",
       "M325.048 273.973\n",
       "L358.952 302.429\" style=\"fill:none;stroke:#ff0000;stroke-linecap:square;\"/>\n",
       "   </g>\n",
       "   <g id=\"line2d_64\">\n",
       "    <path clip-path=\"url(#p20201a9eeb)\" d=\"\n",
       "M204.266 204.612\n",
       "L204.266 233.068\" style=\"fill:none;stroke:#ff0000;stroke-linecap:square;\"/>\n",
       "   </g>\n",
       "   <g id=\"line2d_65\">\n",
       "    <path clip-path=\"url(#p20201a9eeb)\" d=\"\n",
       "M204.266 158.371\n",
       "L204.266 186.827\" style=\"fill:none;stroke:#ff0000;stroke-linecap:square;\"/>\n",
       "   </g>\n",
       "   <g id=\"line2d_66\">\n",
       "    <path clip-path=\"url(#p20201a9eeb)\" d=\"\n",
       "M159.767 204.612\n",
       "L193.671 233.068\" style=\"fill:none;stroke:#ff0000;stroke-linecap:square;\"/>\n",
       "   </g>\n",
       "   <g id=\"line2d_67\">\n",
       "    <path clip-path=\"url(#p20201a9eeb)\" d=\"\n",
       "M159.767 158.371\n",
       "L193.671 186.827\" style=\"fill:none;stroke:#ff0000;stroke-linecap:square;\"/>\n",
       "   </g>\n",
       "   <g id=\"line2d_68\">\n",
       "    <path clip-path=\"url(#p20201a9eeb)\" d=\"\n",
       "M269.954 250.853\n",
       "L303.858 279.308\" style=\"fill:none;stroke:#ff0000;stroke-linecap:square;\"/>\n",
       "   </g>\n",
       "   <g id=\"line2d_69\">\n",
       "    <path clip-path=\"url(#p20201a9eeb)\" d=\"\n",
       "M159.767 158.371\n",
       "L193.671 186.827\" style=\"fill:none;stroke:#ff0000;stroke-linecap:square;\"/>\n",
       "   </g>\n",
       "   <g id=\"line2d_70\">\n",
       "    <path clip-path=\"url(#p20201a9eeb)\" d=\"\n",
       "M159.767 204.612\n",
       "L193.671 233.068\" style=\"fill:none;stroke:#ff0000;stroke-linecap:square;\"/>\n",
       "   </g>\n",
       "   <g id=\"line2d_71\">\n",
       "    <path clip-path=\"url(#p20201a9eeb)\" d=\"\n",
       "M303.858 161.039\n",
       "L269.954 161.039\" style=\"fill:none;stroke:#ff0000;stroke-linecap:square;\"/>\n",
       "   </g>\n",
       "   <g id=\"line2d_72\">\n",
       "    <path clip-path=\"url(#p20201a9eeb)\" d=\"\n",
       "M303.858 299.761\n",
       "L269.954 299.761\" style=\"fill:none;stroke:#ff0000;stroke-linecap:square;\"/>\n",
       "   </g>\n",
       "  </g>\n",
       " </g>\n",
       " <defs>\n",
       "  <clipPath id=\"p20201a9eeb\">\n",
       "   <rect height=\"446.4\" width=\"669.6\" x=\"7.2\" y=\"7.2\"/>\n",
       "  </clipPath>\n",
       " </defs>\n",
       "</svg>\n"
      ],
      "text/plain": [
       "<matplotlib.figure.Figure at 0x21352e10>"
      ]
     },
     "metadata": {},
     "output_type": "display_data"
    },
    {
     "data": {
      "text/plain": [
       "13"
      ]
     },
     "metadata": {},
     "output_type": "display_data"
    },
    {
     "data": {
      "text/plain": [
       "4252.13583188186"
      ]
     },
     "metadata": {},
     "output_type": "display_data"
    },
    {
     "data": {
      "text/plain": [
       "'Fragments Observed / Expected: 0.025'"
      ]
     },
     "metadata": {},
     "output_type": "display_data"
    },
    {
     "data": {
      "text/plain": [
       "'0,3Xj5 3552.751332 1 [83001.570395]'"
      ]
     },
     "metadata": {},
     "output_type": "display_data"
    },
    {
     "data": {
      "text/plain": [
       "'0,3Xd4 3552.751332 1 [83001.570395]'"
      ]
     },
     "metadata": {},
     "output_type": "display_data"
    },
    {
     "data": {
      "text/plain": [
       "'0,3Xc4 3552.751332 1 [83001.570395]'"
      ]
     },
     "metadata": {},
     "output_type": "display_data"
    },
    {
     "data": {
      "text/plain": [
       "'0,2Xe5 4120.109113 1 [126.467061]'"
      ]
     },
     "metadata": {},
     "output_type": "display_data"
    },
    {
     "data": {
      "text/plain": [
       "'0,2Xh4 4120.109113 1 [126.467061]'"
      ]
     },
     "metadata": {},
     "output_type": "display_data"
    },
    {
     "data": {
      "text/plain": [
       "'1,4Xh4 4120.109113 1 [126.467061]'"
      ]
     },
     "metadata": {},
     "output_type": "display_data"
    },
    {
     "data": {
      "text/plain": [
       "'1,4Xe5 4120.109113 1 [126.467061]'"
      ]
     },
     "metadata": {},
     "output_type": "display_data"
    },
    {
     "data": {
      "image/svg+xml": [
       "<?xml version=\"1.0\" encoding=\"utf-8\" standalone=\"no\"?>\n",
       "<!DOCTYPE svg PUBLIC \"-//W3C//DTD SVG 1.1//EN\"\n",
       "  \"http://www.w3.org/Graphics/SVG/1.1/DTD/svg11.dtd\">\n",
       "<!-- Created with matplotlib (http://matplotlib.org/) -->\n",
       "<svg height=\"460pt\" version=\"1.1\" viewBox=\"0 0 684 460\" width=\"684pt\" xmlns=\"http://www.w3.org/2000/svg\" xmlns:xlink=\"http://www.w3.org/1999/xlink\">\n",
       " <defs>\n",
       "  <style type=\"text/css\">\n",
       "*{stroke-linecap:butt;stroke-linejoin:round;}\n",
       "  </style>\n",
       " </defs>\n",
       " <g id=\"figure_1\">\n",
       "  <g id=\"patch_1\">\n",
       "   <path d=\"\n",
       "M0 460.8\n",
       "L684 460.8\n",
       "L684 0\n",
       "L0 0\n",
       "L0 460.8\" style=\"fill:none;\"/>\n",
       "  </g>\n",
       "  <g id=\"axes_1\">\n",
       "   <g id=\"patch_2\">\n",
       "    <path d=\"\n",
       "M7.2 453.6\n",
       "L676.8 453.6\n",
       "L676.8 7.2\n",
       "L7.2 7.2\n",
       "L7.2 453.6\" style=\"fill:none;\"/>\n",
       "   </g>\n",
       "   <g id=\"line2d_1\">\n",
       "    <path clip-path=\"url(#p20201a9eeb)\" d=\"\n",
       "M286.906 311.321\n",
       "L286.906 288.201\" style=\"fill:none;stroke:#000000;stroke-linecap:square;\"/>\n",
       "   </g>\n",
       "   <g id=\"line2d_2\">\n",
       "    <path clip-path=\"url(#p20201a9eeb)\" d=\"\n",
       "M231.813 311.321\n",
       "L176.719 311.321\" style=\"fill:none;stroke:#000000;stroke-linecap:square;\"/>\n",
       "   </g>\n",
       "   <g id=\"line2d_3\">\n",
       "    <path clip-path=\"url(#p20201a9eeb)\" d=\"\n",
       "M286.906 311.321\n",
       "L231.813 311.321\" style=\"fill:none;stroke:#000000;stroke-linecap:square;\"/>\n",
       "   </g>\n",
       "   <g id=\"line2d_4\">\n",
       "    <path clip-path=\"url(#p20201a9eeb)\" d=\"\n",
       "M342 288.201\n",
       "L286.906 311.321\" style=\"fill:none;stroke:#000000;stroke-linecap:square;\"/>\n",
       "   </g>\n",
       "   <g id=\"line2d_5\">\n",
       "    <path clip-path=\"url(#p20201a9eeb)\" d=\"\n",
       "M342 288.201\n",
       "L286.906 265.08\" style=\"fill:none;stroke:#000000;stroke-linecap:square;\"/>\n",
       "   </g>\n",
       "   <g id=\"line2d_6\">\n",
       "    <path clip-path=\"url(#p20201a9eeb)\" d=\"\n",
       "M397.094 241.96\n",
       "L342 288.201\" style=\"fill:none;stroke:#000000;stroke-linecap:square;\"/>\n",
       "   </g>\n",
       "   <g id=\"line2d_7\">\n",
       "    <path clip-path=\"url(#p20201a9eeb)\" d=\"\n",
       "M231.813 218.84\n",
       "L176.719 218.84\" style=\"fill:none;stroke:#000000;stroke-linecap:square;\"/>\n",
       "   </g>\n",
       "   <g id=\"line2d_8\">\n",
       "    <path clip-path=\"url(#p20201a9eeb)\" d=\"\n",
       "M286.906 218.84\n",
       "L231.813 218.84\" style=\"fill:none;stroke:#000000;stroke-linecap:square;\"/>\n",
       "   </g>\n",
       "   <g id=\"line2d_9\">\n",
       "    <path clip-path=\"url(#p20201a9eeb)\" d=\"\n",
       "M342 195.72\n",
       "L286.906 218.84\" style=\"fill:none;stroke:#000000;stroke-linecap:square;\"/>\n",
       "   </g>\n",
       "   <g id=\"line2d_10\">\n",
       "    <path clip-path=\"url(#p20201a9eeb)\" d=\"\n",
       "M286.906 172.599\n",
       "L286.906 149.479\" style=\"fill:none;stroke:#000000;stroke-linecap:square;\"/>\n",
       "   </g>\n",
       "   <g id=\"line2d_11\">\n",
       "    <path clip-path=\"url(#p20201a9eeb)\" d=\"\n",
       "M231.813 172.599\n",
       "L176.719 172.599\" style=\"fill:none;stroke:#000000;stroke-linecap:square;\"/>\n",
       "   </g>\n",
       "   <g id=\"line2d_12\">\n",
       "    <path clip-path=\"url(#p20201a9eeb)\" d=\"\n",
       "M286.906 172.599\n",
       "L231.813 172.599\" style=\"fill:none;stroke:#000000;stroke-linecap:square;\"/>\n",
       "   </g>\n",
       "   <g id=\"line2d_13\">\n",
       "    <path clip-path=\"url(#p20201a9eeb)\" d=\"\n",
       "M342 195.72\n",
       "L286.906 172.599\" style=\"fill:none;stroke:#000000;stroke-linecap:square;\"/>\n",
       "   </g>\n",
       "   <g id=\"line2d_14\">\n",
       "    <path clip-path=\"url(#p20201a9eeb)\" d=\"\n",
       "M397.094 241.96\n",
       "L342 195.72\" style=\"fill:none;stroke:#000000;stroke-linecap:square;\"/>\n",
       "   </g>\n",
       "   <g id=\"line2d_15\">\n",
       "    <path clip-path=\"url(#p20201a9eeb)\" d=\"\n",
       "M452.187 241.96\n",
       "L397.094 241.96\" style=\"fill:none;stroke:#000000;stroke-linecap:square;\"/>\n",
       "   </g>\n",
       "   <g id=\"line2d_16\">\n",
       "    <path clip-path=\"url(#p20201a9eeb)\" d=\"\n",
       "M507.281 241.96\n",
       "L452.187 241.96\" style=\"fill:none;stroke:#000000;stroke-linecap:square;\"/>\n",
       "   </g>\n",
       "   <g id=\"RES-1b-o-dglc-HEX-0-0-1-aldi-2s-n-acetyl-LIN-1-1d-2+1-2n-1\">\n",
       "    <path clip-path=\"url(#p20201a9eeb)\" d=\"\n",
       "M515.757 234.846\n",
       "L515.757 249.074\n",
       "L498.805 249.074\n",
       "L498.805 234.846\n",
       "L515.757 234.846\n",
       "z\n",
       "\" style=\"fill:#0000ff;stroke:#000000;stroke-linejoin:miter;\"/>\n",
       "   </g>\n",
       "   <g id=\"RES-1b-b-dglc-HEX-1-5-2s-n-acetyl-LIN-1-1d-2+1-2n-2\">\n",
       "    <path clip-path=\"url(#p20201a9eeb)\" d=\"\n",
       "M460.663 234.846\n",
       "L460.663 249.074\n",
       "L443.711 249.074\n",
       "L443.711 234.846\n",
       "L460.663 234.846\n",
       "z\n",
       "\" style=\"fill:#0000ff;stroke:#000000;stroke-linejoin:miter;\"/>\n",
       "   </g>\n",
       "   <g id=\"RES-1b-b-dman-HEX-1-5-3\">\n",
       "    <path clip-path=\"url(#p20201a9eeb)\" d=\"\n",
       "M397.094 249.074\n",
       "C399.342 249.074 401.498 248.325 403.087 246.99\n",
       "C404.677 245.656 405.57 243.847 405.57 241.96\n",
       "C405.57 240.074 404.677 238.264 403.087 236.93\n",
       "C401.498 235.596 399.342 234.846 397.094 234.846\n",
       "C394.846 234.846 392.69 235.596 391.1 236.93\n",
       "C389.511 238.264 388.618 240.074 388.618 241.96\n",
       "C388.618 243.847 389.511 245.656 391.1 246.99\n",
       "C392.69 248.325 394.846 249.074 397.094 249.074\n",
       "z\n",
       "\" style=\"fill:#008000;stroke:#000000;stroke-linejoin:miter;\"/>\n",
       "   </g>\n",
       "   <g id=\"RES-1b-a-dman-HEX-1-5-12\">\n",
       "    <path clip-path=\"url(#p20201a9eeb)\" d=\"\n",
       "M342 295.315\n",
       "C344.248 295.315 346.404 294.565 347.993 293.231\n",
       "C349.583 291.897 350.476 290.087 350.476 288.201\n",
       "C350.476 286.314 349.583 284.505 347.993 283.17\n",
       "C346.404 281.836 344.248 281.087 342 281.087\n",
       "C339.752 281.087 337.596 281.836 336.007 283.17\n",
       "C334.417 284.505 333.524 286.314 333.524 288.201\n",
       "C333.524 290.087 334.417 291.897 336.007 293.231\n",
       "C337.596 294.565 339.752 295.315 342 295.315\n",
       "z\n",
       "\" style=\"fill:#008000;stroke:#000000;stroke-linejoin:miter;\"/>\n",
       "   </g>\n",
       "   <g id=\"RES-1b-b-dglc-HEX-1-5-2s-n-acetyl-LIN-1-1d-2+1-2n-14\">\n",
       "    <path clip-path=\"url(#p20201a9eeb)\" d=\"\n",
       "M295.382 304.207\n",
       "L295.382 318.435\n",
       "L278.43 318.435\n",
       "L278.43 304.207\n",
       "L295.382 304.207\n",
       "z\n",
       "\" style=\"fill:#0000ff;stroke:#000000;stroke-linejoin:miter;\"/>\n",
       "   </g>\n",
       "   <g id=\"RES-1b-a-lgal-HEX-1-5-6-d-17\">\n",
       "    <path clip-path=\"url(#p20201a9eeb)\" d=\"\n",
       "M286.906 281.087\n",
       "L279.566 291.758\n",
       "L294.247 291.758\n",
       "z\n",
       "\" style=\"fill:#ff0000;stroke:#000000;stroke-linejoin:miter;\"/>\n",
       "   </g>\n",
       "   <g id=\"RES-1b-b-dgal-HEX-1-5-15\">\n",
       "    <path clip-path=\"url(#p20201a9eeb)\" d=\"\n",
       "M231.813 318.435\n",
       "C234.061 318.435 236.217 317.685 237.806 316.351\n",
       "C239.396 315.017 240.289 313.208 240.289 311.321\n",
       "C240.289 309.434 239.396 307.625 237.806 306.291\n",
       "C236.217 304.957 234.061 304.207 231.813 304.207\n",
       "C229.565 304.207 227.409 304.957 225.819 306.291\n",
       "C224.23 307.625 223.337 309.434 223.337 311.321\n",
       "C223.337 313.208 224.23 315.017 225.819 316.351\n",
       "C227.409 317.685 229.565 318.435 231.813 318.435\n",
       "z\n",
       "\" style=\"fill:#ffff00;stroke:#000000;stroke-linejoin:miter;\"/>\n",
       "   </g>\n",
       "   <g id=\"RES-1b-a-dgro-dgal-NON-2-6-1-a-2-keto-3-d-2s-n-glycolyl-LIN-1-1d-5+1-2n-16\">\n",
       "    <path clip-path=\"url(#p20201a9eeb)\" d=\"\n",
       "M176.719 304.207\n",
       "L168.243 311.321\n",
       "L176.719 318.435\n",
       "L185.195 311.321\n",
       "z\n",
       "\" style=\"fill:#add8e6;stroke:#000000;stroke-linejoin:miter;\"/>\n",
       "   </g>\n",
       "   <g id=\"RES-1b-b-dglc-HEX-1-5-2s-n-acetyl-LIN-1-1d-2+1-2n-13\">\n",
       "    <path clip-path=\"url(#p20201a9eeb)\" d=\"\n",
       "M295.382 257.967\n",
       "L295.382 272.194\n",
       "L278.43 272.194\n",
       "L278.43 257.967\n",
       "L295.382 257.967\n",
       "z\n",
       "\" style=\"fill:#0000ff;stroke:#000000;stroke-linejoin:miter;\"/>\n",
       "   </g>\n",
       "   <g id=\"RES-1b-a-dman-HEX-1-5-4\">\n",
       "    <path clip-path=\"url(#p20201a9eeb)\" d=\"\n",
       "M342 202.833\n",
       "C344.248 202.833 346.404 202.084 347.993 200.75\n",
       "C349.583 199.416 350.476 197.606 350.476 195.72\n",
       "C350.476 193.833 349.583 192.023 347.993 190.689\n",
       "C346.404 189.355 344.248 188.606 342 188.606\n",
       "C339.752 188.606 337.596 189.355 336.007 190.689\n",
       "C334.417 192.023 333.524 193.833 333.524 195.72\n",
       "C333.524 197.606 334.417 199.416 336.007 200.75\n",
       "C337.596 202.084 339.752 202.833 342 202.833\n",
       "z\n",
       "\" style=\"fill:#008000;stroke:#000000;stroke-linejoin:miter;\"/>\n",
       "   </g>\n",
       "   <g id=\"RES-1b-b-dglc-HEX-1-5-2s-n-acetyl-LIN-1-1d-2+1-2n-9\">\n",
       "    <path clip-path=\"url(#p20201a9eeb)\" d=\"\n",
       "M295.382 211.726\n",
       "L295.382 225.954\n",
       "L278.43 225.954\n",
       "L278.43 211.726\n",
       "L295.382 211.726\n",
       "z\n",
       "\" style=\"fill:#0000ff;stroke:#000000;stroke-linejoin:miter;\"/>\n",
       "   </g>\n",
       "   <g id=\"RES-1b-b-dgal-HEX-1-5-10\">\n",
       "    <path clip-path=\"url(#p20201a9eeb)\" d=\"\n",
       "M231.813 225.954\n",
       "C234.061 225.954 236.217 225.204 237.806 223.87\n",
       "C239.396 222.536 240.289 220.726 240.289 218.84\n",
       "C240.289 216.953 239.396 215.144 237.806 213.81\n",
       "C236.217 212.475 234.061 211.726 231.813 211.726\n",
       "C229.565 211.726 227.409 212.475 225.819 213.81\n",
       "C224.23 215.144 223.337 216.953 223.337 218.84\n",
       "C223.337 220.726 224.23 222.536 225.819 223.87\n",
       "C227.409 225.204 229.565 225.954 231.813 225.954\n",
       "z\n",
       "\" style=\"fill:#ffff00;stroke:#000000;stroke-linejoin:miter;\"/>\n",
       "   </g>\n",
       "   <g id=\"RES-1b-a-dgro-dgal-NON-2-6-1-a-2-keto-3-d-2s-n-glycolyl-LIN-1-1d-5+1-2n-11\">\n",
       "    <path clip-path=\"url(#p20201a9eeb)\" d=\"\n",
       "M176.719 211.726\n",
       "L168.243 218.84\n",
       "L176.719 225.954\n",
       "L185.195 218.84\n",
       "z\n",
       "\" style=\"fill:#add8e6;stroke:#000000;stroke-linejoin:miter;\"/>\n",
       "   </g>\n",
       "   <g id=\"RES-1b-b-dglc-HEX-1-5-2s-n-acetyl-LIN-1-1d-2+1-2n-5\">\n",
       "    <path clip-path=\"url(#p20201a9eeb)\" d=\"\n",
       "M295.382 165.485\n",
       "L295.382 179.713\n",
       "L278.43 179.713\n",
       "L278.43 165.485\n",
       "L295.382 165.485\n",
       "z\n",
       "\" style=\"fill:#0000ff;stroke:#000000;stroke-linejoin:miter;\"/>\n",
       "   </g>\n",
       "   <g id=\"RES-1b-a-lgal-HEX-1-5-6-d-8\">\n",
       "    <path clip-path=\"url(#p20201a9eeb)\" d=\"\n",
       "M286.906 142.365\n",
       "L279.566 153.036\n",
       "L294.247 153.036\n",
       "z\n",
       "\" style=\"fill:#ff0000;stroke:#000000;stroke-linejoin:miter;\"/>\n",
       "   </g>\n",
       "   <g id=\"RES-1b-b-dgal-HEX-1-5-6\">\n",
       "    <path clip-path=\"url(#p20201a9eeb)\" d=\"\n",
       "M231.813 179.713\n",
       "C234.061 179.713 236.217 178.964 237.806 177.63\n",
       "C239.396 176.295 240.289 174.486 240.289 172.599\n",
       "C240.289 170.713 239.396 168.903 237.806 167.569\n",
       "C236.217 166.235 234.061 165.485 231.813 165.485\n",
       "C229.565 165.485 227.409 166.235 225.819 167.569\n",
       "C224.23 168.903 223.337 170.713 223.337 172.599\n",
       "C223.337 174.486 224.23 176.295 225.819 177.63\n",
       "C227.409 178.964 229.565 179.713 231.813 179.713\n",
       "z\n",
       "\" style=\"fill:#ffff00;stroke:#000000;stroke-linejoin:miter;\"/>\n",
       "   </g>\n",
       "   <g id=\"RES-1b-a-dgro-dgal-NON-2-6-1-a-2-keto-3-d-2s-n-glycolyl-LIN-1-1d-5+1-2n-7\">\n",
       "    <path clip-path=\"url(#p20201a9eeb)\" d=\"\n",
       "M176.719 165.485\n",
       "L168.243 172.599\n",
       "L176.719 179.713\n",
       "L185.195 172.599\n",
       "z\n",
       "\" style=\"fill:#add8e6;stroke:#000000;stroke-linejoin:miter;\"/>\n",
       "   </g>\n",
       "   <g id=\"patch_3\">\n",
       "    <path d=\"\n",
       "M7.2 7.2\n",
       "L676.8 7.2\" style=\"fill:none;stroke:#000000;stroke-linecap:square;stroke-linejoin:miter;\"/>\n",
       "   </g>\n",
       "   <g id=\"patch_4\">\n",
       "    <path d=\"\n",
       "M676.8 453.6\n",
       "L676.8 7.2\" style=\"fill:none;stroke:#000000;stroke-linecap:square;stroke-linejoin:miter;\"/>\n",
       "   </g>\n",
       "   <g id=\"patch_5\">\n",
       "    <path d=\"\n",
       "M7.2 453.6\n",
       "L676.8 453.6\" style=\"fill:none;stroke:#000000;stroke-linecap:square;stroke-linejoin:miter;\"/>\n",
       "   </g>\n",
       "   <g id=\"patch_6\">\n",
       "    <path d=\"\n",
       "M7.2 453.6\n",
       "L7.2 7.2\" style=\"fill:none;stroke:#000000;stroke-linecap:square;stroke-linejoin:miter;\"/>\n",
       "   </g>\n",
       "   <g id=\"line2d_17\">\n",
       "    <path clip-path=\"url(#p20201a9eeb)\" d=\"\n",
       "M269.954 297.093\n",
       "L303.858 325.549\" style=\"fill:none;stroke:#ff0000;stroke-linecap:square;\"/>\n",
       "   </g>\n",
       "   <g id=\"line2d_18\">\n",
       "    <path clip-path=\"url(#p20201a9eeb)\" d=\"\n",
       "M269.954 158.371\n",
       "L303.858 186.827\" style=\"fill:none;stroke:#ff0000;stroke-linecap:square;\"/>\n",
       "   </g>\n",
       "   <g id=\"line2d_19\">\n",
       "    <path clip-path=\"url(#p20201a9eeb)\" d=\"\n",
       "M269.954 204.612\n",
       "L303.858 233.068\" style=\"fill:none;stroke:#ff0000;stroke-linecap:square;\"/>\n",
       "   </g>\n",
       "   <g id=\"line2d_20\">\n",
       "    <path clip-path=\"url(#p20201a9eeb)\" d=\"\n",
       "M269.954 135.251\n",
       "L303.858 163.707\" style=\"fill:none;stroke:#ff0000;stroke-linecap:square;\"/>\n",
       "   </g>\n",
       "   <g id=\"line2d_21\">\n",
       "    <path clip-path=\"url(#p20201a9eeb)\" d=\"\n",
       "M269.954 273.973\n",
       "L303.858 302.429\" style=\"fill:none;stroke:#ff0000;stroke-linecap:square;\"/>\n",
       "   </g>\n",
       "   <g id=\"line2d_22\">\n",
       "    <path clip-path=\"url(#p20201a9eeb)\" d=\"\n",
       "M269.954 273.973\n",
       "L303.858 302.429\" style=\"fill:none;stroke:#ff0000;stroke-linecap:square;\"/>\n",
       "   </g>\n",
       "   <g id=\"line2d_23\">\n",
       "    <path clip-path=\"url(#p20201a9eeb)\" d=\"\n",
       "M269.954 135.251\n",
       "L303.858 163.707\" style=\"fill:none;stroke:#ff0000;stroke-linecap:square;\"/>\n",
       "   </g>\n",
       "  </g>\n",
       " </g>\n",
       " <defs>\n",
       "  <clipPath id=\"p20201a9eeb\">\n",
       "   <rect height=\"446.4\" width=\"669.6\" x=\"7.2\" y=\"7.2\"/>\n",
       "  </clipPath>\n",
       " </defs>\n",
       "</svg>\n"
      ],
      "text/plain": [
       "<matplotlib.figure.Figure at 0x121adf28>"
      ]
     },
     "metadata": {},
     "output_type": "display_data"
    },
    {
     "data": {
      "text/plain": [
       "14"
      ]
     },
     "metadata": {},
     "output_type": "display_data"
    },
    {
     "data": {
      "text/plain": [
       "3756.940641764469"
      ]
     },
     "metadata": {},
     "output_type": "display_data"
    },
    {
     "data": {
      "text/plain": [
       "'Fragments Observed / Expected: 0.195'"
      ]
     },
     "metadata": {},
     "output_type": "display_data"
    },
    {
     "data": {
      "text/plain": [
       "'Bb1 188.106427 3 [83418.838919, 85178.770832, 82789.362288]'"
      ]
     },
     "metadata": {},
     "output_type": "display_data"
    },
    {
     "data": {
      "text/plain": [
       "'Bd1 259.14644 1 [19169.352109]'"
      ]
     },
     "metadata": {},
     "output_type": "display_data"
    },
    {
     "data": {
      "text/plain": [
       "'Bh1 375.192663 3 [187376.367607, 166580.072498, 165478.724611]'"
      ]
     },
     "metadata": {},
     "output_type": "display_data"
    },
    {
     "data": {
      "text/plain": [
       "'1,4Ai1 377.197442 1 [4705.927336]'"
      ]
     },
     "metadata": {},
     "output_type": "display_data"
    },
    {
     "data": {
      "text/plain": [
       "'1,4Ag2 377.197442 1 [4705.927336]'"
      ]
     },
     "metadata": {},
     "output_type": "display_data"
    },
    {
     "data": {
      "text/plain": [
       "'1,4Af2 377.197442 1 [4705.927336]'"
      ]
     },
     "metadata": {},
     "output_type": "display_data"
    },
    {
     "data": {
      "text/plain": [
       "'1,3Ah1 449.230126 3 [43570.018907, 62155.228211, 66415.775348]'"
      ]
     },
     "metadata": {},
     "output_type": "display_data"
    },
    {
     "data": {
      "text/plain": [
       "'2,4Ah1 449.230126 3 [43570.018907, 62155.228211, 66415.775348]'"
      ]
     },
     "metadata": {},
     "output_type": "display_data"
    },
    {
     "data": {
      "text/plain": [
       "'Bg2 463.245444 2 [1804.894478, 873.999732]'"
      ]
     },
     "metadata": {},
     "output_type": "display_data"
    },
    {
     "data": {
      "text/plain": [
       "'Bf2 463.245444 2 [1804.894478, 873.999732]'"
      ]
     },
     "metadata": {},
     "output_type": "display_data"
    },
    {
     "data": {
      "text/plain": [
       "'Bi2 463.245444 2 [1804.894478, 873.999732]'"
      ]
     },
     "metadata": {},
     "output_type": "display_data"
    },
    {
     "data": {
      "text/plain": [
       "'Ya1 482.298863 1 [196.812227]'"
      ]
     },
     "metadata": {},
     "output_type": "display_data"
    },
    {
     "data": {
      "text/plain": [
       "'Bh2 579.29104 2 [2194.618999, 1729.687228]'"
      ]
     },
     "metadata": {},
     "output_type": "display_data"
    },
    {
     "data": {
      "text/plain": [
       "'2,4Ah2 653.328129 2 [1179.086184, 2653.70011]'"
      ]
     },
     "metadata": {},
     "output_type": "display_data"
    },
    {
     "data": {
      "text/plain": [
       "'Bh3 824.421843 3 [3840.581785, 37665.312604, 56869.44922]'"
      ]
     },
     "metadata": {},
     "output_type": "display_data"
    },
    {
     "data": {
      "text/plain": [
       "'1,3Ai2 898.449219 1 [232.025814]'"
      ]
     },
     "metadata": {},
     "output_type": "display_data"
    },
    {
     "data": {
      "text/plain": [
       "'1,5Ai2 1449.723994 1 [451.018617]'"
      ]
     },
     "metadata": {},
     "output_type": "display_data"
    },
    {
     "data": {
      "text/plain": [
       "'3,5Aa1 1449.723994 1 [451.018617]'"
      ]
     },
     "metadata": {},
     "output_type": "display_data"
    },
    {
     "data": {
      "text/plain": [
       "'1,4Xa2 1915.972543 1 [1092.637907]'"
      ]
     },
     "metadata": {},
     "output_type": "display_data"
    },
    {
     "data": {
      "text/plain": [
       "'1,3Xa2 2205.136262 1 [1353.169252]'"
      ]
     },
     "metadata": {},
     "output_type": "display_data"
    },
    {
     "data": {
      "text/plain": [
       "'0,3Xa2 2291.177629 1 [5373.284649]'"
      ]
     },
     "metadata": {},
     "output_type": "display_data"
    },
    {
     "data": {
      "text/plain": [
       "'1,4Xi4 2365.244902 1 [307.711961]'"
      ]
     },
     "metadata": {},
     "output_type": "display_data"
    },
    {
     "data": {
      "text/plain": [
       "'Ye3 2640.363628 1 [678.518499]'"
      ]
     },
     "metadata": {},
     "output_type": "display_data"
    },
    {
     "data": {
      "text/plain": [
       "'1,5Xe3 2668.353732 2 [47.823281, 12541.683269]'"
      ]
     },
     "metadata": {},
     "output_type": "display_data"
    },
    {
     "data": {
      "text/plain": [
       "'Yh4 2932.5343 4 [5071.307623, 76695.023126, 15400.364887, 1921.033165]'"
      ]
     },
     "metadata": {},
     "output_type": "display_data"
    },
    {
     "data": {
      "text/plain": [
       "'2,5Aa1 2957.490939 1 [378.469889]'"
      ]
     },
     "metadata": {},
     "output_type": "display_data"
    },
    {
     "data": {
      "text/plain": [
       "'0,2Aa1 2973.494773 2 [100369.476196, 7241.297775]'"
      ]
     },
     "metadata": {},
     "output_type": "display_data"
    },
    {
     "data": {
      "text/plain": [
       "'0,2Xe3 3145.650081 1 [1092.564761]'"
      ]
     },
     "metadata": {},
     "output_type": "display_data"
    },
    {
     "data": {
      "text/plain": [
       "'0,2Xi4 3145.650081 1 [1092.564761]'"
      ]
     },
     "metadata": {},
     "output_type": "display_data"
    },
    {
     "data": {
      "text/plain": [
       "'Zh5 3159.59633 1 [1089.393303]'"
      ]
     },
     "metadata": {},
     "output_type": "display_data"
    },
    {
     "data": {
      "text/plain": [
       "'2,5Aa2 3161.579039 2 [1849.479001, 319.327624]'"
      ]
     },
     "metadata": {},
     "output_type": "display_data"
    },
    {
     "data": {
      "text/plain": [
       "'2,5Xe3 3161.639921 2 [1849.479001, 319.327624]'"
      ]
     },
     "metadata": {},
     "output_type": "display_data"
    },
    {
     "data": {
      "text/plain": [
       "'2,5Xi4 3161.639921 2 [1849.479001, 319.327624]'"
      ]
     },
     "metadata": {},
     "output_type": "display_data"
    },
    {
     "data": {
      "text/plain": [
       "'1,4Xe3 3175.584207 1 [221.664793]'"
      ]
     },
     "metadata": {},
     "output_type": "display_data"
    },
    {
     "data": {
      "text/plain": [
       "'Yh5 3177.619424 1 [18800.821354]'"
      ]
     },
     "metadata": {},
     "output_type": "display_data"
    },
    {
     "data": {
      "text/plain": [
       "'0,2Aa2 3177.619424 1 [18800.821354]'"
      ]
     },
     "metadata": {},
     "output_type": "display_data"
    },
    {
     "data": {
      "text/plain": [
       "'Ba2 3274.645415 4 [12240.444488, 10730.361818, 32711.183882, 3242.905735]'"
      ]
     },
     "metadata": {},
     "output_type": "display_data"
    },
    {
     "data": {
      "text/plain": [
       "'Zh6 3363.710191 1 [898.574033]'"
      ]
     },
     "metadata": {},
     "output_type": "display_data"
    },
    {
     "data": {
      "text/plain": [
       "'1,4Xg4 3379.716586 1 [285.849274]'"
      ]
     },
     "metadata": {},
     "output_type": "display_data"
    },
    {
     "data": {
      "text/plain": [
       "'1,4Xi5 3379.716586 1 [285.849274]'"
      ]
     },
     "metadata": {},
     "output_type": "display_data"
    },
    {
     "data": {
      "text/plain": [
       "'1,4Xf4 3379.716586 1 [285.849274]'"
      ]
     },
     "metadata": {},
     "output_type": "display_data"
    },
    {
     "data": {
      "text/plain": [
       "'Yh6 3381.734763 2 [65952.44229, 12967.158072]'"
      ]
     },
     "metadata": {},
     "output_type": "display_data"
    },
    {
     "data": {
      "text/plain": [
       "'0,2Xf4 3390.73276 1 [359.448956]'"
      ]
     },
     "metadata": {},
     "output_type": "display_data"
    },
    {
     "data": {
      "text/plain": [
       "'0,2Xi5 3390.73276 1 [359.448956]'"
      ]
     },
     "metadata": {},
     "output_type": "display_data"
    },
    {
     "data": {
      "text/plain": [
       "'0,2Xg4 3390.73276 1 [359.448956]'"
      ]
     },
     "metadata": {},
     "output_type": "display_data"
    },
    {
     "data": {
      "text/plain": [
       "'1,5Xd3 3467.738772 1 [866.148987]'"
      ]
     },
     "metadata": {},
     "output_type": "display_data"
    },
    {
     "data": {
      "text/plain": [
       "'Yg5 3538.827217 1 [20936.428038]'"
      ]
     },
     "metadata": {},
     "output_type": "display_data"
    },
    {
     "data": {
      "text/plain": [
       "'Yi5 3538.827217 1 [20936.428038]'"
      ]
     },
     "metadata": {},
     "output_type": "display_data"
    },
    {
     "data": {
      "text/plain": [
       "'Yf5 3538.827217 1 [20936.428038]'"
      ]
     },
     "metadata": {},
     "output_type": "display_data"
    },
    {
     "data": {
      "text/plain": [
       "'Yb1 3568.825752 3 [14316.631784, 50120.974812, 9321.913216]'"
      ]
     },
     "metadata": {},
     "output_type": "display_data"
    },
    {
     "data": {
      "text/plain": [
       "'1,5Xb1 3596.808761 1 [155.828706]'"
      ]
     },
     "metadata": {},
     "output_type": "display_data"
    },
    {
     "data": {
      "image/svg+xml": [
       "<?xml version=\"1.0\" encoding=\"utf-8\" standalone=\"no\"?>\n",
       "<!DOCTYPE svg PUBLIC \"-//W3C//DTD SVG 1.1//EN\"\n",
       "  \"http://www.w3.org/Graphics/SVG/1.1/DTD/svg11.dtd\">\n",
       "<!-- Created with matplotlib (http://matplotlib.org/) -->\n",
       "<svg height=\"460pt\" version=\"1.1\" viewBox=\"0 0 684 460\" width=\"684pt\" xmlns=\"http://www.w3.org/2000/svg\" xmlns:xlink=\"http://www.w3.org/1999/xlink\">\n",
       " <defs>\n",
       "  <style type=\"text/css\">\n",
       "*{stroke-linecap:butt;stroke-linejoin:round;}\n",
       "  </style>\n",
       " </defs>\n",
       " <g id=\"figure_1\">\n",
       "  <g id=\"patch_1\">\n",
       "   <path d=\"\n",
       "M0 460.8\n",
       "L684 460.8\n",
       "L684 0\n",
       "L0 0\n",
       "L0 460.8\" style=\"fill:none;\"/>\n",
       "  </g>\n",
       "  <g id=\"axes_1\">\n",
       "   <g id=\"patch_2\">\n",
       "    <path d=\"\n",
       "M7.2 453.6\n",
       "L676.8 453.6\n",
       "L676.8 7.2\n",
       "L7.2 7.2\n",
       "L7.2 453.6\" style=\"fill:none;\"/>\n",
       "   </g>\n",
       "   <g id=\"line2d_1\">\n",
       "    <path clip-path=\"url(#p20201a9eeb)\" d=\"\n",
       "M231.813 303.55\n",
       "L176.719 303.55\" style=\"fill:none;stroke:#000000;stroke-linecap:square;\"/>\n",
       "   </g>\n",
       "   <g id=\"line2d_2\">\n",
       "    <path clip-path=\"url(#p20201a9eeb)\" d=\"\n",
       "M286.906 303.55\n",
       "L231.813 303.55\" style=\"fill:none;stroke:#000000;stroke-linecap:square;\"/>\n",
       "   </g>\n",
       "   <g id=\"line2d_3\">\n",
       "    <path clip-path=\"url(#p20201a9eeb)\" d=\"\n",
       "M342 279.166\n",
       "L286.906 303.55\" style=\"fill:none;stroke:#000000;stroke-linecap:square;\"/>\n",
       "   </g>\n",
       "   <g id=\"line2d_4\">\n",
       "    <path clip-path=\"url(#p20201a9eeb)\" d=\"\n",
       "M286.906 254.783\n",
       "L231.813 254.783\" style=\"fill:none;stroke:#000000;stroke-linecap:square;\"/>\n",
       "   </g>\n",
       "   <g id=\"line2d_5\">\n",
       "    <path clip-path=\"url(#p20201a9eeb)\" d=\"\n",
       "M342 279.166\n",
       "L286.906 254.783\" style=\"fill:none;stroke:#000000;stroke-linecap:square;\"/>\n",
       "   </g>\n",
       "   <g id=\"line2d_6\">\n",
       "    <path clip-path=\"url(#p20201a9eeb)\" d=\"\n",
       "M397.094 230.4\n",
       "L342 279.166\" style=\"fill:none;stroke:#000000;stroke-linecap:square;\"/>\n",
       "   </g>\n",
       "   <g id=\"line2d_7\">\n",
       "    <path clip-path=\"url(#p20201a9eeb)\" d=\"\n",
       "M397.094 230.4\n",
       "L342 230.4\" style=\"fill:none;stroke:#000000;stroke-linecap:square;\"/>\n",
       "   </g>\n",
       "   <g id=\"line2d_8\">\n",
       "    <path clip-path=\"url(#p20201a9eeb)\" d=\"\n",
       "M286.906 206.017\n",
       "L231.813 206.017\" style=\"fill:none;stroke:#000000;stroke-linecap:square;\"/>\n",
       "   </g>\n",
       "   <g id=\"line2d_9\">\n",
       "    <path clip-path=\"url(#p20201a9eeb)\" d=\"\n",
       "M342 181.634\n",
       "L286.906 206.017\" style=\"fill:none;stroke:#000000;stroke-linecap:square;\"/>\n",
       "   </g>\n",
       "   <g id=\"line2d_10\">\n",
       "    <path clip-path=\"url(#p20201a9eeb)\" d=\"\n",
       "M286.906 157.25\n",
       "L231.813 157.25\" style=\"fill:none;stroke:#000000;stroke-linecap:square;\"/>\n",
       "   </g>\n",
       "   <g id=\"line2d_11\">\n",
       "    <path clip-path=\"url(#p20201a9eeb)\" d=\"\n",
       "M342 181.634\n",
       "L286.906 157.25\" style=\"fill:none;stroke:#000000;stroke-linecap:square;\"/>\n",
       "   </g>\n",
       "   <g id=\"line2d_12\">\n",
       "    <path clip-path=\"url(#p20201a9eeb)\" d=\"\n",
       "M397.094 230.4\n",
       "L342 181.634\" style=\"fill:none;stroke:#000000;stroke-linecap:square;\"/>\n",
       "   </g>\n",
       "   <g id=\"line2d_13\">\n",
       "    <path clip-path=\"url(#p20201a9eeb)\" d=\"\n",
       "M452.187 230.4\n",
       "L397.094 230.4\" style=\"fill:none;stroke:#000000;stroke-linecap:square;\"/>\n",
       "   </g>\n",
       "   <g id=\"line2d_14\">\n",
       "    <path clip-path=\"url(#p20201a9eeb)\" d=\"\n",
       "M507.281 230.4\n",
       "L452.187 230.4\" style=\"fill:none;stroke:#000000;stroke-linecap:square;\"/>\n",
       "   </g>\n",
       "   <g id=\"line2d_15\">\n",
       "    <path clip-path=\"url(#p20201a9eeb)\" d=\"\n",
       "M507.281 230.4\n",
       "L507.281 206.017\" style=\"fill:none;stroke:#000000;stroke-linecap:square;\"/>\n",
       "   </g>\n",
       "   <g id=\"RES-1b-o-dglc-HEX-0-0-1-aldi-2s-n-acetyl-LIN-1-1d-2+1-2n-1\">\n",
       "    <path clip-path=\"url(#p20201a9eeb)\" d=\"\n",
       "M515.757 222.897\n",
       "L515.757 237.903\n",
       "L498.805 237.903\n",
       "L498.805 222.897\n",
       "L515.757 222.897\n",
       "z\n",
       "\" style=\"fill:#0000ff;stroke:#000000;stroke-linejoin:miter;\"/>\n",
       "   </g>\n",
       "   <g id=\"RES-1b-b-dglc-HEX-1-5-2s-n-acetyl-LIN-1-1d-2+1-2n-2\">\n",
       "    <path clip-path=\"url(#p20201a9eeb)\" d=\"\n",
       "M460.663 222.897\n",
       "L460.663 237.903\n",
       "L443.711 237.903\n",
       "L443.711 222.897\n",
       "L460.663 222.897\n",
       "z\n",
       "\" style=\"fill:#0000ff;stroke:#000000;stroke-linejoin:miter;\"/>\n",
       "   </g>\n",
       "   <g id=\"RES-1b-b-dman-HEX-1-5-3\">\n",
       "    <path clip-path=\"url(#p20201a9eeb)\" d=\"\n",
       "M397.094 237.903\n",
       "C399.342 237.903 401.498 237.112 403.087 235.705\n",
       "C404.677 234.298 405.57 232.39 405.57 230.4\n",
       "C405.57 228.41 404.677 226.502 403.087 225.095\n",
       "C401.498 223.688 399.342 222.897 397.094 222.897\n",
       "C394.846 222.897 392.69 223.688 391.1 225.095\n",
       "C389.511 226.502 388.618 228.41 388.618 230.4\n",
       "C388.618 232.39 389.511 234.298 391.1 235.705\n",
       "C392.69 237.112 394.846 237.903 397.094 237.903\n",
       "z\n",
       "\" style=\"fill:#008000;stroke:#000000;stroke-linejoin:miter;\"/>\n",
       "   </g>\n",
       "   <g id=\"RES-1b-a-dman-HEX-1-5-10\">\n",
       "    <path clip-path=\"url(#p20201a9eeb)\" d=\"\n",
       "M342 286.669\n",
       "C344.248 286.669 346.404 285.878 347.993 284.471\n",
       "C349.583 283.065 350.476 281.156 350.476 279.166\n",
       "C350.476 277.177 349.583 275.268 347.993 273.861\n",
       "C346.404 272.454 344.248 271.664 342 271.664\n",
       "C339.752 271.664 337.596 272.454 336.007 273.861\n",
       "C334.417 275.268 333.524 277.177 333.524 279.166\n",
       "C333.524 281.156 334.417 283.065 336.007 284.471\n",
       "C337.596 285.878 339.752 286.669 342 286.669\n",
       "z\n",
       "\" style=\"fill:#008000;stroke:#000000;stroke-linejoin:miter;\"/>\n",
       "   </g>\n",
       "   <g id=\"RES-1b-b-dglc-HEX-1-5-2s-n-acetyl-LIN-1-1d-2+1-2n-13\">\n",
       "    <path clip-path=\"url(#p20201a9eeb)\" d=\"\n",
       "M295.382 296.047\n",
       "L295.382 311.052\n",
       "L278.43 311.052\n",
       "L278.43 296.047\n",
       "L295.382 296.047\n",
       "z\n",
       "\" style=\"fill:#0000ff;stroke:#000000;stroke-linejoin:miter;\"/>\n",
       "   </g>\n",
       "   <g id=\"RES-1b-b-dgal-HEX-1-5-14\">\n",
       "    <path clip-path=\"url(#p20201a9eeb)\" d=\"\n",
       "M231.813 311.052\n",
       "C234.061 311.052 236.217 310.262 237.806 308.855\n",
       "C239.396 307.448 240.289 305.539 240.289 303.55\n",
       "C240.289 301.56 239.396 299.651 237.806 298.244\n",
       "C236.217 296.838 234.061 296.047 231.813 296.047\n",
       "C229.565 296.047 227.409 296.838 225.819 298.244\n",
       "C224.23 299.651 223.337 301.56 223.337 303.55\n",
       "C223.337 305.539 224.23 307.448 225.819 308.855\n",
       "C227.409 310.262 229.565 311.052 231.813 311.052\n",
       "z\n",
       "\" style=\"fill:#ffff00;stroke:#000000;stroke-linejoin:miter;\"/>\n",
       "   </g>\n",
       "   <g id=\"RES-1b-a-dgro-dgal-NON-2-6-1-a-2-keto-3-d-2s-n-acetyl-LIN-1-1d-5+1-2n-15\">\n",
       "    <path clip-path=\"url(#p20201a9eeb)\" d=\"\n",
       "M176.719 296.047\n",
       "L168.243 303.55\n",
       "L176.719 311.052\n",
       "L185.195 303.55\n",
       "z\n",
       "\" style=\"fill:#800080;stroke:#000000;stroke-linejoin:miter;\"/>\n",
       "   </g>\n",
       "   <g id=\"RES-1b-b-dglc-HEX-1-5-2s-n-acetyl-LIN-1-1d-2+1-2n-11\">\n",
       "    <path clip-path=\"url(#p20201a9eeb)\" d=\"\n",
       "M295.382 247.281\n",
       "L295.382 262.286\n",
       "L278.43 262.286\n",
       "L278.43 247.281\n",
       "L295.382 247.281\n",
       "z\n",
       "\" style=\"fill:#0000ff;stroke:#000000;stroke-linejoin:miter;\"/>\n",
       "   </g>\n",
       "   <g id=\"RES-1b-b-dgal-HEX-1-5-12\">\n",
       "    <path clip-path=\"url(#p20201a9eeb)\" d=\"\n",
       "M231.813 262.286\n",
       "C234.061 262.286 236.217 261.495 237.806 260.088\n",
       "C239.396 258.681 240.289 256.773 240.289 254.783\n",
       "C240.289 252.794 239.396 250.885 237.806 249.478\n",
       "C236.217 248.071 234.061 247.281 231.813 247.281\n",
       "C229.565 247.281 227.409 248.071 225.819 249.478\n",
       "C224.23 250.885 223.337 252.794 223.337 254.783\n",
       "C223.337 256.773 224.23 258.681 225.819 260.088\n",
       "C227.409 261.495 229.565 262.286 231.813 262.286\n",
       "z\n",
       "\" style=\"fill:#ffff00;stroke:#000000;stroke-linejoin:miter;\"/>\n",
       "   </g>\n",
       "   <g id=\"RES-1b-b-dglc-HEX-1-5-2s-n-acetyl-LIN-1-1d-2+1-2n-9\">\n",
       "    <path clip-path=\"url(#p20201a9eeb)\" d=\"\n",
       "M350.476 222.897\n",
       "L350.476 237.903\n",
       "L333.524 237.903\n",
       "L333.524 222.897\n",
       "L350.476 222.897\n",
       "z\n",
       "\" style=\"fill:#0000ff;stroke:#000000;stroke-linejoin:miter;\"/>\n",
       "   </g>\n",
       "   <g id=\"RES-1b-a-dman-HEX-1-5-4\">\n",
       "    <path clip-path=\"url(#p20201a9eeb)\" d=\"\n",
       "M342 189.136\n",
       "C344.248 189.136 346.404 188.346 347.993 186.939\n",
       "C349.583 185.532 350.476 183.623 350.476 181.634\n",
       "C350.476 179.644 349.583 177.735 347.993 176.329\n",
       "C346.404 174.922 344.248 174.131 342 174.131\n",
       "C339.752 174.131 337.596 174.922 336.007 176.329\n",
       "C334.417 177.735 333.524 179.644 333.524 181.634\n",
       "C333.524 183.623 334.417 185.532 336.007 186.939\n",
       "C337.596 188.346 339.752 189.136 342 189.136\n",
       "z\n",
       "\" style=\"fill:#008000;stroke:#000000;stroke-linejoin:miter;\"/>\n",
       "   </g>\n",
       "   <g id=\"RES-1b-b-dglc-HEX-1-5-2s-n-acetyl-LIN-1-1d-2+1-2n-7\">\n",
       "    <path clip-path=\"url(#p20201a9eeb)\" d=\"\n",
       "M295.382 198.514\n",
       "L295.382 213.519\n",
       "L278.43 213.519\n",
       "L278.43 198.514\n",
       "L295.382 198.514\n",
       "z\n",
       "\" style=\"fill:#0000ff;stroke:#000000;stroke-linejoin:miter;\"/>\n",
       "   </g>\n",
       "   <g id=\"RES-1b-b-dgal-HEX-1-5-8\">\n",
       "    <path clip-path=\"url(#p20201a9eeb)\" d=\"\n",
       "M231.813 213.519\n",
       "C234.061 213.519 236.217 212.729 237.806 211.322\n",
       "C239.396 209.915 240.289 208.006 240.289 206.017\n",
       "C240.289 204.027 239.396 202.119 237.806 200.712\n",
       "C236.217 199.305 234.061 198.514 231.813 198.514\n",
       "C229.565 198.514 227.409 199.305 225.819 200.712\n",
       "C224.23 202.119 223.337 204.027 223.337 206.017\n",
       "C223.337 208.006 224.23 209.915 225.819 211.322\n",
       "C227.409 212.729 229.565 213.519 231.813 213.519\n",
       "z\n",
       "\" style=\"fill:#ffff00;stroke:#000000;stroke-linejoin:miter;\"/>\n",
       "   </g>\n",
       "   <g id=\"RES-1b-b-dglc-HEX-1-5-2s-n-acetyl-LIN-1-1d-2+1-2n-5\">\n",
       "    <path clip-path=\"url(#p20201a9eeb)\" d=\"\n",
       "M295.382 149.748\n",
       "L295.382 164.753\n",
       "L278.43 164.753\n",
       "L278.43 149.748\n",
       "L295.382 149.748\n",
       "z\n",
       "\" style=\"fill:#0000ff;stroke:#000000;stroke-linejoin:miter;\"/>\n",
       "   </g>\n",
       "   <g id=\"RES-1b-b-dgal-HEX-1-5-6\">\n",
       "    <path clip-path=\"url(#p20201a9eeb)\" d=\"\n",
       "M231.813 164.753\n",
       "C234.061 164.753 236.217 163.962 237.806 162.556\n",
       "C239.396 161.149 240.289 159.24 240.289 157.25\n",
       "C240.289 155.261 239.396 153.352 237.806 151.945\n",
       "C236.217 150.538 234.061 149.748 231.813 149.748\n",
       "C229.565 149.748 227.409 150.538 225.819 151.945\n",
       "C224.23 153.352 223.337 155.261 223.337 157.25\n",
       "C223.337 159.24 224.23 161.149 225.819 162.556\n",
       "C227.409 163.962 229.565 164.753 231.813 164.753\n",
       "z\n",
       "\" style=\"fill:#ffff00;stroke:#000000;stroke-linejoin:miter;\"/>\n",
       "   </g>\n",
       "   <g id=\"RES-1b-a-lgal-HEX-1-5-6-d-16\">\n",
       "    <path clip-path=\"url(#p20201a9eeb)\" d=\"\n",
       "M507.281 198.514\n",
       "L499.941 209.768\n",
       "L514.621 209.768\n",
       "z\n",
       "\" style=\"fill:#ff0000;stroke:#000000;stroke-linejoin:miter;\"/>\n",
       "   </g>\n",
       "   <g id=\"patch_3\">\n",
       "    <path d=\"\n",
       "M7.2 7.2\n",
       "L676.8 7.2\" style=\"fill:none;stroke:#000000;stroke-linecap:square;stroke-linejoin:miter;\"/>\n",
       "   </g>\n",
       "   <g id=\"patch_4\">\n",
       "    <path d=\"\n",
       "M676.8 453.6\n",
       "L676.8 7.2\" style=\"fill:none;stroke:#000000;stroke-linecap:square;stroke-linejoin:miter;\"/>\n",
       "   </g>\n",
       "   <g id=\"patch_5\">\n",
       "    <path d=\"\n",
       "M7.2 453.6\n",
       "L676.8 453.6\" style=\"fill:none;stroke:#000000;stroke-linecap:square;stroke-linejoin:miter;\"/>\n",
       "   </g>\n",
       "   <g id=\"patch_6\">\n",
       "    <path d=\"\n",
       "M7.2 453.6\n",
       "L7.2 7.2\" style=\"fill:none;stroke:#000000;stroke-linecap:square;stroke-linejoin:miter;\"/>\n",
       "   </g>\n",
       "   <g id=\"line2d_16\">\n",
       "    <path clip-path=\"url(#p20201a9eeb)\" d=\"\n",
       "M524.233 218.208\n",
       "L490.329 218.208\" style=\"fill:none;stroke:#ff0000;stroke-linecap:square;\"/>\n",
       "   </g>\n",
       "   <g id=\"line2d_17\">\n",
       "    <path clip-path=\"url(#p20201a9eeb)\" d=\"\n",
       "M369.547 215.395\n",
       "L369.547 245.405\" style=\"fill:none;stroke:#ff0000;stroke-linecap:square;\"/>\n",
       "   </g>\n",
       "   <g id=\"line2d_18\">\n",
       "    <path clip-path=\"url(#p20201a9eeb)\" d=\"\n",
       "M204.266 288.545\n",
       "L204.266 318.555\" style=\"fill:none;stroke:#ff0000;stroke-linecap:square;\"/>\n",
       "   </g>\n",
       "   <g id=\"line2d_19\">\n",
       "    <path clip-path=\"url(#p20201a9eeb)\" d=\"\n",
       "M269.954 239.778\n",
       "L303.858 269.788\" style=\"fill:none;stroke:#ff0000;stroke-linecap:square;\"/>\n",
       "   </g>\n",
       "   <g id=\"line2d_20\">\n",
       "    <path clip-path=\"url(#p20201a9eeb)\" d=\"\n",
       "M269.954 142.245\n",
       "L303.858 172.255\" style=\"fill:none;stroke:#ff0000;stroke-linecap:square;\"/>\n",
       "   </g>\n",
       "   <g id=\"line2d_21\">\n",
       "    <path clip-path=\"url(#p20201a9eeb)\" d=\"\n",
       "M269.954 191.012\n",
       "L303.858 221.022\" style=\"fill:none;stroke:#ff0000;stroke-linecap:square;\"/>\n",
       "   </g>\n",
       "   <g id=\"line2d_22\">\n",
       "    <path clip-path=\"url(#p20201a9eeb)\" d=\"\n",
       "M214.861 288.545\n",
       "L248.765 318.555\" style=\"fill:none;stroke:#ff0000;stroke-linecap:square;\"/>\n",
       "   </g>\n",
       "   <g id=\"line2d_23\">\n",
       "    <path clip-path=\"url(#p20201a9eeb)\" d=\"\n",
       "M214.861 288.545\n",
       "L248.765 318.555\" style=\"fill:none;stroke:#ff0000;stroke-linecap:square;\"/>\n",
       "   </g>\n",
       "   <g id=\"line2d_24\">\n",
       "    <path clip-path=\"url(#p20201a9eeb)\" d=\"\n",
       "M297.501 184.447\n",
       "L331.405 154.437\" style=\"fill:none;stroke:#ff0000;stroke-linecap:square;\"/>\n",
       "   </g>\n",
       "   <g id=\"line2d_25\">\n",
       "    <path clip-path=\"url(#p20201a9eeb)\" d=\"\n",
       "M297.501 178.82\n",
       "L331.405 208.83\" style=\"fill:none;stroke:#ff0000;stroke-linecap:square;\"/>\n",
       "   </g>\n",
       "   <g id=\"line2d_26\">\n",
       "    <path clip-path=\"url(#p20201a9eeb)\" d=\"\n",
       "M297.501 281.98\n",
       "L331.405 251.97\" style=\"fill:none;stroke:#ff0000;stroke-linecap:square;\"/>\n",
       "   </g>\n",
       "   <g id=\"line2d_27\">\n",
       "    <path clip-path=\"url(#p20201a9eeb)\" d=\"\n",
       "M479.734 215.395\n",
       "L479.734 245.405\" style=\"fill:none;stroke:#ff0000;stroke-linecap:square;\"/>\n",
       "   </g>\n",
       "   <g id=\"line2d_28\">\n",
       "    <path clip-path=\"url(#p20201a9eeb)\" d=\"\n",
       "M259.359 288.545\n",
       "L259.359 318.555\" style=\"fill:none;stroke:#ff0000;stroke-linecap:square;\"/>\n",
       "   </g>\n",
       "   <g id=\"line2d_29\">\n",
       "    <path clip-path=\"url(#p20201a9eeb)\" d=\"\n",
       "M269.954 288.545\n",
       "L303.858 318.555\" style=\"fill:none;stroke:#ff0000;stroke-linecap:square;\"/>\n",
       "   </g>\n",
       "   <g id=\"line2d_30\">\n",
       "    <path clip-path=\"url(#p20201a9eeb)\" d=\"\n",
       "M297.501 276.353\n",
       "L331.405 306.363\" style=\"fill:none;stroke:#ff0000;stroke-linecap:square;\"/>\n",
       "   </g>\n",
       "   <g id=\"line2d_31\">\n",
       "    <path clip-path=\"url(#p20201a9eeb)\" d=\"\n",
       "M325.048 264.161\n",
       "L358.952 294.171\" style=\"fill:none;stroke:#ff0000;stroke-linecap:square;\"/>\n",
       "   </g>\n",
       "   <g id=\"line2d_32\">\n",
       "    <path clip-path=\"url(#p20201a9eeb)\" d=\"\n",
       "M325.048 264.161\n",
       "L358.952 294.171\" style=\"fill:none;stroke:#ff0000;stroke-linecap:square;\"/>\n",
       "   </g>\n",
       "   <g id=\"line2d_33\">\n",
       "    <path clip-path=\"url(#p20201a9eeb)\" d=\"\n",
       "M380.142 215.395\n",
       "L414.046 245.405\" style=\"fill:none;stroke:#ff0000;stroke-linecap:square;\"/>\n",
       "   </g>\n",
       "   <g id=\"line2d_34\">\n",
       "    <path clip-path=\"url(#p20201a9eeb)\" d=\"\n",
       "M380.142 215.395\n",
       "L414.046 245.405\" style=\"fill:none;stroke:#ff0000;stroke-linecap:square;\"/>\n",
       "   </g>\n",
       "   <g id=\"line2d_35\">\n",
       "    <path clip-path=\"url(#p20201a9eeb)\" d=\"\n",
       "M380.142 215.395\n",
       "L414.046 245.405\" style=\"fill:none;stroke:#ff0000;stroke-linecap:square;\"/>\n",
       "   </g>\n",
       "   <g id=\"line2d_36\">\n",
       "    <path clip-path=\"url(#p20201a9eeb)\" d=\"\n",
       "M380.142 215.395\n",
       "L414.046 245.405\" style=\"fill:none;stroke:#ff0000;stroke-linecap:square;\"/>\n",
       "   </g>\n",
       "   <g id=\"line2d_37\">\n",
       "    <path clip-path=\"url(#p20201a9eeb)\" d=\"\n",
       "M325.048 264.161\n",
       "L358.952 294.171\" style=\"fill:none;stroke:#ff0000;stroke-linecap:square;\"/>\n",
       "   </g>\n",
       "   <g id=\"line2d_38\">\n",
       "    <path clip-path=\"url(#p20201a9eeb)\" d=\"\n",
       "M352.595 221.022\n",
       "L386.499 191.012\" style=\"fill:none;stroke:#ff0000;stroke-linecap:square;\"/>\n",
       "   </g>\n",
       "   <g id=\"line2d_39\">\n",
       "    <path clip-path=\"url(#p20201a9eeb)\" d=\"\n",
       "M325.048 166.629\n",
       "L358.952 196.639\" style=\"fill:none;stroke:#ff0000;stroke-linecap:square;\"/>\n",
       "   </g>\n",
       "   <g id=\"line2d_40\">\n",
       "    <path clip-path=\"url(#p20201a9eeb)\" d=\"\n",
       "M297.501 276.353\n",
       "L331.405 306.363\" style=\"fill:none;stroke:#ff0000;stroke-linecap:square;\"/>\n",
       "   </g>\n",
       "   <g id=\"line2d_41\">\n",
       "    <path clip-path=\"url(#p20201a9eeb)\" d=\"\n",
       "M380.142 215.395\n",
       "L414.046 245.405\" style=\"fill:none;stroke:#ff0000;stroke-linecap:square;\"/>\n",
       "   </g>\n",
       "   <g id=\"line2d_42\">\n",
       "    <path clip-path=\"url(#p20201a9eeb)\" d=\"\n",
       "M380.142 215.395\n",
       "L414.046 245.405\" style=\"fill:none;stroke:#ff0000;stroke-linecap:square;\"/>\n",
       "   </g>\n",
       "   <g id=\"line2d_43\">\n",
       "    <path clip-path=\"url(#p20201a9eeb)\" d=\"\n",
       "M325.048 166.629\n",
       "L358.952 196.639\" style=\"fill:none;stroke:#ff0000;stroke-linecap:square;\"/>\n",
       "   </g>\n",
       "   <g id=\"line2d_44\">\n",
       "    <path clip-path=\"url(#p20201a9eeb)\" d=\"\n",
       "M325.048 264.161\n",
       "L358.952 294.171\" style=\"fill:none;stroke:#ff0000;stroke-linecap:square;\"/>\n",
       "   </g>\n",
       "   <g id=\"line2d_45\">\n",
       "    <path clip-path=\"url(#p20201a9eeb)\" d=\"\n",
       "M259.359 288.545\n",
       "L259.359 318.555\" style=\"fill:none;stroke:#ff0000;stroke-linecap:square;\"/>\n",
       "   </g>\n",
       "   <g id=\"line2d_46\">\n",
       "    <path clip-path=\"url(#p20201a9eeb)\" d=\"\n",
       "M435.235 215.395\n",
       "L469.139 245.405\" style=\"fill:none;stroke:#ff0000;stroke-linecap:square;\"/>\n",
       "   </g>\n",
       "   <g id=\"line2d_47\">\n",
       "    <path clip-path=\"url(#p20201a9eeb)\" d=\"\n",
       "M325.048 166.629\n",
       "L358.952 196.639\" style=\"fill:none;stroke:#ff0000;stroke-linecap:square;\"/>\n",
       "   </g>\n",
       "   <g id=\"line2d_48\">\n",
       "    <path clip-path=\"url(#p20201a9eeb)\" d=\"\n",
       "M325.048 264.161\n",
       "L358.952 294.171\" style=\"fill:none;stroke:#ff0000;stroke-linecap:square;\"/>\n",
       "   </g>\n",
       "   <g id=\"line2d_49\">\n",
       "    <path clip-path=\"url(#p20201a9eeb)\" d=\"\n",
       "M325.048 166.629\n",
       "L358.952 196.639\" style=\"fill:none;stroke:#ff0000;stroke-linecap:square;\"/>\n",
       "   </g>\n",
       "   <g id=\"line2d_50\">\n",
       "    <path clip-path=\"url(#p20201a9eeb)\" d=\"\n",
       "M259.359 288.545\n",
       "L259.359 318.555\" style=\"fill:none;stroke:#ff0000;stroke-linecap:square;\"/>\n",
       "   </g>\n",
       "   <g id=\"line2d_51\">\n",
       "    <path clip-path=\"url(#p20201a9eeb)\" d=\"\n",
       "M435.235 215.395\n",
       "L469.139 245.405\" style=\"fill:none;stroke:#ff0000;stroke-linecap:square;\"/>\n",
       "   </g>\n",
       "   <g id=\"line2d_52\">\n",
       "    <path clip-path=\"url(#p20201a9eeb)\" d=\"\n",
       "M479.734 215.395\n",
       "L479.734 245.405\" style=\"fill:none;stroke:#ff0000;stroke-linecap:square;\"/>\n",
       "   </g>\n",
       "   <g id=\"line2d_53\">\n",
       "    <path clip-path=\"url(#p20201a9eeb)\" d=\"\n",
       "M204.266 288.545\n",
       "L204.266 318.555\" style=\"fill:none;stroke:#ff0000;stroke-linecap:square;\"/>\n",
       "   </g>\n",
       "   <g id=\"line2d_54\">\n",
       "    <path clip-path=\"url(#p20201a9eeb)\" d=\"\n",
       "M269.954 142.245\n",
       "L303.858 172.255\" style=\"fill:none;stroke:#ff0000;stroke-linecap:square;\"/>\n",
       "   </g>\n",
       "   <g id=\"line2d_55\">\n",
       "    <path clip-path=\"url(#p20201a9eeb)\" d=\"\n",
       "M269.954 239.778\n",
       "L303.858 269.788\" style=\"fill:none;stroke:#ff0000;stroke-linecap:square;\"/>\n",
       "   </g>\n",
       "   <g id=\"line2d_56\">\n",
       "    <path clip-path=\"url(#p20201a9eeb)\" d=\"\n",
       "M269.954 191.012\n",
       "L303.858 221.022\" style=\"fill:none;stroke:#ff0000;stroke-linecap:square;\"/>\n",
       "   </g>\n",
       "   <g id=\"line2d_57\">\n",
       "    <path clip-path=\"url(#p20201a9eeb)\" d=\"\n",
       "M204.266 288.545\n",
       "L204.266 318.555\" style=\"fill:none;stroke:#ff0000;stroke-linecap:square;\"/>\n",
       "   </g>\n",
       "   <g id=\"line2d_58\">\n",
       "    <path clip-path=\"url(#p20201a9eeb)\" d=\"\n",
       "M269.954 191.012\n",
       "L303.858 221.022\" style=\"fill:none;stroke:#ff0000;stroke-linecap:square;\"/>\n",
       "   </g>\n",
       "   <g id=\"line2d_59\">\n",
       "    <path clip-path=\"url(#p20201a9eeb)\" d=\"\n",
       "M269.954 239.778\n",
       "L303.858 269.788\" style=\"fill:none;stroke:#ff0000;stroke-linecap:square;\"/>\n",
       "   </g>\n",
       "   <g id=\"line2d_60\">\n",
       "    <path clip-path=\"url(#p20201a9eeb)\" d=\"\n",
       "M269.954 142.245\n",
       "L303.858 172.255\" style=\"fill:none;stroke:#ff0000;stroke-linecap:square;\"/>\n",
       "   </g>\n",
       "   <g id=\"line2d_61\">\n",
       "    <path clip-path=\"url(#p20201a9eeb)\" d=\"\n",
       "M159.767 288.545\n",
       "L193.671 318.555\" style=\"fill:none;stroke:#ff0000;stroke-linecap:square;\"/>\n",
       "   </g>\n",
       "   <g id=\"line2d_62\">\n",
       "    <path clip-path=\"url(#p20201a9eeb)\" d=\"\n",
       "M259.359 142.245\n",
       "L259.359 172.255\" style=\"fill:none;stroke:#ff0000;stroke-linecap:square;\"/>\n",
       "   </g>\n",
       "   <g id=\"line2d_63\">\n",
       "    <path clip-path=\"url(#p20201a9eeb)\" d=\"\n",
       "M259.359 239.778\n",
       "L259.359 269.788\" style=\"fill:none;stroke:#ff0000;stroke-linecap:square;\"/>\n",
       "   </g>\n",
       "   <g id=\"line2d_64\">\n",
       "    <path clip-path=\"url(#p20201a9eeb)\" d=\"\n",
       "M259.359 191.012\n",
       "L259.359 221.022\" style=\"fill:none;stroke:#ff0000;stroke-linecap:square;\"/>\n",
       "   </g>\n",
       "   <g id=\"line2d_65\">\n",
       "    <path clip-path=\"url(#p20201a9eeb)\" d=\"\n",
       "M524.233 218.208\n",
       "L490.329 218.208\" style=\"fill:none;stroke:#ff0000;stroke-linecap:square;\"/>\n",
       "   </g>\n",
       "   <g id=\"line2d_66\">\n",
       "    <path clip-path=\"url(#p20201a9eeb)\" d=\"\n",
       "M490.329 191.012\n",
       "L524.233 221.022\" style=\"fill:none;stroke:#ff0000;stroke-linecap:square;\"/>\n",
       "   </g>\n",
       "  </g>\n",
       " </g>\n",
       " <defs>\n",
       "  <clipPath id=\"p20201a9eeb\">\n",
       "   <rect height=\"446.4\" width=\"669.6\" x=\"7.2\" y=\"7.2\"/>\n",
       "  </clipPath>\n",
       " </defs>\n",
       "</svg>\n"
      ],
      "text/plain": [
       "<matplotlib.figure.Figure at 0x1f779cc0>"
      ]
     },
     "metadata": {},
     "output_type": "display_data"
    },
    {
     "data": {
      "text/plain": [
       "15"
      ]
     },
     "metadata": {},
     "output_type": "display_data"
    },
    {
     "data": {
      "text/plain": [
       "3582.85143283725"
      ]
     },
     "metadata": {},
     "output_type": "display_data"
    },
    {
     "data": {
      "text/plain": [
       "'Fragments Observed / Expected: 0.214'"
      ]
     },
     "metadata": {},
     "output_type": "display_data"
    },
    {
     "data": {
      "text/plain": [
       "'Bg1 218.115205 1 [417.276696]'"
      ]
     },
     "metadata": {},
     "output_type": "display_data"
    },
    {
     "data": {
      "text/plain": [
       "'Be1 218.115205 1 [417.276696]'"
      ]
     },
     "metadata": {},
     "output_type": "display_data"
    },
    {
     "data": {
      "text/plain": [
       "'Bd1 218.115205 1 [417.276696]'"
      ]
     },
     "metadata": {},
     "output_type": "display_data"
    },
    {
     "data": {
      "text/plain": [
       "'Bf1 375.190225 4 [492407.886569, 616989.55707, 546568.69152, 543233.333014]'"
      ]
     },
     "metadata": {},
     "output_type": "display_data"
    },
    {
     "data": {
      "text/plain": [
       "'Cf1 393.198693 2 [80132.803172, 998.50847]'"
      ]
     },
     "metadata": {},
     "output_type": "display_data"
    },
    {
     "data": {
      "text/plain": [
       "'1,3Af1 449.226958 4 [166510.891871, 272696.659168, 270485.949712, 166510.891871]'"
      ]
     },
     "metadata": {},
     "output_type": "display_data"
    },
    {
     "data": {
      "text/plain": [
       "'2,4Af1 449.226958 4 [166510.891871, 272696.659168, 270485.949712, 166510.891871]'"
      ]
     },
     "metadata": {},
     "output_type": "display_data"
    },
    {
     "data": {
      "text/plain": [
       "'1,4Af1 493.256673 1 [108.585317]'"
      ]
     },
     "metadata": {},
     "output_type": "display_data"
    },
    {
     "data": {
      "text/plain": [
       "'0,3Ag2 567.286649 1 [415.3443]'"
      ]
     },
     "metadata": {},
     "output_type": "display_data"
    },
    {
     "data": {
      "text/plain": [
       "'0,3Ac1 567.286649 1 [415.3443]'"
      ]
     },
     "metadata": {},
     "output_type": "display_data"
    },
    {
     "data": {
      "text/plain": [
       "'Bf2 579.289059 3 [4367.170845, 5824.210977, 6654.454944]'"
      ]
     },
     "metadata": {},
     "output_type": "display_data"
    },
    {
     "data": {
      "text/plain": [
       "'Cf2 597.294686 2 [50.549476, 282.680901]'"
      ]
     },
     "metadata": {},
     "output_type": "display_data"
    },
    {
     "data": {
      "text/plain": [
       "'0,2X2 609.352819 1 [75.782166]'"
      ]
     },
     "metadata": {},
     "output_type": "display_data"
    },
    {
     "data": {
      "text/plain": [
       "'0,2Ag2 611.319203 1 [224.017666]'"
      ]
     },
     "metadata": {},
     "output_type": "display_data"
    },
    {
     "data": {
      "text/plain": [
       "'0,2Ac1 611.319203 1 [224.017666]'"
      ]
     },
     "metadata": {},
     "output_type": "display_data"
    },
    {
     "data": {
      "text/plain": [
       "'2,4Af2 653.324819 2 [4366.93169, 2983.317371]'"
      ]
     },
     "metadata": {},
     "output_type": "display_data"
    },
    {
     "data": {
      "text/plain": [
       "'3,5Af2 667.346968 1 [122.217049]'"
      ]
     },
     "metadata": {},
     "output_type": "display_data"
    },
    {
     "data": {
      "text/plain": [
       "'Bf3 824.416612 5 [415398.281537, 176315.580211, 158853.196875, 8698.384965, 426.126894]'"
      ]
     },
     "metadata": {},
     "output_type": "display_data"
    },
    {
     "data": {
      "text/plain": [
       "'Cf3 842.418449 4 [445.77132, 874.949376, 316.134563, 14394.267697]'"
      ]
     },
     "metadata": {},
     "output_type": "display_data"
    },
    {
     "data": {
      "text/plain": [
       "'1,3Ag2 898.449598 2 [2807.452189, 14657.328033]'"
      ]
     },
     "metadata": {},
     "output_type": "display_data"
    },
    {
     "data": {
      "text/plain": [
       "'Cc1 1134.575525 1 [365.956578]'"
      ]
     },
     "metadata": {},
     "output_type": "display_data"
    },
    {
     "data": {
      "text/plain": [
       "'0,3A5 1465.738933 1 [372.488853]'"
      ]
     },
     "metadata": {},
     "output_type": "display_data"
    },
    {
     "data": {
      "text/plain": [
       "'1,3A5 1551.75806 1 [574.93186]'"
      ]
     },
     "metadata": {},
     "output_type": "display_data"
    },
    {
     "data": {
      "text/plain": [
       "'2,4A5 1796.905774 1 [561.880196]'"
      ]
     },
     "metadata": {},
     "output_type": "display_data"
    },
    {
     "data": {
      "text/plain": [
       "'0,4X2 2406.217247 1 [140248.437563]'"
      ]
     },
     "metadata": {},
     "output_type": "display_data"
    },
    {
     "data": {
      "text/plain": [
       "'Zf4 2740.38938 1 [1125.252631]'"
      ]
     },
     "metadata": {},
     "output_type": "display_data"
    },
    {
     "data": {
      "text/plain": [
       "'Yf4 2758.406446 4 [10173.788523, 62701.303849, 2653.352312, 12223.998279]'"
      ]
     },
     "metadata": {},
     "output_type": "display_data"
    },
    {
     "data": {
      "text/plain": [
       "'1,4Xf5 2844.502173 1 [152.934614]'"
      ]
     },
     "metadata": {},
     "output_type": "display_data"
    },
    {
     "data": {
      "text/plain": [
       "'2,5A5 2957.483982 1 [523.61736]'"
      ]
     },
     "metadata": {},
     "output_type": "display_data"
    },
    {
     "data": {
      "text/plain": [
       "'2,5Xc3 2987.491699 1 [2178.387692]'"
      ]
     },
     "metadata": {},
     "output_type": "display_data"
    },
    {
     "data": {
      "text/plain": [
       "'2,5Xg4 2987.491699 1 [2178.387692]'"
      ]
     },
     "metadata": {},
     "output_type": "display_data"
    },
    {
     "data": {
      "text/plain": [
       "'1,4Xc3 3001.545101 1 [3051.443069]'"
      ]
     },
     "metadata": {},
     "output_type": "display_data"
    },
    {
     "data": {
      "text/plain": [
       "'1,5A5 3001.545101 1 [3051.443069]'"
      ]
     },
     "metadata": {},
     "output_type": "display_data"
    },
    {
     "data": {
      "text/plain": [
       "'Yf5 3003.529874 2 [6969.274255, 149576.595082]'"
      ]
     },
     "metadata": {},
     "output_type": "display_data"
    },
    {
     "data": {
      "text/plain": [
       "'0,2Xf6 3059.568375 1 [9633.577846]'"
      ]
     },
     "metadata": {},
     "output_type": "display_data"
    },
    {
     "data": {
      "text/plain": [
       "'0,4Xc3 3059.568375 1 [9633.577846]'"
      ]
     },
     "metadata": {},
     "output_type": "display_data"
    },
    {
     "data": {
      "text/plain": [
       "'Ze4 3101.560943 1 [2629.180079]'"
      ]
     },
     "metadata": {},
     "output_type": "display_data"
    },
    {
     "data": {
      "text/plain": [
       "'Zd4 3101.560943 1 [2629.180079]'"
      ]
     },
     "metadata": {},
     "output_type": "display_data"
    },
    {
     "data": {
      "text/plain": [
       "'Zg4 3101.560943 1 [2629.180079]'"
      ]
     },
     "metadata": {},
     "output_type": "display_data"
    },
    {
     "data": {
      "text/plain": [
       "'Yd4 3119.573738 1 [1219.219313]'"
      ]
     },
     "metadata": {},
     "output_type": "display_data"
    },
    {
     "data": {
      "text/plain": [
       "'Ye4 3119.573738 1 [1219.219313]'"
      ]
     },
     "metadata": {},
     "output_type": "display_data"
    },
    {
     "data": {
      "text/plain": [
       "'Yg4 3119.573738 1 [1219.219313]'"
      ]
     },
     "metadata": {},
     "output_type": "display_data"
    },
    {
     "data": {
      "text/plain": [
       "'Zf6 3189.640872 1 [62.515539]'"
      ]
     },
     "metadata": {},
     "output_type": "display_data"
    },
    {
     "data": {
      "text/plain": [
       "'Yf6 3207.644072 3 [258840.187536, 6066.059551, 35038.349526]'"
      ]
     },
     "metadata": {},
     "output_type": "display_data"
    },
    {
     "data": {
      "text/plain": [
       "'1,5A6 3246.690184 1 [311.059424]'"
      ]
     },
     "metadata": {},
     "output_type": "display_data"
    },
    {
     "data": {
      "text/plain": [
       "'C6 3292.639569 1 [2798.322469]'"
      ]
     },
     "metadata": {},
     "output_type": "display_data"
    },
    {
     "data": {
      "text/plain": [
       "'1,5Xb3 3293.636206 1 [2299.210583]'"
      ]
     },
     "metadata": {},
     "output_type": "display_data"
    },
    {
     "data": {
      "text/plain": [
       "'0,3Xb3 3335.714489 1 [131.964591]'"
      ]
     },
     "metadata": {},
     "output_type": "display_data"
    },
    {
     "data": {
      "text/plain": [
       "'3,5Xb3 3351.764322 1 [26892.831154]'"
      ]
     },
     "metadata": {},
     "output_type": "display_data"
    },
    {
     "data": {
      "text/plain": [
       "'1,5Xa3 3351.764322 1 [26892.831154]'"
      ]
     },
     "metadata": {},
     "output_type": "display_data"
    },
    {
     "data": {
      "text/plain": [
       "'1,5Xf4 3392.663143 1 [286.908178]'"
      ]
     },
     "metadata": {},
     "output_type": "display_data"
    },
    {
     "data": {
      "text/plain": [
       "'1,5Xe5 3392.663143 1 [286.908178]'"
      ]
     },
     "metadata": {},
     "output_type": "display_data"
    },
    {
     "data": {
      "text/plain": [
       "'1,5Xd5 3392.663143 1 [286.908178]'"
      ]
     },
     "metadata": {},
     "output_type": "display_data"
    },
    {
     "data": {
      "image/svg+xml": [
       "<?xml version=\"1.0\" encoding=\"utf-8\" standalone=\"no\"?>\n",
       "<!DOCTYPE svg PUBLIC \"-//W3C//DTD SVG 1.1//EN\"\n",
       "  \"http://www.w3.org/Graphics/SVG/1.1/DTD/svg11.dtd\">\n",
       "<!-- Created with matplotlib (http://matplotlib.org/) -->\n",
       "<svg height=\"460pt\" version=\"1.1\" viewBox=\"0 0 684 460\" width=\"684pt\" xmlns=\"http://www.w3.org/2000/svg\" xmlns:xlink=\"http://www.w3.org/1999/xlink\">\n",
       " <defs>\n",
       "  <style type=\"text/css\">\n",
       "*{stroke-linecap:butt;stroke-linejoin:round;}\n",
       "  </style>\n",
       " </defs>\n",
       " <g id=\"figure_1\">\n",
       "  <g id=\"patch_1\">\n",
       "   <path d=\"\n",
       "M0 460.8\n",
       "L684 460.8\n",
       "L684 0\n",
       "L0 0\n",
       "L0 460.8\" style=\"fill:none;\"/>\n",
       "  </g>\n",
       "  <g id=\"axes_1\">\n",
       "   <g id=\"patch_2\">\n",
       "    <path d=\"\n",
       "M7.2 453.6\n",
       "L676.8 453.6\n",
       "L676.8 7.2\n",
       "L7.2 7.2\n",
       "L7.2 453.6\" style=\"fill:none;\"/>\n",
       "   </g>\n",
       "   <g id=\"line2d_1\">\n",
       "    <path clip-path=\"url(#p20201a9eeb)\" d=\"\n",
       "M231.813 303.55\n",
       "L176.719 303.55\" style=\"fill:none;stroke:#000000;stroke-linecap:square;\"/>\n",
       "   </g>\n",
       "   <g id=\"line2d_2\">\n",
       "    <path clip-path=\"url(#p20201a9eeb)\" d=\"\n",
       "M286.906 303.55\n",
       "L231.813 303.55\" style=\"fill:none;stroke:#000000;stroke-linecap:square;\"/>\n",
       "   </g>\n",
       "   <g id=\"line2d_3\">\n",
       "    <path clip-path=\"url(#p20201a9eeb)\" d=\"\n",
       "M342 279.166\n",
       "L286.906 303.55\" style=\"fill:none;stroke:#000000;stroke-linecap:square;\"/>\n",
       "   </g>\n",
       "   <g id=\"line2d_4\">\n",
       "    <path clip-path=\"url(#p20201a9eeb)\" d=\"\n",
       "M286.906 254.783\n",
       "L231.813 254.783\" style=\"fill:none;stroke:#000000;stroke-linecap:square;\"/>\n",
       "   </g>\n",
       "   <g id=\"line2d_5\">\n",
       "    <path clip-path=\"url(#p20201a9eeb)\" d=\"\n",
       "M342 279.166\n",
       "L286.906 254.783\" style=\"fill:none;stroke:#000000;stroke-linecap:square;\"/>\n",
       "   </g>\n",
       "   <g id=\"line2d_6\">\n",
       "    <path clip-path=\"url(#p20201a9eeb)\" d=\"\n",
       "M397.094 230.4\n",
       "L342 279.166\" style=\"fill:none;stroke:#000000;stroke-linecap:square;\"/>\n",
       "   </g>\n",
       "   <g id=\"line2d_7\">\n",
       "    <path clip-path=\"url(#p20201a9eeb)\" d=\"\n",
       "M397.094 230.4\n",
       "L342 230.4\" style=\"fill:none;stroke:#000000;stroke-linecap:square;\"/>\n",
       "   </g>\n",
       "   <g id=\"line2d_8\">\n",
       "    <path clip-path=\"url(#p20201a9eeb)\" d=\"\n",
       "M286.906 206.017\n",
       "L231.813 206.017\" style=\"fill:none;stroke:#000000;stroke-linecap:square;\"/>\n",
       "   </g>\n",
       "   <g id=\"line2d_9\">\n",
       "    <path clip-path=\"url(#p20201a9eeb)\" d=\"\n",
       "M342 181.634\n",
       "L286.906 206.017\" style=\"fill:none;stroke:#000000;stroke-linecap:square;\"/>\n",
       "   </g>\n",
       "   <g id=\"line2d_10\">\n",
       "    <path clip-path=\"url(#p20201a9eeb)\" d=\"\n",
       "M286.906 157.25\n",
       "L231.813 157.25\" style=\"fill:none;stroke:#000000;stroke-linecap:square;\"/>\n",
       "   </g>\n",
       "   <g id=\"line2d_11\">\n",
       "    <path clip-path=\"url(#p20201a9eeb)\" d=\"\n",
       "M342 181.634\n",
       "L286.906 157.25\" style=\"fill:none;stroke:#000000;stroke-linecap:square;\"/>\n",
       "   </g>\n",
       "   <g id=\"line2d_12\">\n",
       "    <path clip-path=\"url(#p20201a9eeb)\" d=\"\n",
       "M397.094 230.4\n",
       "L342 181.634\" style=\"fill:none;stroke:#000000;stroke-linecap:square;\"/>\n",
       "   </g>\n",
       "   <g id=\"line2d_13\">\n",
       "    <path clip-path=\"url(#p20201a9eeb)\" d=\"\n",
       "M452.187 230.4\n",
       "L397.094 230.4\" style=\"fill:none;stroke:#000000;stroke-linecap:square;\"/>\n",
       "   </g>\n",
       "   <g id=\"line2d_14\">\n",
       "    <path clip-path=\"url(#p20201a9eeb)\" d=\"\n",
       "M507.281 230.4\n",
       "L452.187 230.4\" style=\"fill:none;stroke:#000000;stroke-linecap:square;\"/>\n",
       "   </g>\n",
       "   <g id=\"RES-1b-o-dglc-HEX-0-0-1-aldi-2s-n-acetyl-LIN-1-1d-2+1-2n-1\">\n",
       "    <path clip-path=\"url(#p20201a9eeb)\" d=\"\n",
       "M515.757 222.897\n",
       "L515.757 237.903\n",
       "L498.805 237.903\n",
       "L498.805 222.897\n",
       "L515.757 222.897\n",
       "z\n",
       "\" style=\"fill:#0000ff;stroke:#000000;stroke-linejoin:miter;\"/>\n",
       "   </g>\n",
       "   <g id=\"RES-1b-b-dglc-HEX-1-5-2s-n-acetyl-LIN-1-1d-2+1-2n-2\">\n",
       "    <path clip-path=\"url(#p20201a9eeb)\" d=\"\n",
       "M460.663 222.897\n",
       "L460.663 237.903\n",
       "L443.711 237.903\n",
       "L443.711 222.897\n",
       "L460.663 222.897\n",
       "z\n",
       "\" style=\"fill:#0000ff;stroke:#000000;stroke-linejoin:miter;\"/>\n",
       "   </g>\n",
       "   <g id=\"RES-1b-b-dman-HEX-1-5-3\">\n",
       "    <path clip-path=\"url(#p20201a9eeb)\" d=\"\n",
       "M397.094 237.903\n",
       "C399.342 237.903 401.498 237.112 403.087 235.705\n",
       "C404.677 234.298 405.57 232.39 405.57 230.4\n",
       "C405.57 228.41 404.677 226.502 403.087 225.095\n",
       "C401.498 223.688 399.342 222.897 397.094 222.897\n",
       "C394.846 222.897 392.69 223.688 391.1 225.095\n",
       "C389.511 226.502 388.618 228.41 388.618 230.4\n",
       "C388.618 232.39 389.511 234.298 391.1 235.705\n",
       "C392.69 237.112 394.846 237.903 397.094 237.903\n",
       "z\n",
       "\" style=\"fill:#008000;stroke:#000000;stroke-linejoin:miter;\"/>\n",
       "   </g>\n",
       "   <g id=\"RES-1b-a-dman-HEX-1-5-10\">\n",
       "    <path clip-path=\"url(#p20201a9eeb)\" d=\"\n",
       "M342 286.669\n",
       "C344.248 286.669 346.404 285.878 347.993 284.471\n",
       "C349.583 283.065 350.476 281.156 350.476 279.166\n",
       "C350.476 277.177 349.583 275.268 347.993 273.861\n",
       "C346.404 272.454 344.248 271.664 342 271.664\n",
       "C339.752 271.664 337.596 272.454 336.007 273.861\n",
       "C334.417 275.268 333.524 277.177 333.524 279.166\n",
       "C333.524 281.156 334.417 283.065 336.007 284.471\n",
       "C337.596 285.878 339.752 286.669 342 286.669\n",
       "z\n",
       "\" style=\"fill:#008000;stroke:#000000;stroke-linejoin:miter;\"/>\n",
       "   </g>\n",
       "   <g id=\"RES-1b-b-dglc-HEX-1-5-2s-n-acetyl-LIN-1-1d-2+1-2n-13\">\n",
       "    <path clip-path=\"url(#p20201a9eeb)\" d=\"\n",
       "M295.382 296.047\n",
       "L295.382 311.052\n",
       "L278.43 311.052\n",
       "L278.43 296.047\n",
       "L295.382 296.047\n",
       "z\n",
       "\" style=\"fill:#0000ff;stroke:#000000;stroke-linejoin:miter;\"/>\n",
       "   </g>\n",
       "   <g id=\"RES-1b-b-dgal-HEX-1-5-14\">\n",
       "    <path clip-path=\"url(#p20201a9eeb)\" d=\"\n",
       "M231.813 311.052\n",
       "C234.061 311.052 236.217 310.262 237.806 308.855\n",
       "C239.396 307.448 240.289 305.539 240.289 303.55\n",
       "C240.289 301.56 239.396 299.651 237.806 298.244\n",
       "C236.217 296.838 234.061 296.047 231.813 296.047\n",
       "C229.565 296.047 227.409 296.838 225.819 298.244\n",
       "C224.23 299.651 223.337 301.56 223.337 303.55\n",
       "C223.337 305.539 224.23 307.448 225.819 308.855\n",
       "C227.409 310.262 229.565 311.052 231.813 311.052\n",
       "z\n",
       "\" style=\"fill:#ffff00;stroke:#000000;stroke-linejoin:miter;\"/>\n",
       "   </g>\n",
       "   <g id=\"RES-1b-a-dgro-dgal-NON-2-6-1-a-2-keto-3-d-2s-n-acetyl-LIN-1-1d-5+1-2n-15\">\n",
       "    <path clip-path=\"url(#p20201a9eeb)\" d=\"\n",
       "M176.719 296.047\n",
       "L168.243 303.55\n",
       "L176.719 311.052\n",
       "L185.195 303.55\n",
       "z\n",
       "\" style=\"fill:#800080;stroke:#000000;stroke-linejoin:miter;\"/>\n",
       "   </g>\n",
       "   <g id=\"RES-1b-b-dglc-HEX-1-5-2s-n-acetyl-LIN-1-1d-2+1-2n-11\">\n",
       "    <path clip-path=\"url(#p20201a9eeb)\" d=\"\n",
       "M295.382 247.281\n",
       "L295.382 262.286\n",
       "L278.43 262.286\n",
       "L278.43 247.281\n",
       "L295.382 247.281\n",
       "z\n",
       "\" style=\"fill:#0000ff;stroke:#000000;stroke-linejoin:miter;\"/>\n",
       "   </g>\n",
       "   <g id=\"RES-1b-b-dgal-HEX-1-5-12\">\n",
       "    <path clip-path=\"url(#p20201a9eeb)\" d=\"\n",
       "M231.813 262.286\n",
       "C234.061 262.286 236.217 261.495 237.806 260.088\n",
       "C239.396 258.681 240.289 256.773 240.289 254.783\n",
       "C240.289 252.794 239.396 250.885 237.806 249.478\n",
       "C236.217 248.071 234.061 247.281 231.813 247.281\n",
       "C229.565 247.281 227.409 248.071 225.819 249.478\n",
       "C224.23 250.885 223.337 252.794 223.337 254.783\n",
       "C223.337 256.773 224.23 258.681 225.819 260.088\n",
       "C227.409 261.495 229.565 262.286 231.813 262.286\n",
       "z\n",
       "\" style=\"fill:#ffff00;stroke:#000000;stroke-linejoin:miter;\"/>\n",
       "   </g>\n",
       "   <g id=\"RES-1b-b-dglc-HEX-1-5-2s-n-acetyl-LIN-1-1d-2+1-2n-9\">\n",
       "    <path clip-path=\"url(#p20201a9eeb)\" d=\"\n",
       "M350.476 222.897\n",
       "L350.476 237.903\n",
       "L333.524 237.903\n",
       "L333.524 222.897\n",
       "L350.476 222.897\n",
       "z\n",
       "\" style=\"fill:#0000ff;stroke:#000000;stroke-linejoin:miter;\"/>\n",
       "   </g>\n",
       "   <g id=\"RES-1b-a-dman-HEX-1-5-4\">\n",
       "    <path clip-path=\"url(#p20201a9eeb)\" d=\"\n",
       "M342 189.136\n",
       "C344.248 189.136 346.404 188.346 347.993 186.939\n",
       "C349.583 185.532 350.476 183.623 350.476 181.634\n",
       "C350.476 179.644 349.583 177.735 347.993 176.329\n",
       "C346.404 174.922 344.248 174.131 342 174.131\n",
       "C339.752 174.131 337.596 174.922 336.007 176.329\n",
       "C334.417 177.735 333.524 179.644 333.524 181.634\n",
       "C333.524 183.623 334.417 185.532 336.007 186.939\n",
       "C337.596 188.346 339.752 189.136 342 189.136\n",
       "z\n",
       "\" style=\"fill:#008000;stroke:#000000;stroke-linejoin:miter;\"/>\n",
       "   </g>\n",
       "   <g id=\"RES-1b-b-dglc-HEX-1-5-2s-n-acetyl-LIN-1-1d-2+1-2n-7\">\n",
       "    <path clip-path=\"url(#p20201a9eeb)\" d=\"\n",
       "M295.382 198.514\n",
       "L295.382 213.519\n",
       "L278.43 213.519\n",
       "L278.43 198.514\n",
       "L295.382 198.514\n",
       "z\n",
       "\" style=\"fill:#0000ff;stroke:#000000;stroke-linejoin:miter;\"/>\n",
       "   </g>\n",
       "   <g id=\"RES-1b-b-dgal-HEX-1-5-8\">\n",
       "    <path clip-path=\"url(#p20201a9eeb)\" d=\"\n",
       "M231.813 213.519\n",
       "C234.061 213.519 236.217 212.729 237.806 211.322\n",
       "C239.396 209.915 240.289 208.006 240.289 206.017\n",
       "C240.289 204.027 239.396 202.119 237.806 200.712\n",
       "C236.217 199.305 234.061 198.514 231.813 198.514\n",
       "C229.565 198.514 227.409 199.305 225.819 200.712\n",
       "C224.23 202.119 223.337 204.027 223.337 206.017\n",
       "C223.337 208.006 224.23 209.915 225.819 211.322\n",
       "C227.409 212.729 229.565 213.519 231.813 213.519\n",
       "z\n",
       "\" style=\"fill:#ffff00;stroke:#000000;stroke-linejoin:miter;\"/>\n",
       "   </g>\n",
       "   <g id=\"RES-1b-b-dglc-HEX-1-5-2s-n-acetyl-LIN-1-1d-2+1-2n-5\">\n",
       "    <path clip-path=\"url(#p20201a9eeb)\" d=\"\n",
       "M295.382 149.748\n",
       "L295.382 164.753\n",
       "L278.43 164.753\n",
       "L278.43 149.748\n",
       "L295.382 149.748\n",
       "z\n",
       "\" style=\"fill:#0000ff;stroke:#000000;stroke-linejoin:miter;\"/>\n",
       "   </g>\n",
       "   <g id=\"RES-1b-b-dgal-HEX-1-5-6\">\n",
       "    <path clip-path=\"url(#p20201a9eeb)\" d=\"\n",
       "M231.813 164.753\n",
       "C234.061 164.753 236.217 163.962 237.806 162.556\n",
       "C239.396 161.149 240.289 159.24 240.289 157.25\n",
       "C240.289 155.261 239.396 153.352 237.806 151.945\n",
       "C236.217 150.538 234.061 149.748 231.813 149.748\n",
       "C229.565 149.748 227.409 150.538 225.819 151.945\n",
       "C224.23 153.352 223.337 155.261 223.337 157.25\n",
       "C223.337 159.24 224.23 161.149 225.819 162.556\n",
       "C227.409 163.962 229.565 164.753 231.813 164.753\n",
       "z\n",
       "\" style=\"fill:#ffff00;stroke:#000000;stroke-linejoin:miter;\"/>\n",
       "   </g>\n",
       "   <g id=\"patch_3\">\n",
       "    <path d=\"\n",
       "M7.2 7.2\n",
       "L676.8 7.2\" style=\"fill:none;stroke:#000000;stroke-linecap:square;stroke-linejoin:miter;\"/>\n",
       "   </g>\n",
       "   <g id=\"patch_4\">\n",
       "    <path d=\"\n",
       "M676.8 453.6\n",
       "L676.8 7.2\" style=\"fill:none;stroke:#000000;stroke-linecap:square;stroke-linejoin:miter;\"/>\n",
       "   </g>\n",
       "   <g id=\"patch_5\">\n",
       "    <path d=\"\n",
       "M7.2 453.6\n",
       "L676.8 453.6\" style=\"fill:none;stroke:#000000;stroke-linecap:square;stroke-linejoin:miter;\"/>\n",
       "   </g>\n",
       "   <g id=\"patch_6\">\n",
       "    <path d=\"\n",
       "M7.2 453.6\n",
       "L7.2 7.2\" style=\"fill:none;stroke:#000000;stroke-linecap:square;stroke-linejoin:miter;\"/>\n",
       "   </g>\n",
       "   <g id=\"line2d_15\">\n",
       "    <path clip-path=\"url(#p20201a9eeb)\" d=\"\n",
       "M259.359 239.778\n",
       "L259.359 269.788\" style=\"fill:none;stroke:#ff0000;stroke-linecap:square;\"/>\n",
       "   </g>\n",
       "   <g id=\"line2d_16\">\n",
       "    <path clip-path=\"url(#p20201a9eeb)\" d=\"\n",
       "M259.359 142.245\n",
       "L259.359 172.255\" style=\"fill:none;stroke:#ff0000;stroke-linecap:square;\"/>\n",
       "   </g>\n",
       "   <g id=\"line2d_17\">\n",
       "    <path clip-path=\"url(#p20201a9eeb)\" d=\"\n",
       "M259.359 191.012\n",
       "L259.359 221.022\" style=\"fill:none;stroke:#ff0000;stroke-linecap:square;\"/>\n",
       "   </g>\n",
       "   <g id=\"line2d_18\">\n",
       "    <path clip-path=\"url(#p20201a9eeb)\" d=\"\n",
       "M204.266 288.545\n",
       "L204.266 318.555\" style=\"fill:none;stroke:#ff0000;stroke-linecap:square;\"/>\n",
       "   </g>\n",
       "   <g id=\"line2d_19\">\n",
       "    <path clip-path=\"url(#p20201a9eeb)\" d=\"\n",
       "M204.266 288.545\n",
       "L204.266 318.555\" style=\"fill:none;stroke:#ff0000;stroke-linecap:square;\"/>\n",
       "   </g>\n",
       "   <g id=\"line2d_20\">\n",
       "    <path clip-path=\"url(#p20201a9eeb)\" d=\"\n",
       "M214.861 288.545\n",
       "L248.765 318.555\" style=\"fill:none;stroke:#ff0000;stroke-linecap:square;\"/>\n",
       "   </g>\n",
       "   <g id=\"line2d_21\">\n",
       "    <path clip-path=\"url(#p20201a9eeb)\" d=\"\n",
       "M214.861 288.545\n",
       "L248.765 318.555\" style=\"fill:none;stroke:#ff0000;stroke-linecap:square;\"/>\n",
       "   </g>\n",
       "   <g id=\"line2d_22\">\n",
       "    <path clip-path=\"url(#p20201a9eeb)\" d=\"\n",
       "M214.861 288.545\n",
       "L248.765 318.555\" style=\"fill:none;stroke:#ff0000;stroke-linecap:square;\"/>\n",
       "   </g>\n",
       "   <g id=\"line2d_23\">\n",
       "    <path clip-path=\"url(#p20201a9eeb)\" d=\"\n",
       "M325.048 264.161\n",
       "L358.952 294.171\" style=\"fill:none;stroke:#ff0000;stroke-linecap:square;\"/>\n",
       "   </g>\n",
       "   <g id=\"line2d_24\">\n",
       "    <path clip-path=\"url(#p20201a9eeb)\" d=\"\n",
       "M325.048 166.629\n",
       "L358.952 196.639\" style=\"fill:none;stroke:#ff0000;stroke-linecap:square;\"/>\n",
       "   </g>\n",
       "   <g id=\"line2d_25\">\n",
       "    <path clip-path=\"url(#p20201a9eeb)\" d=\"\n",
       "M259.359 288.545\n",
       "L259.359 318.555\" style=\"fill:none;stroke:#ff0000;stroke-linecap:square;\"/>\n",
       "   </g>\n",
       "   <g id=\"line2d_26\">\n",
       "    <path clip-path=\"url(#p20201a9eeb)\" d=\"\n",
       "M259.359 288.545\n",
       "L259.359 318.555\" style=\"fill:none;stroke:#ff0000;stroke-linecap:square;\"/>\n",
       "   </g>\n",
       "   <g id=\"line2d_27\">\n",
       "    <path clip-path=\"url(#p20201a9eeb)\" d=\"\n",
       "M380.142 215.395\n",
       "L414.046 245.405\" style=\"fill:none;stroke:#ff0000;stroke-linecap:square;\"/>\n",
       "   </g>\n",
       "   <g id=\"line2d_28\">\n",
       "    <path clip-path=\"url(#p20201a9eeb)\" d=\"\n",
       "M325.048 264.161\n",
       "L358.952 294.171\" style=\"fill:none;stroke:#ff0000;stroke-linecap:square;\"/>\n",
       "   </g>\n",
       "   <g id=\"line2d_29\">\n",
       "    <path clip-path=\"url(#p20201a9eeb)\" d=\"\n",
       "M325.048 166.629\n",
       "L358.952 196.639\" style=\"fill:none;stroke:#ff0000;stroke-linecap:square;\"/>\n",
       "   </g>\n",
       "   <g id=\"line2d_30\">\n",
       "    <path clip-path=\"url(#p20201a9eeb)\" d=\"\n",
       "M269.954 288.545\n",
       "L303.858 318.555\" style=\"fill:none;stroke:#ff0000;stroke-linecap:square;\"/>\n",
       "   </g>\n",
       "   <g id=\"line2d_31\">\n",
       "    <path clip-path=\"url(#p20201a9eeb)\" d=\"\n",
       "M269.954 288.545\n",
       "L303.858 318.555\" style=\"fill:none;stroke:#ff0000;stroke-linecap:square;\"/>\n",
       "   </g>\n",
       "   <g id=\"line2d_32\">\n",
       "    <path clip-path=\"url(#p20201a9eeb)\" d=\"\n",
       "M297.501 276.353\n",
       "L331.405 306.363\" style=\"fill:none;stroke:#ff0000;stroke-linecap:square;\"/>\n",
       "   </g>\n",
       "   <g id=\"line2d_33\">\n",
       "    <path clip-path=\"url(#p20201a9eeb)\" d=\"\n",
       "M297.501 276.353\n",
       "L331.405 306.363\" style=\"fill:none;stroke:#ff0000;stroke-linecap:square;\"/>\n",
       "   </g>\n",
       "   <g id=\"line2d_34\">\n",
       "    <path clip-path=\"url(#p20201a9eeb)\" d=\"\n",
       "M325.048 264.161\n",
       "L358.952 294.171\" style=\"fill:none;stroke:#ff0000;stroke-linecap:square;\"/>\n",
       "   </g>\n",
       "   <g id=\"line2d_35\">\n",
       "    <path clip-path=\"url(#p20201a9eeb)\" d=\"\n",
       "M352.595 221.022\n",
       "L386.499 191.012\" style=\"fill:none;stroke:#ff0000;stroke-linecap:square;\"/>\n",
       "   </g>\n",
       "   <g id=\"line2d_36\">\n",
       "    <path clip-path=\"url(#p20201a9eeb)\" d=\"\n",
       "M380.142 215.395\n",
       "L414.046 245.405\" style=\"fill:none;stroke:#ff0000;stroke-linecap:square;\"/>\n",
       "   </g>\n",
       "   <g id=\"line2d_37\">\n",
       "    <path clip-path=\"url(#p20201a9eeb)\" d=\"\n",
       "M380.142 215.395\n",
       "L414.046 245.405\" style=\"fill:none;stroke:#ff0000;stroke-linecap:square;\"/>\n",
       "   </g>\n",
       "   <g id=\"line2d_38\">\n",
       "    <path clip-path=\"url(#p20201a9eeb)\" d=\"\n",
       "M380.142 215.395\n",
       "L414.046 245.405\" style=\"fill:none;stroke:#ff0000;stroke-linecap:square;\"/>\n",
       "   </g>\n",
       "   <g id=\"line2d_39\">\n",
       "    <path clip-path=\"url(#p20201a9eeb)\" d=\"\n",
       "M380.142 215.395\n",
       "L414.046 245.405\" style=\"fill:none;stroke:#ff0000;stroke-linecap:square;\"/>\n",
       "   </g>\n",
       "   <g id=\"line2d_40\">\n",
       "    <path clip-path=\"url(#p20201a9eeb)\" d=\"\n",
       "M297.501 276.353\n",
       "L331.405 306.363\" style=\"fill:none;stroke:#ff0000;stroke-linecap:square;\"/>\n",
       "   </g>\n",
       "   <g id=\"line2d_41\">\n",
       "    <path clip-path=\"url(#p20201a9eeb)\" d=\"\n",
       "M297.501 276.353\n",
       "L331.405 306.363\" style=\"fill:none;stroke:#ff0000;stroke-linecap:square;\"/>\n",
       "   </g>\n",
       "   <g id=\"line2d_42\">\n",
       "    <path clip-path=\"url(#p20201a9eeb)\" d=\"\n",
       "M269.954 288.545\n",
       "L303.858 318.555\" style=\"fill:none;stroke:#ff0000;stroke-linecap:square;\"/>\n",
       "   </g>\n",
       "   <g id=\"line2d_43\">\n",
       "    <path clip-path=\"url(#p20201a9eeb)\" d=\"\n",
       "M380.142 215.395\n",
       "L414.046 245.405\" style=\"fill:none;stroke:#ff0000;stroke-linecap:square;\"/>\n",
       "   </g>\n",
       "   <g id=\"line2d_44\">\n",
       "    <path clip-path=\"url(#p20201a9eeb)\" d=\"\n",
       "M325.048 166.629\n",
       "L358.952 196.639\" style=\"fill:none;stroke:#ff0000;stroke-linecap:square;\"/>\n",
       "   </g>\n",
       "   <g id=\"line2d_45\">\n",
       "    <path clip-path=\"url(#p20201a9eeb)\" d=\"\n",
       "M325.048 264.161\n",
       "L358.952 294.171\" style=\"fill:none;stroke:#ff0000;stroke-linecap:square;\"/>\n",
       "   </g>\n",
       "   <g id=\"line2d_46\">\n",
       "    <path clip-path=\"url(#p20201a9eeb)\" d=\"\n",
       "M325.048 166.629\n",
       "L358.952 196.639\" style=\"fill:none;stroke:#ff0000;stroke-linecap:square;\"/>\n",
       "   </g>\n",
       "   <g id=\"line2d_47\">\n",
       "    <path clip-path=\"url(#p20201a9eeb)\" d=\"\n",
       "M380.142 215.395\n",
       "L414.046 245.405\" style=\"fill:none;stroke:#ff0000;stroke-linecap:square;\"/>\n",
       "   </g>\n",
       "   <g id=\"line2d_48\">\n",
       "    <path clip-path=\"url(#p20201a9eeb)\" d=\"\n",
       "M259.359 288.545\n",
       "L259.359 318.555\" style=\"fill:none;stroke:#ff0000;stroke-linecap:square;\"/>\n",
       "   </g>\n",
       "   <g id=\"line2d_49\">\n",
       "    <path clip-path=\"url(#p20201a9eeb)\" d=\"\n",
       "M214.861 288.545\n",
       "L248.765 318.555\" style=\"fill:none;stroke:#ff0000;stroke-linecap:square;\"/>\n",
       "   </g>\n",
       "   <g id=\"line2d_50\">\n",
       "    <path clip-path=\"url(#p20201a9eeb)\" d=\"\n",
       "M325.048 166.629\n",
       "L358.952 196.639\" style=\"fill:none;stroke:#ff0000;stroke-linecap:square;\"/>\n",
       "   </g>\n",
       "   <g id=\"line2d_51\">\n",
       "    <path clip-path=\"url(#p20201a9eeb)\" d=\"\n",
       "M297.501 184.447\n",
       "L331.405 154.437\" style=\"fill:none;stroke:#ff0000;stroke-linecap:square;\"/>\n",
       "   </g>\n",
       "   <g id=\"line2d_52\">\n",
       "    <path clip-path=\"url(#p20201a9eeb)\" d=\"\n",
       "M297.501 178.82\n",
       "L331.405 208.83\" style=\"fill:none;stroke:#ff0000;stroke-linecap:square;\"/>\n",
       "   </g>\n",
       "   <g id=\"line2d_53\">\n",
       "    <path clip-path=\"url(#p20201a9eeb)\" d=\"\n",
       "M297.501 281.98\n",
       "L331.405 251.97\" style=\"fill:none;stroke:#ff0000;stroke-linecap:square;\"/>\n",
       "   </g>\n",
       "   <g id=\"line2d_54\">\n",
       "    <path clip-path=\"url(#p20201a9eeb)\" d=\"\n",
       "M297.501 178.82\n",
       "L331.405 208.83\" style=\"fill:none;stroke:#ff0000;stroke-linecap:square;\"/>\n",
       "   </g>\n",
       "   <g id=\"line2d_55\">\n",
       "    <path clip-path=\"url(#p20201a9eeb)\" d=\"\n",
       "M297.501 184.447\n",
       "L331.405 154.437\" style=\"fill:none;stroke:#ff0000;stroke-linecap:square;\"/>\n",
       "   </g>\n",
       "   <g id=\"line2d_56\">\n",
       "    <path clip-path=\"url(#p20201a9eeb)\" d=\"\n",
       "M297.501 281.98\n",
       "L331.405 251.97\" style=\"fill:none;stroke:#ff0000;stroke-linecap:square;\"/>\n",
       "   </g>\n",
       "   <g id=\"line2d_57\">\n",
       "    <path clip-path=\"url(#p20201a9eeb)\" d=\"\n",
       "M204.266 288.545\n",
       "L204.266 318.555\" style=\"fill:none;stroke:#ff0000;stroke-linecap:square;\"/>\n",
       "   </g>\n",
       "   <g id=\"line2d_58\">\n",
       "    <path clip-path=\"url(#p20201a9eeb)\" d=\"\n",
       "M204.266 288.545\n",
       "L204.266 318.555\" style=\"fill:none;stroke:#ff0000;stroke-linecap:square;\"/>\n",
       "   </g>\n",
       "   <g id=\"line2d_59\">\n",
       "    <path clip-path=\"url(#p20201a9eeb)\" d=\"\n",
       "M435.235 215.395\n",
       "L469.139 245.405\" style=\"fill:none;stroke:#ff0000;stroke-linecap:square;\"/>\n",
       "   </g>\n",
       "   <g id=\"line2d_60\">\n",
       "    <path clip-path=\"url(#p20201a9eeb)\" d=\"\n",
       "M479.734 215.395\n",
       "L479.734 245.405\" style=\"fill:none;stroke:#ff0000;stroke-linecap:square;\"/>\n",
       "   </g>\n",
       "   <g id=\"line2d_61\">\n",
       "    <path clip-path=\"url(#p20201a9eeb)\" d=\"\n",
       "M159.767 288.545\n",
       "L193.671 318.555\" style=\"fill:none;stroke:#ff0000;stroke-linecap:square;\"/>\n",
       "   </g>\n",
       "   <g id=\"line2d_62\">\n",
       "    <path clip-path=\"url(#p20201a9eeb)\" d=\"\n",
       "M159.767 288.545\n",
       "L193.671 318.555\" style=\"fill:none;stroke:#ff0000;stroke-linecap:square;\"/>\n",
       "   </g>\n",
       "   <g id=\"line2d_63\">\n",
       "    <path clip-path=\"url(#p20201a9eeb)\" d=\"\n",
       "M159.767 288.545\n",
       "L193.671 318.555\" style=\"fill:none;stroke:#ff0000;stroke-linecap:square;\"/>\n",
       "   </g>\n",
       "   <g id=\"line2d_64\">\n",
       "    <path clip-path=\"url(#p20201a9eeb)\" d=\"\n",
       "M325.048 215.395\n",
       "L358.952 245.405\" style=\"fill:none;stroke:#ff0000;stroke-linecap:square;\"/>\n",
       "   </g>\n",
       "   <g id=\"line2d_65\">\n",
       "    <path clip-path=\"url(#p20201a9eeb)\" d=\"\n",
       "M214.861 239.778\n",
       "L248.765 269.788\" style=\"fill:none;stroke:#ff0000;stroke-linecap:square;\"/>\n",
       "   </g>\n",
       "   <g id=\"line2d_66\">\n",
       "    <path clip-path=\"url(#p20201a9eeb)\" d=\"\n",
       "M214.861 142.245\n",
       "L248.765 172.255\" style=\"fill:none;stroke:#ff0000;stroke-linecap:square;\"/>\n",
       "   </g>\n",
       "   <g id=\"line2d_67\">\n",
       "    <path clip-path=\"url(#p20201a9eeb)\" d=\"\n",
       "M214.861 191.012\n",
       "L248.765 221.022\" style=\"fill:none;stroke:#ff0000;stroke-linecap:square;\"/>\n",
       "   </g>\n",
       "  </g>\n",
       " </g>\n",
       " <defs>\n",
       "  <clipPath id=\"p20201a9eeb\">\n",
       "   <rect height=\"446.4\" width=\"669.6\" x=\"7.2\" y=\"7.2\"/>\n",
       "  </clipPath>\n",
       " </defs>\n",
       "</svg>\n"
      ],
      "text/plain": [
       "<matplotlib.figure.Figure at 0x1fafb898>"
      ]
     },
     "metadata": {},
     "output_type": "display_data"
    },
    {
     "data": {
      "text/plain": [
       "16"
      ]
     },
     "metadata": {},
     "output_type": "display_data"
    },
    {
     "data": {
      "text/plain": [
       "4337.1885957307095"
      ]
     },
     "metadata": {},
     "output_type": "display_data"
    },
    {
     "data": {
      "text/plain": [
       "'Fragments Observed / Expected: 0.059'"
      ]
     },
     "metadata": {},
     "output_type": "display_data"
    },
    {
     "data": {
      "text/plain": [
       "'Be1 375.192017 2 [16530.665549, 19467.569138]'"
      ]
     },
     "metadata": {},
     "output_type": "display_data"
    },
    {
     "data": {
      "text/plain": [
       "'2,4Ae2 449.228076 1 [7677.845755]'"
      ]
     },
     "metadata": {},
     "output_type": "display_data"
    },
    {
     "data": {
      "text/plain": [
       "'1,3Ae2 449.228076 1 [7677.845755]'"
      ]
     },
     "metadata": {},
     "output_type": "display_data"
    },
    {
     "data": {
      "text/plain": [
       "'Bg2 463.246178 1 [1390.408587]'"
      ]
     },
     "metadata": {},
     "output_type": "display_data"
    },
    {
     "data": {
      "text/plain": [
       "'3,5Ag2 551.303018 1 [15560.271317]'"
      ]
     },
     "metadata": {},
     "output_type": "display_data"
    },
    {
     "data": {
      "text/plain": [
       "'1,5Ae2 551.303018 1 [15560.271317]'"
      ]
     },
     "metadata": {},
     "output_type": "display_data"
    },
    {
     "data": {
      "text/plain": [
       "'Be2 579.292273 1 [438.387873]'"
      ]
     },
     "metadata": {},
     "output_type": "display_data"
    },
    {
     "data": {
      "text/plain": [
       "'1,4Af2 754.374337 1 [488.430756]'"
      ]
     },
     "metadata": {},
     "output_type": "display_data"
    },
    {
     "data": {
      "text/plain": [
       "'1,4Ad3 754.374337 1 [488.430756]'"
      ]
     },
     "metadata": {},
     "output_type": "display_data"
    },
    {
     "data": {
      "text/plain": [
       "'Be3 824.422894 1 [13188.207024]'"
      ]
     },
     "metadata": {},
     "output_type": "display_data"
    },
    {
     "data": {
      "text/plain": [
       "'Yf4 3496.802064 1 [65.678381]'"
      ]
     },
     "metadata": {},
     "output_type": "display_data"
    },
    {
     "data": {
      "text/plain": [
       "'Yd4 3496.802064 1 [65.678381]'"
      ]
     },
     "metadata": {},
     "output_type": "display_data"
    },
    {
     "data": {
      "text/plain": [
       "'Ye4 3512.836819 1 [985.089153]'"
      ]
     },
     "metadata": {},
     "output_type": "display_data"
    },
    {
     "data": {
      "text/plain": [
       "'2,4Xd4 3667.877127 2 [768.202991, 1720.513675]'"
      ]
     },
     "metadata": {},
     "output_type": "display_data"
    },
    {
     "data": {
      "text/plain": [
       "'2,4Xf5 3667.877127 2 [768.202991, 1720.513675]'"
      ]
     },
     "metadata": {},
     "output_type": "display_data"
    },
    {
     "data": {
      "text/plain": [
       "'Ye5 3757.94989 1 [981.612925]'"
      ]
     },
     "metadata": {},
     "output_type": "display_data"
    },
    {
     "data": {
      "text/plain": [
       "'Ye6 3961.993725 1 [7938.61242]'"
      ]
     },
     "metadata": {},
     "output_type": "display_data"
    },
    {
     "data": {
      "image/svg+xml": [
       "<?xml version=\"1.0\" encoding=\"utf-8\" standalone=\"no\"?>\n",
       "<!DOCTYPE svg PUBLIC \"-//W3C//DTD SVG 1.1//EN\"\n",
       "  \"http://www.w3.org/Graphics/SVG/1.1/DTD/svg11.dtd\">\n",
       "<!-- Created with matplotlib (http://matplotlib.org/) -->\n",
       "<svg height=\"460pt\" version=\"1.1\" viewBox=\"0 0 684 460\" width=\"684pt\" xmlns=\"http://www.w3.org/2000/svg\" xmlns:xlink=\"http://www.w3.org/1999/xlink\">\n",
       " <defs>\n",
       "  <style type=\"text/css\">\n",
       "*{stroke-linecap:butt;stroke-linejoin:round;}\n",
       "  </style>\n",
       " </defs>\n",
       " <g id=\"figure_1\">\n",
       "  <g id=\"patch_1\">\n",
       "   <path d=\"\n",
       "M0 460.8\n",
       "L684 460.8\n",
       "L684 0\n",
       "L0 0\n",
       "L0 460.8\" style=\"fill:none;\"/>\n",
       "  </g>\n",
       "  <g id=\"axes_1\">\n",
       "   <g id=\"patch_2\">\n",
       "    <path d=\"\n",
       "M7.2 453.6\n",
       "L676.8 453.6\n",
       "L676.8 7.2\n",
       "L7.2 7.2\n",
       "L7.2 453.6\" style=\"fill:none;\"/>\n",
       "   </g>\n",
       "   <g id=\"line2d_1\">\n",
       "    <path clip-path=\"url(#p20201a9eeb)\" d=\"\n",
       "M231.813 303.55\n",
       "L176.719 303.55\" style=\"fill:none;stroke:#000000;stroke-linecap:square;\"/>\n",
       "   </g>\n",
       "   <g id=\"line2d_2\">\n",
       "    <path clip-path=\"url(#p20201a9eeb)\" d=\"\n",
       "M286.906 303.55\n",
       "L231.813 303.55\" style=\"fill:none;stroke:#000000;stroke-linecap:square;\"/>\n",
       "   </g>\n",
       "   <g id=\"line2d_3\">\n",
       "    <path clip-path=\"url(#p20201a9eeb)\" d=\"\n",
       "M342 279.166\n",
       "L286.906 303.55\" style=\"fill:none;stroke:#000000;stroke-linecap:square;\"/>\n",
       "   </g>\n",
       "   <g id=\"line2d_4\">\n",
       "    <path clip-path=\"url(#p20201a9eeb)\" d=\"\n",
       "M286.906 254.783\n",
       "L231.813 254.783\" style=\"fill:none;stroke:#000000;stroke-linecap:square;\"/>\n",
       "   </g>\n",
       "   <g id=\"line2d_5\">\n",
       "    <path clip-path=\"url(#p20201a9eeb)\" d=\"\n",
       "M342 279.166\n",
       "L286.906 254.783\" style=\"fill:none;stroke:#000000;stroke-linecap:square;\"/>\n",
       "   </g>\n",
       "   <g id=\"line2d_6\">\n",
       "    <path clip-path=\"url(#p20201a9eeb)\" d=\"\n",
       "M397.094 230.4\n",
       "L342 279.166\" style=\"fill:none;stroke:#000000;stroke-linecap:square;\"/>\n",
       "   </g>\n",
       "   <g id=\"line2d_7\">\n",
       "    <path clip-path=\"url(#p20201a9eeb)\" d=\"\n",
       "M397.094 230.4\n",
       "L342 230.4\" style=\"fill:none;stroke:#000000;stroke-linecap:square;\"/>\n",
       "   </g>\n",
       "   <g id=\"line2d_8\">\n",
       "    <path clip-path=\"url(#p20201a9eeb)\" d=\"\n",
       "M231.813 206.017\n",
       "L176.719 206.017\" style=\"fill:none;stroke:#000000;stroke-linecap:square;\"/>\n",
       "   </g>\n",
       "   <g id=\"line2d_9\">\n",
       "    <path clip-path=\"url(#p20201a9eeb)\" d=\"\n",
       "M286.906 206.017\n",
       "L231.813 206.017\" style=\"fill:none;stroke:#000000;stroke-linecap:square;\"/>\n",
       "   </g>\n",
       "   <g id=\"line2d_10\">\n",
       "    <path clip-path=\"url(#p20201a9eeb)\" d=\"\n",
       "M342 181.634\n",
       "L286.906 206.017\" style=\"fill:none;stroke:#000000;stroke-linecap:square;\"/>\n",
       "   </g>\n",
       "   <g id=\"line2d_11\">\n",
       "    <path clip-path=\"url(#p20201a9eeb)\" d=\"\n",
       "M231.813 157.25\n",
       "L176.719 157.25\" style=\"fill:none;stroke:#000000;stroke-linecap:square;\"/>\n",
       "   </g>\n",
       "   <g id=\"line2d_12\">\n",
       "    <path clip-path=\"url(#p20201a9eeb)\" d=\"\n",
       "M286.906 157.25\n",
       "L231.813 157.25\" style=\"fill:none;stroke:#000000;stroke-linecap:square;\"/>\n",
       "   </g>\n",
       "   <g id=\"line2d_13\">\n",
       "    <path clip-path=\"url(#p20201a9eeb)\" d=\"\n",
       "M342 181.634\n",
       "L286.906 157.25\" style=\"fill:none;stroke:#000000;stroke-linecap:square;\"/>\n",
       "   </g>\n",
       "   <g id=\"line2d_14\">\n",
       "    <path clip-path=\"url(#p20201a9eeb)\" d=\"\n",
       "M397.094 230.4\n",
       "L342 181.634\" style=\"fill:none;stroke:#000000;stroke-linecap:square;\"/>\n",
       "   </g>\n",
       "   <g id=\"line2d_15\">\n",
       "    <path clip-path=\"url(#p20201a9eeb)\" d=\"\n",
       "M452.187 230.4\n",
       "L397.094 230.4\" style=\"fill:none;stroke:#000000;stroke-linecap:square;\"/>\n",
       "   </g>\n",
       "   <g id=\"line2d_16\">\n",
       "    <path clip-path=\"url(#p20201a9eeb)\" d=\"\n",
       "M507.281 230.4\n",
       "L452.187 230.4\" style=\"fill:none;stroke:#000000;stroke-linecap:square;\"/>\n",
       "   </g>\n",
       "   <g id=\"RES-1b-o-dglc-HEX-0-0-1-aldi-2s-n-acetyl-LIN-1-1d-2+1-2n-1\">\n",
       "    <path clip-path=\"url(#p20201a9eeb)\" d=\"\n",
       "M515.757 222.897\n",
       "L515.757 237.903\n",
       "L498.805 237.903\n",
       "L498.805 222.897\n",
       "L515.757 222.897\n",
       "z\n",
       "\" style=\"fill:#0000ff;stroke:#000000;stroke-linejoin:miter;\"/>\n",
       "   </g>\n",
       "   <g id=\"RES-1b-b-dglc-HEX-1-5-2s-n-acetyl-LIN-1-1d-2+1-2n-2\">\n",
       "    <path clip-path=\"url(#p20201a9eeb)\" d=\"\n",
       "M460.663 222.897\n",
       "L460.663 237.903\n",
       "L443.711 237.903\n",
       "L443.711 222.897\n",
       "L460.663 222.897\n",
       "z\n",
       "\" style=\"fill:#0000ff;stroke:#000000;stroke-linejoin:miter;\"/>\n",
       "   </g>\n",
       "   <g id=\"RES-1b-b-dman-HEX-1-5-3\">\n",
       "    <path clip-path=\"url(#p20201a9eeb)\" d=\"\n",
       "M397.094 237.903\n",
       "C399.342 237.903 401.498 237.112 403.087 235.705\n",
       "C404.677 234.298 405.57 232.39 405.57 230.4\n",
       "C405.57 228.41 404.677 226.502 403.087 225.095\n",
       "C401.498 223.688 399.342 222.897 397.094 222.897\n",
       "C394.846 222.897 392.69 223.688 391.1 225.095\n",
       "C389.511 226.502 388.618 228.41 388.618 230.4\n",
       "C388.618 232.39 389.511 234.298 391.1 235.705\n",
       "C392.69 237.112 394.846 237.903 397.094 237.903\n",
       "z\n",
       "\" style=\"fill:#008000;stroke:#000000;stroke-linejoin:miter;\"/>\n",
       "   </g>\n",
       "   <g id=\"RES-1b-a-dman-HEX-1-5-12\">\n",
       "    <path clip-path=\"url(#p20201a9eeb)\" d=\"\n",
       "M342 286.669\n",
       "C344.248 286.669 346.404 285.878 347.993 284.471\n",
       "C349.583 283.065 350.476 281.156 350.476 279.166\n",
       "C350.476 277.177 349.583 275.268 347.993 273.861\n",
       "C346.404 272.454 344.248 271.664 342 271.664\n",
       "C339.752 271.664 337.596 272.454 336.007 273.861\n",
       "C334.417 275.268 333.524 277.177 333.524 279.166\n",
       "C333.524 281.156 334.417 283.065 336.007 284.471\n",
       "C337.596 285.878 339.752 286.669 342 286.669\n",
       "z\n",
       "\" style=\"fill:#008000;stroke:#000000;stroke-linejoin:miter;\"/>\n",
       "   </g>\n",
       "   <g id=\"RES-1b-b-dglc-HEX-1-5-2s-n-acetyl-LIN-1-1d-2+1-2n-15\">\n",
       "    <path clip-path=\"url(#p20201a9eeb)\" d=\"\n",
       "M295.382 296.047\n",
       "L295.382 311.052\n",
       "L278.43 311.052\n",
       "L278.43 296.047\n",
       "L295.382 296.047\n",
       "z\n",
       "\" style=\"fill:#0000ff;stroke:#000000;stroke-linejoin:miter;\"/>\n",
       "   </g>\n",
       "   <g id=\"RES-1b-b-dgal-HEX-1-5-16\">\n",
       "    <path clip-path=\"url(#p20201a9eeb)\" d=\"\n",
       "M231.813 311.052\n",
       "C234.061 311.052 236.217 310.262 237.806 308.855\n",
       "C239.396 307.448 240.289 305.539 240.289 303.55\n",
       "C240.289 301.56 239.396 299.651 237.806 298.244\n",
       "C236.217 296.838 234.061 296.047 231.813 296.047\n",
       "C229.565 296.047 227.409 296.838 225.819 298.244\n",
       "C224.23 299.651 223.337 301.56 223.337 303.55\n",
       "C223.337 305.539 224.23 307.448 225.819 308.855\n",
       "C227.409 310.262 229.565 311.052 231.813 311.052\n",
       "z\n",
       "\" style=\"fill:#ffff00;stroke:#000000;stroke-linejoin:miter;\"/>\n",
       "   </g>\n",
       "   <g id=\"RES-1b-a-dgro-dgal-NON-2-6-1-a-2-keto-3-d-2s-n-glycolyl-LIN-1-1d-5+1-2n-17\">\n",
       "    <path clip-path=\"url(#p20201a9eeb)\" d=\"\n",
       "M176.719 296.047\n",
       "L168.243 303.55\n",
       "L176.719 311.052\n",
       "L185.195 303.55\n",
       "z\n",
       "\" style=\"fill:#add8e6;stroke:#000000;stroke-linejoin:miter;\"/>\n",
       "   </g>\n",
       "   <g id=\"RES-1b-b-dglc-HEX-1-5-2s-n-acetyl-LIN-1-1d-2+1-2n-13\">\n",
       "    <path clip-path=\"url(#p20201a9eeb)\" d=\"\n",
       "M295.382 247.281\n",
       "L295.382 262.286\n",
       "L278.43 262.286\n",
       "L278.43 247.281\n",
       "L295.382 247.281\n",
       "z\n",
       "\" style=\"fill:#0000ff;stroke:#000000;stroke-linejoin:miter;\"/>\n",
       "   </g>\n",
       "   <g id=\"RES-1b-b-dgal-HEX-1-5-14\">\n",
       "    <path clip-path=\"url(#p20201a9eeb)\" d=\"\n",
       "M231.813 262.286\n",
       "C234.061 262.286 236.217 261.495 237.806 260.088\n",
       "C239.396 258.681 240.289 256.773 240.289 254.783\n",
       "C240.289 252.794 239.396 250.885 237.806 249.478\n",
       "C236.217 248.071 234.061 247.281 231.813 247.281\n",
       "C229.565 247.281 227.409 248.071 225.819 249.478\n",
       "C224.23 250.885 223.337 252.794 223.337 254.783\n",
       "C223.337 256.773 224.23 258.681 225.819 260.088\n",
       "C227.409 261.495 229.565 262.286 231.813 262.286\n",
       "z\n",
       "\" style=\"fill:#ffff00;stroke:#000000;stroke-linejoin:miter;\"/>\n",
       "   </g>\n",
       "   <g id=\"RES-1b-b-dglc-HEX-1-5-2s-n-acetyl-LIN-1-1d-2+1-2n-11\">\n",
       "    <path clip-path=\"url(#p20201a9eeb)\" d=\"\n",
       "M350.476 222.897\n",
       "L350.476 237.903\n",
       "L333.524 237.903\n",
       "L333.524 222.897\n",
       "L350.476 222.897\n",
       "z\n",
       "\" style=\"fill:#0000ff;stroke:#000000;stroke-linejoin:miter;\"/>\n",
       "   </g>\n",
       "   <g id=\"RES-1b-a-dman-HEX-1-5-4\">\n",
       "    <path clip-path=\"url(#p20201a9eeb)\" d=\"\n",
       "M342 189.136\n",
       "C344.248 189.136 346.404 188.346 347.993 186.939\n",
       "C349.583 185.532 350.476 183.623 350.476 181.634\n",
       "C350.476 179.644 349.583 177.735 347.993 176.329\n",
       "C346.404 174.922 344.248 174.131 342 174.131\n",
       "C339.752 174.131 337.596 174.922 336.007 176.329\n",
       "C334.417 177.735 333.524 179.644 333.524 181.634\n",
       "C333.524 183.623 334.417 185.532 336.007 186.939\n",
       "C337.596 188.346 339.752 189.136 342 189.136\n",
       "z\n",
       "\" style=\"fill:#008000;stroke:#000000;stroke-linejoin:miter;\"/>\n",
       "   </g>\n",
       "   <g id=\"RES-1b-b-dglc-HEX-1-5-2s-n-acetyl-LIN-1-1d-2+1-2n-8\">\n",
       "    <path clip-path=\"url(#p20201a9eeb)\" d=\"\n",
       "M295.382 198.514\n",
       "L295.382 213.519\n",
       "L278.43 213.519\n",
       "L278.43 198.514\n",
       "L295.382 198.514\n",
       "z\n",
       "\" style=\"fill:#0000ff;stroke:#000000;stroke-linejoin:miter;\"/>\n",
       "   </g>\n",
       "   <g id=\"RES-1b-b-dgal-HEX-1-5-9\">\n",
       "    <path clip-path=\"url(#p20201a9eeb)\" d=\"\n",
       "M231.813 213.519\n",
       "C234.061 213.519 236.217 212.729 237.806 211.322\n",
       "C239.396 209.915 240.289 208.006 240.289 206.017\n",
       "C240.289 204.027 239.396 202.119 237.806 200.712\n",
       "C236.217 199.305 234.061 198.514 231.813 198.514\n",
       "C229.565 198.514 227.409 199.305 225.819 200.712\n",
       "C224.23 202.119 223.337 204.027 223.337 206.017\n",
       "C223.337 208.006 224.23 209.915 225.819 211.322\n",
       "C227.409 212.729 229.565 213.519 231.813 213.519\n",
       "z\n",
       "\" style=\"fill:#ffff00;stroke:#000000;stroke-linejoin:miter;\"/>\n",
       "   </g>\n",
       "   <g id=\"RES-1b-a-dgro-dgal-NON-2-6-1-a-2-keto-3-d-2s-n-glycolyl-LIN-1-1d-5+1-2n-10\">\n",
       "    <path clip-path=\"url(#p20201a9eeb)\" d=\"\n",
       "M176.719 198.514\n",
       "L168.243 206.017\n",
       "L176.719 213.519\n",
       "L185.195 206.017\n",
       "z\n",
       "\" style=\"fill:#add8e6;stroke:#000000;stroke-linejoin:miter;\"/>\n",
       "   </g>\n",
       "   <g id=\"RES-1b-b-dglc-HEX-1-5-2s-n-acetyl-LIN-1-1d-2+1-2n-5\">\n",
       "    <path clip-path=\"url(#p20201a9eeb)\" d=\"\n",
       "M295.382 149.748\n",
       "L295.382 164.753\n",
       "L278.43 164.753\n",
       "L278.43 149.748\n",
       "L295.382 149.748\n",
       "z\n",
       "\" style=\"fill:#0000ff;stroke:#000000;stroke-linejoin:miter;\"/>\n",
       "   </g>\n",
       "   <g id=\"RES-1b-b-dgal-HEX-1-5-6\">\n",
       "    <path clip-path=\"url(#p20201a9eeb)\" d=\"\n",
       "M231.813 164.753\n",
       "C234.061 164.753 236.217 163.962 237.806 162.556\n",
       "C239.396 161.149 240.289 159.24 240.289 157.25\n",
       "C240.289 155.261 239.396 153.352 237.806 151.945\n",
       "C236.217 150.538 234.061 149.748 231.813 149.748\n",
       "C229.565 149.748 227.409 150.538 225.819 151.945\n",
       "C224.23 153.352 223.337 155.261 223.337 157.25\n",
       "C223.337 159.24 224.23 161.149 225.819 162.556\n",
       "C227.409 163.962 229.565 164.753 231.813 164.753\n",
       "z\n",
       "\" style=\"fill:#ffff00;stroke:#000000;stroke-linejoin:miter;\"/>\n",
       "   </g>\n",
       "   <g id=\"RES-1b-a-dgro-dgal-NON-2-6-1-a-2-keto-3-d-2s-n-acetyl-LIN-1-1d-5+1-2n-7\">\n",
       "    <path clip-path=\"url(#p20201a9eeb)\" d=\"\n",
       "M176.719 149.748\n",
       "L168.243 157.25\n",
       "L176.719 164.753\n",
       "L185.195 157.25\n",
       "z\n",
       "\" style=\"fill:#800080;stroke:#000000;stroke-linejoin:miter;\"/>\n",
       "   </g>\n",
       "   <g id=\"patch_3\">\n",
       "    <path d=\"\n",
       "M7.2 7.2\n",
       "L676.8 7.2\" style=\"fill:none;stroke:#000000;stroke-linecap:square;stroke-linejoin:miter;\"/>\n",
       "   </g>\n",
       "   <g id=\"patch_4\">\n",
       "    <path d=\"\n",
       "M676.8 453.6\n",
       "L676.8 7.2\" style=\"fill:none;stroke:#000000;stroke-linecap:square;stroke-linejoin:miter;\"/>\n",
       "   </g>\n",
       "   <g id=\"patch_5\">\n",
       "    <path d=\"\n",
       "M7.2 453.6\n",
       "L676.8 453.6\" style=\"fill:none;stroke:#000000;stroke-linecap:square;stroke-linejoin:miter;\"/>\n",
       "   </g>\n",
       "   <g id=\"patch_6\">\n",
       "    <path d=\"\n",
       "M7.2 453.6\n",
       "L7.2 7.2\" style=\"fill:none;stroke:#000000;stroke-linecap:square;stroke-linejoin:miter;\"/>\n",
       "   </g>\n",
       "   <g id=\"line2d_17\">\n",
       "    <path clip-path=\"url(#p20201a9eeb)\" d=\"\n",
       "M204.266 142.245\n",
       "L204.266 172.255\" style=\"fill:none;stroke:#ff0000;stroke-linecap:square;\"/>\n",
       "   </g>\n",
       "   <g id=\"line2d_18\">\n",
       "    <path clip-path=\"url(#p20201a9eeb)\" d=\"\n",
       "M214.861 142.245\n",
       "L248.765 172.255\" style=\"fill:none;stroke:#ff0000;stroke-linecap:square;\"/>\n",
       "   </g>\n",
       "   <g id=\"line2d_19\">\n",
       "    <path clip-path=\"url(#p20201a9eeb)\" d=\"\n",
       "M214.861 142.245\n",
       "L248.765 172.255\" style=\"fill:none;stroke:#ff0000;stroke-linecap:square;\"/>\n",
       "   </g>\n",
       "   <g id=\"line2d_20\">\n",
       "    <path clip-path=\"url(#p20201a9eeb)\" d=\"\n",
       "M297.501 281.98\n",
       "L331.405 251.97\" style=\"fill:none;stroke:#ff0000;stroke-linecap:square;\"/>\n",
       "   </g>\n",
       "   <g id=\"line2d_21\">\n",
       "    <path clip-path=\"url(#p20201a9eeb)\" d=\"\n",
       "M325.048 264.161\n",
       "L358.952 294.171\" style=\"fill:none;stroke:#ff0000;stroke-linecap:square;\"/>\n",
       "   </g>\n",
       "   <g id=\"line2d_22\">\n",
       "    <path clip-path=\"url(#p20201a9eeb)\" d=\"\n",
       "M214.861 142.245\n",
       "L248.765 172.255\" style=\"fill:none;stroke:#ff0000;stroke-linecap:square;\"/>\n",
       "   </g>\n",
       "   <g id=\"line2d_23\">\n",
       "    <path clip-path=\"url(#p20201a9eeb)\" d=\"\n",
       "M259.359 142.245\n",
       "L259.359 172.255\" style=\"fill:none;stroke:#ff0000;stroke-linecap:square;\"/>\n",
       "   </g>\n",
       "   <g id=\"line2d_24\">\n",
       "    <path clip-path=\"url(#p20201a9eeb)\" d=\"\n",
       "M269.954 288.545\n",
       "L303.858 318.555\" style=\"fill:none;stroke:#ff0000;stroke-linecap:square;\"/>\n",
       "   </g>\n",
       "   <g id=\"line2d_25\">\n",
       "    <path clip-path=\"url(#p20201a9eeb)\" d=\"\n",
       "M269.954 191.012\n",
       "L303.858 221.022\" style=\"fill:none;stroke:#ff0000;stroke-linecap:square;\"/>\n",
       "   </g>\n",
       "   <g id=\"line2d_26\">\n",
       "    <path clip-path=\"url(#p20201a9eeb)\" d=\"\n",
       "M297.501 184.447\n",
       "L331.405 154.437\" style=\"fill:none;stroke:#ff0000;stroke-linecap:square;\"/>\n",
       "   </g>\n",
       "   <g id=\"line2d_27\">\n",
       "    <path clip-path=\"url(#p20201a9eeb)\" d=\"\n",
       "M297.501 276.353\n",
       "L331.405 306.363\" style=\"fill:none;stroke:#ff0000;stroke-linecap:square;\"/>\n",
       "   </g>\n",
       "   <g id=\"line2d_28\">\n",
       "    <path clip-path=\"url(#p20201a9eeb)\" d=\"\n",
       "M297.501 178.82\n",
       "L331.405 208.83\" style=\"fill:none;stroke:#ff0000;stroke-linecap:square;\"/>\n",
       "   </g>\n",
       "   <g id=\"line2d_29\">\n",
       "    <path clip-path=\"url(#p20201a9eeb)\" d=\"\n",
       "M297.501 184.447\n",
       "L331.405 154.437\" style=\"fill:none;stroke:#ff0000;stroke-linecap:square;\"/>\n",
       "   </g>\n",
       "   <g id=\"line2d_30\">\n",
       "    <path clip-path=\"url(#p20201a9eeb)\" d=\"\n",
       "M269.954 191.012\n",
       "L303.858 221.022\" style=\"fill:none;stroke:#ff0000;stroke-linecap:square;\"/>\n",
       "   </g>\n",
       "   <g id=\"line2d_31\">\n",
       "    <path clip-path=\"url(#p20201a9eeb)\" d=\"\n",
       "M269.954 288.545\n",
       "L303.858 318.555\" style=\"fill:none;stroke:#ff0000;stroke-linecap:square;\"/>\n",
       "   </g>\n",
       "   <g id=\"line2d_32\">\n",
       "    <path clip-path=\"url(#p20201a9eeb)\" d=\"\n",
       "M259.359 142.245\n",
       "L259.359 172.255\" style=\"fill:none;stroke:#ff0000;stroke-linecap:square;\"/>\n",
       "   </g>\n",
       "   <g id=\"line2d_33\">\n",
       "    <path clip-path=\"url(#p20201a9eeb)\" d=\"\n",
       "M204.266 142.245\n",
       "L204.266 172.255\" style=\"fill:none;stroke:#ff0000;stroke-linecap:square;\"/>\n",
       "   </g>\n",
       "  </g>\n",
       " </g>\n",
       " <defs>\n",
       "  <clipPath id=\"p20201a9eeb\">\n",
       "   <rect height=\"446.4\" width=\"669.6\" x=\"7.2\" y=\"7.2\"/>\n",
       "  </clipPath>\n",
       " </defs>\n",
       "</svg>\n"
      ],
      "text/plain": [
       "<matplotlib.figure.Figure at 0x17ec8e80>"
      ]
     },
     "metadata": {},
     "output_type": "display_data"
    },
    {
     "data": {
      "text/plain": [
       "17"
      ]
     },
     "metadata": {},
     "output_type": "display_data"
    },
    {
     "data": {
      "text/plain": [
       "3528.82963476351"
      ]
     },
     "metadata": {},
     "output_type": "display_data"
    },
    {
     "data": {
      "text/plain": [
       "'Fragments Observed / Expected: 0.069'"
      ]
     },
     "metadata": {},
     "output_type": "display_data"
    },
    {
     "data": {
      "text/plain": [
       "'Be2 463.245126 1 [340.440062]'"
      ]
     },
     "metadata": {},
     "output_type": "display_data"
    },
    {
     "data": {
      "text/plain": [
       "'Bh2 463.245126 1 [340.440062]'"
      ]
     },
     "metadata": {},
     "output_type": "display_data"
    },
    {
     "data": {
      "text/plain": [
       "'0,3Ac1 567.287756 1 [397.179711]'"
      ]
     },
     "metadata": {},
     "output_type": "display_data"
    },
    {
     "data": {
      "text/plain": [
       "'Bg1 637.320021 1 [7423.127947]'"
      ]
     },
     "metadata": {},
     "output_type": "display_data"
    },
    {
     "data": {
      "text/plain": [
       "'1,5Ad1 1292.67337 3 [45669.482905, 40.667141, 4987.323261]'"
      ]
     },
     "metadata": {},
     "output_type": "display_data"
    },
    {
     "data": {
      "text/plain": [
       "'3,5Aa1 1408.695082 1 [116.866158]'"
      ]
     },
     "metadata": {},
     "output_type": "display_data"
    },
    {
     "data": {
      "text/plain": [
       "'1,4Aa1 1408.695082 1 [116.866158]'"
      ]
     },
     "metadata": {},
     "output_type": "display_data"
    },
    {
     "data": {
      "text/plain": [
       "'1,4Xc3 2324.182725 1 [14286.29503]'"
      ]
     },
     "metadata": {},
     "output_type": "display_data"
    },
    {
     "data": {
      "text/plain": [
       "'1,4Xd3 2947.537314 3 [1303.643081, 903.697089, 5764.666342]'"
      ]
     },
     "metadata": {},
     "output_type": "display_data"
    },
    {
     "data": {
      "text/plain": [
       "'1,4Xf4 2947.537314 3 [1303.643081, 903.697089, 5764.666342]'"
      ]
     },
     "metadata": {},
     "output_type": "display_data"
    },
    {
     "data": {
      "text/plain": [
       "'1,4Aa2 2960.541616 1 [2820.006569]'"
      ]
     },
     "metadata": {},
     "output_type": "display_data"
    },
    {
     "data": {
      "text/plain": [
       "'0,3Xc3 2961.528106 3 [2501.909559, 2044.576953, 696.199777]'"
      ]
     },
     "metadata": {},
     "output_type": "display_data"
    },
    {
     "data": {
      "text/plain": [
       "'1,4Xg4 3151.598109 1 [11130.27052]'"
      ]
     },
     "metadata": {},
     "output_type": "display_data"
    },
    {
     "data": {
      "text/plain": [
       "'1,4Xe4 3151.598109 1 [11130.27052]'"
      ]
     },
     "metadata": {},
     "output_type": "display_data"
    },
    {
     "data": {
      "text/plain": [
       "'Yh5 3310.769744 1 [6044.196575]'"
      ]
     },
     "metadata": {},
     "output_type": "display_data"
    },
    {
     "data": {
      "text/plain": [
       "'Yf6 3310.769744 1 [6044.196575]'"
      ]
     },
     "metadata": {},
     "output_type": "display_data"
    },
    {
     "data": {
      "text/plain": [
       "'Yi5 3310.769744 1 [6044.196575]'"
      ]
     },
     "metadata": {},
     "output_type": "display_data"
    },
    {
     "data": {
      "text/plain": [
       "'Ye5 3310.769744 1 [6044.196575]'"
      ]
     },
     "metadata": {},
     "output_type": "display_data"
    },
    {
     "data": {
      "image/svg+xml": [
       "<?xml version=\"1.0\" encoding=\"utf-8\" standalone=\"no\"?>\n",
       "<!DOCTYPE svg PUBLIC \"-//W3C//DTD SVG 1.1//EN\"\n",
       "  \"http://www.w3.org/Graphics/SVG/1.1/DTD/svg11.dtd\">\n",
       "<!-- Created with matplotlib (http://matplotlib.org/) -->\n",
       "<svg height=\"460pt\" version=\"1.1\" viewBox=\"0 0 684 460\" width=\"684pt\" xmlns=\"http://www.w3.org/2000/svg\" xmlns:xlink=\"http://www.w3.org/1999/xlink\">\n",
       " <defs>\n",
       "  <style type=\"text/css\">\n",
       "*{stroke-linecap:butt;stroke-linejoin:round;}\n",
       "  </style>\n",
       " </defs>\n",
       " <g id=\"figure_1\">\n",
       "  <g id=\"patch_1\">\n",
       "   <path d=\"\n",
       "M0 460.8\n",
       "L684 460.8\n",
       "L684 0\n",
       "L0 0\n",
       "L0 460.8\" style=\"fill:none;\"/>\n",
       "  </g>\n",
       "  <g id=\"axes_1\">\n",
       "   <g id=\"patch_2\">\n",
       "    <path d=\"\n",
       "M7.2 453.6\n",
       "L676.8 453.6\n",
       "L676.8 7.2\n",
       "L7.2 7.2\n",
       "L7.2 453.6\" style=\"fill:none;\"/>\n",
       "   </g>\n",
       "   <g id=\"line2d_1\">\n",
       "    <path clip-path=\"url(#p20201a9eeb)\" d=\"\n",
       "M286.906 303.55\n",
       "L286.906 279.166\" style=\"fill:none;stroke:#000000;stroke-linecap:square;\"/>\n",
       "   </g>\n",
       "   <g id=\"line2d_2\">\n",
       "    <path clip-path=\"url(#p20201a9eeb)\" d=\"\n",
       "M286.906 303.55\n",
       "L231.813 303.55\" style=\"fill:none;stroke:#000000;stroke-linecap:square;\"/>\n",
       "   </g>\n",
       "   <g id=\"line2d_3\">\n",
       "    <path clip-path=\"url(#p20201a9eeb)\" d=\"\n",
       "M342 279.166\n",
       "L286.906 303.55\" style=\"fill:none;stroke:#000000;stroke-linecap:square;\"/>\n",
       "   </g>\n",
       "   <g id=\"line2d_4\">\n",
       "    <path clip-path=\"url(#p20201a9eeb)\" d=\"\n",
       "M286.906 254.783\n",
       "L231.813 254.783\" style=\"fill:none;stroke:#000000;stroke-linecap:square;\"/>\n",
       "   </g>\n",
       "   <g id=\"line2d_5\">\n",
       "    <path clip-path=\"url(#p20201a9eeb)\" d=\"\n",
       "M342 279.166\n",
       "L286.906 254.783\" style=\"fill:none;stroke:#000000;stroke-linecap:square;\"/>\n",
       "   </g>\n",
       "   <g id=\"line2d_6\">\n",
       "    <path clip-path=\"url(#p20201a9eeb)\" d=\"\n",
       "M397.094 230.4\n",
       "L342 279.166\" style=\"fill:none;stroke:#000000;stroke-linecap:square;\"/>\n",
       "   </g>\n",
       "   <g id=\"line2d_7\">\n",
       "    <path clip-path=\"url(#p20201a9eeb)\" d=\"\n",
       "M286.906 206.017\n",
       "L231.813 206.017\" style=\"fill:none;stroke:#000000;stroke-linecap:square;\"/>\n",
       "   </g>\n",
       "   <g id=\"line2d_8\">\n",
       "    <path clip-path=\"url(#p20201a9eeb)\" d=\"\n",
       "M342 181.634\n",
       "L286.906 206.017\" style=\"fill:none;stroke:#000000;stroke-linecap:square;\"/>\n",
       "   </g>\n",
       "   <g id=\"line2d_9\">\n",
       "    <path clip-path=\"url(#p20201a9eeb)\" d=\"\n",
       "M231.813 157.25\n",
       "L176.719 157.25\" style=\"fill:none;stroke:#000000;stroke-linecap:square;\"/>\n",
       "   </g>\n",
       "   <g id=\"line2d_10\">\n",
       "    <path clip-path=\"url(#p20201a9eeb)\" d=\"\n",
       "M286.906 157.25\n",
       "L231.813 157.25\" style=\"fill:none;stroke:#000000;stroke-linecap:square;\"/>\n",
       "   </g>\n",
       "   <g id=\"line2d_11\">\n",
       "    <path clip-path=\"url(#p20201a9eeb)\" d=\"\n",
       "M342 181.634\n",
       "L286.906 157.25\" style=\"fill:none;stroke:#000000;stroke-linecap:square;\"/>\n",
       "   </g>\n",
       "   <g id=\"line2d_12\">\n",
       "    <path clip-path=\"url(#p20201a9eeb)\" d=\"\n",
       "M397.094 230.4\n",
       "L342 181.634\" style=\"fill:none;stroke:#000000;stroke-linecap:square;\"/>\n",
       "   </g>\n",
       "   <g id=\"line2d_13\">\n",
       "    <path clip-path=\"url(#p20201a9eeb)\" d=\"\n",
       "M452.187 230.4\n",
       "L397.094 230.4\" style=\"fill:none;stroke:#000000;stroke-linecap:square;\"/>\n",
       "   </g>\n",
       "   <g id=\"line2d_14\">\n",
       "    <path clip-path=\"url(#p20201a9eeb)\" d=\"\n",
       "M507.281 230.4\n",
       "L452.187 230.4\" style=\"fill:none;stroke:#000000;stroke-linecap:square;\"/>\n",
       "   </g>\n",
       "   <g id=\"line2d_15\">\n",
       "    <path clip-path=\"url(#p20201a9eeb)\" d=\"\n",
       "M507.281 230.4\n",
       "L507.281 206.017\" style=\"fill:none;stroke:#000000;stroke-linecap:square;\"/>\n",
       "   </g>\n",
       "   <g id=\"RES-1b-o-dglc-HEX-0-0-1-aldi-2s-n-acetyl-LIN-1-1d-2+1-2n-1\">\n",
       "    <path clip-path=\"url(#p20201a9eeb)\" d=\"\n",
       "M515.757 222.897\n",
       "L515.757 237.903\n",
       "L498.805 237.903\n",
       "L498.805 222.897\n",
       "L515.757 222.897\n",
       "z\n",
       "\" style=\"fill:#0000ff;stroke:#000000;stroke-linejoin:miter;\"/>\n",
       "   </g>\n",
       "   <g id=\"RES-1b-b-dglc-HEX-1-5-2s-n-acetyl-LIN-1-1d-2+1-2n-2\">\n",
       "    <path clip-path=\"url(#p20201a9eeb)\" d=\"\n",
       "M460.663 222.897\n",
       "L460.663 237.903\n",
       "L443.711 237.903\n",
       "L443.711 222.897\n",
       "L460.663 222.897\n",
       "z\n",
       "\" style=\"fill:#0000ff;stroke:#000000;stroke-linejoin:miter;\"/>\n",
       "   </g>\n",
       "   <g id=\"RES-1b-b-dman-HEX-1-5-3\">\n",
       "    <path clip-path=\"url(#p20201a9eeb)\" d=\"\n",
       "M397.094 237.903\n",
       "C399.342 237.903 401.498 237.112 403.087 235.705\n",
       "C404.677 234.298 405.57 232.39 405.57 230.4\n",
       "C405.57 228.41 404.677 226.502 403.087 225.095\n",
       "C401.498 223.688 399.342 222.897 397.094 222.897\n",
       "C394.846 222.897 392.69 223.688 391.1 225.095\n",
       "C389.511 226.502 388.618 228.41 388.618 230.4\n",
       "C388.618 232.39 389.511 234.298 391.1 235.705\n",
       "C392.69 237.112 394.846 237.903 397.094 237.903\n",
       "z\n",
       "\" style=\"fill:#008000;stroke:#000000;stroke-linejoin:miter;\"/>\n",
       "   </g>\n",
       "   <g id=\"RES-1b-a-dman-HEX-1-5-10\">\n",
       "    <path clip-path=\"url(#p20201a9eeb)\" d=\"\n",
       "M342 286.669\n",
       "C344.248 286.669 346.404 285.878 347.993 284.471\n",
       "C349.583 283.065 350.476 281.156 350.476 279.166\n",
       "C350.476 277.177 349.583 275.268 347.993 273.861\n",
       "C346.404 272.454 344.248 271.664 342 271.664\n",
       "C339.752 271.664 337.596 272.454 336.007 273.861\n",
       "C334.417 275.268 333.524 277.177 333.524 279.166\n",
       "C333.524 281.156 334.417 283.065 336.007 284.471\n",
       "C337.596 285.878 339.752 286.669 342 286.669\n",
       "z\n",
       "\" style=\"fill:#008000;stroke:#000000;stroke-linejoin:miter;\"/>\n",
       "   </g>\n",
       "   <g id=\"RES-1b-b-dglc-HEX-1-5-2s-n-acetyl-LIN-1-1d-2+1-2n-13\">\n",
       "    <path clip-path=\"url(#p20201a9eeb)\" d=\"\n",
       "M295.382 296.047\n",
       "L295.382 311.052\n",
       "L278.43 311.052\n",
       "L278.43 296.047\n",
       "L295.382 296.047\n",
       "z\n",
       "\" style=\"fill:#0000ff;stroke:#000000;stroke-linejoin:miter;\"/>\n",
       "   </g>\n",
       "   <g id=\"RES-1b-a-lgal-HEX-1-5-6-d-15\">\n",
       "    <path clip-path=\"url(#p20201a9eeb)\" d=\"\n",
       "M286.906 271.664\n",
       "L279.566 282.918\n",
       "L294.247 282.918\n",
       "z\n",
       "\" style=\"fill:#ff0000;stroke:#000000;stroke-linejoin:miter;\"/>\n",
       "   </g>\n",
       "   <g id=\"RES-1b-b-dgal-HEX-1-5-14\">\n",
       "    <path clip-path=\"url(#p20201a9eeb)\" d=\"\n",
       "M231.813 311.052\n",
       "C234.061 311.052 236.217 310.262 237.806 308.855\n",
       "C239.396 307.448 240.289 305.539 240.289 303.55\n",
       "C240.289 301.56 239.396 299.651 237.806 298.244\n",
       "C236.217 296.838 234.061 296.047 231.813 296.047\n",
       "C229.565 296.047 227.409 296.838 225.819 298.244\n",
       "C224.23 299.651 223.337 301.56 223.337 303.55\n",
       "C223.337 305.539 224.23 307.448 225.819 308.855\n",
       "C227.409 310.262 229.565 311.052 231.813 311.052\n",
       "z\n",
       "\" style=\"fill:#ffff00;stroke:#000000;stroke-linejoin:miter;\"/>\n",
       "   </g>\n",
       "   <g id=\"RES-1b-b-dglc-HEX-1-5-2s-n-acetyl-LIN-1-1d-2+1-2n-11\">\n",
       "    <path clip-path=\"url(#p20201a9eeb)\" d=\"\n",
       "M295.382 247.281\n",
       "L295.382 262.286\n",
       "L278.43 262.286\n",
       "L278.43 247.281\n",
       "L295.382 247.281\n",
       "z\n",
       "\" style=\"fill:#0000ff;stroke:#000000;stroke-linejoin:miter;\"/>\n",
       "   </g>\n",
       "   <g id=\"RES-1b-b-dgal-HEX-1-5-12\">\n",
       "    <path clip-path=\"url(#p20201a9eeb)\" d=\"\n",
       "M231.813 262.286\n",
       "C234.061 262.286 236.217 261.495 237.806 260.088\n",
       "C239.396 258.681 240.289 256.773 240.289 254.783\n",
       "C240.289 252.794 239.396 250.885 237.806 249.478\n",
       "C236.217 248.071 234.061 247.281 231.813 247.281\n",
       "C229.565 247.281 227.409 248.071 225.819 249.478\n",
       "C224.23 250.885 223.337 252.794 223.337 254.783\n",
       "C223.337 256.773 224.23 258.681 225.819 260.088\n",
       "C227.409 261.495 229.565 262.286 231.813 262.286\n",
       "z\n",
       "\" style=\"fill:#ffff00;stroke:#000000;stroke-linejoin:miter;\"/>\n",
       "   </g>\n",
       "   <g id=\"RES-1b-a-dman-HEX-1-5-4\">\n",
       "    <path clip-path=\"url(#p20201a9eeb)\" d=\"\n",
       "M342 189.136\n",
       "C344.248 189.136 346.404 188.346 347.993 186.939\n",
       "C349.583 185.532 350.476 183.623 350.476 181.634\n",
       "C350.476 179.644 349.583 177.735 347.993 176.329\n",
       "C346.404 174.922 344.248 174.131 342 174.131\n",
       "C339.752 174.131 337.596 174.922 336.007 176.329\n",
       "C334.417 177.735 333.524 179.644 333.524 181.634\n",
       "C333.524 183.623 334.417 185.532 336.007 186.939\n",
       "C337.596 188.346 339.752 189.136 342 189.136\n",
       "z\n",
       "\" style=\"fill:#008000;stroke:#000000;stroke-linejoin:miter;\"/>\n",
       "   </g>\n",
       "   <g id=\"RES-1b-b-dglc-HEX-1-5-2s-n-acetyl-LIN-1-1d-2+1-2n-8\">\n",
       "    <path clip-path=\"url(#p20201a9eeb)\" d=\"\n",
       "M295.382 198.514\n",
       "L295.382 213.519\n",
       "L278.43 213.519\n",
       "L278.43 198.514\n",
       "L295.382 198.514\n",
       "z\n",
       "\" style=\"fill:#0000ff;stroke:#000000;stroke-linejoin:miter;\"/>\n",
       "   </g>\n",
       "   <g id=\"RES-1b-b-dgal-HEX-1-5-9\">\n",
       "    <path clip-path=\"url(#p20201a9eeb)\" d=\"\n",
       "M231.813 213.519\n",
       "C234.061 213.519 236.217 212.729 237.806 211.322\n",
       "C239.396 209.915 240.289 208.006 240.289 206.017\n",
       "C240.289 204.027 239.396 202.119 237.806 200.712\n",
       "C236.217 199.305 234.061 198.514 231.813 198.514\n",
       "C229.565 198.514 227.409 199.305 225.819 200.712\n",
       "C224.23 202.119 223.337 204.027 223.337 206.017\n",
       "C223.337 208.006 224.23 209.915 225.819 211.322\n",
       "C227.409 212.729 229.565 213.519 231.813 213.519\n",
       "z\n",
       "\" style=\"fill:#ffff00;stroke:#000000;stroke-linejoin:miter;\"/>\n",
       "   </g>\n",
       "   <g id=\"RES-1b-b-dglc-HEX-1-5-2s-n-acetyl-LIN-1-1d-2+1-2n-5\">\n",
       "    <path clip-path=\"url(#p20201a9eeb)\" d=\"\n",
       "M295.382 149.748\n",
       "L295.382 164.753\n",
       "L278.43 164.753\n",
       "L278.43 149.748\n",
       "L295.382 149.748\n",
       "z\n",
       "\" style=\"fill:#0000ff;stroke:#000000;stroke-linejoin:miter;\"/>\n",
       "   </g>\n",
       "   <g id=\"RES-1b-b-dgal-HEX-1-5-6\">\n",
       "    <path clip-path=\"url(#p20201a9eeb)\" d=\"\n",
       "M231.813 164.753\n",
       "C234.061 164.753 236.217 163.962 237.806 162.556\n",
       "C239.396 161.149 240.289 159.24 240.289 157.25\n",
       "C240.289 155.261 239.396 153.352 237.806 151.945\n",
       "C236.217 150.538 234.061 149.748 231.813 149.748\n",
       "C229.565 149.748 227.409 150.538 225.819 151.945\n",
       "C224.23 153.352 223.337 155.261 223.337 157.25\n",
       "C223.337 159.24 224.23 161.149 225.819 162.556\n",
       "C227.409 163.962 229.565 164.753 231.813 164.753\n",
       "z\n",
       "\" style=\"fill:#ffff00;stroke:#000000;stroke-linejoin:miter;\"/>\n",
       "   </g>\n",
       "   <g id=\"RES-1b-a-dgal-HEX-1-5-7\">\n",
       "    <path clip-path=\"url(#p20201a9eeb)\" d=\"\n",
       "M176.719 164.753\n",
       "C178.967 164.753 181.123 163.962 182.712 162.556\n",
       "C184.302 161.149 185.195 159.24 185.195 157.25\n",
       "C185.195 155.261 184.302 153.352 182.712 151.945\n",
       "C181.123 150.538 178.967 149.748 176.719 149.748\n",
       "C174.471 149.748 172.315 150.538 170.726 151.945\n",
       "C169.136 153.352 168.243 155.261 168.243 157.25\n",
       "C168.243 159.24 169.136 161.149 170.726 162.556\n",
       "C172.315 163.962 174.471 164.753 176.719 164.753\n",
       "z\n",
       "\" style=\"fill:#ffff00;stroke:#000000;stroke-linejoin:miter;\"/>\n",
       "   </g>\n",
       "   <g id=\"RES-1b-a-lgal-HEX-1-5-6-d-16\">\n",
       "    <path clip-path=\"url(#p20201a9eeb)\" d=\"\n",
       "M507.281 198.514\n",
       "L499.941 209.768\n",
       "L514.621 209.768\n",
       "z\n",
       "\" style=\"fill:#ff0000;stroke:#000000;stroke-linejoin:miter;\"/>\n",
       "   </g>\n",
       "   <g id=\"patch_3\">\n",
       "    <path d=\"\n",
       "M7.2 7.2\n",
       "L676.8 7.2\" style=\"fill:none;stroke:#000000;stroke-linecap:square;stroke-linejoin:miter;\"/>\n",
       "   </g>\n",
       "   <g id=\"patch_4\">\n",
       "    <path d=\"\n",
       "M676.8 453.6\n",
       "L676.8 7.2\" style=\"fill:none;stroke:#000000;stroke-linecap:square;stroke-linejoin:miter;\"/>\n",
       "   </g>\n",
       "   <g id=\"patch_5\">\n",
       "    <path d=\"\n",
       "M7.2 453.6\n",
       "L676.8 453.6\" style=\"fill:none;stroke:#000000;stroke-linecap:square;stroke-linejoin:miter;\"/>\n",
       "   </g>\n",
       "   <g id=\"patch_6\">\n",
       "    <path d=\"\n",
       "M7.2 453.6\n",
       "L7.2 7.2\" style=\"fill:none;stroke:#000000;stroke-linecap:square;stroke-linejoin:miter;\"/>\n",
       "   </g>\n",
       "   <g id=\"line2d_16\">\n",
       "    <path clip-path=\"url(#p20201a9eeb)\" d=\"\n",
       "M297.501 178.82\n",
       "L331.405 208.83\" style=\"fill:none;stroke:#ff0000;stroke-linecap:square;\"/>\n",
       "   </g>\n",
       "   <g id=\"line2d_17\">\n",
       "    <path clip-path=\"url(#p20201a9eeb)\" d=\"\n",
       "M297.501 281.98\n",
       "L331.405 251.97\" style=\"fill:none;stroke:#ff0000;stroke-linecap:square;\"/>\n",
       "   </g>\n",
       "   <g id=\"line2d_18\">\n",
       "    <path clip-path=\"url(#p20201a9eeb)\" d=\"\n",
       "M325.048 264.161\n",
       "L358.952 294.171\" style=\"fill:none;stroke:#ff0000;stroke-linecap:square;\"/>\n",
       "   </g>\n",
       "   <g id=\"line2d_19\">\n",
       "    <path clip-path=\"url(#p20201a9eeb)\" d=\"\n",
       "M297.501 276.353\n",
       "L331.405 306.363\" style=\"fill:none;stroke:#ff0000;stroke-linecap:square;\"/>\n",
       "   </g>\n",
       "   <g id=\"line2d_20\">\n",
       "    <path clip-path=\"url(#p20201a9eeb)\" d=\"\n",
       "M325.048 166.629\n",
       "L358.952 196.639\" style=\"fill:none;stroke:#ff0000;stroke-linecap:square;\"/>\n",
       "   </g>\n",
       "   <g id=\"line2d_21\">\n",
       "    <path clip-path=\"url(#p20201a9eeb)\" d=\"\n",
       "M380.142 215.395\n",
       "L414.046 245.405\" style=\"fill:none;stroke:#ff0000;stroke-linecap:square;\"/>\n",
       "   </g>\n",
       "   <g id=\"line2d_22\">\n",
       "    <path clip-path=\"url(#p20201a9eeb)\" d=\"\n",
       "M380.142 215.395\n",
       "L414.046 245.405\" style=\"fill:none;stroke:#ff0000;stroke-linecap:square;\"/>\n",
       "   </g>\n",
       "   <g id=\"line2d_23\">\n",
       "    <path clip-path=\"url(#p20201a9eeb)\" d=\"\n",
       "M325.048 264.161\n",
       "L358.952 294.171\" style=\"fill:none;stroke:#ff0000;stroke-linecap:square;\"/>\n",
       "   </g>\n",
       "   <g id=\"line2d_24\">\n",
       "    <path clip-path=\"url(#p20201a9eeb)\" d=\"\n",
       "M325.048 166.629\n",
       "L358.952 196.639\" style=\"fill:none;stroke:#ff0000;stroke-linecap:square;\"/>\n",
       "   </g>\n",
       "   <g id=\"line2d_25\">\n",
       "    <path clip-path=\"url(#p20201a9eeb)\" d=\"\n",
       "M269.954 142.245\n",
       "L303.858 172.255\" style=\"fill:none;stroke:#ff0000;stroke-linecap:square;\"/>\n",
       "   </g>\n",
       "   <g id=\"line2d_26\">\n",
       "    <path clip-path=\"url(#p20201a9eeb)\" d=\"\n",
       "M435.235 215.395\n",
       "L469.139 245.405\" style=\"fill:none;stroke:#ff0000;stroke-linecap:square;\"/>\n",
       "   </g>\n",
       "   <g id=\"line2d_27\">\n",
       "    <path clip-path=\"url(#p20201a9eeb)\" d=\"\n",
       "M325.048 264.161\n",
       "L358.952 294.171\" style=\"fill:none;stroke:#ff0000;stroke-linecap:square;\"/>\n",
       "   </g>\n",
       "   <g id=\"line2d_28\">\n",
       "    <path clip-path=\"url(#p20201a9eeb)\" d=\"\n",
       "M269.954 239.778\n",
       "L303.858 269.788\" style=\"fill:none;stroke:#ff0000;stroke-linecap:square;\"/>\n",
       "   </g>\n",
       "   <g id=\"line2d_29\">\n",
       "    <path clip-path=\"url(#p20201a9eeb)\" d=\"\n",
       "M269.954 191.012\n",
       "L303.858 221.022\" style=\"fill:none;stroke:#ff0000;stroke-linecap:square;\"/>\n",
       "   </g>\n",
       "   <g id=\"line2d_30\">\n",
       "    <path clip-path=\"url(#p20201a9eeb)\" d=\"\n",
       "M259.359 288.545\n",
       "L259.359 318.555\" style=\"fill:none;stroke:#ff0000;stroke-linecap:square;\"/>\n",
       "   </g>\n",
       "   <g id=\"line2d_31\">\n",
       "    <path clip-path=\"url(#p20201a9eeb)\" d=\"\n",
       "M204.266 142.245\n",
       "L204.266 172.255\" style=\"fill:none;stroke:#ff0000;stroke-linecap:square;\"/>\n",
       "   </g>\n",
       "   <g id=\"line2d_32\">\n",
       "    <path clip-path=\"url(#p20201a9eeb)\" d=\"\n",
       "M259.359 239.778\n",
       "L259.359 269.788\" style=\"fill:none;stroke:#ff0000;stroke-linecap:square;\"/>\n",
       "   </g>\n",
       "   <g id=\"line2d_33\">\n",
       "    <path clip-path=\"url(#p20201a9eeb)\" d=\"\n",
       "M259.359 191.012\n",
       "L259.359 221.022\" style=\"fill:none;stroke:#ff0000;stroke-linecap:square;\"/>\n",
       "   </g>\n",
       "  </g>\n",
       " </g>\n",
       " <defs>\n",
       "  <clipPath id=\"p20201a9eeb\">\n",
       "   <rect height=\"446.4\" width=\"669.6\" x=\"7.2\" y=\"7.2\"/>\n",
       "  </clipPath>\n",
       " </defs>\n",
       "</svg>\n"
      ],
      "text/plain": [
       "<matplotlib.figure.Figure at 0x17fb9f98>"
      ]
     },
     "metadata": {},
     "output_type": "display_data"
    },
    {
     "data": {
      "text/plain": [
       "18"
      ]
     },
     "metadata": {},
     "output_type": "display_data"
    },
    {
     "data": {
      "text/plain": [
       "4438.261426317799"
      ]
     },
     "metadata": {},
     "output_type": "display_data"
    },
    {
     "data": {
      "text/plain": [
       "'Fragments Observed / Expected: 0.069'"
      ]
     },
     "metadata": {},
     "output_type": "display_data"
    },
    {
     "data": {
      "text/plain": [
       "'Bh1 188.105725 1 [1797.519713]'"
      ]
     },
     "metadata": {},
     "output_type": "display_data"
    },
    {
     "data": {
      "text/plain": [
       "'Bf1 375.189929 2 [2765.515691, 3728.384066]'"
      ]
     },
     "metadata": {},
     "output_type": "display_data"
    },
    {
     "data": {
      "text/plain": [
       "'Bh2 375.189929 2 [2765.515691, 3728.384066]'"
      ]
     },
     "metadata": {},
     "output_type": "display_data"
    },
    {
     "data": {
      "text/plain": [
       "'Bc1 375.189929 2 [2765.515691, 3728.384066]'"
      ]
     },
     "metadata": {},
     "output_type": "display_data"
    },
    {
     "data": {
      "text/plain": [
       "'1,3Af3 449.225807 1 [1937.338266]'"
      ]
     },
     "metadata": {},
     "output_type": "display_data"
    },
    {
     "data": {
      "text/plain": [
       "'2,4Ah2 449.225807 1 [1937.338266]'"
      ]
     },
     "metadata": {},
     "output_type": "display_data"
    },
    {
     "data": {
      "text/plain": [
       "'1,3Ac2 449.225807 1 [1937.338266]'"
      ]
     },
     "metadata": {},
     "output_type": "display_data"
    },
    {
     "data": {
      "text/plain": [
       "'1,3Ah2 449.225807 1 [1937.338266]'"
      ]
     },
     "metadata": {},
     "output_type": "display_data"
    },
    {
     "data": {
      "text/plain": [
       "'2,4Af3 449.225807 1 [1937.338266]'"
      ]
     },
     "metadata": {},
     "output_type": "display_data"
    },
    {
     "data": {
      "text/plain": [
       "'2,4Ac2 449.225807 1 [1937.338266]'"
      ]
     },
     "metadata": {},
     "output_type": "display_data"
    },
    {
     "data": {
      "text/plain": [
       "'Bf3 824.410017 1 [2281.060405]'"
      ]
     },
     "metadata": {},
     "output_type": "display_data"
    },
    {
     "data": {
      "text/plain": [
       "'Bc3 824.410017 1 [2281.060405]'"
      ]
     },
     "metadata": {},
     "output_type": "display_data"
    },
    {
     "data": {
      "text/plain": [
       "'Be1 998.496362 1 [308.991646]'"
      ]
     },
     "metadata": {},
     "output_type": "display_data"
    },
    {
     "data": {
      "text/plain": [
       "'Yc4 3613.809243 2 [180.361607, 471.476193]'"
      ]
     },
     "metadata": {},
     "output_type": "display_data"
    },
    {
     "data": {
      "text/plain": [
       "'Yf4 3613.809243 2 [180.361607, 471.476193]'"
      ]
     },
     "metadata": {},
     "output_type": "display_data"
    },
    {
     "data": {
      "text/plain": [
       "'0,2A5 3828.833677 1 [23744.277862]'"
      ]
     },
     "metadata": {},
     "output_type": "display_data"
    },
    {
     "data": {
      "text/plain": [
       "'0,2A6 4033.054214 1 [33689.750794]'"
      ]
     },
     "metadata": {},
     "output_type": "display_data"
    },
    {
     "data": {
      "text/plain": [
       "'Yh5 4063.02641 1 [23646.832462]'"
      ]
     },
     "metadata": {},
     "output_type": "display_data"
    },
    {
     "data": {
      "text/plain": [
       "'Yc6 4063.02641 1 [23646.832462]'"
      ]
     },
     "metadata": {},
     "output_type": "display_data"
    },
    {
     "data": {
      "text/plain": [
       "'Yf6 4063.02641 1 [23646.832462]'"
      ]
     },
     "metadata": {},
     "output_type": "display_data"
    },
    {
     "data": {
      "text/plain": [
       "'Yh6 4250.102817 1 [45249.262789]'"
      ]
     },
     "metadata": {},
     "output_type": "display_data"
    },
    {
     "data": {
      "image/svg+xml": [
       "<?xml version=\"1.0\" encoding=\"utf-8\" standalone=\"no\"?>\n",
       "<!DOCTYPE svg PUBLIC \"-//W3C//DTD SVG 1.1//EN\"\n",
       "  \"http://www.w3.org/Graphics/SVG/1.1/DTD/svg11.dtd\">\n",
       "<!-- Created with matplotlib (http://matplotlib.org/) -->\n",
       "<svg height=\"460pt\" version=\"1.1\" viewBox=\"0 0 684 460\" width=\"684pt\" xmlns=\"http://www.w3.org/2000/svg\" xmlns:xlink=\"http://www.w3.org/1999/xlink\">\n",
       " <defs>\n",
       "  <style type=\"text/css\">\n",
       "*{stroke-linecap:butt;stroke-linejoin:round;}\n",
       "  </style>\n",
       " </defs>\n",
       " <g id=\"figure_1\">\n",
       "  <g id=\"patch_1\">\n",
       "   <path d=\"\n",
       "M0 460.8\n",
       "L684 460.8\n",
       "L684 0\n",
       "L0 0\n",
       "L0 460.8\" style=\"fill:none;\"/>\n",
       "  </g>\n",
       "  <g id=\"axes_1\">\n",
       "   <g id=\"patch_2\">\n",
       "    <path d=\"\n",
       "M7.2 453.6\n",
       "L676.8 453.6\n",
       "L676.8 7.2\n",
       "L7.2 7.2\n",
       "L7.2 453.6\" style=\"fill:none;\"/>\n",
       "   </g>\n",
       "   <g id=\"line2d_1\">\n",
       "    <path clip-path=\"url(#p20201a9eeb)\" d=\"\n",
       "M286.906 303.55\n",
       "L286.906 279.166\" style=\"fill:none;stroke:#000000;stroke-linecap:square;\"/>\n",
       "   </g>\n",
       "   <g id=\"line2d_2\">\n",
       "    <path clip-path=\"url(#p20201a9eeb)\" d=\"\n",
       "M231.813 303.55\n",
       "L176.719 303.55\" style=\"fill:none;stroke:#000000;stroke-linecap:square;\"/>\n",
       "   </g>\n",
       "   <g id=\"line2d_3\">\n",
       "    <path clip-path=\"url(#p20201a9eeb)\" d=\"\n",
       "M286.906 303.55\n",
       "L231.813 303.55\" style=\"fill:none;stroke:#000000;stroke-linecap:square;\"/>\n",
       "   </g>\n",
       "   <g id=\"line2d_4\">\n",
       "    <path clip-path=\"url(#p20201a9eeb)\" d=\"\n",
       "M342 279.166\n",
       "L286.906 303.55\" style=\"fill:none;stroke:#000000;stroke-linecap:square;\"/>\n",
       "   </g>\n",
       "   <g id=\"line2d_5\">\n",
       "    <path clip-path=\"url(#p20201a9eeb)\" d=\"\n",
       "M231.813 254.783\n",
       "L176.719 254.783\" style=\"fill:none;stroke:#000000;stroke-linecap:square;\"/>\n",
       "   </g>\n",
       "   <g id=\"line2d_6\">\n",
       "    <path clip-path=\"url(#p20201a9eeb)\" d=\"\n",
       "M286.906 254.783\n",
       "L231.813 254.783\" style=\"fill:none;stroke:#000000;stroke-linecap:square;\"/>\n",
       "   </g>\n",
       "   <g id=\"line2d_7\">\n",
       "    <path clip-path=\"url(#p20201a9eeb)\" d=\"\n",
       "M342 279.166\n",
       "L286.906 254.783\" style=\"fill:none;stroke:#000000;stroke-linecap:square;\"/>\n",
       "   </g>\n",
       "   <g id=\"line2d_8\">\n",
       "    <path clip-path=\"url(#p20201a9eeb)\" d=\"\n",
       "M397.094 230.4\n",
       "L342 279.166\" style=\"fill:none;stroke:#000000;stroke-linecap:square;\"/>\n",
       "   </g>\n",
       "   <g id=\"line2d_9\">\n",
       "    <path clip-path=\"url(#p20201a9eeb)\" d=\"\n",
       "M231.813 206.017\n",
       "L176.719 206.017\" style=\"fill:none;stroke:#000000;stroke-linecap:square;\"/>\n",
       "   </g>\n",
       "   <g id=\"line2d_10\">\n",
       "    <path clip-path=\"url(#p20201a9eeb)\" d=\"\n",
       "M286.906 206.017\n",
       "L231.813 206.017\" style=\"fill:none;stroke:#000000;stroke-linecap:square;\"/>\n",
       "   </g>\n",
       "   <g id=\"line2d_11\">\n",
       "    <path clip-path=\"url(#p20201a9eeb)\" d=\"\n",
       "M342 181.634\n",
       "L286.906 206.017\" style=\"fill:none;stroke:#000000;stroke-linecap:square;\"/>\n",
       "   </g>\n",
       "   <g id=\"line2d_12\">\n",
       "    <path clip-path=\"url(#p20201a9eeb)\" d=\"\n",
       "M231.813 157.25\n",
       "L176.719 157.25\" style=\"fill:none;stroke:#000000;stroke-linecap:square;\"/>\n",
       "   </g>\n",
       "   <g id=\"line2d_13\">\n",
       "    <path clip-path=\"url(#p20201a9eeb)\" d=\"\n",
       "M286.906 157.25\n",
       "L231.813 157.25\" style=\"fill:none;stroke:#000000;stroke-linecap:square;\"/>\n",
       "   </g>\n",
       "   <g id=\"line2d_14\">\n",
       "    <path clip-path=\"url(#p20201a9eeb)\" d=\"\n",
       "M342 181.634\n",
       "L286.906 157.25\" style=\"fill:none;stroke:#000000;stroke-linecap:square;\"/>\n",
       "   </g>\n",
       "   <g id=\"line2d_15\">\n",
       "    <path clip-path=\"url(#p20201a9eeb)\" d=\"\n",
       "M397.094 230.4\n",
       "L342 181.634\" style=\"fill:none;stroke:#000000;stroke-linecap:square;\"/>\n",
       "   </g>\n",
       "   <g id=\"line2d_16\">\n",
       "    <path clip-path=\"url(#p20201a9eeb)\" d=\"\n",
       "M452.187 230.4\n",
       "L397.094 230.4\" style=\"fill:none;stroke:#000000;stroke-linecap:square;\"/>\n",
       "   </g>\n",
       "   <g id=\"line2d_17\">\n",
       "    <path clip-path=\"url(#p20201a9eeb)\" d=\"\n",
       "M507.281 230.4\n",
       "L452.187 230.4\" style=\"fill:none;stroke:#000000;stroke-linecap:square;\"/>\n",
       "   </g>\n",
       "   <g id=\"RES-1b-o-dglc-HEX-0-0-1-aldi-2s-n-acetyl-LIN-1-1d-2+1-2n-1\">\n",
       "    <path clip-path=\"url(#p20201a9eeb)\" d=\"\n",
       "M515.757 222.897\n",
       "L515.757 237.903\n",
       "L498.805 237.903\n",
       "L498.805 222.897\n",
       "L515.757 222.897\n",
       "z\n",
       "\" style=\"fill:#0000ff;stroke:#000000;stroke-linejoin:miter;\"/>\n",
       "   </g>\n",
       "   <g id=\"RES-1b-b-dglc-HEX-1-5-2s-n-acetyl-LIN-1-1d-2+1-2n-2\">\n",
       "    <path clip-path=\"url(#p20201a9eeb)\" d=\"\n",
       "M460.663 222.897\n",
       "L460.663 237.903\n",
       "L443.711 237.903\n",
       "L443.711 222.897\n",
       "L460.663 222.897\n",
       "z\n",
       "\" style=\"fill:#0000ff;stroke:#000000;stroke-linejoin:miter;\"/>\n",
       "   </g>\n",
       "   <g id=\"RES-1b-b-dman-HEX-1-5-3\">\n",
       "    <path clip-path=\"url(#p20201a9eeb)\" d=\"\n",
       "M397.094 237.903\n",
       "C399.342 237.903 401.498 237.112 403.087 235.705\n",
       "C404.677 234.298 405.57 232.39 405.57 230.4\n",
       "C405.57 228.41 404.677 226.502 403.087 225.095\n",
       "C401.498 223.688 399.342 222.897 397.094 222.897\n",
       "C394.846 222.897 392.69 223.688 391.1 225.095\n",
       "C389.511 226.502 388.618 228.41 388.618 230.4\n",
       "C388.618 232.39 389.511 234.298 391.1 235.705\n",
       "C392.69 237.112 394.846 237.903 397.094 237.903\n",
       "z\n",
       "\" style=\"fill:#008000;stroke:#000000;stroke-linejoin:miter;\"/>\n",
       "   </g>\n",
       "   <g id=\"RES-1b-a-dman-HEX-1-5-11\">\n",
       "    <path clip-path=\"url(#p20201a9eeb)\" d=\"\n",
       "M342 286.669\n",
       "C344.248 286.669 346.404 285.878 347.993 284.471\n",
       "C349.583 283.065 350.476 281.156 350.476 279.166\n",
       "C350.476 277.177 349.583 275.268 347.993 273.861\n",
       "C346.404 272.454 344.248 271.664 342 271.664\n",
       "C339.752 271.664 337.596 272.454 336.007 273.861\n",
       "C334.417 275.268 333.524 277.177 333.524 279.166\n",
       "C333.524 281.156 334.417 283.065 336.007 284.471\n",
       "C337.596 285.878 339.752 286.669 342 286.669\n",
       "z\n",
       "\" style=\"fill:#008000;stroke:#000000;stroke-linejoin:miter;\"/>\n",
       "   </g>\n",
       "   <g id=\"RES-1b-b-dglc-HEX-1-5-2s-n-acetyl-LIN-1-1d-2+1-2n-15\">\n",
       "    <path clip-path=\"url(#p20201a9eeb)\" d=\"\n",
       "M295.382 296.047\n",
       "L295.382 311.052\n",
       "L278.43 311.052\n",
       "L278.43 296.047\n",
       "L295.382 296.047\n",
       "z\n",
       "\" style=\"fill:#0000ff;stroke:#000000;stroke-linejoin:miter;\"/>\n",
       "   </g>\n",
       "   <g id=\"RES-1b-a-lgal-HEX-1-5-6-d-18\">\n",
       "    <path clip-path=\"url(#p20201a9eeb)\" d=\"\n",
       "M286.906 271.664\n",
       "L279.566 282.918\n",
       "L294.247 282.918\n",
       "z\n",
       "\" style=\"fill:#ff0000;stroke:#000000;stroke-linejoin:miter;\"/>\n",
       "   </g>\n",
       "   <g id=\"RES-1b-b-dgal-HEX-1-5-16\">\n",
       "    <path clip-path=\"url(#p20201a9eeb)\" d=\"\n",
       "M231.813 311.052\n",
       "C234.061 311.052 236.217 310.262 237.806 308.855\n",
       "C239.396 307.448 240.289 305.539 240.289 303.55\n",
       "C240.289 301.56 239.396 299.651 237.806 298.244\n",
       "C236.217 296.838 234.061 296.047 231.813 296.047\n",
       "C229.565 296.047 227.409 296.838 225.819 298.244\n",
       "C224.23 299.651 223.337 301.56 223.337 303.55\n",
       "C223.337 305.539 224.23 307.448 225.819 308.855\n",
       "C227.409 310.262 229.565 311.052 231.813 311.052\n",
       "z\n",
       "\" style=\"fill:#ffff00;stroke:#000000;stroke-linejoin:miter;\"/>\n",
       "   </g>\n",
       "   <g id=\"RES-1b-a-dgro-dgal-NON-2-6-1-a-2-keto-3-d-2s-n-acetyl-LIN-1-1d-5+1-2n-17\">\n",
       "    <path clip-path=\"url(#p20201a9eeb)\" d=\"\n",
       "M176.719 296.047\n",
       "L168.243 303.55\n",
       "L176.719 311.052\n",
       "L185.195 303.55\n",
       "z\n",
       "\" style=\"fill:#800080;stroke:#000000;stroke-linejoin:miter;\"/>\n",
       "   </g>\n",
       "   <g id=\"RES-1b-b-dglc-HEX-1-5-2s-n-acetyl-LIN-1-1d-2+1-2n-12\">\n",
       "    <path clip-path=\"url(#p20201a9eeb)\" d=\"\n",
       "M295.382 247.281\n",
       "L295.382 262.286\n",
       "L278.43 262.286\n",
       "L278.43 247.281\n",
       "L295.382 247.281\n",
       "z\n",
       "\" style=\"fill:#0000ff;stroke:#000000;stroke-linejoin:miter;\"/>\n",
       "   </g>\n",
       "   <g id=\"RES-1b-b-dgal-HEX-1-5-13\">\n",
       "    <path clip-path=\"url(#p20201a9eeb)\" d=\"\n",
       "M231.813 262.286\n",
       "C234.061 262.286 236.217 261.495 237.806 260.088\n",
       "C239.396 258.681 240.289 256.773 240.289 254.783\n",
       "C240.289 252.794 239.396 250.885 237.806 249.478\n",
       "C236.217 248.071 234.061 247.281 231.813 247.281\n",
       "C229.565 247.281 227.409 248.071 225.819 249.478\n",
       "C224.23 250.885 223.337 252.794 223.337 254.783\n",
       "C223.337 256.773 224.23 258.681 225.819 260.088\n",
       "C227.409 261.495 229.565 262.286 231.813 262.286\n",
       "z\n",
       "\" style=\"fill:#ffff00;stroke:#000000;stroke-linejoin:miter;\"/>\n",
       "   </g>\n",
       "   <g id=\"RES-1b-a-dgro-dgal-NON-2-6-1-a-2-keto-3-d-2s-n-acetyl-LIN-1-1d-5+1-2n-14\">\n",
       "    <path clip-path=\"url(#p20201a9eeb)\" d=\"\n",
       "M176.719 247.281\n",
       "L168.243 254.783\n",
       "L176.719 262.286\n",
       "L185.195 254.783\n",
       "z\n",
       "\" style=\"fill:#800080;stroke:#000000;stroke-linejoin:miter;\"/>\n",
       "   </g>\n",
       "   <g id=\"RES-1b-a-dman-HEX-1-5-4\">\n",
       "    <path clip-path=\"url(#p20201a9eeb)\" d=\"\n",
       "M342 189.136\n",
       "C344.248 189.136 346.404 188.346 347.993 186.939\n",
       "C349.583 185.532 350.476 183.623 350.476 181.634\n",
       "C350.476 179.644 349.583 177.735 347.993 176.329\n",
       "C346.404 174.922 344.248 174.131 342 174.131\n",
       "C339.752 174.131 337.596 174.922 336.007 176.329\n",
       "C334.417 177.735 333.524 179.644 333.524 181.634\n",
       "C333.524 183.623 334.417 185.532 336.007 186.939\n",
       "C337.596 188.346 339.752 189.136 342 189.136\n",
       "z\n",
       "\" style=\"fill:#008000;stroke:#000000;stroke-linejoin:miter;\"/>\n",
       "   </g>\n",
       "   <g id=\"RES-1b-b-dglc-HEX-1-5-2s-n-acetyl-LIN-1-1d-2+1-2n-8\">\n",
       "    <path clip-path=\"url(#p20201a9eeb)\" d=\"\n",
       "M295.382 198.514\n",
       "L295.382 213.519\n",
       "L278.43 213.519\n",
       "L278.43 198.514\n",
       "L295.382 198.514\n",
       "z\n",
       "\" style=\"fill:#0000ff;stroke:#000000;stroke-linejoin:miter;\"/>\n",
       "   </g>\n",
       "   <g id=\"RES-1b-b-dgal-HEX-1-5-9\">\n",
       "    <path clip-path=\"url(#p20201a9eeb)\" d=\"\n",
       "M231.813 213.519\n",
       "C234.061 213.519 236.217 212.729 237.806 211.322\n",
       "C239.396 209.915 240.289 208.006 240.289 206.017\n",
       "C240.289 204.027 239.396 202.119 237.806 200.712\n",
       "C236.217 199.305 234.061 198.514 231.813 198.514\n",
       "C229.565 198.514 227.409 199.305 225.819 200.712\n",
       "C224.23 202.119 223.337 204.027 223.337 206.017\n",
       "C223.337 208.006 224.23 209.915 225.819 211.322\n",
       "C227.409 212.729 229.565 213.519 231.813 213.519\n",
       "z\n",
       "\" style=\"fill:#ffff00;stroke:#000000;stroke-linejoin:miter;\"/>\n",
       "   </g>\n",
       "   <g id=\"RES-1b-a-dgro-dgal-NON-2-6-1-a-2-keto-3-d-2s-n-acetyl-LIN-1-1d-5+1-2n-10\">\n",
       "    <path clip-path=\"url(#p20201a9eeb)\" d=\"\n",
       "M176.719 198.514\n",
       "L168.243 206.017\n",
       "L176.719 213.519\n",
       "L185.195 206.017\n",
       "z\n",
       "\" style=\"fill:#800080;stroke:#000000;stroke-linejoin:miter;\"/>\n",
       "   </g>\n",
       "   <g id=\"RES-1b-b-dglc-HEX-1-5-2s-n-acetyl-LIN-1-1d-2+1-2n-5\">\n",
       "    <path clip-path=\"url(#p20201a9eeb)\" d=\"\n",
       "M295.382 149.748\n",
       "L295.382 164.753\n",
       "L278.43 164.753\n",
       "L278.43 149.748\n",
       "L295.382 149.748\n",
       "z\n",
       "\" style=\"fill:#0000ff;stroke:#000000;stroke-linejoin:miter;\"/>\n",
       "   </g>\n",
       "   <g id=\"RES-1b-b-dgal-HEX-1-5-6\">\n",
       "    <path clip-path=\"url(#p20201a9eeb)\" d=\"\n",
       "M231.813 164.753\n",
       "C234.061 164.753 236.217 163.962 237.806 162.556\n",
       "C239.396 161.149 240.289 159.24 240.289 157.25\n",
       "C240.289 155.261 239.396 153.352 237.806 151.945\n",
       "C236.217 150.538 234.061 149.748 231.813 149.748\n",
       "C229.565 149.748 227.409 150.538 225.819 151.945\n",
       "C224.23 153.352 223.337 155.261 223.337 157.25\n",
       "C223.337 159.24 224.23 161.149 225.819 162.556\n",
       "C227.409 163.962 229.565 164.753 231.813 164.753\n",
       "z\n",
       "\" style=\"fill:#ffff00;stroke:#000000;stroke-linejoin:miter;\"/>\n",
       "   </g>\n",
       "   <g id=\"RES-1b-a-dgal-HEX-1-5-7\">\n",
       "    <path clip-path=\"url(#p20201a9eeb)\" d=\"\n",
       "M176.719 164.753\n",
       "C178.967 164.753 181.123 163.962 182.712 162.556\n",
       "C184.302 161.149 185.195 159.24 185.195 157.25\n",
       "C185.195 155.261 184.302 153.352 182.712 151.945\n",
       "C181.123 150.538 178.967 149.748 176.719 149.748\n",
       "C174.471 149.748 172.315 150.538 170.726 151.945\n",
       "C169.136 153.352 168.243 155.261 168.243 157.25\n",
       "C168.243 159.24 169.136 161.149 170.726 162.556\n",
       "C172.315 163.962 174.471 164.753 176.719 164.753\n",
       "z\n",
       "\" style=\"fill:#ffff00;stroke:#000000;stroke-linejoin:miter;\"/>\n",
       "   </g>\n",
       "   <g id=\"patch_3\">\n",
       "    <path d=\"\n",
       "M7.2 7.2\n",
       "L676.8 7.2\" style=\"fill:none;stroke:#000000;stroke-linecap:square;stroke-linejoin:miter;\"/>\n",
       "   </g>\n",
       "   <g id=\"patch_4\">\n",
       "    <path d=\"\n",
       "M676.8 453.6\n",
       "L676.8 7.2\" style=\"fill:none;stroke:#000000;stroke-linecap:square;stroke-linejoin:miter;\"/>\n",
       "   </g>\n",
       "   <g id=\"patch_5\">\n",
       "    <path d=\"\n",
       "M7.2 453.6\n",
       "L676.8 453.6\" style=\"fill:none;stroke:#000000;stroke-linecap:square;stroke-linejoin:miter;\"/>\n",
       "   </g>\n",
       "   <g id=\"patch_6\">\n",
       "    <path d=\"\n",
       "M7.2 453.6\n",
       "L7.2 7.2\" style=\"fill:none;stroke:#000000;stroke-linecap:square;stroke-linejoin:miter;\"/>\n",
       "   </g>\n",
       "   <g id=\"line2d_18\">\n",
       "    <path clip-path=\"url(#p20201a9eeb)\" d=\"\n",
       "M303.858 291.358\n",
       "L269.954 291.358\" style=\"fill:none;stroke:#ff0000;stroke-linecap:square;\"/>\n",
       "   </g>\n",
       "   <g id=\"line2d_19\">\n",
       "    <path clip-path=\"url(#p20201a9eeb)\" d=\"\n",
       "M204.266 288.545\n",
       "L204.266 318.555\" style=\"fill:none;stroke:#ff0000;stroke-linecap:square;\"/>\n",
       "   </g>\n",
       "   <g id=\"line2d_20\">\n",
       "    <path clip-path=\"url(#p20201a9eeb)\" d=\"\n",
       "M204.266 239.778\n",
       "L204.266 269.788\" style=\"fill:none;stroke:#ff0000;stroke-linecap:square;\"/>\n",
       "   </g>\n",
       "   <g id=\"line2d_21\">\n",
       "    <path clip-path=\"url(#p20201a9eeb)\" d=\"\n",
       "M204.266 191.012\n",
       "L204.266 221.022\" style=\"fill:none;stroke:#ff0000;stroke-linecap:square;\"/>\n",
       "   </g>\n",
       "   <g id=\"line2d_22\">\n",
       "    <path clip-path=\"url(#p20201a9eeb)\" d=\"\n",
       "M214.861 288.545\n",
       "L248.765 318.555\" style=\"fill:none;stroke:#ff0000;stroke-linecap:square;\"/>\n",
       "   </g>\n",
       "   <g id=\"line2d_23\">\n",
       "    <path clip-path=\"url(#p20201a9eeb)\" d=\"\n",
       "M214.861 239.778\n",
       "L248.765 269.788\" style=\"fill:none;stroke:#ff0000;stroke-linecap:square;\"/>\n",
       "   </g>\n",
       "   <g id=\"line2d_24\">\n",
       "    <path clip-path=\"url(#p20201a9eeb)\" d=\"\n",
       "M214.861 191.012\n",
       "L248.765 221.022\" style=\"fill:none;stroke:#ff0000;stroke-linecap:square;\"/>\n",
       "   </g>\n",
       "   <g id=\"line2d_25\">\n",
       "    <path clip-path=\"url(#p20201a9eeb)\" d=\"\n",
       "M214.861 239.778\n",
       "L248.765 269.788\" style=\"fill:none;stroke:#ff0000;stroke-linecap:square;\"/>\n",
       "   </g>\n",
       "   <g id=\"line2d_26\">\n",
       "    <path clip-path=\"url(#p20201a9eeb)\" d=\"\n",
       "M214.861 288.545\n",
       "L248.765 318.555\" style=\"fill:none;stroke:#ff0000;stroke-linecap:square;\"/>\n",
       "   </g>\n",
       "   <g id=\"line2d_27\">\n",
       "    <path clip-path=\"url(#p20201a9eeb)\" d=\"\n",
       "M214.861 191.012\n",
       "L248.765 221.022\" style=\"fill:none;stroke:#ff0000;stroke-linecap:square;\"/>\n",
       "   </g>\n",
       "   <g id=\"line2d_28\">\n",
       "    <path clip-path=\"url(#p20201a9eeb)\" d=\"\n",
       "M297.501 281.98\n",
       "L331.405 251.97\" style=\"fill:none;stroke:#ff0000;stroke-linecap:square;\"/>\n",
       "   </g>\n",
       "   <g id=\"line2d_29\">\n",
       "    <path clip-path=\"url(#p20201a9eeb)\" d=\"\n",
       "M297.501 178.82\n",
       "L331.405 208.83\" style=\"fill:none;stroke:#ff0000;stroke-linecap:square;\"/>\n",
       "   </g>\n",
       "   <g id=\"line2d_30\">\n",
       "    <path clip-path=\"url(#p20201a9eeb)\" d=\"\n",
       "M297.501 276.353\n",
       "L331.405 306.363\" style=\"fill:none;stroke:#ff0000;stroke-linecap:square;\"/>\n",
       "   </g>\n",
       "   <g id=\"line2d_31\">\n",
       "    <path clip-path=\"url(#p20201a9eeb)\" d=\"\n",
       "M297.501 178.82\n",
       "L331.405 208.83\" style=\"fill:none;stroke:#ff0000;stroke-linecap:square;\"/>\n",
       "   </g>\n",
       "   <g id=\"line2d_32\">\n",
       "    <path clip-path=\"url(#p20201a9eeb)\" d=\"\n",
       "M297.501 281.98\n",
       "L331.405 251.97\" style=\"fill:none;stroke:#ff0000;stroke-linecap:square;\"/>\n",
       "   </g>\n",
       "   <g id=\"line2d_33\">\n",
       "    <path clip-path=\"url(#p20201a9eeb)\" d=\"\n",
       "M380.142 215.395\n",
       "L414.046 245.405\" style=\"fill:none;stroke:#ff0000;stroke-linecap:square;\"/>\n",
       "   </g>\n",
       "   <g id=\"line2d_34\">\n",
       "    <path clip-path=\"url(#p20201a9eeb)\" d=\"\n",
       "M435.235 215.395\n",
       "L469.139 245.405\" style=\"fill:none;stroke:#ff0000;stroke-linecap:square;\"/>\n",
       "   </g>\n",
       "   <g id=\"line2d_35\">\n",
       "    <path clip-path=\"url(#p20201a9eeb)\" d=\"\n",
       "M204.266 239.778\n",
       "L204.266 269.788\" style=\"fill:none;stroke:#ff0000;stroke-linecap:square;\"/>\n",
       "   </g>\n",
       "   <g id=\"line2d_36\">\n",
       "    <path clip-path=\"url(#p20201a9eeb)\" d=\"\n",
       "M204.266 191.012\n",
       "L204.266 221.022\" style=\"fill:none;stroke:#ff0000;stroke-linecap:square;\"/>\n",
       "   </g>\n",
       "   <g id=\"line2d_37\">\n",
       "    <path clip-path=\"url(#p20201a9eeb)\" d=\"\n",
       "M204.266 288.545\n",
       "L204.266 318.555\" style=\"fill:none;stroke:#ff0000;stroke-linecap:square;\"/>\n",
       "   </g>\n",
       "   <g id=\"line2d_38\">\n",
       "    <path clip-path=\"url(#p20201a9eeb)\" d=\"\n",
       "M303.858 291.358\n",
       "L269.954 291.358\" style=\"fill:none;stroke:#ff0000;stroke-linecap:square;\"/>\n",
       "   </g>\n",
       "  </g>\n",
       " </g>\n",
       " <defs>\n",
       "  <clipPath id=\"p20201a9eeb\">\n",
       "   <rect height=\"446.4\" width=\"669.6\" x=\"7.2\" y=\"7.2\"/>\n",
       "  </clipPath>\n",
       " </defs>\n",
       "</svg>\n"
      ],
      "text/plain": [
       "<matplotlib.figure.Figure at 0x1839ff98>"
      ]
     },
     "metadata": {},
     "output_type": "display_data"
    },
    {
     "data": {
      "text/plain": [
       "19"
      ]
     },
     "metadata": {},
     "output_type": "display_data"
    },
    {
     "data": {
      "text/plain": [
       "4441.2610919646295"
      ]
     },
     "metadata": {},
     "output_type": "display_data"
    },
    {
     "data": {
      "text/plain": [
       "'Fragments Observed / Expected: 0.025'"
      ]
     },
     "metadata": {},
     "output_type": "display_data"
    },
    {
     "data": {
      "text/plain": [
       "'Bl2 188.105074 1 [1120.426051]'"
      ]
     },
     "metadata": {},
     "output_type": "display_data"
    },
    {
     "data": {
      "text/plain": [
       "'Bg1 188.105074 1 [1120.426051]'"
      ]
     },
     "metadata": {},
     "output_type": "display_data"
    },
    {
     "data": {
      "text/plain": [
       "'Be1 188.105074 1 [1120.426051]'"
      ]
     },
     "metadata": {},
     "output_type": "display_data"
    },
    {
     "data": {
      "text/plain": [
       "'Bf1 375.188365 1 [2286.092711]'"
      ]
     },
     "metadata": {},
     "output_type": "display_data"
    },
    {
     "data": {
      "text/plain": [
       "'1,3Af2 449.225593 1 [1510.781601]'"
      ]
     },
     "metadata": {},
     "output_type": "display_data"
    },
    {
     "data": {
      "text/plain": [
       "'2,4Af2 449.225593 1 [1510.781601]'"
      ]
     },
     "metadata": {},
     "output_type": "display_data"
    },
    {
     "data": {
      "text/plain": [
       "'Bj2 463.240868 1 [23689.856904]'"
      ]
     },
     "metadata": {},
     "output_type": "display_data"
    },
    {
     "data": {
      "text/plain": [
       "'Bf2 579.27964 1 [291.64847]'"
      ]
     },
     "metadata": {},
     "output_type": "display_data"
    },
    {
     "data": {
      "image/svg+xml": [
       "<?xml version=\"1.0\" encoding=\"utf-8\" standalone=\"no\"?>\n",
       "<!DOCTYPE svg PUBLIC \"-//W3C//DTD SVG 1.1//EN\"\n",
       "  \"http://www.w3.org/Graphics/SVG/1.1/DTD/svg11.dtd\">\n",
       "<!-- Created with matplotlib (http://matplotlib.org/) -->\n",
       "<svg height=\"460pt\" version=\"1.1\" viewBox=\"0 0 684 460\" width=\"684pt\" xmlns=\"http://www.w3.org/2000/svg\" xmlns:xlink=\"http://www.w3.org/1999/xlink\">\n",
       " <defs>\n",
       "  <style type=\"text/css\">\n",
       "*{stroke-linecap:butt;stroke-linejoin:round;}\n",
       "  </style>\n",
       " </defs>\n",
       " <g id=\"figure_1\">\n",
       "  <g id=\"patch_1\">\n",
       "   <path d=\"\n",
       "M0 460.8\n",
       "L684 460.8\n",
       "L684 0\n",
       "L0 0\n",
       "L0 460.8\" style=\"fill:none;\"/>\n",
       "  </g>\n",
       "  <g id=\"axes_1\">\n",
       "   <g id=\"patch_2\">\n",
       "    <path d=\"\n",
       "M7.2 453.6\n",
       "L676.8 453.6\n",
       "L676.8 7.2\n",
       "L7.2 7.2\n",
       "L7.2 453.6\" style=\"fill:none;\"/>\n",
       "   </g>\n",
       "   <g id=\"line2d_1\">\n",
       "    <path clip-path=\"url(#p20201a9eeb)\" d=\"\n",
       "M286.906 311.321\n",
       "L286.906 288.201\" style=\"fill:none;stroke:#000000;stroke-linecap:square;\"/>\n",
       "   </g>\n",
       "   <g id=\"line2d_2\">\n",
       "    <path clip-path=\"url(#p20201a9eeb)\" d=\"\n",
       "M231.813 311.321\n",
       "L176.719 311.321\" style=\"fill:none;stroke:#000000;stroke-linecap:square;\"/>\n",
       "   </g>\n",
       "   <g id=\"line2d_3\">\n",
       "    <path clip-path=\"url(#p20201a9eeb)\" d=\"\n",
       "M286.906 311.321\n",
       "L231.813 311.321\" style=\"fill:none;stroke:#000000;stroke-linecap:square;\"/>\n",
       "   </g>\n",
       "   <g id=\"line2d_4\">\n",
       "    <path clip-path=\"url(#p20201a9eeb)\" d=\"\n",
       "M342 288.201\n",
       "L286.906 311.321\" style=\"fill:none;stroke:#000000;stroke-linecap:square;\"/>\n",
       "   </g>\n",
       "   <g id=\"line2d_5\">\n",
       "    <path clip-path=\"url(#p20201a9eeb)\" d=\"\n",
       "M286.906 265.08\n",
       "L231.813 265.08\" style=\"fill:none;stroke:#000000;stroke-linecap:square;\"/>\n",
       "   </g>\n",
       "   <g id=\"line2d_6\">\n",
       "    <path clip-path=\"url(#p20201a9eeb)\" d=\"\n",
       "M342 288.201\n",
       "L286.906 265.08\" style=\"fill:none;stroke:#000000;stroke-linecap:square;\"/>\n",
       "   </g>\n",
       "   <g id=\"line2d_7\">\n",
       "    <path clip-path=\"url(#p20201a9eeb)\" d=\"\n",
       "M397.094 241.96\n",
       "L342 288.201\" style=\"fill:none;stroke:#000000;stroke-linecap:square;\"/>\n",
       "   </g>\n",
       "   <g id=\"line2d_8\">\n",
       "    <path clip-path=\"url(#p20201a9eeb)\" d=\"\n",
       "M286.906 218.84\n",
       "L286.906 195.72\" style=\"fill:none;stroke:#000000;stroke-linecap:square;\"/>\n",
       "   </g>\n",
       "   <g id=\"line2d_9\">\n",
       "    <path clip-path=\"url(#p20201a9eeb)\" d=\"\n",
       "M231.813 218.84\n",
       "L176.719 218.84\" style=\"fill:none;stroke:#000000;stroke-linecap:square;\"/>\n",
       "   </g>\n",
       "   <g id=\"line2d_10\">\n",
       "    <path clip-path=\"url(#p20201a9eeb)\" d=\"\n",
       "M286.906 218.84\n",
       "L231.813 218.84\" style=\"fill:none;stroke:#000000;stroke-linecap:square;\"/>\n",
       "   </g>\n",
       "   <g id=\"line2d_11\">\n",
       "    <path clip-path=\"url(#p20201a9eeb)\" d=\"\n",
       "M342 195.72\n",
       "L286.906 218.84\" style=\"fill:none;stroke:#000000;stroke-linecap:square;\"/>\n",
       "   </g>\n",
       "   <g id=\"line2d_12\">\n",
       "    <path clip-path=\"url(#p20201a9eeb)\" d=\"\n",
       "M286.906 172.599\n",
       "L286.906 149.479\" style=\"fill:none;stroke:#000000;stroke-linecap:square;\"/>\n",
       "   </g>\n",
       "   <g id=\"line2d_13\">\n",
       "    <path clip-path=\"url(#p20201a9eeb)\" d=\"\n",
       "M231.813 172.599\n",
       "L176.719 172.599\" style=\"fill:none;stroke:#000000;stroke-linecap:square;\"/>\n",
       "   </g>\n",
       "   <g id=\"line2d_14\">\n",
       "    <path clip-path=\"url(#p20201a9eeb)\" d=\"\n",
       "M286.906 172.599\n",
       "L231.813 172.599\" style=\"fill:none;stroke:#000000;stroke-linecap:square;\"/>\n",
       "   </g>\n",
       "   <g id=\"line2d_15\">\n",
       "    <path clip-path=\"url(#p20201a9eeb)\" d=\"\n",
       "M342 195.72\n",
       "L286.906 172.599\" style=\"fill:none;stroke:#000000;stroke-linecap:square;\"/>\n",
       "   </g>\n",
       "   <g id=\"line2d_16\">\n",
       "    <path clip-path=\"url(#p20201a9eeb)\" d=\"\n",
       "M397.094 241.96\n",
       "L342 195.72\" style=\"fill:none;stroke:#000000;stroke-linecap:square;\"/>\n",
       "   </g>\n",
       "   <g id=\"line2d_17\">\n",
       "    <path clip-path=\"url(#p20201a9eeb)\" d=\"\n",
       "M452.187 241.96\n",
       "L397.094 241.96\" style=\"fill:none;stroke:#000000;stroke-linecap:square;\"/>\n",
       "   </g>\n",
       "   <g id=\"line2d_18\">\n",
       "    <path clip-path=\"url(#p20201a9eeb)\" d=\"\n",
       "M507.281 241.96\n",
       "L452.187 241.96\" style=\"fill:none;stroke:#000000;stroke-linecap:square;\"/>\n",
       "   </g>\n",
       "   <g id=\"RES-1b-o-dglc-HEX-0-0-1-aldi-2s-n-acetyl-LIN-1-1d-2+1-2n-1\">\n",
       "    <path clip-path=\"url(#p20201a9eeb)\" d=\"\n",
       "M515.757 234.846\n",
       "L515.757 249.074\n",
       "L498.805 249.074\n",
       "L498.805 234.846\n",
       "L515.757 234.846\n",
       "z\n",
       "\" style=\"fill:#0000ff;stroke:#000000;stroke-linejoin:miter;\"/>\n",
       "   </g>\n",
       "   <g id=\"RES-1b-b-dglc-HEX-1-5-2s-n-acetyl-LIN-1-1d-2+1-2n-2\">\n",
       "    <path clip-path=\"url(#p20201a9eeb)\" d=\"\n",
       "M460.663 234.846\n",
       "L460.663 249.074\n",
       "L443.711 249.074\n",
       "L443.711 234.846\n",
       "L460.663 234.846\n",
       "z\n",
       "\" style=\"fill:#0000ff;stroke:#000000;stroke-linejoin:miter;\"/>\n",
       "   </g>\n",
       "   <g id=\"RES-1b-b-dman-HEX-1-5-3\">\n",
       "    <path clip-path=\"url(#p20201a9eeb)\" d=\"\n",
       "M397.094 249.074\n",
       "C399.342 249.074 401.498 248.325 403.087 246.99\n",
       "C404.677 245.656 405.57 243.847 405.57 241.96\n",
       "C405.57 240.074 404.677 238.264 403.087 236.93\n",
       "C401.498 235.596 399.342 234.846 397.094 234.846\n",
       "C394.846 234.846 392.69 235.596 391.1 236.93\n",
       "C389.511 238.264 388.618 240.074 388.618 241.96\n",
       "C388.618 243.847 389.511 245.656 391.1 246.99\n",
       "C392.69 248.325 394.846 249.074 397.094 249.074\n",
       "z\n",
       "\" style=\"fill:#008000;stroke:#000000;stroke-linejoin:miter;\"/>\n",
       "   </g>\n",
       "   <g id=\"RES-1b-a-dman-HEX-1-5-13\">\n",
       "    <path clip-path=\"url(#p20201a9eeb)\" d=\"\n",
       "M342 295.315\n",
       "C344.248 295.315 346.404 294.565 347.993 293.231\n",
       "C349.583 291.897 350.476 290.087 350.476 288.201\n",
       "C350.476 286.314 349.583 284.505 347.993 283.17\n",
       "C346.404 281.836 344.248 281.087 342 281.087\n",
       "C339.752 281.087 337.596 281.836 336.007 283.17\n",
       "C334.417 284.505 333.524 286.314 333.524 288.201\n",
       "C333.524 290.087 334.417 291.897 336.007 293.231\n",
       "C337.596 294.565 339.752 295.315 342 295.315\n",
       "z\n",
       "\" style=\"fill:#008000;stroke:#000000;stroke-linejoin:miter;\"/>\n",
       "   </g>\n",
       "   <g id=\"RES-1b-b-dglc-HEX-1-5-2s-n-acetyl-LIN-1-1d-2+1-2n-16\">\n",
       "    <path clip-path=\"url(#p20201a9eeb)\" d=\"\n",
       "M295.382 304.207\n",
       "L295.382 318.435\n",
       "L278.43 318.435\n",
       "L278.43 304.207\n",
       "L295.382 304.207\n",
       "z\n",
       "\" style=\"fill:#0000ff;stroke:#000000;stroke-linejoin:miter;\"/>\n",
       "   </g>\n",
       "   <g id=\"RES-1b-a-lgal-HEX-1-5-6-d-19\">\n",
       "    <path clip-path=\"url(#p20201a9eeb)\" d=\"\n",
       "M286.906 281.087\n",
       "L279.566 291.758\n",
       "L294.247 291.758\n",
       "z\n",
       "\" style=\"fill:#ff0000;stroke:#000000;stroke-linejoin:miter;\"/>\n",
       "   </g>\n",
       "   <g id=\"RES-1b-b-dgal-HEX-1-5-17\">\n",
       "    <path clip-path=\"url(#p20201a9eeb)\" d=\"\n",
       "M231.813 318.435\n",
       "C234.061 318.435 236.217 317.685 237.806 316.351\n",
       "C239.396 315.017 240.289 313.208 240.289 311.321\n",
       "C240.289 309.434 239.396 307.625 237.806 306.291\n",
       "C236.217 304.957 234.061 304.207 231.813 304.207\n",
       "C229.565 304.207 227.409 304.957 225.819 306.291\n",
       "C224.23 307.625 223.337 309.434 223.337 311.321\n",
       "C223.337 313.208 224.23 315.017 225.819 316.351\n",
       "C227.409 317.685 229.565 318.435 231.813 318.435\n",
       "z\n",
       "\" style=\"fill:#ffff00;stroke:#000000;stroke-linejoin:miter;\"/>\n",
       "   </g>\n",
       "   <g id=\"RES-1b-a-dgal-HEX-1-5-18\">\n",
       "    <path clip-path=\"url(#p20201a9eeb)\" d=\"\n",
       "M176.719 318.435\n",
       "C178.967 318.435 181.123 317.685 182.712 316.351\n",
       "C184.302 315.017 185.195 313.208 185.195 311.321\n",
       "C185.195 309.434 184.302 307.625 182.712 306.291\n",
       "C181.123 304.957 178.967 304.207 176.719 304.207\n",
       "C174.471 304.207 172.315 304.957 170.726 306.291\n",
       "C169.136 307.625 168.243 309.434 168.243 311.321\n",
       "C168.243 313.208 169.136 315.017 170.726 316.351\n",
       "C172.315 317.685 174.471 318.435 176.719 318.435\n",
       "z\n",
       "\" style=\"fill:#ffff00;stroke:#000000;stroke-linejoin:miter;\"/>\n",
       "   </g>\n",
       "   <g id=\"RES-1b-b-dglc-HEX-1-5-2s-n-acetyl-LIN-1-1d-2+1-2n-14\">\n",
       "    <path clip-path=\"url(#p20201a9eeb)\" d=\"\n",
       "M295.382 257.967\n",
       "L295.382 272.194\n",
       "L278.43 272.194\n",
       "L278.43 257.967\n",
       "L295.382 257.967\n",
       "z\n",
       "\" style=\"fill:#0000ff;stroke:#000000;stroke-linejoin:miter;\"/>\n",
       "   </g>\n",
       "   <g id=\"RES-1b-b-dgal-HEX-1-5-15\">\n",
       "    <path clip-path=\"url(#p20201a9eeb)\" d=\"\n",
       "M231.813 272.194\n",
       "C234.061 272.194 236.217 271.445 237.806 270.111\n",
       "C239.396 268.777 240.289 266.967 240.289 265.08\n",
       "C240.289 263.194 239.396 261.384 237.806 260.05\n",
       "C236.217 258.716 234.061 257.967 231.813 257.967\n",
       "C229.565 257.967 227.409 258.716 225.819 260.05\n",
       "C224.23 261.384 223.337 263.194 223.337 265.08\n",
       "C223.337 266.967 224.23 268.777 225.819 270.111\n",
       "C227.409 271.445 229.565 272.194 231.813 272.194\n",
       "z\n",
       "\" style=\"fill:#ffff00;stroke:#000000;stroke-linejoin:miter;\"/>\n",
       "   </g>\n",
       "   <g id=\"RES-1b-a-dman-HEX-1-5-4\">\n",
       "    <path clip-path=\"url(#p20201a9eeb)\" d=\"\n",
       "M342 202.833\n",
       "C344.248 202.833 346.404 202.084 347.993 200.75\n",
       "C349.583 199.416 350.476 197.606 350.476 195.72\n",
       "C350.476 193.833 349.583 192.023 347.993 190.689\n",
       "C346.404 189.355 344.248 188.606 342 188.606\n",
       "C339.752 188.606 337.596 189.355 336.007 190.689\n",
       "C334.417 192.023 333.524 193.833 333.524 195.72\n",
       "C333.524 197.606 334.417 199.416 336.007 200.75\n",
       "C337.596 202.084 339.752 202.833 342 202.833\n",
       "z\n",
       "\" style=\"fill:#008000;stroke:#000000;stroke-linejoin:miter;\"/>\n",
       "   </g>\n",
       "   <g id=\"RES-1b-b-dglc-HEX-1-5-2s-n-acetyl-LIN-1-1d-2+1-2n-9\">\n",
       "    <path clip-path=\"url(#p20201a9eeb)\" d=\"\n",
       "M295.382 211.726\n",
       "L295.382 225.954\n",
       "L278.43 225.954\n",
       "L278.43 211.726\n",
       "L295.382 211.726\n",
       "z\n",
       "\" style=\"fill:#0000ff;stroke:#000000;stroke-linejoin:miter;\"/>\n",
       "   </g>\n",
       "   <g id=\"RES-1b-a-lgal-HEX-1-5-6-d-12\">\n",
       "    <path clip-path=\"url(#p20201a9eeb)\" d=\"\n",
       "M286.906 188.606\n",
       "L279.566 199.276\n",
       "L294.247 199.276\n",
       "z\n",
       "\" style=\"fill:#ff0000;stroke:#000000;stroke-linejoin:miter;\"/>\n",
       "   </g>\n",
       "   <g id=\"RES-1b-b-dgal-HEX-1-5-10\">\n",
       "    <path clip-path=\"url(#p20201a9eeb)\" d=\"\n",
       "M231.813 225.954\n",
       "C234.061 225.954 236.217 225.204 237.806 223.87\n",
       "C239.396 222.536 240.289 220.726 240.289 218.84\n",
       "C240.289 216.953 239.396 215.144 237.806 213.81\n",
       "C236.217 212.475 234.061 211.726 231.813 211.726\n",
       "C229.565 211.726 227.409 212.475 225.819 213.81\n",
       "C224.23 215.144 223.337 216.953 223.337 218.84\n",
       "C223.337 220.726 224.23 222.536 225.819 223.87\n",
       "C227.409 225.204 229.565 225.954 231.813 225.954\n",
       "z\n",
       "\" style=\"fill:#ffff00;stroke:#000000;stroke-linejoin:miter;\"/>\n",
       "   </g>\n",
       "   <g id=\"RES-1b-a-dgro-dgal-NON-2-6-1-a-2-keto-3-d-2s-n-glycolyl-LIN-1-1d-5+1-2n-11\">\n",
       "    <path clip-path=\"url(#p20201a9eeb)\" d=\"\n",
       "M176.719 211.726\n",
       "L168.243 218.84\n",
       "L176.719 225.954\n",
       "L185.195 218.84\n",
       "z\n",
       "\" style=\"fill:#add8e6;stroke:#000000;stroke-linejoin:miter;\"/>\n",
       "   </g>\n",
       "   <g id=\"RES-1b-b-dglc-HEX-1-5-2s-n-acetyl-LIN-1-1d-2+1-2n-5\">\n",
       "    <path clip-path=\"url(#p20201a9eeb)\" d=\"\n",
       "M295.382 165.485\n",
       "L295.382 179.713\n",
       "L278.43 179.713\n",
       "L278.43 165.485\n",
       "L295.382 165.485\n",
       "z\n",
       "\" style=\"fill:#0000ff;stroke:#000000;stroke-linejoin:miter;\"/>\n",
       "   </g>\n",
       "   <g id=\"RES-1b-a-lgal-HEX-1-5-6-d-8\">\n",
       "    <path clip-path=\"url(#p20201a9eeb)\" d=\"\n",
       "M286.906 142.365\n",
       "L279.566 153.036\n",
       "L294.247 153.036\n",
       "z\n",
       "\" style=\"fill:#ff0000;stroke:#000000;stroke-linejoin:miter;\"/>\n",
       "   </g>\n",
       "   <g id=\"RES-1b-b-dgal-HEX-1-5-6\">\n",
       "    <path clip-path=\"url(#p20201a9eeb)\" d=\"\n",
       "M231.813 179.713\n",
       "C234.061 179.713 236.217 178.964 237.806 177.63\n",
       "C239.396 176.295 240.289 174.486 240.289 172.599\n",
       "C240.289 170.713 239.396 168.903 237.806 167.569\n",
       "C236.217 166.235 234.061 165.485 231.813 165.485\n",
       "C229.565 165.485 227.409 166.235 225.819 167.569\n",
       "C224.23 168.903 223.337 170.713 223.337 172.599\n",
       "C223.337 174.486 224.23 176.295 225.819 177.63\n",
       "C227.409 178.964 229.565 179.713 231.813 179.713\n",
       "z\n",
       "\" style=\"fill:#ffff00;stroke:#000000;stroke-linejoin:miter;\"/>\n",
       "   </g>\n",
       "   <g id=\"RES-1b-a-dgro-dgal-NON-2-6-1-a-2-keto-3-d-2s-n-acetyl-LIN-1-1d-5+1-2n-7\">\n",
       "    <path clip-path=\"url(#p20201a9eeb)\" d=\"\n",
       "M176.719 165.485\n",
       "L168.243 172.599\n",
       "L176.719 179.713\n",
       "L185.195 172.599\n",
       "z\n",
       "\" style=\"fill:#800080;stroke:#000000;stroke-linejoin:miter;\"/>\n",
       "   </g>\n",
       "   <g id=\"patch_3\">\n",
       "    <path d=\"\n",
       "M7.2 7.2\n",
       "L676.8 7.2\" style=\"fill:none;stroke:#000000;stroke-linecap:square;stroke-linejoin:miter;\"/>\n",
       "   </g>\n",
       "   <g id=\"patch_4\">\n",
       "    <path d=\"\n",
       "M676.8 453.6\n",
       "L676.8 7.2\" style=\"fill:none;stroke:#000000;stroke-linecap:square;stroke-linejoin:miter;\"/>\n",
       "   </g>\n",
       "   <g id=\"patch_5\">\n",
       "    <path d=\"\n",
       "M7.2 453.6\n",
       "L676.8 453.6\" style=\"fill:none;stroke:#000000;stroke-linecap:square;stroke-linejoin:miter;\"/>\n",
       "   </g>\n",
       "   <g id=\"patch_6\">\n",
       "    <path d=\"\n",
       "M7.2 453.6\n",
       "L7.2 7.2\" style=\"fill:none;stroke:#000000;stroke-linecap:square;stroke-linejoin:miter;\"/>\n",
       "   </g>\n",
       "   <g id=\"line2d_19\">\n",
       "    <path clip-path=\"url(#p20201a9eeb)\" d=\"\n",
       "M303.858 299.761\n",
       "L269.954 299.761\" style=\"fill:none;stroke:#ff0000;stroke-linecap:square;\"/>\n",
       "   </g>\n",
       "   <g id=\"line2d_20\">\n",
       "    <path clip-path=\"url(#p20201a9eeb)\" d=\"\n",
       "M303.858 207.28\n",
       "L269.954 207.28\" style=\"fill:none;stroke:#ff0000;stroke-linecap:square;\"/>\n",
       "   </g>\n",
       "   <g id=\"line2d_21\">\n",
       "    <path clip-path=\"url(#p20201a9eeb)\" d=\"\n",
       "M303.858 161.039\n",
       "L269.954 161.039\" style=\"fill:none;stroke:#ff0000;stroke-linecap:square;\"/>\n",
       "   </g>\n",
       "   <g id=\"line2d_22\">\n",
       "    <path clip-path=\"url(#p20201a9eeb)\" d=\"\n",
       "M204.266 158.371\n",
       "L204.266 186.827\" style=\"fill:none;stroke:#ff0000;stroke-linecap:square;\"/>\n",
       "   </g>\n",
       "   <g id=\"line2d_23\">\n",
       "    <path clip-path=\"url(#p20201a9eeb)\" d=\"\n",
       "M214.861 158.371\n",
       "L248.765 186.827\" style=\"fill:none;stroke:#ff0000;stroke-linecap:square;\"/>\n",
       "   </g>\n",
       "   <g id=\"line2d_24\">\n",
       "    <path clip-path=\"url(#p20201a9eeb)\" d=\"\n",
       "M214.861 158.371\n",
       "L248.765 186.827\" style=\"fill:none;stroke:#ff0000;stroke-linecap:square;\"/>\n",
       "   </g>\n",
       "   <g id=\"line2d_25\">\n",
       "    <path clip-path=\"url(#p20201a9eeb)\" d=\"\n",
       "M297.501 290.869\n",
       "L331.405 262.413\" style=\"fill:none;stroke:#ff0000;stroke-linecap:square;\"/>\n",
       "   </g>\n",
       "   <g id=\"line2d_26\">\n",
       "    <path clip-path=\"url(#p20201a9eeb)\" d=\"\n",
       "M259.359 158.371\n",
       "L259.359 186.827\" style=\"fill:none;stroke:#ff0000;stroke-linecap:square;\"/>\n",
       "   </g>\n",
       "  </g>\n",
       " </g>\n",
       " <defs>\n",
       "  <clipPath id=\"p20201a9eeb\">\n",
       "   <rect height=\"446.4\" width=\"669.6\" x=\"7.2\" y=\"7.2\"/>\n",
       "  </clipPath>\n",
       " </defs>\n",
       "</svg>\n"
      ],
      "text/plain": [
       "<matplotlib.figure.Figure at 0x1fb0f0b8>"
      ]
     },
     "metadata": {},
     "output_type": "display_data"
    },
    {
     "data": {
      "text/plain": [
       "20"
      ]
     },
     "metadata": {},
     "output_type": "display_data"
    },
    {
     "data": {
      "text/plain": [
       "4352.22464688626"
      ]
     },
     "metadata": {},
     "output_type": "display_data"
    },
    {
     "data": {
      "text/plain": [
       "'Fragments Observed / Expected: 0.036'"
      ]
     },
     "metadata": {},
     "output_type": "display_data"
    },
    {
     "data": {
      "text/plain": [
       "'Bd1 375.19297 2 [4583.298168, 4332.203434]'"
      ]
     },
     "metadata": {},
     "output_type": "display_data"
    },
    {
     "data": {
      "text/plain": [
       "'Be1 375.19297 2 [4583.298168, 4332.203434]'"
      ]
     },
     "metadata": {},
     "output_type": "display_data"
    },
    {
     "data": {
      "text/plain": [
       "'1,3Ad2 449.231999 1 [2984.575704]'"
      ]
     },
     "metadata": {},
     "output_type": "display_data"
    },
    {
     "data": {
      "text/plain": [
       "'2,4Ae2 449.231999 1 [2984.575704]'"
      ]
     },
     "metadata": {},
     "output_type": "display_data"
    },
    {
     "data": {
      "text/plain": [
       "'2,4Ad2 449.231999 1 [2984.575704]'"
      ]
     },
     "metadata": {},
     "output_type": "display_data"
    },
    {
     "data": {
      "text/plain": [
       "'1,3Ae2 449.231999 1 [2984.575704]'"
      ]
     },
     "metadata": {},
     "output_type": "display_data"
    },
    {
     "data": {
      "text/plain": [
       "'1,5Ad3 796.414467 1 [325.54965]'"
      ]
     },
     "metadata": {},
     "output_type": "display_data"
    },
    {
     "data": {
      "text/plain": [
       "'1,5Ae3 796.414467 1 [325.54965]'"
      ]
     },
     "metadata": {},
     "output_type": "display_data"
    },
    {
     "data": {
      "text/plain": [
       "'Bd3 824.422097 2 [457.780826, 1234.972484]'"
      ]
     },
     "metadata": {},
     "output_type": "display_data"
    },
    {
     "data": {
      "text/plain": [
       "'Be3 824.422097 2 [457.780826, 1234.972484]'"
      ]
     },
     "metadata": {},
     "output_type": "display_data"
    },
    {
     "data": {
      "text/plain": [
       "'0,3Ac1 928.479744 1 [4221.018549]'"
      ]
     },
     "metadata": {},
     "output_type": "display_data"
    },
    {
     "data": {
      "image/svg+xml": [
       "<?xml version=\"1.0\" encoding=\"utf-8\" standalone=\"no\"?>\n",
       "<!DOCTYPE svg PUBLIC \"-//W3C//DTD SVG 1.1//EN\"\n",
       "  \"http://www.w3.org/Graphics/SVG/1.1/DTD/svg11.dtd\">\n",
       "<!-- Created with matplotlib (http://matplotlib.org/) -->\n",
       "<svg height=\"460pt\" version=\"1.1\" viewBox=\"0 0 684 460\" width=\"684pt\" xmlns=\"http://www.w3.org/2000/svg\" xmlns:xlink=\"http://www.w3.org/1999/xlink\">\n",
       " <defs>\n",
       "  <style type=\"text/css\">\n",
       "*{stroke-linecap:butt;stroke-linejoin:round;}\n",
       "  </style>\n",
       " </defs>\n",
       " <g id=\"figure_1\">\n",
       "  <g id=\"patch_1\">\n",
       "   <path d=\"\n",
       "M0 460.8\n",
       "L684 460.8\n",
       "L684 0\n",
       "L0 0\n",
       "L0 460.8\" style=\"fill:none;\"/>\n",
       "  </g>\n",
       "  <g id=\"axes_1\">\n",
       "   <g id=\"patch_2\">\n",
       "    <path d=\"\n",
       "M7.2 453.6\n",
       "L676.8 453.6\n",
       "L676.8 7.2\n",
       "L7.2 7.2\n",
       "L7.2 453.6\" style=\"fill:none;\"/>\n",
       "   </g>\n",
       "   <g id=\"line2d_1\">\n",
       "    <path clip-path=\"url(#p20201a9eeb)\" d=\"\n",
       "M231.813 303.55\n",
       "L176.719 303.55\" style=\"fill:none;stroke:#000000;stroke-linecap:square;\"/>\n",
       "   </g>\n",
       "   <g id=\"line2d_2\">\n",
       "    <path clip-path=\"url(#p20201a9eeb)\" d=\"\n",
       "M286.906 303.55\n",
       "L231.813 303.55\" style=\"fill:none;stroke:#000000;stroke-linecap:square;\"/>\n",
       "   </g>\n",
       "   <g id=\"line2d_3\">\n",
       "    <path clip-path=\"url(#p20201a9eeb)\" d=\"\n",
       "M342 279.166\n",
       "L286.906 303.55\" style=\"fill:none;stroke:#000000;stroke-linecap:square;\"/>\n",
       "   </g>\n",
       "   <g id=\"line2d_4\">\n",
       "    <path clip-path=\"url(#p20201a9eeb)\" d=\"\n",
       "M231.813 254.783\n",
       "L176.719 254.783\" style=\"fill:none;stroke:#000000;stroke-linecap:square;\"/>\n",
       "   </g>\n",
       "   <g id=\"line2d_5\">\n",
       "    <path clip-path=\"url(#p20201a9eeb)\" d=\"\n",
       "M286.906 254.783\n",
       "L231.813 254.783\" style=\"fill:none;stroke:#000000;stroke-linecap:square;\"/>\n",
       "   </g>\n",
       "   <g id=\"line2d_6\">\n",
       "    <path clip-path=\"url(#p20201a9eeb)\" d=\"\n",
       "M342 279.166\n",
       "L286.906 254.783\" style=\"fill:none;stroke:#000000;stroke-linecap:square;\"/>\n",
       "   </g>\n",
       "   <g id=\"line2d_7\">\n",
       "    <path clip-path=\"url(#p20201a9eeb)\" d=\"\n",
       "M397.094 230.4\n",
       "L342 279.166\" style=\"fill:none;stroke:#000000;stroke-linecap:square;\"/>\n",
       "   </g>\n",
       "   <g id=\"line2d_8\">\n",
       "    <path clip-path=\"url(#p20201a9eeb)\" d=\"\n",
       "M397.094 230.4\n",
       "L342 230.4\" style=\"fill:none;stroke:#000000;stroke-linecap:square;\"/>\n",
       "   </g>\n",
       "   <g id=\"line2d_9\">\n",
       "    <path clip-path=\"url(#p20201a9eeb)\" d=\"\n",
       "M231.813 206.017\n",
       "L176.719 206.017\" style=\"fill:none;stroke:#000000;stroke-linecap:square;\"/>\n",
       "   </g>\n",
       "   <g id=\"line2d_10\">\n",
       "    <path clip-path=\"url(#p20201a9eeb)\" d=\"\n",
       "M286.906 206.017\n",
       "L231.813 206.017\" style=\"fill:none;stroke:#000000;stroke-linecap:square;\"/>\n",
       "   </g>\n",
       "   <g id=\"line2d_11\">\n",
       "    <path clip-path=\"url(#p20201a9eeb)\" d=\"\n",
       "M342 181.634\n",
       "L286.906 206.017\" style=\"fill:none;stroke:#000000;stroke-linecap:square;\"/>\n",
       "   </g>\n",
       "   <g id=\"line2d_12\">\n",
       "    <path clip-path=\"url(#p20201a9eeb)\" d=\"\n",
       "M231.813 157.25\n",
       "L176.719 157.25\" style=\"fill:none;stroke:#000000;stroke-linecap:square;\"/>\n",
       "   </g>\n",
       "   <g id=\"line2d_13\">\n",
       "    <path clip-path=\"url(#p20201a9eeb)\" d=\"\n",
       "M286.906 157.25\n",
       "L231.813 157.25\" style=\"fill:none;stroke:#000000;stroke-linecap:square;\"/>\n",
       "   </g>\n",
       "   <g id=\"line2d_14\">\n",
       "    <path clip-path=\"url(#p20201a9eeb)\" d=\"\n",
       "M342 181.634\n",
       "L286.906 157.25\" style=\"fill:none;stroke:#000000;stroke-linecap:square;\"/>\n",
       "   </g>\n",
       "   <g id=\"line2d_15\">\n",
       "    <path clip-path=\"url(#p20201a9eeb)\" d=\"\n",
       "M397.094 230.4\n",
       "L342 181.634\" style=\"fill:none;stroke:#000000;stroke-linecap:square;\"/>\n",
       "   </g>\n",
       "   <g id=\"line2d_16\">\n",
       "    <path clip-path=\"url(#p20201a9eeb)\" d=\"\n",
       "M452.187 230.4\n",
       "L397.094 230.4\" style=\"fill:none;stroke:#000000;stroke-linecap:square;\"/>\n",
       "   </g>\n",
       "   <g id=\"line2d_17\">\n",
       "    <path clip-path=\"url(#p20201a9eeb)\" d=\"\n",
       "M507.281 230.4\n",
       "L452.187 230.4\" style=\"fill:none;stroke:#000000;stroke-linecap:square;\"/>\n",
       "   </g>\n",
       "   <g id=\"RES-1b-o-dglc-HEX-0-0-1-aldi-2s-n-acetyl-LIN-1-1d-2+1-2n-1\">\n",
       "    <path clip-path=\"url(#p20201a9eeb)\" d=\"\n",
       "M515.757 222.897\n",
       "L515.757 237.903\n",
       "L498.805 237.903\n",
       "L498.805 222.897\n",
       "L515.757 222.897\n",
       "z\n",
       "\" style=\"fill:#0000ff;stroke:#000000;stroke-linejoin:miter;\"/>\n",
       "   </g>\n",
       "   <g id=\"RES-1b-b-dglc-HEX-1-5-2s-n-acetyl-LIN-1-1d-2+1-2n-2\">\n",
       "    <path clip-path=\"url(#p20201a9eeb)\" d=\"\n",
       "M460.663 222.897\n",
       "L460.663 237.903\n",
       "L443.711 237.903\n",
       "L443.711 222.897\n",
       "L460.663 222.897\n",
       "z\n",
       "\" style=\"fill:#0000ff;stroke:#000000;stroke-linejoin:miter;\"/>\n",
       "   </g>\n",
       "   <g id=\"RES-1b-b-dman-HEX-1-5-3\">\n",
       "    <path clip-path=\"url(#p20201a9eeb)\" d=\"\n",
       "M397.094 237.903\n",
       "C399.342 237.903 401.498 237.112 403.087 235.705\n",
       "C404.677 234.298 405.57 232.39 405.57 230.4\n",
       "C405.57 228.41 404.677 226.502 403.087 225.095\n",
       "C401.498 223.688 399.342 222.897 397.094 222.897\n",
       "C394.846 222.897 392.69 223.688 391.1 225.095\n",
       "C389.511 226.502 388.618 228.41 388.618 230.4\n",
       "C388.618 232.39 389.511 234.298 391.1 235.705\n",
       "C392.69 237.112 394.846 237.903 397.094 237.903\n",
       "z\n",
       "\" style=\"fill:#008000;stroke:#000000;stroke-linejoin:miter;\"/>\n",
       "   </g>\n",
       "   <g id=\"RES-1b-a-dman-HEX-1-5-12\">\n",
       "    <path clip-path=\"url(#p20201a9eeb)\" d=\"\n",
       "M342 286.669\n",
       "C344.248 286.669 346.404 285.878 347.993 284.471\n",
       "C349.583 283.065 350.476 281.156 350.476 279.166\n",
       "C350.476 277.177 349.583 275.268 347.993 273.861\n",
       "C346.404 272.454 344.248 271.664 342 271.664\n",
       "C339.752 271.664 337.596 272.454 336.007 273.861\n",
       "C334.417 275.268 333.524 277.177 333.524 279.166\n",
       "C333.524 281.156 334.417 283.065 336.007 284.471\n",
       "C337.596 285.878 339.752 286.669 342 286.669\n",
       "z\n",
       "\" style=\"fill:#008000;stroke:#000000;stroke-linejoin:miter;\"/>\n",
       "   </g>\n",
       "   <g id=\"RES-1b-b-dglc-HEX-1-5-2s-n-acetyl-LIN-1-1d-2+1-2n-16\">\n",
       "    <path clip-path=\"url(#p20201a9eeb)\" d=\"\n",
       "M295.382 296.047\n",
       "L295.382 311.052\n",
       "L278.43 311.052\n",
       "L278.43 296.047\n",
       "L295.382 296.047\n",
       "z\n",
       "\" style=\"fill:#0000ff;stroke:#000000;stroke-linejoin:miter;\"/>\n",
       "   </g>\n",
       "   <g id=\"RES-1b-b-dgal-HEX-1-5-17\">\n",
       "    <path clip-path=\"url(#p20201a9eeb)\" d=\"\n",
       "M231.813 311.052\n",
       "C234.061 311.052 236.217 310.262 237.806 308.855\n",
       "C239.396 307.448 240.289 305.539 240.289 303.55\n",
       "C240.289 301.56 239.396 299.651 237.806 298.244\n",
       "C236.217 296.838 234.061 296.047 231.813 296.047\n",
       "C229.565 296.047 227.409 296.838 225.819 298.244\n",
       "C224.23 299.651 223.337 301.56 223.337 303.55\n",
       "C223.337 305.539 224.23 307.448 225.819 308.855\n",
       "C227.409 310.262 229.565 311.052 231.813 311.052\n",
       "z\n",
       "\" style=\"fill:#ffff00;stroke:#000000;stroke-linejoin:miter;\"/>\n",
       "   </g>\n",
       "   <g id=\"RES-1b-a-dgal-HEX-1-5-18\">\n",
       "    <path clip-path=\"url(#p20201a9eeb)\" d=\"\n",
       "M176.719 311.052\n",
       "C178.967 311.052 181.123 310.262 182.712 308.855\n",
       "C184.302 307.448 185.195 305.539 185.195 303.55\n",
       "C185.195 301.56 184.302 299.651 182.712 298.244\n",
       "C181.123 296.838 178.967 296.047 176.719 296.047\n",
       "C174.471 296.047 172.315 296.838 170.726 298.244\n",
       "C169.136 299.651 168.243 301.56 168.243 303.55\n",
       "C168.243 305.539 169.136 307.448 170.726 308.855\n",
       "C172.315 310.262 174.471 311.052 176.719 311.052\n",
       "z\n",
       "\" style=\"fill:#ffff00;stroke:#000000;stroke-linejoin:miter;\"/>\n",
       "   </g>\n",
       "   <g id=\"RES-1b-b-dglc-HEX-1-5-2s-n-acetyl-LIN-1-1d-2+1-2n-13\">\n",
       "    <path clip-path=\"url(#p20201a9eeb)\" d=\"\n",
       "M295.382 247.281\n",
       "L295.382 262.286\n",
       "L278.43 262.286\n",
       "L278.43 247.281\n",
       "L295.382 247.281\n",
       "z\n",
       "\" style=\"fill:#0000ff;stroke:#000000;stroke-linejoin:miter;\"/>\n",
       "   </g>\n",
       "   <g id=\"RES-1b-b-dgal-HEX-1-5-14\">\n",
       "    <path clip-path=\"url(#p20201a9eeb)\" d=\"\n",
       "M231.813 262.286\n",
       "C234.061 262.286 236.217 261.495 237.806 260.088\n",
       "C239.396 258.681 240.289 256.773 240.289 254.783\n",
       "C240.289 252.794 239.396 250.885 237.806 249.478\n",
       "C236.217 248.071 234.061 247.281 231.813 247.281\n",
       "C229.565 247.281 227.409 248.071 225.819 249.478\n",
       "C224.23 250.885 223.337 252.794 223.337 254.783\n",
       "C223.337 256.773 224.23 258.681 225.819 260.088\n",
       "C227.409 261.495 229.565 262.286 231.813 262.286\n",
       "z\n",
       "\" style=\"fill:#ffff00;stroke:#000000;stroke-linejoin:miter;\"/>\n",
       "   </g>\n",
       "   <g id=\"RES-1b-a-dgal-HEX-1-5-15\">\n",
       "    <path clip-path=\"url(#p20201a9eeb)\" d=\"\n",
       "M176.719 262.286\n",
       "C178.967 262.286 181.123 261.495 182.712 260.088\n",
       "C184.302 258.681 185.195 256.773 185.195 254.783\n",
       "C185.195 252.794 184.302 250.885 182.712 249.478\n",
       "C181.123 248.071 178.967 247.281 176.719 247.281\n",
       "C174.471 247.281 172.315 248.071 170.726 249.478\n",
       "C169.136 250.885 168.243 252.794 168.243 254.783\n",
       "C168.243 256.773 169.136 258.681 170.726 260.088\n",
       "C172.315 261.495 174.471 262.286 176.719 262.286\n",
       "z\n",
       "\" style=\"fill:#ffff00;stroke:#000000;stroke-linejoin:miter;\"/>\n",
       "   </g>\n",
       "   <g id=\"RES-1b-b-dglc-HEX-1-5-2s-n-acetyl-LIN-1-1d-2+1-2n-11\">\n",
       "    <path clip-path=\"url(#p20201a9eeb)\" d=\"\n",
       "M350.476 222.897\n",
       "L350.476 237.903\n",
       "L333.524 237.903\n",
       "L333.524 222.897\n",
       "L350.476 222.897\n",
       "z\n",
       "\" style=\"fill:#0000ff;stroke:#000000;stroke-linejoin:miter;\"/>\n",
       "   </g>\n",
       "   <g id=\"RES-1b-a-dman-HEX-1-5-4\">\n",
       "    <path clip-path=\"url(#p20201a9eeb)\" d=\"\n",
       "M342 189.136\n",
       "C344.248 189.136 346.404 188.346 347.993 186.939\n",
       "C349.583 185.532 350.476 183.623 350.476 181.634\n",
       "C350.476 179.644 349.583 177.735 347.993 176.329\n",
       "C346.404 174.922 344.248 174.131 342 174.131\n",
       "C339.752 174.131 337.596 174.922 336.007 176.329\n",
       "C334.417 177.735 333.524 179.644 333.524 181.634\n",
       "C333.524 183.623 334.417 185.532 336.007 186.939\n",
       "C337.596 188.346 339.752 189.136 342 189.136\n",
       "z\n",
       "\" style=\"fill:#008000;stroke:#000000;stroke-linejoin:miter;\"/>\n",
       "   </g>\n",
       "   <g id=\"RES-1b-b-dglc-HEX-1-5-2s-n-acetyl-LIN-1-1d-2+1-2n-8\">\n",
       "    <path clip-path=\"url(#p20201a9eeb)\" d=\"\n",
       "M295.382 198.514\n",
       "L295.382 213.519\n",
       "L278.43 213.519\n",
       "L278.43 198.514\n",
       "L295.382 198.514\n",
       "z\n",
       "\" style=\"fill:#0000ff;stroke:#000000;stroke-linejoin:miter;\"/>\n",
       "   </g>\n",
       "   <g id=\"RES-1b-b-dgal-HEX-1-5-9\">\n",
       "    <path clip-path=\"url(#p20201a9eeb)\" d=\"\n",
       "M231.813 213.519\n",
       "C234.061 213.519 236.217 212.729 237.806 211.322\n",
       "C239.396 209.915 240.289 208.006 240.289 206.017\n",
       "C240.289 204.027 239.396 202.119 237.806 200.712\n",
       "C236.217 199.305 234.061 198.514 231.813 198.514\n",
       "C229.565 198.514 227.409 199.305 225.819 200.712\n",
       "C224.23 202.119 223.337 204.027 223.337 206.017\n",
       "C223.337 208.006 224.23 209.915 225.819 211.322\n",
       "C227.409 212.729 229.565 213.519 231.813 213.519\n",
       "z\n",
       "\" style=\"fill:#ffff00;stroke:#000000;stroke-linejoin:miter;\"/>\n",
       "   </g>\n",
       "   <g id=\"RES-1b-a-dgro-dgal-NON-2-6-1-a-2-keto-3-d-2s-n-acetyl-LIN-1-1d-5+1-2n-10\">\n",
       "    <path clip-path=\"url(#p20201a9eeb)\" d=\"\n",
       "M176.719 198.514\n",
       "L168.243 206.017\n",
       "L176.719 213.519\n",
       "L185.195 206.017\n",
       "z\n",
       "\" style=\"fill:#800080;stroke:#000000;stroke-linejoin:miter;\"/>\n",
       "   </g>\n",
       "   <g id=\"RES-1b-b-dglc-HEX-1-5-2s-n-acetyl-LIN-1-1d-2+1-2n-5\">\n",
       "    <path clip-path=\"url(#p20201a9eeb)\" d=\"\n",
       "M295.382 149.748\n",
       "L295.382 164.753\n",
       "L278.43 164.753\n",
       "L278.43 149.748\n",
       "L295.382 149.748\n",
       "z\n",
       "\" style=\"fill:#0000ff;stroke:#000000;stroke-linejoin:miter;\"/>\n",
       "   </g>\n",
       "   <g id=\"RES-1b-b-dgal-HEX-1-5-6\">\n",
       "    <path clip-path=\"url(#p20201a9eeb)\" d=\"\n",
       "M231.813 164.753\n",
       "C234.061 164.753 236.217 163.962 237.806 162.556\n",
       "C239.396 161.149 240.289 159.24 240.289 157.25\n",
       "C240.289 155.261 239.396 153.352 237.806 151.945\n",
       "C236.217 150.538 234.061 149.748 231.813 149.748\n",
       "C229.565 149.748 227.409 150.538 225.819 151.945\n",
       "C224.23 153.352 223.337 155.261 223.337 157.25\n",
       "C223.337 159.24 224.23 161.149 225.819 162.556\n",
       "C227.409 163.962 229.565 164.753 231.813 164.753\n",
       "z\n",
       "\" style=\"fill:#ffff00;stroke:#000000;stroke-linejoin:miter;\"/>\n",
       "   </g>\n",
       "   <g id=\"RES-1b-a-dgro-dgal-NON-2-6-1-a-2-keto-3-d-2s-n-acetyl-LIN-1-1d-5+1-2n-7\">\n",
       "    <path clip-path=\"url(#p20201a9eeb)\" d=\"\n",
       "M176.719 149.748\n",
       "L168.243 157.25\n",
       "L176.719 164.753\n",
       "L185.195 157.25\n",
       "z\n",
       "\" style=\"fill:#800080;stroke:#000000;stroke-linejoin:miter;\"/>\n",
       "   </g>\n",
       "   <g id=\"patch_3\">\n",
       "    <path d=\"\n",
       "M7.2 7.2\n",
       "L676.8 7.2\" style=\"fill:none;stroke:#000000;stroke-linecap:square;stroke-linejoin:miter;\"/>\n",
       "   </g>\n",
       "   <g id=\"patch_4\">\n",
       "    <path d=\"\n",
       "M676.8 453.6\n",
       "L676.8 7.2\" style=\"fill:none;stroke:#000000;stroke-linecap:square;stroke-linejoin:miter;\"/>\n",
       "   </g>\n",
       "   <g id=\"patch_5\">\n",
       "    <path d=\"\n",
       "M7.2 453.6\n",
       "L676.8 453.6\" style=\"fill:none;stroke:#000000;stroke-linecap:square;stroke-linejoin:miter;\"/>\n",
       "   </g>\n",
       "   <g id=\"patch_6\">\n",
       "    <path d=\"\n",
       "M7.2 453.6\n",
       "L7.2 7.2\" style=\"fill:none;stroke:#000000;stroke-linecap:square;stroke-linejoin:miter;\"/>\n",
       "   </g>\n",
       "   <g id=\"line2d_18\">\n",
       "    <path clip-path=\"url(#p20201a9eeb)\" d=\"\n",
       "M204.266 191.012\n",
       "L204.266 221.022\" style=\"fill:none;stroke:#ff0000;stroke-linecap:square;\"/>\n",
       "   </g>\n",
       "   <g id=\"line2d_19\">\n",
       "    <path clip-path=\"url(#p20201a9eeb)\" d=\"\n",
       "M204.266 142.245\n",
       "L204.266 172.255\" style=\"fill:none;stroke:#ff0000;stroke-linecap:square;\"/>\n",
       "   </g>\n",
       "   <g id=\"line2d_20\">\n",
       "    <path clip-path=\"url(#p20201a9eeb)\" d=\"\n",
       "M214.861 191.012\n",
       "L248.765 221.022\" style=\"fill:none;stroke:#ff0000;stroke-linecap:square;\"/>\n",
       "   </g>\n",
       "   <g id=\"line2d_21\">\n",
       "    <path clip-path=\"url(#p20201a9eeb)\" d=\"\n",
       "M214.861 142.245\n",
       "L248.765 172.255\" style=\"fill:none;stroke:#ff0000;stroke-linecap:square;\"/>\n",
       "   </g>\n",
       "   <g id=\"line2d_22\">\n",
       "    <path clip-path=\"url(#p20201a9eeb)\" d=\"\n",
       "M214.861 191.012\n",
       "L248.765 221.022\" style=\"fill:none;stroke:#ff0000;stroke-linecap:square;\"/>\n",
       "   </g>\n",
       "   <g id=\"line2d_23\">\n",
       "    <path clip-path=\"url(#p20201a9eeb)\" d=\"\n",
       "M214.861 142.245\n",
       "L248.765 172.255\" style=\"fill:none;stroke:#ff0000;stroke-linecap:square;\"/>\n",
       "   </g>\n",
       "   <g id=\"line2d_24\">\n",
       "    <path clip-path=\"url(#p20201a9eeb)\" d=\"\n",
       "M269.954 191.012\n",
       "L303.858 221.022\" style=\"fill:none;stroke:#ff0000;stroke-linecap:square;\"/>\n",
       "   </g>\n",
       "   <g id=\"line2d_25\">\n",
       "    <path clip-path=\"url(#p20201a9eeb)\" d=\"\n",
       "M269.954 142.245\n",
       "L303.858 172.255\" style=\"fill:none;stroke:#ff0000;stroke-linecap:square;\"/>\n",
       "   </g>\n",
       "   <g id=\"line2d_26\">\n",
       "    <path clip-path=\"url(#p20201a9eeb)\" d=\"\n",
       "M297.501 178.82\n",
       "L331.405 208.83\" style=\"fill:none;stroke:#ff0000;stroke-linecap:square;\"/>\n",
       "   </g>\n",
       "   <g id=\"line2d_27\">\n",
       "    <path clip-path=\"url(#p20201a9eeb)\" d=\"\n",
       "M297.501 184.447\n",
       "L331.405 154.437\" style=\"fill:none;stroke:#ff0000;stroke-linecap:square;\"/>\n",
       "   </g>\n",
       "   <g id=\"line2d_28\">\n",
       "    <path clip-path=\"url(#p20201a9eeb)\" d=\"\n",
       "M325.048 166.629\n",
       "L358.952 196.639\" style=\"fill:none;stroke:#ff0000;stroke-linecap:square;\"/>\n",
       "   </g>\n",
       "  </g>\n",
       " </g>\n",
       " <defs>\n",
       "  <clipPath id=\"p20201a9eeb\">\n",
       "   <rect height=\"446.4\" width=\"669.6\" x=\"7.2\" y=\"7.2\"/>\n",
       "  </clipPath>\n",
       " </defs>\n",
       "</svg>\n"
      ],
      "text/plain": [
       "<matplotlib.figure.Figure at 0x17ec0ba8>"
      ]
     },
     "metadata": {},
     "output_type": "display_data"
    },
    {
     "data": {
      "text/plain": [
       "21"
      ]
     },
     "metadata": {},
     "output_type": "display_data"
    },
    {
     "data": {
      "text/plain": [
       "3978.0557310863605"
      ]
     },
     "metadata": {},
     "output_type": "display_data"
    },
    {
     "data": {
      "text/plain": [
       "'Fragments Observed / Expected: 0.020'"
      ]
     },
     "metadata": {},
     "output_type": "display_data"
    },
    {
     "data": {
      "text/plain": [
       "'Be1 218.116589 1 [216.763526]'"
      ]
     },
     "metadata": {},
     "output_type": "display_data"
    },
    {
     "data": {
      "text/plain": [
       "'Bd1 218.116589 1 [216.763526]'"
      ]
     },
     "metadata": {},
     "output_type": "display_data"
    },
    {
     "data": {
      "text/plain": [
       "'Bk1 218.116589 1 [216.763526]'"
      ]
     },
     "metadata": {},
     "output_type": "display_data"
    },
    {
     "data": {
      "text/plain": [
       "'Bi1 218.116589 1 [216.763526]'"
      ]
     },
     "metadata": {},
     "output_type": "display_data"
    },
    {
     "data": {
      "text/plain": [
       "'3,5Ag3 1174.610709 1 [4799.341029]'"
      ]
     },
     "metadata": {},
     "output_type": "display_data"
    },
    {
     "data": {
      "text/plain": [
       "'1,5A6 3396.769482 1 [5986.243487]'"
      ]
     },
     "metadata": {},
     "output_type": "display_data"
    },
    {
     "data": {
      "image/svg+xml": [
       "<?xml version=\"1.0\" encoding=\"utf-8\" standalone=\"no\"?>\n",
       "<!DOCTYPE svg PUBLIC \"-//W3C//DTD SVG 1.1//EN\"\n",
       "  \"http://www.w3.org/Graphics/SVG/1.1/DTD/svg11.dtd\">\n",
       "<!-- Created with matplotlib (http://matplotlib.org/) -->\n",
       "<svg height=\"460pt\" version=\"1.1\" viewBox=\"0 0 683 460\" width=\"683pt\" xmlns=\"http://www.w3.org/2000/svg\" xmlns:xlink=\"http://www.w3.org/1999/xlink\">\n",
       " <defs>\n",
       "  <style type=\"text/css\">\n",
       "*{stroke-linecap:butt;stroke-linejoin:round;}\n",
       "  </style>\n",
       " </defs>\n",
       " <g id=\"figure_1\">\n",
       "  <g id=\"patch_1\">\n",
       "   <path d=\"\n",
       "M0 460.8\n",
       "L684 460.8\n",
       "L684 0\n",
       "L0 0\n",
       "L0 460.8\" style=\"fill:none;\"/>\n",
       "  </g>\n",
       "  <g id=\"axes_1\">\n",
       "   <g id=\"patch_2\">\n",
       "    <path d=\"\n",
       "M7.2 453.6\n",
       "L676.8 453.6\n",
       "L676.8 7.2\n",
       "L7.2 7.2\n",
       "L7.2 453.6\" style=\"fill:none;\"/>\n",
       "   </g>\n",
       "   <g id=\"line2d_1\">\n",
       "    <path clip-path=\"url(#p6c8687bb8d)\" d=\"\n",
       "M214.737 303.55\n",
       "L214.737 279.166\" style=\"fill:none;stroke:#000000;stroke-linecap:square;\"/>\n",
       "   </g>\n",
       "   <g id=\"line2d_2\">\n",
       "    <path clip-path=\"url(#p6c8687bb8d)\" d=\"\n",
       "M214.737 303.55\n",
       "L163.832 303.55\" style=\"fill:none;stroke:#000000;stroke-linecap:square;\"/>\n",
       "   </g>\n",
       "   <g id=\"line2d_3\">\n",
       "    <path clip-path=\"url(#p6c8687bb8d)\" d=\"\n",
       "M265.642 303.55\n",
       "L214.737 303.55\" style=\"fill:none;stroke:#000000;stroke-linecap:square;\"/>\n",
       "   </g>\n",
       "   <g id=\"line2d_4\">\n",
       "    <path clip-path=\"url(#p6c8687bb8d)\" d=\"\n",
       "M316.547 303.55\n",
       "L265.642 303.55\" style=\"fill:none;stroke:#000000;stroke-linecap:square;\"/>\n",
       "   </g>\n",
       "   <g id=\"line2d_5\">\n",
       "    <path clip-path=\"url(#p6c8687bb8d)\" d=\"\n",
       "M367.453 279.166\n",
       "L316.547 303.55\" style=\"fill:none;stroke:#000000;stroke-linecap:square;\"/>\n",
       "   </g>\n",
       "   <g id=\"line2d_6\">\n",
       "    <path clip-path=\"url(#p6c8687bb8d)\" d=\"\n",
       "M214.737 254.783\n",
       "L214.737 230.4\" style=\"fill:none;stroke:#000000;stroke-linecap:square;\"/>\n",
       "   </g>\n",
       "   <g id=\"line2d_7\">\n",
       "    <path clip-path=\"url(#p6c8687bb8d)\" d=\"\n",
       "M214.737 254.783\n",
       "L163.832 254.783\" style=\"fill:none;stroke:#000000;stroke-linecap:square;\"/>\n",
       "   </g>\n",
       "   <g id=\"line2d_8\">\n",
       "    <path clip-path=\"url(#p6c8687bb8d)\" d=\"\n",
       "M265.642 254.783\n",
       "L214.737 254.783\" style=\"fill:none;stroke:#000000;stroke-linecap:square;\"/>\n",
       "   </g>\n",
       "   <g id=\"line2d_9\">\n",
       "    <path clip-path=\"url(#p6c8687bb8d)\" d=\"\n",
       "M316.547 254.783\n",
       "L265.642 254.783\" style=\"fill:none;stroke:#000000;stroke-linecap:square;\"/>\n",
       "   </g>\n",
       "   <g id=\"line2d_10\">\n",
       "    <path clip-path=\"url(#p6c8687bb8d)\" d=\"\n",
       "M367.453 279.166\n",
       "L316.547 254.783\" style=\"fill:none;stroke:#000000;stroke-linecap:square;\"/>\n",
       "   </g>\n",
       "   <g id=\"line2d_11\">\n",
       "    <path clip-path=\"url(#p6c8687bb8d)\" d=\"\n",
       "M418.358 230.4\n",
       "L367.453 279.166\" style=\"fill:none;stroke:#000000;stroke-linecap:square;\"/>\n",
       "   </g>\n",
       "   <g id=\"line2d_12\">\n",
       "    <path clip-path=\"url(#p6c8687bb8d)\" d=\"\n",
       "M418.358 230.4\n",
       "L367.453 230.4\" style=\"fill:none;stroke:#000000;stroke-linecap:square;\"/>\n",
       "   </g>\n",
       "   <g id=\"line2d_13\">\n",
       "    <path clip-path=\"url(#p6c8687bb8d)\" d=\"\n",
       "M367.453 181.634\n",
       "L316.547 206.017\" style=\"fill:none;stroke:#000000;stroke-linecap:square;\"/>\n",
       "   </g>\n",
       "   <g id=\"line2d_14\">\n",
       "    <path clip-path=\"url(#p6c8687bb8d)\" d=\"\n",
       "M367.453 181.634\n",
       "L316.547 157.25\" style=\"fill:none;stroke:#000000;stroke-linecap:square;\"/>\n",
       "   </g>\n",
       "   <g id=\"line2d_15\">\n",
       "    <path clip-path=\"url(#p6c8687bb8d)\" d=\"\n",
       "M418.358 230.4\n",
       "L367.453 181.634\" style=\"fill:none;stroke:#000000;stroke-linecap:square;\"/>\n",
       "   </g>\n",
       "   <g id=\"line2d_16\">\n",
       "    <path clip-path=\"url(#p6c8687bb8d)\" d=\"\n",
       "M469.263 230.4\n",
       "L418.358 230.4\" style=\"fill:none;stroke:#000000;stroke-linecap:square;\"/>\n",
       "   </g>\n",
       "   <g id=\"line2d_17\">\n",
       "    <path clip-path=\"url(#p6c8687bb8d)\" d=\"\n",
       "M520.168 230.4\n",
       "L469.263 230.4\" style=\"fill:none;stroke:#000000;stroke-linecap:square;\"/>\n",
       "   </g>\n",
       "   <g id=\"RES-1b-o-dglc-HEX-0-0-1-aldi-2s-n-acetyl-LIN-1-1d-2+1-2n-1\">\n",
       "    <path clip-path=\"url(#p6c8687bb8d)\" d=\"\n",
       "M528 222.897\n",
       "L528 237.903\n",
       "L512.337 237.903\n",
       "L512.337 222.897\n",
       "L528 222.897\n",
       "z\n",
       "\" style=\"fill:#0000ff;stroke:#000000;stroke-linejoin:miter;\"/>\n",
       "   </g>\n",
       "   <g id=\"RES-1b-b-dglc-HEX-1-5-2s-n-acetyl-LIN-1-1d-2+1-2n-2\">\n",
       "    <path clip-path=\"url(#p6c8687bb8d)\" d=\"\n",
       "M477.095 222.897\n",
       "L477.095 237.903\n",
       "L461.432 237.903\n",
       "L461.432 222.897\n",
       "L477.095 222.897\n",
       "z\n",
       "\" style=\"fill:#0000ff;stroke:#000000;stroke-linejoin:miter;\"/>\n",
       "   </g>\n",
       "   <g id=\"RES-1b-b-dman-HEX-1-5-3\">\n",
       "    <path clip-path=\"url(#p6c8687bb8d)\" d=\"\n",
       "M418.358 237.903\n",
       "C420.435 237.903 422.427 237.112 423.896 235.705\n",
       "C425.364 234.298 426.189 232.39 426.189 230.4\n",
       "C426.189 228.41 425.364 226.502 423.896 225.095\n",
       "C422.427 223.688 420.435 222.897 418.358 222.897\n",
       "C416.281 222.897 414.289 223.688 412.82 225.095\n",
       "C411.352 226.502 410.526 228.41 410.526 230.4\n",
       "C410.526 232.39 411.352 234.298 412.82 235.705\n",
       "C414.289 237.112 416.281 237.903 418.358 237.903\n",
       "z\n",
       "\" style=\"fill:#008000;stroke:#000000;stroke-linejoin:miter;\"/>\n",
       "   </g>\n",
       "   <g id=\"RES-1b-a-dman-HEX-1-5-8\">\n",
       "    <path clip-path=\"url(#p6c8687bb8d)\" d=\"\n",
       "M367.453 286.669\n",
       "C369.53 286.669 371.522 285.878 372.99 284.471\n",
       "C374.459 283.065 375.284 281.156 375.284 279.166\n",
       "C375.284 277.177 374.459 275.268 372.99 273.861\n",
       "C371.522 272.454 369.53 271.664 367.453 271.664\n",
       "C365.376 271.664 363.384 272.454 361.915 273.861\n",
       "C360.446 275.268 359.621 277.177 359.621 279.166\n",
       "C359.621 281.156 360.446 283.065 361.915 284.471\n",
       "C363.384 285.878 365.376 286.669 367.453 286.669\n",
       "z\n",
       "\" style=\"fill:#008000;stroke:#000000;stroke-linejoin:miter;\"/>\n",
       "   </g>\n",
       "   <g id=\"RES-1b-b-dglc-HEX-1-5-2s-n-acetyl-LIN-1-1d-2+1-2n-14\">\n",
       "    <path clip-path=\"url(#p6c8687bb8d)\" d=\"\n",
       "M324.379 296.047\n",
       "L324.379 311.052\n",
       "L308.716 311.052\n",
       "L308.716 296.047\n",
       "L324.379 296.047\n",
       "z\n",
       "\" style=\"fill:#0000ff;stroke:#000000;stroke-linejoin:miter;\"/>\n",
       "   </g>\n",
       "   <g id=\"RES-1b-b-dgal-HEX-1-5-15\">\n",
       "    <path clip-path=\"url(#p6c8687bb8d)\" d=\"\n",
       "M265.642 311.052\n",
       "C267.719 311.052 269.711 310.262 271.18 308.855\n",
       "C272.648 307.448 273.474 305.539 273.474 303.55\n",
       "C273.474 301.56 272.648 299.651 271.18 298.244\n",
       "C269.711 296.838 267.719 296.047 265.642 296.047\n",
       "C263.565 296.047 261.573 296.838 260.104 298.244\n",
       "C258.636 299.651 257.811 301.56 257.811 303.55\n",
       "C257.811 305.539 258.636 307.448 260.104 308.855\n",
       "C261.573 310.262 263.565 311.052 265.642 311.052\n",
       "z\n",
       "\" style=\"fill:#ffff00;stroke:#000000;stroke-linejoin:miter;\"/>\n",
       "   </g>\n",
       "   <g id=\"RES-1b-b-dglc-HEX-1-5-2s-n-acetyl-LIN-1-1d-2+1-2n-16\">\n",
       "    <path clip-path=\"url(#p6c8687bb8d)\" d=\"\n",
       "M222.568 296.047\n",
       "L222.568 311.052\n",
       "L206.905 311.052\n",
       "L206.905 296.047\n",
       "L222.568 296.047\n",
       "z\n",
       "\" style=\"fill:#0000ff;stroke:#000000;stroke-linejoin:miter;\"/>\n",
       "   </g>\n",
       "   <g id=\"RES-1b-a-lgal-HEX-1-5-6-d-18\">\n",
       "    <path clip-path=\"url(#p6c8687bb8d)\" d=\"\n",
       "M214.737 271.664\n",
       "L207.954 282.918\n",
       "L221.519 282.918\n",
       "z\n",
       "\" style=\"fill:#ff0000;stroke:#000000;stroke-linejoin:miter;\"/>\n",
       "   </g>\n",
       "   <g id=\"RES-1b-b-dgal-HEX-1-5-17\">\n",
       "    <path clip-path=\"url(#p6c8687bb8d)\" d=\"\n",
       "M163.832 311.052\n",
       "C165.909 311.052 167.901 310.262 169.369 308.855\n",
       "C170.838 307.448 171.663 305.539 171.663 303.55\n",
       "C171.663 301.56 170.838 299.651 169.369 298.244\n",
       "C167.901 296.838 165.909 296.047 163.832 296.047\n",
       "C161.755 296.047 159.762 296.838 158.294 298.244\n",
       "C156.825 299.651 156 301.56 156 303.55\n",
       "C156 305.539 156.825 307.448 158.294 308.855\n",
       "C159.762 310.262 161.755 311.052 163.832 311.052\n",
       "z\n",
       "\" style=\"fill:#ffff00;stroke:#000000;stroke-linejoin:miter;\"/>\n",
       "   </g>\n",
       "   <g id=\"RES-1b-b-dglc-HEX-1-5-2s-n-acetyl-LIN-1-1d-2+1-2n-9\">\n",
       "    <path clip-path=\"url(#p6c8687bb8d)\" d=\"\n",
       "M324.379 247.281\n",
       "L324.379 262.286\n",
       "L308.716 262.286\n",
       "L308.716 247.281\n",
       "L324.379 247.281\n",
       "z\n",
       "\" style=\"fill:#0000ff;stroke:#000000;stroke-linejoin:miter;\"/>\n",
       "   </g>\n",
       "   <g id=\"RES-1b-b-dgal-HEX-1-5-10\">\n",
       "    <path clip-path=\"url(#p6c8687bb8d)\" d=\"\n",
       "M265.642 262.286\n",
       "C267.719 262.286 269.711 261.495 271.18 260.088\n",
       "C272.648 258.681 273.474 256.773 273.474 254.783\n",
       "C273.474 252.794 272.648 250.885 271.18 249.478\n",
       "C269.711 248.071 267.719 247.281 265.642 247.281\n",
       "C263.565 247.281 261.573 248.071 260.104 249.478\n",
       "C258.636 250.885 257.811 252.794 257.811 254.783\n",
       "C257.811 256.773 258.636 258.681 260.104 260.088\n",
       "C261.573 261.495 263.565 262.286 265.642 262.286\n",
       "z\n",
       "\" style=\"fill:#ffff00;stroke:#000000;stroke-linejoin:miter;\"/>\n",
       "   </g>\n",
       "   <g id=\"RES-1b-b-dglc-HEX-1-5-2s-n-acetyl-LIN-1-1d-2+1-2n-11\">\n",
       "    <path clip-path=\"url(#p6c8687bb8d)\" d=\"\n",
       "M222.568 247.281\n",
       "L222.568 262.286\n",
       "L206.905 262.286\n",
       "L206.905 247.281\n",
       "L222.568 247.281\n",
       "z\n",
       "\" style=\"fill:#0000ff;stroke:#000000;stroke-linejoin:miter;\"/>\n",
       "   </g>\n",
       "   <g id=\"RES-1b-a-lgal-HEX-1-5-6-d-13\">\n",
       "    <path clip-path=\"url(#p6c8687bb8d)\" d=\"\n",
       "M214.737 222.897\n",
       "L207.954 234.151\n",
       "L221.519 234.151\n",
       "z\n",
       "\" style=\"fill:#ff0000;stroke:#000000;stroke-linejoin:miter;\"/>\n",
       "   </g>\n",
       "   <g id=\"RES-1b-b-dgal-HEX-1-5-12\">\n",
       "    <path clip-path=\"url(#p6c8687bb8d)\" d=\"\n",
       "M163.832 262.286\n",
       "C165.909 262.286 167.901 261.495 169.369 260.088\n",
       "C170.838 258.681 171.663 256.773 171.663 254.783\n",
       "C171.663 252.794 170.838 250.885 169.369 249.478\n",
       "C167.901 248.071 165.909 247.281 163.832 247.281\n",
       "C161.755 247.281 159.762 248.071 158.294 249.478\n",
       "C156.825 250.885 156 252.794 156 254.783\n",
       "C156 256.773 156.825 258.681 158.294 260.088\n",
       "C159.762 261.495 161.755 262.286 163.832 262.286\n",
       "z\n",
       "\" style=\"fill:#ffff00;stroke:#000000;stroke-linejoin:miter;\"/>\n",
       "   </g>\n",
       "   <g id=\"RES-1b-b-dglc-HEX-1-5-2s-n-acetyl-LIN-1-1d-2+1-2n-7\">\n",
       "    <path clip-path=\"url(#p6c8687bb8d)\" d=\"\n",
       "M375.284 222.897\n",
       "L375.284 237.903\n",
       "L359.621 237.903\n",
       "L359.621 222.897\n",
       "L375.284 222.897\n",
       "z\n",
       "\" style=\"fill:#0000ff;stroke:#000000;stroke-linejoin:miter;\"/>\n",
       "   </g>\n",
       "   <g id=\"RES-1b-a-dman-HEX-1-5-4\">\n",
       "    <path clip-path=\"url(#p6c8687bb8d)\" d=\"\n",
       "M367.453 189.136\n",
       "C369.53 189.136 371.522 188.346 372.99 186.939\n",
       "C374.459 185.532 375.284 183.623 375.284 181.634\n",
       "C375.284 179.644 374.459 177.735 372.99 176.329\n",
       "C371.522 174.922 369.53 174.131 367.453 174.131\n",
       "C365.376 174.131 363.384 174.922 361.915 176.329\n",
       "C360.446 177.735 359.621 179.644 359.621 181.634\n",
       "C359.621 183.623 360.446 185.532 361.915 186.939\n",
       "C363.384 188.346 365.376 189.136 367.453 189.136\n",
       "z\n",
       "\" style=\"fill:#008000;stroke:#000000;stroke-linejoin:miter;\"/>\n",
       "   </g>\n",
       "   <g id=\"RES-1b-a-dman-HEX-1-5-6\">\n",
       "    <path clip-path=\"url(#p6c8687bb8d)\" d=\"\n",
       "M316.547 213.519\n",
       "C318.624 213.519 320.616 212.729 322.085 211.322\n",
       "C323.554 209.915 324.379 208.006 324.379 206.017\n",
       "C324.379 204.027 323.554 202.119 322.085 200.712\n",
       "C320.616 199.305 318.624 198.514 316.547 198.514\n",
       "C314.47 198.514 312.478 199.305 311.01 200.712\n",
       "C309.541 202.119 308.716 204.027 308.716 206.017\n",
       "C308.716 208.006 309.541 209.915 311.01 211.322\n",
       "C312.478 212.729 314.47 213.519 316.547 213.519\n",
       "z\n",
       "\" style=\"fill:#008000;stroke:#000000;stroke-linejoin:miter;\"/>\n",
       "   </g>\n",
       "   <g id=\"RES-1b-a-dman-HEX-1-5-5\">\n",
       "    <path clip-path=\"url(#p6c8687bb8d)\" d=\"\n",
       "M316.547 164.753\n",
       "C318.624 164.753 320.616 163.962 322.085 162.556\n",
       "C323.554 161.149 324.379 159.24 324.379 157.25\n",
       "C324.379 155.261 323.554 153.352 322.085 151.945\n",
       "C320.616 150.538 318.624 149.748 316.547 149.748\n",
       "C314.47 149.748 312.478 150.538 311.01 151.945\n",
       "C309.541 153.352 308.716 155.261 308.716 157.25\n",
       "C308.716 159.24 309.541 161.149 311.01 162.556\n",
       "C312.478 163.962 314.47 164.753 316.547 164.753\n",
       "z\n",
       "\" style=\"fill:#008000;stroke:#000000;stroke-linejoin:miter;\"/>\n",
       "   </g>\n",
       "   <g id=\"patch_3\">\n",
       "    <path d=\"\n",
       "M7.2 7.2\n",
       "L676.8 7.2\" style=\"fill:none;stroke:#000000;stroke-linecap:square;stroke-linejoin:miter;\"/>\n",
       "   </g>\n",
       "   <g id=\"patch_4\">\n",
       "    <path d=\"\n",
       "M676.8 453.6\n",
       "L676.8 7.2\" style=\"fill:none;stroke:#000000;stroke-linecap:square;stroke-linejoin:miter;\"/>\n",
       "   </g>\n",
       "   <g id=\"patch_5\">\n",
       "    <path d=\"\n",
       "M7.2 453.6\n",
       "L676.8 453.6\" style=\"fill:none;stroke:#000000;stroke-linecap:square;stroke-linejoin:miter;\"/>\n",
       "   </g>\n",
       "   <g id=\"patch_6\">\n",
       "    <path d=\"\n",
       "M7.2 453.6\n",
       "L7.2 7.2\" style=\"fill:none;stroke:#000000;stroke-linecap:square;stroke-linejoin:miter;\"/>\n",
       "   </g>\n",
       "   <g id=\"line2d_18\">\n",
       "    <path clip-path=\"url(#p6c8687bb8d)\" d=\"\n",
       "M326.337 184.447\n",
       "L357.663 154.437\" style=\"fill:none;stroke:#ff0000;stroke-linecap:square;\"/>\n",
       "   </g>\n",
       "   <g id=\"line2d_19\">\n",
       "    <path clip-path=\"url(#p6c8687bb8d)\" d=\"\n",
       "M326.337 178.82\n",
       "L357.663 208.83\" style=\"fill:none;stroke:#ff0000;stroke-linecap:square;\"/>\n",
       "   </g>\n",
       "   <g id=\"line2d_20\">\n",
       "    <path clip-path=\"url(#p6c8687bb8d)\" d=\"\n",
       "M189.284 288.545\n",
       "L189.284 318.555\" style=\"fill:none;stroke:#ff0000;stroke-linecap:square;\"/>\n",
       "   </g>\n",
       "   <g id=\"line2d_21\">\n",
       "    <path clip-path=\"url(#p6c8687bb8d)\" d=\"\n",
       "M189.284 239.778\n",
       "L189.284 269.788\" style=\"fill:none;stroke:#ff0000;stroke-linecap:square;\"/>\n",
       "   </g>\n",
       "   <g id=\"line2d_22\">\n",
       "    <path clip-path=\"url(#p6c8687bb8d)\" d=\"\n",
       "M351.789 264.161\n",
       "L383.116 294.171\" style=\"fill:none;stroke:#ff0000;stroke-linecap:square;\"/>\n",
       "   </g>\n",
       "   <g id=\"line2d_23\">\n",
       "    <path clip-path=\"url(#p6c8687bb8d)\" d=\"\n",
       "M402.695 215.395\n",
       "L434.021 245.405\" style=\"fill:none;stroke:#ff0000;stroke-linecap:square;\"/>\n",
       "   </g>\n",
       "  </g>\n",
       " </g>\n",
       " <defs>\n",
       "  <clipPath id=\"p6c8687bb8d\">\n",
       "   <rect height=\"446.4\" width=\"669.6\" x=\"7.2\" y=\"7.2\"/>\n",
       "  </clipPath>\n",
       " </defs>\n",
       "</svg>\n"
      ],
      "text/plain": [
       "<matplotlib.figure.Figure at 0x132a07b8>"
      ]
     },
     "metadata": {},
     "output_type": "display_data"
    },
    {
     "data": {
      "text/plain": [
       "22"
      ]
     },
     "metadata": {},
     "output_type": "display_data"
    },
    {
     "data": {
      "text/plain": [
       "3802.94612106773"
      ]
     },
     "metadata": {},
     "output_type": "display_data"
    },
    {
     "data": {
      "text/plain": [
       "'Fragments Observed / Expected: 0.077'"
      ]
     },
     "metadata": {},
     "output_type": "display_data"
    },
    {
     "data": {
      "text/plain": [
       "'Bf1 218.116242 1 [1553.908398]'"
      ]
     },
     "metadata": {},
     "output_type": "display_data"
    },
    {
     "data": {
      "text/plain": [
       "'Bd1 218.116242 1 [1553.908398]'"
      ]
     },
     "metadata": {},
     "output_type": "display_data"
    },
    {
     "data": {
      "text/plain": [
       "'Bc1 218.116242 1 [1553.908398]'"
      ]
     },
     "metadata": {},
     "output_type": "display_data"
    },
    {
     "data": {
      "text/plain": [
       "'Bf2 463.244485 1 [9058.060362]'"
      ]
     },
     "metadata": {},
     "output_type": "display_data"
    },
    {
     "data": {
      "text/plain": [
       "'Bd2 463.244485 1 [9058.060362]'"
      ]
     },
     "metadata": {},
     "output_type": "display_data"
    },
    {
     "data": {
      "text/plain": [
       "'Bc2 463.244485 1 [9058.060362]'"
      ]
     },
     "metadata": {},
     "output_type": "display_data"
    },
    {
     "data": {
      "text/plain": [
       "'Bc3 667.353132 1 [149.432969]'"
      ]
     },
     "metadata": {},
     "output_type": "display_data"
    },
    {
     "data": {
      "text/plain": [
       "'1,5Ae3 812.408844 1 [5225.674796]'"
      ]
     },
     "metadata": {},
     "output_type": "display_data"
    },
    {
     "data": {
      "text/plain": [
       "'Be3 840.41611 1 [921.226089]'"
      ]
     },
     "metadata": {},
     "output_type": "display_data"
    },
    {
     "data": {
      "text/plain": [
       "'3,5A6 1653.839912 1 [495.801683]'"
      ]
     },
     "metadata": {},
     "output_type": "display_data"
    },
    {
     "data": {
      "text/plain": [
       "'0,4X2 2177.090921 1 [302.265794]'"
      ]
     },
     "metadata": {},
     "output_type": "display_data"
    },
    {
     "data": {
      "text/plain": [
       "'1,4Xc4 2976.510468 1 [1848.039931]'"
      ]
     },
     "metadata": {},
     "output_type": "display_data"
    },
    {
     "data": {
      "text/plain": [
       "'2,5Xc4 3003.538432 1 [1613.314549]'"
      ]
     },
     "metadata": {},
     "output_type": "display_data"
    },
    {
     "data": {
      "text/plain": [
       "'3,5Xc4 3047.564054 1 [2001.202284]'"
      ]
     },
     "metadata": {},
     "output_type": "display_data"
    },
    {
     "data": {
      "text/plain": [
       "'Ze5 3189.663605 1 [236.88305]'"
      ]
     },
     "metadata": {},
     "output_type": "display_data"
    },
    {
     "data": {
      "text/plain": [
       "'1,4Xf4 3425.769724 1 [6025.474261]'"
      ]
     },
     "metadata": {},
     "output_type": "display_data"
    },
    {
     "data": {
      "text/plain": [
       "'1,4Xd4 3425.769724 1 [6025.474261]'"
      ]
     },
     "metadata": {},
     "output_type": "display_data"
    },
    {
     "data": {
      "text/plain": [
       "'1,4Xc6 3425.769724 1 [6025.474261]'"
      ]
     },
     "metadata": {},
     "output_type": "display_data"
    },
    {
     "data": {
      "text/plain": [
       "'1,5Xf5 3612.878847 1 [2744.04454]'"
      ]
     },
     "metadata": {},
     "output_type": "display_data"
    },
    {
     "data": {
      "text/plain": [
       "'1,5Xc7 3612.878847 1 [2744.04454]'"
      ]
     },
     "metadata": {},
     "output_type": "display_data"
    },
    {
     "data": {
      "text/plain": [
       "'1,5Xd5 3612.878847 1 [2744.04454]'"
      ]
     },
     "metadata": {},
     "output_type": "display_data"
    },
    {
     "data": {
      "image/svg+xml": [
       "<?xml version=\"1.0\" encoding=\"utf-8\" standalone=\"no\"?>\n",
       "<!DOCTYPE svg PUBLIC \"-//W3C//DTD SVG 1.1//EN\"\n",
       "  \"http://www.w3.org/Graphics/SVG/1.1/DTD/svg11.dtd\">\n",
       "<!-- Created with matplotlib (http://matplotlib.org/) -->\n",
       "<svg height=\"460pt\" version=\"1.1\" viewBox=\"0 0 683 460\" width=\"683pt\" xmlns=\"http://www.w3.org/2000/svg\" xmlns:xlink=\"http://www.w3.org/1999/xlink\">\n",
       " <defs>\n",
       "  <style type=\"text/css\">\n",
       "*{stroke-linecap:butt;stroke-linejoin:round;}\n",
       "  </style>\n",
       " </defs>\n",
       " <g id=\"figure_1\">\n",
       "  <g id=\"patch_1\">\n",
       "   <path d=\"\n",
       "M0 460.8\n",
       "L684 460.8\n",
       "L684 0\n",
       "L0 0\n",
       "L0 460.8\" style=\"fill:none;\"/>\n",
       "  </g>\n",
       "  <g id=\"axes_1\">\n",
       "   <g id=\"patch_2\">\n",
       "    <path d=\"\n",
       "M7.2 453.6\n",
       "L676.8 453.6\n",
       "L676.8 7.2\n",
       "L7.2 7.2\n",
       "L7.2 453.6\" style=\"fill:none;\"/>\n",
       "   </g>\n",
       "   <g id=\"line2d_1\">\n",
       "    <path clip-path=\"url(#p6c8687bb8d)\" d=\"\n",
       "M265.642 303.55\n",
       "L214.737 303.55\" style=\"fill:none;stroke:#000000;stroke-linecap:square;\"/>\n",
       "   </g>\n",
       "   <g id=\"line2d_2\">\n",
       "    <path clip-path=\"url(#p6c8687bb8d)\" d=\"\n",
       "M316.547 303.55\n",
       "L265.642 303.55\" style=\"fill:none;stroke:#000000;stroke-linecap:square;\"/>\n",
       "   </g>\n",
       "   <g id=\"line2d_3\">\n",
       "    <path clip-path=\"url(#p6c8687bb8d)\" d=\"\n",
       "M367.453 279.166\n",
       "L316.547 303.55\" style=\"fill:none;stroke:#000000;stroke-linecap:square;\"/>\n",
       "   </g>\n",
       "   <g id=\"line2d_4\">\n",
       "    <path clip-path=\"url(#p6c8687bb8d)\" d=\"\n",
       "M316.547 254.783\n",
       "L265.642 254.783\" style=\"fill:none;stroke:#000000;stroke-linecap:square;\"/>\n",
       "   </g>\n",
       "   <g id=\"line2d_5\">\n",
       "    <path clip-path=\"url(#p6c8687bb8d)\" d=\"\n",
       "M367.453 279.166\n",
       "L316.547 254.783\" style=\"fill:none;stroke:#000000;stroke-linecap:square;\"/>\n",
       "   </g>\n",
       "   <g id=\"line2d_6\">\n",
       "    <path clip-path=\"url(#p6c8687bb8d)\" d=\"\n",
       "M418.358 230.4\n",
       "L367.453 279.166\" style=\"fill:none;stroke:#000000;stroke-linecap:square;\"/>\n",
       "   </g>\n",
       "   <g id=\"line2d_7\">\n",
       "    <path clip-path=\"url(#p6c8687bb8d)\" d=\"\n",
       "M214.737 206.017\n",
       "L163.832 206.017\" style=\"fill:none;stroke:#000000;stroke-linecap:square;\"/>\n",
       "   </g>\n",
       "   <g id=\"line2d_8\">\n",
       "    <path clip-path=\"url(#p6c8687bb8d)\" d=\"\n",
       "M265.642 206.017\n",
       "L214.737 206.017\" style=\"fill:none;stroke:#000000;stroke-linecap:square;\"/>\n",
       "   </g>\n",
       "   <g id=\"line2d_9\">\n",
       "    <path clip-path=\"url(#p6c8687bb8d)\" d=\"\n",
       "M316.547 206.017\n",
       "L265.642 206.017\" style=\"fill:none;stroke:#000000;stroke-linecap:square;\"/>\n",
       "   </g>\n",
       "   <g id=\"line2d_10\">\n",
       "    <path clip-path=\"url(#p6c8687bb8d)\" d=\"\n",
       "M367.453 181.634\n",
       "L316.547 206.017\" style=\"fill:none;stroke:#000000;stroke-linecap:square;\"/>\n",
       "   </g>\n",
       "   <g id=\"line2d_11\">\n",
       "    <path clip-path=\"url(#p6c8687bb8d)\" d=\"\n",
       "M316.547 157.25\n",
       "L265.642 157.25\" style=\"fill:none;stroke:#000000;stroke-linecap:square;\"/>\n",
       "   </g>\n",
       "   <g id=\"line2d_12\">\n",
       "    <path clip-path=\"url(#p6c8687bb8d)\" d=\"\n",
       "M367.453 181.634\n",
       "L316.547 157.25\" style=\"fill:none;stroke:#000000;stroke-linecap:square;\"/>\n",
       "   </g>\n",
       "   <g id=\"line2d_13\">\n",
       "    <path clip-path=\"url(#p6c8687bb8d)\" d=\"\n",
       "M418.358 230.4\n",
       "L367.453 181.634\" style=\"fill:none;stroke:#000000;stroke-linecap:square;\"/>\n",
       "   </g>\n",
       "   <g id=\"line2d_14\">\n",
       "    <path clip-path=\"url(#p6c8687bb8d)\" d=\"\n",
       "M469.263 230.4\n",
       "L418.358 230.4\" style=\"fill:none;stroke:#000000;stroke-linecap:square;\"/>\n",
       "   </g>\n",
       "   <g id=\"line2d_15\">\n",
       "    <path clip-path=\"url(#p6c8687bb8d)\" d=\"\n",
       "M520.168 230.4\n",
       "L469.263 230.4\" style=\"fill:none;stroke:#000000;stroke-linecap:square;\"/>\n",
       "   </g>\n",
       "   <g id=\"RES-1b-o-dglc-HEX-0-0-1-aldi-2s-n-acetyl-LIN-1-1d-2+1-2n-1\">\n",
       "    <path clip-path=\"url(#p6c8687bb8d)\" d=\"\n",
       "M528 222.897\n",
       "L528 237.903\n",
       "L512.337 237.903\n",
       "L512.337 222.897\n",
       "L528 222.897\n",
       "z\n",
       "\" style=\"fill:#0000ff;stroke:#000000;stroke-linejoin:miter;\"/>\n",
       "   </g>\n",
       "   <g id=\"RES-1b-b-dglc-HEX-1-5-2s-n-acetyl-LIN-1-1d-2+1-2n-2\">\n",
       "    <path clip-path=\"url(#p6c8687bb8d)\" d=\"\n",
       "M477.095 222.897\n",
       "L477.095 237.903\n",
       "L461.432 237.903\n",
       "L461.432 222.897\n",
       "L477.095 222.897\n",
       "z\n",
       "\" style=\"fill:#0000ff;stroke:#000000;stroke-linejoin:miter;\"/>\n",
       "   </g>\n",
       "   <g id=\"RES-1b-b-dman-HEX-1-5-3\">\n",
       "    <path clip-path=\"url(#p6c8687bb8d)\" d=\"\n",
       "M418.358 237.903\n",
       "C420.435 237.903 422.427 237.112 423.896 235.705\n",
       "C425.364 234.298 426.189 232.39 426.189 230.4\n",
       "C426.189 228.41 425.364 226.502 423.896 225.095\n",
       "C422.427 223.688 420.435 222.897 418.358 222.897\n",
       "C416.281 222.897 414.289 223.688 412.82 225.095\n",
       "C411.352 226.502 410.526 228.41 410.526 230.4\n",
       "C410.526 232.39 411.352 234.298 412.82 235.705\n",
       "C414.289 237.112 416.281 237.903 418.358 237.903\n",
       "z\n",
       "\" style=\"fill:#008000;stroke:#000000;stroke-linejoin:miter;\"/>\n",
       "   </g>\n",
       "   <g id=\"RES-1b-a-dman-HEX-1-5-11\">\n",
       "    <path clip-path=\"url(#p6c8687bb8d)\" d=\"\n",
       "M367.453 286.669\n",
       "C369.53 286.669 371.522 285.878 372.99 284.471\n",
       "C374.459 283.065 375.284 281.156 375.284 279.166\n",
       "C375.284 277.177 374.459 275.268 372.99 273.861\n",
       "C371.522 272.454 369.53 271.664 367.453 271.664\n",
       "C365.376 271.664 363.384 272.454 361.915 273.861\n",
       "C360.446 275.268 359.621 277.177 359.621 279.166\n",
       "C359.621 281.156 360.446 283.065 361.915 284.471\n",
       "C363.384 285.878 365.376 286.669 367.453 286.669\n",
       "z\n",
       "\" style=\"fill:#008000;stroke:#000000;stroke-linejoin:miter;\"/>\n",
       "   </g>\n",
       "   <g id=\"RES-1b-b-dglc-HEX-1-5-2s-n-acetyl-LIN-1-1d-2+1-2n-14\">\n",
       "    <path clip-path=\"url(#p6c8687bb8d)\" d=\"\n",
       "M324.379 296.047\n",
       "L324.379 311.052\n",
       "L308.716 311.052\n",
       "L308.716 296.047\n",
       "L324.379 296.047\n",
       "z\n",
       "\" style=\"fill:#0000ff;stroke:#000000;stroke-linejoin:miter;\"/>\n",
       "   </g>\n",
       "   <g id=\"RES-1b-b-dgal-HEX-1-5-15\">\n",
       "    <path clip-path=\"url(#p6c8687bb8d)\" d=\"\n",
       "M265.642 311.052\n",
       "C267.719 311.052 269.711 310.262 271.18 308.855\n",
       "C272.648 307.448 273.474 305.539 273.474 303.55\n",
       "C273.474 301.56 272.648 299.651 271.18 298.244\n",
       "C269.711 296.838 267.719 296.047 265.642 296.047\n",
       "C263.565 296.047 261.573 296.838 260.104 298.244\n",
       "C258.636 299.651 257.811 301.56 257.811 303.55\n",
       "C257.811 305.539 258.636 307.448 260.104 308.855\n",
       "C261.573 310.262 263.565 311.052 265.642 311.052\n",
       "z\n",
       "\" style=\"fill:#ffff00;stroke:#000000;stroke-linejoin:miter;\"/>\n",
       "   </g>\n",
       "   <g id=\"RES-1b-a-dgro-dgal-NON-2-6-1-a-2-keto-3-d-2s-n-glycolyl-LIN-1-1d-5+1-2n-16\">\n",
       "    <path clip-path=\"url(#p6c8687bb8d)\" d=\"\n",
       "M214.737 296.047\n",
       "L206.905 303.55\n",
       "L214.737 311.052\n",
       "L222.568 303.55\n",
       "z\n",
       "\" style=\"fill:#add8e6;stroke:#000000;stroke-linejoin:miter;\"/>\n",
       "   </g>\n",
       "   <g id=\"RES-1b-b-dglc-HEX-1-5-2s-n-acetyl-LIN-1-1d-2+1-2n-12\">\n",
       "    <path clip-path=\"url(#p6c8687bb8d)\" d=\"\n",
       "M324.379 247.281\n",
       "L324.379 262.286\n",
       "L308.716 262.286\n",
       "L308.716 247.281\n",
       "L324.379 247.281\n",
       "z\n",
       "\" style=\"fill:#0000ff;stroke:#000000;stroke-linejoin:miter;\"/>\n",
       "   </g>\n",
       "   <g id=\"RES-1b-b-dgal-HEX-1-5-13\">\n",
       "    <path clip-path=\"url(#p6c8687bb8d)\" d=\"\n",
       "M265.642 262.286\n",
       "C267.719 262.286 269.711 261.495 271.18 260.088\n",
       "C272.648 258.681 273.474 256.773 273.474 254.783\n",
       "C273.474 252.794 272.648 250.885 271.18 249.478\n",
       "C269.711 248.071 267.719 247.281 265.642 247.281\n",
       "C263.565 247.281 261.573 248.071 260.104 249.478\n",
       "C258.636 250.885 257.811 252.794 257.811 254.783\n",
       "C257.811 256.773 258.636 258.681 260.104 260.088\n",
       "C261.573 261.495 263.565 262.286 265.642 262.286\n",
       "z\n",
       "\" style=\"fill:#ffff00;stroke:#000000;stroke-linejoin:miter;\"/>\n",
       "   </g>\n",
       "   <g id=\"RES-1b-a-dman-HEX-1-5-4\">\n",
       "    <path clip-path=\"url(#p6c8687bb8d)\" d=\"\n",
       "M367.453 189.136\n",
       "C369.53 189.136 371.522 188.346 372.99 186.939\n",
       "C374.459 185.532 375.284 183.623 375.284 181.634\n",
       "C375.284 179.644 374.459 177.735 372.99 176.329\n",
       "C371.522 174.922 369.53 174.131 367.453 174.131\n",
       "C365.376 174.131 363.384 174.922 361.915 176.329\n",
       "C360.446 177.735 359.621 179.644 359.621 181.634\n",
       "C359.621 183.623 360.446 185.532 361.915 186.939\n",
       "C363.384 188.346 365.376 189.136 367.453 189.136\n",
       "z\n",
       "\" style=\"fill:#008000;stroke:#000000;stroke-linejoin:miter;\"/>\n",
       "   </g>\n",
       "   <g id=\"RES-1b-b-dglc-HEX-1-5-2s-n-acetyl-LIN-1-1d-2+1-2n-7\">\n",
       "    <path clip-path=\"url(#p6c8687bb8d)\" d=\"\n",
       "M324.379 198.514\n",
       "L324.379 213.519\n",
       "L308.716 213.519\n",
       "L308.716 198.514\n",
       "L324.379 198.514\n",
       "z\n",
       "\" style=\"fill:#0000ff;stroke:#000000;stroke-linejoin:miter;\"/>\n",
       "   </g>\n",
       "   <g id=\"RES-1b-b-dgal-HEX-1-5-8\">\n",
       "    <path clip-path=\"url(#p6c8687bb8d)\" d=\"\n",
       "M265.642 213.519\n",
       "C267.719 213.519 269.711 212.729 271.18 211.322\n",
       "C272.648 209.915 273.474 208.006 273.474 206.017\n",
       "C273.474 204.027 272.648 202.119 271.18 200.712\n",
       "C269.711 199.305 267.719 198.514 265.642 198.514\n",
       "C263.565 198.514 261.573 199.305 260.104 200.712\n",
       "C258.636 202.119 257.811 204.027 257.811 206.017\n",
       "C257.811 208.006 258.636 209.915 260.104 211.322\n",
       "C261.573 212.729 263.565 213.519 265.642 213.519\n",
       "z\n",
       "\" style=\"fill:#ffff00;stroke:#000000;stroke-linejoin:miter;\"/>\n",
       "   </g>\n",
       "   <g id=\"RES-1b-b-dglc-HEX-1-5-2s-n-acetyl-LIN-1-1d-2+1-2n-9\">\n",
       "    <path clip-path=\"url(#p6c8687bb8d)\" d=\"\n",
       "M222.568 198.514\n",
       "L222.568 213.519\n",
       "L206.905 213.519\n",
       "L206.905 198.514\n",
       "L222.568 198.514\n",
       "z\n",
       "\" style=\"fill:#0000ff;stroke:#000000;stroke-linejoin:miter;\"/>\n",
       "   </g>\n",
       "   <g id=\"RES-1b-b-dgal-HEX-1-5-10\">\n",
       "    <path clip-path=\"url(#p6c8687bb8d)\" d=\"\n",
       "M163.832 213.519\n",
       "C165.909 213.519 167.901 212.729 169.369 211.322\n",
       "C170.838 209.915 171.663 208.006 171.663 206.017\n",
       "C171.663 204.027 170.838 202.119 169.369 200.712\n",
       "C167.901 199.305 165.909 198.514 163.832 198.514\n",
       "C161.755 198.514 159.762 199.305 158.294 200.712\n",
       "C156.825 202.119 156 204.027 156 206.017\n",
       "C156 208.006 156.825 209.915 158.294 211.322\n",
       "C159.762 212.729 161.755 213.519 163.832 213.519\n",
       "z\n",
       "\" style=\"fill:#ffff00;stroke:#000000;stroke-linejoin:miter;\"/>\n",
       "   </g>\n",
       "   <g id=\"RES-1b-b-dglc-HEX-1-5-2s-n-acetyl-LIN-1-1d-2+1-2n-5\">\n",
       "    <path clip-path=\"url(#p6c8687bb8d)\" d=\"\n",
       "M324.379 149.748\n",
       "L324.379 164.753\n",
       "L308.716 164.753\n",
       "L308.716 149.748\n",
       "L324.379 149.748\n",
       "z\n",
       "\" style=\"fill:#0000ff;stroke:#000000;stroke-linejoin:miter;\"/>\n",
       "   </g>\n",
       "   <g id=\"RES-1b-b-dgal-HEX-1-5-6\">\n",
       "    <path clip-path=\"url(#p6c8687bb8d)\" d=\"\n",
       "M265.642 164.753\n",
       "C267.719 164.753 269.711 163.962 271.18 162.556\n",
       "C272.648 161.149 273.474 159.24 273.474 157.25\n",
       "C273.474 155.261 272.648 153.352 271.18 151.945\n",
       "C269.711 150.538 267.719 149.748 265.642 149.748\n",
       "C263.565 149.748 261.573 150.538 260.104 151.945\n",
       "C258.636 153.352 257.811 155.261 257.811 157.25\n",
       "C257.811 159.24 258.636 161.149 260.104 162.556\n",
       "C261.573 163.962 263.565 164.753 265.642 164.753\n",
       "z\n",
       "\" style=\"fill:#ffff00;stroke:#000000;stroke-linejoin:miter;\"/>\n",
       "   </g>\n",
       "   <g id=\"patch_3\">\n",
       "    <path d=\"\n",
       "M7.2 7.2\n",
       "L676.8 7.2\" style=\"fill:none;stroke:#000000;stroke-linecap:square;stroke-linejoin:miter;\"/>\n",
       "   </g>\n",
       "   <g id=\"patch_4\">\n",
       "    <path d=\"\n",
       "M676.8 453.6\n",
       "L676.8 7.2\" style=\"fill:none;stroke:#000000;stroke-linecap:square;stroke-linejoin:miter;\"/>\n",
       "   </g>\n",
       "   <g id=\"patch_5\">\n",
       "    <path d=\"\n",
       "M7.2 453.6\n",
       "L676.8 453.6\" style=\"fill:none;stroke:#000000;stroke-linecap:square;stroke-linejoin:miter;\"/>\n",
       "   </g>\n",
       "   <g id=\"patch_6\">\n",
       "    <path d=\"\n",
       "M7.2 453.6\n",
       "L7.2 7.2\" style=\"fill:none;stroke:#000000;stroke-linecap:square;stroke-linejoin:miter;\"/>\n",
       "   </g>\n",
       "   <g id=\"line2d_16\">\n",
       "    <path clip-path=\"url(#p6c8687bb8d)\" d=\"\n",
       "M291.095 239.778\n",
       "L291.095 269.788\" style=\"fill:none;stroke:#ff0000;stroke-linecap:square;\"/>\n",
       "   </g>\n",
       "   <g id=\"line2d_17\">\n",
       "    <path clip-path=\"url(#p6c8687bb8d)\" d=\"\n",
       "M291.095 142.245\n",
       "L291.095 172.255\" style=\"fill:none;stroke:#ff0000;stroke-linecap:square;\"/>\n",
       "   </g>\n",
       "   <g id=\"line2d_18\">\n",
       "    <path clip-path=\"url(#p6c8687bb8d)\" d=\"\n",
       "M189.284 191.012\n",
       "L189.284 221.022\" style=\"fill:none;stroke:#ff0000;stroke-linecap:square;\"/>\n",
       "   </g>\n",
       "   <g id=\"line2d_19\">\n",
       "    <path clip-path=\"url(#p6c8687bb8d)\" d=\"\n",
       "M326.337 281.98\n",
       "L357.663 251.97\" style=\"fill:none;stroke:#ff0000;stroke-linecap:square;\"/>\n",
       "   </g>\n",
       "   <g id=\"line2d_20\">\n",
       "    <path clip-path=\"url(#p6c8687bb8d)\" d=\"\n",
       "M326.337 184.447\n",
       "L357.663 154.437\" style=\"fill:none;stroke:#ff0000;stroke-linecap:square;\"/>\n",
       "   </g>\n",
       "   <g id=\"line2d_21\">\n",
       "    <path clip-path=\"url(#p6c8687bb8d)\" d=\"\n",
       "M240.189 191.012\n",
       "L240.189 221.022\" style=\"fill:none;stroke:#ff0000;stroke-linecap:square;\"/>\n",
       "   </g>\n",
       "   <g id=\"line2d_22\">\n",
       "    <path clip-path=\"url(#p6c8687bb8d)\" d=\"\n",
       "M291.095 191.012\n",
       "L291.095 221.022\" style=\"fill:none;stroke:#ff0000;stroke-linecap:square;\"/>\n",
       "   </g>\n",
       "   <g id=\"line2d_23\">\n",
       "    <path clip-path=\"url(#p6c8687bb8d)\" d=\"\n",
       "M300.884 288.545\n",
       "L332.211 318.555\" style=\"fill:none;stroke:#ff0000;stroke-linecap:square;\"/>\n",
       "   </g>\n",
       "   <g id=\"line2d_24\">\n",
       "    <path clip-path=\"url(#p6c8687bb8d)\" d=\"\n",
       "M326.337 276.353\n",
       "L357.663 306.363\" style=\"fill:none;stroke:#ff0000;stroke-linecap:square;\"/>\n",
       "   </g>\n",
       "   <g id=\"line2d_25\">\n",
       "    <path clip-path=\"url(#p6c8687bb8d)\" d=\"\n",
       "M402.695 215.395\n",
       "L434.021 245.405\" style=\"fill:none;stroke:#ff0000;stroke-linecap:square;\"/>\n",
       "   </g>\n",
       "   <g id=\"line2d_26\">\n",
       "    <path clip-path=\"url(#p6c8687bb8d)\" d=\"\n",
       "M402.695 215.395\n",
       "L434.021 245.405\" style=\"fill:none;stroke:#ff0000;stroke-linecap:square;\"/>\n",
       "   </g>\n",
       "   <g id=\"line2d_27\">\n",
       "    <path clip-path=\"url(#p6c8687bb8d)\" d=\"\n",
       "M300.884 191.012\n",
       "L332.211 221.022\" style=\"fill:none;stroke:#ff0000;stroke-linecap:square;\"/>\n",
       "   </g>\n",
       "   <g id=\"line2d_28\">\n",
       "    <path clip-path=\"url(#p6c8687bb8d)\" d=\"\n",
       "M300.884 191.012\n",
       "L332.211 221.022\" style=\"fill:none;stroke:#ff0000;stroke-linecap:square;\"/>\n",
       "   </g>\n",
       "   <g id=\"line2d_29\">\n",
       "    <path clip-path=\"url(#p6c8687bb8d)\" d=\"\n",
       "M300.884 191.012\n",
       "L332.211 221.022\" style=\"fill:none;stroke:#ff0000;stroke-linecap:square;\"/>\n",
       "   </g>\n",
       "   <g id=\"line2d_30\">\n",
       "    <path clip-path=\"url(#p6c8687bb8d)\" d=\"\n",
       "M291.095 288.545\n",
       "L291.095 318.555\" style=\"fill:none;stroke:#ff0000;stroke-linecap:square;\"/>\n",
       "   </g>\n",
       "   <g id=\"line2d_31\">\n",
       "    <path clip-path=\"url(#p6c8687bb8d)\" d=\"\n",
       "M300.884 239.778\n",
       "L332.211 269.788\" style=\"fill:none;stroke:#ff0000;stroke-linecap:square;\"/>\n",
       "   </g>\n",
       "   <g id=\"line2d_32\">\n",
       "    <path clip-path=\"url(#p6c8687bb8d)\" d=\"\n",
       "M300.884 142.245\n",
       "L332.211 172.255\" style=\"fill:none;stroke:#ff0000;stroke-linecap:square;\"/>\n",
       "   </g>\n",
       "   <g id=\"line2d_33\">\n",
       "    <path clip-path=\"url(#p6c8687bb8d)\" d=\"\n",
       "M199.074 191.012\n",
       "L230.4 221.022\" style=\"fill:none;stroke:#ff0000;stroke-linecap:square;\"/>\n",
       "   </g>\n",
       "   <g id=\"line2d_34\">\n",
       "    <path clip-path=\"url(#p6c8687bb8d)\" d=\"\n",
       "M249.979 239.778\n",
       "L281.305 269.788\" style=\"fill:none;stroke:#ff0000;stroke-linecap:square;\"/>\n",
       "   </g>\n",
       "   <g id=\"line2d_35\">\n",
       "    <path clip-path=\"url(#p6c8687bb8d)\" d=\"\n",
       "M148.168 191.012\n",
       "L179.495 221.022\" style=\"fill:none;stroke:#ff0000;stroke-linecap:square;\"/>\n",
       "   </g>\n",
       "   <g id=\"line2d_36\">\n",
       "    <path clip-path=\"url(#p6c8687bb8d)\" d=\"\n",
       "M249.979 142.245\n",
       "L281.305 172.255\" style=\"fill:none;stroke:#ff0000;stroke-linecap:square;\"/>\n",
       "   </g>\n",
       "  </g>\n",
       " </g>\n",
       " <defs>\n",
       "  <clipPath id=\"p6c8687bb8d\">\n",
       "   <rect height=\"446.4\" width=\"669.6\" x=\"7.2\" y=\"7.2\"/>\n",
       "  </clipPath>\n",
       " </defs>\n",
       "</svg>\n"
      ],
      "text/plain": [
       "<matplotlib.figure.Figure at 0x281492b0>"
      ]
     },
     "metadata": {},
     "output_type": "display_data"
    },
    {
     "data": {
      "text/plain": [
       "23"
      ]
     },
     "metadata": {},
     "output_type": "display_data"
    },
    {
     "data": {
      "text/plain": [
       "4409.2461106068295"
      ]
     },
     "metadata": {},
     "output_type": "display_data"
    },
    {
     "data": {
      "text/plain": [
       "'Fragments Observed / Expected: 0.069'"
      ]
     },
     "metadata": {},
     "output_type": "display_data"
    },
    {
     "data": {
      "text/plain": [
       "'Bd1 375.190333 3 [26671.399793, 24212.030128, 7976.935139]'"
      ]
     },
     "metadata": {},
     "output_type": "display_data"
    },
    {
     "data": {
      "text/plain": [
       "'2,4Ad2 449.229471 3 [19061.196025, 3355.583996, 19061.196025]'"
      ]
     },
     "metadata": {},
     "output_type": "display_data"
    },
    {
     "data": {
      "text/plain": [
       "'1,3Ad2 449.229471 3 [19061.196025, 3355.583996, 19061.196025]'"
      ]
     },
     "metadata": {},
     "output_type": "display_data"
    },
    {
     "data": {
      "text/plain": [
       "'Bg2 463.242304 2 [434.588179, 792.409579]'"
      ]
     },
     "metadata": {},
     "output_type": "display_data"
    },
    {
     "data": {
      "text/plain": [
       "'Be2 463.242304 2 [434.588179, 792.409579]'"
      ]
     },
     "metadata": {},
     "output_type": "display_data"
    },
    {
     "data": {
      "text/plain": [
       "'1,3Af1 465.215264 1 [1032.914005]'"
      ]
     },
     "metadata": {},
     "output_type": "display_data"
    },
    {
     "data": {
      "text/plain": [
       "'2,4Af1 465.215264 1 [1032.914005]'"
      ]
     },
     "metadata": {},
     "output_type": "display_data"
    },
    {
     "data": {
      "text/plain": [
       "'Bd2 579.29214 2 [315.20686, 213.072517]'"
      ]
     },
     "metadata": {},
     "output_type": "display_data"
    },
    {
     "data": {
      "text/plain": [
       "'0,2Af2 743.345858 1 [11425.448445]'"
      ]
     },
     "metadata": {},
     "output_type": "display_data"
    },
    {
     "data": {
      "text/plain": [
       "'Bd3 824.417296 3 [3575.706023, 7368.60599, 14332.25979]'"
      ]
     },
     "metadata": {},
     "output_type": "display_data"
    },
    {
     "data": {
      "text/plain": [
       "'Bd4 1028.520477 1 [183.559926]'"
      ]
     },
     "metadata": {},
     "output_type": "display_data"
    },
    {
     "data": {
      "text/plain": [
       "'1,3Ac1 1347.688413 1 [49783.887695]'"
      ]
     },
     "metadata": {},
     "output_type": "display_data"
    },
    {
     "data": {
      "text/plain": [
       "'1,5Ac1 1898.955501 1 [299.238472]'"
      ]
     },
     "metadata": {},
     "output_type": "display_data"
    },
    {
     "data": {
      "text/plain": [
       "'2,5Xd4 3248.623912 1 [124.677471]'"
      ]
     },
     "metadata": {},
     "output_type": "display_data"
    },
    {
     "data": {
      "text/plain": [
       "'2,5Xd5 3452.74105 2 [103.699262, 109.944965]'"
      ]
     },
     "metadata": {},
     "output_type": "display_data"
    },
    {
     "data": {
      "text/plain": [
       "'1,4Xd5 3466.738301 1 [50687.763963]'"
      ]
     },
     "metadata": {},
     "output_type": "display_data"
    },
    {
     "data": {
      "text/plain": [
       "'1,5A7 3827.859816 1 [11189.27509]'"
      ]
     },
     "metadata": {},
     "output_type": "display_data"
    },
    {
     "data": {
      "text/plain": [
       "'3,5A8 3943.944436 1 [164.963208]'"
      ]
     },
     "metadata": {},
     "output_type": "display_data"
    },
    {
     "data": {
      "text/plain": [
       "'Yf6 4018.035509 1 [463.786435]'"
      ]
     },
     "metadata": {},
     "output_type": "display_data"
    },
    {
     "data": {
      "text/plain": [
       "'1,4Xe4 4032.08202 1 [612.729951]'"
      ]
     },
     "metadata": {},
     "output_type": "display_data"
    },
    {
     "data": {
      "text/plain": [
       "'1,4Xg5 4032.08202 1 [612.729951]'"
      ]
     },
     "metadata": {},
     "output_type": "display_data"
    },
    {
     "data": {
      "image/svg+xml": [
       "<?xml version=\"1.0\" encoding=\"utf-8\" standalone=\"no\"?>\n",
       "<!DOCTYPE svg PUBLIC \"-//W3C//DTD SVG 1.1//EN\"\n",
       "  \"http://www.w3.org/Graphics/SVG/1.1/DTD/svg11.dtd\">\n",
       "<!-- Created with matplotlib (http://matplotlib.org/) -->\n",
       "<svg height=\"460pt\" version=\"1.1\" viewBox=\"0 0 684 460\" width=\"684pt\" xmlns=\"http://www.w3.org/2000/svg\" xmlns:xlink=\"http://www.w3.org/1999/xlink\">\n",
       " <defs>\n",
       "  <style type=\"text/css\">\n",
       "*{stroke-linecap:butt;stroke-linejoin:round;}\n",
       "  </style>\n",
       " </defs>\n",
       " <g id=\"figure_1\">\n",
       "  <g id=\"patch_1\">\n",
       "   <path d=\"\n",
       "M0 460.8\n",
       "L684 460.8\n",
       "L684 0\n",
       "L0 0\n",
       "L0 460.8\" style=\"fill:none;\"/>\n",
       "  </g>\n",
       "  <g id=\"axes_1\">\n",
       "   <g id=\"patch_2\">\n",
       "    <path d=\"\n",
       "M7.2 453.6\n",
       "L676.8 453.6\n",
       "L676.8 7.2\n",
       "L7.2 7.2\n",
       "L7.2 453.6\" style=\"fill:none;\"/>\n",
       "   </g>\n",
       "   <g id=\"line2d_1\">\n",
       "    <path clip-path=\"url(#p6c8687bb8d)\" d=\"\n",
       "M294.691 303.55\n",
       "L247.383 303.55\" style=\"fill:none;stroke:#000000;stroke-linecap:square;\"/>\n",
       "   </g>\n",
       "   <g id=\"line2d_2\">\n",
       "    <path clip-path=\"url(#p6c8687bb8d)\" d=\"\n",
       "M342 303.55\n",
       "L294.691 303.55\" style=\"fill:none;stroke:#000000;stroke-linecap:square;\"/>\n",
       "   </g>\n",
       "   <g id=\"line2d_3\">\n",
       "    <path clip-path=\"url(#p6c8687bb8d)\" d=\"\n",
       "M389.309 279.166\n",
       "L342 303.55\" style=\"fill:none;stroke:#000000;stroke-linecap:square;\"/>\n",
       "   </g>\n",
       "   <g id=\"line2d_4\">\n",
       "    <path clip-path=\"url(#p6c8687bb8d)\" d=\"\n",
       "M342 254.783\n",
       "L294.691 254.783\" style=\"fill:none;stroke:#000000;stroke-linecap:square;\"/>\n",
       "   </g>\n",
       "   <g id=\"line2d_5\">\n",
       "    <path clip-path=\"url(#p6c8687bb8d)\" d=\"\n",
       "M389.309 279.166\n",
       "L342 254.783\" style=\"fill:none;stroke:#000000;stroke-linecap:square;\"/>\n",
       "   </g>\n",
       "   <g id=\"line2d_6\">\n",
       "    <path clip-path=\"url(#p6c8687bb8d)\" d=\"\n",
       "M436.617 230.4\n",
       "L389.309 279.166\" style=\"fill:none;stroke:#000000;stroke-linecap:square;\"/>\n",
       "   </g>\n",
       "   <g id=\"line2d_7\">\n",
       "    <path clip-path=\"url(#p6c8687bb8d)\" d=\"\n",
       "M436.617 230.4\n",
       "L389.309 230.4\" style=\"fill:none;stroke:#000000;stroke-linecap:square;\"/>\n",
       "   </g>\n",
       "   <g id=\"line2d_8\">\n",
       "    <path clip-path=\"url(#p6c8687bb8d)\" d=\"\n",
       "M200.074 206.017\n",
       "L152.765 206.017\" style=\"fill:none;stroke:#000000;stroke-linecap:square;\"/>\n",
       "   </g>\n",
       "   <g id=\"line2d_9\">\n",
       "    <path clip-path=\"url(#p6c8687bb8d)\" d=\"\n",
       "M247.383 206.017\n",
       "L200.074 206.017\" style=\"fill:none;stroke:#000000;stroke-linecap:square;\"/>\n",
       "   </g>\n",
       "   <g id=\"line2d_10\">\n",
       "    <path clip-path=\"url(#p6c8687bb8d)\" d=\"\n",
       "M294.691 206.017\n",
       "L247.383 206.017\" style=\"fill:none;stroke:#000000;stroke-linecap:square;\"/>\n",
       "   </g>\n",
       "   <g id=\"line2d_11\">\n",
       "    <path clip-path=\"url(#p6c8687bb8d)\" d=\"\n",
       "M342 206.017\n",
       "L294.691 206.017\" style=\"fill:none;stroke:#000000;stroke-linecap:square;\"/>\n",
       "   </g>\n",
       "   <g id=\"line2d_12\">\n",
       "    <path clip-path=\"url(#p6c8687bb8d)\" d=\"\n",
       "M389.309 181.634\n",
       "L342 206.017\" style=\"fill:none;stroke:#000000;stroke-linecap:square;\"/>\n",
       "   </g>\n",
       "   <g id=\"line2d_13\">\n",
       "    <path clip-path=\"url(#p6c8687bb8d)\" d=\"\n",
       "M342 157.25\n",
       "L294.691 157.25\" style=\"fill:none;stroke:#000000;stroke-linecap:square;\"/>\n",
       "   </g>\n",
       "   <g id=\"line2d_14\">\n",
       "    <path clip-path=\"url(#p6c8687bb8d)\" d=\"\n",
       "M389.309 181.634\n",
       "L342 157.25\" style=\"fill:none;stroke:#000000;stroke-linecap:square;\"/>\n",
       "   </g>\n",
       "   <g id=\"line2d_15\">\n",
       "    <path clip-path=\"url(#p6c8687bb8d)\" d=\"\n",
       "M436.617 230.4\n",
       "L389.309 181.634\" style=\"fill:none;stroke:#000000;stroke-linecap:square;\"/>\n",
       "   </g>\n",
       "   <g id=\"line2d_16\">\n",
       "    <path clip-path=\"url(#p6c8687bb8d)\" d=\"\n",
       "M483.926 230.4\n",
       "L436.617 230.4\" style=\"fill:none;stroke:#000000;stroke-linecap:square;\"/>\n",
       "   </g>\n",
       "   <g id=\"line2d_17\">\n",
       "    <path clip-path=\"url(#p6c8687bb8d)\" d=\"\n",
       "M531.235 230.4\n",
       "L483.926 230.4\" style=\"fill:none;stroke:#000000;stroke-linecap:square;\"/>\n",
       "   </g>\n",
       "   <g id=\"RES-1b-o-dglc-HEX-0-0-1-aldi-2s-n-acetyl-LIN-1-1d-2+1-2n-1\">\n",
       "    <path clip-path=\"url(#p6c8687bb8d)\" d=\"\n",
       "M538.513 222.897\n",
       "L538.513 237.903\n",
       "L523.957 237.903\n",
       "L523.957 222.897\n",
       "L538.513 222.897\n",
       "z\n",
       "\" style=\"fill:#0000ff;stroke:#000000;stroke-linejoin:miter;\"/>\n",
       "   </g>\n",
       "   <g id=\"RES-1b-b-dglc-HEX-1-5-2s-n-acetyl-LIN-1-1d-2+1-2n-2\">\n",
       "    <path clip-path=\"url(#p6c8687bb8d)\" d=\"\n",
       "M491.204 222.897\n",
       "L491.204 237.903\n",
       "L476.648 237.903\n",
       "L476.648 222.897\n",
       "L491.204 222.897\n",
       "z\n",
       "\" style=\"fill:#0000ff;stroke:#000000;stroke-linejoin:miter;\"/>\n",
       "   </g>\n",
       "   <g id=\"RES-1b-b-dman-HEX-1-5-3\">\n",
       "    <path clip-path=\"url(#p6c8687bb8d)\" d=\"\n",
       "M436.617 237.903\n",
       "C438.548 237.903 440.399 237.112 441.764 235.705\n",
       "C443.129 234.298 443.896 232.39 443.896 230.4\n",
       "C443.896 228.41 443.129 226.502 441.764 225.095\n",
       "C440.399 223.688 438.548 222.897 436.617 222.897\n",
       "C434.687 222.897 432.836 223.688 431.471 225.095\n",
       "C430.106 226.502 429.339 228.41 429.339 230.4\n",
       "C429.339 232.39 430.106 234.298 431.471 235.705\n",
       "C432.836 237.112 434.687 237.903 436.617 237.903\n",
       "z\n",
       "\" style=\"fill:#008000;stroke:#000000;stroke-linejoin:miter;\"/>\n",
       "   </g>\n",
       "   <g id=\"RES-1b-a-dman-HEX-1-5-13\">\n",
       "    <path clip-path=\"url(#p6c8687bb8d)\" d=\"\n",
       "M389.309 286.669\n",
       "C391.239 286.669 393.09 285.878 394.455 284.471\n",
       "C395.82 283.065 396.587 281.156 396.587 279.166\n",
       "C396.587 277.177 395.82 275.268 394.455 273.861\n",
       "C393.09 272.454 391.239 271.664 389.309 271.664\n",
       "C387.378 271.664 385.527 272.454 384.162 273.861\n",
       "C382.797 275.268 382.03 277.177 382.03 279.166\n",
       "C382.03 281.156 382.797 283.065 384.162 284.471\n",
       "C385.527 285.878 387.378 286.669 389.309 286.669\n",
       "z\n",
       "\" style=\"fill:#008000;stroke:#000000;stroke-linejoin:miter;\"/>\n",
       "   </g>\n",
       "   <g id=\"RES-1b-b-dglc-HEX-1-5-2s-n-acetyl-LIN-1-1d-2+1-2n-16\">\n",
       "    <path clip-path=\"url(#p6c8687bb8d)\" d=\"\n",
       "M349.278 296.047\n",
       "L349.278 311.052\n",
       "L334.722 311.052\n",
       "L334.722 296.047\n",
       "L349.278 296.047\n",
       "z\n",
       "\" style=\"fill:#0000ff;stroke:#000000;stroke-linejoin:miter;\"/>\n",
       "   </g>\n",
       "   <g id=\"RES-1b-b-dgal-HEX-1-5-17\">\n",
       "    <path clip-path=\"url(#p6c8687bb8d)\" d=\"\n",
       "M294.691 311.052\n",
       "C296.622 311.052 298.473 310.262 299.838 308.855\n",
       "C301.203 307.448 301.97 305.539 301.97 303.55\n",
       "C301.97 301.56 301.203 299.651 299.838 298.244\n",
       "C298.473 296.838 296.622 296.047 294.691 296.047\n",
       "C292.761 296.047 290.91 296.838 289.545 298.244\n",
       "C288.18 299.651 287.413 301.56 287.413 303.55\n",
       "C287.413 305.539 288.18 307.448 289.545 308.855\n",
       "C290.91 310.262 292.761 311.052 294.691 311.052\n",
       "z\n",
       "\" style=\"fill:#ffff00;stroke:#000000;stroke-linejoin:miter;\"/>\n",
       "   </g>\n",
       "   <g id=\"RES-1b-a-dgro-dgal-NON-2-6-1-a-2-keto-3-d-2s-n-glycolyl-LIN-1-1d-5+1-2n-18\">\n",
       "    <path clip-path=\"url(#p6c8687bb8d)\" d=\"\n",
       "M247.383 296.047\n",
       "L240.104 303.55\n",
       "L247.383 311.052\n",
       "L254.661 303.55\n",
       "z\n",
       "\" style=\"fill:#add8e6;stroke:#000000;stroke-linejoin:miter;\"/>\n",
       "   </g>\n",
       "   <g id=\"RES-1b-b-dglc-HEX-1-5-2s-n-acetyl-LIN-1-1d-2+1-2n-14\">\n",
       "    <path clip-path=\"url(#p6c8687bb8d)\" d=\"\n",
       "M349.278 247.281\n",
       "L349.278 262.286\n",
       "L334.722 262.286\n",
       "L334.722 247.281\n",
       "L349.278 247.281\n",
       "z\n",
       "\" style=\"fill:#0000ff;stroke:#000000;stroke-linejoin:miter;\"/>\n",
       "   </g>\n",
       "   <g id=\"RES-1b-b-dgal-HEX-1-5-15\">\n",
       "    <path clip-path=\"url(#p6c8687bb8d)\" d=\"\n",
       "M294.691 262.286\n",
       "C296.622 262.286 298.473 261.495 299.838 260.088\n",
       "C301.203 258.681 301.97 256.773 301.97 254.783\n",
       "C301.97 252.794 301.203 250.885 299.838 249.478\n",
       "C298.473 248.071 296.622 247.281 294.691 247.281\n",
       "C292.761 247.281 290.91 248.071 289.545 249.478\n",
       "C288.18 250.885 287.413 252.794 287.413 254.783\n",
       "C287.413 256.773 288.18 258.681 289.545 260.088\n",
       "C290.91 261.495 292.761 262.286 294.691 262.286\n",
       "z\n",
       "\" style=\"fill:#ffff00;stroke:#000000;stroke-linejoin:miter;\"/>\n",
       "   </g>\n",
       "   <g id=\"RES-1b-b-dglc-HEX-1-5-2s-n-acetyl-LIN-1-1d-2+1-2n-12\">\n",
       "    <path clip-path=\"url(#p6c8687bb8d)\" d=\"\n",
       "M396.587 222.897\n",
       "L396.587 237.903\n",
       "L382.03 237.903\n",
       "L382.03 222.897\n",
       "L396.587 222.897\n",
       "z\n",
       "\" style=\"fill:#0000ff;stroke:#000000;stroke-linejoin:miter;\"/>\n",
       "   </g>\n",
       "   <g id=\"RES-1b-a-dman-HEX-1-5-4\">\n",
       "    <path clip-path=\"url(#p6c8687bb8d)\" d=\"\n",
       "M389.309 189.136\n",
       "C391.239 189.136 393.09 188.346 394.455 186.939\n",
       "C395.82 185.532 396.587 183.623 396.587 181.634\n",
       "C396.587 179.644 395.82 177.735 394.455 176.329\n",
       "C393.09 174.922 391.239 174.131 389.309 174.131\n",
       "C387.378 174.131 385.527 174.922 384.162 176.329\n",
       "C382.797 177.735 382.03 179.644 382.03 181.634\n",
       "C382.03 183.623 382.797 185.532 384.162 186.939\n",
       "C385.527 188.346 387.378 189.136 389.309 189.136\n",
       "z\n",
       "\" style=\"fill:#008000;stroke:#000000;stroke-linejoin:miter;\"/>\n",
       "   </g>\n",
       "   <g id=\"RES-1b-b-dglc-HEX-1-5-2s-n-acetyl-LIN-1-1d-2+1-2n-7\">\n",
       "    <path clip-path=\"url(#p6c8687bb8d)\" d=\"\n",
       "M349.278 198.514\n",
       "L349.278 213.519\n",
       "L334.722 213.519\n",
       "L334.722 198.514\n",
       "L349.278 198.514\n",
       "z\n",
       "\" style=\"fill:#0000ff;stroke:#000000;stroke-linejoin:miter;\"/>\n",
       "   </g>\n",
       "   <g id=\"RES-1b-b-dgal-HEX-1-5-8\">\n",
       "    <path clip-path=\"url(#p6c8687bb8d)\" d=\"\n",
       "M294.691 213.519\n",
       "C296.622 213.519 298.473 212.729 299.838 211.322\n",
       "C301.203 209.915 301.97 208.006 301.97 206.017\n",
       "C301.97 204.027 301.203 202.119 299.838 200.712\n",
       "C298.473 199.305 296.622 198.514 294.691 198.514\n",
       "C292.761 198.514 290.91 199.305 289.545 200.712\n",
       "C288.18 202.119 287.413 204.027 287.413 206.017\n",
       "C287.413 208.006 288.18 209.915 289.545 211.322\n",
       "C290.91 212.729 292.761 213.519 294.691 213.519\n",
       "z\n",
       "\" style=\"fill:#ffff00;stroke:#000000;stroke-linejoin:miter;\"/>\n",
       "   </g>\n",
       "   <g id=\"RES-1b-b-dglc-HEX-1-5-2s-n-acetyl-LIN-1-1d-2+1-2n-9\">\n",
       "    <path clip-path=\"url(#p6c8687bb8d)\" d=\"\n",
       "M254.661 198.514\n",
       "L254.661 213.519\n",
       "L240.104 213.519\n",
       "L240.104 198.514\n",
       "L254.661 198.514\n",
       "z\n",
       "\" style=\"fill:#0000ff;stroke:#000000;stroke-linejoin:miter;\"/>\n",
       "   </g>\n",
       "   <g id=\"RES-1b-b-dgal-HEX-1-5-10\">\n",
       "    <path clip-path=\"url(#p6c8687bb8d)\" d=\"\n",
       "M200.074 213.519\n",
       "C202.004 213.519 203.856 212.729 205.22 211.322\n",
       "C206.585 209.915 207.352 208.006 207.352 206.017\n",
       "C207.352 204.027 206.585 202.119 205.22 200.712\n",
       "C203.856 199.305 202.004 198.514 200.074 198.514\n",
       "C198.144 198.514 196.292 199.305 194.927 200.712\n",
       "C193.563 202.119 192.796 204.027 192.796 206.017\n",
       "C192.796 208.006 193.563 209.915 194.927 211.322\n",
       "C196.292 212.729 198.144 213.519 200.074 213.519\n",
       "z\n",
       "\" style=\"fill:#ffff00;stroke:#000000;stroke-linejoin:miter;\"/>\n",
       "   </g>\n",
       "   <g id=\"RES-1b-a-dgro-dgal-NON-2-6-1-a-2-keto-3-d-2s-n-acetyl-LIN-1-1d-5+1-2n-11\">\n",
       "    <path clip-path=\"url(#p6c8687bb8d)\" d=\"\n",
       "M152.765 198.514\n",
       "L145.487 206.017\n",
       "L152.765 213.519\n",
       "L160.043 206.017\n",
       "z\n",
       "\" style=\"fill:#800080;stroke:#000000;stroke-linejoin:miter;\"/>\n",
       "   </g>\n",
       "   <g id=\"RES-1b-b-dglc-HEX-1-5-2s-n-acetyl-LIN-1-1d-2+1-2n-5\">\n",
       "    <path clip-path=\"url(#p6c8687bb8d)\" d=\"\n",
       "M349.278 149.748\n",
       "L349.278 164.753\n",
       "L334.722 164.753\n",
       "L334.722 149.748\n",
       "L349.278 149.748\n",
       "z\n",
       "\" style=\"fill:#0000ff;stroke:#000000;stroke-linejoin:miter;\"/>\n",
       "   </g>\n",
       "   <g id=\"RES-1b-b-dgal-HEX-1-5-6\">\n",
       "    <path clip-path=\"url(#p6c8687bb8d)\" d=\"\n",
       "M294.691 164.753\n",
       "C296.622 164.753 298.473 163.962 299.838 162.556\n",
       "C301.203 161.149 301.97 159.24 301.97 157.25\n",
       "C301.97 155.261 301.203 153.352 299.838 151.945\n",
       "C298.473 150.538 296.622 149.748 294.691 149.748\n",
       "C292.761 149.748 290.91 150.538 289.545 151.945\n",
       "C288.18 153.352 287.413 155.261 287.413 157.25\n",
       "C287.413 159.24 288.18 161.149 289.545 162.556\n",
       "C290.91 163.962 292.761 164.753 294.691 164.753\n",
       "z\n",
       "\" style=\"fill:#ffff00;stroke:#000000;stroke-linejoin:miter;\"/>\n",
       "   </g>\n",
       "   <g id=\"patch_3\">\n",
       "    <path d=\"\n",
       "M7.2 7.2\n",
       "L676.8 7.2\" style=\"fill:none;stroke:#000000;stroke-linecap:square;stroke-linejoin:miter;\"/>\n",
       "   </g>\n",
       "   <g id=\"patch_4\">\n",
       "    <path d=\"\n",
       "M676.8 453.6\n",
       "L676.8 7.2\" style=\"fill:none;stroke:#000000;stroke-linecap:square;stroke-linejoin:miter;\"/>\n",
       "   </g>\n",
       "   <g id=\"patch_5\">\n",
       "    <path d=\"\n",
       "M7.2 453.6\n",
       "L676.8 453.6\" style=\"fill:none;stroke:#000000;stroke-linecap:square;stroke-linejoin:miter;\"/>\n",
       "   </g>\n",
       "   <g id=\"patch_6\">\n",
       "    <path d=\"\n",
       "M7.2 453.6\n",
       "L7.2 7.2\" style=\"fill:none;stroke:#000000;stroke-linecap:square;stroke-linejoin:miter;\"/>\n",
       "   </g>\n",
       "   <g id=\"line2d_18\">\n",
       "    <path clip-path=\"url(#p6c8687bb8d)\" d=\"\n",
       "M176.42 191.012\n",
       "L176.42 221.022\" style=\"fill:none;stroke:#ff0000;stroke-linecap:square;\"/>\n",
       "   </g>\n",
       "   <g id=\"line2d_19\">\n",
       "    <path clip-path=\"url(#p6c8687bb8d)\" d=\"\n",
       "M185.517 191.012\n",
       "L214.63 221.022\" style=\"fill:none;stroke:#ff0000;stroke-linecap:square;\"/>\n",
       "   </g>\n",
       "   <g id=\"line2d_20\">\n",
       "    <path clip-path=\"url(#p6c8687bb8d)\" d=\"\n",
       "M185.517 191.012\n",
       "L214.63 221.022\" style=\"fill:none;stroke:#ff0000;stroke-linecap:square;\"/>\n",
       "   </g>\n",
       "   <g id=\"line2d_21\">\n",
       "    <path clip-path=\"url(#p6c8687bb8d)\" d=\"\n",
       "M351.098 281.98\n",
       "L380.211 251.97\" style=\"fill:none;stroke:#ff0000;stroke-linecap:square;\"/>\n",
       "   </g>\n",
       "   <g id=\"line2d_22\">\n",
       "    <path clip-path=\"url(#p6c8687bb8d)\" d=\"\n",
       "M351.098 184.447\n",
       "L380.211 154.437\" style=\"fill:none;stroke:#ff0000;stroke-linecap:square;\"/>\n",
       "   </g>\n",
       "   <g id=\"line2d_23\">\n",
       "    <path clip-path=\"url(#p6c8687bb8d)\" d=\"\n",
       "M280.135 288.545\n",
       "L309.248 318.555\" style=\"fill:none;stroke:#ff0000;stroke-linecap:square;\"/>\n",
       "   </g>\n",
       "   <g id=\"line2d_24\">\n",
       "    <path clip-path=\"url(#p6c8687bb8d)\" d=\"\n",
       "M280.135 288.545\n",
       "L309.248 318.555\" style=\"fill:none;stroke:#ff0000;stroke-linecap:square;\"/>\n",
       "   </g>\n",
       "   <g id=\"line2d_25\">\n",
       "    <path clip-path=\"url(#p6c8687bb8d)\" d=\"\n",
       "M223.728 191.012\n",
       "L223.728 221.022\" style=\"fill:none;stroke:#ff0000;stroke-linecap:square;\"/>\n",
       "   </g>\n",
       "   <g id=\"line2d_26\">\n",
       "    <path clip-path=\"url(#p6c8687bb8d)\" d=\"\n",
       "M327.443 288.545\n",
       "L356.557 318.555\" style=\"fill:none;stroke:#ff0000;stroke-linecap:square;\"/>\n",
       "   </g>\n",
       "   <g id=\"line2d_27\">\n",
       "    <path clip-path=\"url(#p6c8687bb8d)\" d=\"\n",
       "M271.037 191.012\n",
       "L271.037 221.022\" style=\"fill:none;stroke:#ff0000;stroke-linecap:square;\"/>\n",
       "   </g>\n",
       "   <g id=\"line2d_28\">\n",
       "    <path clip-path=\"url(#p6c8687bb8d)\" d=\"\n",
       "M318.346 191.012\n",
       "L318.346 221.022\" style=\"fill:none;stroke:#ff0000;stroke-linecap:square;\"/>\n",
       "   </g>\n",
       "   <g id=\"line2d_29\">\n",
       "    <path clip-path=\"url(#p6c8687bb8d)\" d=\"\n",
       "M374.752 166.629\n",
       "L403.865 196.639\" style=\"fill:none;stroke:#ff0000;stroke-linecap:square;\"/>\n",
       "   </g>\n",
       "   <g id=\"line2d_30\">\n",
       "    <path clip-path=\"url(#p6c8687bb8d)\" d=\"\n",
       "M374.752 166.629\n",
       "L403.865 196.639\" style=\"fill:none;stroke:#ff0000;stroke-linecap:square;\"/>\n",
       "   </g>\n",
       "   <g id=\"line2d_31\">\n",
       "    <path clip-path=\"url(#p6c8687bb8d)\" d=\"\n",
       "M327.443 191.012\n",
       "L356.557 221.022\" style=\"fill:none;stroke:#ff0000;stroke-linecap:square;\"/>\n",
       "   </g>\n",
       "   <g id=\"line2d_32\">\n",
       "    <path clip-path=\"url(#p6c8687bb8d)\" d=\"\n",
       "M280.135 191.012\n",
       "L309.248 221.022\" style=\"fill:none;stroke:#ff0000;stroke-linecap:square;\"/>\n",
       "   </g>\n",
       "   <g id=\"line2d_33\">\n",
       "    <path clip-path=\"url(#p6c8687bb8d)\" d=\"\n",
       "M280.135 191.012\n",
       "L309.248 221.022\" style=\"fill:none;stroke:#ff0000;stroke-linecap:square;\"/>\n",
       "   </g>\n",
       "   <g id=\"line2d_34\">\n",
       "    <path clip-path=\"url(#p6c8687bb8d)\" d=\"\n",
       "M422.061 215.395\n",
       "L451.174 245.405\" style=\"fill:none;stroke:#ff0000;stroke-linecap:square;\"/>\n",
       "   </g>\n",
       "   <g id=\"line2d_35\">\n",
       "    <path clip-path=\"url(#p6c8687bb8d)\" d=\"\n",
       "M469.37 215.395\n",
       "L498.483 245.405\" style=\"fill:none;stroke:#ff0000;stroke-linecap:square;\"/>\n",
       "   </g>\n",
       "   <g id=\"line2d_36\">\n",
       "    <path clip-path=\"url(#p6c8687bb8d)\" d=\"\n",
       "M271.037 288.545\n",
       "L271.037 318.555\" style=\"fill:none;stroke:#ff0000;stroke-linecap:square;\"/>\n",
       "   </g>\n",
       "   <g id=\"line2d_37\">\n",
       "    <path clip-path=\"url(#p6c8687bb8d)\" d=\"\n",
       "M327.443 142.245\n",
       "L356.557 172.255\" style=\"fill:none;stroke:#ff0000;stroke-linecap:square;\"/>\n",
       "   </g>\n",
       "   <g id=\"line2d_38\">\n",
       "    <path clip-path=\"url(#p6c8687bb8d)\" d=\"\n",
       "M327.443 239.778\n",
       "L356.557 269.788\" style=\"fill:none;stroke:#ff0000;stroke-linecap:square;\"/>\n",
       "   </g>\n",
       "  </g>\n",
       " </g>\n",
       " <defs>\n",
       "  <clipPath id=\"p6c8687bb8d\">\n",
       "   <rect height=\"446.4\" width=\"669.6\" x=\"7.2\" y=\"7.2\"/>\n",
       "  </clipPath>\n",
       " </defs>\n",
       "</svg>\n"
      ],
      "text/plain": [
       "<matplotlib.figure.Figure at 0x2351c0b8>"
      ]
     },
     "metadata": {},
     "output_type": "display_data"
    },
    {
     "data": {
      "text/plain": [
       "24"
      ]
     },
     "metadata": {},
     "output_type": "display_data"
    },
    {
     "data": {
      "text/plain": [
       "3978.0557310863596"
      ]
     },
     "metadata": {},
     "output_type": "display_data"
    },
    {
     "data": {
      "text/plain": [
       "'Fragments Observed / Expected: 0.043'"
      ]
     },
     "metadata": {},
     "output_type": "display_data"
    },
    {
     "data": {
      "text/plain": [
       "'Bh1 218.116589 1 [216.763526]'"
      ]
     },
     "metadata": {},
     "output_type": "display_data"
    },
    {
     "data": {
      "text/plain": [
       "'Bc1 218.116589 1 [216.763526]'"
      ]
     },
     "metadata": {},
     "output_type": "display_data"
    },
    {
     "data": {
      "text/plain": [
       "'Bf1 218.116589 1 [216.763526]'"
      ]
     },
     "metadata": {},
     "output_type": "display_data"
    },
    {
     "data": {
      "text/plain": [
       "'Bj1 218.116589 1 [216.763526]'"
      ]
     },
     "metadata": {},
     "output_type": "display_data"
    },
    {
     "data": {
      "text/plain": [
       "'Bc2 463.241325 1 [7325.780604]'"
      ]
     },
     "metadata": {},
     "output_type": "display_data"
    },
    {
     "data": {
      "text/plain": [
       "'1,4Aa1 1408.721258 1 [79.38724]'"
      ]
     },
     "metadata": {},
     "output_type": "display_data"
    },
    {
     "data": {
      "text/plain": [
       "'1,4A6 1612.802021 1 [134896.799991]'"
      ]
     },
     "metadata": {},
     "output_type": "display_data"
    },
    {
     "data": {
      "text/plain": [
       "'Zc4 3047.533621 1 [3522.301411]'"
      ]
     },
     "metadata": {},
     "output_type": "display_data"
    },
    {
     "data": {
      "text/plain": [
       "'1,4Xc4 3151.613841 1 [2201.354032]'"
      ]
     },
     "metadata": {},
     "output_type": "display_data"
    },
    {
     "data": {
      "text/plain": [
       "'1,4Xc5 3396.769482 1 [5986.243487]'"
      ]
     },
     "metadata": {},
     "output_type": "display_data"
    },
    {
     "data": {
      "text/plain": [
       "'1,4Xg4 3396.769482 1 [5986.243487]'"
      ]
     },
     "metadata": {},
     "output_type": "display_data"
    },
    {
     "data": {
      "text/plain": [
       "'1,5A6 3396.769482 1 [5986.243487]'"
      ]
     },
     "metadata": {},
     "output_type": "display_data"
    },
    {
     "data": {
      "text/plain": [
       "'1,4Xc6 3600.820742 1 [3785.413726]'"
      ]
     },
     "metadata": {},
     "output_type": "display_data"
    },
    {
     "data": {
      "image/svg+xml": [
       "<?xml version=\"1.0\" encoding=\"utf-8\" standalone=\"no\"?>\n",
       "<!DOCTYPE svg PUBLIC \"-//W3C//DTD SVG 1.1//EN\"\n",
       "  \"http://www.w3.org/Graphics/SVG/1.1/DTD/svg11.dtd\">\n",
       "<!-- Created with matplotlib (http://matplotlib.org/) -->\n",
       "<svg height=\"460pt\" version=\"1.1\" viewBox=\"0 0 683 460\" width=\"683pt\" xmlns=\"http://www.w3.org/2000/svg\" xmlns:xlink=\"http://www.w3.org/1999/xlink\">\n",
       " <defs>\n",
       "  <style type=\"text/css\">\n",
       "*{stroke-linecap:butt;stroke-linejoin:round;}\n",
       "  </style>\n",
       " </defs>\n",
       " <g id=\"figure_1\">\n",
       "  <g id=\"patch_1\">\n",
       "   <path d=\"\n",
       "M0 460.8\n",
       "L684 460.8\n",
       "L684 0\n",
       "L0 0\n",
       "L0 460.8\" style=\"fill:none;\"/>\n",
       "  </g>\n",
       "  <g id=\"axes_1\">\n",
       "   <g id=\"patch_2\">\n",
       "    <path d=\"\n",
       "M7.2 453.6\n",
       "L676.8 453.6\n",
       "L676.8 7.2\n",
       "L7.2 7.2\n",
       "L7.2 453.6\" style=\"fill:none;\"/>\n",
       "   </g>\n",
       "   <g id=\"line2d_1\">\n",
       "    <path clip-path=\"url(#p6c8687bb8d)\" d=\"\n",
       "M316.547 311.321\n",
       "L316.547 288.201\" style=\"fill:none;stroke:#000000;stroke-linecap:square;\"/>\n",
       "   </g>\n",
       "   <g id=\"line2d_2\">\n",
       "    <path clip-path=\"url(#p6c8687bb8d)\" d=\"\n",
       "M316.547 311.321\n",
       "L265.642 311.321\" style=\"fill:none;stroke:#000000;stroke-linecap:square;\"/>\n",
       "   </g>\n",
       "   <g id=\"line2d_3\">\n",
       "    <path clip-path=\"url(#p6c8687bb8d)\" d=\"\n",
       "M367.453 288.201\n",
       "L316.547 311.321\" style=\"fill:none;stroke:#000000;stroke-linecap:square;\"/>\n",
       "   </g>\n",
       "   <g id=\"line2d_4\">\n",
       "    <path clip-path=\"url(#p6c8687bb8d)\" d=\"\n",
       "M265.642 265.08\n",
       "L214.737 265.08\" style=\"fill:none;stroke:#000000;stroke-linecap:square;\"/>\n",
       "   </g>\n",
       "   <g id=\"line2d_5\">\n",
       "    <path clip-path=\"url(#p6c8687bb8d)\" d=\"\n",
       "M316.547 265.08\n",
       "L265.642 265.08\" style=\"fill:none;stroke:#000000;stroke-linecap:square;\"/>\n",
       "   </g>\n",
       "   <g id=\"line2d_6\">\n",
       "    <path clip-path=\"url(#p6c8687bb8d)\" d=\"\n",
       "M367.453 288.201\n",
       "L316.547 265.08\" style=\"fill:none;stroke:#000000;stroke-linecap:square;\"/>\n",
       "   </g>\n",
       "   <g id=\"line2d_7\">\n",
       "    <path clip-path=\"url(#p6c8687bb8d)\" d=\"\n",
       "M418.358 241.96\n",
       "L367.453 288.201\" style=\"fill:none;stroke:#000000;stroke-linecap:square;\"/>\n",
       "   </g>\n",
       "   <g id=\"line2d_8\">\n",
       "    <path clip-path=\"url(#p6c8687bb8d)\" d=\"\n",
       "M214.737 218.84\n",
       "L163.832 218.84\" style=\"fill:none;stroke:#000000;stroke-linecap:square;\"/>\n",
       "   </g>\n",
       "   <g id=\"line2d_9\">\n",
       "    <path clip-path=\"url(#p6c8687bb8d)\" d=\"\n",
       "M265.642 218.84\n",
       "L214.737 218.84\" style=\"fill:none;stroke:#000000;stroke-linecap:square;\"/>\n",
       "   </g>\n",
       "   <g id=\"line2d_10\">\n",
       "    <path clip-path=\"url(#p6c8687bb8d)\" d=\"\n",
       "M316.547 218.84\n",
       "L265.642 218.84\" style=\"fill:none;stroke:#000000;stroke-linecap:square;\"/>\n",
       "   </g>\n",
       "   <g id=\"line2d_11\">\n",
       "    <path clip-path=\"url(#p6c8687bb8d)\" d=\"\n",
       "M367.453 195.72\n",
       "L316.547 218.84\" style=\"fill:none;stroke:#000000;stroke-linecap:square;\"/>\n",
       "   </g>\n",
       "   <g id=\"line2d_12\">\n",
       "    <path clip-path=\"url(#p6c8687bb8d)\" d=\"\n",
       "M316.547 172.599\n",
       "L316.547 149.479\" style=\"fill:none;stroke:#000000;stroke-linecap:square;\"/>\n",
       "   </g>\n",
       "   <g id=\"line2d_13\">\n",
       "    <path clip-path=\"url(#p6c8687bb8d)\" d=\"\n",
       "M316.547 172.599\n",
       "L265.642 172.599\" style=\"fill:none;stroke:#000000;stroke-linecap:square;\"/>\n",
       "   </g>\n",
       "   <g id=\"line2d_14\">\n",
       "    <path clip-path=\"url(#p6c8687bb8d)\" d=\"\n",
       "M367.453 195.72\n",
       "L316.547 172.599\" style=\"fill:none;stroke:#000000;stroke-linecap:square;\"/>\n",
       "   </g>\n",
       "   <g id=\"line2d_15\">\n",
       "    <path clip-path=\"url(#p6c8687bb8d)\" d=\"\n",
       "M418.358 241.96\n",
       "L367.453 195.72\" style=\"fill:none;stroke:#000000;stroke-linecap:square;\"/>\n",
       "   </g>\n",
       "   <g id=\"line2d_16\">\n",
       "    <path clip-path=\"url(#p6c8687bb8d)\" d=\"\n",
       "M469.263 241.96\n",
       "L418.358 241.96\" style=\"fill:none;stroke:#000000;stroke-linecap:square;\"/>\n",
       "   </g>\n",
       "   <g id=\"line2d_17\">\n",
       "    <path clip-path=\"url(#p6c8687bb8d)\" d=\"\n",
       "M520.168 241.96\n",
       "L469.263 241.96\" style=\"fill:none;stroke:#000000;stroke-linecap:square;\"/>\n",
       "   </g>\n",
       "   <g id=\"RES-1b-o-dglc-HEX-0-0-1-aldi-2s-n-acetyl-LIN-1-1d-2+1-2n-1\">\n",
       "    <path clip-path=\"url(#p6c8687bb8d)\" d=\"\n",
       "M528 234.846\n",
       "L528 249.074\n",
       "L512.337 249.074\n",
       "L512.337 234.846\n",
       "L528 234.846\n",
       "z\n",
       "\" style=\"fill:#0000ff;stroke:#000000;stroke-linejoin:miter;\"/>\n",
       "   </g>\n",
       "   <g id=\"RES-1b-b-dglc-HEX-1-5-2s-n-acetyl-LIN-1-1d-2+1-2n-2\">\n",
       "    <path clip-path=\"url(#p6c8687bb8d)\" d=\"\n",
       "M477.095 234.846\n",
       "L477.095 249.074\n",
       "L461.432 249.074\n",
       "L461.432 234.846\n",
       "L477.095 234.846\n",
       "z\n",
       "\" style=\"fill:#0000ff;stroke:#000000;stroke-linejoin:miter;\"/>\n",
       "   </g>\n",
       "   <g id=\"RES-1b-b-dman-HEX-1-5-3\">\n",
       "    <path clip-path=\"url(#p6c8687bb8d)\" d=\"\n",
       "M418.358 249.074\n",
       "C420.435 249.074 422.427 248.325 423.896 246.99\n",
       "C425.364 245.656 426.189 243.847 426.189 241.96\n",
       "C426.189 240.074 425.364 238.264 423.896 236.93\n",
       "C422.427 235.596 420.435 234.846 418.358 234.846\n",
       "C416.281 234.846 414.289 235.596 412.82 236.93\n",
       "C411.352 238.264 410.526 240.074 410.526 241.96\n",
       "C410.526 243.847 411.352 245.656 412.82 246.99\n",
       "C414.289 248.325 416.281 249.074 418.358 249.074\n",
       "z\n",
       "\" style=\"fill:#008000;stroke:#000000;stroke-linejoin:miter;\"/>\n",
       "   </g>\n",
       "   <g id=\"RES-1b-a-dman-HEX-1-5-12\">\n",
       "    <path clip-path=\"url(#p6c8687bb8d)\" d=\"\n",
       "M367.453 295.315\n",
       "C369.53 295.315 371.522 294.565 372.99 293.231\n",
       "C374.459 291.897 375.284 290.087 375.284 288.201\n",
       "C375.284 286.314 374.459 284.505 372.99 283.17\n",
       "C371.522 281.836 369.53 281.087 367.453 281.087\n",
       "C365.376 281.087 363.384 281.836 361.915 283.17\n",
       "C360.446 284.505 359.621 286.314 359.621 288.201\n",
       "C359.621 290.087 360.446 291.897 361.915 293.231\n",
       "C363.384 294.565 365.376 295.315 367.453 295.315\n",
       "z\n",
       "\" style=\"fill:#008000;stroke:#000000;stroke-linejoin:miter;\"/>\n",
       "   </g>\n",
       "   <g id=\"RES-1b-b-dglc-HEX-1-5-2s-n-acetyl-LIN-1-1d-2+1-2n-16\">\n",
       "    <path clip-path=\"url(#p6c8687bb8d)\" d=\"\n",
       "M324.379 304.207\n",
       "L324.379 318.435\n",
       "L308.716 318.435\n",
       "L308.716 304.207\n",
       "L324.379 304.207\n",
       "z\n",
       "\" style=\"fill:#0000ff;stroke:#000000;stroke-linejoin:miter;\"/>\n",
       "   </g>\n",
       "   <g id=\"RES-1b-a-lgal-HEX-1-5-6-d-18\">\n",
       "    <path clip-path=\"url(#p6c8687bb8d)\" d=\"\n",
       "M316.547 281.087\n",
       "L309.765 291.758\n",
       "L323.33 291.758\n",
       "z\n",
       "\" style=\"fill:#ff0000;stroke:#000000;stroke-linejoin:miter;\"/>\n",
       "   </g>\n",
       "   <g id=\"RES-1b-b-dgal-HEX-1-5-17\">\n",
       "    <path clip-path=\"url(#p6c8687bb8d)\" d=\"\n",
       "M265.642 318.435\n",
       "C267.719 318.435 269.711 317.685 271.18 316.351\n",
       "C272.648 315.017 273.474 313.208 273.474 311.321\n",
       "C273.474 309.434 272.648 307.625 271.18 306.291\n",
       "C269.711 304.957 267.719 304.207 265.642 304.207\n",
       "C263.565 304.207 261.573 304.957 260.104 306.291\n",
       "C258.636 307.625 257.811 309.434 257.811 311.321\n",
       "C257.811 313.208 258.636 315.017 260.104 316.351\n",
       "C261.573 317.685 263.565 318.435 265.642 318.435\n",
       "z\n",
       "\" style=\"fill:#ffff00;stroke:#000000;stroke-linejoin:miter;\"/>\n",
       "   </g>\n",
       "   <g id=\"RES-1b-b-dglc-HEX-1-5-2s-n-acetyl-LIN-1-1d-2+1-2n-13\">\n",
       "    <path clip-path=\"url(#p6c8687bb8d)\" d=\"\n",
       "M324.379 257.967\n",
       "L324.379 272.194\n",
       "L308.716 272.194\n",
       "L308.716 257.967\n",
       "L324.379 257.967\n",
       "z\n",
       "\" style=\"fill:#0000ff;stroke:#000000;stroke-linejoin:miter;\"/>\n",
       "   </g>\n",
       "   <g id=\"RES-1b-b-dgal-HEX-1-5-14\">\n",
       "    <path clip-path=\"url(#p6c8687bb8d)\" d=\"\n",
       "M265.642 272.194\n",
       "C267.719 272.194 269.711 271.445 271.18 270.111\n",
       "C272.648 268.777 273.474 266.967 273.474 265.08\n",
       "C273.474 263.194 272.648 261.384 271.18 260.05\n",
       "C269.711 258.716 267.719 257.967 265.642 257.967\n",
       "C263.565 257.967 261.573 258.716 260.104 260.05\n",
       "C258.636 261.384 257.811 263.194 257.811 265.08\n",
       "C257.811 266.967 258.636 268.777 260.104 270.111\n",
       "C261.573 271.445 263.565 272.194 265.642 272.194\n",
       "z\n",
       "\" style=\"fill:#ffff00;stroke:#000000;stroke-linejoin:miter;\"/>\n",
       "   </g>\n",
       "   <g id=\"RES-1b-a-dgal-HEX-1-5-15\">\n",
       "    <path clip-path=\"url(#p6c8687bb8d)\" d=\"\n",
       "M214.737 272.194\n",
       "C216.814 272.194 218.806 271.445 220.275 270.111\n",
       "C221.743 268.777 222.568 266.967 222.568 265.08\n",
       "C222.568 263.194 221.743 261.384 220.275 260.05\n",
       "C218.806 258.716 216.814 257.967 214.737 257.967\n",
       "C212.66 257.967 210.668 258.716 209.199 260.05\n",
       "C207.73 261.384 206.905 263.194 206.905 265.08\n",
       "C206.905 266.967 207.73 268.777 209.199 270.111\n",
       "C210.668 271.445 212.66 272.194 214.737 272.194\n",
       "z\n",
       "\" style=\"fill:#ffff00;stroke:#000000;stroke-linejoin:miter;\"/>\n",
       "   </g>\n",
       "   <g id=\"RES-1b-a-dman-HEX-1-5-4\">\n",
       "    <path clip-path=\"url(#p6c8687bb8d)\" d=\"\n",
       "M367.453 202.833\n",
       "C369.53 202.833 371.522 202.084 372.99 200.75\n",
       "C374.459 199.416 375.284 197.606 375.284 195.72\n",
       "C375.284 193.833 374.459 192.023 372.99 190.689\n",
       "C371.522 189.355 369.53 188.606 367.453 188.606\n",
       "C365.376 188.606 363.384 189.355 361.915 190.689\n",
       "C360.446 192.023 359.621 193.833 359.621 195.72\n",
       "C359.621 197.606 360.446 199.416 361.915 200.75\n",
       "C363.384 202.084 365.376 202.833 367.453 202.833\n",
       "z\n",
       "\" style=\"fill:#008000;stroke:#000000;stroke-linejoin:miter;\"/>\n",
       "   </g>\n",
       "   <g id=\"RES-1b-b-dglc-HEX-1-5-2s-n-acetyl-LIN-1-1d-2+1-2n-8\">\n",
       "    <path clip-path=\"url(#p6c8687bb8d)\" d=\"\n",
       "M324.379 211.726\n",
       "L324.379 225.954\n",
       "L308.716 225.954\n",
       "L308.716 211.726\n",
       "L324.379 211.726\n",
       "z\n",
       "\" style=\"fill:#0000ff;stroke:#000000;stroke-linejoin:miter;\"/>\n",
       "   </g>\n",
       "   <g id=\"RES-1b-b-dgal-HEX-1-5-9\">\n",
       "    <path clip-path=\"url(#p6c8687bb8d)\" d=\"\n",
       "M265.642 225.954\n",
       "C267.719 225.954 269.711 225.204 271.18 223.87\n",
       "C272.648 222.536 273.474 220.726 273.474 218.84\n",
       "C273.474 216.953 272.648 215.144 271.18 213.81\n",
       "C269.711 212.475 267.719 211.726 265.642 211.726\n",
       "C263.565 211.726 261.573 212.475 260.104 213.81\n",
       "C258.636 215.144 257.811 216.953 257.811 218.84\n",
       "C257.811 220.726 258.636 222.536 260.104 223.87\n",
       "C261.573 225.204 263.565 225.954 265.642 225.954\n",
       "z\n",
       "\" style=\"fill:#ffff00;stroke:#000000;stroke-linejoin:miter;\"/>\n",
       "   </g>\n",
       "   <g id=\"RES-1b-b-dglc-HEX-1-5-2s-n-acetyl-LIN-1-1d-2+1-2n-10\">\n",
       "    <path clip-path=\"url(#p6c8687bb8d)\" d=\"\n",
       "M222.568 211.726\n",
       "L222.568 225.954\n",
       "L206.905 225.954\n",
       "L206.905 211.726\n",
       "L222.568 211.726\n",
       "z\n",
       "\" style=\"fill:#0000ff;stroke:#000000;stroke-linejoin:miter;\"/>\n",
       "   </g>\n",
       "   <g id=\"RES-1b-b-dgal-HEX-1-5-11\">\n",
       "    <path clip-path=\"url(#p6c8687bb8d)\" d=\"\n",
       "M163.832 225.954\n",
       "C165.909 225.954 167.901 225.204 169.369 223.87\n",
       "C170.838 222.536 171.663 220.726 171.663 218.84\n",
       "C171.663 216.953 170.838 215.144 169.369 213.81\n",
       "C167.901 212.475 165.909 211.726 163.832 211.726\n",
       "C161.755 211.726 159.762 212.475 158.294 213.81\n",
       "C156.825 215.144 156 216.953 156 218.84\n",
       "C156 220.726 156.825 222.536 158.294 223.87\n",
       "C159.762 225.204 161.755 225.954 163.832 225.954\n",
       "z\n",
       "\" style=\"fill:#ffff00;stroke:#000000;stroke-linejoin:miter;\"/>\n",
       "   </g>\n",
       "   <g id=\"RES-1b-b-dglc-HEX-1-5-2s-n-acetyl-LIN-1-1d-2+1-2n-5\">\n",
       "    <path clip-path=\"url(#p6c8687bb8d)\" d=\"\n",
       "M324.379 165.485\n",
       "L324.379 179.713\n",
       "L308.716 179.713\n",
       "L308.716 165.485\n",
       "L324.379 165.485\n",
       "z\n",
       "\" style=\"fill:#0000ff;stroke:#000000;stroke-linejoin:miter;\"/>\n",
       "   </g>\n",
       "   <g id=\"RES-1b-a-lgal-HEX-1-5-6-d-7\">\n",
       "    <path clip-path=\"url(#p6c8687bb8d)\" d=\"\n",
       "M316.547 142.365\n",
       "L309.765 153.036\n",
       "L323.33 153.036\n",
       "z\n",
       "\" style=\"fill:#ff0000;stroke:#000000;stroke-linejoin:miter;\"/>\n",
       "   </g>\n",
       "   <g id=\"RES-1b-b-dgal-HEX-1-5-6\">\n",
       "    <path clip-path=\"url(#p6c8687bb8d)\" d=\"\n",
       "M265.642 179.713\n",
       "C267.719 179.713 269.711 178.964 271.18 177.63\n",
       "C272.648 176.295 273.474 174.486 273.474 172.599\n",
       "C273.474 170.713 272.648 168.903 271.18 167.569\n",
       "C269.711 166.235 267.719 165.485 265.642 165.485\n",
       "C263.565 165.485 261.573 166.235 260.104 167.569\n",
       "C258.636 168.903 257.811 170.713 257.811 172.599\n",
       "C257.811 174.486 258.636 176.295 260.104 177.63\n",
       "C261.573 178.964 263.565 179.713 265.642 179.713\n",
       "z\n",
       "\" style=\"fill:#ffff00;stroke:#000000;stroke-linejoin:miter;\"/>\n",
       "   </g>\n",
       "   <g id=\"patch_3\">\n",
       "    <path d=\"\n",
       "M7.2 7.2\n",
       "L676.8 7.2\" style=\"fill:none;stroke:#000000;stroke-linecap:square;stroke-linejoin:miter;\"/>\n",
       "   </g>\n",
       "   <g id=\"patch_4\">\n",
       "    <path d=\"\n",
       "M676.8 453.6\n",
       "L676.8 7.2\" style=\"fill:none;stroke:#000000;stroke-linecap:square;stroke-linejoin:miter;\"/>\n",
       "   </g>\n",
       "   <g id=\"patch_5\">\n",
       "    <path d=\"\n",
       "M7.2 453.6\n",
       "L676.8 453.6\" style=\"fill:none;stroke:#000000;stroke-linecap:square;stroke-linejoin:miter;\"/>\n",
       "   </g>\n",
       "   <g id=\"patch_6\">\n",
       "    <path d=\"\n",
       "M7.2 453.6\n",
       "L7.2 7.2\" style=\"fill:none;stroke:#000000;stroke-linecap:square;stroke-linejoin:miter;\"/>\n",
       "   </g>\n",
       "   <g id=\"line2d_18\">\n",
       "    <path clip-path=\"url(#p6c8687bb8d)\" d=\"\n",
       "M291.095 297.093\n",
       "L291.095 325.549\" style=\"fill:none;stroke:#ff0000;stroke-linecap:square;\"/>\n",
       "   </g>\n",
       "   <g id=\"line2d_19\">\n",
       "    <path clip-path=\"url(#p6c8687bb8d)\" d=\"\n",
       "M189.284 204.612\n",
       "L189.284 233.068\" style=\"fill:none;stroke:#ff0000;stroke-linecap:square;\"/>\n",
       "   </g>\n",
       "   <g id=\"line2d_20\">\n",
       "    <path clip-path=\"url(#p6c8687bb8d)\" d=\"\n",
       "M291.095 158.371\n",
       "L291.095 186.827\" style=\"fill:none;stroke:#ff0000;stroke-linecap:square;\"/>\n",
       "   </g>\n",
       "   <g id=\"line2d_21\">\n",
       "    <path clip-path=\"url(#p6c8687bb8d)\" d=\"\n",
       "M240.189 250.853\n",
       "L240.189 279.308\" style=\"fill:none;stroke:#ff0000;stroke-linecap:square;\"/>\n",
       "   </g>\n",
       "   <g id=\"line2d_22\">\n",
       "    <path clip-path=\"url(#p6c8687bb8d)\" d=\"\n",
       "M240.189 204.612\n",
       "L240.189 233.068\" style=\"fill:none;stroke:#ff0000;stroke-linecap:square;\"/>\n",
       "   </g>\n",
       "   <g id=\"line2d_23\">\n",
       "    <path clip-path=\"url(#p6c8687bb8d)\" d=\"\n",
       "M351.789 273.973\n",
       "L383.116 302.429\" style=\"fill:none;stroke:#ff0000;stroke-linecap:square;\"/>\n",
       "   </g>\n",
       "   <g id=\"line2d_24\">\n",
       "    <path clip-path=\"url(#p6c8687bb8d)\" d=\"\n",
       "M402.695 227.732\n",
       "L434.021 256.188\" style=\"fill:none;stroke:#ff0000;stroke-linecap:square;\"/>\n",
       "   </g>\n",
       "   <g id=\"line2d_25\">\n",
       "    <path clip-path=\"url(#p6c8687bb8d)\" d=\"\n",
       "M326.337 193.052\n",
       "L357.663 221.508\" style=\"fill:none;stroke:#ff0000;stroke-linecap:square;\"/>\n",
       "   </g>\n",
       "   <g id=\"line2d_26\">\n",
       "    <path clip-path=\"url(#p6c8687bb8d)\" d=\"\n",
       "M300.884 204.612\n",
       "L332.211 233.068\" style=\"fill:none;stroke:#ff0000;stroke-linecap:square;\"/>\n",
       "   </g>\n",
       "   <g id=\"line2d_27\">\n",
       "    <path clip-path=\"url(#p6c8687bb8d)\" d=\"\n",
       "M249.979 204.612\n",
       "L281.305 233.068\" style=\"fill:none;stroke:#ff0000;stroke-linecap:square;\"/>\n",
       "   </g>\n",
       "   <g id=\"line2d_28\">\n",
       "    <path clip-path=\"url(#p6c8687bb8d)\" d=\"\n",
       "M300.884 250.853\n",
       "L332.211 279.308\" style=\"fill:none;stroke:#ff0000;stroke-linecap:square;\"/>\n",
       "   </g>\n",
       "   <g id=\"line2d_29\">\n",
       "    <path clip-path=\"url(#p6c8687bb8d)\" d=\"\n",
       "M402.695 227.732\n",
       "L434.021 256.188\" style=\"fill:none;stroke:#ff0000;stroke-linecap:square;\"/>\n",
       "   </g>\n",
       "   <g id=\"line2d_30\">\n",
       "    <path clip-path=\"url(#p6c8687bb8d)\" d=\"\n",
       "M199.074 204.612\n",
       "L230.4 233.068\" style=\"fill:none;stroke:#ff0000;stroke-linecap:square;\"/>\n",
       "   </g>\n",
       "  </g>\n",
       " </g>\n",
       " <defs>\n",
       "  <clipPath id=\"p6c8687bb8d\">\n",
       "   <rect height=\"446.4\" width=\"669.6\" x=\"7.2\" y=\"7.2\"/>\n",
       "  </clipPath>\n",
       " </defs>\n",
       "</svg>\n"
      ],
      "text/plain": [
       "<matplotlib.figure.Figure at 0x22f20780>"
      ]
     },
     "metadata": {},
     "output_type": "display_data"
    },
    {
     "data": {
      "text/plain": [
       "25"
      ]
     },
     "metadata": {},
     "output_type": "display_data"
    },
    {
     "data": {
      "text/plain": [
       "3844.99307126015"
      ]
     },
     "metadata": {},
     "output_type": "display_data"
    },
    {
     "data": {
      "text/plain": [
       "'Fragments Observed / Expected: 0.084'"
      ]
     },
     "metadata": {},
     "output_type": "display_data"
    },
    {
     "data": {
      "text/plain": [
       "'Bb1 188.105123 1 [6393.197958]'"
      ]
     },
     "metadata": {},
     "output_type": "display_data"
    },
    {
     "data": {
      "text/plain": [
       "'Bg1 218.114559 1 [71.465391]'"
      ]
     },
     "metadata": {},
     "output_type": "display_data"
    },
    {
     "data": {
      "text/plain": [
       "'Be1 218.114559 1 [71.465391]'"
      ]
     },
     "metadata": {},
     "output_type": "display_data"
    },
    {
     "data": {
      "text/plain": [
       "'Bf1 218.114559 1 [71.465391]'"
      ]
     },
     "metadata": {},
     "output_type": "display_data"
    },
    {
     "data": {
      "text/plain": [
       "'Bg2 463.243339 1 [14782.834709]'"
      ]
     },
     "metadata": {},
     "output_type": "display_data"
    },
    {
     "data": {
      "text/plain": [
       "'Be2 463.243339 1 [14782.834709]'"
      ]
     },
     "metadata": {},
     "output_type": "display_data"
    },
    {
     "data": {
      "text/plain": [
       "'Bf2 463.243339 1 [14782.834709]'"
      ]
     },
     "metadata": {},
     "output_type": "display_data"
    },
    {
     "data": {
      "text/plain": [
       "'1,4Ag3 826.421639 1 [45742.296038]'"
      ]
     },
     "metadata": {},
     "output_type": "display_data"
    },
    {
     "data": {
      "text/plain": [
       "'1,4Ae4 826.421639 1 [45742.296038]'"
      ]
     },
     "metadata": {},
     "output_type": "display_data"
    },
    {
     "data": {
      "text/plain": [
       "'Bc1 1361.686939 1 [130.500632]'"
      ]
     },
     "metadata": {},
     "output_type": "display_data"
    },
    {
     "data": {
      "text/plain": [
       "'1,4Xc3 2569.305903 1 [882.37692]'"
      ]
     },
     "metadata": {},
     "output_type": "display_data"
    },
    {
     "data": {
      "text/plain": [
       "'Yg4 2932.475202 1 [526.128234]'"
      ]
     },
     "metadata": {},
     "output_type": "display_data"
    },
    {
     "data": {
      "text/plain": [
       "'Ye4 2932.475202 1 [526.128234]'"
      ]
     },
     "metadata": {},
     "output_type": "display_data"
    },
    {
     "data": {
      "text/plain": [
       "'0,2Xd3 3233.633029 1 [214.864194]'"
      ]
     },
     "metadata": {},
     "output_type": "display_data"
    },
    {
     "data": {
      "text/plain": [
       "'0,2Xe5 3233.633029 1 [214.864194]'"
      ]
     },
     "metadata": {},
     "output_type": "display_data"
    },
    {
     "data": {
      "text/plain": [
       "'0,2Xg6 3233.633029 1 [214.864194]'"
      ]
     },
     "metadata": {},
     "output_type": "display_data"
    },
    {
     "data": {
      "text/plain": [
       "'0,2Aa2 3265.667776 1 [2994.035066]'"
      ]
     },
     "metadata": {},
     "output_type": "display_data"
    },
    {
     "data": {
      "text/plain": [
       "'Ba2 3362.647442 1 [2839.790156]'"
      ]
     },
     "metadata": {},
     "output_type": "display_data"
    },
    {
     "data": {
      "text/plain": [
       "'Yg6 3381.736108 1 [2611.779558]'"
      ]
     },
     "metadata": {},
     "output_type": "display_data"
    },
    {
     "data": {
      "text/plain": [
       "'Ye6 3381.736108 1 [2611.779558]'"
      ]
     },
     "metadata": {},
     "output_type": "display_data"
    },
    {
     "data": {
      "text/plain": [
       "'Yf4 3381.736108 1 [2611.779558]'"
      ]
     },
     "metadata": {},
     "output_type": "display_data"
    },
    {
     "data": {
      "text/plain": [
       "'2,5Xc3 3453.841156 1 [325.997049]'"
      ]
     },
     "metadata": {},
     "output_type": "display_data"
    },
    {
     "data": {
      "text/plain": [
       "'0,3Xc3 3481.781312 1 [308.65227]'"
      ]
     },
     "metadata": {},
     "output_type": "display_data"
    },
    {
     "data": {
      "text/plain": [
       "'Yb1 3656.862228 2 [2555.761364, 3582.89765]'"
      ]
     },
     "metadata": {},
     "output_type": "display_data"
    },
    {
     "data": {
      "image/svg+xml": [
       "<?xml version=\"1.0\" encoding=\"utf-8\" standalone=\"no\"?>\n",
       "<!DOCTYPE svg PUBLIC \"-//W3C//DTD SVG 1.1//EN\"\n",
       "  \"http://www.w3.org/Graphics/SVG/1.1/DTD/svg11.dtd\">\n",
       "<!-- Created with matplotlib (http://matplotlib.org/) -->\n",
       "<svg height=\"460pt\" version=\"1.1\" viewBox=\"0 0 683 460\" width=\"683pt\" xmlns=\"http://www.w3.org/2000/svg\" xmlns:xlink=\"http://www.w3.org/1999/xlink\">\n",
       " <defs>\n",
       "  <style type=\"text/css\">\n",
       "*{stroke-linecap:butt;stroke-linejoin:round;}\n",
       "  </style>\n",
       " </defs>\n",
       " <g id=\"figure_1\">\n",
       "  <g id=\"patch_1\">\n",
       "   <path d=\"\n",
       "M0 460.8\n",
       "L684 460.8\n",
       "L684 0\n",
       "L0 0\n",
       "L0 460.8\" style=\"fill:none;\"/>\n",
       "  </g>\n",
       "  <g id=\"axes_1\">\n",
       "   <g id=\"patch_2\">\n",
       "    <path d=\"\n",
       "M7.2 453.6\n",
       "L676.8 453.6\n",
       "L676.8 7.2\n",
       "L7.2 7.2\n",
       "L7.2 453.6\" style=\"fill:none;\"/>\n",
       "   </g>\n",
       "   <g id=\"line2d_1\">\n",
       "    <path clip-path=\"url(#p6c8687bb8d)\" d=\"\n",
       "M214.737 303.55\n",
       "L163.832 303.55\" style=\"fill:none;stroke:#000000;stroke-linecap:square;\"/>\n",
       "   </g>\n",
       "   <g id=\"line2d_2\">\n",
       "    <path clip-path=\"url(#p6c8687bb8d)\" d=\"\n",
       "M265.642 303.55\n",
       "L214.737 303.55\" style=\"fill:none;stroke:#000000;stroke-linecap:square;\"/>\n",
       "   </g>\n",
       "   <g id=\"line2d_3\">\n",
       "    <path clip-path=\"url(#p6c8687bb8d)\" d=\"\n",
       "M316.547 303.55\n",
       "L265.642 303.55\" style=\"fill:none;stroke:#000000;stroke-linecap:square;\"/>\n",
       "   </g>\n",
       "   <g id=\"line2d_4\">\n",
       "    <path clip-path=\"url(#p6c8687bb8d)\" d=\"\n",
       "M367.453 279.166\n",
       "L316.547 303.55\" style=\"fill:none;stroke:#000000;stroke-linecap:square;\"/>\n",
       "   </g>\n",
       "   <g id=\"line2d_5\">\n",
       "    <path clip-path=\"url(#p6c8687bb8d)\" d=\"\n",
       "M367.453 279.166\n",
       "L316.547 254.783\" style=\"fill:none;stroke:#000000;stroke-linecap:square;\"/>\n",
       "   </g>\n",
       "   <g id=\"line2d_6\">\n",
       "    <path clip-path=\"url(#p6c8687bb8d)\" d=\"\n",
       "M418.358 230.4\n",
       "L367.453 279.166\" style=\"fill:none;stroke:#000000;stroke-linecap:square;\"/>\n",
       "   </g>\n",
       "   <g id=\"line2d_7\">\n",
       "    <path clip-path=\"url(#p6c8687bb8d)\" d=\"\n",
       "M214.737 206.017\n",
       "L163.832 206.017\" style=\"fill:none;stroke:#000000;stroke-linecap:square;\"/>\n",
       "   </g>\n",
       "   <g id=\"line2d_8\">\n",
       "    <path clip-path=\"url(#p6c8687bb8d)\" d=\"\n",
       "M265.642 206.017\n",
       "L214.737 206.017\" style=\"fill:none;stroke:#000000;stroke-linecap:square;\"/>\n",
       "   </g>\n",
       "   <g id=\"line2d_9\">\n",
       "    <path clip-path=\"url(#p6c8687bb8d)\" d=\"\n",
       "M316.547 206.017\n",
       "L265.642 206.017\" style=\"fill:none;stroke:#000000;stroke-linecap:square;\"/>\n",
       "   </g>\n",
       "   <g id=\"line2d_10\">\n",
       "    <path clip-path=\"url(#p6c8687bb8d)\" d=\"\n",
       "M367.453 181.634\n",
       "L316.547 206.017\" style=\"fill:none;stroke:#000000;stroke-linecap:square;\"/>\n",
       "   </g>\n",
       "   <g id=\"line2d_11\">\n",
       "    <path clip-path=\"url(#p6c8687bb8d)\" d=\"\n",
       "M316.547 157.25\n",
       "L265.642 157.25\" style=\"fill:none;stroke:#000000;stroke-linecap:square;\"/>\n",
       "   </g>\n",
       "   <g id=\"line2d_12\">\n",
       "    <path clip-path=\"url(#p6c8687bb8d)\" d=\"\n",
       "M367.453 181.634\n",
       "L316.547 157.25\" style=\"fill:none;stroke:#000000;stroke-linecap:square;\"/>\n",
       "   </g>\n",
       "   <g id=\"line2d_13\">\n",
       "    <path clip-path=\"url(#p6c8687bb8d)\" d=\"\n",
       "M418.358 230.4\n",
       "L367.453 181.634\" style=\"fill:none;stroke:#000000;stroke-linecap:square;\"/>\n",
       "   </g>\n",
       "   <g id=\"line2d_14\">\n",
       "    <path clip-path=\"url(#p6c8687bb8d)\" d=\"\n",
       "M469.263 230.4\n",
       "L418.358 230.4\" style=\"fill:none;stroke:#000000;stroke-linecap:square;\"/>\n",
       "   </g>\n",
       "   <g id=\"line2d_15\">\n",
       "    <path clip-path=\"url(#p6c8687bb8d)\" d=\"\n",
       "M520.168 230.4\n",
       "L469.263 230.4\" style=\"fill:none;stroke:#000000;stroke-linecap:square;\"/>\n",
       "   </g>\n",
       "   <g id=\"line2d_16\">\n",
       "    <path clip-path=\"url(#p6c8687bb8d)\" d=\"\n",
       "M520.168 230.4\n",
       "L520.168 206.017\" style=\"fill:none;stroke:#000000;stroke-linecap:square;\"/>\n",
       "   </g>\n",
       "   <g id=\"RES-1b-o-dglc-HEX-0-0-1-aldi-2s-n-acetyl-LIN-1-1d-2+1-2n-1\">\n",
       "    <path clip-path=\"url(#p6c8687bb8d)\" d=\"\n",
       "M528 222.897\n",
       "L528 237.903\n",
       "L512.337 237.903\n",
       "L512.337 222.897\n",
       "L528 222.897\n",
       "z\n",
       "\" style=\"fill:#0000ff;stroke:#000000;stroke-linejoin:miter;\"/>\n",
       "   </g>\n",
       "   <g id=\"RES-1b-b-dglc-HEX-1-5-2s-n-acetyl-LIN-1-1d-2+1-2n-2\">\n",
       "    <path clip-path=\"url(#p6c8687bb8d)\" d=\"\n",
       "M477.095 222.897\n",
       "L477.095 237.903\n",
       "L461.432 237.903\n",
       "L461.432 222.897\n",
       "L477.095 222.897\n",
       "z\n",
       "\" style=\"fill:#0000ff;stroke:#000000;stroke-linejoin:miter;\"/>\n",
       "   </g>\n",
       "   <g id=\"RES-1b-b-dman-HEX-1-5-3\">\n",
       "    <path clip-path=\"url(#p6c8687bb8d)\" d=\"\n",
       "M418.358 237.903\n",
       "C420.435 237.903 422.427 237.112 423.896 235.705\n",
       "C425.364 234.298 426.189 232.39 426.189 230.4\n",
       "C426.189 228.41 425.364 226.502 423.896 225.095\n",
       "C422.427 223.688 420.435 222.897 418.358 222.897\n",
       "C416.281 222.897 414.289 223.688 412.82 225.095\n",
       "C411.352 226.502 410.526 228.41 410.526 230.4\n",
       "C410.526 232.39 411.352 234.298 412.82 235.705\n",
       "C414.289 237.112 416.281 237.903 418.358 237.903\n",
       "z\n",
       "\" style=\"fill:#008000;stroke:#000000;stroke-linejoin:miter;\"/>\n",
       "   </g>\n",
       "   <g id=\"RES-1b-a-dman-HEX-1-5-11\">\n",
       "    <path clip-path=\"url(#p6c8687bb8d)\" d=\"\n",
       "M367.453 286.669\n",
       "C369.53 286.669 371.522 285.878 372.99 284.471\n",
       "C374.459 283.065 375.284 281.156 375.284 279.166\n",
       "C375.284 277.177 374.459 275.268 372.99 273.861\n",
       "C371.522 272.454 369.53 271.664 367.453 271.664\n",
       "C365.376 271.664 363.384 272.454 361.915 273.861\n",
       "C360.446 275.268 359.621 277.177 359.621 279.166\n",
       "C359.621 281.156 360.446 283.065 361.915 284.471\n",
       "C363.384 285.878 365.376 286.669 367.453 286.669\n",
       "z\n",
       "\" style=\"fill:#008000;stroke:#000000;stroke-linejoin:miter;\"/>\n",
       "   </g>\n",
       "   <g id=\"RES-1b-b-dglc-HEX-1-5-2s-n-acetyl-LIN-1-1d-2+1-2n-13\">\n",
       "    <path clip-path=\"url(#p6c8687bb8d)\" d=\"\n",
       "M324.379 296.047\n",
       "L324.379 311.052\n",
       "L308.716 311.052\n",
       "L308.716 296.047\n",
       "L324.379 296.047\n",
       "z\n",
       "\" style=\"fill:#0000ff;stroke:#000000;stroke-linejoin:miter;\"/>\n",
       "   </g>\n",
       "   <g id=\"RES-1b-b-dgal-HEX-1-5-14\">\n",
       "    <path clip-path=\"url(#p6c8687bb8d)\" d=\"\n",
       "M265.642 311.052\n",
       "C267.719 311.052 269.711 310.262 271.18 308.855\n",
       "C272.648 307.448 273.474 305.539 273.474 303.55\n",
       "C273.474 301.56 272.648 299.651 271.18 298.244\n",
       "C269.711 296.838 267.719 296.047 265.642 296.047\n",
       "C263.565 296.047 261.573 296.838 260.104 298.244\n",
       "C258.636 299.651 257.811 301.56 257.811 303.55\n",
       "C257.811 305.539 258.636 307.448 260.104 308.855\n",
       "C261.573 310.262 263.565 311.052 265.642 311.052\n",
       "z\n",
       "\" style=\"fill:#ffff00;stroke:#000000;stroke-linejoin:miter;\"/>\n",
       "   </g>\n",
       "   <g id=\"RES-1b-b-dglc-HEX-1-5-2s-n-acetyl-LIN-1-1d-2+1-2n-15\">\n",
       "    <path clip-path=\"url(#p6c8687bb8d)\" d=\"\n",
       "M222.568 296.047\n",
       "L222.568 311.052\n",
       "L206.905 311.052\n",
       "L206.905 296.047\n",
       "L222.568 296.047\n",
       "z\n",
       "\" style=\"fill:#0000ff;stroke:#000000;stroke-linejoin:miter;\"/>\n",
       "   </g>\n",
       "   <g id=\"RES-1b-b-dgal-HEX-1-5-16\">\n",
       "    <path clip-path=\"url(#p6c8687bb8d)\" d=\"\n",
       "M163.832 311.052\n",
       "C165.909 311.052 167.901 310.262 169.369 308.855\n",
       "C170.838 307.448 171.663 305.539 171.663 303.55\n",
       "C171.663 301.56 170.838 299.651 169.369 298.244\n",
       "C167.901 296.838 165.909 296.047 163.832 296.047\n",
       "C161.755 296.047 159.762 296.838 158.294 298.244\n",
       "C156.825 299.651 156 301.56 156 303.55\n",
       "C156 305.539 156.825 307.448 158.294 308.855\n",
       "C159.762 310.262 161.755 311.052 163.832 311.052\n",
       "z\n",
       "\" style=\"fill:#ffff00;stroke:#000000;stroke-linejoin:miter;\"/>\n",
       "   </g>\n",
       "   <g id=\"RES-1b-b-dglc-HEX-1-5-2s-n-acetyl-LIN-1-1d-2+1-2n-12\">\n",
       "    <path clip-path=\"url(#p6c8687bb8d)\" d=\"\n",
       "M324.379 247.281\n",
       "L324.379 262.286\n",
       "L308.716 262.286\n",
       "L308.716 247.281\n",
       "L324.379 247.281\n",
       "z\n",
       "\" style=\"fill:#0000ff;stroke:#000000;stroke-linejoin:miter;\"/>\n",
       "   </g>\n",
       "   <g id=\"RES-1b-a-dman-HEX-1-5-4\">\n",
       "    <path clip-path=\"url(#p6c8687bb8d)\" d=\"\n",
       "M367.453 189.136\n",
       "C369.53 189.136 371.522 188.346 372.99 186.939\n",
       "C374.459 185.532 375.284 183.623 375.284 181.634\n",
       "C375.284 179.644 374.459 177.735 372.99 176.329\n",
       "C371.522 174.922 369.53 174.131 367.453 174.131\n",
       "C365.376 174.131 363.384 174.922 361.915 176.329\n",
       "C360.446 177.735 359.621 179.644 359.621 181.634\n",
       "C359.621 183.623 360.446 185.532 361.915 186.939\n",
       "C363.384 188.346 365.376 189.136 367.453 189.136\n",
       "z\n",
       "\" style=\"fill:#008000;stroke:#000000;stroke-linejoin:miter;\"/>\n",
       "   </g>\n",
       "   <g id=\"RES-1b-b-dglc-HEX-1-5-2s-n-acetyl-LIN-1-1d-2+1-2n-7\">\n",
       "    <path clip-path=\"url(#p6c8687bb8d)\" d=\"\n",
       "M324.379 198.514\n",
       "L324.379 213.519\n",
       "L308.716 213.519\n",
       "L308.716 198.514\n",
       "L324.379 198.514\n",
       "z\n",
       "\" style=\"fill:#0000ff;stroke:#000000;stroke-linejoin:miter;\"/>\n",
       "   </g>\n",
       "   <g id=\"RES-1b-b-dgal-HEX-1-5-8\">\n",
       "    <path clip-path=\"url(#p6c8687bb8d)\" d=\"\n",
       "M265.642 213.519\n",
       "C267.719 213.519 269.711 212.729 271.18 211.322\n",
       "C272.648 209.915 273.474 208.006 273.474 206.017\n",
       "C273.474 204.027 272.648 202.119 271.18 200.712\n",
       "C269.711 199.305 267.719 198.514 265.642 198.514\n",
       "C263.565 198.514 261.573 199.305 260.104 200.712\n",
       "C258.636 202.119 257.811 204.027 257.811 206.017\n",
       "C257.811 208.006 258.636 209.915 260.104 211.322\n",
       "C261.573 212.729 263.565 213.519 265.642 213.519\n",
       "z\n",
       "\" style=\"fill:#ffff00;stroke:#000000;stroke-linejoin:miter;\"/>\n",
       "   </g>\n",
       "   <g id=\"RES-1b-b-dglc-HEX-1-5-2s-n-acetyl-LIN-1-1d-2+1-2n-9\">\n",
       "    <path clip-path=\"url(#p6c8687bb8d)\" d=\"\n",
       "M222.568 198.514\n",
       "L222.568 213.519\n",
       "L206.905 213.519\n",
       "L206.905 198.514\n",
       "L222.568 198.514\n",
       "z\n",
       "\" style=\"fill:#0000ff;stroke:#000000;stroke-linejoin:miter;\"/>\n",
       "   </g>\n",
       "   <g id=\"RES-1b-b-dgal-HEX-1-5-10\">\n",
       "    <path clip-path=\"url(#p6c8687bb8d)\" d=\"\n",
       "M163.832 213.519\n",
       "C165.909 213.519 167.901 212.729 169.369 211.322\n",
       "C170.838 209.915 171.663 208.006 171.663 206.017\n",
       "C171.663 204.027 170.838 202.119 169.369 200.712\n",
       "C167.901 199.305 165.909 198.514 163.832 198.514\n",
       "C161.755 198.514 159.762 199.305 158.294 200.712\n",
       "C156.825 202.119 156 204.027 156 206.017\n",
       "C156 208.006 156.825 209.915 158.294 211.322\n",
       "C159.762 212.729 161.755 213.519 163.832 213.519\n",
       "z\n",
       "\" style=\"fill:#ffff00;stroke:#000000;stroke-linejoin:miter;\"/>\n",
       "   </g>\n",
       "   <g id=\"RES-1b-b-dglc-HEX-1-5-2s-n-acetyl-LIN-1-1d-2+1-2n-5\">\n",
       "    <path clip-path=\"url(#p6c8687bb8d)\" d=\"\n",
       "M324.379 149.748\n",
       "L324.379 164.753\n",
       "L308.716 164.753\n",
       "L308.716 149.748\n",
       "L324.379 149.748\n",
       "z\n",
       "\" style=\"fill:#0000ff;stroke:#000000;stroke-linejoin:miter;\"/>\n",
       "   </g>\n",
       "   <g id=\"RES-1b-b-dgal-HEX-1-5-6\">\n",
       "    <path clip-path=\"url(#p6c8687bb8d)\" d=\"\n",
       "M265.642 164.753\n",
       "C267.719 164.753 269.711 163.962 271.18 162.556\n",
       "C272.648 161.149 273.474 159.24 273.474 157.25\n",
       "C273.474 155.261 272.648 153.352 271.18 151.945\n",
       "C269.711 150.538 267.719 149.748 265.642 149.748\n",
       "C263.565 149.748 261.573 150.538 260.104 151.945\n",
       "C258.636 153.352 257.811 155.261 257.811 157.25\n",
       "C257.811 159.24 258.636 161.149 260.104 162.556\n",
       "C261.573 163.962 263.565 164.753 265.642 164.753\n",
       "z\n",
       "\" style=\"fill:#ffff00;stroke:#000000;stroke-linejoin:miter;\"/>\n",
       "   </g>\n",
       "   <g id=\"RES-1b-a-lgal-HEX-1-5-6-d-17\">\n",
       "    <path clip-path=\"url(#p6c8687bb8d)\" d=\"\n",
       "M520.168 198.514\n",
       "L513.386 209.768\n",
       "L526.951 209.768\n",
       "z\n",
       "\" style=\"fill:#ff0000;stroke:#000000;stroke-linejoin:miter;\"/>\n",
       "   </g>\n",
       "   <g id=\"patch_3\">\n",
       "    <path d=\"\n",
       "M7.2 7.2\n",
       "L676.8 7.2\" style=\"fill:none;stroke:#000000;stroke-linecap:square;stroke-linejoin:miter;\"/>\n",
       "   </g>\n",
       "   <g id=\"patch_4\">\n",
       "    <path d=\"\n",
       "M676.8 453.6\n",
       "L676.8 7.2\" style=\"fill:none;stroke:#000000;stroke-linecap:square;stroke-linejoin:miter;\"/>\n",
       "   </g>\n",
       "   <g id=\"patch_5\">\n",
       "    <path d=\"\n",
       "M7.2 453.6\n",
       "L676.8 453.6\" style=\"fill:none;stroke:#000000;stroke-linecap:square;stroke-linejoin:miter;\"/>\n",
       "   </g>\n",
       "   <g id=\"patch_6\">\n",
       "    <path d=\"\n",
       "M7.2 453.6\n",
       "L7.2 7.2\" style=\"fill:none;stroke:#000000;stroke-linecap:square;stroke-linejoin:miter;\"/>\n",
       "   </g>\n",
       "   <g id=\"line2d_17\">\n",
       "    <path clip-path=\"url(#p6c8687bb8d)\" d=\"\n",
       "M535.832 218.208\n",
       "L504.505 218.208\" style=\"fill:none;stroke:#ff0000;stroke-linecap:square;\"/>\n",
       "   </g>\n",
       "   <g id=\"line2d_18\">\n",
       "    <path clip-path=\"url(#p6c8687bb8d)\" d=\"\n",
       "M189.284 288.545\n",
       "L189.284 318.555\" style=\"fill:none;stroke:#ff0000;stroke-linecap:square;\"/>\n",
       "   </g>\n",
       "   <g id=\"line2d_19\">\n",
       "    <path clip-path=\"url(#p6c8687bb8d)\" d=\"\n",
       "M189.284 191.012\n",
       "L189.284 221.022\" style=\"fill:none;stroke:#ff0000;stroke-linecap:square;\"/>\n",
       "   </g>\n",
       "   <g id=\"line2d_20\">\n",
       "    <path clip-path=\"url(#p6c8687bb8d)\" d=\"\n",
       "M291.095 142.245\n",
       "L291.095 172.255\" style=\"fill:none;stroke:#ff0000;stroke-linecap:square;\"/>\n",
       "   </g>\n",
       "   <g id=\"line2d_21\">\n",
       "    <path clip-path=\"url(#p6c8687bb8d)\" d=\"\n",
       "M240.189 288.545\n",
       "L240.189 318.555\" style=\"fill:none;stroke:#ff0000;stroke-linecap:square;\"/>\n",
       "   </g>\n",
       "   <g id=\"line2d_22\">\n",
       "    <path clip-path=\"url(#p6c8687bb8d)\" d=\"\n",
       "M240.189 191.012\n",
       "L240.189 221.022\" style=\"fill:none;stroke:#ff0000;stroke-linecap:square;\"/>\n",
       "   </g>\n",
       "   <g id=\"line2d_23\">\n",
       "    <path clip-path=\"url(#p6c8687bb8d)\" d=\"\n",
       "M326.337 184.447\n",
       "L357.663 154.437\" style=\"fill:none;stroke:#ff0000;stroke-linecap:square;\"/>\n",
       "   </g>\n",
       "   <g id=\"line2d_24\">\n",
       "    <path clip-path=\"url(#p6c8687bb8d)\" d=\"\n",
       "M300.884 288.545\n",
       "L332.211 318.555\" style=\"fill:none;stroke:#ff0000;stroke-linecap:square;\"/>\n",
       "   </g>\n",
       "   <g id=\"line2d_25\">\n",
       "    <path clip-path=\"url(#p6c8687bb8d)\" d=\"\n",
       "M300.884 191.012\n",
       "L332.211 221.022\" style=\"fill:none;stroke:#ff0000;stroke-linecap:square;\"/>\n",
       "   </g>\n",
       "   <g id=\"line2d_26\">\n",
       "    <path clip-path=\"url(#p6c8687bb8d)\" d=\"\n",
       "M377.242 239.778\n",
       "L408.568 269.788\" style=\"fill:none;stroke:#ff0000;stroke-linecap:square;\"/>\n",
       "   </g>\n",
       "   <g id=\"line2d_27\">\n",
       "    <path clip-path=\"url(#p6c8687bb8d)\" d=\"\n",
       "M351.789 264.161\n",
       "L383.116 294.171\" style=\"fill:none;stroke:#ff0000;stroke-linecap:square;\"/>\n",
       "   </g>\n",
       "   <g id=\"line2d_28\">\n",
       "    <path clip-path=\"url(#p6c8687bb8d)\" d=\"\n",
       "M326.337 276.353\n",
       "L357.663 306.363\" style=\"fill:none;stroke:#ff0000;stroke-linecap:square;\"/>\n",
       "   </g>\n",
       "   <g id=\"line2d_29\">\n",
       "    <path clip-path=\"url(#p6c8687bb8d)\" d=\"\n",
       "M326.337 178.82\n",
       "L357.663 208.83\" style=\"fill:none;stroke:#ff0000;stroke-linecap:square;\"/>\n",
       "   </g>\n",
       "   <g id=\"line2d_30\">\n",
       "    <path clip-path=\"url(#p6c8687bb8d)\" d=\"\n",
       "M351.789 166.629\n",
       "L383.116 196.639\" style=\"fill:none;stroke:#ff0000;stroke-linecap:square;\"/>\n",
       "   </g>\n",
       "   <g id=\"line2d_31\">\n",
       "    <path clip-path=\"url(#p6c8687bb8d)\" d=\"\n",
       "M249.979 191.012\n",
       "L281.305 221.022\" style=\"fill:none;stroke:#ff0000;stroke-linecap:square;\"/>\n",
       "   </g>\n",
       "   <g id=\"line2d_32\">\n",
       "    <path clip-path=\"url(#p6c8687bb8d)\" d=\"\n",
       "M249.979 288.545\n",
       "L281.305 318.555\" style=\"fill:none;stroke:#ff0000;stroke-linecap:square;\"/>\n",
       "   </g>\n",
       "   <g id=\"line2d_33\">\n",
       "    <path clip-path=\"url(#p6c8687bb8d)\" d=\"\n",
       "M453.6 215.395\n",
       "L484.926 245.405\" style=\"fill:none;stroke:#ff0000;stroke-linecap:square;\"/>\n",
       "   </g>\n",
       "   <g id=\"line2d_34\">\n",
       "    <path clip-path=\"url(#p6c8687bb8d)\" d=\"\n",
       "M494.716 215.395\n",
       "L494.716 245.405\" style=\"fill:none;stroke:#ff0000;stroke-linecap:square;\"/>\n",
       "   </g>\n",
       "   <g id=\"line2d_35\">\n",
       "    <path clip-path=\"url(#p6c8687bb8d)\" d=\"\n",
       "M240.189 288.545\n",
       "L240.189 318.555\" style=\"fill:none;stroke:#ff0000;stroke-linecap:square;\"/>\n",
       "   </g>\n",
       "   <g id=\"line2d_36\">\n",
       "    <path clip-path=\"url(#p6c8687bb8d)\" d=\"\n",
       "M240.189 191.012\n",
       "L240.189 221.022\" style=\"fill:none;stroke:#ff0000;stroke-linecap:square;\"/>\n",
       "   </g>\n",
       "   <g id=\"line2d_37\">\n",
       "    <path clip-path=\"url(#p6c8687bb8d)\" d=\"\n",
       "M326.337 184.447\n",
       "L357.663 154.437\" style=\"fill:none;stroke:#ff0000;stroke-linecap:square;\"/>\n",
       "   </g>\n",
       "   <g id=\"line2d_38\">\n",
       "    <path clip-path=\"url(#p6c8687bb8d)\" d=\"\n",
       "M351.789 264.161\n",
       "L383.116 294.171\" style=\"fill:none;stroke:#ff0000;stroke-linecap:square;\"/>\n",
       "   </g>\n",
       "   <g id=\"line2d_39\">\n",
       "    <path clip-path=\"url(#p6c8687bb8d)\" d=\"\n",
       "M351.789 264.161\n",
       "L383.116 294.171\" style=\"fill:none;stroke:#ff0000;stroke-linecap:square;\"/>\n",
       "   </g>\n",
       "   <g id=\"line2d_40\">\n",
       "    <path clip-path=\"url(#p6c8687bb8d)\" d=\"\n",
       "M535.832 218.208\n",
       "L504.505 218.208\" style=\"fill:none;stroke:#ff0000;stroke-linecap:square;\"/>\n",
       "   </g>\n",
       "  </g>\n",
       " </g>\n",
       " <defs>\n",
       "  <clipPath id=\"p6c8687bb8d\">\n",
       "   <rect height=\"446.4\" width=\"669.6\" x=\"7.2\" y=\"7.2\"/>\n",
       "  </clipPath>\n",
       " </defs>\n",
       "</svg>\n"
      ],
      "text/plain": [
       "<matplotlib.figure.Figure at 0x143b7860>"
      ]
     },
     "metadata": {},
     "output_type": "display_data"
    },
    {
     "data": {
      "text/plain": [
       "26"
      ]
     },
     "metadata": {},
     "output_type": "display_data"
    },
    {
     "data": {
      "text/plain": [
       "3800.93047100359"
      ]
     },
     "metadata": {},
     "output_type": "display_data"
    },
    {
     "data": {
      "text/plain": [
       "'Fragments Observed / Expected: 0.194'"
      ]
     },
     "metadata": {},
     "output_type": "display_data"
    },
    {
     "data": {
      "text/plain": [
       "'Bb1 188.105167 3 [4881.965565, 6288.498286, 7084.609056]'"
      ]
     },
     "metadata": {},
     "output_type": "display_data"
    },
    {
     "data": {
      "text/plain": [
       "'Bd1 375.188763 3 [19787.615721, 32611.841506, 20364.785369]'"
      ]
     },
     "metadata": {},
     "output_type": "display_data"
    },
    {
     "data": {
      "text/plain": [
       "'Bd3 375.188763 3 [19787.615721, 32611.841506, 20364.785369]'"
      ]
     },
     "metadata": {},
     "output_type": "display_data"
    },
    {
     "data": {
      "text/plain": [
       "'1,3Ae1 449.225005 3 [1853.145479, 3813.386139, 6053.216997]'"
      ]
     },
     "metadata": {},
     "output_type": "display_data"
    },
    {
     "data": {
      "text/plain": [
       "'2,4Ae1 449.225005 3 [1853.145479, 3813.386139, 6053.216997]'"
      ]
     },
     "metadata": {},
     "output_type": "display_data"
    },
    {
     "data": {
      "text/plain": [
       "'1,3Ad2 449.225005 3 [1853.145479, 3813.386139, 6053.216997]'"
      ]
     },
     "metadata": {},
     "output_type": "display_data"
    },
    {
     "data": {
      "text/plain": [
       "'2,4Ad2 449.225005 3 [1853.145479, 3813.386139, 6053.216997]'"
      ]
     },
     "metadata": {},
     "output_type": "display_data"
    },
    {
     "data": {
      "text/plain": [
       "'2,4Ae2 653.325761 3 [386.141876, 427.770224, 83.733158]'"
      ]
     },
     "metadata": {},
     "output_type": "display_data"
    },
    {
     "data": {
      "text/plain": [
       "'2,4Ad3 653.325761 3 [386.141876, 427.770224, 83.733158]'"
      ]
     },
     "metadata": {},
     "output_type": "display_data"
    },
    {
     "data": {
      "text/plain": [
       "'Be2 824.413928 3 [8429.791463, 7260.858199, 5903.543907]'"
      ]
     },
     "metadata": {},
     "output_type": "display_data"
    },
    {
     "data": {
      "text/plain": [
       "'Bf1 824.413928 3 [8429.791463, 7260.858199, 5903.543907]'"
      ]
     },
     "metadata": {},
     "output_type": "display_data"
    },
    {
     "data": {
      "text/plain": [
       "'Be3 840.411167 3 [367.533594, 458.480365, 218.961511]'"
      ]
     },
     "metadata": {},
     "output_type": "display_data"
    },
    {
     "data": {
      "text/plain": [
       "'0,3Xa2 2652.342696 1 [54.425393]'"
      ]
     },
     "metadata": {},
     "output_type": "display_data"
    },
    {
     "data": {
      "text/plain": [
       "'Zd3 2738.430516 1 [617.92898]'"
      ]
     },
     "metadata": {},
     "output_type": "display_data"
    },
    {
     "data": {
      "text/plain": [
       "'Yd3 2756.399289 1 [566.541324]'"
      ]
     },
     "metadata": {},
     "output_type": "display_data"
    },
    {
     "data": {
      "text/plain": [
       "'Ye5 2976.531886 3 [1902.527259, 1493.333959, 1125.321351]'"
      ]
     },
     "metadata": {},
     "output_type": "display_data"
    },
    {
     "data": {
      "text/plain": [
       "'Yf6 2976.531886 3 [1902.527259, 1493.333959, 1125.321351]'"
      ]
     },
     "metadata": {},
     "output_type": "display_data"
    },
    {
     "data": {
      "text/plain": [
       "'2,5Aa1 3001.488702 2 [5565.076442, 59375.644098]'"
      ]
     },
     "metadata": {},
     "output_type": "display_data"
    },
    {
     "data": {
      "text/plain": [
       "'1,5Xe5 3004.471593 1 [355.52689]'"
      ]
     },
     "metadata": {},
     "output_type": "display_data"
    },
    {
     "data": {
      "text/plain": [
       "'1,5Xd4 3004.471593 1 [355.52689]'"
      ]
     },
     "metadata": {},
     "output_type": "display_data"
    },
    {
     "data": {
      "text/plain": [
       "'1,5Aa1 3045.573067 1 [109.487936]'"
      ]
     },
     "metadata": {},
     "output_type": "display_data"
    },
    {
     "data": {
      "text/plain": [
       "'1,4Xf4 3046.558611 2 [251.55448, 275.815042]'"
      ]
     },
     "metadata": {},
     "output_type": "display_data"
    },
    {
     "data": {
      "text/plain": [
       "'1,4Xe5 3062.534311 1 [29937.95712]'"
      ]
     },
     "metadata": {},
     "output_type": "display_data"
    },
    {
     "data": {
      "text/plain": [
       "'1,4Xd4 3062.534311 1 [29937.95712]'"
      ]
     },
     "metadata": {},
     "output_type": "display_data"
    },
    {
     "data": {
      "text/plain": [
       "'0,3Xf4 3101.576946 1 [980.681982]'"
      ]
     },
     "metadata": {},
     "output_type": "display_data"
    },
    {
     "data": {
      "text/plain": [
       "'2,4Xf4 3131.592969 3 [4148.888238, 5079.706714, 3752.877051]'"
      ]
     },
     "metadata": {},
     "output_type": "display_data"
    },
    {
     "data": {
      "text/plain": [
       "'3,5Xe5 3133.574989 1 [919.697894]'"
      ]
     },
     "metadata": {},
     "output_type": "display_data"
    },
    {
     "data": {
      "text/plain": [
       "'3,5Xd4 3133.574989 1 [919.697894]'"
      ]
     },
     "metadata": {},
     "output_type": "display_data"
    },
    {
     "data": {
      "text/plain": [
       "'0,2Aa2 3221.619888 2 [372.153199, 4839.072308]'"
      ]
     },
     "metadata": {},
     "output_type": "display_data"
    },
    {
     "data": {
      "text/plain": [
       "'Ye6 3221.639814 3 [7585.411001, 372.153199, 4839.072308]'"
      ]
     },
     "metadata": {},
     "output_type": "display_data"
    },
    {
     "data": {
      "text/plain": [
       "'Yd5 3221.639814 3 [7585.411001, 372.153199, 4839.072308]'"
      ]
     },
     "metadata": {},
     "output_type": "display_data"
    },
    {
     "data": {
      "text/plain": [
       "'Ba2 3318.645977 2 [2434.638061, 19884.532499]'"
      ]
     },
     "metadata": {},
     "output_type": "display_data"
    },
    {
     "data": {
      "text/plain": [
       "'2,4Xe6 3351.673844 1 [141.187727]'"
      ]
     },
     "metadata": {},
     "output_type": "display_data"
    },
    {
     "data": {
      "text/plain": [
       "'1,3Xd5 3351.673844 1 [141.187727]'"
      ]
     },
     "metadata": {},
     "output_type": "display_data"
    },
    {
     "data": {
      "text/plain": [
       "'2,4Xd5 3351.673844 1 [141.187727]'"
      ]
     },
     "metadata": {},
     "output_type": "display_data"
    },
    {
     "data": {
      "text/plain": [
       "'1,3Xe6 3351.673844 1 [141.187727]'"
      ]
     },
     "metadata": {},
     "output_type": "display_data"
    },
    {
     "data": {
      "text/plain": [
       "'Yd6 3425.734697 3 [3296.664029, 8779.497877, 7130.665712]'"
      ]
     },
     "metadata": {},
     "output_type": "display_data"
    },
    {
     "data": {
      "text/plain": [
       "'Yd4 3425.734697 3 [3296.664029, 8779.497877, 7130.665712]'"
      ]
     },
     "metadata": {},
     "output_type": "display_data"
    },
    {
     "data": {
      "text/plain": [
       "'Yb1 3612.845102 3 [3872.27354, 5143.867807, 2287.510712]'"
      ]
     },
     "metadata": {},
     "output_type": "display_data"
    },
    {
     "data": {
      "text/plain": [
       "'0,4Xe5 3726.895014 1 [500.120509]'"
      ]
     },
     "metadata": {},
     "output_type": "display_data"
    },
    {
     "data": {
      "text/plain": [
       "'0,4Xe4 3726.895014 1 [500.120509]'"
      ]
     },
     "metadata": {},
     "output_type": "display_data"
    },
    {
     "data": {
      "text/plain": [
       "'0,4Xe6 3726.895014 1 [500.120509]'"
      ]
     },
     "metadata": {},
     "output_type": "display_data"
    },
    {
     "data": {
      "text/plain": [
       "'0,4Xc3 3726.895014 1 [500.120509]'"
      ]
     },
     "metadata": {},
     "output_type": "display_data"
    },
    {
     "data": {
      "text/plain": [
       "'0,4Xd5 3726.895014 1 [500.120509]'"
      ]
     },
     "metadata": {},
     "output_type": "display_data"
    },
    {
     "data": {
      "text/plain": [
       "'0,4Xa1 3726.895014 1 [500.120509]'"
      ]
     },
     "metadata": {},
     "output_type": "display_data"
    },
    {
     "data": {
      "text/plain": [
       "'0,4Xd4 3726.895014 1 [500.120509]'"
      ]
     },
     "metadata": {},
     "output_type": "display_data"
    },
    {
     "data": {
      "text/plain": [
       "'0,4Xf4 3726.895014 1 [500.120509]'"
      ]
     },
     "metadata": {},
     "output_type": "display_data"
    },
    {
     "data": {
      "text/plain": [
       "'0,4Xf5 3726.895014 1 [500.120509]'"
      ]
     },
     "metadata": {},
     "output_type": "display_data"
    },
    {
     "data": {
      "image/svg+xml": [
       "<?xml version=\"1.0\" encoding=\"utf-8\" standalone=\"no\"?>\n",
       "<!DOCTYPE svg PUBLIC \"-//W3C//DTD SVG 1.1//EN\"\n",
       "  \"http://www.w3.org/Graphics/SVG/1.1/DTD/svg11.dtd\">\n",
       "<!-- Created with matplotlib (http://matplotlib.org/) -->\n",
       "<svg height=\"460pt\" version=\"1.1\" viewBox=\"0 0 684 460\" width=\"684pt\" xmlns=\"http://www.w3.org/2000/svg\" xmlns:xlink=\"http://www.w3.org/1999/xlink\">\n",
       " <defs>\n",
       "  <style type=\"text/css\">\n",
       "*{stroke-linecap:butt;stroke-linejoin:round;}\n",
       "  </style>\n",
       " </defs>\n",
       " <g id=\"figure_1\">\n",
       "  <g id=\"patch_1\">\n",
       "   <path d=\"\n",
       "M0 460.8\n",
       "L684 460.8\n",
       "L684 0\n",
       "L0 0\n",
       "L0 460.8\" style=\"fill:none;\"/>\n",
       "  </g>\n",
       "  <g id=\"axes_1\">\n",
       "   <g id=\"patch_2\">\n",
       "    <path d=\"\n",
       "M7.2 453.6\n",
       "L676.8 453.6\n",
       "L676.8 7.2\n",
       "L7.2 7.2\n",
       "L7.2 453.6\" style=\"fill:none;\"/>\n",
       "   </g>\n",
       "   <g id=\"line2d_1\">\n",
       "    <path clip-path=\"url(#p20201a9eeb)\" d=\"\n",
       "M231.813 285.147\n",
       "L176.719 285.147\" style=\"fill:none;stroke:#000000;stroke-linecap:square;\"/>\n",
       "   </g>\n",
       "   <g id=\"line2d_2\">\n",
       "    <path clip-path=\"url(#p20201a9eeb)\" d=\"\n",
       "M286.906 285.147\n",
       "L231.813 285.147\" style=\"fill:none;stroke:#000000;stroke-linecap:square;\"/>\n",
       "   </g>\n",
       "   <g id=\"line2d_3\">\n",
       "    <path clip-path=\"url(#p20201a9eeb)\" d=\"\n",
       "M342 257.774\n",
       "L286.906 285.147\" style=\"fill:none;stroke:#000000;stroke-linecap:square;\"/>\n",
       "   </g>\n",
       "   <g id=\"line2d_4\">\n",
       "    <path clip-path=\"url(#p20201a9eeb)\" d=\"\n",
       "M231.813 230.4\n",
       "L176.719 230.4\" style=\"fill:none;stroke:#000000;stroke-linecap:square;\"/>\n",
       "   </g>\n",
       "   <g id=\"line2d_5\">\n",
       "    <path clip-path=\"url(#p20201a9eeb)\" d=\"\n",
       "M286.906 230.4\n",
       "L231.813 230.4\" style=\"fill:none;stroke:#000000;stroke-linecap:square;\"/>\n",
       "   </g>\n",
       "   <g id=\"line2d_6\">\n",
       "    <path clip-path=\"url(#p20201a9eeb)\" d=\"\n",
       "M342 257.774\n",
       "L286.906 230.4\" style=\"fill:none;stroke:#000000;stroke-linecap:square;\"/>\n",
       "   </g>\n",
       "   <g id=\"line2d_7\">\n",
       "    <path clip-path=\"url(#p20201a9eeb)\" d=\"\n",
       "M397.094 216.713\n",
       "L342 257.774\" style=\"fill:none;stroke:#000000;stroke-linecap:square;\"/>\n",
       "   </g>\n",
       "   <g id=\"line2d_8\">\n",
       "    <path clip-path=\"url(#p20201a9eeb)\" d=\"\n",
       "M231.813 175.653\n",
       "L176.719 175.653\" style=\"fill:none;stroke:#000000;stroke-linecap:square;\"/>\n",
       "   </g>\n",
       "   <g id=\"line2d_9\">\n",
       "    <path clip-path=\"url(#p20201a9eeb)\" d=\"\n",
       "M286.906 175.653\n",
       "L231.813 175.653\" style=\"fill:none;stroke:#000000;stroke-linecap:square;\"/>\n",
       "   </g>\n",
       "   <g id=\"line2d_10\">\n",
       "    <path clip-path=\"url(#p20201a9eeb)\" d=\"\n",
       "M342 175.653\n",
       "L286.906 175.653\" style=\"fill:none;stroke:#000000;stroke-linecap:square;\"/>\n",
       "   </g>\n",
       "   <g id=\"line2d_11\">\n",
       "    <path clip-path=\"url(#p20201a9eeb)\" d=\"\n",
       "M397.094 216.713\n",
       "L342 175.653\" style=\"fill:none;stroke:#000000;stroke-linecap:square;\"/>\n",
       "   </g>\n",
       "   <g id=\"line2d_12\">\n",
       "    <path clip-path=\"url(#p20201a9eeb)\" d=\"\n",
       "M452.187 216.713\n",
       "L397.094 216.713\" style=\"fill:none;stroke:#000000;stroke-linecap:square;\"/>\n",
       "   </g>\n",
       "   <g id=\"line2d_13\">\n",
       "    <path clip-path=\"url(#p20201a9eeb)\" d=\"\n",
       "M507.281 216.713\n",
       "L452.187 216.713\" style=\"fill:none;stroke:#000000;stroke-linecap:square;\"/>\n",
       "   </g>\n",
       "   <g id=\"line2d_14\">\n",
       "    <path clip-path=\"url(#p20201a9eeb)\" d=\"\n",
       "M507.281 216.713\n",
       "L507.281 189.34\" style=\"fill:none;stroke:#000000;stroke-linecap:square;\"/>\n",
       "   </g>\n",
       "   <g id=\"RES-1b-o-dglc-HEX-0-0-1-aldi-2s-n-acetyl-LIN-1-1d-2+1-2n-1\">\n",
       "    <path clip-path=\"url(#p20201a9eeb)\" d=\"\n",
       "M515.757 208.291\n",
       "L515.757 225.136\n",
       "L498.805 225.136\n",
       "L498.805 208.291\n",
       "L515.757 208.291\n",
       "z\n",
       "\" style=\"fill:#0000ff;stroke:#000000;stroke-linejoin:miter;\"/>\n",
       "   </g>\n",
       "   <g id=\"RES-1b-b-dglc-HEX-1-5-2s-n-acetyl-LIN-1-1d-2+1-2n-2\">\n",
       "    <path clip-path=\"url(#p20201a9eeb)\" d=\"\n",
       "M460.663 208.291\n",
       "L460.663 225.136\n",
       "L443.711 225.136\n",
       "L443.711 208.291\n",
       "L460.663 208.291\n",
       "z\n",
       "\" style=\"fill:#0000ff;stroke:#000000;stroke-linejoin:miter;\"/>\n",
       "   </g>\n",
       "   <g id=\"RES-1b-b-dman-HEX-1-5-3\">\n",
       "    <path clip-path=\"url(#p20201a9eeb)\" d=\"\n",
       "M397.094 225.136\n",
       "C399.342 225.136 401.498 224.248 403.087 222.669\n",
       "C404.677 221.089 405.57 218.947 405.57 216.713\n",
       "C405.57 214.479 404.677 212.337 403.087 210.758\n",
       "C401.498 209.178 399.342 208.291 397.094 208.291\n",
       "C394.846 208.291 392.69 209.178 391.1 210.758\n",
       "C389.511 212.337 388.618 214.479 388.618 216.713\n",
       "C388.618 218.947 389.511 221.089 391.1 222.669\n",
       "C392.69 224.248 394.846 225.136 397.094 225.136\n",
       "z\n",
       "\" style=\"fill:#008000;stroke:#000000;stroke-linejoin:miter;\"/>\n",
       "   </g>\n",
       "   <g id=\"RES-1b-a-dman-HEX-1-5-8\">\n",
       "    <path clip-path=\"url(#p20201a9eeb)\" d=\"\n",
       "M342 266.196\n",
       "C344.248 266.196 346.404 265.309 347.993 263.729\n",
       "C349.583 262.15 350.476 260.007 350.476 257.774\n",
       "C350.476 255.54 349.583 253.397 347.993 251.818\n",
       "C346.404 250.238 344.248 249.351 342 249.351\n",
       "C339.752 249.351 337.596 250.238 336.007 251.818\n",
       "C334.417 253.397 333.524 255.54 333.524 257.774\n",
       "C333.524 260.007 334.417 262.15 336.007 263.729\n",
       "C337.596 265.309 339.752 266.196 342 266.196\n",
       "z\n",
       "\" style=\"fill:#008000;stroke:#000000;stroke-linejoin:miter;\"/>\n",
       "   </g>\n",
       "   <g id=\"RES-1b-b-dglc-HEX-1-5-2s-n-acetyl-LIN-1-1d-2+1-2n-12\">\n",
       "    <path clip-path=\"url(#p20201a9eeb)\" d=\"\n",
       "M295.382 276.725\n",
       "L295.382 293.57\n",
       "L278.43 293.57\n",
       "L278.43 276.725\n",
       "L295.382 276.725\n",
       "z\n",
       "\" style=\"fill:#0000ff;stroke:#000000;stroke-linejoin:miter;\"/>\n",
       "   </g>\n",
       "   <g id=\"RES-1b-b-dgal-HEX-1-5-13\">\n",
       "    <path clip-path=\"url(#p20201a9eeb)\" d=\"\n",
       "M231.813 293.57\n",
       "C234.061 293.57 236.217 292.682 237.806 291.103\n",
       "C239.396 289.523 240.289 287.381 240.289 285.147\n",
       "C240.289 282.913 239.396 280.771 237.806 279.191\n",
       "C236.217 277.612 234.061 276.725 231.813 276.725\n",
       "C229.565 276.725 227.409 277.612 225.819 279.191\n",
       "C224.23 280.771 223.337 282.913 223.337 285.147\n",
       "C223.337 287.381 224.23 289.523 225.819 291.103\n",
       "C227.409 292.682 229.565 293.57 231.813 293.57\n",
       "z\n",
       "\" style=\"fill:#ffff00;stroke:#000000;stroke-linejoin:miter;\"/>\n",
       "   </g>\n",
       "   <g id=\"RES-1b-a-dgro-dgal-NON-2-6-1-a-2-keto-3-d-2s-n-acetyl-LIN-1-1d-5+1-2n-14\">\n",
       "    <path clip-path=\"url(#p20201a9eeb)\" d=\"\n",
       "M176.719 276.725\n",
       "L168.243 285.147\n",
       "L176.719 293.57\n",
       "L185.195 285.147\n",
       "z\n",
       "\" style=\"fill:#800080;stroke:#000000;stroke-linejoin:miter;\"/>\n",
       "   </g>\n",
       "   <g id=\"RES-1b-b-dglc-HEX-1-5-2s-n-acetyl-LIN-1-1d-2+1-2n-9\">\n",
       "    <path clip-path=\"url(#p20201a9eeb)\" d=\"\n",
       "M295.382 221.977\n",
       "L295.382 238.823\n",
       "L278.43 238.823\n",
       "L278.43 221.977\n",
       "L295.382 221.977\n",
       "z\n",
       "\" style=\"fill:#0000ff;stroke:#000000;stroke-linejoin:miter;\"/>\n",
       "   </g>\n",
       "   <g id=\"RES-1b-b-dgal-HEX-1-5-10\">\n",
       "    <path clip-path=\"url(#p20201a9eeb)\" d=\"\n",
       "M231.813 238.823\n",
       "C234.061 238.823 236.217 237.935 237.806 236.356\n",
       "C239.396 234.776 240.289 232.634 240.289 230.4\n",
       "C240.289 228.166 239.396 226.024 237.806 224.444\n",
       "C236.217 222.865 234.061 221.977 231.813 221.977\n",
       "C229.565 221.977 227.409 222.865 225.819 224.444\n",
       "C224.23 226.024 223.337 228.166 223.337 230.4\n",
       "C223.337 232.634 224.23 234.776 225.819 236.356\n",
       "C227.409 237.935 229.565 238.823 231.813 238.823\n",
       "z\n",
       "\" style=\"fill:#ffff00;stroke:#000000;stroke-linejoin:miter;\"/>\n",
       "   </g>\n",
       "   <g id=\"RES-1b-a-dgro-dgal-NON-2-6-1-a-2-keto-3-d-2s-n-acetyl-LIN-1-1d-5+1-2n-11\">\n",
       "    <path clip-path=\"url(#p20201a9eeb)\" d=\"\n",
       "M176.719 221.977\n",
       "L168.243 230.4\n",
       "L176.719 238.823\n",
       "L185.195 230.4\n",
       "z\n",
       "\" style=\"fill:#800080;stroke:#000000;stroke-linejoin:miter;\"/>\n",
       "   </g>\n",
       "   <g id=\"RES-1b-a-dman-HEX-1-5-4\">\n",
       "    <path clip-path=\"url(#p20201a9eeb)\" d=\"\n",
       "M342 184.075\n",
       "C344.248 184.075 346.404 183.188 347.993 181.609\n",
       "C349.583 180.029 350.476 177.887 350.476 175.653\n",
       "C350.476 173.419 349.583 171.277 347.993 169.697\n",
       "C346.404 168.118 344.248 167.23 342 167.23\n",
       "C339.752 167.23 337.596 168.118 336.007 169.697\n",
       "C334.417 171.277 333.524 173.419 333.524 175.653\n",
       "C333.524 177.887 334.417 180.029 336.007 181.609\n",
       "C337.596 183.188 339.752 184.075 342 184.075\n",
       "z\n",
       "\" style=\"fill:#008000;stroke:#000000;stroke-linejoin:miter;\"/>\n",
       "   </g>\n",
       "   <g id=\"RES-1b-b-dglc-HEX-1-5-2s-n-acetyl-LIN-1-1d-2+1-2n-5\">\n",
       "    <path clip-path=\"url(#p20201a9eeb)\" d=\"\n",
       "M295.382 167.23\n",
       "L295.382 184.075\n",
       "L278.43 184.075\n",
       "L278.43 167.23\n",
       "L295.382 167.23\n",
       "z\n",
       "\" style=\"fill:#0000ff;stroke:#000000;stroke-linejoin:miter;\"/>\n",
       "   </g>\n",
       "   <g id=\"RES-1b-b-dgal-HEX-1-5-6\">\n",
       "    <path clip-path=\"url(#p20201a9eeb)\" d=\"\n",
       "M231.813 184.075\n",
       "C234.061 184.075 236.217 183.188 237.806 181.609\n",
       "C239.396 180.029 240.289 177.887 240.289 175.653\n",
       "C240.289 173.419 239.396 171.277 237.806 169.697\n",
       "C236.217 168.118 234.061 167.23 231.813 167.23\n",
       "C229.565 167.23 227.409 168.118 225.819 169.697\n",
       "C224.23 171.277 223.337 173.419 223.337 175.653\n",
       "C223.337 177.887 224.23 180.029 225.819 181.609\n",
       "C227.409 183.188 229.565 184.075 231.813 184.075\n",
       "z\n",
       "\" style=\"fill:#ffff00;stroke:#000000;stroke-linejoin:miter;\"/>\n",
       "   </g>\n",
       "   <g id=\"RES-1b-a-dgro-dgal-NON-2-6-1-a-2-keto-3-d-2s-n-glycolyl-LIN-1-1d-5+1-2n-7\">\n",
       "    <path clip-path=\"url(#p20201a9eeb)\" d=\"\n",
       "M176.719 167.23\n",
       "L168.243 175.653\n",
       "L176.719 184.075\n",
       "L185.195 175.653\n",
       "z\n",
       "\" style=\"fill:#add8e6;stroke:#000000;stroke-linejoin:miter;\"/>\n",
       "   </g>\n",
       "   <g id=\"RES-1b-a-lgal-HEX-1-5-6-d-15\">\n",
       "    <path clip-path=\"url(#p20201a9eeb)\" d=\"\n",
       "M507.281 180.917\n",
       "L499.941 193.551\n",
       "L514.621 193.551\n",
       "z\n",
       "\" style=\"fill:#ff0000;stroke:#000000;stroke-linejoin:miter;\"/>\n",
       "   </g>\n",
       "   <g id=\"patch_3\">\n",
       "    <path d=\"\n",
       "M7.2 7.2\n",
       "L676.8 7.2\" style=\"fill:none;stroke:#000000;stroke-linecap:square;stroke-linejoin:miter;\"/>\n",
       "   </g>\n",
       "   <g id=\"patch_4\">\n",
       "    <path d=\"\n",
       "M676.8 453.6\n",
       "L676.8 7.2\" style=\"fill:none;stroke:#000000;stroke-linecap:square;stroke-linejoin:miter;\"/>\n",
       "   </g>\n",
       "   <g id=\"patch_5\">\n",
       "    <path d=\"\n",
       "M7.2 453.6\n",
       "L676.8 453.6\" style=\"fill:none;stroke:#000000;stroke-linecap:square;stroke-linejoin:miter;\"/>\n",
       "   </g>\n",
       "   <g id=\"patch_6\">\n",
       "    <path d=\"\n",
       "M7.2 453.6\n",
       "L7.2 7.2\" style=\"fill:none;stroke:#000000;stroke-linecap:square;stroke-linejoin:miter;\"/>\n",
       "   </g>\n",
       "   <g id=\"line2d_15\">\n",
       "    <path clip-path=\"url(#p20201a9eeb)\" d=\"\n",
       "M524.233 203.026\n",
       "L490.329 203.026\" style=\"fill:none;stroke:#ff0000;stroke-linecap:square;\"/>\n",
       "   </g>\n",
       "   <g id=\"line2d_16\">\n",
       "    <path clip-path=\"url(#p20201a9eeb)\" d=\"\n",
       "M204.266 268.302\n",
       "L204.266 301.992\" style=\"fill:none;stroke:#ff0000;stroke-linecap:square;\"/>\n",
       "   </g>\n",
       "   <g id=\"line2d_17\">\n",
       "    <path clip-path=\"url(#p20201a9eeb)\" d=\"\n",
       "M204.266 213.555\n",
       "L204.266 247.245\" style=\"fill:none;stroke:#ff0000;stroke-linecap:square;\"/>\n",
       "   </g>\n",
       "   <g id=\"line2d_18\">\n",
       "    <path clip-path=\"url(#p20201a9eeb)\" d=\"\n",
       "M214.861 213.555\n",
       "L248.765 247.245\" style=\"fill:none;stroke:#ff0000;stroke-linecap:square;\"/>\n",
       "   </g>\n",
       "   <g id=\"line2d_19\">\n",
       "    <path clip-path=\"url(#p20201a9eeb)\" d=\"\n",
       "M214.861 213.555\n",
       "L248.765 247.245\" style=\"fill:none;stroke:#ff0000;stroke-linecap:square;\"/>\n",
       "   </g>\n",
       "   <g id=\"line2d_20\">\n",
       "    <path clip-path=\"url(#p20201a9eeb)\" d=\"\n",
       "M214.861 268.302\n",
       "L248.765 301.992\" style=\"fill:none;stroke:#ff0000;stroke-linecap:square;\"/>\n",
       "   </g>\n",
       "   <g id=\"line2d_21\">\n",
       "    <path clip-path=\"url(#p20201a9eeb)\" d=\"\n",
       "M214.861 268.302\n",
       "L248.765 301.992\" style=\"fill:none;stroke:#ff0000;stroke-linecap:square;\"/>\n",
       "   </g>\n",
       "   <g id=\"line2d_22\">\n",
       "    <path clip-path=\"url(#p20201a9eeb)\" d=\"\n",
       "M269.954 213.555\n",
       "L303.858 247.245\" style=\"fill:none;stroke:#ff0000;stroke-linecap:square;\"/>\n",
       "   </g>\n",
       "   <g id=\"line2d_23\">\n",
       "    <path clip-path=\"url(#p20201a9eeb)\" d=\"\n",
       "M269.954 268.302\n",
       "L303.858 301.992\" style=\"fill:none;stroke:#ff0000;stroke-linecap:square;\"/>\n",
       "   </g>\n",
       "   <g id=\"line2d_24\">\n",
       "    <path clip-path=\"url(#p20201a9eeb)\" d=\"\n",
       "M297.501 260.932\n",
       "L331.405 227.242\" style=\"fill:none;stroke:#ff0000;stroke-linecap:square;\"/>\n",
       "   </g>\n",
       "   <g id=\"line2d_25\">\n",
       "    <path clip-path=\"url(#p20201a9eeb)\" d=\"\n",
       "M297.501 254.615\n",
       "L331.405 288.306\" style=\"fill:none;stroke:#ff0000;stroke-linecap:square;\"/>\n",
       "   </g>\n",
       "   <g id=\"line2d_26\">\n",
       "    <path clip-path=\"url(#p20201a9eeb)\" d=\"\n",
       "M314.453 158.808\n",
       "L314.453 192.498\" style=\"fill:none;stroke:#ff0000;stroke-linecap:square;\"/>\n",
       "   </g>\n",
       "   <g id=\"line2d_27\">\n",
       "    <path clip-path=\"url(#p20201a9eeb)\" d=\"\n",
       "M380.142 199.868\n",
       "L414.046 233.558\" style=\"fill:none;stroke:#ff0000;stroke-linecap:square;\"/>\n",
       "   </g>\n",
       "   <g id=\"line2d_28\">\n",
       "    <path clip-path=\"url(#p20201a9eeb)\" d=\"\n",
       "M352.595 213.028\n",
       "L386.499 179.338\" style=\"fill:none;stroke:#ff0000;stroke-linecap:square;\"/>\n",
       "   </g>\n",
       "   <g id=\"line2d_29\">\n",
       "    <path clip-path=\"url(#p20201a9eeb)\" d=\"\n",
       "M352.595 213.028\n",
       "L386.499 179.338\" style=\"fill:none;stroke:#ff0000;stroke-linecap:square;\"/>\n",
       "   </g>\n",
       "   <g id=\"line2d_30\">\n",
       "    <path clip-path=\"url(#p20201a9eeb)\" d=\"\n",
       "M297.501 260.932\n",
       "L331.405 227.242\" style=\"fill:none;stroke:#ff0000;stroke-linecap:square;\"/>\n",
       "   </g>\n",
       "   <g id=\"line2d_31\">\n",
       "    <path clip-path=\"url(#p20201a9eeb)\" d=\"\n",
       "M297.501 254.615\n",
       "L331.405 288.306\" style=\"fill:none;stroke:#ff0000;stroke-linecap:square;\"/>\n",
       "   </g>\n",
       "   <g id=\"line2d_32\">\n",
       "    <path clip-path=\"url(#p20201a9eeb)\" d=\"\n",
       "M380.142 199.868\n",
       "L414.046 233.558\" style=\"fill:none;stroke:#ff0000;stroke-linecap:square;\"/>\n",
       "   </g>\n",
       "   <g id=\"line2d_33\">\n",
       "    <path clip-path=\"url(#p20201a9eeb)\" d=\"\n",
       "M269.954 213.555\n",
       "L303.858 247.245\" style=\"fill:none;stroke:#ff0000;stroke-linecap:square;\"/>\n",
       "   </g>\n",
       "   <g id=\"line2d_34\">\n",
       "    <path clip-path=\"url(#p20201a9eeb)\" d=\"\n",
       "M269.954 268.302\n",
       "L303.858 301.992\" style=\"fill:none;stroke:#ff0000;stroke-linecap:square;\"/>\n",
       "   </g>\n",
       "   <g id=\"line2d_35\">\n",
       "    <path clip-path=\"url(#p20201a9eeb)\" d=\"\n",
       "M380.142 199.868\n",
       "L414.046 233.558\" style=\"fill:none;stroke:#ff0000;stroke-linecap:square;\"/>\n",
       "   </g>\n",
       "   <g id=\"line2d_36\">\n",
       "    <path clip-path=\"url(#p20201a9eeb)\" d=\"\n",
       "M269.954 158.808\n",
       "L303.858 192.498\" style=\"fill:none;stroke:#ff0000;stroke-linecap:square;\"/>\n",
       "   </g>\n",
       "   <g id=\"line2d_37\">\n",
       "    <path clip-path=\"url(#p20201a9eeb)\" d=\"\n",
       "M269.954 213.555\n",
       "L303.858 247.245\" style=\"fill:none;stroke:#ff0000;stroke-linecap:square;\"/>\n",
       "   </g>\n",
       "   <g id=\"line2d_38\">\n",
       "    <path clip-path=\"url(#p20201a9eeb)\" d=\"\n",
       "M269.954 268.302\n",
       "L303.858 301.992\" style=\"fill:none;stroke:#ff0000;stroke-linecap:square;\"/>\n",
       "   </g>\n",
       "   <g id=\"line2d_39\">\n",
       "    <path clip-path=\"url(#p20201a9eeb)\" d=\"\n",
       "M269.954 158.808\n",
       "L303.858 192.498\" style=\"fill:none;stroke:#ff0000;stroke-linecap:square;\"/>\n",
       "   </g>\n",
       "   <g id=\"line2d_40\">\n",
       "    <path clip-path=\"url(#p20201a9eeb)\" d=\"\n",
       "M269.954 158.808\n",
       "L303.858 192.498\" style=\"fill:none;stroke:#ff0000;stroke-linecap:square;\"/>\n",
       "   </g>\n",
       "   <g id=\"line2d_41\">\n",
       "    <path clip-path=\"url(#p20201a9eeb)\" d=\"\n",
       "M269.954 213.555\n",
       "L303.858 247.245\" style=\"fill:none;stroke:#ff0000;stroke-linecap:square;\"/>\n",
       "   </g>\n",
       "   <g id=\"line2d_42\">\n",
       "    <path clip-path=\"url(#p20201a9eeb)\" d=\"\n",
       "M269.954 268.302\n",
       "L303.858 301.992\" style=\"fill:none;stroke:#ff0000;stroke-linecap:square;\"/>\n",
       "   </g>\n",
       "   <g id=\"line2d_43\">\n",
       "    <path clip-path=\"url(#p20201a9eeb)\" d=\"\n",
       "M435.235 199.868\n",
       "L469.139 233.558\" style=\"fill:none;stroke:#ff0000;stroke-linecap:square;\"/>\n",
       "   </g>\n",
       "   <g id=\"line2d_44\">\n",
       "    <path clip-path=\"url(#p20201a9eeb)\" d=\"\n",
       "M259.359 213.555\n",
       "L259.359 247.245\" style=\"fill:none;stroke:#ff0000;stroke-linecap:square;\"/>\n",
       "   </g>\n",
       "   <g id=\"line2d_45\">\n",
       "    <path clip-path=\"url(#p20201a9eeb)\" d=\"\n",
       "M259.359 268.302\n",
       "L259.359 301.992\" style=\"fill:none;stroke:#ff0000;stroke-linecap:square;\"/>\n",
       "   </g>\n",
       "   <g id=\"line2d_46\">\n",
       "    <path clip-path=\"url(#p20201a9eeb)\" d=\"\n",
       "M479.734 199.868\n",
       "L479.734 233.558\" style=\"fill:none;stroke:#ff0000;stroke-linecap:square;\"/>\n",
       "   </g>\n",
       "   <g id=\"line2d_47\">\n",
       "    <path clip-path=\"url(#p20201a9eeb)\" d=\"\n",
       "M214.861 213.555\n",
       "L248.765 247.245\" style=\"fill:none;stroke:#ff0000;stroke-linecap:square;\"/>\n",
       "   </g>\n",
       "   <g id=\"line2d_48\">\n",
       "    <path clip-path=\"url(#p20201a9eeb)\" d=\"\n",
       "M214.861 268.302\n",
       "L248.765 301.992\" style=\"fill:none;stroke:#ff0000;stroke-linecap:square;\"/>\n",
       "   </g>\n",
       "   <g id=\"line2d_49\">\n",
       "    <path clip-path=\"url(#p20201a9eeb)\" d=\"\n",
       "M214.861 268.302\n",
       "L248.765 301.992\" style=\"fill:none;stroke:#ff0000;stroke-linecap:square;\"/>\n",
       "   </g>\n",
       "   <g id=\"line2d_50\">\n",
       "    <path clip-path=\"url(#p20201a9eeb)\" d=\"\n",
       "M214.861 213.555\n",
       "L248.765 247.245\" style=\"fill:none;stroke:#ff0000;stroke-linecap:square;\"/>\n",
       "   </g>\n",
       "   <g id=\"line2d_51\">\n",
       "    <path clip-path=\"url(#p20201a9eeb)\" d=\"\n",
       "M204.266 268.302\n",
       "L204.266 301.992\" style=\"fill:none;stroke:#ff0000;stroke-linecap:square;\"/>\n",
       "   </g>\n",
       "   <g id=\"line2d_52\">\n",
       "    <path clip-path=\"url(#p20201a9eeb)\" d=\"\n",
       "M204.266 213.555\n",
       "L204.266 247.245\" style=\"fill:none;stroke:#ff0000;stroke-linecap:square;\"/>\n",
       "   </g>\n",
       "   <g id=\"line2d_53\">\n",
       "    <path clip-path=\"url(#p20201a9eeb)\" d=\"\n",
       "M524.233 203.026\n",
       "L490.329 203.026\" style=\"fill:none;stroke:#ff0000;stroke-linecap:square;\"/>\n",
       "   </g>\n",
       "   <g id=\"line2d_54\">\n",
       "    <path clip-path=\"url(#p20201a9eeb)\" d=\"\n",
       "M269.954 213.555\n",
       "L303.858 247.245\" style=\"fill:none;stroke:#ff0000;stroke-linecap:square;\"/>\n",
       "   </g>\n",
       "   <g id=\"line2d_55\">\n",
       "    <path clip-path=\"url(#p20201a9eeb)\" d=\"\n",
       "M325.048 240.928\n",
       "L358.952 274.619\" style=\"fill:none;stroke:#ff0000;stroke-linecap:square;\"/>\n",
       "   </g>\n",
       "   <g id=\"line2d_56\">\n",
       "    <path clip-path=\"url(#p20201a9eeb)\" d=\"\n",
       "M214.861 213.555\n",
       "L248.765 247.245\" style=\"fill:none;stroke:#ff0000;stroke-linecap:square;\"/>\n",
       "   </g>\n",
       "   <g id=\"line2d_57\">\n",
       "    <path clip-path=\"url(#p20201a9eeb)\" d=\"\n",
       "M325.048 158.808\n",
       "L358.952 192.498\" style=\"fill:none;stroke:#ff0000;stroke-linecap:square;\"/>\n",
       "   </g>\n",
       "   <g id=\"line2d_58\">\n",
       "    <path clip-path=\"url(#p20201a9eeb)\" d=\"\n",
       "M214.861 268.302\n",
       "L248.765 301.992\" style=\"fill:none;stroke:#ff0000;stroke-linecap:square;\"/>\n",
       "   </g>\n",
       "   <g id=\"line2d_59\">\n",
       "    <path clip-path=\"url(#p20201a9eeb)\" d=\"\n",
       "M435.235 199.868\n",
       "L469.139 233.558\" style=\"fill:none;stroke:#ff0000;stroke-linecap:square;\"/>\n",
       "   </g>\n",
       "   <g id=\"line2d_60\">\n",
       "    <path clip-path=\"url(#p20201a9eeb)\" d=\"\n",
       "M269.954 268.302\n",
       "L303.858 301.992\" style=\"fill:none;stroke:#ff0000;stroke-linecap:square;\"/>\n",
       "   </g>\n",
       "   <g id=\"line2d_61\">\n",
       "    <path clip-path=\"url(#p20201a9eeb)\" d=\"\n",
       "M269.954 158.808\n",
       "L303.858 192.498\" style=\"fill:none;stroke:#ff0000;stroke-linecap:square;\"/>\n",
       "   </g>\n",
       "   <g id=\"line2d_62\">\n",
       "    <path clip-path=\"url(#p20201a9eeb)\" d=\"\n",
       "M214.861 158.808\n",
       "L248.765 192.498\" style=\"fill:none;stroke:#ff0000;stroke-linecap:square;\"/>\n",
       "   </g>\n",
       "  </g>\n",
       " </g>\n",
       " <defs>\n",
       "  <clipPath id=\"p20201a9eeb\">\n",
       "   <rect height=\"446.4\" width=\"669.6\" x=\"7.2\" y=\"7.2\"/>\n",
       "  </clipPath>\n",
       " </defs>\n",
       "</svg>\n"
      ],
      "text/plain": [
       "<matplotlib.figure.Figure at 0xbffcf60>"
      ]
     },
     "metadata": {},
     "output_type": "display_data"
    },
    {
     "data": {
      "text/plain": [
       "27"
      ]
     },
     "metadata": {},
     "output_type": "display_data"
    },
    {
     "data": {
      "text/plain": [
       "4438.2614263178"
      ]
     },
     "metadata": {},
     "output_type": "display_data"
    },
    {
     "data": {
      "text/plain": [
       "'Fragments Observed / Expected: 0.055'"
      ]
     },
     "metadata": {},
     "output_type": "display_data"
    },
    {
     "data": {
      "text/plain": [
       "'Ba1 188.105725 1 [1797.519713]'"
      ]
     },
     "metadata": {},
     "output_type": "display_data"
    },
    {
     "data": {
      "text/plain": [
       "'Bh1 375.189929 2 [2765.515691, 3728.384066]'"
      ]
     },
     "metadata": {},
     "output_type": "display_data"
    },
    {
     "data": {
      "text/plain": [
       "'Be1 375.189929 2 [2765.515691, 3728.384066]'"
      ]
     },
     "metadata": {},
     "output_type": "display_data"
    },
    {
     "data": {
      "text/plain": [
       "'Be3 824.410017 1 [2281.060405]'"
      ]
     },
     "metadata": {},
     "output_type": "display_data"
    },
    {
     "data": {
      "text/plain": [
       "'Bh3 824.410017 1 [2281.060405]'"
      ]
     },
     "metadata": {},
     "output_type": "display_data"
    },
    {
     "data": {
      "text/plain": [
       "'2,4Xe6 3483.691314 1 [344.563596]'"
      ]
     },
     "metadata": {},
     "output_type": "display_data"
    },
    {
     "data": {
      "text/plain": [
       "'Ye4 3613.809243 2 [180.361607, 471.476193]'"
      ]
     },
     "metadata": {},
     "output_type": "display_data"
    },
    {
     "data": {
      "text/plain": [
       "'Yh4 3613.809243 2 [180.361607, 471.476193]'"
      ]
     },
     "metadata": {},
     "output_type": "display_data"
    },
    {
     "data": {
      "text/plain": [
       "'Yh6 4063.02641 1 [23646.832462]'"
      ]
     },
     "metadata": {},
     "output_type": "display_data"
    },
    {
     "data": {
      "text/plain": [
       "'Ya1 4250.102817 1 [45249.262789]'"
      ]
     },
     "metadata": {},
     "output_type": "display_data"
    },
    {
     "data": {
      "image/svg+xml": [
       "<?xml version=\"1.0\" encoding=\"utf-8\" standalone=\"no\"?>\n",
       "<!DOCTYPE svg PUBLIC \"-//W3C//DTD SVG 1.1//EN\"\n",
       "  \"http://www.w3.org/Graphics/SVG/1.1/DTD/svg11.dtd\">\n",
       "<!-- Created with matplotlib (http://matplotlib.org/) -->\n",
       "<svg height=\"460pt\" version=\"1.1\" viewBox=\"0 0 684 460\" width=\"684pt\" xmlns=\"http://www.w3.org/2000/svg\" xmlns:xlink=\"http://www.w3.org/1999/xlink\">\n",
       " <defs>\n",
       "  <style type=\"text/css\">\n",
       "*{stroke-linecap:butt;stroke-linejoin:round;}\n",
       "  </style>\n",
       " </defs>\n",
       " <g id=\"figure_1\">\n",
       "  <g id=\"patch_1\">\n",
       "   <path d=\"\n",
       "M0 460.8\n",
       "L684 460.8\n",
       "L684 0\n",
       "L0 0\n",
       "L0 460.8\" style=\"fill:none;\"/>\n",
       "  </g>\n",
       "  <g id=\"axes_1\">\n",
       "   <g id=\"patch_2\">\n",
       "    <path d=\"\n",
       "M7.2 453.6\n",
       "L676.8 453.6\n",
       "L676.8 7.2\n",
       "L7.2 7.2\n",
       "L7.2 453.6\" style=\"fill:none;\"/>\n",
       "   </g>\n",
       "   <g id=\"line2d_1\">\n",
       "    <path clip-path=\"url(#p20201a9eeb)\" d=\"\n",
       "M507.281 254.783\n",
       "L452.187 279.166\" style=\"fill:none;stroke:#000000;stroke-linecap:square;\"/>\n",
       "   </g>\n",
       "   <g id=\"line2d_2\">\n",
       "    <path clip-path=\"url(#p20201a9eeb)\" d=\"\n",
       "M231.813 303.55\n",
       "L176.719 303.55\" style=\"fill:none;stroke:#000000;stroke-linecap:square;\"/>\n",
       "   </g>\n",
       "   <g id=\"line2d_3\">\n",
       "    <path clip-path=\"url(#p20201a9eeb)\" d=\"\n",
       "M286.906 303.55\n",
       "L231.813 303.55\" style=\"fill:none;stroke:#000000;stroke-linecap:square;\"/>\n",
       "   </g>\n",
       "   <g id=\"line2d_4\">\n",
       "    <path clip-path=\"url(#p20201a9eeb)\" d=\"\n",
       "M342 279.166\n",
       "L286.906 303.55\" style=\"fill:none;stroke:#000000;stroke-linecap:square;\"/>\n",
       "   </g>\n",
       "   <g id=\"line2d_5\">\n",
       "    <path clip-path=\"url(#p20201a9eeb)\" d=\"\n",
       "M231.813 254.783\n",
       "L176.719 254.783\" style=\"fill:none;stroke:#000000;stroke-linecap:square;\"/>\n",
       "   </g>\n",
       "   <g id=\"line2d_6\">\n",
       "    <path clip-path=\"url(#p20201a9eeb)\" d=\"\n",
       "M286.906 254.783\n",
       "L231.813 254.783\" style=\"fill:none;stroke:#000000;stroke-linecap:square;\"/>\n",
       "   </g>\n",
       "   <g id=\"line2d_7\">\n",
       "    <path clip-path=\"url(#p20201a9eeb)\" d=\"\n",
       "M342 279.166\n",
       "L286.906 254.783\" style=\"fill:none;stroke:#000000;stroke-linecap:square;\"/>\n",
       "   </g>\n",
       "   <g id=\"line2d_8\">\n",
       "    <path clip-path=\"url(#p20201a9eeb)\" d=\"\n",
       "M397.094 230.4\n",
       "L342 279.166\" style=\"fill:none;stroke:#000000;stroke-linecap:square;\"/>\n",
       "   </g>\n",
       "   <g id=\"line2d_9\">\n",
       "    <path clip-path=\"url(#p20201a9eeb)\" d=\"\n",
       "M231.813 206.017\n",
       "L176.719 206.017\" style=\"fill:none;stroke:#000000;stroke-linecap:square;\"/>\n",
       "   </g>\n",
       "   <g id=\"line2d_10\">\n",
       "    <path clip-path=\"url(#p20201a9eeb)\" d=\"\n",
       "M286.906 206.017\n",
       "L231.813 206.017\" style=\"fill:none;stroke:#000000;stroke-linecap:square;\"/>\n",
       "   </g>\n",
       "   <g id=\"line2d_11\">\n",
       "    <path clip-path=\"url(#p20201a9eeb)\" d=\"\n",
       "M342 181.634\n",
       "L286.906 206.017\" style=\"fill:none;stroke:#000000;stroke-linecap:square;\"/>\n",
       "   </g>\n",
       "   <g id=\"line2d_12\">\n",
       "    <path clip-path=\"url(#p20201a9eeb)\" d=\"\n",
       "M231.813 157.25\n",
       "L176.719 157.25\" style=\"fill:none;stroke:#000000;stroke-linecap:square;\"/>\n",
       "   </g>\n",
       "   <g id=\"line2d_13\">\n",
       "    <path clip-path=\"url(#p20201a9eeb)\" d=\"\n",
       "M286.906 157.25\n",
       "L231.813 157.25\" style=\"fill:none;stroke:#000000;stroke-linecap:square;\"/>\n",
       "   </g>\n",
       "   <g id=\"line2d_14\">\n",
       "    <path clip-path=\"url(#p20201a9eeb)\" d=\"\n",
       "M342 181.634\n",
       "L286.906 157.25\" style=\"fill:none;stroke:#000000;stroke-linecap:square;\"/>\n",
       "   </g>\n",
       "   <g id=\"line2d_15\">\n",
       "    <path clip-path=\"url(#p20201a9eeb)\" d=\"\n",
       "M397.094 230.4\n",
       "L342 181.634\" style=\"fill:none;stroke:#000000;stroke-linecap:square;\"/>\n",
       "   </g>\n",
       "   <g id=\"line2d_16\">\n",
       "    <path clip-path=\"url(#p20201a9eeb)\" d=\"\n",
       "M452.187 230.4\n",
       "L397.094 230.4\" style=\"fill:none;stroke:#000000;stroke-linecap:square;\"/>\n",
       "   </g>\n",
       "   <g id=\"line2d_17\">\n",
       "    <path clip-path=\"url(#p20201a9eeb)\" d=\"\n",
       "M507.281 254.783\n",
       "L452.187 230.4\" style=\"fill:none;stroke:#000000;stroke-linecap:square;\"/>\n",
       "   </g>\n",
       "   <g id=\"RES-1b-o-dglc-HEX-0-0-1-aldi-2s-n-acetyl-3s-methyl-LIN-1-1d-2+1-2n-2-1o--1+1-3n-1\">\n",
       "    <path clip-path=\"url(#p20201a9eeb)\" d=\"\n",
       "M515.757 247.281\n",
       "L515.757 262.286\n",
       "L498.805 262.286\n",
       "L498.805 247.281\n",
       "L515.757 247.281\n",
       "z\n",
       "\" style=\"fill:#0000ff;stroke:#000000;stroke-linejoin:miter;\"/>\n",
       "   </g>\n",
       "   <g id=\"RES-1b-x-lgal-HEX-1-5-6-d-18\">\n",
       "    <path clip-path=\"url(#p20201a9eeb)\" d=\"\n",
       "M452.187 271.664\n",
       "L444.847 282.918\n",
       "L459.528 282.918\n",
       "z\n",
       "\" style=\"fill:#ff0000;stroke:#000000;stroke-linejoin:miter;\"/>\n",
       "   </g>\n",
       "   <g id=\"RES-1b-x-dglc-HEX-1-5-2s-n-acetyl-3s-methyl-LIN-1-1d-2+1-2n-2-1o--1+1-3n-2\">\n",
       "    <path clip-path=\"url(#p20201a9eeb)\" d=\"\n",
       "M460.663 222.897\n",
       "L460.663 237.903\n",
       "L443.711 237.903\n",
       "L443.711 222.897\n",
       "L460.663 222.897\n",
       "z\n",
       "\" style=\"fill:#0000ff;stroke:#000000;stroke-linejoin:miter;\"/>\n",
       "   </g>\n",
       "   <g id=\"RES-1b-x-dman-HEX-1-5-2s-methyl-LIN-1-1o--1+1-2n-3\">\n",
       "    <path clip-path=\"url(#p20201a9eeb)\" d=\"\n",
       "M397.094 237.903\n",
       "C399.342 237.903 401.498 237.112 403.087 235.705\n",
       "C404.677 234.298 405.57 232.39 405.57 230.4\n",
       "C405.57 228.41 404.677 226.502 403.087 225.095\n",
       "C401.498 223.688 399.342 222.897 397.094 222.897\n",
       "C394.846 222.897 392.69 223.688 391.1 225.095\n",
       "C389.511 226.502 388.618 228.41 388.618 230.4\n",
       "C388.618 232.39 389.511 234.298 391.1 235.705\n",
       "C392.69 237.112 394.846 237.903 397.094 237.903\n",
       "z\n",
       "\" style=\"fill:#008000;stroke:#000000;stroke-linejoin:miter;\"/>\n",
       "   </g>\n",
       "   <g id=\"RES-1b-x-dman-HEX-1-5-2s-methyl-LIN-1-1o--1+1-2n-11\">\n",
       "    <path clip-path=\"url(#p20201a9eeb)\" d=\"\n",
       "M342 286.669\n",
       "C344.248 286.669 346.404 285.878 347.993 284.471\n",
       "C349.583 283.065 350.476 281.156 350.476 279.166\n",
       "C350.476 277.177 349.583 275.268 347.993 273.861\n",
       "C346.404 272.454 344.248 271.664 342 271.664\n",
       "C339.752 271.664 337.596 272.454 336.007 273.861\n",
       "C334.417 275.268 333.524 277.177 333.524 279.166\n",
       "C333.524 281.156 334.417 283.065 336.007 284.471\n",
       "C337.596 285.878 339.752 286.669 342 286.669\n",
       "z\n",
       "\" style=\"fill:#008000;stroke:#000000;stroke-linejoin:miter;\"/>\n",
       "   </g>\n",
       "   <g id=\"RES-1b-x-dglc-HEX-1-5-2s-n-acetyl-3s-methyl-LIN-1-1d-2+1-2n-2-1o--1+1-3n-15\">\n",
       "    <path clip-path=\"url(#p20201a9eeb)\" d=\"\n",
       "M295.382 296.047\n",
       "L295.382 311.052\n",
       "L278.43 311.052\n",
       "L278.43 296.047\n",
       "L295.382 296.047\n",
       "z\n",
       "\" style=\"fill:#0000ff;stroke:#000000;stroke-linejoin:miter;\"/>\n",
       "   </g>\n",
       "   <g id=\"RES-1b-x-dgal-HEX-1-5-2s-methyl-LIN-1-1o--1+1-2n-16\">\n",
       "    <path clip-path=\"url(#p20201a9eeb)\" d=\"\n",
       "M231.813 311.052\n",
       "C234.061 311.052 236.217 310.262 237.806 308.855\n",
       "C239.396 307.448 240.289 305.539 240.289 303.55\n",
       "C240.289 301.56 239.396 299.651 237.806 298.244\n",
       "C236.217 296.838 234.061 296.047 231.813 296.047\n",
       "C229.565 296.047 227.409 296.838 225.819 298.244\n",
       "C224.23 299.651 223.337 301.56 223.337 303.55\n",
       "C223.337 305.539 224.23 307.448 225.819 308.855\n",
       "C227.409 310.262 229.565 311.052 231.813 311.052\n",
       "z\n",
       "\" style=\"fill:#ffff00;stroke:#000000;stroke-linejoin:miter;\"/>\n",
       "   </g>\n",
       "   <g id=\"RES-1b-x-dgal-HEX-1-5-17\">\n",
       "    <path clip-path=\"url(#p20201a9eeb)\" d=\"\n",
       "M176.719 311.052\n",
       "C178.967 311.052 181.123 310.262 182.712 308.855\n",
       "C184.302 307.448 185.195 305.539 185.195 303.55\n",
       "C185.195 301.56 184.302 299.651 182.712 298.244\n",
       "C181.123 296.838 178.967 296.047 176.719 296.047\n",
       "C174.471 296.047 172.315 296.838 170.726 298.244\n",
       "C169.136 299.651 168.243 301.56 168.243 303.55\n",
       "C168.243 305.539 169.136 307.448 170.726 308.855\n",
       "C172.315 310.262 174.471 311.052 176.719 311.052\n",
       "z\n",
       "\" style=\"fill:#ffff00;stroke:#000000;stroke-linejoin:miter;\"/>\n",
       "   </g>\n",
       "   <g id=\"RES-1b-x-dglc-HEX-1-5-2s-n-acetyl-3s-methyl-LIN-1-1d-2+1-2n-2-1o--1+1-3n-12\">\n",
       "    <path clip-path=\"url(#p20201a9eeb)\" d=\"\n",
       "M295.382 247.281\n",
       "L295.382 262.286\n",
       "L278.43 262.286\n",
       "L278.43 247.281\n",
       "L295.382 247.281\n",
       "z\n",
       "\" style=\"fill:#0000ff;stroke:#000000;stroke-linejoin:miter;\"/>\n",
       "   </g>\n",
       "   <g id=\"RES-1b-x-dgal-HEX-1-5-2s-methyl-LIN-1-1o--1+1-2n-13\">\n",
       "    <path clip-path=\"url(#p20201a9eeb)\" d=\"\n",
       "M231.813 262.286\n",
       "C234.061 262.286 236.217 261.495 237.806 260.088\n",
       "C239.396 258.681 240.289 256.773 240.289 254.783\n",
       "C240.289 252.794 239.396 250.885 237.806 249.478\n",
       "C236.217 248.071 234.061 247.281 231.813 247.281\n",
       "C229.565 247.281 227.409 248.071 225.819 249.478\n",
       "C224.23 250.885 223.337 252.794 223.337 254.783\n",
       "C223.337 256.773 224.23 258.681 225.819 260.088\n",
       "C227.409 261.495 229.565 262.286 231.813 262.286\n",
       "z\n",
       "\" style=\"fill:#ffff00;stroke:#000000;stroke-linejoin:miter;\"/>\n",
       "   </g>\n",
       "   <g id=\"RES-1b-x-dgro-dgal-NON-2-6-1-a-2-keto-3-d-2s-n-acetyl-LIN-1-1d-5+1-2n-14\">\n",
       "    <path clip-path=\"url(#p20201a9eeb)\" d=\"\n",
       "M176.719 247.281\n",
       "L168.243 254.783\n",
       "L176.719 262.286\n",
       "L185.195 254.783\n",
       "z\n",
       "\" style=\"fill:#800080;stroke:#000000;stroke-linejoin:miter;\"/>\n",
       "   </g>\n",
       "   <g id=\"RES-1b-x-dman-HEX-1-5-2s-methyl-LIN-1-1o--1+1-2n-4\">\n",
       "    <path clip-path=\"url(#p20201a9eeb)\" d=\"\n",
       "M342 189.136\n",
       "C344.248 189.136 346.404 188.346 347.993 186.939\n",
       "C349.583 185.532 350.476 183.623 350.476 181.634\n",
       "C350.476 179.644 349.583 177.735 347.993 176.329\n",
       "C346.404 174.922 344.248 174.131 342 174.131\n",
       "C339.752 174.131 337.596 174.922 336.007 176.329\n",
       "C334.417 177.735 333.524 179.644 333.524 181.634\n",
       "C333.524 183.623 334.417 185.532 336.007 186.939\n",
       "C337.596 188.346 339.752 189.136 342 189.136\n",
       "z\n",
       "\" style=\"fill:#008000;stroke:#000000;stroke-linejoin:miter;\"/>\n",
       "   </g>\n",
       "   <g id=\"RES-1b-x-dglc-HEX-1-5-2s-n-acetyl-3s-methyl-LIN-1-1d-2+1-2n-2-1o--1+1-3n-8\">\n",
       "    <path clip-path=\"url(#p20201a9eeb)\" d=\"\n",
       "M295.382 198.514\n",
       "L295.382 213.519\n",
       "L278.43 213.519\n",
       "L278.43 198.514\n",
       "L295.382 198.514\n",
       "z\n",
       "\" style=\"fill:#0000ff;stroke:#000000;stroke-linejoin:miter;\"/>\n",
       "   </g>\n",
       "   <g id=\"RES-1b-x-dgal-HEX-1-5-2s-methyl-LIN-1-1o--1+1-2n-9\">\n",
       "    <path clip-path=\"url(#p20201a9eeb)\" d=\"\n",
       "M231.813 213.519\n",
       "C234.061 213.519 236.217 212.729 237.806 211.322\n",
       "C239.396 209.915 240.289 208.006 240.289 206.017\n",
       "C240.289 204.027 239.396 202.119 237.806 200.712\n",
       "C236.217 199.305 234.061 198.514 231.813 198.514\n",
       "C229.565 198.514 227.409 199.305 225.819 200.712\n",
       "C224.23 202.119 223.337 204.027 223.337 206.017\n",
       "C223.337 208.006 224.23 209.915 225.819 211.322\n",
       "C227.409 212.729 229.565 213.519 231.813 213.519\n",
       "z\n",
       "\" style=\"fill:#ffff00;stroke:#000000;stroke-linejoin:miter;\"/>\n",
       "   </g>\n",
       "   <g id=\"RES-1b-x-dgro-dgal-NON-2-6-1-a-2-keto-3-d-2s-n-acetyl-LIN-1-1d-5+1-2n-10\">\n",
       "    <path clip-path=\"url(#p20201a9eeb)\" d=\"\n",
       "M176.719 198.514\n",
       "L168.243 206.017\n",
       "L176.719 213.519\n",
       "L185.195 206.017\n",
       "z\n",
       "\" style=\"fill:#800080;stroke:#000000;stroke-linejoin:miter;\"/>\n",
       "   </g>\n",
       "   <g id=\"RES-1b-x-dglc-HEX-1-5-2s-n-acetyl-3s-methyl-LIN-1-1d-2+1-2n-2-1o--1+1-3n-5\">\n",
       "    <path clip-path=\"url(#p20201a9eeb)\" d=\"\n",
       "M295.382 149.748\n",
       "L295.382 164.753\n",
       "L278.43 164.753\n",
       "L278.43 149.748\n",
       "L295.382 149.748\n",
       "z\n",
       "\" style=\"fill:#0000ff;stroke:#000000;stroke-linejoin:miter;\"/>\n",
       "   </g>\n",
       "   <g id=\"RES-1b-x-dgal-HEX-1-5-2s-methyl-LIN-1-1o--1+1-2n-6\">\n",
       "    <path clip-path=\"url(#p20201a9eeb)\" d=\"\n",
       "M231.813 164.753\n",
       "C234.061 164.753 236.217 163.962 237.806 162.556\n",
       "C239.396 161.149 240.289 159.24 240.289 157.25\n",
       "C240.289 155.261 239.396 153.352 237.806 151.945\n",
       "C236.217 150.538 234.061 149.748 231.813 149.748\n",
       "C229.565 149.748 227.409 150.538 225.819 151.945\n",
       "C224.23 153.352 223.337 155.261 223.337 157.25\n",
       "C223.337 159.24 224.23 161.149 225.819 162.556\n",
       "C227.409 163.962 229.565 164.753 231.813 164.753\n",
       "z\n",
       "\" style=\"fill:#ffff00;stroke:#000000;stroke-linejoin:miter;\"/>\n",
       "   </g>\n",
       "   <g id=\"RES-1b-x-dgro-dgal-NON-2-6-1-a-2-keto-3-d-2s-n-acetyl-LIN-1-1d-5+1-2n-7\">\n",
       "    <path clip-path=\"url(#p20201a9eeb)\" d=\"\n",
       "M176.719 149.748\n",
       "L168.243 157.25\n",
       "L176.719 164.753\n",
       "L185.195 157.25\n",
       "z\n",
       "\" style=\"fill:#800080;stroke:#000000;stroke-linejoin:miter;\"/>\n",
       "   </g>\n",
       "   <g id=\"patch_3\">\n",
       "    <path d=\"\n",
       "M7.2 7.2\n",
       "L676.8 7.2\" style=\"fill:none;stroke:#000000;stroke-linecap:square;stroke-linejoin:miter;\"/>\n",
       "   </g>\n",
       "   <g id=\"patch_4\">\n",
       "    <path d=\"\n",
       "M676.8 453.6\n",
       "L676.8 7.2\" style=\"fill:none;stroke:#000000;stroke-linecap:square;stroke-linejoin:miter;\"/>\n",
       "   </g>\n",
       "   <g id=\"patch_5\">\n",
       "    <path d=\"\n",
       "M7.2 453.6\n",
       "L676.8 453.6\" style=\"fill:none;stroke:#000000;stroke-linecap:square;stroke-linejoin:miter;\"/>\n",
       "   </g>\n",
       "   <g id=\"patch_6\">\n",
       "    <path d=\"\n",
       "M7.2 453.6\n",
       "L7.2 7.2\" style=\"fill:none;stroke:#000000;stroke-linecap:square;stroke-linejoin:miter;\"/>\n",
       "   </g>\n",
       "   <g id=\"line2d_18\">\n",
       "    <path clip-path=\"url(#p20201a9eeb)\" d=\"\n",
       "M462.782 251.97\n",
       "L496.686 281.98\" style=\"fill:none;stroke:#ff0000;stroke-linecap:square;\"/>\n",
       "   </g>\n",
       "   <g id=\"line2d_19\">\n",
       "    <path clip-path=\"url(#p20201a9eeb)\" d=\"\n",
       "M204.266 239.778\n",
       "L204.266 269.788\" style=\"fill:none;stroke:#ff0000;stroke-linecap:square;\"/>\n",
       "   </g>\n",
       "   <g id=\"line2d_20\">\n",
       "    <path clip-path=\"url(#p20201a9eeb)\" d=\"\n",
       "M204.266 191.012\n",
       "L204.266 221.022\" style=\"fill:none;stroke:#ff0000;stroke-linecap:square;\"/>\n",
       "   </g>\n",
       "   <g id=\"line2d_21\">\n",
       "    <path clip-path=\"url(#p20201a9eeb)\" d=\"\n",
       "M297.501 178.82\n",
       "L331.405 208.83\" style=\"fill:none;stroke:#ff0000;stroke-linecap:square;\"/>\n",
       "   </g>\n",
       "   <g id=\"line2d_22\">\n",
       "    <path clip-path=\"url(#p20201a9eeb)\" d=\"\n",
       "M297.501 281.98\n",
       "L331.405 251.97\" style=\"fill:none;stroke:#ff0000;stroke-linecap:square;\"/>\n",
       "   </g>\n",
       "   <g id=\"line2d_23\">\n",
       "    <path clip-path=\"url(#p20201a9eeb)\" d=\"\n",
       "M159.767 191.012\n",
       "L193.671 221.022\" style=\"fill:none;stroke:#ff0000;stroke-linecap:square;\"/>\n",
       "   </g>\n",
       "   <g id=\"line2d_24\">\n",
       "    <path clip-path=\"url(#p20201a9eeb)\" d=\"\n",
       "M297.501 178.82\n",
       "L331.405 208.83\" style=\"fill:none;stroke:#ff0000;stroke-linecap:square;\"/>\n",
       "   </g>\n",
       "   <g id=\"line2d_25\">\n",
       "    <path clip-path=\"url(#p20201a9eeb)\" d=\"\n",
       "M297.501 281.98\n",
       "L331.405 251.97\" style=\"fill:none;stroke:#ff0000;stroke-linecap:square;\"/>\n",
       "   </g>\n",
       "   <g id=\"line2d_26\">\n",
       "    <path clip-path=\"url(#p20201a9eeb)\" d=\"\n",
       "M204.266 239.778\n",
       "L204.266 269.788\" style=\"fill:none;stroke:#ff0000;stroke-linecap:square;\"/>\n",
       "   </g>\n",
       "   <g id=\"line2d_27\">\n",
       "    <path clip-path=\"url(#p20201a9eeb)\" d=\"\n",
       "M462.782 251.97\n",
       "L496.686 281.98\" style=\"fill:none;stroke:#ff0000;stroke-linecap:square;\"/>\n",
       "   </g>\n",
       "   <g id=\"RES-1b-o-dglc-HEX-0-0-1-aldi-2s-n-acetyl-3s-methyl-LIN-1-1d-2+1-2n-2-1o--1+1-3n-1-subst-0\">\n",
       "    <!-- -1Me -->\n",
       "    <defs>\n",
       "     <path d=\"\n",
       "M56.2031 29.5938\n",
       "L56.2031 25.2031\n",
       "L14.8906 25.2031\n",
       "Q15.4844 15.9219 20.4844 11.0625\n",
       "Q25.4844 6.20312 34.4219 6.20312\n",
       "Q39.5938 6.20312 44.4531 7.46875\n",
       "Q49.3125 8.73438 54.1094 11.2812\n",
       "L54.1094 2.78125\n",
       "Q49.2656 0.734375 44.1875 -0.34375\n",
       "Q39.1094 -1.42188 33.8906 -1.42188\n",
       "Q20.7969 -1.42188 13.1562 6.1875\n",
       "Q5.51562 13.8125 5.51562 26.8125\n",
       "Q5.51562 40.2344 12.7656 48.1094\n",
       "Q20.0156 56 32.3281 56\n",
       "Q43.3594 56 49.7812 48.8906\n",
       "Q56.2031 41.7969 56.2031 29.5938\n",
       "M47.2188 32.2344\n",
       "Q47.125 39.5938 43.0938 43.9844\n",
       "Q39.0625 48.3906 32.4219 48.3906\n",
       "Q24.9062 48.3906 20.3906 44.1406\n",
       "Q15.875 39.8906 15.1875 32.1719\n",
       "z\n",
       "\" id=\"BitstreamVeraSans-Roman-65\"/>\n",
       "     <path d=\"\n",
       "M9.8125 72.9062\n",
       "L24.5156 72.9062\n",
       "L43.1094 23.2969\n",
       "L61.8125 72.9062\n",
       "L76.5156 72.9062\n",
       "L76.5156 0\n",
       "L66.8906 0\n",
       "L66.8906 64.0156\n",
       "L48.0938 14.0156\n",
       "L38.1875 14.0156\n",
       "L19.3906 64.0156\n",
       "L19.3906 0\n",
       "L9.8125 0\n",
       "z\n",
       "\" id=\"BitstreamVeraSans-Roman-4d\"/>\n",
       "     <path d=\"\n",
       "M12.4062 8.29688\n",
       "L28.5156 8.29688\n",
       "L28.5156 63.9219\n",
       "L10.9844 60.4062\n",
       "L10.9844 69.3906\n",
       "L28.4219 72.9062\n",
       "L38.2812 72.9062\n",
       "L38.2812 8.29688\n",
       "L54.3906 8.29688\n",
       "L54.3906 0\n",
       "L12.4062 0\n",
       "z\n",
       "\" id=\"BitstreamVeraSans-Roman-31\"/>\n",
       "     <path d=\"\n",
       "M4.89062 31.3906\n",
       "L31.2031 31.3906\n",
       "L31.2031 23.3906\n",
       "L4.89062 23.3906\n",
       "z\n",
       "\" id=\"BitstreamVeraSans-Roman-2d\"/>\n",
       "    </defs>\n",
       "    <g transform=\"translate(495.653465783 270.991918592)scale(0.098 -0.098)\">\n",
       "     <use xlink:href=\"#BitstreamVeraSans-Roman-2d\"/>\n",
       "     <use x=\"36.083984375\" xlink:href=\"#BitstreamVeraSans-Roman-31\"/>\n",
       "     <use x=\"99.70703125\" xlink:href=\"#BitstreamVeraSans-Roman-4d\"/>\n",
       "     <use x=\"185.986328125\" xlink:href=\"#BitstreamVeraSans-Roman-65\"/>\n",
       "    </g>\n",
       "   </g>\n",
       "   <g id=\"RES-1b-x-dglc-HEX-1-5-2s-n-acetyl-3s-methyl-LIN-1-1d-2+1-2n-2-1o--1+1-3n-2-subst-0\">\n",
       "    <!-- -1Me -->\n",
       "    <g transform=\"translate(440.559794897 246.608725315)scale(0.098 -0.098)\">\n",
       "     <use xlink:href=\"#BitstreamVeraSans-Roman-2d\"/>\n",
       "     <use x=\"36.083984375\" xlink:href=\"#BitstreamVeraSans-Roman-31\"/>\n",
       "     <use x=\"99.70703125\" xlink:href=\"#BitstreamVeraSans-Roman-4d\"/>\n",
       "     <use x=\"185.986328125\" xlink:href=\"#BitstreamVeraSans-Roman-65\"/>\n",
       "    </g>\n",
       "   </g>\n",
       "   <g id=\"RES-1b-x-dman-HEX-1-5-2s-methyl-LIN-1-1o--1+1-2n-3-subst-0\">\n",
       "    <!-- -1Me -->\n",
       "    <g transform=\"translate(385.466124011 246.608725315)scale(0.098 -0.098)\">\n",
       "     <use xlink:href=\"#BitstreamVeraSans-Roman-2d\"/>\n",
       "     <use x=\"36.083984375\" xlink:href=\"#BitstreamVeraSans-Roman-31\"/>\n",
       "     <use x=\"99.70703125\" xlink:href=\"#BitstreamVeraSans-Roman-4d\"/>\n",
       "     <use x=\"185.986328125\" xlink:href=\"#BitstreamVeraSans-Roman-65\"/>\n",
       "    </g>\n",
       "   </g>\n",
       "   <g id=\"RES-1b-x-dman-HEX-1-5-2s-methyl-LIN-1-1o--1+1-2n-11-subst-0\">\n",
       "    <!-- -1Me -->\n",
       "    <g transform=\"translate(330.372453125 295.37511187)scale(0.098 -0.098)\">\n",
       "     <use xlink:href=\"#BitstreamVeraSans-Roman-2d\"/>\n",
       "     <use x=\"36.083984375\" xlink:href=\"#BitstreamVeraSans-Roman-31\"/>\n",
       "     <use x=\"99.70703125\" xlink:href=\"#BitstreamVeraSans-Roman-4d\"/>\n",
       "     <use x=\"185.986328125\" xlink:href=\"#BitstreamVeraSans-Roman-65\"/>\n",
       "    </g>\n",
       "   </g>\n",
       "   <g id=\"RES-1b-x-dglc-HEX-1-5-2s-n-acetyl-3s-methyl-LIN-1-1d-2+1-2n-2-1o--1+1-3n-15-subst-0\">\n",
       "    <!-- -1Me -->\n",
       "    <g transform=\"translate(275.278782239 319.758305147)scale(0.098 -0.098)\">\n",
       "     <use xlink:href=\"#BitstreamVeraSans-Roman-2d\"/>\n",
       "     <use x=\"36.083984375\" xlink:href=\"#BitstreamVeraSans-Roman-31\"/>\n",
       "     <use x=\"99.70703125\" xlink:href=\"#BitstreamVeraSans-Roman-4d\"/>\n",
       "     <use x=\"185.986328125\" xlink:href=\"#BitstreamVeraSans-Roman-65\"/>\n",
       "    </g>\n",
       "   </g>\n",
       "   <g id=\"RES-1b-x-dgal-HEX-1-5-2s-methyl-LIN-1-1o--1+1-2n-16-subst-0\">\n",
       "    <!-- -1Me -->\n",
       "    <g transform=\"translate(220.185111353 319.758305147)scale(0.098 -0.098)\">\n",
       "     <use xlink:href=\"#BitstreamVeraSans-Roman-2d\"/>\n",
       "     <use x=\"36.083984375\" xlink:href=\"#BitstreamVeraSans-Roman-31\"/>\n",
       "     <use x=\"99.70703125\" xlink:href=\"#BitstreamVeraSans-Roman-4d\"/>\n",
       "     <use x=\"185.986328125\" xlink:href=\"#BitstreamVeraSans-Roman-65\"/>\n",
       "    </g>\n",
       "   </g>\n",
       "   <g id=\"RES-1b-x-dglc-HEX-1-5-2s-n-acetyl-3s-methyl-LIN-1-1d-2+1-2n-2-1o--1+1-3n-12-subst-0\">\n",
       "    <!-- -1Me -->\n",
       "    <g transform=\"translate(275.278782239 270.991918592)scale(0.098 -0.098)\">\n",
       "     <use xlink:href=\"#BitstreamVeraSans-Roman-2d\"/>\n",
       "     <use x=\"36.083984375\" xlink:href=\"#BitstreamVeraSans-Roman-31\"/>\n",
       "     <use x=\"99.70703125\" xlink:href=\"#BitstreamVeraSans-Roman-4d\"/>\n",
       "     <use x=\"185.986328125\" xlink:href=\"#BitstreamVeraSans-Roman-65\"/>\n",
       "    </g>\n",
       "   </g>\n",
       "   <g id=\"RES-1b-x-dgal-HEX-1-5-2s-methyl-LIN-1-1o--1+1-2n-13-subst-0\">\n",
       "    <!-- -1Me -->\n",
       "    <g transform=\"translate(220.185111353 270.991918592)scale(0.098 -0.098)\">\n",
       "     <use xlink:href=\"#BitstreamVeraSans-Roman-2d\"/>\n",
       "     <use x=\"36.083984375\" xlink:href=\"#BitstreamVeraSans-Roman-31\"/>\n",
       "     <use x=\"99.70703125\" xlink:href=\"#BitstreamVeraSans-Roman-4d\"/>\n",
       "     <use x=\"185.986328125\" xlink:href=\"#BitstreamVeraSans-Roman-65\"/>\n",
       "    </g>\n",
       "   </g>\n",
       "   <g id=\"RES-1b-x-dman-HEX-1-5-2s-methyl-LIN-1-1o--1+1-2n-4-subst-0\">\n",
       "    <!-- -1Me -->\n",
       "    <g transform=\"translate(330.372453125 197.842338761)scale(0.098 -0.098)\">\n",
       "     <use xlink:href=\"#BitstreamVeraSans-Roman-2d\"/>\n",
       "     <use x=\"36.083984375\" xlink:href=\"#BitstreamVeraSans-Roman-31\"/>\n",
       "     <use x=\"99.70703125\" xlink:href=\"#BitstreamVeraSans-Roman-4d\"/>\n",
       "     <use x=\"185.986328125\" xlink:href=\"#BitstreamVeraSans-Roman-65\"/>\n",
       "    </g>\n",
       "   </g>\n",
       "   <g id=\"RES-1b-x-dglc-HEX-1-5-2s-n-acetyl-3s-methyl-LIN-1-1d-2+1-2n-2-1o--1+1-3n-8-subst-0\">\n",
       "    <!-- -1Me -->\n",
       "    <g transform=\"translate(275.278782239 222.225532038)scale(0.098 -0.098)\">\n",
       "     <use xlink:href=\"#BitstreamVeraSans-Roman-2d\"/>\n",
       "     <use x=\"36.083984375\" xlink:href=\"#BitstreamVeraSans-Roman-31\"/>\n",
       "     <use x=\"99.70703125\" xlink:href=\"#BitstreamVeraSans-Roman-4d\"/>\n",
       "     <use x=\"185.986328125\" xlink:href=\"#BitstreamVeraSans-Roman-65\"/>\n",
       "    </g>\n",
       "   </g>\n",
       "   <g id=\"RES-1b-x-dgal-HEX-1-5-2s-methyl-LIN-1-1o--1+1-2n-9-subst-0\">\n",
       "    <!-- -1Me -->\n",
       "    <g transform=\"translate(220.185111353 222.225532038)scale(0.098 -0.098)\">\n",
       "     <use xlink:href=\"#BitstreamVeraSans-Roman-2d\"/>\n",
       "     <use x=\"36.083984375\" xlink:href=\"#BitstreamVeraSans-Roman-31\"/>\n",
       "     <use x=\"99.70703125\" xlink:href=\"#BitstreamVeraSans-Roman-4d\"/>\n",
       "     <use x=\"185.986328125\" xlink:href=\"#BitstreamVeraSans-Roman-65\"/>\n",
       "    </g>\n",
       "   </g>\n",
       "   <g id=\"RES-1b-x-dglc-HEX-1-5-2s-n-acetyl-3s-methyl-LIN-1-1d-2+1-2n-2-1o--1+1-3n-5-subst-0\">\n",
       "    <!-- -1Me -->\n",
       "    <g transform=\"translate(275.278782239 173.459145483)scale(0.098 -0.098)\">\n",
       "     <use xlink:href=\"#BitstreamVeraSans-Roman-2d\"/>\n",
       "     <use x=\"36.083984375\" xlink:href=\"#BitstreamVeraSans-Roman-31\"/>\n",
       "     <use x=\"99.70703125\" xlink:href=\"#BitstreamVeraSans-Roman-4d\"/>\n",
       "     <use x=\"185.986328125\" xlink:href=\"#BitstreamVeraSans-Roman-65\"/>\n",
       "    </g>\n",
       "   </g>\n",
       "   <g id=\"RES-1b-x-dgal-HEX-1-5-2s-methyl-LIN-1-1o--1+1-2n-6-subst-0\">\n",
       "    <!-- -1Me -->\n",
       "    <g transform=\"translate(220.185111353 173.459145483)scale(0.098 -0.098)\">\n",
       "     <use xlink:href=\"#BitstreamVeraSans-Roman-2d\"/>\n",
       "     <use x=\"36.083984375\" xlink:href=\"#BitstreamVeraSans-Roman-31\"/>\n",
       "     <use x=\"99.70703125\" xlink:href=\"#BitstreamVeraSans-Roman-4d\"/>\n",
       "     <use x=\"185.986328125\" xlink:href=\"#BitstreamVeraSans-Roman-65\"/>\n",
       "    </g>\n",
       "   </g>\n",
       "  </g>\n",
       " </g>\n",
       " <defs>\n",
       "  <clipPath id=\"p20201a9eeb\">\n",
       "   <rect height=\"446.4\" width=\"669.6\" x=\"7.2\" y=\"7.2\"/>\n",
       "  </clipPath>\n",
       " </defs>\n",
       "</svg>\n"
      ],
      "text/plain": [
       "<matplotlib.figure.Figure at 0x17406550>"
      ]
     },
     "metadata": {},
     "output_type": "display_data"
    },
    {
     "data": {
      "text/plain": [
       "28"
      ]
     },
     "metadata": {},
     "output_type": "display_data"
    },
    {
     "data": {
      "text/plain": [
       "3470.7877699515307"
      ]
     },
     "metadata": {},
     "output_type": "display_data"
    },
    {
     "data": {
      "text/plain": [
       "'Fragments Observed / Expected: 0.016'"
      ]
     },
     "metadata": {},
     "output_type": "display_data"
    },
    {
     "data": {
      "text/plain": [
       "'Bc1 375.191334 1 [1673.935262]'"
      ]
     },
     "metadata": {},
     "output_type": "display_data"
    },
    {
     "data": {
      "text/plain": [
       "'1,3Ac2 449.229629 1 [161.70797]'"
      ]
     },
     "metadata": {},
     "output_type": "display_data"
    },
    {
     "data": {
      "text/plain": [
       "'2,4Ac2 449.229629 1 [161.70797]'"
      ]
     },
     "metadata": {},
     "output_type": "display_data"
    },
    {
     "data": {
      "text/plain": [
       "'Yc6 3095.544055 1 [344.042093]'"
      ]
     },
     "metadata": {},
     "output_type": "display_data"
    },
    {
     "data": {
      "image/svg+xml": [
       "<?xml version=\"1.0\" encoding=\"utf-8\" standalone=\"no\"?>\n",
       "<!DOCTYPE svg PUBLIC \"-//W3C//DTD SVG 1.1//EN\"\n",
       "  \"http://www.w3.org/Graphics/SVG/1.1/DTD/svg11.dtd\">\n",
       "<!-- Created with matplotlib (http://matplotlib.org/) -->\n",
       "<svg height=\"460pt\" version=\"1.1\" viewBox=\"0 0 684 460\" width=\"684pt\" xmlns=\"http://www.w3.org/2000/svg\" xmlns:xlink=\"http://www.w3.org/1999/xlink\">\n",
       " <defs>\n",
       "  <style type=\"text/css\">\n",
       "*{stroke-linecap:butt;stroke-linejoin:round;}\n",
       "  </style>\n",
       " </defs>\n",
       " <g id=\"figure_1\">\n",
       "  <g id=\"patch_1\">\n",
       "   <path d=\"\n",
       "M0 460.8\n",
       "L684 460.8\n",
       "L684 0\n",
       "L0 0\n",
       "L0 460.8\" style=\"fill:none;\"/>\n",
       "  </g>\n",
       "  <g id=\"axes_1\">\n",
       "   <g id=\"patch_2\">\n",
       "    <path d=\"\n",
       "M7.2 453.6\n",
       "L676.8 453.6\n",
       "L676.8 7.2\n",
       "L7.2 7.2\n",
       "L7.2 453.6\" style=\"fill:none;\"/>\n",
       "   </g>\n",
       "   <g id=\"line2d_1\">\n",
       "    <path clip-path=\"url(#p20201a9eeb)\" d=\"\n",
       "M231.813 285.147\n",
       "L176.719 285.147\" style=\"fill:none;stroke:#000000;stroke-linecap:square;\"/>\n",
       "   </g>\n",
       "   <g id=\"line2d_2\">\n",
       "    <path clip-path=\"url(#p20201a9eeb)\" d=\"\n",
       "M286.906 285.147\n",
       "L231.813 285.147\" style=\"fill:none;stroke:#000000;stroke-linecap:square;\"/>\n",
       "   </g>\n",
       "   <g id=\"line2d_3\">\n",
       "    <path clip-path=\"url(#p20201a9eeb)\" d=\"\n",
       "M342 285.147\n",
       "L286.906 285.147\" style=\"fill:none;stroke:#000000;stroke-linecap:square;\"/>\n",
       "   </g>\n",
       "   <g id=\"line2d_4\">\n",
       "    <path clip-path=\"url(#p20201a9eeb)\" d=\"\n",
       "M397.094 244.087\n",
       "L342 285.147\" style=\"fill:none;stroke:#000000;stroke-linecap:square;\"/>\n",
       "   </g>\n",
       "   <g id=\"line2d_5\">\n",
       "    <path clip-path=\"url(#p20201a9eeb)\" d=\"\n",
       "M231.813 230.4\n",
       "L176.719 230.4\" style=\"fill:none;stroke:#000000;stroke-linecap:square;\"/>\n",
       "   </g>\n",
       "   <g id=\"line2d_6\">\n",
       "    <path clip-path=\"url(#p20201a9eeb)\" d=\"\n",
       "M286.906 230.4\n",
       "L231.813 230.4\" style=\"fill:none;stroke:#000000;stroke-linecap:square;\"/>\n",
       "   </g>\n",
       "   <g id=\"line2d_7\">\n",
       "    <path clip-path=\"url(#p20201a9eeb)\" d=\"\n",
       "M342 203.026\n",
       "L286.906 230.4\" style=\"fill:none;stroke:#000000;stroke-linecap:square;\"/>\n",
       "   </g>\n",
       "   <g id=\"line2d_8\">\n",
       "    <path clip-path=\"url(#p20201a9eeb)\" d=\"\n",
       "M231.813 175.653\n",
       "L176.719 175.653\" style=\"fill:none;stroke:#000000;stroke-linecap:square;\"/>\n",
       "   </g>\n",
       "   <g id=\"line2d_9\">\n",
       "    <path clip-path=\"url(#p20201a9eeb)\" d=\"\n",
       "M286.906 175.653\n",
       "L231.813 175.653\" style=\"fill:none;stroke:#000000;stroke-linecap:square;\"/>\n",
       "   </g>\n",
       "   <g id=\"line2d_10\">\n",
       "    <path clip-path=\"url(#p20201a9eeb)\" d=\"\n",
       "M342 203.026\n",
       "L286.906 175.653\" style=\"fill:none;stroke:#000000;stroke-linecap:square;\"/>\n",
       "   </g>\n",
       "   <g id=\"line2d_11\">\n",
       "    <path clip-path=\"url(#p20201a9eeb)\" d=\"\n",
       "M397.094 244.087\n",
       "L342 203.026\" style=\"fill:none;stroke:#000000;stroke-linecap:square;\"/>\n",
       "   </g>\n",
       "   <g id=\"line2d_12\">\n",
       "    <path clip-path=\"url(#p20201a9eeb)\" d=\"\n",
       "M452.187 244.087\n",
       "L397.094 244.087\" style=\"fill:none;stroke:#000000;stroke-linecap:square;\"/>\n",
       "   </g>\n",
       "   <g id=\"line2d_13\">\n",
       "    <path clip-path=\"url(#p20201a9eeb)\" d=\"\n",
       "M507.281 244.087\n",
       "L452.187 244.087\" style=\"fill:none;stroke:#000000;stroke-linecap:square;\"/>\n",
       "   </g>\n",
       "   <g id=\"line2d_14\">\n",
       "    <path clip-path=\"url(#p20201a9eeb)\" d=\"\n",
       "M507.281 244.087\n",
       "L507.281 216.713\" style=\"fill:none;stroke:#000000;stroke-linecap:square;\"/>\n",
       "   </g>\n",
       "   <g id=\"RES-1b-o-dglc-HEX-0-0-1-aldi-2s-n-acetyl-LIN-1-1d-2+1-2n-1\">\n",
       "    <path clip-path=\"url(#p20201a9eeb)\" d=\"\n",
       "M515.757 235.664\n",
       "L515.757 252.509\n",
       "L498.805 252.509\n",
       "L498.805 235.664\n",
       "L515.757 235.664\n",
       "z\n",
       "\" style=\"fill:#0000ff;stroke:#000000;stroke-linejoin:miter;\"/>\n",
       "   </g>\n",
       "   <g id=\"RES-1b-b-dglc-HEX-1-5-2s-n-acetyl-LIN-1-1d-2+1-2n-2\">\n",
       "    <path clip-path=\"url(#p20201a9eeb)\" d=\"\n",
       "M460.663 235.664\n",
       "L460.663 252.509\n",
       "L443.711 252.509\n",
       "L443.711 235.664\n",
       "L460.663 235.664\n",
       "z\n",
       "\" style=\"fill:#0000ff;stroke:#000000;stroke-linejoin:miter;\"/>\n",
       "   </g>\n",
       "   <g id=\"RES-1b-b-dman-HEX-1-5-3\">\n",
       "    <path clip-path=\"url(#p20201a9eeb)\" d=\"\n",
       "M397.094 252.509\n",
       "C399.342 252.509 401.498 251.622 403.087 250.042\n",
       "C404.677 248.463 405.57 246.321 405.57 244.087\n",
       "C405.57 241.853 404.677 239.711 403.087 238.131\n",
       "C401.498 236.552 399.342 235.664 397.094 235.664\n",
       "C394.846 235.664 392.69 236.552 391.1 238.131\n",
       "C389.511 239.711 388.618 241.853 388.618 244.087\n",
       "C388.618 246.321 389.511 248.463 391.1 250.042\n",
       "C392.69 251.622 394.846 252.509 397.094 252.509\n",
       "z\n",
       "\" style=\"fill:#008000;stroke:#000000;stroke-linejoin:miter;\"/>\n",
       "   </g>\n",
       "   <g id=\"RES-1b-a-dman-HEX-1-5-11\">\n",
       "    <path clip-path=\"url(#p20201a9eeb)\" d=\"\n",
       "M342 293.57\n",
       "C344.248 293.57 346.404 292.682 347.993 291.103\n",
       "C349.583 289.523 350.476 287.381 350.476 285.147\n",
       "C350.476 282.913 349.583 280.771 347.993 279.191\n",
       "C346.404 277.612 344.248 276.725 342 276.725\n",
       "C339.752 276.725 337.596 277.612 336.007 279.191\n",
       "C334.417 280.771 333.524 282.913 333.524 285.147\n",
       "C333.524 287.381 334.417 289.523 336.007 291.103\n",
       "C337.596 292.682 339.752 293.57 342 293.57\n",
       "z\n",
       "\" style=\"fill:#008000;stroke:#000000;stroke-linejoin:miter;\"/>\n",
       "   </g>\n",
       "   <g id=\"RES-1b-b-dglc-HEX-1-5-2s-n-acetyl-LIN-1-1d-2+1-2n-12\">\n",
       "    <path clip-path=\"url(#p20201a9eeb)\" d=\"\n",
       "M295.382 276.725\n",
       "L295.382 293.57\n",
       "L278.43 293.57\n",
       "L278.43 276.725\n",
       "L295.382 276.725\n",
       "z\n",
       "\" style=\"fill:#0000ff;stroke:#000000;stroke-linejoin:miter;\"/>\n",
       "   </g>\n",
       "   <g id=\"RES-1b-b-dgal-HEX-1-5-13\">\n",
       "    <path clip-path=\"url(#p20201a9eeb)\" d=\"\n",
       "M231.813 293.57\n",
       "C234.061 293.57 236.217 292.682 237.806 291.103\n",
       "C239.396 289.523 240.289 287.381 240.289 285.147\n",
       "C240.289 282.913 239.396 280.771 237.806 279.191\n",
       "C236.217 277.612 234.061 276.725 231.813 276.725\n",
       "C229.565 276.725 227.409 277.612 225.819 279.191\n",
       "C224.23 280.771 223.337 282.913 223.337 285.147\n",
       "C223.337 287.381 224.23 289.523 225.819 291.103\n",
       "C227.409 292.682 229.565 293.57 231.813 293.57\n",
       "z\n",
       "\" style=\"fill:#ffff00;stroke:#000000;stroke-linejoin:miter;\"/>\n",
       "   </g>\n",
       "   <g id=\"RES-1b-a-dgro-dgal-NON-2-6-1-a-2-keto-3-d-2s-n-acetyl-LIN-1-1d-5+1-2n-14\">\n",
       "    <path clip-path=\"url(#p20201a9eeb)\" d=\"\n",
       "M176.719 276.725\n",
       "L168.243 285.147\n",
       "L176.719 293.57\n",
       "L185.195 285.147\n",
       "z\n",
       "\" style=\"fill:#800080;stroke:#000000;stroke-linejoin:miter;\"/>\n",
       "   </g>\n",
       "   <g id=\"RES-1b-a-dman-HEX-1-5-4\">\n",
       "    <path clip-path=\"url(#p20201a9eeb)\" d=\"\n",
       "M342 211.449\n",
       "C344.248 211.449 346.404 210.562 347.993 208.982\n",
       "C349.583 207.403 350.476 205.26 350.476 203.026\n",
       "C350.476 200.793 349.583 198.65 347.993 197.071\n",
       "C346.404 195.491 344.248 194.604 342 194.604\n",
       "C339.752 194.604 337.596 195.491 336.007 197.071\n",
       "C334.417 198.65 333.524 200.793 333.524 203.026\n",
       "C333.524 205.26 334.417 207.403 336.007 208.982\n",
       "C337.596 210.562 339.752 211.449 342 211.449\n",
       "z\n",
       "\" style=\"fill:#008000;stroke:#000000;stroke-linejoin:miter;\"/>\n",
       "   </g>\n",
       "   <g id=\"RES-1b-b-dglc-HEX-1-5-2s-n-acetyl-LIN-1-1d-2+1-2n-8\">\n",
       "    <path clip-path=\"url(#p20201a9eeb)\" d=\"\n",
       "M295.382 221.977\n",
       "L295.382 238.823\n",
       "L278.43 238.823\n",
       "L278.43 221.977\n",
       "L295.382 221.977\n",
       "z\n",
       "\" style=\"fill:#0000ff;stroke:#000000;stroke-linejoin:miter;\"/>\n",
       "   </g>\n",
       "   <g id=\"RES-1b-b-dgal-HEX-1-5-9\">\n",
       "    <path clip-path=\"url(#p20201a9eeb)\" d=\"\n",
       "M231.813 238.823\n",
       "C234.061 238.823 236.217 237.935 237.806 236.356\n",
       "C239.396 234.776 240.289 232.634 240.289 230.4\n",
       "C240.289 228.166 239.396 226.024 237.806 224.444\n",
       "C236.217 222.865 234.061 221.977 231.813 221.977\n",
       "C229.565 221.977 227.409 222.865 225.819 224.444\n",
       "C224.23 226.024 223.337 228.166 223.337 230.4\n",
       "C223.337 232.634 224.23 234.776 225.819 236.356\n",
       "C227.409 237.935 229.565 238.823 231.813 238.823\n",
       "z\n",
       "\" style=\"fill:#ffff00;stroke:#000000;stroke-linejoin:miter;\"/>\n",
       "   </g>\n",
       "   <g id=\"RES-1b-b-dgal-HEX-1-5-10\">\n",
       "    <path clip-path=\"url(#p20201a9eeb)\" d=\"\n",
       "M176.719 238.823\n",
       "C178.967 238.823 181.123 237.935 182.712 236.356\n",
       "C184.302 234.776 185.195 232.634 185.195 230.4\n",
       "C185.195 228.166 184.302 226.024 182.712 224.444\n",
       "C181.123 222.865 178.967 221.977 176.719 221.977\n",
       "C174.471 221.977 172.315 222.865 170.726 224.444\n",
       "C169.136 226.024 168.243 228.166 168.243 230.4\n",
       "C168.243 232.634 169.136 234.776 170.726 236.356\n",
       "C172.315 237.935 174.471 238.823 176.719 238.823\n",
       "z\n",
       "\" style=\"fill:#ffff00;stroke:#000000;stroke-linejoin:miter;\"/>\n",
       "   </g>\n",
       "   <g id=\"RES-1b-b-dglc-HEX-1-5-2s-n-acetyl-LIN-1-1d-2+1-2n-5\">\n",
       "    <path clip-path=\"url(#p20201a9eeb)\" d=\"\n",
       "M295.382 167.23\n",
       "L295.382 184.075\n",
       "L278.43 184.075\n",
       "L278.43 167.23\n",
       "L295.382 167.23\n",
       "z\n",
       "\" style=\"fill:#0000ff;stroke:#000000;stroke-linejoin:miter;\"/>\n",
       "   </g>\n",
       "   <g id=\"RES-1b-b-dgal-HEX-1-5-6\">\n",
       "    <path clip-path=\"url(#p20201a9eeb)\" d=\"\n",
       "M231.813 184.075\n",
       "C234.061 184.075 236.217 183.188 237.806 181.609\n",
       "C239.396 180.029 240.289 177.887 240.289 175.653\n",
       "C240.289 173.419 239.396 171.277 237.806 169.697\n",
       "C236.217 168.118 234.061 167.23 231.813 167.23\n",
       "C229.565 167.23 227.409 168.118 225.819 169.697\n",
       "C224.23 171.277 223.337 173.419 223.337 175.653\n",
       "C223.337 177.887 224.23 180.029 225.819 181.609\n",
       "C227.409 183.188 229.565 184.075 231.813 184.075\n",
       "z\n",
       "\" style=\"fill:#ffff00;stroke:#000000;stroke-linejoin:miter;\"/>\n",
       "   </g>\n",
       "   <g id=\"RES-1b-b-dgal-HEX-1-5-7\">\n",
       "    <path clip-path=\"url(#p20201a9eeb)\" d=\"\n",
       "M176.719 184.075\n",
       "C178.967 184.075 181.123 183.188 182.712 181.609\n",
       "C184.302 180.029 185.195 177.887 185.195 175.653\n",
       "C185.195 173.419 184.302 171.277 182.712 169.697\n",
       "C181.123 168.118 178.967 167.23 176.719 167.23\n",
       "C174.471 167.23 172.315 168.118 170.726 169.697\n",
       "C169.136 171.277 168.243 173.419 168.243 175.653\n",
       "C168.243 177.887 169.136 180.029 170.726 181.609\n",
       "C172.315 183.188 174.471 184.075 176.719 184.075\n",
       "z\n",
       "\" style=\"fill:#ffff00;stroke:#000000;stroke-linejoin:miter;\"/>\n",
       "   </g>\n",
       "   <g id=\"RES-1b-a-lgal-HEX-1-5-6-d-15\">\n",
       "    <path clip-path=\"url(#p20201a9eeb)\" d=\"\n",
       "M507.281 208.291\n",
       "L499.941 220.925\n",
       "L514.621 220.925\n",
       "z\n",
       "\" style=\"fill:#ff0000;stroke:#000000;stroke-linejoin:miter;\"/>\n",
       "   </g>\n",
       "   <g id=\"patch_3\">\n",
       "    <path d=\"\n",
       "M7.2 7.2\n",
       "L676.8 7.2\" style=\"fill:none;stroke:#000000;stroke-linecap:square;stroke-linejoin:miter;\"/>\n",
       "   </g>\n",
       "   <g id=\"patch_4\">\n",
       "    <path d=\"\n",
       "M676.8 453.6\n",
       "L676.8 7.2\" style=\"fill:none;stroke:#000000;stroke-linecap:square;stroke-linejoin:miter;\"/>\n",
       "   </g>\n",
       "   <g id=\"patch_5\">\n",
       "    <path d=\"\n",
       "M7.2 453.6\n",
       "L676.8 453.6\" style=\"fill:none;stroke:#000000;stroke-linecap:square;stroke-linejoin:miter;\"/>\n",
       "   </g>\n",
       "   <g id=\"patch_6\">\n",
       "    <path d=\"\n",
       "M7.2 453.6\n",
       "L7.2 7.2\" style=\"fill:none;stroke:#000000;stroke-linecap:square;stroke-linejoin:miter;\"/>\n",
       "   </g>\n",
       "   <g id=\"line2d_15\">\n",
       "    <path clip-path=\"url(#p20201a9eeb)\" d=\"\n",
       "M204.266 268.302\n",
       "L204.266 301.992\" style=\"fill:none;stroke:#ff0000;stroke-linecap:square;\"/>\n",
       "   </g>\n",
       "   <g id=\"line2d_16\">\n",
       "    <path clip-path=\"url(#p20201a9eeb)\" d=\"\n",
       "M214.861 268.302\n",
       "L248.765 301.992\" style=\"fill:none;stroke:#ff0000;stroke-linecap:square;\"/>\n",
       "   </g>\n",
       "   <g id=\"line2d_17\">\n",
       "    <path clip-path=\"url(#p20201a9eeb)\" d=\"\n",
       "M214.861 268.302\n",
       "L248.765 301.992\" style=\"fill:none;stroke:#ff0000;stroke-linecap:square;\"/>\n",
       "   </g>\n",
       "   <g id=\"line2d_18\">\n",
       "    <path clip-path=\"url(#p20201a9eeb)\" d=\"\n",
       "M204.266 268.302\n",
       "L204.266 301.992\" style=\"fill:none;stroke:#ff0000;stroke-linecap:square;\"/>\n",
       "   </g>\n",
       "  </g>\n",
       " </g>\n",
       " <defs>\n",
       "  <clipPath id=\"p20201a9eeb\">\n",
       "   <rect height=\"446.4\" width=\"669.6\" x=\"7.2\" y=\"7.2\"/>\n",
       "  </clipPath>\n",
       " </defs>\n",
       "</svg>\n"
      ],
      "text/plain": [
       "<matplotlib.figure.Figure at 0x1ffdc860>"
      ]
     },
     "metadata": {},
     "output_type": "display_data"
    }
   ],
   "source": [
    "i = 0\n",
    "while i < len(results):\n",
    "    \n",
    "    display( i, results[i].mass() )\n",
    "    s = results[i].structure.clone()\n",
    "    composition_transform.strip_derivitization(s)\n",
    "    dt, ax = plot.plot(s)\n",
    "    fmap = {f.name: f for f in results[i].fragments}\n",
    "    matches = sorted(results[i].matches, key=lambda x: x.mass)\n",
    "    display( \"Fragments Observed / Expected: %0.3f\" % (len(matches) / float(len(results[i].fragments))) )\n",
    "\n",
    "    for match in matches:\n",
    "        display(' '.join((match.match_key, \n",
    "                           str(match.mass), \n",
    "                           str(len(match.matches)),\n",
    "                           str([m.intensity for m in match.matches.values()]))\n",
    "                         ))\n",
    "        dt.draw_cleavage(ax, fmap[match.match_key])\n",
    "    fig = (ax.get_figure())\n",
    "    display(fig)\n",
    "    plt.close(fig)\n",
    "    i += 1"
   ]
  },
  {
   "cell_type": "code",
   "execution_count": 12,
   "metadata": {
    "collapsed": false,
    "scrolled": false
   },
   "outputs": [
    {
     "data": {
      "text/plain": [
       "[1673.935262, 161.70797, 161.70797, 344.042093]"
      ]
     },
     "execution_count": 12,
     "metadata": {},
     "output_type": "execute_result"
    }
   ],
   "source": [
    "[match.intensity for merge in matches for match in merge.matches.values()]"
   ]
  },
  {
   "cell_type": "code",
   "execution_count": null,
   "metadata": {
    "collapsed": false
   },
   "outputs": [],
   "source": []
  },
  {
   "cell_type": "code",
   "execution_count": null,
   "metadata": {
    "collapsed": false
   },
   "outputs": [],
   "source": []
  },
  {
   "cell_type": "code",
   "execution_count": null,
   "metadata": {
    "collapsed": false
   },
   "outputs": [],
   "source": []
  },
  {
   "cell_type": "code",
   "execution_count": null,
   "metadata": {
    "collapsed": false
   },
   "outputs": [],
   "source": []
  },
  {
   "cell_type": "code",
   "execution_count": null,
   "metadata": {
    "collapsed": true
   },
   "outputs": [],
   "source": []
  }
 ],
 "metadata": {
  "kernelspec": {
   "display_name": "Python 2",
   "language": "python",
   "name": "python2"
  },
  "language_info": {
   "codemirror_mode": {
    "name": "ipython",
    "version": 2
   },
   "file_extension": ".py",
   "mimetype": "text/x-python",
   "name": "python",
   "nbconvert_exporter": "python",
   "pygments_lexer": "ipython2",
   "version": "2.7.5"
  }
 },
 "nbformat": 4,
 "nbformat_minor": 0
}
